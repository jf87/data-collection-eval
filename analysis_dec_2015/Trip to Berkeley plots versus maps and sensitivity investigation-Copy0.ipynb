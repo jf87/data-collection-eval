{
 "metadata": {
  "name": "",
  "signature": "sha256:edbf185a13b7fe1398e1f953bd9dd31aedc2a7b4f6ee09a57624c297362d7113"
 },
 "nbformat": 3,
 "nbformat_minor": 0,
 "worksheets": [
  {
   "cells": [
    {
     "cell_type": "code",
     "collapsed": false,
     "input": [
      "import sys"
     ],
     "language": "python",
     "metadata": {},
     "outputs": [],
     "prompt_number": 1
    },
    {
     "cell_type": "code",
     "collapsed": false,
     "input": [
      "sys.path.insert(0, \"/Users/shankari/e-mission/e-mission-server/\")"
     ],
     "language": "python",
     "metadata": {},
     "outputs": [],
     "prompt_number": 2
    },
    {
     "cell_type": "code",
     "collapsed": false,
     "input": [
      "sys.path"
     ],
     "language": "python",
     "metadata": {},
     "outputs": [
      {
       "metadata": {},
       "output_type": "pyout",
       "prompt_number": 3,
       "text": [
        "['/Users/shankari/e-mission/e-mission-server/',\n",
        " '',\n",
        " '/Users/shankari/OSS/anaconda/lib/python2.7/site-packages/pygmaps-0.1.1-py2.7.egg',\n",
        " '/Users/shankari/bin/python',\n",
        " '/Users/shankari/e-mission/data-collection-eval/analysis_dec_2015',\n",
        " '/Users/shankari/OSS/anaconda/python.app/Contents/lib/python27.zip',\n",
        " '/Users/shankari/OSS/anaconda/python.app/Contents/lib/python2.7',\n",
        " '/Users/shankari/OSS/anaconda/python.app/Contents/lib/python2.7/plat-darwin',\n",
        " '/Users/shankari/OSS/anaconda/python.app/Contents/lib/python2.7/plat-mac',\n",
        " '/Users/shankari/OSS/anaconda/python.app/Contents/lib/python2.7/plat-mac/lib-scriptpackages',\n",
        " '/Users/shankari/OSS/anaconda/python.app/Contents/lib/python2.7/lib-tk',\n",
        " '/Users/shankari/OSS/anaconda/python.app/Contents/lib/python2.7/lib-old',\n",
        " '/Users/shankari/OSS/anaconda/python.app/Contents/lib/python2.7/lib-dynload',\n",
        " '/Users/shankari/OSS/anaconda/lib/python2.7/site-packages',\n",
        " '/Users/shankari/OSS/anaconda/lib/python2.7/site-packages/PIL',\n",
        " '/Users/shankari/OSS/anaconda/lib/python2.7/site-packages/runipy-0.1.0-py2.7.egg',\n",
        " '/Users/shankari/OSS/anaconda/lib/python2.7/site-packages/setuptools-18.4-py2.7.egg',\n",
        " '/Users/shankari/OSS/anaconda/lib/python2.7/site-packages/IPython/extensions']"
       ]
      }
     ],
     "prompt_number": 3
    },
    {
     "cell_type": "code",
     "collapsed": false,
     "input": [
      "import logging\n",
      "logging.getLogger().setLevel(logging.DEBUG)"
     ],
     "language": "python",
     "metadata": {},
     "outputs": [],
     "prompt_number": 4
    },
    {
     "cell_type": "code",
     "collapsed": false,
     "input": [
      "from uuid import UUID"
     ],
     "language": "python",
     "metadata": {},
     "outputs": [],
     "prompt_number": 5
    },
    {
     "cell_type": "code",
     "collapsed": false,
     "input": [
      "iphone_ids = [UUID(\"079e0f1a-c440-3d7c-b0e7-de160f748e35\"), UUID(\"c76a0487-7e5a-3b17-a449-47be666b36f6\"), UUID(\"c528bcd2-a88b-3e82-be62-ef4f2396967a\")]\n",
      "android_ids = [UUID(\"e471711e-bd14-3dbe-80b6-9c7d92ecc296\"), UUID(\"fd7b4c2e-2c8b-3bfa-94f0-d1e3ecbd5fb7\"), UUID(\"86842c35-da28-32ed-a90e-2da6663c5c73\")]"
     ],
     "language": "python",
     "metadata": {},
     "outputs": [],
     "prompt_number": 6
    },
    {
     "cell_type": "code",
     "collapsed": false,
     "input": [
      "import emission.core.get_database as edb"
     ],
     "language": "python",
     "metadata": {},
     "outputs": [],
     "prompt_number": 7
    },
    {
     "cell_type": "code",
     "collapsed": false,
     "input": [
      "edb.get_timeseries_db().find({'user_id': iphone_ids[0]}).count()"
     ],
     "language": "python",
     "metadata": {},
     "outputs": [
      {
       "metadata": {},
       "output_type": "pyout",
       "prompt_number": 8,
       "text": [
        "12203"
       ]
      }
     ],
     "prompt_number": 8
    },
    {
     "cell_type": "code",
     "collapsed": false,
     "input": [
      "edb.get_timeseries_db().find({'user_id': iphone_ids[0], 'metadata.key': 'background/location'}).count()"
     ],
     "language": "python",
     "metadata": {},
     "outputs": [
      {
       "metadata": {},
       "output_type": "pyout",
       "prompt_number": 9,
       "text": [
        "1702"
       ]
      }
     ],
     "prompt_number": 9
    },
    {
     "cell_type": "code",
     "collapsed": false,
     "input": [
      "import pandas as pd\n",
      "import emission.storage.timeseries.abstract_timeseries as esta\n",
      "import emission.net.usercache.abstract_usercache as enua\n",
      "import emission.analysis.intake.cleaning.location_smoothing as eaicl"
     ],
     "language": "python",
     "metadata": {},
     "outputs": [],
     "prompt_number": 10
    },
    {
     "cell_type": "code",
     "collapsed": false,
     "input": [
      "iphone_ts_list = [esta.TimeSeries.get_time_series(id) for id in iphone_ids]"
     ],
     "language": "python",
     "metadata": {},
     "outputs": [],
     "prompt_number": 11
    },
    {
     "cell_type": "code",
     "collapsed": false,
     "input": [
      "android_ts_list = [esta.TimeSeries.get_time_series(id) for id in android_ids]"
     ],
     "language": "python",
     "metadata": {},
     "outputs": [],
     "prompt_number": 12
    },
    {
     "cell_type": "code",
     "collapsed": false,
     "input": [
      "%matplotlib inline"
     ],
     "language": "python",
     "metadata": {},
     "outputs": [],
     "prompt_number": 13
    },
    {
     "cell_type": "code",
     "collapsed": false,
     "input": [
      "import datetime as pydt"
     ],
     "language": "python",
     "metadata": {},
     "outputs": [],
     "prompt_number": 14
    },
    {
     "cell_type": "heading",
     "level": 1,
     "metadata": {},
     "source": [
      "Common functions"
     ]
    },
    {
     "cell_type": "code",
     "collapsed": false,
     "input": [
      "import matplotlib.pyplot as plt\n",
      "import numpy as np"
     ],
     "language": "python",
     "metadata": {},
     "outputs": [],
     "prompt_number": 15
    },
    {
     "cell_type": "code",
     "collapsed": false,
     "input": [
      "def generate_fake_dataframe(start, end, fill_val):\n",
      "    x_axis = np.arange(start,end,30)\n",
      "    y_axis = np.array(len(x_axis))\n",
      "    y_axis.fill(fill_val)\n",
      "    print \"Fake data length = %d, fill_val = %d\" % (len(x_axis), fill_val)\n",
      "    # axes_array[i].set_xlim(start,end)\n",
      "    return pd.DataFrame({\"ts\": x_axis, \"latitude\": y_axis})"
     ],
     "language": "python",
     "metadata": {},
     "outputs": [],
     "prompt_number": 16
    },
    {
     "cell_type": "code",
     "collapsed": false,
     "input": [
      "def plot_for_transition(label, location_dfs, transition_dfs, axes_array, diff_axes_array, ground_truth_exit_ts, ground_truth_end_ts):\n",
      "    # Find the mean latitudes so that we can create a dummy dataframe when there is no data\n",
      "    lat_means = pd.Series(np.empty(len(location_dfs)))\n",
      "    print \"length of lat_means = %d\" % len(lat_means)\n",
      "    for i, df in enumerate(location_dfs):\n",
      "        if len(df) > 0:\n",
      "            lat_means[i] = df.latitude.mean()\n",
      "        \n",
      "    for i, df in enumerate(location_dfs):\n",
      "        print \"Considering phone %d\" % i\n",
      "        axes_array[i].axvline(x=ground_truth_exit_ts, linewidth=1, color=\"purple\")\n",
      "        axes_array[i].axvline(x=ground_truth_end_ts, linewidth=1, color=\"purple\")\n",
      "        axes_array[i].set_title(label + str(i))\n",
      "\n",
      "        transition_df = transition_dfs[i]\n",
      "        if len(df) == 0:\n",
      "            print \"No data to plot for dataframe %d\" % i\n",
      "            generate_fake_dataframe(ground_truth_exit_ts, ground_truth_end_ts, lat_means.mean()).plot(x=\"ts\", y=\"latitude\", kind=\"scatter\", ax=axes_array[i])\n",
      "            axes_array[i].annotate(\"No data for dataframe\", xy=(0.3, 0.5), xycoords='axes fraction', fontsize=12, color=\"red\")\n",
      "        else:\n",
      "            df[(df.ts > ground_truth_exit_ts) & (df.ts < ground_truth_end_ts)].plot(x=\"ts\", y=\"latitude\", kind=\"scatter\", ax=axes_array[i])\n",
      "            axes_array[i].axvline(x=ground_truth_exit_ts, linewidth=1, color=\"purple\")\n",
      "            if label.endswith(\"android\"):\n",
      "                diff_df = df[(df.ts > ground_truth_exit_ts) & (df.ts < ground_truth_end_ts)].ts.diff()\n",
      "                print diff_df[diff_df > 30].head()\n",
      "                diff_df.hist(ax=diff_axes_array[i])\n",
      "                diff_axes_array[i].set_title(\"histogram of time diffs\")\n",
      "            else:\n",
      "                assert(label.endswith(\"iphone\"))\n",
      "                with_distances = eaicl.add_dist_heading_speed(df)\n",
      "                with_distances.distance.diff().abs().hist(ax=diff_axes_array[i])\n",
      "                diff_axes_array[i].set_title(\"histogram of distance diffs\")\n",
      "\n",
      "\n",
      "        if len(transition_df) == 0 or np.count_nonzero(transition_df.transition == 1) == 0:\n",
      "            print(\"len(transition_df) = %d, ground_truth_exit_ts = %d, geofence was not exited!!\" % \n",
      "                  (len(transition_df), ground_truth_exit_ts))\n",
      "            axes_array[i].annotate(\"Geofence was not exited!\", xy=(0.3, 0.2), xycoords='axes fraction', fontsize=12, color=\"blue\")            \n",
      "        else:\n",
      "            trip_geofence_exit_entry = transition_df[transition_df.transition == 1].iloc[0]\n",
      "            trip_geofence_exit_ts = trip_geofence_exit_entry[\"ts\"]\n",
      "            axes_array[i].axvline(x=trip_geofence_exit_ts, linewidth=1, color=\"green\")\n",
      "            if len(df) > 0:\n",
      "                after_geofence_exit_points = df[(df.ts >= trip_geofence_exit_ts) & (df.ts <= ground_truth_end_ts)]\n",
      "                if len(after_geofence_exit_points) > 0:\n",
      "                    first_location_entry = after_geofence_exit_points.iloc[0]\n",
      "                    print(\"ground truth exit = %s, geofence_exit_ts = +%5f, first location point = +%5f\" %\n",
      "                          (pydt.datetime.fromtimestamp(ground_truth_exit_ts),\n",
      "                         (trip_geofence_exit_ts - ground_truth_exit_ts),\n",
      "                         (first_location_entry.ts - ground_truth_exit_ts)))"
     ],
     "language": "python",
     "metadata": {},
     "outputs": [],
     "prompt_number": 17
    },
    {
     "cell_type": "code",
     "collapsed": false,
     "input": [
      "def evaluate_trip_accuracy(label, start, end):\n",
      "    print \"Generating trip for %s\" % label\n",
      "    iphone_df_list = [ts.get_data_df(\"background/location\", enua.UserCache.TimeQuery(\"write_ts\", start, end)) for ts in iphone_ts_list]\n",
      "    android_df_list = [ts.get_data_df(\"background/location\", enua.UserCache.TimeQuery(\"write_ts\", start, end)) for ts in android_ts_list]\n",
      "    iphone_transition_df_list = [ts.get_data_df(\"statemachine/transition\", enua.UserCache.TimeQuery(\"write_ts\", start, end)) for ts in iphone_ts_list]\n",
      "    android_transition_df_list = [ts.get_data_df(\"statemachine/transition\", enua.UserCache.TimeQuery(\"write_ts\", start, end)) for ts in android_ts_list]\n",
      "    insert_transition_strings(iphone_transition_df_list)\n",
      "    insert_transition_strings(android_transition_df_list)\n",
      "    fig, axes = plt.subplots(nrows=2, ncols=3, figsize=(15,5), sharex=True, sharey=True)\n",
      "    diff_fig, diff_axes = plt.subplots(nrows=2, ncols=3, figsize=(15,5))\n",
      "    plot_for_transition(label + \" iphone\", iphone_df_list, iphone_transition_df_list, axes[0], diff_axes[0], start, end)\n",
      "    plot_for_transition(label + \" android\", android_df_list, android_transition_df_list, axes[1], diff_axes[1], start, end)\n",
      "    return fig, diff_fig"
     ],
     "language": "python",
     "metadata": {},
     "outputs": [],
     "prompt_number": 18
    },
    {
     "cell_type": "code",
     "collapsed": false,
     "input": [
      "import emission.core.wrapper.transition as ecwt"
     ],
     "language": "python",
     "metadata": {},
     "outputs": [],
     "prompt_number": 19
    },
    {
     "cell_type": "code",
     "collapsed": false,
     "input": [
      "def insert_transition_strings(df_list):\n",
      "    for df in df_list:\n",
      "        if len(df) > 0:\n",
      "            df[\"transition_str\"] = df.transition.map(lambda(tval): ecwt.TransitionType(tval))"
     ],
     "language": "python",
     "metadata": {},
     "outputs": [],
     "prompt_number": 20
    },
    {
     "cell_type": "heading",
     "level": 1,
     "metadata": {},
     "source": [
      "Determine transitions"
     ]
    },
    {
     "cell_type": "code",
     "collapsed": false,
     "input": [
      "all_iphone_transition_df = [ts.get_data_df(\"statemachine/transition\", enua.UserCache.TimeQuery(\"write_ts\", 1448956800, 1449043199)) for ts in iphone_ts_list]"
     ],
     "language": "python",
     "metadata": {},
     "outputs": [
      {
       "output_type": "stream",
       "stream": "stderr",
       "text": [
        "DEBUG:root:curr_query = {'$or': [{'metadata.key': 'statemachine/transition'}], 'metadata.write_ts': {'$gte': 1448956800, '$lt': 1449043199}, 'user_id': UUID('079e0f1a-c440-3d7c-b0e7-de160f748e35')}, sort_key = metadata.write_ts\n"
       ]
      },
      {
       "output_type": "stream",
       "stream": "stderr",
       "text": [
        "DEBUG:root:Found 0 results\n"
       ]
      },
      {
       "output_type": "stream",
       "stream": "stderr",
       "text": [
        "DEBUG:root:curr_query = {'$or': [{'metadata.key': 'statemachine/transition'}], 'metadata.write_ts': {'$gte': 1448956800, '$lt': 1449043199}, 'user_id': UUID('c76a0487-7e5a-3b17-a449-47be666b36f6')}, sort_key = metadata.write_ts\n"
       ]
      },
      {
       "output_type": "stream",
       "stream": "stderr",
       "text": [
        "DEBUG:root:Found 169 results\n"
       ]
      },
      {
       "output_type": "stream",
       "stream": "stderr",
       "text": [
        "DEBUG:root:curr_query = {'$or': [{'metadata.key': 'statemachine/transition'}], 'metadata.write_ts': {'$gte': 1448956800, '$lt': 1449043199}, 'user_id': UUID('c528bcd2-a88b-3e82-be62-ef4f2396967a')}, sort_key = metadata.write_ts\n"
       ]
      },
      {
       "output_type": "stream",
       "stream": "stderr",
       "text": [
        "DEBUG:root:Found 163 results\n"
       ]
      }
     ],
     "prompt_number": 21
    },
    {
     "cell_type": "code",
     "collapsed": false,
     "input": [
      "all_android_transition_df = [ts.get_data_df(\"statemachine/transition\", enua.UserCache.TimeQuery(\"write_ts\", 1448956800, 1449043199)) for ts in android_ts_list]"
     ],
     "language": "python",
     "metadata": {},
     "outputs": [
      {
       "output_type": "stream",
       "stream": "stderr",
       "text": [
        "DEBUG:root:curr_query = {'$or': [{'metadata.key': 'statemachine/transition'}], 'metadata.write_ts': {'$gte': 1448956800, '$lt': 1449043199}, 'user_id': UUID('e471711e-bd14-3dbe-80b6-9c7d92ecc296')}, sort_key = metadata.write_ts\n"
       ]
      },
      {
       "output_type": "stream",
       "stream": "stderr",
       "text": [
        "DEBUG:root:Found 30 results\n"
       ]
      },
      {
       "output_type": "stream",
       "stream": "stderr",
       "text": [
        "DEBUG:root:curr_query = {'$or': [{'metadata.key': 'statemachine/transition'}], 'metadata.write_ts': {'$gte': 1448956800, '$lt': 1449043199}, 'user_id': UUID('fd7b4c2e-2c8b-3bfa-94f0-d1e3ecbd5fb7')}, sort_key = metadata.write_ts\n"
       ]
      },
      {
       "output_type": "stream",
       "stream": "stderr",
       "text": [
        "DEBUG:root:Found 30 results\n"
       ]
      },
      {
       "output_type": "stream",
       "stream": "stderr",
       "text": [
        "DEBUG:root:curr_query = {'$or': [{'metadata.key': 'statemachine/transition'}], 'metadata.write_ts': {'$gte': 1448956800, '$lt': 1449043199}, 'user_id': UUID('86842c35-da28-32ed-a90e-2da6663c5c73')}, sort_key = metadata.write_ts\n"
       ]
      },
      {
       "output_type": "stream",
       "stream": "stderr",
       "text": [
        "DEBUG:root:Found 2 results\n"
       ]
      }
     ],
     "prompt_number": 22
    },
    {
     "cell_type": "code",
     "collapsed": false,
     "input": [
      "insert_transition_strings(all_iphone_transition_df + all_android_transition_df)"
     ],
     "language": "python",
     "metadata": {},
     "outputs": [],
     "prompt_number": 23
    },
    {
     "cell_type": "code",
     "collapsed": false,
     "input": [
      "for df in all_android_transition_df:\n",
      "    if len(df) > 0:\n",
      "        print df[(df.transition == 1) | (df.transition == 2)][[\"fmt_time\", \"transition_str\"]]"
     ],
     "language": "python",
     "metadata": {},
     "outputs": [
      {
       "output_type": "stream",
       "stream": "stdout",
       "text": [
        "                            fmt_time                  transition_str\n",
        "0   2015-12-01T08:19:53.533000-08:00  TransitionType.EXITED_GEOFENCE\n",
        "1   2015-12-01T08:33:40.344000-08:00   TransitionType.STOPPED_MOVING\n",
        "2   2015-12-01T08:39:15.876000-08:00  TransitionType.EXITED_GEOFENCE\n",
        "3   2015-12-01T08:54:41.624000-08:00   TransitionType.STOPPED_MOVING\n",
        "4   2015-12-01T09:00:49.253000-08:00  TransitionType.EXITED_GEOFENCE\n",
        "5   2015-12-01T09:18:03.065000-08:00   TransitionType.STOPPED_MOVING\n",
        "6   2015-12-01T09:34:31.046000-08:00  TransitionType.EXITED_GEOFENCE\n",
        "7   2015-12-01T09:53:23.482000-08:00   TransitionType.STOPPED_MOVING\n",
        "8   2015-12-01T09:55:27.076000-08:00  TransitionType.EXITED_GEOFENCE\n",
        "9   2015-12-01T11:02:37.879000-08:00   TransitionType.STOPPED_MOVING\n",
        "10  2015-12-01T11:03:12.987000-08:00  TransitionType.EXITED_GEOFENCE\n",
        "11  2015-12-01T12:20:57.788000-08:00   TransitionType.STOPPED_MOVING\n",
        "12  2015-12-01T12:51:38.309000-08:00  TransitionType.EXITED_GEOFENCE\n",
        "13  2015-12-01T12:59:09.296000-08:00   TransitionType.STOPPED_MOVING\n",
        "14  2015-12-01T14:36:00.527000-08:00  TransitionType.EXITED_GEOFENCE\n",
        "15  2015-12-01T14:41:34.986000-08:00   TransitionType.STOPPED_MOVING\n",
        "16  2015-12-01T15:38:33.537000-08:00  TransitionType.EXITED_GEOFENCE\n",
        "17  2015-12-01T15:53:23.377000-08:00   TransitionType.STOPPED_MOVING\n",
        "18  2015-12-01T17:50:03.673000-08:00  TransitionType.EXITED_GEOFENCE\n",
        "19  2015-12-01T17:57:44.380000-08:00   TransitionType.STOPPED_MOVING\n",
        "20  2015-12-01T17:59:47.429000-08:00  TransitionType.EXITED_GEOFENCE\n",
        "21  2015-12-01T19:01:34.739000-08:00   TransitionType.STOPPED_MOVING\n",
        "22  2015-12-01T19:11:25.312000-08:00  TransitionType.EXITED_GEOFENCE\n",
        "23  2015-12-01T19:22:38.175000-08:00   TransitionType.STOPPED_MOVING\n",
        "24  2015-12-01T19:22:39.923000-08:00  TransitionType.EXITED_GEOFENCE\n",
        "25  2015-12-01T19:28:45.397000-08:00   TransitionType.STOPPED_MOVING\n",
        "26  2015-12-01T19:28:46.724000-08:00  TransitionType.EXITED_GEOFENCE\n",
        "27  2015-12-01T19:36:12.125000-08:00   TransitionType.STOPPED_MOVING\n",
        "28  2015-12-01T19:40:59.525000-08:00  TransitionType.EXITED_GEOFENCE\n",
        "29  2015-12-01T20:56:47.250000-08:00   TransitionType.STOPPED_MOVING\n",
        "                            fmt_time                  transition_str\n",
        "0   2015-12-01T04:07:34.208000-08:00  TransitionType.EXITED_GEOFENCE\n",
        "1   2015-12-01T07:51:18.480000-08:00   TransitionType.STOPPED_MOVING\n",
        "2   2015-12-01T08:19:43.060000-08:00  TransitionType.EXITED_GEOFENCE\n",
        "3   2015-12-01T08:33:08.136000-08:00   TransitionType.STOPPED_MOVING\n",
        "4   2015-12-01T08:40:36.772000-08:00  TransitionType.EXITED_GEOFENCE\n",
        "5   2015-12-01T08:54:06.228000-08:00   TransitionType.STOPPED_MOVING\n",
        "6   2015-12-01T09:00:04.032000-08:00  TransitionType.EXITED_GEOFENCE\n",
        "7   2015-12-01T09:21:08.495000-08:00   TransitionType.STOPPED_MOVING\n",
        "8   2015-12-01T09:34:08.262000-08:00  TransitionType.EXITED_GEOFENCE\n",
        "9   2015-12-01T10:01:11.509000-08:00   TransitionType.STOPPED_MOVING\n",
        "10  2015-12-01T10:06:23.337000-08:00  TransitionType.EXITED_GEOFENCE\n",
        "11  2015-12-01T11:01:09.413000-08:00   TransitionType.STOPPED_MOVING\n",
        "12  2015-12-01T11:04:28.943000-08:00  TransitionType.EXITED_GEOFENCE\n",
        "13  2015-12-01T12:21:13.743000-08:00   TransitionType.STOPPED_MOVING\n",
        "14  2015-12-01T12:50:49.319000-08:00  TransitionType.EXITED_GEOFENCE\n",
        "15  2015-12-01T13:03:08.429000-08:00   TransitionType.STOPPED_MOVING\n",
        "16  2015-12-01T14:02:54.373000-08:00  TransitionType.EXITED_GEOFENCE\n",
        "17  2015-12-01T14:09:33.875000-08:00   TransitionType.STOPPED_MOVING\n",
        "18  2015-12-01T14:18:48.531000-08:00  TransitionType.EXITED_GEOFENCE\n",
        "19  2015-12-01T14:26:34.446000-08:00   TransitionType.STOPPED_MOVING\n",
        "20  2015-12-01T14:34:27.820000-08:00  TransitionType.EXITED_GEOFENCE\n",
        "21  2015-12-01T15:22:51.010000-08:00   TransitionType.STOPPED_MOVING\n",
        "22  2015-12-01T15:30:58.040000-08:00  TransitionType.EXITED_GEOFENCE\n",
        "23  2015-12-01T15:38:45.391000-08:00   TransitionType.STOPPED_MOVING\n",
        "24  2015-12-01T18:00:29.909000-08:00  TransitionType.EXITED_GEOFENCE\n",
        "25  2015-12-01T19:00:44.447000-08:00   TransitionType.STOPPED_MOVING\n",
        "26  2015-12-01T19:12:06.302000-08:00  TransitionType.EXITED_GEOFENCE\n",
        "27  2015-12-01T19:22:24.850000-08:00   TransitionType.STOPPED_MOVING\n",
        "28  2015-12-01T19:33:21.483000-08:00  TransitionType.EXITED_GEOFENCE\n",
        "29  2015-12-01T20:56:44.137000-08:00   TransitionType.STOPPED_MOVING\n",
        "                           fmt_time                  transition_str\n",
        "0  2015-12-01T08:19:27.667000-08:00  TransitionType.EXITED_GEOFENCE\n",
        "1  2015-12-01T09:34:00.630000-08:00  TransitionType.EXITED_GEOFENCE\n"
       ]
      }
     ],
     "prompt_number": 24
    },
    {
     "cell_type": "code",
     "collapsed": false,
     "input": [
      "for df in all_android_transition_df:\n",
      "    if len(df) > 0:\n",
      "        for idx, row in df[(df.transition == 1) | (df.transition == 2)].iterrows():\n",
      "            print row[\"fmt_time\"], row[\"ts\"]"
     ],
     "language": "python",
     "metadata": {},
     "outputs": [
      {
       "output_type": "stream",
       "stream": "stdout",
       "text": [
        "2015-12-01T08:19:53.533000-08:00 1448986793.53\n",
        "2015-12-01T08:33:40.344000-08:00 1448987620.34\n",
        "2015-12-01T08:39:15.876000-08:00 1448987955.88\n",
        "2015-12-01T08:54:41.624000-08:00 1448988881.62\n",
        "2015-12-01T09:00:49.253000-08:00 1448989249.25\n",
        "2015-12-01T09:18:03.065000-08:00 1448990283.07\n",
        "2015-12-01T09:34:31.046000-08:00 1448991271.05\n",
        "2015-12-01T09:53:23.482000-08:00 1448992403.48\n",
        "2015-12-01T09:55:27.076000-08:00 1448992527.08\n",
        "2015-12-01T11:02:37.879000-08:00 1448996557.88\n",
        "2015-12-01T11:03:12.987000-08:00 1448996592.99\n",
        "2015-12-01T12:20:57.788000-08:00 1449001257.79\n",
        "2015-12-01T12:51:38.309000-08:00 1449003098.31\n",
        "2015-12-01T12:59:09.296000-08:00 1449003549.3\n",
        "2015-12-01T14:36:00.527000-08:00 1449009360.53\n",
        "2015-12-01T14:41:34.986000-08:00 1449009694.99\n",
        "2015-12-01T15:38:33.537000-08:00 1449013113.54\n",
        "2015-12-01T15:53:23.377000-08:00 1449014003.38\n",
        "2015-12-01T17:50:03.673000-08:00 1449021003.67\n",
        "2015-12-01T17:57:44.380000-08:00 1449021464.38\n",
        "2015-12-01T17:59:47.429000-08:00 1449021587.43\n",
        "2015-12-01T19:01:34.739000-08:00 1449025294.74\n",
        "2015-12-01T19:11:25.312000-08:00 1449025885.31\n",
        "2015-12-01T19:22:38.175000-08:00 1449026558.17\n",
        "2015-12-01T19:22:39.923000-08:00 1449026559.92\n",
        "2015-12-01T19:28:45.397000-08:00 1449026925.4\n",
        "2015-12-01T19:28:46.724000-08:00 1449026926.72\n",
        "2015-12-01T19:36:12.125000-08:00 1449027372.12\n",
        "2015-12-01T19:40:59.525000-08:00 1449027659.53\n",
        "2015-12-01T20:56:47.250000-08:00 1449032207.25\n",
        "2015-12-01T04:07:34.208000-08:00 1448971654.21\n",
        "2015-12-01T07:51:18.480000-08:00 1448985078.48\n",
        "2015-12-01T08:19:43.060000-08:00 1448986783.06\n",
        "2015-12-01T08:33:08.136000-08:00 1448987588.14\n",
        "2015-12-01T08:40:36.772000-08:00 1448988036.77\n",
        "2015-12-01T08:54:06.228000-08:00 1448988846.23\n",
        "2015-12-01T09:00:04.032000-08:00 1448989204.03\n",
        "2015-12-01T09:21:08.495000-08:00 1448990468.49\n",
        "2015-12-01T09:34:08.262000-08:00 1448991248.26\n",
        "2015-12-01T10:01:11.509000-08:00 1448992871.51\n",
        "2015-12-01T10:06:23.337000-08:00 1448993183.34\n",
        "2015-12-01T11:01:09.413000-08:00 1448996469.41\n",
        "2015-12-01T11:04:28.943000-08:00 1448996668.94\n",
        "2015-12-01T12:21:13.743000-08:00 1449001273.74\n",
        "2015-12-01T12:50:49.319000-08:00 1449003049.32\n",
        "2015-12-01T13:03:08.429000-08:00 1449003788.43\n",
        "2015-12-01T14:02:54.373000-08:00 1449007374.37\n",
        "2015-12-01T14:09:33.875000-08:00 1449007773.88\n",
        "2015-12-01T14:18:48.531000-08:00 1449008328.53\n",
        "2015-12-01T14:26:34.446000-08:00 1449008794.45\n",
        "2015-12-01T14:34:27.820000-08:00 1449009267.82\n",
        "2015-12-01T15:22:51.010000-08:00 1449012171.01\n",
        "2015-12-01T15:30:58.040000-08:00 1449012658.04\n",
        "2015-12-01T15:38:45.391000-08:00 1449013125.39\n",
        "2015-12-01T18:00:29.909000-08:00 1449021629.91\n",
        "2015-12-01T19:00:44.447000-08:00 1449025244.45\n",
        "2015-12-01T19:12:06.302000-08:00 1449025926.3\n",
        "2015-12-01T19:22:24.850000-08:00 1449026544.85\n",
        "2015-12-01T19:33:21.483000-08:00 1449027201.48\n",
        "2015-12-01T20:56:44.137000-08:00 1449032204.14\n",
        "2015-12-01T08:19:27.667000-08:00 1448986767.67\n",
        "2015-12-01T09:34:00.630000-08:00 1448991240.63\n"
       ]
      }
     ],
     "prompt_number": 25
    },
    {
     "cell_type": "code",
     "collapsed": false,
     "input": [
      "for df in all_iphone_transition_df:\n",
      "    if len(df) > 0:\n",
      "        print df[(df.transition == 1) | (df.transition == 2)][[\"fmt_time\", \"transition_str\"]]"
     ],
     "language": "python",
     "metadata": {},
     "outputs": [
      {
       "output_type": "stream",
       "stream": "stdout",
       "text": [
        "                             fmt_time                  transition_str\n",
        "36   2015-12-01T08:24:48.978104-08:00  TransitionType.EXITED_GEOFENCE\n",
        "37   2015-12-01T08:24:48.978104-08:00  TransitionType.EXITED_GEOFENCE\n",
        "38   2015-12-01T08:24:48.978104-08:00  TransitionType.EXITED_GEOFENCE\n",
        "39   2015-12-01T08:24:48.978104-08:00  TransitionType.EXITED_GEOFENCE\n",
        "60   2015-12-01T09:00:04.999462-08:00   TransitionType.STOPPED_MOVING\n",
        "61   2015-12-01T09:00:04.999462-08:00   TransitionType.STOPPED_MOVING\n",
        "62   2015-12-01T09:00:04.999462-08:00   TransitionType.STOPPED_MOVING\n",
        "63   2015-12-01T09:00:04.999462-08:00   TransitionType.STOPPED_MOVING\n",
        "64   2015-12-01T09:00:05.270653-08:00   TransitionType.STOPPED_MOVING\n",
        "65   2015-12-01T09:00:05.270653-08:00   TransitionType.STOPPED_MOVING\n",
        "66   2015-12-01T09:00:05.270653-08:00   TransitionType.STOPPED_MOVING\n",
        "67   2015-12-01T09:11:18.533588-08:00  TransitionType.EXITED_GEOFENCE\n",
        "116  2015-12-01T14:00:05.121943-08:00   TransitionType.STOPPED_MOVING\n",
        "117  2015-12-01T14:00:05.121943-08:00   TransitionType.STOPPED_MOVING\n",
        "118  2015-12-01T14:00:05.121943-08:00   TransitionType.STOPPED_MOVING\n",
        "119  2015-12-01T14:00:05.121943-08:00   TransitionType.STOPPED_MOVING\n",
        "120  2015-12-01T14:00:05.121943-08:00   TransitionType.STOPPED_MOVING\n",
        "121  2015-12-01T14:00:05.121943-08:00   TransitionType.STOPPED_MOVING\n",
        "122  2015-12-01T14:00:05.427289-08:00   TransitionType.STOPPED_MOVING\n",
        "123  2015-12-01T14:00:05.427289-08:00   TransitionType.STOPPED_MOVING\n",
        "124  2015-12-01T14:00:05.427289-08:00   TransitionType.STOPPED_MOVING\n",
        "125  2015-12-01T14:00:05.427289-08:00   TransitionType.STOPPED_MOVING\n",
        "126  2015-12-01T14:00:05.427289-08:00   TransitionType.STOPPED_MOVING\n",
        "136  2015-12-01T18:00:51.414448-08:00  TransitionType.EXITED_GEOFENCE\n",
        "137  2015-12-01T18:00:51.414448-08:00  TransitionType.EXITED_GEOFENCE\n",
        "138  2015-12-01T18:00:51.414448-08:00  TransitionType.EXITED_GEOFENCE\n",
        "164  2015-12-01T22:00:07.064900-08:00   TransitionType.STOPPED_MOVING\n",
        "165  2015-12-01T22:00:07.064900-08:00   TransitionType.STOPPED_MOVING\n",
        "166  2015-12-01T22:00:07.064900-08:00   TransitionType.STOPPED_MOVING\n",
        "167  2015-12-01T22:00:07.438925-08:00   TransitionType.STOPPED_MOVING\n",
        "168  2015-12-01T22:00:07.438925-08:00   TransitionType.STOPPED_MOVING\n",
        "                             fmt_time                  transition_str\n",
        "34   2015-12-01T08:24:14.776468-08:00  TransitionType.EXITED_GEOFENCE\n",
        "35   2015-12-01T08:24:14.776468-08:00  TransitionType.EXITED_GEOFENCE\n",
        "36   2015-12-01T08:24:14.776468-08:00  TransitionType.EXITED_GEOFENCE\n",
        "37   2015-12-01T08:24:14.776468-08:00  TransitionType.EXITED_GEOFENCE\n",
        "67   2015-12-01T09:00:05.751771-08:00   TransitionType.STOPPED_MOVING\n",
        "68   2015-12-01T09:00:05.751771-08:00   TransitionType.STOPPED_MOVING\n",
        "69   2015-12-01T09:00:05.751771-08:00   TransitionType.STOPPED_MOVING\n",
        "70   2015-12-01T09:00:05.751771-08:00   TransitionType.STOPPED_MOVING\n",
        "71   2015-12-01T09:00:05.751771-08:00   TransitionType.STOPPED_MOVING\n",
        "72   2015-12-01T09:00:05.751771-08:00   TransitionType.STOPPED_MOVING\n",
        "73   2015-12-01T09:00:06.001468-08:00   TransitionType.STOPPED_MOVING\n",
        "74   2015-12-01T09:00:06.001468-08:00   TransitionType.STOPPED_MOVING\n",
        "75   2015-12-01T09:00:06.001468-08:00   TransitionType.STOPPED_MOVING\n",
        "76   2015-12-01T09:00:06.001468-08:00   TransitionType.STOPPED_MOVING\n",
        "77   2015-12-01T09:10:42.719277-08:00  TransitionType.EXITED_GEOFENCE\n",
        "78   2015-12-01T09:10:42.719277-08:00  TransitionType.EXITED_GEOFENCE\n",
        "79   2015-12-01T09:10:42.719277-08:00  TransitionType.EXITED_GEOFENCE\n",
        "80   2015-12-01T09:10:42.719277-08:00  TransitionType.EXITED_GEOFENCE\n",
        "105  2015-12-01T10:00:05.376330-08:00   TransitionType.STOPPED_MOVING\n",
        "106  2015-12-01T10:00:05.376330-08:00   TransitionType.STOPPED_MOVING\n",
        "107  2015-12-01T10:00:05.376330-08:00   TransitionType.STOPPED_MOVING\n",
        "108  2015-12-01T10:00:05.376330-08:00   TransitionType.STOPPED_MOVING\n",
        "109  2015-12-01T10:00:06.017922-08:00   TransitionType.STOPPED_MOVING\n",
        "110  2015-12-01T10:00:06.017922-08:00   TransitionType.STOPPED_MOVING\n",
        "111  2015-12-01T10:00:06.017922-08:00   TransitionType.STOPPED_MOVING\n",
        "112  2015-12-01T10:12:33.791228-08:00  TransitionType.EXITED_GEOFENCE\n",
        "130  2015-12-01T14:00:05.246277-08:00   TransitionType.STOPPED_MOVING\n",
        "131  2015-12-01T14:00:05.246277-08:00   TransitionType.STOPPED_MOVING\n",
        "132  2015-12-01T14:00:05.246277-08:00   TransitionType.STOPPED_MOVING\n",
        "133  2015-12-01T14:00:05.525398-08:00   TransitionType.STOPPED_MOVING\n",
        "134  2015-12-01T14:00:05.525398-08:00   TransitionType.STOPPED_MOVING\n",
        "139  2015-12-01T18:01:05.522071-08:00  TransitionType.EXITED_GEOFENCE\n",
        "159  2015-12-01T22:00:07.083668-08:00   TransitionType.STOPPED_MOVING\n",
        "160  2015-12-01T22:00:07.083668-08:00   TransitionType.STOPPED_MOVING\n",
        "161  2015-12-01T22:00:07.391804-08:00   TransitionType.STOPPED_MOVING\n",
        "162  2015-12-01T22:00:07.391804-08:00   TransitionType.STOPPED_MOVING\n"
       ]
      }
     ],
     "prompt_number": 26
    },
    {
     "cell_type": "markdown",
     "metadata": {},
     "source": [
      "So trips are:\n",
      "- School to train stn:\n",
      " - 2015-12-01T08:18:30.533000-08:00, 1448986710 (no ground truth)\n",
      " - 2015-12-01T08:49:35.140000-08:00, 1448988575\n",
      "- Train station to home to train station:\n",
      " - 2015-12-01T09:04:27-08:00, 1448989467\n",
      " - 2015-12-01T09:40:21-08:00, 1448991621\n",
      "- Train station to Soda:\n",
      " - 2015-12-01T10:11:18-08:00, 1448993478\n",
      " - 2015-12-01T12:20:57.788000-08:00 1449001257.79 (no ground truth)\n",
      "- Soda to home: \n",
      " - 2015-12-01T17:57:53-08:00, 1449021473\n",
      " - 2015-12-01T20:56:47.250000-08:00 1449032207.25 (no ground truth)"
     ]
    },
    {
     "cell_type": "code",
     "collapsed": false,
     "input": [
      "# And in code:\n",
      "trips_list = [[\"school_to_train\", 1448986710, 1448988575],\n",
      "              [\"train_home_train\", 1448989467, 1448991621],\n",
      "              [\"train_to_soda\", 1448993478, 1449001257.79],\n",
      "              [\"soda_to_home\", 1449021473, 1449032207.25]\n",
      "]"
     ],
     "language": "python",
     "metadata": {},
     "outputs": [],
     "prompt_number": 27
    },
    {
     "cell_type": "markdown",
     "metadata": {},
     "source": [
      "Phones had different geofence radii - 100m, 50m and 5m. The tracking regime was the same - 100m, kCLLocationAccuracyHundredMeters.\n",
      "* Looks like fine tracking never restarted for phone1.\n",
      "* phone3 is weird. It looks like it has coarse tracking until around the corner of Covington and Miramonte and then it gets fine?!"
     ]
    },
    {
     "cell_type": "code",
     "collapsed": false,
     "input": [
      "for label, start, end in trips_list:\n",
      "    evaluate_trip_accuracy(label, start, end)"
     ],
     "language": "python",
     "metadata": {},
     "outputs": [
      {
       "output_type": "stream",
       "stream": "stderr",
       "text": [
        "DEBUG:root:curr_query = {'$or': [{'metadata.key': 'background/location'}], 'metadata.write_ts': {'$gte': 1448986710, '$lt': 1448988575}, 'user_id': UUID('079e0f1a-c440-3d7c-b0e7-de160f748e35')}, sort_key = metadata.write_ts\n"
       ]
      },
      {
       "output_type": "stream",
       "stream": "stderr",
       "text": [
        "DEBUG:root:Found 33 results\n"
       ]
      },
      {
       "output_type": "stream",
       "stream": "stderr",
       "text": [
        "DEBUG:root:curr_query = {'$or': [{'metadata.key': 'background/location'}], 'metadata.write_ts': {'$gte': 1448986710, '$lt': 1448988575}, 'user_id': UUID('c76a0487-7e5a-3b17-a449-47be666b36f6')}, sort_key = metadata.write_ts\n"
       ]
      },
      {
       "output_type": "stream",
       "stream": "stderr",
       "text": [
        "DEBUG:root:Found 99 results\n"
       ]
      },
      {
       "output_type": "stream",
       "stream": "stderr",
       "text": [
        "DEBUG:root:curr_query = {'$or': [{'metadata.key': 'background/location'}], 'metadata.write_ts': {'$gte': 1448986710, '$lt': 1448988575}, 'user_id': UUID('c528bcd2-a88b-3e82-be62-ef4f2396967a')}, sort_key = metadata.write_ts\n"
       ]
      },
      {
       "output_type": "stream",
       "stream": "stderr",
       "text": [
        "DEBUG:root:Found 147 results\n"
       ]
      },
      {
       "output_type": "stream",
       "stream": "stderr",
       "text": [
        "DEBUG:root:curr_query = {'$or': [{'metadata.key': 'background/location'}], 'metadata.write_ts': {'$gte': 1448986710, '$lt': 1448988575}, 'user_id': UUID('e471711e-bd14-3dbe-80b6-9c7d92ecc296')}, sort_key = metadata.write_ts\n"
       ]
      },
      {
       "output_type": "stream",
       "stream": "stderr",
       "text": [
        "DEBUG:root:Found 45 results\n"
       ]
      },
      {
       "output_type": "stream",
       "stream": "stderr",
       "text": [
        "DEBUG:root:curr_query = {'$or': [{'metadata.key': 'background/location'}], 'metadata.write_ts': {'$gte': 1448986710, '$lt': 1448988575}, 'user_id': UUID('fd7b4c2e-2c8b-3bfa-94f0-d1e3ecbd5fb7')}, sort_key = metadata.write_ts\n"
       ]
      },
      {
       "output_type": "stream",
       "stream": "stderr",
       "text": [
        "DEBUG:root:Found 46 results\n"
       ]
      },
      {
       "output_type": "stream",
       "stream": "stderr",
       "text": [
        "DEBUG:root:curr_query = {'$or': [{'metadata.key': 'background/location'}], 'metadata.write_ts': {'$gte': 1448986710, '$lt': 1448988575}, 'user_id': UUID('86842c35-da28-32ed-a90e-2da6663c5c73')}, sort_key = metadata.write_ts\n"
       ]
      },
      {
       "output_type": "stream",
       "stream": "stderr",
       "text": [
        "DEBUG:root:Found 61 results\n"
       ]
      },
      {
       "output_type": "stream",
       "stream": "stderr",
       "text": [
        "DEBUG:root:curr_query = {'$or': [{'metadata.key': 'statemachine/transition'}], 'metadata.write_ts': {'$gte': 1448986710, '$lt': 1448988575}, 'user_id': UUID('079e0f1a-c440-3d7c-b0e7-de160f748e35')}, sort_key = metadata.write_ts\n"
       ]
      },
      {
       "output_type": "stream",
       "stream": "stderr",
       "text": [
        "DEBUG:root:Found 0 results\n"
       ]
      },
      {
       "output_type": "stream",
       "stream": "stderr",
       "text": [
        "DEBUG:root:curr_query = {'$or': [{'metadata.key': 'statemachine/transition'}], 'metadata.write_ts': {'$gte': 1448986710, '$lt': 1448988575}, 'user_id': UUID('c76a0487-7e5a-3b17-a449-47be666b36f6')}, sort_key = metadata.write_ts\n"
       ]
      },
      {
       "output_type": "stream",
       "stream": "stderr",
       "text": [
        "DEBUG:root:Found 12 results\n"
       ]
      },
      {
       "output_type": "stream",
       "stream": "stderr",
       "text": [
        "DEBUG:root:curr_query = {'$or': [{'metadata.key': 'statemachine/transition'}], 'metadata.write_ts': {'$gte': 1448986710, '$lt': 1448988575}, 'user_id': UUID('c528bcd2-a88b-3e82-be62-ef4f2396967a')}, sort_key = metadata.write_ts\n"
       ]
      },
      {
       "output_type": "stream",
       "stream": "stderr",
       "text": [
        "DEBUG:root:Found 12 results\n"
       ]
      },
      {
       "output_type": "stream",
       "stream": "stderr",
       "text": [
        "DEBUG:root:curr_query = {'$or': [{'metadata.key': 'statemachine/transition'}], 'metadata.write_ts': {'$gte': 1448986710, '$lt': 1448988575}, 'user_id': UUID('e471711e-bd14-3dbe-80b6-9c7d92ecc296')}, sort_key = metadata.write_ts\n"
       ]
      },
      {
       "output_type": "stream",
       "stream": "stderr",
       "text": [
        "DEBUG:root:Found 3 results\n"
       ]
      },
      {
       "output_type": "stream",
       "stream": "stderr",
       "text": [
        "DEBUG:root:curr_query = {'$or': [{'metadata.key': 'statemachine/transition'}], 'metadata.write_ts': {'$gte': 1448986710, '$lt': 1448988575}, 'user_id': UUID('fd7b4c2e-2c8b-3bfa-94f0-d1e3ecbd5fb7')}, sort_key = metadata.write_ts\n"
       ]
      },
      {
       "output_type": "stream",
       "stream": "stderr",
       "text": [
        "DEBUG:root:Found 3 results\n"
       ]
      },
      {
       "output_type": "stream",
       "stream": "stderr",
       "text": [
        "DEBUG:root:curr_query = {'$or': [{'metadata.key': 'statemachine/transition'}], 'metadata.write_ts': {'$gte': 1448986710, '$lt': 1448988575}, 'user_id': UUID('86842c35-da28-32ed-a90e-2da6663c5c73')}, sort_key = metadata.write_ts\n"
       ]
      },
      {
       "output_type": "stream",
       "stream": "stderr",
       "text": [
        "DEBUG:root:Found 1 results\n"
       ]
      },
      {
       "output_type": "stream",
       "stream": "stdout",
       "text": [
        "Generating trip for school_to_train\n",
        "length of lat_means = 3"
       ]
      },
      {
       "output_type": "stream",
       "stream": "stdout",
       "text": [
        "\n",
        "Considering phone 0\n",
        "len(transition_df) = 0, ground_truth_exit_ts = 1448986710, geofence was not exited!!"
       ]
      },
      {
       "output_type": "stream",
       "stream": "stderr",
       "text": [
        "DEBUG:root:timeDelta = 0, distanceDelta = %s, returning speed = 0\n"
       ]
      },
      {
       "output_type": "stream",
       "stream": "stderr",
       "text": [
        "DEBUG:root:timeDelta = 0, distanceDelta = %s, returning speed = 0\n"
       ]
      },
      {
       "output_type": "stream",
       "stream": "stderr",
       "text": [
        "DEBUG:root:timeDelta = 0, distanceDelta = %s, returning speed = 0\n"
       ]
      },
      {
       "output_type": "stream",
       "stream": "stderr",
       "text": [
        "DEBUG:root:timeDelta = 0, distanceDelta = %s, returning speed = 0\n"
       ]
      },
      {
       "output_type": "stream",
       "stream": "stderr",
       "text": [
        "DEBUG:root:timeDelta = 0, distanceDelta = %s, returning speed = 0\n"
       ]
      },
      {
       "output_type": "stream",
       "stream": "stderr",
       "text": [
        "DEBUG:root:timeDelta = 0, distanceDelta = %s, returning speed = 0\n"
       ]
      },
      {
       "output_type": "stream",
       "stream": "stderr",
       "text": [
        "DEBUG:root:timeDelta = 0, distanceDelta = %s, returning speed = 0\n"
       ]
      },
      {
       "output_type": "stream",
       "stream": "stderr",
       "text": [
        "DEBUG:root:timeDelta = 0, distanceDelta = %s, returning speed = 0\n"
       ]
      },
      {
       "output_type": "stream",
       "stream": "stderr",
       "text": [
        "DEBUG:root:timeDelta = 0, distanceDelta = %s, returning speed = 0\n"
       ]
      },
      {
       "output_type": "stream",
       "stream": "stderr",
       "text": [
        "DEBUG:root:timeDelta = 0, distanceDelta = %s, returning speed = 0\n"
       ]
      },
      {
       "output_type": "stream",
       "stream": "stderr",
       "text": [
        "DEBUG:root:timeDelta = 0, distanceDelta = %s, returning speed = 0\n"
       ]
      },
      {
       "output_type": "stream",
       "stream": "stderr",
       "text": [
        "DEBUG:root:timeDelta = 0, distanceDelta = %s, returning speed = 0\n"
       ]
      },
      {
       "output_type": "stream",
       "stream": "stderr",
       "text": [
        "DEBUG:root:timeDelta = 0, distanceDelta = %s, returning speed = 0\n"
       ]
      },
      {
       "output_type": "stream",
       "stream": "stderr",
       "text": [
        "DEBUG:root:timeDelta = 0, distanceDelta = %s, returning speed = 0\n"
       ]
      },
      {
       "output_type": "stream",
       "stream": "stderr",
       "text": [
        "DEBUG:root:timeDelta = 0, distanceDelta = %s, returning speed = 0\n"
       ]
      },
      {
       "output_type": "stream",
       "stream": "stderr",
       "text": [
        "DEBUG:root:timeDelta = 0, distanceDelta = %s, returning speed = 0\n"
       ]
      },
      {
       "output_type": "stream",
       "stream": "stderr",
       "text": [
        "DEBUG:root:timeDelta = 0, distanceDelta = %s, returning speed = 0\n"
       ]
      },
      {
       "output_type": "stream",
       "stream": "stderr",
       "text": [
        "DEBUG:root:timeDelta = 0, distanceDelta = %s, returning speed = 0\n"
       ]
      },
      {
       "output_type": "stream",
       "stream": "stderr",
       "text": [
        "DEBUG:root:timeDelta = 0, distanceDelta = %s, returning speed = 0\n"
       ]
      },
      {
       "output_type": "stream",
       "stream": "stderr",
       "text": [
        "DEBUG:root:timeDelta = 0, distanceDelta = %s, returning speed = 0\n"
       ]
      },
      {
       "output_type": "stream",
       "stream": "stderr",
       "text": [
        "DEBUG:root:timeDelta = 0, distanceDelta = %s, returning speed = 0\n"
       ]
      },
      {
       "output_type": "stream",
       "stream": "stderr",
       "text": [
        "DEBUG:root:timeDelta = 0, distanceDelta = %s, returning speed = 0\n"
       ]
      },
      {
       "output_type": "stream",
       "stream": "stderr",
       "text": [
        "DEBUG:root:timeDelta = 0, distanceDelta = %s, returning speed = 0\n"
       ]
      },
      {
       "output_type": "stream",
       "stream": "stderr",
       "text": [
        "DEBUG:root:timeDelta = 0, distanceDelta = %s, returning speed = 0\n"
       ]
      },
      {
       "output_type": "stream",
       "stream": "stderr",
       "text": [
        "DEBUG:root:timeDelta = 0, distanceDelta = %s, returning speed = 0\n"
       ]
      },
      {
       "output_type": "stream",
       "stream": "stderr",
       "text": [
        "DEBUG:root:timeDelta = 0, distanceDelta = %s, returning speed = 0\n"
       ]
      },
      {
       "output_type": "stream",
       "stream": "stderr",
       "text": [
        "DEBUG:root:timeDelta = 0, distanceDelta = %s, returning speed = 0\n"
       ]
      },
      {
       "output_type": "stream",
       "stream": "stderr",
       "text": [
        "DEBUG:root:timeDelta = 0, distanceDelta = %s, returning speed = 0\n"
       ]
      },
      {
       "output_type": "stream",
       "stream": "stderr",
       "text": [
        "DEBUG:root:timeDelta = 0, distanceDelta = %s, returning speed = 0\n"
       ]
      },
      {
       "output_type": "stream",
       "stream": "stderr",
       "text": [
        "DEBUG:root:timeDelta = 0, distanceDelta = %s, returning speed = 0\n"
       ]
      },
      {
       "output_type": "stream",
       "stream": "stderr",
       "text": [
        "DEBUG:root:timeDelta = 0, distanceDelta = %s, returning speed = 0\n"
       ]
      },
      {
       "output_type": "stream",
       "stream": "stderr",
       "text": [
        "DEBUG:root:timeDelta = 0, distanceDelta = %s, returning speed = 0\n"
       ]
      },
      {
       "output_type": "stream",
       "stream": "stderr",
       "text": [
        "DEBUG:root:timeDelta = 0, distanceDelta = %s, returning speed = 0\n"
       ]
      },
      {
       "output_type": "stream",
       "stream": "stderr",
       "text": [
        "DEBUG:root:timeDelta = 0, distanceDelta = %s, returning speed = 0\n"
       ]
      },
      {
       "output_type": "stream",
       "stream": "stderr",
       "text": [
        "DEBUG:root:timeDelta = 0, distanceDelta = %s, returning speed = 0\n"
       ]
      },
      {
       "output_type": "stream",
       "stream": "stderr",
       "text": [
        "DEBUG:root:timeDelta = 0, distanceDelta = %s, returning speed = 0\n"
       ]
      },
      {
       "output_type": "stream",
       "stream": "stderr",
       "text": [
        "DEBUG:root:timeDelta = 0, distanceDelta = %s, returning speed = 0\n"
       ]
      },
      {
       "output_type": "stream",
       "stream": "stderr",
       "text": [
        "DEBUG:root:timeDelta = 0, distanceDelta = %s, returning speed = 0\n"
       ]
      },
      {
       "output_type": "stream",
       "stream": "stderr",
       "text": [
        "DEBUG:root:timeDelta = 0, distanceDelta = %s, returning speed = 0\n"
       ]
      },
      {
       "output_type": "stream",
       "stream": "stderr",
       "text": [
        "DEBUG:root:timeDelta = 0, distanceDelta = %s, returning speed = 0\n"
       ]
      },
      {
       "output_type": "stream",
       "stream": "stderr",
       "text": [
        "DEBUG:root:timeDelta = 0, distanceDelta = %s, returning speed = 0\n"
       ]
      },
      {
       "output_type": "stream",
       "stream": "stderr",
       "text": [
        "DEBUG:root:timeDelta = 0, distanceDelta = %s, returning speed = 0\n"
       ]
      },
      {
       "output_type": "stream",
       "stream": "stderr",
       "text": [
        "DEBUG:root:timeDelta = 0, distanceDelta = %s, returning speed = 0\n"
       ]
      },
      {
       "output_type": "stream",
       "stream": "stderr",
       "text": [
        "DEBUG:root:timeDelta = 0, distanceDelta = %s, returning speed = 0\n"
       ]
      },
      {
       "output_type": "stream",
       "stream": "stderr",
       "text": [
        "DEBUG:root:timeDelta = 0, distanceDelta = %s, returning speed = 0\n"
       ]
      },
      {
       "output_type": "stream",
       "stream": "stderr",
       "text": [
        "DEBUG:root:timeDelta = 0, distanceDelta = %s, returning speed = 0\n"
       ]
      },
      {
       "output_type": "stream",
       "stream": "stderr",
       "text": [
        "DEBUG:root:timeDelta = 0, distanceDelta = %s, returning speed = 0\n"
       ]
      },
      {
       "output_type": "stream",
       "stream": "stderr",
       "text": [
        "DEBUG:root:timeDelta = 0, distanceDelta = %s, returning speed = 0\n"
       ]
      },
      {
       "output_type": "stream",
       "stream": "stderr",
       "text": [
        "DEBUG:root:timeDelta = 0, distanceDelta = %s, returning speed = 0\n"
       ]
      },
      {
       "output_type": "stream",
       "stream": "stderr",
       "text": [
        "DEBUG:root:timeDelta = 0, distanceDelta = %s, returning speed = 0\n"
       ]
      },
      {
       "output_type": "stream",
       "stream": "stderr",
       "text": [
        "DEBUG:root:timeDelta = 0, distanceDelta = %s, returning speed = 0\n"
       ]
      },
      {
       "output_type": "stream",
       "stream": "stderr",
       "text": [
        "DEBUG:root:timeDelta = 0, distanceDelta = %s, returning speed = 0\n"
       ]
      },
      {
       "output_type": "stream",
       "stream": "stderr",
       "text": [
        "DEBUG:root:timeDelta = 0, distanceDelta = %s, returning speed = 0\n"
       ]
      },
      {
       "output_type": "stream",
       "stream": "stderr",
       "text": [
        "DEBUG:root:timeDelta = 0, distanceDelta = %s, returning speed = 0\n"
       ]
      },
      {
       "output_type": "stream",
       "stream": "stderr",
       "text": [
        "DEBUG:root:timeDelta = 0, distanceDelta = %s, returning speed = 0\n"
       ]
      },
      {
       "output_type": "stream",
       "stream": "stderr",
       "text": [
        "DEBUG:root:timeDelta = 0, distanceDelta = %s, returning speed = 0\n"
       ]
      },
      {
       "output_type": "stream",
       "stream": "stderr",
       "text": [
        "DEBUG:root:timeDelta = 0, distanceDelta = %s, returning speed = 0\n"
       ]
      },
      {
       "output_type": "stream",
       "stream": "stderr",
       "text": [
        "DEBUG:root:timeDelta = 0, distanceDelta = %s, returning speed = 0\n"
       ]
      },
      {
       "output_type": "stream",
       "stream": "stderr",
       "text": [
        "DEBUG:root:timeDelta = 0, distanceDelta = %s, returning speed = 0\n"
       ]
      },
      {
       "output_type": "stream",
       "stream": "stderr",
       "text": [
        "DEBUG:root:timeDelta = 0, distanceDelta = %s, returning speed = 0\n"
       ]
      },
      {
       "output_type": "stream",
       "stream": "stderr",
       "text": [
        "DEBUG:root:timeDelta = 0, distanceDelta = %s, returning speed = 0\n"
       ]
      },
      {
       "output_type": "stream",
       "stream": "stderr",
       "text": [
        "DEBUG:root:timeDelta = 0, distanceDelta = %s, returning speed = 0\n"
       ]
      },
      {
       "output_type": "stream",
       "stream": "stderr",
       "text": [
        "DEBUG:root:timeDelta = 0, distanceDelta = %s, returning speed = 0\n"
       ]
      },
      {
       "output_type": "stream",
       "stream": "stderr",
       "text": [
        "DEBUG:root:timeDelta = 0, distanceDelta = %s, returning speed = 0\n"
       ]
      },
      {
       "output_type": "stream",
       "stream": "stderr",
       "text": [
        "DEBUG:root:timeDelta = 0, distanceDelta = %s, returning speed = 0\n"
       ]
      },
      {
       "output_type": "stream",
       "stream": "stderr",
       "text": [
        "DEBUG:root:timeDelta = 0, distanceDelta = %s, returning speed = 0\n"
       ]
      },
      {
       "output_type": "stream",
       "stream": "stderr",
       "text": [
        "DEBUG:root:timeDelta = 0, distanceDelta = %s, returning speed = 0\n"
       ]
      },
      {
       "output_type": "stream",
       "stream": "stderr",
       "text": [
        "DEBUG:root:timeDelta = 0, distanceDelta = %s, returning speed = 0\n"
       ]
      },
      {
       "output_type": "stream",
       "stream": "stderr",
       "text": [
        "DEBUG:root:timeDelta = 0, distanceDelta = %s, returning speed = 0\n"
       ]
      },
      {
       "output_type": "stream",
       "stream": "stderr",
       "text": [
        "DEBUG:root:timeDelta = 0, distanceDelta = %s, returning speed = 0\n"
       ]
      },
      {
       "output_type": "stream",
       "stream": "stderr",
       "text": [
        "DEBUG:root:timeDelta = 0, distanceDelta = %s, returning speed = 0\n"
       ]
      },
      {
       "output_type": "stream",
       "stream": "stderr",
       "text": [
        "DEBUG:root:timeDelta = 0, distanceDelta = %s, returning speed = 0\n"
       ]
      },
      {
       "output_type": "stream",
       "stream": "stdout",
       "text": [
        "\n",
        "Considering phone 1\n",
        "ground truth exit = 2015-12-01 08:18:30, geofence_exit_ts = +378.978104, first location point = +435.446784"
       ]
      },
      {
       "output_type": "stream",
       "stream": "stderr",
       "text": [
        "DEBUG:root:timeDelta = 0, distanceDelta = %s, returning speed = 0\n"
       ]
      },
      {
       "output_type": "stream",
       "stream": "stderr",
       "text": [
        "DEBUG:root:timeDelta = 0, distanceDelta = %s, returning speed = 0\n"
       ]
      },
      {
       "output_type": "stream",
       "stream": "stderr",
       "text": [
        "DEBUG:root:timeDelta = 0, distanceDelta = %s, returning speed = 0\n"
       ]
      },
      {
       "output_type": "stream",
       "stream": "stderr",
       "text": [
        "DEBUG:root:timeDelta = 0, distanceDelta = %s, returning speed = 0\n"
       ]
      },
      {
       "output_type": "stream",
       "stream": "stderr",
       "text": [
        "DEBUG:root:timeDelta = 0, distanceDelta = %s, returning speed = 0\n"
       ]
      },
      {
       "output_type": "stream",
       "stream": "stderr",
       "text": [
        "DEBUG:root:timeDelta = 0, distanceDelta = %s, returning speed = 0\n"
       ]
      },
      {
       "output_type": "stream",
       "stream": "stderr",
       "text": [
        "DEBUG:root:timeDelta = 0, distanceDelta = %s, returning speed = 0\n"
       ]
      },
      {
       "output_type": "stream",
       "stream": "stderr",
       "text": [
        "DEBUG:root:timeDelta = 0, distanceDelta = %s, returning speed = 0\n"
       ]
      },
      {
       "output_type": "stream",
       "stream": "stderr",
       "text": [
        "DEBUG:root:timeDelta = 0, distanceDelta = %s, returning speed = 0\n"
       ]
      },
      {
       "output_type": "stream",
       "stream": "stderr",
       "text": [
        "DEBUG:root:timeDelta = 0, distanceDelta = %s, returning speed = 0\n"
       ]
      },
      {
       "output_type": "stream",
       "stream": "stderr",
       "text": [
        "DEBUG:root:timeDelta = 0, distanceDelta = %s, returning speed = 0\n"
       ]
      },
      {
       "output_type": "stream",
       "stream": "stderr",
       "text": [
        "DEBUG:root:timeDelta = 0, distanceDelta = %s, returning speed = 0\n"
       ]
      },
      {
       "output_type": "stream",
       "stream": "stderr",
       "text": [
        "DEBUG:root:timeDelta = 0, distanceDelta = %s, returning speed = 0\n"
       ]
      },
      {
       "output_type": "stream",
       "stream": "stderr",
       "text": [
        "DEBUG:root:timeDelta = 0, distanceDelta = %s, returning speed = 0\n"
       ]
      },
      {
       "output_type": "stream",
       "stream": "stderr",
       "text": [
        "DEBUG:root:timeDelta = 0, distanceDelta = %s, returning speed = 0\n"
       ]
      },
      {
       "output_type": "stream",
       "stream": "stderr",
       "text": [
        "DEBUG:root:timeDelta = 0, distanceDelta = %s, returning speed = 0\n"
       ]
      },
      {
       "output_type": "stream",
       "stream": "stderr",
       "text": [
        "DEBUG:root:timeDelta = 0, distanceDelta = %s, returning speed = 0\n"
       ]
      },
      {
       "output_type": "stream",
       "stream": "stderr",
       "text": [
        "DEBUG:root:timeDelta = 0, distanceDelta = %s, returning speed = 0\n"
       ]
      },
      {
       "output_type": "stream",
       "stream": "stderr",
       "text": [
        "DEBUG:root:timeDelta = 0, distanceDelta = %s, returning speed = 0\n"
       ]
      },
      {
       "output_type": "stream",
       "stream": "stderr",
       "text": [
        "DEBUG:root:timeDelta = 0, distanceDelta = %s, returning speed = 0\n"
       ]
      },
      {
       "output_type": "stream",
       "stream": "stderr",
       "text": [
        "DEBUG:root:timeDelta = 0, distanceDelta = %s, returning speed = 0\n"
       ]
      },
      {
       "output_type": "stream",
       "stream": "stderr",
       "text": [
        "DEBUG:root:timeDelta = 0, distanceDelta = %s, returning speed = 0\n"
       ]
      },
      {
       "output_type": "stream",
       "stream": "stderr",
       "text": [
        "DEBUG:root:timeDelta = 0, distanceDelta = %s, returning speed = 0\n"
       ]
      },
      {
       "output_type": "stream",
       "stream": "stderr",
       "text": [
        "DEBUG:root:timeDelta = 0, distanceDelta = %s, returning speed = 0\n"
       ]
      },
      {
       "output_type": "stream",
       "stream": "stderr",
       "text": [
        "DEBUG:root:timeDelta = 0, distanceDelta = %s, returning speed = 0\n"
       ]
      },
      {
       "output_type": "stream",
       "stream": "stderr",
       "text": [
        "DEBUG:root:timeDelta = 0, distanceDelta = %s, returning speed = 0\n"
       ]
      },
      {
       "output_type": "stream",
       "stream": "stderr",
       "text": [
        "DEBUG:root:timeDelta = 0, distanceDelta = %s, returning speed = 0\n"
       ]
      },
      {
       "output_type": "stream",
       "stream": "stderr",
       "text": [
        "DEBUG:root:timeDelta = 0, distanceDelta = %s, returning speed = 0\n"
       ]
      },
      {
       "output_type": "stream",
       "stream": "stderr",
       "text": [
        "DEBUG:root:timeDelta = 0, distanceDelta = %s, returning speed = 0\n"
       ]
      },
      {
       "output_type": "stream",
       "stream": "stderr",
       "text": [
        "DEBUG:root:timeDelta = 0, distanceDelta = %s, returning speed = 0\n"
       ]
      },
      {
       "output_type": "stream",
       "stream": "stderr",
       "text": [
        "DEBUG:root:timeDelta = 0, distanceDelta = %s, returning speed = 0\n"
       ]
      },
      {
       "output_type": "stream",
       "stream": "stderr",
       "text": [
        "DEBUG:root:timeDelta = 0, distanceDelta = %s, returning speed = 0\n"
       ]
      },
      {
       "output_type": "stream",
       "stream": "stderr",
       "text": [
        "DEBUG:root:timeDelta = 0, distanceDelta = %s, returning speed = 0\n"
       ]
      },
      {
       "output_type": "stream",
       "stream": "stderr",
       "text": [
        "DEBUG:root:timeDelta = 0, distanceDelta = %s, returning speed = 0\n"
       ]
      },
      {
       "output_type": "stream",
       "stream": "stderr",
       "text": [
        "DEBUG:root:timeDelta = 0, distanceDelta = %s, returning speed = 0\n"
       ]
      },
      {
       "output_type": "stream",
       "stream": "stderr",
       "text": [
        "DEBUG:root:timeDelta = 0, distanceDelta = %s, returning speed = 0\n"
       ]
      },
      {
       "output_type": "stream",
       "stream": "stderr",
       "text": [
        "DEBUG:root:timeDelta = 0, distanceDelta = %s, returning speed = 0\n"
       ]
      },
      {
       "output_type": "stream",
       "stream": "stderr",
       "text": [
        "DEBUG:root:timeDelta = 0, distanceDelta = %s, returning speed = 0\n"
       ]
      },
      {
       "output_type": "stream",
       "stream": "stderr",
       "text": [
        "DEBUG:root:timeDelta = 0, distanceDelta = %s, returning speed = 0\n"
       ]
      },
      {
       "output_type": "stream",
       "stream": "stderr",
       "text": [
        "DEBUG:root:timeDelta = 0, distanceDelta = %s, returning speed = 0\n"
       ]
      },
      {
       "output_type": "stream",
       "stream": "stderr",
       "text": [
        "DEBUG:root:timeDelta = 0, distanceDelta = %s, returning speed = 0\n"
       ]
      },
      {
       "output_type": "stream",
       "stream": "stderr",
       "text": [
        "DEBUG:root:timeDelta = 0, distanceDelta = %s, returning speed = 0\n"
       ]
      },
      {
       "output_type": "stream",
       "stream": "stderr",
       "text": [
        "DEBUG:root:timeDelta = 0, distanceDelta = %s, returning speed = 0\n"
       ]
      },
      {
       "output_type": "stream",
       "stream": "stderr",
       "text": [
        "DEBUG:root:timeDelta = 0, distanceDelta = %s, returning speed = 0\n"
       ]
      },
      {
       "output_type": "stream",
       "stream": "stderr",
       "text": [
        "DEBUG:root:timeDelta = 0, distanceDelta = %s, returning speed = 0\n"
       ]
      },
      {
       "output_type": "stream",
       "stream": "stderr",
       "text": [
        "DEBUG:root:timeDelta = 0, distanceDelta = %s, returning speed = 0\n"
       ]
      },
      {
       "output_type": "stream",
       "stream": "stderr",
       "text": [
        "DEBUG:root:timeDelta = 0, distanceDelta = %s, returning speed = 0\n"
       ]
      },
      {
       "output_type": "stream",
       "stream": "stderr",
       "text": [
        "DEBUG:root:timeDelta = 0, distanceDelta = %s, returning speed = 0\n"
       ]
      },
      {
       "output_type": "stream",
       "stream": "stderr",
       "text": [
        "DEBUG:root:timeDelta = 0, distanceDelta = %s, returning speed = 0\n"
       ]
      },
      {
       "output_type": "stream",
       "stream": "stderr",
       "text": [
        "DEBUG:root:timeDelta = 0, distanceDelta = %s, returning speed = 0\n"
       ]
      },
      {
       "output_type": "stream",
       "stream": "stderr",
       "text": [
        "DEBUG:root:timeDelta = 0, distanceDelta = %s, returning speed = 0\n"
       ]
      },
      {
       "output_type": "stream",
       "stream": "stderr",
       "text": [
        "DEBUG:root:timeDelta = 0, distanceDelta = %s, returning speed = 0\n"
       ]
      },
      {
       "output_type": "stream",
       "stream": "stderr",
       "text": [
        "DEBUG:root:timeDelta = 0, distanceDelta = %s, returning speed = 0\n"
       ]
      },
      {
       "output_type": "stream",
       "stream": "stderr",
       "text": [
        "DEBUG:root:timeDelta = 0, distanceDelta = %s, returning speed = 0\n"
       ]
      },
      {
       "output_type": "stream",
       "stream": "stderr",
       "text": [
        "DEBUG:root:timeDelta = 0, distanceDelta = %s, returning speed = 0\n"
       ]
      },
      {
       "output_type": "stream",
       "stream": "stderr",
       "text": [
        "DEBUG:root:timeDelta = 0, distanceDelta = %s, returning speed = 0\n"
       ]
      },
      {
       "output_type": "stream",
       "stream": "stderr",
       "text": [
        "DEBUG:root:timeDelta = 0, distanceDelta = %s, returning speed = 0\n"
       ]
      },
      {
       "output_type": "stream",
       "stream": "stderr",
       "text": [
        "DEBUG:root:timeDelta = 0, distanceDelta = %s, returning speed = 0\n"
       ]
      },
      {
       "output_type": "stream",
       "stream": "stderr",
       "text": [
        "DEBUG:root:timeDelta = 0, distanceDelta = %s, returning speed = 0\n"
       ]
      },
      {
       "output_type": "stream",
       "stream": "stderr",
       "text": [
        "DEBUG:root:timeDelta = 0, distanceDelta = %s, returning speed = 0\n"
       ]
      },
      {
       "output_type": "stream",
       "stream": "stderr",
       "text": [
        "DEBUG:root:timeDelta = 0, distanceDelta = %s, returning speed = 0\n"
       ]
      },
      {
       "output_type": "stream",
       "stream": "stderr",
       "text": [
        "DEBUG:root:timeDelta = 0, distanceDelta = %s, returning speed = 0\n"
       ]
      },
      {
       "output_type": "stream",
       "stream": "stderr",
       "text": [
        "DEBUG:root:timeDelta = 0, distanceDelta = %s, returning speed = 0\n"
       ]
      },
      {
       "output_type": "stream",
       "stream": "stderr",
       "text": [
        "DEBUG:root:timeDelta = 0, distanceDelta = %s, returning speed = 0\n"
       ]
      },
      {
       "output_type": "stream",
       "stream": "stderr",
       "text": [
        "DEBUG:root:timeDelta = 0, distanceDelta = %s, returning speed = 0\n"
       ]
      },
      {
       "output_type": "stream",
       "stream": "stderr",
       "text": [
        "DEBUG:root:timeDelta = 0, distanceDelta = %s, returning speed = 0\n"
       ]
      },
      {
       "output_type": "stream",
       "stream": "stderr",
       "text": [
        "DEBUG:root:timeDelta = 0, distanceDelta = %s, returning speed = 0\n"
       ]
      },
      {
       "output_type": "stream",
       "stream": "stderr",
       "text": [
        "DEBUG:root:timeDelta = 0, distanceDelta = %s, returning speed = 0\n"
       ]
      },
      {
       "output_type": "stream",
       "stream": "stderr",
       "text": [
        "DEBUG:root:timeDelta = 0, distanceDelta = %s, returning speed = 0\n"
       ]
      },
      {
       "output_type": "stream",
       "stream": "stderr",
       "text": [
        "DEBUG:root:timeDelta = 0, distanceDelta = %s, returning speed = 0\n"
       ]
      },
      {
       "output_type": "stream",
       "stream": "stderr",
       "text": [
        "DEBUG:root:timeDelta = 0, distanceDelta = %s, returning speed = 0\n"
       ]
      },
      {
       "output_type": "stream",
       "stream": "stderr",
       "text": [
        "DEBUG:root:timeDelta = 0, distanceDelta = %s, returning speed = 0\n"
       ]
      },
      {
       "output_type": "stream",
       "stream": "stderr",
       "text": [
        "DEBUG:root:timeDelta = 0, distanceDelta = %s, returning speed = 0\n"
       ]
      },
      {
       "output_type": "stream",
       "stream": "stderr",
       "text": [
        "DEBUG:root:timeDelta = 0, distanceDelta = %s, returning speed = 0\n"
       ]
      },
      {
       "output_type": "stream",
       "stream": "stderr",
       "text": [
        "DEBUG:root:timeDelta = 0, distanceDelta = %s, returning speed = 0\n"
       ]
      },
      {
       "output_type": "stream",
       "stream": "stderr",
       "text": [
        "DEBUG:root:timeDelta = 0, distanceDelta = %s, returning speed = 0\n"
       ]
      },
      {
       "output_type": "stream",
       "stream": "stderr",
       "text": [
        "DEBUG:root:timeDelta = 0, distanceDelta = %s, returning speed = 0\n"
       ]
      },
      {
       "output_type": "stream",
       "stream": "stderr",
       "text": [
        "DEBUG:root:timeDelta = 0, distanceDelta = %s, returning speed = 0\n"
       ]
      },
      {
       "output_type": "stream",
       "stream": "stderr",
       "text": [
        "DEBUG:root:timeDelta = 0, distanceDelta = %s, returning speed = 0\n"
       ]
      },
      {
       "output_type": "stream",
       "stream": "stderr",
       "text": [
        "DEBUG:root:timeDelta = 0, distanceDelta = %s, returning speed = 0\n"
       ]
      },
      {
       "output_type": "stream",
       "stream": "stderr",
       "text": [
        "DEBUG:root:timeDelta = 0, distanceDelta = %s, returning speed = 0\n"
       ]
      },
      {
       "output_type": "stream",
       "stream": "stderr",
       "text": [
        "DEBUG:root:timeDelta = 0, distanceDelta = %s, returning speed = 0\n"
       ]
      },
      {
       "output_type": "stream",
       "stream": "stderr",
       "text": [
        "DEBUG:root:timeDelta = 0, distanceDelta = %s, returning speed = 0\n"
       ]
      },
      {
       "output_type": "stream",
       "stream": "stderr",
       "text": [
        "DEBUG:root:timeDelta = 0, distanceDelta = %s, returning speed = 0\n"
       ]
      },
      {
       "output_type": "stream",
       "stream": "stderr",
       "text": [
        "DEBUG:root:timeDelta = 0, distanceDelta = %s, returning speed = 0\n"
       ]
      },
      {
       "output_type": "stream",
       "stream": "stderr",
       "text": [
        "DEBUG:root:timeDelta = 0, distanceDelta = %s, returning speed = 0\n"
       ]
      },
      {
       "output_type": "stream",
       "stream": "stderr",
       "text": [
        "DEBUG:root:timeDelta = 0, distanceDelta = %s, returning speed = 0\n"
       ]
      },
      {
       "output_type": "stream",
       "stream": "stderr",
       "text": [
        "DEBUG:root:timeDelta = 0, distanceDelta = %s, returning speed = 0\n"
       ]
      },
      {
       "output_type": "stream",
       "stream": "stderr",
       "text": [
        "DEBUG:root:timeDelta = 0, distanceDelta = %s, returning speed = 0\n"
       ]
      },
      {
       "output_type": "stream",
       "stream": "stderr",
       "text": [
        "DEBUG:root:timeDelta = 0, distanceDelta = %s, returning speed = 0\n"
       ]
      },
      {
       "output_type": "stream",
       "stream": "stderr",
       "text": [
        "DEBUG:root:timeDelta = 0, distanceDelta = %s, returning speed = 0\n"
       ]
      },
      {
       "output_type": "stream",
       "stream": "stderr",
       "text": [
        "DEBUG:root:timeDelta = 0, distanceDelta = %s, returning speed = 0\n"
       ]
      },
      {
       "output_type": "stream",
       "stream": "stderr",
       "text": [
        "DEBUG:root:timeDelta = 0, distanceDelta = %s, returning speed = 0\n"
       ]
      },
      {
       "output_type": "stream",
       "stream": "stderr",
       "text": [
        "DEBUG:root:timeDelta = 0, distanceDelta = %s, returning speed = 0\n"
       ]
      },
      {
       "output_type": "stream",
       "stream": "stderr",
       "text": [
        "DEBUG:root:timeDelta = 0, distanceDelta = %s, returning speed = 0\n"
       ]
      },
      {
       "output_type": "stream",
       "stream": "stderr",
       "text": [
        "DEBUG:root:timeDelta = 0, distanceDelta = %s, returning speed = 0\n"
       ]
      },
      {
       "output_type": "stream",
       "stream": "stderr",
       "text": [
        "DEBUG:root:timeDelta = 0, distanceDelta = %s, returning speed = 0\n"
       ]
      },
      {
       "output_type": "stream",
       "stream": "stderr",
       "text": [
        "DEBUG:root:timeDelta = 0, distanceDelta = %s, returning speed = 0\n"
       ]
      },
      {
       "output_type": "stream",
       "stream": "stderr",
       "text": [
        "DEBUG:root:timeDelta = 0, distanceDelta = %s, returning speed = 0\n"
       ]
      },
      {
       "output_type": "stream",
       "stream": "stderr",
       "text": [
        "DEBUG:root:timeDelta = 0, distanceDelta = %s, returning speed = 0\n"
       ]
      },
      {
       "output_type": "stream",
       "stream": "stderr",
       "text": [
        "DEBUG:root:timeDelta = 0, distanceDelta = %s, returning speed = 0\n"
       ]
      },
      {
       "output_type": "stream",
       "stream": "stderr",
       "text": [
        "DEBUG:root:timeDelta = 0, distanceDelta = %s, returning speed = 0\n"
       ]
      },
      {
       "output_type": "stream",
       "stream": "stderr",
       "text": [
        "DEBUG:root:timeDelta = 0, distanceDelta = %s, returning speed = 0\n"
       ]
      },
      {
       "output_type": "stream",
       "stream": "stderr",
       "text": [
        "DEBUG:root:timeDelta = 0, distanceDelta = %s, returning speed = 0\n"
       ]
      },
      {
       "output_type": "stream",
       "stream": "stderr",
       "text": [
        "DEBUG:root:timeDelta = 0, distanceDelta = %s, returning speed = 0\n"
       ]
      },
      {
       "output_type": "stream",
       "stream": "stderr",
       "text": [
        "DEBUG:root:timeDelta = 0, distanceDelta = %s, returning speed = 0\n"
       ]
      },
      {
       "output_type": "stream",
       "stream": "stderr",
       "text": [
        "DEBUG:root:timeDelta = 0, distanceDelta = %s, returning speed = 0\n"
       ]
      },
      {
       "output_type": "stream",
       "stream": "stderr",
       "text": [
        "DEBUG:root:timeDelta = 0, distanceDelta = %s, returning speed = 0\n"
       ]
      },
      {
       "output_type": "stream",
       "stream": "stderr",
       "text": [
        "DEBUG:root:timeDelta = 0, distanceDelta = %s, returning speed = 0\n"
       ]
      },
      {
       "output_type": "stream",
       "stream": "stderr",
       "text": [
        "DEBUG:root:timeDelta = 0, distanceDelta = %s, returning speed = 0\n"
       ]
      },
      {
       "output_type": "stream",
       "stream": "stderr",
       "text": [
        "DEBUG:root:timeDelta = 0, distanceDelta = %s, returning speed = 0\n"
       ]
      },
      {
       "output_type": "stream",
       "stream": "stderr",
       "text": [
        "DEBUG:root:timeDelta = 0, distanceDelta = %s, returning speed = 0\n"
       ]
      },
      {
       "output_type": "stream",
       "stream": "stderr",
       "text": [
        "DEBUG:root:timeDelta = 0, distanceDelta = %s, returning speed = 0\n"
       ]
      },
      {
       "output_type": "stream",
       "stream": "stderr",
       "text": [
        "DEBUG:root:timeDelta = 0, distanceDelta = %s, returning speed = 0\n"
       ]
      },
      {
       "output_type": "stream",
       "stream": "stderr",
       "text": [
        "DEBUG:root:timeDelta = 0, distanceDelta = %s, returning speed = 0\n"
       ]
      },
      {
       "output_type": "stream",
       "stream": "stderr",
       "text": [
        "DEBUG:root:timeDelta = 0, distanceDelta = %s, returning speed = 0\n"
       ]
      },
      {
       "output_type": "stream",
       "stream": "stderr",
       "text": [
        "DEBUG:root:timeDelta = 0, distanceDelta = %s, returning speed = 0\n"
       ]
      },
      {
       "output_type": "stream",
       "stream": "stderr",
       "text": [
        "DEBUG:root:timeDelta = 0, distanceDelta = %s, returning speed = 0\n"
       ]
      },
      {
       "output_type": "stream",
       "stream": "stderr",
       "text": [
        "DEBUG:root:timeDelta = 0, distanceDelta = %s, returning speed = 0\n"
       ]
      },
      {
       "output_type": "stream",
       "stream": "stderr",
       "text": [
        "DEBUG:root:timeDelta = 0, distanceDelta = %s, returning speed = 0\n"
       ]
      },
      {
       "output_type": "stream",
       "stream": "stderr",
       "text": [
        "DEBUG:root:timeDelta = 0, distanceDelta = %s, returning speed = 0\n"
       ]
      },
      {
       "output_type": "stream",
       "stream": "stderr",
       "text": [
        "DEBUG:root:timeDelta = 0, distanceDelta = %s, returning speed = 0\n"
       ]
      },
      {
       "output_type": "stream",
       "stream": "stderr",
       "text": [
        "DEBUG:root:timeDelta = 0, distanceDelta = %s, returning speed = 0\n"
       ]
      },
      {
       "output_type": "stream",
       "stream": "stderr",
       "text": [
        "DEBUG:root:timeDelta = 0, distanceDelta = %s, returning speed = 0\n"
       ]
      },
      {
       "output_type": "stream",
       "stream": "stdout",
       "text": [
        "\n",
        "Considering phone 2\n",
        "ground truth exit = 2015-12-01 08:18:30, geofence_exit_ts = +344.776468, first location point = +425.721615"
       ]
      },
      {
       "output_type": "stream",
       "stream": "stdout",
       "text": [
        "\n",
        "length of lat_means = 3\n",
        "Considering phone 0\n",
        "1    71\n",
        "2    33\n",
        "3    32\n",
        "4    32\n",
        "5    31\n",
        "Name: ts, dtype: float64\n",
        "ground truth exit = 2015-12-01 08:18:30, geofence_exit_ts = +83.533000, first location point = +151.000000"
       ]
      },
      {
       "output_type": "stream",
       "stream": "stdout",
       "text": [
        "\n",
        "Considering phone 1\n",
        "2     33\n",
        "4     37\n",
        "8     35\n",
        "9     31\n",
        "10    32\n",
        "Name: ts, dtype: float64\n",
        "ground truth exit = 2015-12-01 08:18:30, geofence_exit_ts = +73.060000, first location point = +105.000000\n",
        "Considering phone 2\n",
        "1     32\n",
        "4     33\n",
        "8     35\n",
        "10    33\n",
        "11    31\n",
        "Name: ts, dtype: float64"
       ]
      },
      {
       "output_type": "stream",
       "stream": "stderr",
       "text": [
        "DEBUG:root:curr_query = {'$or': [{'metadata.key': 'background/location'}], 'metadata.write_ts': {'$gte': 1448989467, '$lt': 1448991621}, 'user_id': UUID('079e0f1a-c440-3d7c-b0e7-de160f748e35')}, sort_key = metadata.write_ts\n"
       ]
      },
      {
       "output_type": "stream",
       "stream": "stderr",
       "text": [
        "DEBUG:root:Found 18 results\n"
       ]
      },
      {
       "output_type": "stream",
       "stream": "stderr",
       "text": [
        "DEBUG:root:curr_query = {'$or': [{'metadata.key': 'background/location'}], 'metadata.write_ts': {'$gte': 1448989467, '$lt': 1448991621}, 'user_id': UUID('c76a0487-7e5a-3b17-a449-47be666b36f6')}, sort_key = metadata.write_ts\n"
       ]
      },
      {
       "output_type": "stream",
       "stream": "stderr",
       "text": [
        "DEBUG:root:Found 16 results\n"
       ]
      },
      {
       "output_type": "stream",
       "stream": "stderr",
       "text": [
        "DEBUG:root:curr_query = {'$or': [{'metadata.key': 'background/location'}], 'metadata.write_ts': {'$gte': 1448989467, '$lt': 1448991621}, 'user_id': UUID('c528bcd2-a88b-3e82-be62-ef4f2396967a')}, sort_key = metadata.write_ts\n"
       ]
      },
      {
       "output_type": "stream",
       "stream": "stderr",
       "text": [
        "DEBUG:root:Found 72 results\n"
       ]
      },
      {
       "output_type": "stream",
       "stream": "stderr",
       "text": [
        "DEBUG:root:curr_query = {'$or': [{'metadata.key': 'background/location'}], 'metadata.write_ts': {'$gte': 1448989467, '$lt': 1448991621}, 'user_id': UUID('e471711e-bd14-3dbe-80b6-9c7d92ecc296')}, sort_key = metadata.write_ts\n"
       ]
      },
      {
       "output_type": "stream",
       "stream": "stderr",
       "text": [
        "DEBUG:root:Found 36 results\n"
       ]
      },
      {
       "output_type": "stream",
       "stream": "stderr",
       "text": [
        "DEBUG:root:curr_query = {'$or': [{'metadata.key': 'background/location'}], 'metadata.write_ts': {'$gte': 1448989467, '$lt': 1448991621}, 'user_id': UUID('fd7b4c2e-2c8b-3bfa-94f0-d1e3ecbd5fb7')}, sort_key = metadata.write_ts\n"
       ]
      },
      {
       "output_type": "stream",
       "stream": "stderr",
       "text": [
        "DEBUG:root:Found 44 results\n"
       ]
      },
      {
       "output_type": "stream",
       "stream": "stderr",
       "text": [
        "DEBUG:root:curr_query = {'$or': [{'metadata.key': 'background/location'}], 'metadata.write_ts': {'$gte': 1448989467, '$lt': 1448991621}, 'user_id': UUID('86842c35-da28-32ed-a90e-2da6663c5c73')}, sort_key = metadata.write_ts\n"
       ]
      },
      {
       "output_type": "stream",
       "stream": "stderr",
       "text": [
        "DEBUG:root:Found 67 results\n"
       ]
      },
      {
       "output_type": "stream",
       "stream": "stderr",
       "text": [
        "DEBUG:root:curr_query = {'$or': [{'metadata.key': 'statemachine/transition'}], 'metadata.write_ts': {'$gte': 1448989467, '$lt': 1448991621}, 'user_id': UUID('079e0f1a-c440-3d7c-b0e7-de160f748e35')}, sort_key = metadata.write_ts\n"
       ]
      },
      {
       "output_type": "stream",
       "stream": "stderr",
       "text": [
        "DEBUG:root:Found 0 results\n"
       ]
      },
      {
       "output_type": "stream",
       "stream": "stderr",
       "text": [
        "DEBUG:root:curr_query = {'$or': [{'metadata.key': 'statemachine/transition'}], 'metadata.write_ts': {'$gte': 1448989467, '$lt': 1448991621}, 'user_id': UUID('c76a0487-7e5a-3b17-a449-47be666b36f6')}, sort_key = metadata.write_ts\n"
       ]
      },
      {
       "output_type": "stream",
       "stream": "stderr",
       "text": [
        "DEBUG:root:Found 4 results\n"
       ]
      },
      {
       "output_type": "stream",
       "stream": "stderr",
       "text": [
        "DEBUG:root:curr_query = {'$or': [{'metadata.key': 'statemachine/transition'}], 'metadata.write_ts': {'$gte': 1448989467, '$lt': 1448991621}, 'user_id': UUID('c528bcd2-a88b-3e82-be62-ef4f2396967a')}, sort_key = metadata.write_ts\n"
       ]
      },
      {
       "output_type": "stream",
       "stream": "stderr",
       "text": [
        "DEBUG:root:Found 16 results\n"
       ]
      },
      {
       "output_type": "stream",
       "stream": "stderr",
       "text": [
        "DEBUG:root:curr_query = {'$or': [{'metadata.key': 'statemachine/transition'}], 'metadata.write_ts': {'$gte': 1448989467, '$lt': 1448991621}, 'user_id': UUID('e471711e-bd14-3dbe-80b6-9c7d92ecc296')}, sort_key = metadata.write_ts\n"
       ]
      },
      {
       "output_type": "stream",
       "stream": "stderr",
       "text": [
        "DEBUG:root:Found 2 results\n"
       ]
      },
      {
       "output_type": "stream",
       "stream": "stderr",
       "text": [
        "DEBUG:root:curr_query = {'$or': [{'metadata.key': 'statemachine/transition'}], 'metadata.write_ts': {'$gte': 1448989467, '$lt': 1448991621}, 'user_id': UUID('fd7b4c2e-2c8b-3bfa-94f0-d1e3ecbd5fb7')}, sort_key = metadata.write_ts\n"
       ]
      },
      {
       "output_type": "stream",
       "stream": "stderr",
       "text": [
        "DEBUG:root:Found 2 results\n"
       ]
      },
      {
       "output_type": "stream",
       "stream": "stderr",
       "text": [
        "DEBUG:root:curr_query = {'$or': [{'metadata.key': 'statemachine/transition'}], 'metadata.write_ts': {'$gte': 1448989467, '$lt': 1448991621}, 'user_id': UUID('86842c35-da28-32ed-a90e-2da6663c5c73')}, sort_key = metadata.write_ts\n"
       ]
      },
      {
       "output_type": "stream",
       "stream": "stderr",
       "text": [
        "DEBUG:root:Found 1 results\n"
       ]
      },
      {
       "output_type": "stream",
       "stream": "stdout",
       "text": [
        "\n",
        "ground truth exit = 2015-12-01 08:18:30, geofence_exit_ts = +57.667000, first location point = +86.000000\n",
        "Generating trip for train_home_train\n",
        "length of lat_means = 3"
       ]
      },
      {
       "output_type": "stream",
       "stream": "stdout",
       "text": [
        "\n",
        "Considering phone 0\n",
        "len(transition_df) = 0, ground_truth_exit_ts = 1448989467, geofence was not exited!!"
       ]
      },
      {
       "output_type": "stream",
       "stream": "stderr",
       "text": [
        "DEBUG:root:timeDelta = 0, distanceDelta = %s, returning speed = 0\n"
       ]
      },
      {
       "output_type": "stream",
       "stream": "stderr",
       "text": [
        "DEBUG:root:timeDelta = 0, distanceDelta = %s, returning speed = 0\n"
       ]
      },
      {
       "output_type": "stream",
       "stream": "stderr",
       "text": [
        "DEBUG:root:timeDelta = 0, distanceDelta = %s, returning speed = 0\n"
       ]
      },
      {
       "output_type": "stream",
       "stream": "stderr",
       "text": [
        "DEBUG:root:timeDelta = 0, distanceDelta = %s, returning speed = 0\n"
       ]
      },
      {
       "output_type": "stream",
       "stream": "stderr",
       "text": [
        "DEBUG:root:timeDelta = 0, distanceDelta = %s, returning speed = 0\n"
       ]
      },
      {
       "output_type": "stream",
       "stream": "stderr",
       "text": [
        "DEBUG:root:timeDelta = 0, distanceDelta = %s, returning speed = 0\n"
       ]
      },
      {
       "output_type": "stream",
       "stream": "stderr",
       "text": [
        "DEBUG:root:timeDelta = 0, distanceDelta = %s, returning speed = 0\n"
       ]
      },
      {
       "output_type": "stream",
       "stream": "stderr",
       "text": [
        "DEBUG:root:timeDelta = 0, distanceDelta = %s, returning speed = 0\n"
       ]
      },
      {
       "output_type": "stream",
       "stream": "stderr",
       "text": [
        "DEBUG:root:timeDelta = 0, distanceDelta = %s, returning speed = 0\n"
       ]
      },
      {
       "output_type": "stream",
       "stream": "stderr",
       "text": [
        "DEBUG:root:timeDelta = 0, distanceDelta = %s, returning speed = 0\n"
       ]
      },
      {
       "output_type": "stream",
       "stream": "stderr",
       "text": [
        "DEBUG:root:timeDelta = 0, distanceDelta = %s, returning speed = 0\n"
       ]
      },
      {
       "output_type": "stream",
       "stream": "stderr",
       "text": [
        "DEBUG:root:timeDelta = 0, distanceDelta = %s, returning speed = 0\n"
       ]
      },
      {
       "output_type": "stream",
       "stream": "stderr",
       "text": [
        "DEBUG:root:timeDelta = 0, distanceDelta = %s, returning speed = 0\n"
       ]
      },
      {
       "output_type": "stream",
       "stream": "stderr",
       "text": [
        "DEBUG:root:timeDelta = 0, distanceDelta = %s, returning speed = 0\n"
       ]
      },
      {
       "output_type": "stream",
       "stream": "stderr",
       "text": [
        "DEBUG:root:timeDelta = 0, distanceDelta = %s, returning speed = 0\n"
       ]
      },
      {
       "output_type": "stream",
       "stream": "stderr",
       "text": [
        "DEBUG:root:timeDelta = 0, distanceDelta = %s, returning speed = 0\n"
       ]
      },
      {
       "output_type": "stream",
       "stream": "stderr",
       "text": [
        "DEBUG:root:timeDelta = 0, distanceDelta = %s, returning speed = 0\n"
       ]
      },
      {
       "output_type": "stream",
       "stream": "stderr",
       "text": [
        "DEBUG:root:timeDelta = 0, distanceDelta = %s, returning speed = 0\n"
       ]
      },
      {
       "output_type": "stream",
       "stream": "stderr",
       "text": [
        "DEBUG:root:timeDelta = 0, distanceDelta = %s, returning speed = 0\n"
       ]
      },
      {
       "output_type": "stream",
       "stream": "stderr",
       "text": [
        "DEBUG:root:timeDelta = 0, distanceDelta = %s, returning speed = 0\n"
       ]
      },
      {
       "output_type": "stream",
       "stream": "stderr",
       "text": [
        "DEBUG:root:timeDelta = 0, distanceDelta = %s, returning speed = 0\n"
       ]
      },
      {
       "output_type": "stream",
       "stream": "stderr",
       "text": [
        "DEBUG:root:timeDelta = 0, distanceDelta = %s, returning speed = 0\n"
       ]
      },
      {
       "output_type": "stream",
       "stream": "stderr",
       "text": [
        "DEBUG:root:timeDelta = 0, distanceDelta = %s, returning speed = 0\n"
       ]
      },
      {
       "output_type": "stream",
       "stream": "stderr",
       "text": [
        "DEBUG:root:timeDelta = 0, distanceDelta = %s, returning speed = 0\n"
       ]
      },
      {
       "output_type": "stream",
       "stream": "stderr",
       "text": [
        "DEBUG:root:timeDelta = 0, distanceDelta = %s, returning speed = 0\n"
       ]
      },
      {
       "output_type": "stream",
       "stream": "stderr",
       "text": [
        "DEBUG:root:timeDelta = 0, distanceDelta = %s, returning speed = 0\n"
       ]
      },
      {
       "output_type": "stream",
       "stream": "stderr",
       "text": [
        "DEBUG:root:timeDelta = 0, distanceDelta = %s, returning speed = 0\n"
       ]
      },
      {
       "output_type": "stream",
       "stream": "stderr",
       "text": [
        "DEBUG:root:timeDelta = 0, distanceDelta = %s, returning speed = 0\n"
       ]
      },
      {
       "output_type": "stream",
       "stream": "stderr",
       "text": [
        "DEBUG:root:timeDelta = 0, distanceDelta = %s, returning speed = 0\n"
       ]
      },
      {
       "output_type": "stream",
       "stream": "stderr",
       "text": [
        "DEBUG:root:timeDelta = 0, distanceDelta = %s, returning speed = 0\n"
       ]
      },
      {
       "output_type": "stream",
       "stream": "stderr",
       "text": [
        "DEBUG:root:timeDelta = 0, distanceDelta = %s, returning speed = 0\n"
       ]
      },
      {
       "output_type": "stream",
       "stream": "stderr",
       "text": [
        "DEBUG:root:timeDelta = 0, distanceDelta = %s, returning speed = 0\n"
       ]
      },
      {
       "output_type": "stream",
       "stream": "stderr",
       "text": [
        "DEBUG:root:timeDelta = 0, distanceDelta = %s, returning speed = 0\n"
       ]
      },
      {
       "output_type": "stream",
       "stream": "stderr",
       "text": [
        "DEBUG:root:timeDelta = 0, distanceDelta = %s, returning speed = 0\n"
       ]
      },
      {
       "output_type": "stream",
       "stream": "stderr",
       "text": [
        "DEBUG:root:timeDelta = 0, distanceDelta = %s, returning speed = 0\n"
       ]
      },
      {
       "output_type": "stream",
       "stream": "stderr",
       "text": [
        "DEBUG:root:timeDelta = 0, distanceDelta = %s, returning speed = 0\n"
       ]
      },
      {
       "output_type": "stream",
       "stream": "stderr",
       "text": [
        "DEBUG:root:timeDelta = 0, distanceDelta = %s, returning speed = 0\n"
       ]
      },
      {
       "output_type": "stream",
       "stream": "stderr",
       "text": [
        "DEBUG:root:timeDelta = 0, distanceDelta = %s, returning speed = 0\n"
       ]
      },
      {
       "output_type": "stream",
       "stream": "stderr",
       "text": [
        "DEBUG:root:timeDelta = 0, distanceDelta = %s, returning speed = 0\n"
       ]
      },
      {
       "output_type": "stream",
       "stream": "stderr",
       "text": [
        "DEBUG:root:timeDelta = 0, distanceDelta = %s, returning speed = 0\n"
       ]
      },
      {
       "output_type": "stream",
       "stream": "stderr",
       "text": [
        "DEBUG:root:timeDelta = 0, distanceDelta = %s, returning speed = 0\n"
       ]
      },
      {
       "output_type": "stream",
       "stream": "stderr",
       "text": [
        "DEBUG:root:timeDelta = 0, distanceDelta = %s, returning speed = 0\n"
       ]
      },
      {
       "output_type": "stream",
       "stream": "stderr",
       "text": [
        "DEBUG:root:timeDelta = 0, distanceDelta = %s, returning speed = 0\n"
       ]
      },
      {
       "output_type": "stream",
       "stream": "stderr",
       "text": [
        "DEBUG:root:timeDelta = 0, distanceDelta = %s, returning speed = 0\n"
       ]
      },
      {
       "output_type": "stream",
       "stream": "stderr",
       "text": [
        "DEBUG:root:timeDelta = 0, distanceDelta = %s, returning speed = 0\n"
       ]
      },
      {
       "output_type": "stream",
       "stream": "stderr",
       "text": [
        "DEBUG:root:timeDelta = 0, distanceDelta = %s, returning speed = 0\n"
       ]
      },
      {
       "output_type": "stream",
       "stream": "stderr",
       "text": [
        "DEBUG:root:timeDelta = 0, distanceDelta = %s, returning speed = 0\n"
       ]
      },
      {
       "output_type": "stream",
       "stream": "stderr",
       "text": [
        "DEBUG:root:timeDelta = 0, distanceDelta = %s, returning speed = 0\n"
       ]
      },
      {
       "output_type": "stream",
       "stream": "stderr",
       "text": [
        "DEBUG:root:timeDelta = 0, distanceDelta = %s, returning speed = 0\n"
       ]
      },
      {
       "output_type": "stream",
       "stream": "stderr",
       "text": [
        "DEBUG:root:timeDelta = 0, distanceDelta = %s, returning speed = 0\n"
       ]
      },
      {
       "output_type": "stream",
       "stream": "stderr",
       "text": [
        "DEBUG:root:timeDelta = 0, distanceDelta = %s, returning speed = 0\n"
       ]
      },
      {
       "output_type": "stream",
       "stream": "stderr",
       "text": [
        "DEBUG:root:timeDelta = 0, distanceDelta = %s, returning speed = 0\n"
       ]
      },
      {
       "output_type": "stream",
       "stream": "stderr",
       "text": [
        "DEBUG:root:timeDelta = 0, distanceDelta = %s, returning speed = 0\n"
       ]
      },
      {
       "output_type": "stream",
       "stream": "stderr",
       "text": [
        "DEBUG:root:timeDelta = 0, distanceDelta = %s, returning speed = 0\n"
       ]
      },
      {
       "output_type": "stream",
       "stream": "stdout",
       "text": [
        "\n",
        "Considering phone 1\n",
        "ground truth exit = 2015-12-01 09:04:27, geofence_exit_ts = +411.533588, first location point = +411.587875\n",
        "Considering phone 2\n",
        "ground truth exit = 2015-12-01 09:04:27, geofence_exit_ts = +375.719277, first location point = +375.771916"
       ]
      },
      {
       "output_type": "stream",
       "stream": "stdout",
       "text": [
        "\n",
        "length of lat_means = 3\n",
        "Considering phone 0\n",
        "1    32\n",
        "2    32\n",
        "3    32\n",
        "4    51\n",
        "5    31\n",
        "Name: ts, dtype: float64\n",
        "ground truth exit = 2015-12-01 09:04:27, geofence_exit_ts = +1804.046000, first location point = +1837.000000"
       ]
      },
      {
       "output_type": "stream",
       "stream": "stdout",
       "text": [
        "\n",
        "Considering phone 1\n",
        "1    33\n",
        "2    33\n",
        "3    31\n",
        "4    43\n",
        "5    31\n",
        "Name: ts, dtype: float64\n",
        "ground truth exit = 2015-12-01 09:04:27, geofence_exit_ts = +1781.262000, first location point = +1813.000000\n",
        "Considering phone 2\n",
        "1     33\n",
        "2     32\n",
        "3     32\n",
        "4     62\n",
        "17    36\n",
        "Name: ts, dtype: float64"
       ]
      },
      {
       "output_type": "stream",
       "stream": "stderr",
       "text": [
        "DEBUG:root:curr_query = {'$or': [{'metadata.key': 'background/location'}], 'metadata.write_ts': {'$gte': 1448993478, '$lt': 1449001257.79}, 'user_id': UUID('079e0f1a-c440-3d7c-b0e7-de160f748e35')}, sort_key = metadata.write_ts\n"
       ]
      },
      {
       "output_type": "stream",
       "stream": "stderr",
       "text": [
        "DEBUG:root:Found 247 results\n"
       ]
      },
      {
       "output_type": "stream",
       "stream": "stderr",
       "text": [
        "DEBUG:root:curr_query = {'$or': [{'metadata.key': 'background/location'}], 'metadata.write_ts': {'$gte': 1448993478, '$lt': 1449001257.79}, 'user_id': UUID('c76a0487-7e5a-3b17-a449-47be666b36f6')}, sort_key = metadata.write_ts\n"
       ]
      },
      {
       "output_type": "stream",
       "stream": "stderr",
       "text": [
        "DEBUG:root:Found 1721 results\n"
       ]
      },
      {
       "output_type": "stream",
       "stream": "stderr",
       "text": [
        "DEBUG:root:curr_query = {'$or': [{'metadata.key': 'background/location'}], 'metadata.write_ts': {'$gte': 1448993478, '$lt': 1449001257.79}, 'user_id': UUID('c528bcd2-a88b-3e82-be62-ef4f2396967a')}, sort_key = metadata.write_ts\n"
       ]
      },
      {
       "output_type": "stream",
       "stream": "stderr",
       "text": [
        "DEBUG:root:Found 285 results\n"
       ]
      },
      {
       "output_type": "stream",
       "stream": "stderr",
       "text": [
        "DEBUG:root:curr_query = {'$or': [{'metadata.key': 'background/location'}], 'metadata.write_ts': {'$gte': 1448993478, '$lt': 1449001257.79}, 'user_id': UUID('e471711e-bd14-3dbe-80b6-9c7d92ecc296')}, sort_key = metadata.write_ts\n"
       ]
      },
      {
       "output_type": "stream",
       "stream": "stderr",
       "text": [
        "DEBUG:root:Found 235 results\n"
       ]
      },
      {
       "output_type": "stream",
       "stream": "stderr",
       "text": [
        "DEBUG:root:curr_query = {'$or': [{'metadata.key': 'background/location'}], 'metadata.write_ts': {'$gte': 1448993478, '$lt': 1449001257.79}, 'user_id': UUID('fd7b4c2e-2c8b-3bfa-94f0-d1e3ecbd5fb7')}, sort_key = metadata.write_ts\n"
       ]
      },
      {
       "output_type": "stream",
       "stream": "stderr",
       "text": [
        "DEBUG:root:Found 229 results\n"
       ]
      },
      {
       "output_type": "stream",
       "stream": "stderr",
       "text": [
        "DEBUG:root:curr_query = {'$or': [{'metadata.key': 'background/location'}], 'metadata.write_ts': {'$gte': 1448993478, '$lt': 1449001257.79}, 'user_id': UUID('86842c35-da28-32ed-a90e-2da6663c5c73')}, sort_key = metadata.write_ts\n"
       ]
      },
      {
       "output_type": "stream",
       "stream": "stderr",
       "text": [
        "DEBUG:root:Found 222 results\n"
       ]
      },
      {
       "output_type": "stream",
       "stream": "stderr",
       "text": [
        "DEBUG:root:curr_query = {'$or': [{'metadata.key': 'statemachine/transition'}], 'metadata.write_ts': {'$gte': 1448993478, '$lt': 1449001257.79}, 'user_id': UUID('079e0f1a-c440-3d7c-b0e7-de160f748e35')}, sort_key = metadata.write_ts\n"
       ]
      },
      {
       "output_type": "stream",
       "stream": "stderr",
       "text": [
        "DEBUG:root:Found 0 results\n"
       ]
      },
      {
       "output_type": "stream",
       "stream": "stderr",
       "text": [
        "DEBUG:root:curr_query = {'$or': [{'metadata.key': 'statemachine/transition'}], 'metadata.write_ts': {'$gte': 1448993478, '$lt': 1449001257.79}, 'user_id': UUID('c76a0487-7e5a-3b17-a449-47be666b36f6')}, sort_key = metadata.write_ts\n"
       ]
      },
      {
       "output_type": "stream",
       "stream": "stderr",
       "text": [
        "DEBUG:root:Found 13 results\n"
       ]
      },
      {
       "output_type": "stream",
       "stream": "stderr",
       "text": [
        "DEBUG:root:curr_query = {'$or': [{'metadata.key': 'statemachine/transition'}], 'metadata.write_ts': {'$gte': 1448993478, '$lt': 1449001257.79}, 'user_id': UUID('c528bcd2-a88b-3e82-be62-ef4f2396967a')}, sort_key = metadata.write_ts\n"
       ]
      },
      {
       "output_type": "stream",
       "stream": "stderr",
       "text": [
        "DEBUG:root:Found 6 results\n"
       ]
      },
      {
       "output_type": "stream",
       "stream": "stderr",
       "text": [
        "DEBUG:root:curr_query = {'$or': [{'metadata.key': 'statemachine/transition'}], 'metadata.write_ts': {'$gte': 1448993478, '$lt': 1449001257.79}, 'user_id': UUID('e471711e-bd14-3dbe-80b6-9c7d92ecc296')}, sort_key = metadata.write_ts\n"
       ]
      },
      {
       "output_type": "stream",
       "stream": "stderr",
       "text": [
        "DEBUG:root:Found 3 results\n"
       ]
      },
      {
       "output_type": "stream",
       "stream": "stderr",
       "text": [
        "DEBUG:root:curr_query = {'$or': [{'metadata.key': 'statemachine/transition'}], 'metadata.write_ts': {'$gte': 1448993478, '$lt': 1449001257.79}, 'user_id': UUID('fd7b4c2e-2c8b-3bfa-94f0-d1e3ecbd5fb7')}, sort_key = metadata.write_ts\n"
       ]
      },
      {
       "output_type": "stream",
       "stream": "stderr",
       "text": [
        "DEBUG:root:Found 2 results\n"
       ]
      },
      {
       "output_type": "stream",
       "stream": "stderr",
       "text": [
        "DEBUG:root:curr_query = {'$or': [{'metadata.key': 'statemachine/transition'}], 'metadata.write_ts': {'$gte': 1448993478, '$lt': 1449001257.79}, 'user_id': UUID('86842c35-da28-32ed-a90e-2da6663c5c73')}, sort_key = metadata.write_ts\n"
       ]
      },
      {
       "output_type": "stream",
       "stream": "stderr",
       "text": [
        "DEBUG:root:Found 0 results\n"
       ]
      },
      {
       "output_type": "stream",
       "stream": "stdout",
       "text": [
        "\n",
        "ground truth exit = 2015-12-01 09:04:27, geofence_exit_ts = +1773.630000, first location point = +1805.000000\n",
        "Generating trip for train_to_soda\n",
        "length of lat_means = 3"
       ]
      },
      {
       "output_type": "stream",
       "stream": "stdout",
       "text": [
        "\n",
        "Considering phone 0\n",
        "len(transition_df) = 0, ground_truth_exit_ts = 1448993478, geofence was not exited!!"
       ]
      },
      {
       "output_type": "stream",
       "stream": "stderr",
       "text": [
        "DEBUG:root:timeDelta = 0, distanceDelta = %s, returning speed = 0\n"
       ]
      },
      {
       "output_type": "stream",
       "stream": "stderr",
       "text": [
        "DEBUG:root:timeDelta = 0, distanceDelta = %s, returning speed = 0\n"
       ]
      },
      {
       "output_type": "stream",
       "stream": "stderr",
       "text": [
        "DEBUG:root:timeDelta = 0, distanceDelta = %s, returning speed = 0\n"
       ]
      },
      {
       "output_type": "stream",
       "stream": "stderr",
       "text": [
        "DEBUG:root:timeDelta = 0, distanceDelta = %s, returning speed = 0\n"
       ]
      },
      {
       "output_type": "stream",
       "stream": "stderr",
       "text": [
        "DEBUG:root:timeDelta = 0, distanceDelta = %s, returning speed = 0\n"
       ]
      },
      {
       "output_type": "stream",
       "stream": "stderr",
       "text": [
        "DEBUG:root:timeDelta = 0, distanceDelta = %s, returning speed = 0\n"
       ]
      },
      {
       "output_type": "stream",
       "stream": "stderr",
       "text": [
        "DEBUG:root:timeDelta = 0, distanceDelta = %s, returning speed = 0\n"
       ]
      },
      {
       "output_type": "stream",
       "stream": "stderr",
       "text": [
        "DEBUG:root:timeDelta = 0, distanceDelta = %s, returning speed = 0\n"
       ]
      },
      {
       "output_type": "stream",
       "stream": "stderr",
       "text": [
        "DEBUG:root:timeDelta = 0, distanceDelta = %s, returning speed = 0\n"
       ]
      },
      {
       "output_type": "stream",
       "stream": "stderr",
       "text": [
        "DEBUG:root:timeDelta = 0, distanceDelta = %s, returning speed = 0\n"
       ]
      },
      {
       "output_type": "stream",
       "stream": "stderr",
       "text": [
        "DEBUG:root:timeDelta = 0, distanceDelta = %s, returning speed = 0\n"
       ]
      },
      {
       "output_type": "stream",
       "stream": "stderr",
       "text": [
        "DEBUG:root:timeDelta = 0, distanceDelta = %s, returning speed = 0\n"
       ]
      },
      {
       "output_type": "stream",
       "stream": "stderr",
       "text": [
        "DEBUG:root:timeDelta = 0, distanceDelta = %s, returning speed = 0\n"
       ]
      },
      {
       "output_type": "stream",
       "stream": "stderr",
       "text": [
        "DEBUG:root:timeDelta = 0, distanceDelta = %s, returning speed = 0\n"
       ]
      },
      {
       "output_type": "stream",
       "stream": "stderr",
       "text": [
        "DEBUG:root:timeDelta = 0, distanceDelta = %s, returning speed = 0\n"
       ]
      },
      {
       "output_type": "stream",
       "stream": "stderr",
       "text": [
        "DEBUG:root:timeDelta = 0, distanceDelta = %s, returning speed = 0\n"
       ]
      },
      {
       "output_type": "stream",
       "stream": "stderr",
       "text": [
        "DEBUG:root:timeDelta = 0, distanceDelta = %s, returning speed = 0\n"
       ]
      },
      {
       "output_type": "stream",
       "stream": "stderr",
       "text": [
        "DEBUG:root:timeDelta = 0, distanceDelta = %s, returning speed = 0\n"
       ]
      },
      {
       "output_type": "stream",
       "stream": "stderr",
       "text": [
        "DEBUG:root:timeDelta = 0, distanceDelta = %s, returning speed = 0\n"
       ]
      },
      {
       "output_type": "stream",
       "stream": "stderr",
       "text": [
        "DEBUG:root:timeDelta = 0, distanceDelta = %s, returning speed = 0\n"
       ]
      },
      {
       "output_type": "stream",
       "stream": "stderr",
       "text": [
        "DEBUG:root:timeDelta = 0, distanceDelta = %s, returning speed = 0\n"
       ]
      },
      {
       "output_type": "stream",
       "stream": "stderr",
       "text": [
        "DEBUG:root:timeDelta = 0, distanceDelta = %s, returning speed = 0\n"
       ]
      },
      {
       "output_type": "stream",
       "stream": "stderr",
       "text": [
        "DEBUG:root:timeDelta = 0, distanceDelta = %s, returning speed = 0\n"
       ]
      },
      {
       "output_type": "stream",
       "stream": "stderr",
       "text": [
        "DEBUG:root:timeDelta = 0, distanceDelta = %s, returning speed = 0\n"
       ]
      },
      {
       "output_type": "stream",
       "stream": "stderr",
       "text": [
        "DEBUG:root:timeDelta = 0, distanceDelta = %s, returning speed = 0\n"
       ]
      },
      {
       "output_type": "stream",
       "stream": "stderr",
       "text": [
        "DEBUG:root:timeDelta = 0, distanceDelta = %s, returning speed = 0\n"
       ]
      },
      {
       "output_type": "stream",
       "stream": "stderr",
       "text": [
        "DEBUG:root:timeDelta = 0, distanceDelta = %s, returning speed = 0\n"
       ]
      },
      {
       "output_type": "stream",
       "stream": "stderr",
       "text": [
        "DEBUG:root:timeDelta = 0, distanceDelta = %s, returning speed = 0\n"
       ]
      },
      {
       "output_type": "stream",
       "stream": "stderr",
       "text": [
        "DEBUG:root:timeDelta = 0, distanceDelta = %s, returning speed = 0\n"
       ]
      },
      {
       "output_type": "stream",
       "stream": "stderr",
       "text": [
        "DEBUG:root:timeDelta = 0, distanceDelta = %s, returning speed = 0\n"
       ]
      },
      {
       "output_type": "stream",
       "stream": "stderr",
       "text": [
        "DEBUG:root:timeDelta = 0, distanceDelta = %s, returning speed = 0\n"
       ]
      },
      {
       "output_type": "stream",
       "stream": "stderr",
       "text": [
        "DEBUG:root:timeDelta = 0, distanceDelta = %s, returning speed = 0\n"
       ]
      },
      {
       "output_type": "stream",
       "stream": "stderr",
       "text": [
        "DEBUG:root:timeDelta = 0, distanceDelta = %s, returning speed = 0\n"
       ]
      },
      {
       "output_type": "stream",
       "stream": "stderr",
       "text": [
        "DEBUG:root:timeDelta = 0, distanceDelta = %s, returning speed = 0\n"
       ]
      },
      {
       "output_type": "stream",
       "stream": "stderr",
       "text": [
        "DEBUG:root:timeDelta = 0, distanceDelta = %s, returning speed = 0\n"
       ]
      },
      {
       "output_type": "stream",
       "stream": "stderr",
       "text": [
        "DEBUG:root:timeDelta = 0, distanceDelta = %s, returning speed = 0\n"
       ]
      },
      {
       "output_type": "stream",
       "stream": "stderr",
       "text": [
        "DEBUG:root:timeDelta = 0, distanceDelta = %s, returning speed = 0\n"
       ]
      },
      {
       "output_type": "stream",
       "stream": "stderr",
       "text": [
        "DEBUG:root:timeDelta = 0, distanceDelta = %s, returning speed = 0\n"
       ]
      },
      {
       "output_type": "stream",
       "stream": "stderr",
       "text": [
        "DEBUG:root:timeDelta = 0, distanceDelta = %s, returning speed = 0\n"
       ]
      },
      {
       "output_type": "stream",
       "stream": "stderr",
       "text": [
        "DEBUG:root:timeDelta = 0, distanceDelta = %s, returning speed = 0\n"
       ]
      },
      {
       "output_type": "stream",
       "stream": "stderr",
       "text": [
        "DEBUG:root:timeDelta = 0, distanceDelta = %s, returning speed = 0\n"
       ]
      },
      {
       "output_type": "stream",
       "stream": "stderr",
       "text": [
        "DEBUG:root:timeDelta = 0, distanceDelta = %s, returning speed = 0\n"
       ]
      },
      {
       "output_type": "stream",
       "stream": "stderr",
       "text": [
        "DEBUG:root:timeDelta = 0, distanceDelta = %s, returning speed = 0\n"
       ]
      },
      {
       "output_type": "stream",
       "stream": "stderr",
       "text": [
        "DEBUG:root:timeDelta = 0, distanceDelta = %s, returning speed = 0\n"
       ]
      },
      {
       "output_type": "stream",
       "stream": "stderr",
       "text": [
        "DEBUG:root:timeDelta = 0, distanceDelta = %s, returning speed = 0\n"
       ]
      },
      {
       "output_type": "stream",
       "stream": "stderr",
       "text": [
        "DEBUG:root:timeDelta = 0, distanceDelta = %s, returning speed = 0\n"
       ]
      },
      {
       "output_type": "stream",
       "stream": "stderr",
       "text": [
        "DEBUG:root:timeDelta = 0, distanceDelta = %s, returning speed = 0\n"
       ]
      },
      {
       "output_type": "stream",
       "stream": "stderr",
       "text": [
        "DEBUG:root:timeDelta = 0, distanceDelta = %s, returning speed = 0\n"
       ]
      },
      {
       "output_type": "stream",
       "stream": "stderr",
       "text": [
        "DEBUG:root:timeDelta = 0, distanceDelta = %s, returning speed = 0\n"
       ]
      },
      {
       "output_type": "stream",
       "stream": "stderr",
       "text": [
        "DEBUG:root:timeDelta = 0, distanceDelta = %s, returning speed = 0\n"
       ]
      },
      {
       "output_type": "stream",
       "stream": "stderr",
       "text": [
        "DEBUG:root:timeDelta = 0, distanceDelta = %s, returning speed = 0\n"
       ]
      },
      {
       "output_type": "stream",
       "stream": "stderr",
       "text": [
        "DEBUG:root:timeDelta = 0, distanceDelta = %s, returning speed = 0\n"
       ]
      },
      {
       "output_type": "stream",
       "stream": "stderr",
       "text": [
        "DEBUG:root:timeDelta = 0, distanceDelta = %s, returning speed = 0\n"
       ]
      },
      {
       "output_type": "stream",
       "stream": "stderr",
       "text": [
        "DEBUG:root:timeDelta = 0, distanceDelta = %s, returning speed = 0\n"
       ]
      },
      {
       "output_type": "stream",
       "stream": "stderr",
       "text": [
        "DEBUG:root:timeDelta = 0, distanceDelta = %s, returning speed = 0\n"
       ]
      },
      {
       "output_type": "stream",
       "stream": "stderr",
       "text": [
        "DEBUG:root:timeDelta = 0, distanceDelta = %s, returning speed = 0\n"
       ]
      },
      {
       "output_type": "stream",
       "stream": "stderr",
       "text": [
        "DEBUG:root:timeDelta = 0, distanceDelta = %s, returning speed = 0\n"
       ]
      },
      {
       "output_type": "stream",
       "stream": "stderr",
       "text": [
        "DEBUG:root:timeDelta = 0, distanceDelta = %s, returning speed = 0\n"
       ]
      },
      {
       "output_type": "stream",
       "stream": "stderr",
       "text": [
        "DEBUG:root:timeDelta = 0, distanceDelta = %s, returning speed = 0\n"
       ]
      },
      {
       "output_type": "stream",
       "stream": "stderr",
       "text": [
        "DEBUG:root:timeDelta = 0, distanceDelta = %s, returning speed = 0\n"
       ]
      },
      {
       "output_type": "stream",
       "stream": "stderr",
       "text": [
        "DEBUG:root:timeDelta = 0, distanceDelta = %s, returning speed = 0\n"
       ]
      },
      {
       "output_type": "stream",
       "stream": "stderr",
       "text": [
        "DEBUG:root:timeDelta = 0, distanceDelta = %s, returning speed = 0\n"
       ]
      },
      {
       "output_type": "stream",
       "stream": "stderr",
       "text": [
        "DEBUG:root:timeDelta = 0, distanceDelta = %s, returning speed = 0\n"
       ]
      },
      {
       "output_type": "stream",
       "stream": "stderr",
       "text": [
        "DEBUG:root:timeDelta = 0, distanceDelta = %s, returning speed = 0\n"
       ]
      },
      {
       "output_type": "stream",
       "stream": "stderr",
       "text": [
        "DEBUG:root:timeDelta = 0, distanceDelta = %s, returning speed = 0\n"
       ]
      },
      {
       "output_type": "stream",
       "stream": "stderr",
       "text": [
        "DEBUG:root:timeDelta = 0, distanceDelta = %s, returning speed = 0\n"
       ]
      },
      {
       "output_type": "stream",
       "stream": "stderr",
       "text": [
        "DEBUG:root:timeDelta = 0, distanceDelta = %s, returning speed = 0\n"
       ]
      },
      {
       "output_type": "stream",
       "stream": "stderr",
       "text": [
        "DEBUG:root:timeDelta = 0, distanceDelta = %s, returning speed = 0\n"
       ]
      },
      {
       "output_type": "stream",
       "stream": "stderr",
       "text": [
        "DEBUG:root:timeDelta = 0, distanceDelta = %s, returning speed = 0\n"
       ]
      },
      {
       "output_type": "stream",
       "stream": "stderr",
       "text": [
        "DEBUG:root:timeDelta = 0, distanceDelta = %s, returning speed = 0\n"
       ]
      },
      {
       "output_type": "stream",
       "stream": "stderr",
       "text": [
        "DEBUG:root:timeDelta = 0, distanceDelta = %s, returning speed = 0\n"
       ]
      },
      {
       "output_type": "stream",
       "stream": "stderr",
       "text": [
        "DEBUG:root:timeDelta = 0, distanceDelta = %s, returning speed = 0\n"
       ]
      },
      {
       "output_type": "stream",
       "stream": "stderr",
       "text": [
        "DEBUG:root:timeDelta = 0, distanceDelta = %s, returning speed = 0\n"
       ]
      },
      {
       "output_type": "stream",
       "stream": "stderr",
       "text": [
        "DEBUG:root:timeDelta = 0, distanceDelta = %s, returning speed = 0\n"
       ]
      },
      {
       "output_type": "stream",
       "stream": "stderr",
       "text": [
        "DEBUG:root:timeDelta = 0, distanceDelta = %s, returning speed = 0\n"
       ]
      },
      {
       "output_type": "stream",
       "stream": "stderr",
       "text": [
        "DEBUG:root:timeDelta = 0, distanceDelta = %s, returning speed = 0\n"
       ]
      },
      {
       "output_type": "stream",
       "stream": "stderr",
       "text": [
        "DEBUG:root:timeDelta = 0, distanceDelta = %s, returning speed = 0\n"
       ]
      },
      {
       "output_type": "stream",
       "stream": "stderr",
       "text": [
        "DEBUG:root:timeDelta = 0, distanceDelta = %s, returning speed = 0\n"
       ]
      },
      {
       "output_type": "stream",
       "stream": "stderr",
       "text": [
        "DEBUG:root:timeDelta = 0, distanceDelta = %s, returning speed = 0\n"
       ]
      },
      {
       "output_type": "stream",
       "stream": "stderr",
       "text": [
        "DEBUG:root:timeDelta = 0, distanceDelta = %s, returning speed = 0\n"
       ]
      },
      {
       "output_type": "stream",
       "stream": "stderr",
       "text": [
        "DEBUG:root:timeDelta = 0, distanceDelta = %s, returning speed = 0\n"
       ]
      },
      {
       "output_type": "stream",
       "stream": "stderr",
       "text": [
        "DEBUG:root:timeDelta = 0, distanceDelta = %s, returning speed = 0\n"
       ]
      },
      {
       "output_type": "stream",
       "stream": "stderr",
       "text": [
        "DEBUG:root:timeDelta = 0, distanceDelta = %s, returning speed = 0\n"
       ]
      },
      {
       "output_type": "stream",
       "stream": "stderr",
       "text": [
        "DEBUG:root:timeDelta = 0, distanceDelta = %s, returning speed = 0\n"
       ]
      },
      {
       "output_type": "stream",
       "stream": "stderr",
       "text": [
        "DEBUG:root:timeDelta = 0, distanceDelta = %s, returning speed = 0\n"
       ]
      },
      {
       "output_type": "stream",
       "stream": "stderr",
       "text": [
        "DEBUG:root:timeDelta = 0, distanceDelta = %s, returning speed = 0\n"
       ]
      },
      {
       "output_type": "stream",
       "stream": "stderr",
       "text": [
        "DEBUG:root:timeDelta = 0, distanceDelta = %s, returning speed = 0\n"
       ]
      },
      {
       "output_type": "stream",
       "stream": "stderr",
       "text": [
        "DEBUG:root:timeDelta = 0, distanceDelta = %s, returning speed = 0\n"
       ]
      },
      {
       "output_type": "stream",
       "stream": "stderr",
       "text": [
        "DEBUG:root:timeDelta = 0, distanceDelta = %s, returning speed = 0\n"
       ]
      },
      {
       "output_type": "stream",
       "stream": "stderr",
       "text": [
        "DEBUG:root:timeDelta = 0, distanceDelta = %s, returning speed = 0\n"
       ]
      },
      {
       "output_type": "stream",
       "stream": "stderr",
       "text": [
        "DEBUG:root:timeDelta = 0, distanceDelta = %s, returning speed = 0\n"
       ]
      },
      {
       "output_type": "stream",
       "stream": "stderr",
       "text": [
        "DEBUG:root:timeDelta = 0, distanceDelta = %s, returning speed = 0\n"
       ]
      },
      {
       "output_type": "stream",
       "stream": "stderr",
       "text": [
        "DEBUG:root:timeDelta = 0, distanceDelta = %s, returning speed = 0\n"
       ]
      },
      {
       "output_type": "stream",
       "stream": "stderr",
       "text": [
        "DEBUG:root:timeDelta = 0, distanceDelta = %s, returning speed = 0\n"
       ]
      },
      {
       "output_type": "stream",
       "stream": "stderr",
       "text": [
        "DEBUG:root:timeDelta = 0, distanceDelta = %s, returning speed = 0\n"
       ]
      },
      {
       "output_type": "stream",
       "stream": "stderr",
       "text": [
        "DEBUG:root:timeDelta = 0, distanceDelta = %s, returning speed = 0\n"
       ]
      },
      {
       "output_type": "stream",
       "stream": "stderr",
       "text": [
        "DEBUG:root:timeDelta = 0, distanceDelta = %s, returning speed = 0\n"
       ]
      },
      {
       "output_type": "stream",
       "stream": "stderr",
       "text": [
        "DEBUG:root:timeDelta = 0, distanceDelta = %s, returning speed = 0\n"
       ]
      },
      {
       "output_type": "stream",
       "stream": "stderr",
       "text": [
        "DEBUG:root:timeDelta = 0, distanceDelta = %s, returning speed = 0\n"
       ]
      },
      {
       "output_type": "stream",
       "stream": "stderr",
       "text": [
        "DEBUG:root:timeDelta = 0, distanceDelta = %s, returning speed = 0\n"
       ]
      },
      {
       "output_type": "stream",
       "stream": "stderr",
       "text": [
        "DEBUG:root:timeDelta = 0, distanceDelta = %s, returning speed = 0\n"
       ]
      },
      {
       "output_type": "stream",
       "stream": "stderr",
       "text": [
        "DEBUG:root:timeDelta = 0, distanceDelta = %s, returning speed = 0\n"
       ]
      },
      {
       "output_type": "stream",
       "stream": "stderr",
       "text": [
        "DEBUG:root:timeDelta = 0, distanceDelta = %s, returning speed = 0\n"
       ]
      },
      {
       "output_type": "stream",
       "stream": "stderr",
       "text": [
        "DEBUG:root:timeDelta = 0, distanceDelta = %s, returning speed = 0\n"
       ]
      },
      {
       "output_type": "stream",
       "stream": "stderr",
       "text": [
        "DEBUG:root:timeDelta = 0, distanceDelta = %s, returning speed = 0\n"
       ]
      },
      {
       "output_type": "stream",
       "stream": "stderr",
       "text": [
        "DEBUG:root:timeDelta = 0, distanceDelta = %s, returning speed = 0\n"
       ]
      },
      {
       "output_type": "stream",
       "stream": "stderr",
       "text": [
        "DEBUG:root:timeDelta = 0, distanceDelta = %s, returning speed = 0\n"
       ]
      },
      {
       "output_type": "stream",
       "stream": "stderr",
       "text": [
        "DEBUG:root:timeDelta = 0, distanceDelta = %s, returning speed = 0\n"
       ]
      },
      {
       "output_type": "stream",
       "stream": "stderr",
       "text": [
        "DEBUG:root:timeDelta = 0, distanceDelta = %s, returning speed = 0\n"
       ]
      },
      {
       "output_type": "stream",
       "stream": "stderr",
       "text": [
        "DEBUG:root:timeDelta = 0, distanceDelta = %s, returning speed = 0\n"
       ]
      },
      {
       "output_type": "stream",
       "stream": "stderr",
       "text": [
        "DEBUG:root:timeDelta = 0, distanceDelta = %s, returning speed = 0\n"
       ]
      },
      {
       "output_type": "stream",
       "stream": "stderr",
       "text": [
        "DEBUG:root:timeDelta = 0, distanceDelta = %s, returning speed = 0\n"
       ]
      },
      {
       "output_type": "stream",
       "stream": "stderr",
       "text": [
        "DEBUG:root:timeDelta = 0, distanceDelta = %s, returning speed = 0\n"
       ]
      },
      {
       "output_type": "stream",
       "stream": "stderr",
       "text": [
        "DEBUG:root:timeDelta = 0, distanceDelta = %s, returning speed = 0\n"
       ]
      },
      {
       "output_type": "stream",
       "stream": "stderr",
       "text": [
        "DEBUG:root:timeDelta = 0, distanceDelta = %s, returning speed = 0\n"
       ]
      },
      {
       "output_type": "stream",
       "stream": "stderr",
       "text": [
        "DEBUG:root:timeDelta = 0, distanceDelta = %s, returning speed = 0\n"
       ]
      },
      {
       "output_type": "stream",
       "stream": "stderr",
       "text": [
        "DEBUG:root:timeDelta = 0, distanceDelta = %s, returning speed = 0\n"
       ]
      },
      {
       "output_type": "stream",
       "stream": "stderr",
       "text": [
        "DEBUG:root:timeDelta = 0, distanceDelta = %s, returning speed = 0\n"
       ]
      },
      {
       "output_type": "stream",
       "stream": "stderr",
       "text": [
        "DEBUG:root:timeDelta = 0, distanceDelta = %s, returning speed = 0\n"
       ]
      },
      {
       "output_type": "stream",
       "stream": "stderr",
       "text": [
        "DEBUG:root:timeDelta = 0, distanceDelta = %s, returning speed = 0\n"
       ]
      },
      {
       "output_type": "stream",
       "stream": "stderr",
       "text": [
        "DEBUG:root:timeDelta = 0, distanceDelta = %s, returning speed = 0\n"
       ]
      },
      {
       "output_type": "stream",
       "stream": "stderr",
       "text": [
        "DEBUG:root:timeDelta = 0, distanceDelta = %s, returning speed = 0\n"
       ]
      },
      {
       "output_type": "stream",
       "stream": "stderr",
       "text": [
        "DEBUG:root:timeDelta = 0, distanceDelta = %s, returning speed = 0\n"
       ]
      },
      {
       "output_type": "stream",
       "stream": "stderr",
       "text": [
        "DEBUG:root:timeDelta = 0, distanceDelta = %s, returning speed = 0\n"
       ]
      },
      {
       "output_type": "stream",
       "stream": "stderr",
       "text": [
        "DEBUG:root:timeDelta = 0, distanceDelta = %s, returning speed = 0\n"
       ]
      },
      {
       "output_type": "stream",
       "stream": "stderr",
       "text": [
        "DEBUG:root:timeDelta = 0, distanceDelta = %s, returning speed = 0\n"
       ]
      },
      {
       "output_type": "stream",
       "stream": "stderr",
       "text": [
        "DEBUG:root:timeDelta = 0, distanceDelta = %s, returning speed = 0\n"
       ]
      },
      {
       "output_type": "stream",
       "stream": "stderr",
       "text": [
        "DEBUG:root:timeDelta = 0, distanceDelta = %s, returning speed = 0\n"
       ]
      },
      {
       "output_type": "stream",
       "stream": "stderr",
       "text": [
        "DEBUG:root:timeDelta = 0, distanceDelta = %s, returning speed = 0\n"
       ]
      },
      {
       "output_type": "stream",
       "stream": "stderr",
       "text": [
        "DEBUG:root:timeDelta = 0, distanceDelta = %s, returning speed = 0\n"
       ]
      },
      {
       "output_type": "stream",
       "stream": "stderr",
       "text": [
        "DEBUG:root:timeDelta = 0, distanceDelta = %s, returning speed = 0\n"
       ]
      },
      {
       "output_type": "stream",
       "stream": "stderr",
       "text": [
        "DEBUG:root:timeDelta = 0, distanceDelta = %s, returning speed = 0\n"
       ]
      },
      {
       "output_type": "stream",
       "stream": "stderr",
       "text": [
        "DEBUG:root:timeDelta = 0, distanceDelta = %s, returning speed = 0\n"
       ]
      },
      {
       "output_type": "stream",
       "stream": "stderr",
       "text": [
        "DEBUG:root:timeDelta = 0, distanceDelta = %s, returning speed = 0\n"
       ]
      },
      {
       "output_type": "stream",
       "stream": "stderr",
       "text": [
        "DEBUG:root:timeDelta = 0, distanceDelta = %s, returning speed = 0\n"
       ]
      },
      {
       "output_type": "stream",
       "stream": "stderr",
       "text": [
        "DEBUG:root:timeDelta = 0, distanceDelta = %s, returning speed = 0\n"
       ]
      },
      {
       "output_type": "stream",
       "stream": "stderr",
       "text": [
        "DEBUG:root:timeDelta = 0, distanceDelta = %s, returning speed = 0\n"
       ]
      },
      {
       "output_type": "stream",
       "stream": "stderr",
       "text": [
        "DEBUG:root:timeDelta = 0, distanceDelta = %s, returning speed = 0\n"
       ]
      },
      {
       "output_type": "stream",
       "stream": "stderr",
       "text": [
        "DEBUG:root:timeDelta = 0, distanceDelta = %s, returning speed = 0\n"
       ]
      },
      {
       "output_type": "stream",
       "stream": "stderr",
       "text": [
        "DEBUG:root:timeDelta = 0, distanceDelta = %s, returning speed = 0\n"
       ]
      },
      {
       "output_type": "stream",
       "stream": "stderr",
       "text": [
        "DEBUG:root:timeDelta = 0, distanceDelta = %s, returning speed = 0\n"
       ]
      },
      {
       "output_type": "stream",
       "stream": "stderr",
       "text": [
        "DEBUG:root:timeDelta = 0, distanceDelta = %s, returning speed = 0\n"
       ]
      },
      {
       "output_type": "stream",
       "stream": "stderr",
       "text": [
        "DEBUG:root:timeDelta = 0, distanceDelta = %s, returning speed = 0\n"
       ]
      },
      {
       "output_type": "stream",
       "stream": "stderr",
       "text": [
        "DEBUG:root:timeDelta = 0, distanceDelta = %s, returning speed = 0\n"
       ]
      },
      {
       "output_type": "stream",
       "stream": "stderr",
       "text": [
        "DEBUG:root:timeDelta = 0, distanceDelta = %s, returning speed = 0\n"
       ]
      },
      {
       "output_type": "stream",
       "stream": "stderr",
       "text": [
        "DEBUG:root:timeDelta = 0, distanceDelta = %s, returning speed = 0\n"
       ]
      },
      {
       "output_type": "stream",
       "stream": "stderr",
       "text": [
        "DEBUG:root:timeDelta = 0, distanceDelta = %s, returning speed = 0\n"
       ]
      },
      {
       "output_type": "stream",
       "stream": "stderr",
       "text": [
        "DEBUG:root:timeDelta = 0, distanceDelta = %s, returning speed = 0\n"
       ]
      },
      {
       "output_type": "stream",
       "stream": "stderr",
       "text": [
        "DEBUG:root:timeDelta = 0, distanceDelta = %s, returning speed = 0\n"
       ]
      },
      {
       "output_type": "stream",
       "stream": "stderr",
       "text": [
        "DEBUG:root:timeDelta = 0, distanceDelta = %s, returning speed = 0\n"
       ]
      },
      {
       "output_type": "stream",
       "stream": "stderr",
       "text": [
        "DEBUG:root:timeDelta = 0, distanceDelta = %s, returning speed = 0\n"
       ]
      },
      {
       "output_type": "stream",
       "stream": "stderr",
       "text": [
        "DEBUG:root:timeDelta = 0, distanceDelta = %s, returning speed = 0\n"
       ]
      },
      {
       "output_type": "stream",
       "stream": "stderr",
       "text": [
        "DEBUG:root:timeDelta = 0, distanceDelta = %s, returning speed = 0\n"
       ]
      },
      {
       "output_type": "stream",
       "stream": "stderr",
       "text": [
        "DEBUG:root:timeDelta = 0, distanceDelta = %s, returning speed = 0\n"
       ]
      },
      {
       "output_type": "stream",
       "stream": "stderr",
       "text": [
        "DEBUG:root:timeDelta = 0, distanceDelta = %s, returning speed = 0\n"
       ]
      },
      {
       "output_type": "stream",
       "stream": "stderr",
       "text": [
        "DEBUG:root:timeDelta = 0, distanceDelta = %s, returning speed = 0\n"
       ]
      },
      {
       "output_type": "stream",
       "stream": "stderr",
       "text": [
        "DEBUG:root:timeDelta = 0, distanceDelta = %s, returning speed = 0\n"
       ]
      },
      {
       "output_type": "stream",
       "stream": "stderr",
       "text": [
        "DEBUG:root:timeDelta = 0, distanceDelta = %s, returning speed = 0\n"
       ]
      },
      {
       "output_type": "stream",
       "stream": "stderr",
       "text": [
        "DEBUG:root:timeDelta = 0, distanceDelta = %s, returning speed = 0\n"
       ]
      },
      {
       "output_type": "stream",
       "stream": "stderr",
       "text": [
        "DEBUG:root:timeDelta = 0, distanceDelta = %s, returning speed = 0\n"
       ]
      },
      {
       "output_type": "stream",
       "stream": "stderr",
       "text": [
        "DEBUG:root:timeDelta = 0, distanceDelta = %s, returning speed = 0\n"
       ]
      },
      {
       "output_type": "stream",
       "stream": "stderr",
       "text": [
        "DEBUG:root:timeDelta = 0, distanceDelta = %s, returning speed = 0\n"
       ]
      },
      {
       "output_type": "stream",
       "stream": "stderr",
       "text": [
        "DEBUG:root:timeDelta = 0, distanceDelta = %s, returning speed = 0\n"
       ]
      },
      {
       "output_type": "stream",
       "stream": "stderr",
       "text": [
        "DEBUG:root:timeDelta = 0, distanceDelta = %s, returning speed = 0\n"
       ]
      },
      {
       "output_type": "stream",
       "stream": "stderr",
       "text": [
        "DEBUG:root:timeDelta = 0, distanceDelta = %s, returning speed = 0\n"
       ]
      },
      {
       "output_type": "stream",
       "stream": "stderr",
       "text": [
        "DEBUG:root:timeDelta = 0, distanceDelta = %s, returning speed = 0\n"
       ]
      },
      {
       "output_type": "stream",
       "stream": "stderr",
       "text": [
        "DEBUG:root:timeDelta = 0, distanceDelta = %s, returning speed = 0\n"
       ]
      },
      {
       "output_type": "stream",
       "stream": "stderr",
       "text": [
        "DEBUG:root:timeDelta = 0, distanceDelta = %s, returning speed = 0\n"
       ]
      },
      {
       "output_type": "stream",
       "stream": "stderr",
       "text": [
        "DEBUG:root:timeDelta = 0, distanceDelta = %s, returning speed = 0\n"
       ]
      },
      {
       "output_type": "stream",
       "stream": "stderr",
       "text": [
        "DEBUG:root:timeDelta = 0, distanceDelta = %s, returning speed = 0\n"
       ]
      },
      {
       "output_type": "stream",
       "stream": "stderr",
       "text": [
        "DEBUG:root:timeDelta = 0, distanceDelta = %s, returning speed = 0\n"
       ]
      },
      {
       "output_type": "stream",
       "stream": "stderr",
       "text": [
        "DEBUG:root:timeDelta = 0, distanceDelta = %s, returning speed = 0\n"
       ]
      },
      {
       "output_type": "stream",
       "stream": "stderr",
       "text": [
        "DEBUG:root:timeDelta = 0, distanceDelta = %s, returning speed = 0\n"
       ]
      },
      {
       "output_type": "stream",
       "stream": "stderr",
       "text": [
        "DEBUG:root:timeDelta = 0, distanceDelta = %s, returning speed = 0\n"
       ]
      },
      {
       "output_type": "stream",
       "stream": "stderr",
       "text": [
        "DEBUG:root:timeDelta = 0, distanceDelta = %s, returning speed = 0\n"
       ]
      },
      {
       "output_type": "stream",
       "stream": "stderr",
       "text": [
        "DEBUG:root:timeDelta = 0, distanceDelta = %s, returning speed = 0\n"
       ]
      },
      {
       "output_type": "stream",
       "stream": "stderr",
       "text": [
        "DEBUG:root:timeDelta = 0, distanceDelta = %s, returning speed = 0\n"
       ]
      },
      {
       "output_type": "stream",
       "stream": "stderr",
       "text": [
        "DEBUG:root:timeDelta = 0, distanceDelta = %s, returning speed = 0\n"
       ]
      },
      {
       "output_type": "stream",
       "stream": "stderr",
       "text": [
        "DEBUG:root:timeDelta = 0, distanceDelta = %s, returning speed = 0\n"
       ]
      },
      {
       "output_type": "stream",
       "stream": "stderr",
       "text": [
        "DEBUG:root:timeDelta = 0, distanceDelta = %s, returning speed = 0\n"
       ]
      },
      {
       "output_type": "stream",
       "stream": "stderr",
       "text": [
        "DEBUG:root:timeDelta = 0, distanceDelta = %s, returning speed = 0\n"
       ]
      },
      {
       "output_type": "stream",
       "stream": "stderr",
       "text": [
        "DEBUG:root:timeDelta = 0, distanceDelta = %s, returning speed = 0\n"
       ]
      },
      {
       "output_type": "stream",
       "stream": "stderr",
       "text": [
        "DEBUG:root:timeDelta = 0, distanceDelta = %s, returning speed = 0\n"
       ]
      },
      {
       "output_type": "stream",
       "stream": "stderr",
       "text": [
        "DEBUG:root:timeDelta = 0, distanceDelta = %s, returning speed = 0\n"
       ]
      },
      {
       "output_type": "stream",
       "stream": "stderr",
       "text": [
        "DEBUG:root:timeDelta = 0, distanceDelta = %s, returning speed = 0\n"
       ]
      },
      {
       "output_type": "stream",
       "stream": "stderr",
       "text": [
        "DEBUG:root:timeDelta = 0, distanceDelta = %s, returning speed = 0\n"
       ]
      },
      {
       "output_type": "stream",
       "stream": "stderr",
       "text": [
        "DEBUG:root:timeDelta = 0, distanceDelta = %s, returning speed = 0\n"
       ]
      },
      {
       "output_type": "stream",
       "stream": "stderr",
       "text": [
        "DEBUG:root:timeDelta = 0, distanceDelta = %s, returning speed = 0\n"
       ]
      },
      {
       "output_type": "stream",
       "stream": "stderr",
       "text": [
        "DEBUG:root:timeDelta = 0, distanceDelta = %s, returning speed = 0\n"
       ]
      },
      {
       "output_type": "stream",
       "stream": "stderr",
       "text": [
        "DEBUG:root:timeDelta = 0, distanceDelta = %s, returning speed = 0\n"
       ]
      },
      {
       "output_type": "stream",
       "stream": "stderr",
       "text": [
        "DEBUG:root:timeDelta = 0, distanceDelta = %s, returning speed = 0\n"
       ]
      },
      {
       "output_type": "stream",
       "stream": "stderr",
       "text": [
        "DEBUG:root:timeDelta = 0, distanceDelta = %s, returning speed = 0\n"
       ]
      },
      {
       "output_type": "stream",
       "stream": "stderr",
       "text": [
        "DEBUG:root:timeDelta = 0, distanceDelta = %s, returning speed = 0\n"
       ]
      },
      {
       "output_type": "stream",
       "stream": "stderr",
       "text": [
        "DEBUG:root:timeDelta = 0, distanceDelta = %s, returning speed = 0\n"
       ]
      },
      {
       "output_type": "stream",
       "stream": "stderr",
       "text": [
        "DEBUG:root:timeDelta = 0, distanceDelta = %s, returning speed = 0\n"
       ]
      },
      {
       "output_type": "stream",
       "stream": "stderr",
       "text": [
        "DEBUG:root:timeDelta = 0, distanceDelta = %s, returning speed = 0\n"
       ]
      },
      {
       "output_type": "stream",
       "stream": "stderr",
       "text": [
        "DEBUG:root:timeDelta = 0, distanceDelta = %s, returning speed = 0\n"
       ]
      },
      {
       "output_type": "stream",
       "stream": "stderr",
       "text": [
        "DEBUG:root:timeDelta = 0, distanceDelta = %s, returning speed = 0\n"
       ]
      },
      {
       "output_type": "stream",
       "stream": "stderr",
       "text": [
        "DEBUG:root:timeDelta = 0, distanceDelta = %s, returning speed = 0\n"
       ]
      },
      {
       "output_type": "stream",
       "stream": "stderr",
       "text": [
        "DEBUG:root:timeDelta = 0, distanceDelta = %s, returning speed = 0\n"
       ]
      },
      {
       "output_type": "stream",
       "stream": "stderr",
       "text": [
        "DEBUG:root:timeDelta = 0, distanceDelta = %s, returning speed = 0\n"
       ]
      },
      {
       "output_type": "stream",
       "stream": "stderr",
       "text": [
        "DEBUG:root:timeDelta = 0, distanceDelta = %s, returning speed = 0\n"
       ]
      },
      {
       "output_type": "stream",
       "stream": "stderr",
       "text": [
        "DEBUG:root:timeDelta = 0, distanceDelta = %s, returning speed = 0\n"
       ]
      },
      {
       "output_type": "stream",
       "stream": "stderr",
       "text": [
        "DEBUG:root:timeDelta = 0, distanceDelta = %s, returning speed = 0\n"
       ]
      },
      {
       "output_type": "stream",
       "stream": "stderr",
       "text": [
        "DEBUG:root:timeDelta = 0, distanceDelta = %s, returning speed = 0\n"
       ]
      },
      {
       "output_type": "stream",
       "stream": "stderr",
       "text": [
        "DEBUG:root:timeDelta = 0, distanceDelta = %s, returning speed = 0\n"
       ]
      },
      {
       "output_type": "stream",
       "stream": "stderr",
       "text": [
        "DEBUG:root:timeDelta = 0, distanceDelta = %s, returning speed = 0\n"
       ]
      },
      {
       "output_type": "stream",
       "stream": "stderr",
       "text": [
        "DEBUG:root:timeDelta = 0, distanceDelta = %s, returning speed = 0\n"
       ]
      },
      {
       "output_type": "stream",
       "stream": "stderr",
       "text": [
        "DEBUG:root:timeDelta = 0, distanceDelta = %s, returning speed = 0\n"
       ]
      },
      {
       "output_type": "stream",
       "stream": "stderr",
       "text": [
        "DEBUG:root:timeDelta = 0, distanceDelta = %s, returning speed = 0\n"
       ]
      },
      {
       "output_type": "stream",
       "stream": "stderr",
       "text": [
        "DEBUG:root:timeDelta = 0, distanceDelta = %s, returning speed = 0\n"
       ]
      },
      {
       "output_type": "stream",
       "stream": "stderr",
       "text": [
        "DEBUG:root:timeDelta = 0, distanceDelta = %s, returning speed = 0\n"
       ]
      },
      {
       "output_type": "stream",
       "stream": "stderr",
       "text": [
        "DEBUG:root:timeDelta = 0, distanceDelta = %s, returning speed = 0\n"
       ]
      },
      {
       "output_type": "stream",
       "stream": "stderr",
       "text": [
        "DEBUG:root:timeDelta = 0, distanceDelta = %s, returning speed = 0\n"
       ]
      },
      {
       "output_type": "stream",
       "stream": "stderr",
       "text": [
        "DEBUG:root:timeDelta = 0, distanceDelta = %s, returning speed = 0\n"
       ]
      },
      {
       "output_type": "stream",
       "stream": "stderr",
       "text": [
        "DEBUG:root:timeDelta = 0, distanceDelta = %s, returning speed = 0\n"
       ]
      },
      {
       "output_type": "stream",
       "stream": "stderr",
       "text": [
        "DEBUG:root:timeDelta = 0, distanceDelta = %s, returning speed = 0\n"
       ]
      },
      {
       "output_type": "stream",
       "stream": "stderr",
       "text": [
        "DEBUG:root:timeDelta = 0, distanceDelta = %s, returning speed = 0\n"
       ]
      },
      {
       "output_type": "stream",
       "stream": "stderr",
       "text": [
        "DEBUG:root:timeDelta = 0, distanceDelta = %s, returning speed = 0\n"
       ]
      },
      {
       "output_type": "stream",
       "stream": "stderr",
       "text": [
        "DEBUG:root:timeDelta = 0, distanceDelta = %s, returning speed = 0\n"
       ]
      },
      {
       "output_type": "stream",
       "stream": "stderr",
       "text": [
        "DEBUG:root:timeDelta = 0, distanceDelta = %s, returning speed = 0\n"
       ]
      },
      {
       "output_type": "stream",
       "stream": "stderr",
       "text": [
        "DEBUG:root:timeDelta = 0, distanceDelta = %s, returning speed = 0\n"
       ]
      },
      {
       "output_type": "stream",
       "stream": "stderr",
       "text": [
        "DEBUG:root:timeDelta = 0, distanceDelta = %s, returning speed = 0\n"
       ]
      },
      {
       "output_type": "stream",
       "stream": "stderr",
       "text": [
        "DEBUG:root:timeDelta = 0, distanceDelta = %s, returning speed = 0\n"
       ]
      },
      {
       "output_type": "stream",
       "stream": "stderr",
       "text": [
        "DEBUG:root:timeDelta = 0, distanceDelta = %s, returning speed = 0\n"
       ]
      },
      {
       "output_type": "stream",
       "stream": "stderr",
       "text": [
        "DEBUG:root:timeDelta = 0, distanceDelta = %s, returning speed = 0\n"
       ]
      },
      {
       "output_type": "stream",
       "stream": "stderr",
       "text": [
        "DEBUG:root:timeDelta = 0, distanceDelta = %s, returning speed = 0\n"
       ]
      },
      {
       "output_type": "stream",
       "stream": "stderr",
       "text": [
        "DEBUG:root:timeDelta = 0, distanceDelta = %s, returning speed = 0\n"
       ]
      },
      {
       "output_type": "stream",
       "stream": "stderr",
       "text": [
        "DEBUG:root:timeDelta = 0, distanceDelta = %s, returning speed = 0\n"
       ]
      },
      {
       "output_type": "stream",
       "stream": "stderr",
       "text": [
        "DEBUG:root:timeDelta = 0, distanceDelta = %s, returning speed = 0\n"
       ]
      },
      {
       "output_type": "stream",
       "stream": "stderr",
       "text": [
        "DEBUG:root:timeDelta = 0, distanceDelta = %s, returning speed = 0\n"
       ]
      },
      {
       "output_type": "stream",
       "stream": "stderr",
       "text": [
        "DEBUG:root:timeDelta = 0, distanceDelta = %s, returning speed = 0\n"
       ]
      },
      {
       "output_type": "stream",
       "stream": "stderr",
       "text": [
        "DEBUG:root:timeDelta = 0, distanceDelta = %s, returning speed = 0\n"
       ]
      },
      {
       "output_type": "stream",
       "stream": "stderr",
       "text": [
        "DEBUG:root:timeDelta = 0, distanceDelta = %s, returning speed = 0\n"
       ]
      },
      {
       "output_type": "stream",
       "stream": "stderr",
       "text": [
        "DEBUG:root:timeDelta = 0, distanceDelta = %s, returning speed = 0\n"
       ]
      },
      {
       "output_type": "stream",
       "stream": "stderr",
       "text": [
        "DEBUG:root:timeDelta = 0, distanceDelta = %s, returning speed = 0\n"
       ]
      },
      {
       "output_type": "stream",
       "stream": "stderr",
       "text": [
        "DEBUG:root:timeDelta = 0, distanceDelta = %s, returning speed = 0\n"
       ]
      },
      {
       "output_type": "stream",
       "stream": "stderr",
       "text": [
        "DEBUG:root:timeDelta = 0, distanceDelta = %s, returning speed = 0\n"
       ]
      },
      {
       "output_type": "stream",
       "stream": "stderr",
       "text": [
        "DEBUG:root:timeDelta = 0, distanceDelta = %s, returning speed = 0\n"
       ]
      },
      {
       "output_type": "stream",
       "stream": "stderr",
       "text": [
        "DEBUG:root:timeDelta = 0, distanceDelta = %s, returning speed = 0\n"
       ]
      },
      {
       "output_type": "stream",
       "stream": "stderr",
       "text": [
        "DEBUG:root:timeDelta = 0, distanceDelta = %s, returning speed = 0\n"
       ]
      },
      {
       "output_type": "stream",
       "stream": "stderr",
       "text": [
        "DEBUG:root:timeDelta = 0, distanceDelta = %s, returning speed = 0\n"
       ]
      },
      {
       "output_type": "stream",
       "stream": "stderr",
       "text": [
        "DEBUG:root:timeDelta = 0, distanceDelta = %s, returning speed = 0\n"
       ]
      },
      {
       "output_type": "stream",
       "stream": "stderr",
       "text": [
        "DEBUG:root:timeDelta = 0, distanceDelta = %s, returning speed = 0\n"
       ]
      },
      {
       "output_type": "stream",
       "stream": "stderr",
       "text": [
        "DEBUG:root:timeDelta = 0, distanceDelta = %s, returning speed = 0\n"
       ]
      },
      {
       "output_type": "stream",
       "stream": "stderr",
       "text": [
        "DEBUG:root:timeDelta = 0, distanceDelta = %s, returning speed = 0\n"
       ]
      },
      {
       "output_type": "stream",
       "stream": "stderr",
       "text": [
        "DEBUG:root:timeDelta = 0, distanceDelta = %s, returning speed = 0\n"
       ]
      },
      {
       "output_type": "stream",
       "stream": "stderr",
       "text": [
        "DEBUG:root:timeDelta = 0, distanceDelta = %s, returning speed = 0\n"
       ]
      },
      {
       "output_type": "stream",
       "stream": "stderr",
       "text": [
        "DEBUG:root:timeDelta = 0, distanceDelta = %s, returning speed = 0\n"
       ]
      },
      {
       "output_type": "stream",
       "stream": "stderr",
       "text": [
        "DEBUG:root:timeDelta = 0, distanceDelta = %s, returning speed = 0\n"
       ]
      },
      {
       "output_type": "stream",
       "stream": "stderr",
       "text": [
        "DEBUG:root:timeDelta = 0, distanceDelta = %s, returning speed = 0\n"
       ]
      },
      {
       "output_type": "stream",
       "stream": "stderr",
       "text": [
        "DEBUG:root:timeDelta = 0, distanceDelta = %s, returning speed = 0\n"
       ]
      },
      {
       "output_type": "stream",
       "stream": "stderr",
       "text": [
        "DEBUG:root:timeDelta = 0, distanceDelta = %s, returning speed = 0\n"
       ]
      },
      {
       "output_type": "stream",
       "stream": "stderr",
       "text": [
        "DEBUG:root:timeDelta = 0, distanceDelta = %s, returning speed = 0\n"
       ]
      },
      {
       "output_type": "stream",
       "stream": "stderr",
       "text": [
        "DEBUG:root:timeDelta = 0, distanceDelta = %s, returning speed = 0\n"
       ]
      },
      {
       "output_type": "stream",
       "stream": "stderr",
       "text": [
        "DEBUG:root:timeDelta = 0, distanceDelta = %s, returning speed = 0\n"
       ]
      },
      {
       "output_type": "stream",
       "stream": "stderr",
       "text": [
        "DEBUG:root:timeDelta = 0, distanceDelta = %s, returning speed = 0\n"
       ]
      },
      {
       "output_type": "stream",
       "stream": "stderr",
       "text": [
        "DEBUG:root:timeDelta = 0, distanceDelta = %s, returning speed = 0\n"
       ]
      },
      {
       "output_type": "stream",
       "stream": "stderr",
       "text": [
        "DEBUG:root:timeDelta = 0, distanceDelta = %s, returning speed = 0\n"
       ]
      },
      {
       "output_type": "stream",
       "stream": "stderr",
       "text": [
        "DEBUG:root:timeDelta = 0, distanceDelta = %s, returning speed = 0\n"
       ]
      },
      {
       "output_type": "stream",
       "stream": "stderr",
       "text": [
        "DEBUG:root:timeDelta = 0, distanceDelta = %s, returning speed = 0\n"
       ]
      },
      {
       "output_type": "stream",
       "stream": "stderr",
       "text": [
        "DEBUG:root:timeDelta = 0, distanceDelta = %s, returning speed = 0\n"
       ]
      },
      {
       "output_type": "stream",
       "stream": "stderr",
       "text": [
        "DEBUG:root:timeDelta = 0, distanceDelta = %s, returning speed = 0\n"
       ]
      },
      {
       "output_type": "stream",
       "stream": "stderr",
       "text": [
        "DEBUG:root:timeDelta = 0, distanceDelta = %s, returning speed = 0\n"
       ]
      },
      {
       "output_type": "stream",
       "stream": "stderr",
       "text": [
        "DEBUG:root:timeDelta = 0, distanceDelta = %s, returning speed = 0\n"
       ]
      },
      {
       "output_type": "stream",
       "stream": "stderr",
       "text": [
        "DEBUG:root:timeDelta = 0, distanceDelta = %s, returning speed = 0\n"
       ]
      },
      {
       "output_type": "stream",
       "stream": "stderr",
       "text": [
        "DEBUG:root:timeDelta = 0, distanceDelta = %s, returning speed = 0\n"
       ]
      },
      {
       "output_type": "stream",
       "stream": "stderr",
       "text": [
        "DEBUG:root:timeDelta = 0, distanceDelta = %s, returning speed = 0\n"
       ]
      },
      {
       "output_type": "stream",
       "stream": "stderr",
       "text": [
        "DEBUG:root:timeDelta = 0, distanceDelta = %s, returning speed = 0\n"
       ]
      },
      {
       "output_type": "stream",
       "stream": "stderr",
       "text": [
        "DEBUG:root:timeDelta = 0, distanceDelta = %s, returning speed = 0\n"
       ]
      },
      {
       "output_type": "stream",
       "stream": "stderr",
       "text": [
        "DEBUG:root:timeDelta = 0, distanceDelta = %s, returning speed = 0\n"
       ]
      },
      {
       "output_type": "stream",
       "stream": "stderr",
       "text": [
        "DEBUG:root:timeDelta = 0, distanceDelta = %s, returning speed = 0\n"
       ]
      },
      {
       "output_type": "stream",
       "stream": "stderr",
       "text": [
        "DEBUG:root:timeDelta = 0, distanceDelta = %s, returning speed = 0\n"
       ]
      },
      {
       "output_type": "stream",
       "stream": "stderr",
       "text": [
        "DEBUG:root:timeDelta = 0, distanceDelta = %s, returning speed = 0\n"
       ]
      },
      {
       "output_type": "stream",
       "stream": "stderr",
       "text": [
        "DEBUG:root:timeDelta = 0, distanceDelta = %s, returning speed = 0\n"
       ]
      },
      {
       "output_type": "stream",
       "stream": "stderr",
       "text": [
        "DEBUG:root:timeDelta = 0, distanceDelta = %s, returning speed = 0\n"
       ]
      },
      {
       "output_type": "stream",
       "stream": "stderr",
       "text": [
        "DEBUG:root:timeDelta = 0, distanceDelta = %s, returning speed = 0\n"
       ]
      },
      {
       "output_type": "stream",
       "stream": "stderr",
       "text": [
        "DEBUG:root:timeDelta = 0, distanceDelta = %s, returning speed = 0\n"
       ]
      },
      {
       "output_type": "stream",
       "stream": "stderr",
       "text": [
        "DEBUG:root:timeDelta = 0, distanceDelta = %s, returning speed = 0\n"
       ]
      },
      {
       "output_type": "stream",
       "stream": "stderr",
       "text": [
        "DEBUG:root:timeDelta = 0, distanceDelta = %s, returning speed = 0\n"
       ]
      },
      {
       "output_type": "stream",
       "stream": "stderr",
       "text": [
        "DEBUG:root:timeDelta = 0, distanceDelta = %s, returning speed = 0\n"
       ]
      },
      {
       "output_type": "stream",
       "stream": "stderr",
       "text": [
        "DEBUG:root:timeDelta = 0, distanceDelta = %s, returning speed = 0\n"
       ]
      },
      {
       "output_type": "stream",
       "stream": "stderr",
       "text": [
        "DEBUG:root:timeDelta = 0, distanceDelta = %s, returning speed = 0\n"
       ]
      },
      {
       "output_type": "stream",
       "stream": "stderr",
       "text": [
        "DEBUG:root:timeDelta = 0, distanceDelta = %s, returning speed = 0\n"
       ]
      },
      {
       "output_type": "stream",
       "stream": "stderr",
       "text": [
        "DEBUG:root:timeDelta = 0, distanceDelta = %s, returning speed = 0\n"
       ]
      },
      {
       "output_type": "stream",
       "stream": "stderr",
       "text": [
        "DEBUG:root:timeDelta = 0, distanceDelta = %s, returning speed = 0\n"
       ]
      },
      {
       "output_type": "stream",
       "stream": "stderr",
       "text": [
        "DEBUG:root:timeDelta = 0, distanceDelta = %s, returning speed = 0\n"
       ]
      },
      {
       "output_type": "stream",
       "stream": "stderr",
       "text": [
        "DEBUG:root:timeDelta = 0, distanceDelta = %s, returning speed = 0\n"
       ]
      },
      {
       "output_type": "stream",
       "stream": "stderr",
       "text": [
        "DEBUG:root:timeDelta = 0, distanceDelta = %s, returning speed = 0\n"
       ]
      },
      {
       "output_type": "stream",
       "stream": "stderr",
       "text": [
        "DEBUG:root:timeDelta = 0, distanceDelta = %s, returning speed = 0\n"
       ]
      },
      {
       "output_type": "stream",
       "stream": "stderr",
       "text": [
        "DEBUG:root:timeDelta = 0, distanceDelta = %s, returning speed = 0\n"
       ]
      },
      {
       "output_type": "stream",
       "stream": "stderr",
       "text": [
        "DEBUG:root:timeDelta = 0, distanceDelta = %s, returning speed = 0\n"
       ]
      },
      {
       "output_type": "stream",
       "stream": "stderr",
       "text": [
        "DEBUG:root:timeDelta = 0, distanceDelta = %s, returning speed = 0\n"
       ]
      },
      {
       "output_type": "stream",
       "stream": "stderr",
       "text": [
        "DEBUG:root:timeDelta = 0, distanceDelta = %s, returning speed = 0\n"
       ]
      },
      {
       "output_type": "stream",
       "stream": "stderr",
       "text": [
        "DEBUG:root:timeDelta = 0, distanceDelta = %s, returning speed = 0\n"
       ]
      },
      {
       "output_type": "stream",
       "stream": "stderr",
       "text": [
        "DEBUG:root:timeDelta = 0, distanceDelta = %s, returning speed = 0\n"
       ]
      },
      {
       "output_type": "stream",
       "stream": "stderr",
       "text": [
        "DEBUG:root:timeDelta = 0, distanceDelta = %s, returning speed = 0\n"
       ]
      },
      {
       "output_type": "stream",
       "stream": "stderr",
       "text": [
        "DEBUG:root:timeDelta = 0, distanceDelta = %s, returning speed = 0\n"
       ]
      },
      {
       "output_type": "stream",
       "stream": "stderr",
       "text": [
        "DEBUG:root:timeDelta = 0, distanceDelta = %s, returning speed = 0\n"
       ]
      },
      {
       "output_type": "stream",
       "stream": "stderr",
       "text": [
        "DEBUG:root:timeDelta = 0, distanceDelta = %s, returning speed = 0\n"
       ]
      },
      {
       "output_type": "stream",
       "stream": "stderr",
       "text": [
        "DEBUG:root:timeDelta = 0, distanceDelta = %s, returning speed = 0\n"
       ]
      },
      {
       "output_type": "stream",
       "stream": "stderr",
       "text": [
        "DEBUG:root:timeDelta = 0, distanceDelta = %s, returning speed = 0\n"
       ]
      },
      {
       "output_type": "stream",
       "stream": "stderr",
       "text": [
        "DEBUG:root:timeDelta = 0, distanceDelta = %s, returning speed = 0\n"
       ]
      },
      {
       "output_type": "stream",
       "stream": "stderr",
       "text": [
        "DEBUG:root:timeDelta = 0, distanceDelta = %s, returning speed = 0\n"
       ]
      },
      {
       "output_type": "stream",
       "stream": "stderr",
       "text": [
        "DEBUG:root:timeDelta = 0, distanceDelta = %s, returning speed = 0\n"
       ]
      },
      {
       "output_type": "stream",
       "stream": "stderr",
       "text": [
        "DEBUG:root:timeDelta = 0, distanceDelta = %s, returning speed = 0\n"
       ]
      },
      {
       "output_type": "stream",
       "stream": "stderr",
       "text": [
        "DEBUG:root:timeDelta = 0, distanceDelta = %s, returning speed = 0\n"
       ]
      },
      {
       "output_type": "stream",
       "stream": "stderr",
       "text": [
        "DEBUG:root:timeDelta = 0, distanceDelta = %s, returning speed = 0\n"
       ]
      },
      {
       "output_type": "stream",
       "stream": "stderr",
       "text": [
        "DEBUG:root:timeDelta = 0, distanceDelta = %s, returning speed = 0\n"
       ]
      },
      {
       "output_type": "stream",
       "stream": "stderr",
       "text": [
        "DEBUG:root:timeDelta = 0, distanceDelta = %s, returning speed = 0\n"
       ]
      },
      {
       "output_type": "stream",
       "stream": "stderr",
       "text": [
        "DEBUG:root:timeDelta = 0, distanceDelta = %s, returning speed = 0\n"
       ]
      },
      {
       "output_type": "stream",
       "stream": "stderr",
       "text": [
        "DEBUG:root:timeDelta = 0, distanceDelta = %s, returning speed = 0\n"
       ]
      },
      {
       "output_type": "stream",
       "stream": "stderr",
       "text": [
        "DEBUG:root:timeDelta = 0, distanceDelta = %s, returning speed = 0\n"
       ]
      },
      {
       "output_type": "stream",
       "stream": "stderr",
       "text": [
        "DEBUG:root:timeDelta = 0, distanceDelta = %s, returning speed = 0\n"
       ]
      },
      {
       "output_type": "stream",
       "stream": "stderr",
       "text": [
        "DEBUG:root:timeDelta = 0, distanceDelta = %s, returning speed = 0\n"
       ]
      },
      {
       "output_type": "stream",
       "stream": "stderr",
       "text": [
        "DEBUG:root:timeDelta = 0, distanceDelta = %s, returning speed = 0\n"
       ]
      },
      {
       "output_type": "stream",
       "stream": "stderr",
       "text": [
        "DEBUG:root:timeDelta = 0, distanceDelta = %s, returning speed = 0\n"
       ]
      },
      {
       "output_type": "stream",
       "stream": "stderr",
       "text": [
        "DEBUG:root:timeDelta = 0, distanceDelta = %s, returning speed = 0\n"
       ]
      },
      {
       "output_type": "stream",
       "stream": "stderr",
       "text": [
        "DEBUG:root:timeDelta = 0, distanceDelta = %s, returning speed = 0\n"
       ]
      },
      {
       "output_type": "stream",
       "stream": "stderr",
       "text": [
        "DEBUG:root:timeDelta = 0, distanceDelta = %s, returning speed = 0\n"
       ]
      },
      {
       "output_type": "stream",
       "stream": "stderr",
       "text": [
        "DEBUG:root:timeDelta = 0, distanceDelta = %s, returning speed = 0\n"
       ]
      },
      {
       "output_type": "stream",
       "stream": "stderr",
       "text": [
        "DEBUG:root:timeDelta = 0, distanceDelta = %s, returning speed = 0\n"
       ]
      },
      {
       "output_type": "stream",
       "stream": "stderr",
       "text": [
        "DEBUG:root:timeDelta = 0, distanceDelta = %s, returning speed = 0\n"
       ]
      },
      {
       "output_type": "stream",
       "stream": "stderr",
       "text": [
        "DEBUG:root:timeDelta = 0, distanceDelta = %s, returning speed = 0\n"
       ]
      },
      {
       "output_type": "stream",
       "stream": "stderr",
       "text": [
        "DEBUG:root:timeDelta = 0, distanceDelta = %s, returning speed = 0\n"
       ]
      },
      {
       "output_type": "stream",
       "stream": "stderr",
       "text": [
        "DEBUG:root:timeDelta = 0, distanceDelta = %s, returning speed = 0\n"
       ]
      },
      {
       "output_type": "stream",
       "stream": "stderr",
       "text": [
        "DEBUG:root:timeDelta = 0, distanceDelta = %s, returning speed = 0\n"
       ]
      },
      {
       "output_type": "stream",
       "stream": "stderr",
       "text": [
        "DEBUG:root:timeDelta = 0, distanceDelta = %s, returning speed = 0\n"
       ]
      },
      {
       "output_type": "stream",
       "stream": "stderr",
       "text": [
        "DEBUG:root:timeDelta = 0, distanceDelta = %s, returning speed = 0\n"
       ]
      },
      {
       "output_type": "stream",
       "stream": "stderr",
       "text": [
        "DEBUG:root:timeDelta = 0, distanceDelta = %s, returning speed = 0\n"
       ]
      },
      {
       "output_type": "stream",
       "stream": "stderr",
       "text": [
        "DEBUG:root:timeDelta = 0, distanceDelta = %s, returning speed = 0\n"
       ]
      },
      {
       "output_type": "stream",
       "stream": "stderr",
       "text": [
        "DEBUG:root:timeDelta = 0, distanceDelta = %s, returning speed = 0\n"
       ]
      },
      {
       "output_type": "stream",
       "stream": "stderr",
       "text": [
        "DEBUG:root:timeDelta = 0, distanceDelta = %s, returning speed = 0\n"
       ]
      },
      {
       "output_type": "stream",
       "stream": "stderr",
       "text": [
        "DEBUG:root:timeDelta = 0, distanceDelta = %s, returning speed = 0\n"
       ]
      },
      {
       "output_type": "stream",
       "stream": "stderr",
       "text": [
        "DEBUG:root:timeDelta = 0, distanceDelta = %s, returning speed = 0\n"
       ]
      },
      {
       "output_type": "stream",
       "stream": "stderr",
       "text": [
        "DEBUG:root:timeDelta = 0, distanceDelta = %s, returning speed = 0\n"
       ]
      },
      {
       "output_type": "stream",
       "stream": "stderr",
       "text": [
        "DEBUG:root:timeDelta = 0, distanceDelta = %s, returning speed = 0\n"
       ]
      },
      {
       "output_type": "stream",
       "stream": "stderr",
       "text": [
        "DEBUG:root:timeDelta = 0, distanceDelta = %s, returning speed = 0\n"
       ]
      },
      {
       "output_type": "stream",
       "stream": "stderr",
       "text": [
        "DEBUG:root:timeDelta = 0, distanceDelta = %s, returning speed = 0\n"
       ]
      },
      {
       "output_type": "stream",
       "stream": "stderr",
       "text": [
        "DEBUG:root:timeDelta = 0, distanceDelta = %s, returning speed = 0\n"
       ]
      },
      {
       "output_type": "stream",
       "stream": "stderr",
       "text": [
        "DEBUG:root:timeDelta = 0, distanceDelta = %s, returning speed = 0\n"
       ]
      },
      {
       "output_type": "stream",
       "stream": "stderr",
       "text": [
        "DEBUG:root:timeDelta = 0, distanceDelta = %s, returning speed = 0\n"
       ]
      },
      {
       "output_type": "stream",
       "stream": "stderr",
       "text": [
        "DEBUG:root:timeDelta = 0, distanceDelta = %s, returning speed = 0\n"
       ]
      },
      {
       "output_type": "stream",
       "stream": "stderr",
       "text": [
        "DEBUG:root:timeDelta = 0, distanceDelta = %s, returning speed = 0\n"
       ]
      },
      {
       "output_type": "stream",
       "stream": "stderr",
       "text": [
        "DEBUG:root:timeDelta = 0, distanceDelta = %s, returning speed = 0\n"
       ]
      },
      {
       "output_type": "stream",
       "stream": "stderr",
       "text": [
        "DEBUG:root:timeDelta = 0, distanceDelta = %s, returning speed = 0\n"
       ]
      },
      {
       "output_type": "stream",
       "stream": "stderr",
       "text": [
        "DEBUG:root:timeDelta = 0, distanceDelta = %s, returning speed = 0\n"
       ]
      },
      {
       "output_type": "stream",
       "stream": "stderr",
       "text": [
        "DEBUG:root:timeDelta = 0, distanceDelta = %s, returning speed = 0\n"
       ]
      },
      {
       "output_type": "stream",
       "stream": "stderr",
       "text": [
        "DEBUG:root:timeDelta = 0, distanceDelta = %s, returning speed = 0\n"
       ]
      },
      {
       "output_type": "stream",
       "stream": "stderr",
       "text": [
        "DEBUG:root:timeDelta = 0, distanceDelta = %s, returning speed = 0\n"
       ]
      },
      {
       "output_type": "stream",
       "stream": "stderr",
       "text": [
        "DEBUG:root:timeDelta = 0, distanceDelta = %s, returning speed = 0\n"
       ]
      },
      {
       "output_type": "stream",
       "stream": "stderr",
       "text": [
        "DEBUG:root:timeDelta = 0, distanceDelta = %s, returning speed = 0\n"
       ]
      },
      {
       "output_type": "stream",
       "stream": "stderr",
       "text": [
        "DEBUG:root:timeDelta = 0, distanceDelta = %s, returning speed = 0\n"
       ]
      },
      {
       "output_type": "stream",
       "stream": "stderr",
       "text": [
        "DEBUG:root:timeDelta = 0, distanceDelta = %s, returning speed = 0\n"
       ]
      },
      {
       "output_type": "stream",
       "stream": "stderr",
       "text": [
        "DEBUG:root:timeDelta = 0, distanceDelta = %s, returning speed = 0\n"
       ]
      },
      {
       "output_type": "stream",
       "stream": "stderr",
       "text": [
        "DEBUG:root:timeDelta = 0, distanceDelta = %s, returning speed = 0\n"
       ]
      },
      {
       "output_type": "stream",
       "stream": "stderr",
       "text": [
        "DEBUG:root:timeDelta = 0, distanceDelta = %s, returning speed = 0\n"
       ]
      },
      {
       "output_type": "stream",
       "stream": "stderr",
       "text": [
        "DEBUG:root:timeDelta = 0, distanceDelta = %s, returning speed = 0\n"
       ]
      },
      {
       "output_type": "stream",
       "stream": "stderr",
       "text": [
        "DEBUG:root:timeDelta = 0, distanceDelta = %s, returning speed = 0\n"
       ]
      },
      {
       "output_type": "stream",
       "stream": "stderr",
       "text": [
        "DEBUG:root:timeDelta = 0, distanceDelta = %s, returning speed = 0\n"
       ]
      },
      {
       "output_type": "stream",
       "stream": "stderr",
       "text": [
        "DEBUG:root:timeDelta = 0, distanceDelta = %s, returning speed = 0\n"
       ]
      },
      {
       "output_type": "stream",
       "stream": "stderr",
       "text": [
        "DEBUG:root:timeDelta = 0, distanceDelta = %s, returning speed = 0\n"
       ]
      },
      {
       "output_type": "stream",
       "stream": "stderr",
       "text": [
        "DEBUG:root:timeDelta = 0, distanceDelta = %s, returning speed = 0\n"
       ]
      },
      {
       "output_type": "stream",
       "stream": "stderr",
       "text": [
        "DEBUG:root:timeDelta = 0, distanceDelta = %s, returning speed = 0\n"
       ]
      },
      {
       "output_type": "stream",
       "stream": "stderr",
       "text": [
        "DEBUG:root:timeDelta = 0, distanceDelta = %s, returning speed = 0\n"
       ]
      },
      {
       "output_type": "stream",
       "stream": "stderr",
       "text": [
        "DEBUG:root:timeDelta = 0, distanceDelta = %s, returning speed = 0\n"
       ]
      },
      {
       "output_type": "stream",
       "stream": "stderr",
       "text": [
        "DEBUG:root:timeDelta = 0, distanceDelta = %s, returning speed = 0\n"
       ]
      },
      {
       "output_type": "stream",
       "stream": "stderr",
       "text": [
        "DEBUG:root:timeDelta = 0, distanceDelta = %s, returning speed = 0\n"
       ]
      },
      {
       "output_type": "stream",
       "stream": "stderr",
       "text": [
        "DEBUG:root:timeDelta = 0, distanceDelta = %s, returning speed = 0\n"
       ]
      },
      {
       "output_type": "stream",
       "stream": "stderr",
       "text": [
        "DEBUG:root:timeDelta = 0, distanceDelta = %s, returning speed = 0\n"
       ]
      },
      {
       "output_type": "stream",
       "stream": "stderr",
       "text": [
        "DEBUG:root:timeDelta = 0, distanceDelta = %s, returning speed = 0\n"
       ]
      },
      {
       "output_type": "stream",
       "stream": "stderr",
       "text": [
        "DEBUG:root:timeDelta = 0, distanceDelta = %s, returning speed = 0\n"
       ]
      },
      {
       "output_type": "stream",
       "stream": "stderr",
       "text": [
        "DEBUG:root:timeDelta = 0, distanceDelta = %s, returning speed = 0\n"
       ]
      },
      {
       "output_type": "stream",
       "stream": "stderr",
       "text": [
        "DEBUG:root:timeDelta = 0, distanceDelta = %s, returning speed = 0\n"
       ]
      },
      {
       "output_type": "stream",
       "stream": "stderr",
       "text": [
        "DEBUG:root:timeDelta = 0, distanceDelta = %s, returning speed = 0\n"
       ]
      },
      {
       "output_type": "stream",
       "stream": "stderr",
       "text": [
        "DEBUG:root:timeDelta = 0, distanceDelta = %s, returning speed = 0\n"
       ]
      },
      {
       "output_type": "stream",
       "stream": "stderr",
       "text": [
        "DEBUG:root:timeDelta = 0, distanceDelta = %s, returning speed = 0\n"
       ]
      },
      {
       "output_type": "stream",
       "stream": "stderr",
       "text": [
        "DEBUG:root:timeDelta = 0, distanceDelta = %s, returning speed = 0\n"
       ]
      },
      {
       "output_type": "stream",
       "stream": "stderr",
       "text": [
        "DEBUG:root:timeDelta = 0, distanceDelta = %s, returning speed = 0\n"
       ]
      },
      {
       "output_type": "stream",
       "stream": "stderr",
       "text": [
        "DEBUG:root:timeDelta = 0, distanceDelta = %s, returning speed = 0\n"
       ]
      },
      {
       "output_type": "stream",
       "stream": "stderr",
       "text": [
        "DEBUG:root:timeDelta = 0, distanceDelta = %s, returning speed = 0\n"
       ]
      },
      {
       "output_type": "stream",
       "stream": "stderr",
       "text": [
        "DEBUG:root:timeDelta = 0, distanceDelta = %s, returning speed = 0\n"
       ]
      },
      {
       "output_type": "stream",
       "stream": "stderr",
       "text": [
        "DEBUG:root:timeDelta = 0, distanceDelta = %s, returning speed = 0\n"
       ]
      },
      {
       "output_type": "stream",
       "stream": "stderr",
       "text": [
        "DEBUG:root:timeDelta = 0, distanceDelta = %s, returning speed = 0\n"
       ]
      },
      {
       "output_type": "stream",
       "stream": "stderr",
       "text": [
        "DEBUG:root:timeDelta = 0, distanceDelta = %s, returning speed = 0\n"
       ]
      },
      {
       "output_type": "stream",
       "stream": "stderr",
       "text": [
        "DEBUG:root:timeDelta = 0, distanceDelta = %s, returning speed = 0\n"
       ]
      },
      {
       "output_type": "stream",
       "stream": "stderr",
       "text": [
        "DEBUG:root:timeDelta = 0, distanceDelta = %s, returning speed = 0\n"
       ]
      },
      {
       "output_type": "stream",
       "stream": "stderr",
       "text": [
        "DEBUG:root:timeDelta = 0, distanceDelta = %s, returning speed = 0\n"
       ]
      },
      {
       "output_type": "stream",
       "stream": "stderr",
       "text": [
        "DEBUG:root:timeDelta = 0, distanceDelta = %s, returning speed = 0\n"
       ]
      },
      {
       "output_type": "stream",
       "stream": "stderr",
       "text": [
        "DEBUG:root:timeDelta = 0, distanceDelta = %s, returning speed = 0\n"
       ]
      },
      {
       "output_type": "stream",
       "stream": "stderr",
       "text": [
        "DEBUG:root:timeDelta = 0, distanceDelta = %s, returning speed = 0\n"
       ]
      },
      {
       "output_type": "stream",
       "stream": "stderr",
       "text": [
        "DEBUG:root:timeDelta = 0, distanceDelta = %s, returning speed = 0\n"
       ]
      },
      {
       "output_type": "stream",
       "stream": "stderr",
       "text": [
        "DEBUG:root:timeDelta = 0, distanceDelta = %s, returning speed = 0\n"
       ]
      },
      {
       "output_type": "stream",
       "stream": "stderr",
       "text": [
        "DEBUG:root:timeDelta = 0, distanceDelta = %s, returning speed = 0\n"
       ]
      },
      {
       "output_type": "stream",
       "stream": "stderr",
       "text": [
        "DEBUG:root:timeDelta = 0, distanceDelta = %s, returning speed = 0\n"
       ]
      },
      {
       "output_type": "stream",
       "stream": "stderr",
       "text": [
        "DEBUG:root:timeDelta = 0, distanceDelta = %s, returning speed = 0\n"
       ]
      },
      {
       "output_type": "stream",
       "stream": "stderr",
       "text": [
        "DEBUG:root:timeDelta = 0, distanceDelta = %s, returning speed = 0\n"
       ]
      },
      {
       "output_type": "stream",
       "stream": "stderr",
       "text": [
        "DEBUG:root:timeDelta = 0, distanceDelta = %s, returning speed = 0\n"
       ]
      },
      {
       "output_type": "stream",
       "stream": "stderr",
       "text": [
        "DEBUG:root:timeDelta = 0, distanceDelta = %s, returning speed = 0\n"
       ]
      },
      {
       "output_type": "stream",
       "stream": "stderr",
       "text": [
        "DEBUG:root:timeDelta = 0, distanceDelta = %s, returning speed = 0\n"
       ]
      },
      {
       "output_type": "stream",
       "stream": "stderr",
       "text": [
        "DEBUG:root:timeDelta = 0, distanceDelta = %s, returning speed = 0\n"
       ]
      },
      {
       "output_type": "stream",
       "stream": "stderr",
       "text": [
        "DEBUG:root:timeDelta = 0, distanceDelta = %s, returning speed = 0\n"
       ]
      },
      {
       "output_type": "stream",
       "stream": "stderr",
       "text": [
        "DEBUG:root:timeDelta = 0, distanceDelta = %s, returning speed = 0\n"
       ]
      },
      {
       "output_type": "stream",
       "stream": "stderr",
       "text": [
        "DEBUG:root:timeDelta = 0, distanceDelta = %s, returning speed = 0\n"
       ]
      },
      {
       "output_type": "stream",
       "stream": "stderr",
       "text": [
        "DEBUG:root:timeDelta = 0, distanceDelta = %s, returning speed = 0\n"
       ]
      },
      {
       "output_type": "stream",
       "stream": "stderr",
       "text": [
        "DEBUG:root:timeDelta = 0, distanceDelta = %s, returning speed = 0\n"
       ]
      },
      {
       "output_type": "stream",
       "stream": "stderr",
       "text": [
        "DEBUG:root:timeDelta = 0, distanceDelta = %s, returning speed = 0\n"
       ]
      },
      {
       "output_type": "stream",
       "stream": "stderr",
       "text": [
        "DEBUG:root:timeDelta = 0, distanceDelta = %s, returning speed = 0\n"
       ]
      },
      {
       "output_type": "stream",
       "stream": "stderr",
       "text": [
        "DEBUG:root:timeDelta = 0, distanceDelta = %s, returning speed = 0\n"
       ]
      },
      {
       "output_type": "stream",
       "stream": "stderr",
       "text": [
        "DEBUG:root:timeDelta = 0, distanceDelta = %s, returning speed = 0\n"
       ]
      },
      {
       "output_type": "stream",
       "stream": "stderr",
       "text": [
        "DEBUG:root:timeDelta = 0, distanceDelta = %s, returning speed = 0\n"
       ]
      },
      {
       "output_type": "stream",
       "stream": "stderr",
       "text": [
        "DEBUG:root:timeDelta = 0, distanceDelta = %s, returning speed = 0\n"
       ]
      },
      {
       "output_type": "stream",
       "stream": "stderr",
       "text": [
        "DEBUG:root:timeDelta = 0, distanceDelta = %s, returning speed = 0\n"
       ]
      },
      {
       "output_type": "stream",
       "stream": "stderr",
       "text": [
        "DEBUG:root:timeDelta = 0, distanceDelta = %s, returning speed = 0\n"
       ]
      },
      {
       "output_type": "stream",
       "stream": "stderr",
       "text": [
        "DEBUG:root:timeDelta = 0, distanceDelta = %s, returning speed = 0\n"
       ]
      },
      {
       "output_type": "stream",
       "stream": "stderr",
       "text": [
        "DEBUG:root:timeDelta = 0, distanceDelta = %s, returning speed = 0\n"
       ]
      },
      {
       "output_type": "stream",
       "stream": "stderr",
       "text": [
        "DEBUG:root:timeDelta = 0, distanceDelta = %s, returning speed = 0\n"
       ]
      },
      {
       "output_type": "stream",
       "stream": "stderr",
       "text": [
        "DEBUG:root:timeDelta = 0, distanceDelta = %s, returning speed = 0\n"
       ]
      },
      {
       "output_type": "stream",
       "stream": "stderr",
       "text": [
        "DEBUG:root:timeDelta = 0, distanceDelta = %s, returning speed = 0\n"
       ]
      },
      {
       "output_type": "stream",
       "stream": "stderr",
       "text": [
        "DEBUG:root:timeDelta = 0, distanceDelta = %s, returning speed = 0\n"
       ]
      },
      {
       "output_type": "stream",
       "stream": "stderr",
       "text": [
        "DEBUG:root:timeDelta = 0, distanceDelta = %s, returning speed = 0\n"
       ]
      },
      {
       "output_type": "stream",
       "stream": "stderr",
       "text": [
        "DEBUG:root:timeDelta = 0, distanceDelta = %s, returning speed = 0\n"
       ]
      },
      {
       "output_type": "stream",
       "stream": "stderr",
       "text": [
        "DEBUG:root:timeDelta = 0, distanceDelta = %s, returning speed = 0\n"
       ]
      },
      {
       "output_type": "stream",
       "stream": "stderr",
       "text": [
        "DEBUG:root:timeDelta = 0, distanceDelta = %s, returning speed = 0\n"
       ]
      },
      {
       "output_type": "stream",
       "stream": "stderr",
       "text": [
        "DEBUG:root:timeDelta = 0, distanceDelta = %s, returning speed = 0\n"
       ]
      },
      {
       "output_type": "stream",
       "stream": "stderr",
       "text": [
        "DEBUG:root:timeDelta = 0, distanceDelta = %s, returning speed = 0\n"
       ]
      },
      {
       "output_type": "stream",
       "stream": "stderr",
       "text": [
        "DEBUG:root:timeDelta = 0, distanceDelta = %s, returning speed = 0\n"
       ]
      },
      {
       "output_type": "stream",
       "stream": "stderr",
       "text": [
        "DEBUG:root:timeDelta = 0, distanceDelta = %s, returning speed = 0\n"
       ]
      },
      {
       "output_type": "stream",
       "stream": "stderr",
       "text": [
        "DEBUG:root:timeDelta = 0, distanceDelta = %s, returning speed = 0\n"
       ]
      },
      {
       "output_type": "stream",
       "stream": "stderr",
       "text": [
        "DEBUG:root:timeDelta = 0, distanceDelta = %s, returning speed = 0\n"
       ]
      },
      {
       "output_type": "stream",
       "stream": "stderr",
       "text": [
        "DEBUG:root:timeDelta = 0, distanceDelta = %s, returning speed = 0\n"
       ]
      },
      {
       "output_type": "stream",
       "stream": "stderr",
       "text": [
        "DEBUG:root:timeDelta = 0, distanceDelta = %s, returning speed = 0\n"
       ]
      },
      {
       "output_type": "stream",
       "stream": "stderr",
       "text": [
        "DEBUG:root:timeDelta = 0, distanceDelta = %s, returning speed = 0\n"
       ]
      },
      {
       "output_type": "stream",
       "stream": "stderr",
       "text": [
        "DEBUG:root:timeDelta = 0, distanceDelta = %s, returning speed = 0\n"
       ]
      },
      {
       "output_type": "stream",
       "stream": "stderr",
       "text": [
        "DEBUG:root:timeDelta = 0, distanceDelta = %s, returning speed = 0\n"
       ]
      },
      {
       "output_type": "stream",
       "stream": "stderr",
       "text": [
        "DEBUG:root:timeDelta = 0, distanceDelta = %s, returning speed = 0\n"
       ]
      },
      {
       "output_type": "stream",
       "stream": "stderr",
       "text": [
        "DEBUG:root:timeDelta = 0, distanceDelta = %s, returning speed = 0\n"
       ]
      },
      {
       "output_type": "stream",
       "stream": "stderr",
       "text": [
        "DEBUG:root:timeDelta = 0, distanceDelta = %s, returning speed = 0\n"
       ]
      },
      {
       "output_type": "stream",
       "stream": "stderr",
       "text": [
        "DEBUG:root:timeDelta = 0, distanceDelta = %s, returning speed = 0\n"
       ]
      },
      {
       "output_type": "stream",
       "stream": "stderr",
       "text": [
        "DEBUG:root:timeDelta = 0, distanceDelta = %s, returning speed = 0\n"
       ]
      },
      {
       "output_type": "stream",
       "stream": "stderr",
       "text": [
        "DEBUG:root:timeDelta = 0, distanceDelta = %s, returning speed = 0\n"
       ]
      },
      {
       "output_type": "stream",
       "stream": "stderr",
       "text": [
        "DEBUG:root:timeDelta = 0, distanceDelta = %s, returning speed = 0\n"
       ]
      },
      {
       "output_type": "stream",
       "stream": "stderr",
       "text": [
        "DEBUG:root:timeDelta = 0, distanceDelta = %s, returning speed = 0\n"
       ]
      },
      {
       "output_type": "stream",
       "stream": "stderr",
       "text": [
        "DEBUG:root:timeDelta = 0, distanceDelta = %s, returning speed = 0\n"
       ]
      },
      {
       "output_type": "stream",
       "stream": "stderr",
       "text": [
        "DEBUG:root:timeDelta = 0, distanceDelta = %s, returning speed = 0\n"
       ]
      },
      {
       "output_type": "stream",
       "stream": "stderr",
       "text": [
        "DEBUG:root:timeDelta = 0, distanceDelta = %s, returning speed = 0\n"
       ]
      },
      {
       "output_type": "stream",
       "stream": "stderr",
       "text": [
        "DEBUG:root:timeDelta = 0, distanceDelta = %s, returning speed = 0\n"
       ]
      },
      {
       "output_type": "stream",
       "stream": "stderr",
       "text": [
        "DEBUG:root:timeDelta = 0, distanceDelta = %s, returning speed = 0\n"
       ]
      },
      {
       "output_type": "stream",
       "stream": "stderr",
       "text": [
        "DEBUG:root:timeDelta = 0, distanceDelta = %s, returning speed = 0\n"
       ]
      },
      {
       "output_type": "stream",
       "stream": "stderr",
       "text": [
        "DEBUG:root:timeDelta = 0, distanceDelta = %s, returning speed = 0\n"
       ]
      },
      {
       "output_type": "stream",
       "stream": "stderr",
       "text": [
        "DEBUG:root:timeDelta = 0, distanceDelta = %s, returning speed = 0\n"
       ]
      },
      {
       "output_type": "stream",
       "stream": "stderr",
       "text": [
        "DEBUG:root:timeDelta = 0, distanceDelta = %s, returning speed = 0\n"
       ]
      },
      {
       "output_type": "stream",
       "stream": "stderr",
       "text": [
        "DEBUG:root:timeDelta = 0, distanceDelta = %s, returning speed = 0\n"
       ]
      },
      {
       "output_type": "stream",
       "stream": "stderr",
       "text": [
        "DEBUG:root:timeDelta = 0, distanceDelta = %s, returning speed = 0\n"
       ]
      },
      {
       "output_type": "stream",
       "stream": "stderr",
       "text": [
        "DEBUG:root:timeDelta = 0, distanceDelta = %s, returning speed = 0\n"
       ]
      },
      {
       "output_type": "stream",
       "stream": "stderr",
       "text": [
        "DEBUG:root:timeDelta = 0, distanceDelta = %s, returning speed = 0\n"
       ]
      },
      {
       "output_type": "stream",
       "stream": "stderr",
       "text": [
        "DEBUG:root:timeDelta = 0, distanceDelta = %s, returning speed = 0\n"
       ]
      },
      {
       "output_type": "stream",
       "stream": "stderr",
       "text": [
        "DEBUG:root:timeDelta = 0, distanceDelta = %s, returning speed = 0\n"
       ]
      },
      {
       "output_type": "stream",
       "stream": "stderr",
       "text": [
        "DEBUG:root:timeDelta = 0, distanceDelta = %s, returning speed = 0\n"
       ]
      },
      {
       "output_type": "stream",
       "stream": "stderr",
       "text": [
        "DEBUG:root:timeDelta = 0, distanceDelta = %s, returning speed = 0\n"
       ]
      },
      {
       "output_type": "stream",
       "stream": "stderr",
       "text": [
        "DEBUG:root:timeDelta = 0, distanceDelta = %s, returning speed = 0\n"
       ]
      },
      {
       "output_type": "stream",
       "stream": "stderr",
       "text": [
        "DEBUG:root:timeDelta = 0, distanceDelta = %s, returning speed = 0\n"
       ]
      },
      {
       "output_type": "stream",
       "stream": "stderr",
       "text": [
        "DEBUG:root:timeDelta = 0, distanceDelta = %s, returning speed = 0\n"
       ]
      },
      {
       "output_type": "stream",
       "stream": "stderr",
       "text": [
        "DEBUG:root:timeDelta = 0, distanceDelta = %s, returning speed = 0\n"
       ]
      },
      {
       "output_type": "stream",
       "stream": "stderr",
       "text": [
        "DEBUG:root:timeDelta = 0, distanceDelta = %s, returning speed = 0\n"
       ]
      },
      {
       "output_type": "stream",
       "stream": "stderr",
       "text": [
        "DEBUG:root:timeDelta = 0, distanceDelta = %s, returning speed = 0\n"
       ]
      },
      {
       "output_type": "stream",
       "stream": "stderr",
       "text": [
        "DEBUG:root:timeDelta = 0, distanceDelta = %s, returning speed = 0\n"
       ]
      },
      {
       "output_type": "stream",
       "stream": "stderr",
       "text": [
        "DEBUG:root:timeDelta = 0, distanceDelta = %s, returning speed = 0\n"
       ]
      },
      {
       "output_type": "stream",
       "stream": "stderr",
       "text": [
        "DEBUG:root:timeDelta = 0, distanceDelta = %s, returning speed = 0\n"
       ]
      },
      {
       "output_type": "stream",
       "stream": "stderr",
       "text": [
        "DEBUG:root:timeDelta = 0, distanceDelta = %s, returning speed = 0\n"
       ]
      },
      {
       "output_type": "stream",
       "stream": "stderr",
       "text": [
        "DEBUG:root:timeDelta = 0, distanceDelta = %s, returning speed = 0\n"
       ]
      },
      {
       "output_type": "stream",
       "stream": "stderr",
       "text": [
        "DEBUG:root:timeDelta = 0, distanceDelta = %s, returning speed = 0\n"
       ]
      },
      {
       "output_type": "stream",
       "stream": "stderr",
       "text": [
        "DEBUG:root:timeDelta = 0, distanceDelta = %s, returning speed = 0\n"
       ]
      },
      {
       "output_type": "stream",
       "stream": "stderr",
       "text": [
        "DEBUG:root:timeDelta = 0, distanceDelta = %s, returning speed = 0\n"
       ]
      },
      {
       "output_type": "stream",
       "stream": "stderr",
       "text": [
        "DEBUG:root:timeDelta = 0, distanceDelta = %s, returning speed = 0\n"
       ]
      },
      {
       "output_type": "stream",
       "stream": "stderr",
       "text": [
        "DEBUG:root:timeDelta = 0, distanceDelta = %s, returning speed = 0\n"
       ]
      },
      {
       "output_type": "stream",
       "stream": "stderr",
       "text": [
        "DEBUG:root:timeDelta = 0, distanceDelta = %s, returning speed = 0\n"
       ]
      },
      {
       "output_type": "stream",
       "stream": "stderr",
       "text": [
        "DEBUG:root:timeDelta = 0, distanceDelta = %s, returning speed = 0\n"
       ]
      },
      {
       "output_type": "stream",
       "stream": "stderr",
       "text": [
        "DEBUG:root:timeDelta = 0, distanceDelta = %s, returning speed = 0\n"
       ]
      },
      {
       "output_type": "stream",
       "stream": "stderr",
       "text": [
        "DEBUG:root:timeDelta = 0, distanceDelta = %s, returning speed = 0\n"
       ]
      },
      {
       "output_type": "stream",
       "stream": "stderr",
       "text": [
        "DEBUG:root:timeDelta = 0, distanceDelta = %s, returning speed = 0\n"
       ]
      },
      {
       "output_type": "stream",
       "stream": "stderr",
       "text": [
        "DEBUG:root:timeDelta = 0, distanceDelta = %s, returning speed = 0\n"
       ]
      },
      {
       "output_type": "stream",
       "stream": "stderr",
       "text": [
        "DEBUG:root:timeDelta = 0, distanceDelta = %s, returning speed = 0\n"
       ]
      },
      {
       "output_type": "stream",
       "stream": "stderr",
       "text": [
        "DEBUG:root:timeDelta = 0, distanceDelta = %s, returning speed = 0\n"
       ]
      },
      {
       "output_type": "stream",
       "stream": "stderr",
       "text": [
        "DEBUG:root:timeDelta = 0, distanceDelta = %s, returning speed = 0\n"
       ]
      },
      {
       "output_type": "stream",
       "stream": "stderr",
       "text": [
        "DEBUG:root:timeDelta = 0, distanceDelta = %s, returning speed = 0\n"
       ]
      },
      {
       "output_type": "stream",
       "stream": "stderr",
       "text": [
        "DEBUG:root:timeDelta = 0, distanceDelta = %s, returning speed = 0\n"
       ]
      },
      {
       "output_type": "stream",
       "stream": "stderr",
       "text": [
        "DEBUG:root:timeDelta = 0, distanceDelta = %s, returning speed = 0\n"
       ]
      },
      {
       "output_type": "stream",
       "stream": "stderr",
       "text": [
        "DEBUG:root:timeDelta = 0, distanceDelta = %s, returning speed = 0\n"
       ]
      },
      {
       "output_type": "stream",
       "stream": "stderr",
       "text": [
        "DEBUG:root:timeDelta = 0, distanceDelta = %s, returning speed = 0\n"
       ]
      },
      {
       "output_type": "stream",
       "stream": "stderr",
       "text": [
        "DEBUG:root:timeDelta = 0, distanceDelta = %s, returning speed = 0\n"
       ]
      },
      {
       "output_type": "stream",
       "stream": "stderr",
       "text": [
        "DEBUG:root:timeDelta = 0, distanceDelta = %s, returning speed = 0\n"
       ]
      },
      {
       "output_type": "stream",
       "stream": "stderr",
       "text": [
        "DEBUG:root:timeDelta = 0, distanceDelta = %s, returning speed = 0\n"
       ]
      },
      {
       "output_type": "stream",
       "stream": "stderr",
       "text": [
        "DEBUG:root:timeDelta = 0, distanceDelta = %s, returning speed = 0\n"
       ]
      },
      {
       "output_type": "stream",
       "stream": "stderr",
       "text": [
        "DEBUG:root:timeDelta = 0, distanceDelta = %s, returning speed = 0\n"
       ]
      },
      {
       "output_type": "stream",
       "stream": "stderr",
       "text": [
        "DEBUG:root:timeDelta = 0, distanceDelta = %s, returning speed = 0\n"
       ]
      },
      {
       "output_type": "stream",
       "stream": "stderr",
       "text": [
        "DEBUG:root:timeDelta = 0, distanceDelta = %s, returning speed = 0\n"
       ]
      },
      {
       "output_type": "stream",
       "stream": "stderr",
       "text": [
        "DEBUG:root:timeDelta = 0, distanceDelta = %s, returning speed = 0\n"
       ]
      },
      {
       "output_type": "stream",
       "stream": "stderr",
       "text": [
        "DEBUG:root:timeDelta = 0, distanceDelta = %s, returning speed = 0\n"
       ]
      },
      {
       "output_type": "stream",
       "stream": "stderr",
       "text": [
        "DEBUG:root:timeDelta = 0, distanceDelta = %s, returning speed = 0\n"
       ]
      },
      {
       "output_type": "stream",
       "stream": "stderr",
       "text": [
        "DEBUG:root:timeDelta = 0, distanceDelta = %s, returning speed = 0\n"
       ]
      },
      {
       "output_type": "stream",
       "stream": "stderr",
       "text": [
        "DEBUG:root:timeDelta = 0, distanceDelta = %s, returning speed = 0\n"
       ]
      },
      {
       "output_type": "stream",
       "stream": "stderr",
       "text": [
        "DEBUG:root:timeDelta = 0, distanceDelta = %s, returning speed = 0\n"
       ]
      },
      {
       "output_type": "stream",
       "stream": "stderr",
       "text": [
        "DEBUG:root:timeDelta = 0, distanceDelta = %s, returning speed = 0\n"
       ]
      },
      {
       "output_type": "stream",
       "stream": "stderr",
       "text": [
        "DEBUG:root:timeDelta = 0, distanceDelta = %s, returning speed = 0\n"
       ]
      },
      {
       "output_type": "stream",
       "stream": "stderr",
       "text": [
        "DEBUG:root:timeDelta = 0, distanceDelta = %s, returning speed = 0\n"
       ]
      },
      {
       "output_type": "stream",
       "stream": "stderr",
       "text": [
        "DEBUG:root:timeDelta = 0, distanceDelta = %s, returning speed = 0\n"
       ]
      },
      {
       "output_type": "stream",
       "stream": "stderr",
       "text": [
        "DEBUG:root:timeDelta = 0, distanceDelta = %s, returning speed = 0\n"
       ]
      },
      {
       "output_type": "stream",
       "stream": "stderr",
       "text": [
        "DEBUG:root:timeDelta = 0, distanceDelta = %s, returning speed = 0\n"
       ]
      },
      {
       "output_type": "stream",
       "stream": "stderr",
       "text": [
        "DEBUG:root:timeDelta = 0, distanceDelta = %s, returning speed = 0\n"
       ]
      },
      {
       "output_type": "stream",
       "stream": "stderr",
       "text": [
        "DEBUG:root:timeDelta = 0, distanceDelta = %s, returning speed = 0\n"
       ]
      },
      {
       "output_type": "stream",
       "stream": "stderr",
       "text": [
        "DEBUG:root:timeDelta = 0, distanceDelta = %s, returning speed = 0\n"
       ]
      },
      {
       "output_type": "stream",
       "stream": "stderr",
       "text": [
        "DEBUG:root:timeDelta = 0, distanceDelta = %s, returning speed = 0\n"
       ]
      },
      {
       "output_type": "stream",
       "stream": "stderr",
       "text": [
        "DEBUG:root:timeDelta = 0, distanceDelta = %s, returning speed = 0\n"
       ]
      },
      {
       "output_type": "stream",
       "stream": "stderr",
       "text": [
        "DEBUG:root:timeDelta = 0, distanceDelta = %s, returning speed = 0\n"
       ]
      },
      {
       "output_type": "stream",
       "stream": "stderr",
       "text": [
        "DEBUG:root:timeDelta = 0, distanceDelta = %s, returning speed = 0\n"
       ]
      },
      {
       "output_type": "stream",
       "stream": "stderr",
       "text": [
        "DEBUG:root:timeDelta = 0, distanceDelta = %s, returning speed = 0\n"
       ]
      },
      {
       "output_type": "stream",
       "stream": "stderr",
       "text": [
        "DEBUG:root:timeDelta = 0, distanceDelta = %s, returning speed = 0\n"
       ]
      },
      {
       "output_type": "stream",
       "stream": "stderr",
       "text": [
        "DEBUG:root:timeDelta = 0, distanceDelta = %s, returning speed = 0\n"
       ]
      },
      {
       "output_type": "stream",
       "stream": "stderr",
       "text": [
        "DEBUG:root:timeDelta = 0, distanceDelta = %s, returning speed = 0\n"
       ]
      },
      {
       "output_type": "stream",
       "stream": "stderr",
       "text": [
        "DEBUG:root:timeDelta = 0, distanceDelta = %s, returning speed = 0\n"
       ]
      },
      {
       "output_type": "stream",
       "stream": "stderr",
       "text": [
        "DEBUG:root:timeDelta = 0, distanceDelta = %s, returning speed = 0\n"
       ]
      },
      {
       "output_type": "stream",
       "stream": "stderr",
       "text": [
        "DEBUG:root:timeDelta = 0, distanceDelta = %s, returning speed = 0\n"
       ]
      },
      {
       "output_type": "stream",
       "stream": "stderr",
       "text": [
        "DEBUG:root:timeDelta = 0, distanceDelta = %s, returning speed = 0\n"
       ]
      },
      {
       "output_type": "stream",
       "stream": "stderr",
       "text": [
        "DEBUG:root:timeDelta = 0, distanceDelta = %s, returning speed = 0\n"
       ]
      },
      {
       "output_type": "stream",
       "stream": "stderr",
       "text": [
        "DEBUG:root:timeDelta = 0, distanceDelta = %s, returning speed = 0\n"
       ]
      },
      {
       "output_type": "stream",
       "stream": "stderr",
       "text": [
        "DEBUG:root:timeDelta = 0, distanceDelta = %s, returning speed = 0\n"
       ]
      },
      {
       "output_type": "stream",
       "stream": "stderr",
       "text": [
        "DEBUG:root:timeDelta = 0, distanceDelta = %s, returning speed = 0\n"
       ]
      },
      {
       "output_type": "stream",
       "stream": "stderr",
       "text": [
        "DEBUG:root:timeDelta = 0, distanceDelta = %s, returning speed = 0\n"
       ]
      },
      {
       "output_type": "stream",
       "stream": "stderr",
       "text": [
        "DEBUG:root:timeDelta = 0, distanceDelta = %s, returning speed = 0\n"
       ]
      },
      {
       "output_type": "stream",
       "stream": "stderr",
       "text": [
        "DEBUG:root:timeDelta = 0, distanceDelta = %s, returning speed = 0\n"
       ]
      },
      {
       "output_type": "stream",
       "stream": "stderr",
       "text": [
        "DEBUG:root:timeDelta = 0, distanceDelta = %s, returning speed = 0\n"
       ]
      },
      {
       "output_type": "stream",
       "stream": "stderr",
       "text": [
        "DEBUG:root:timeDelta = 0, distanceDelta = %s, returning speed = 0\n"
       ]
      },
      {
       "output_type": "stream",
       "stream": "stderr",
       "text": [
        "DEBUG:root:timeDelta = 0, distanceDelta = %s, returning speed = 0\n"
       ]
      },
      {
       "output_type": "stream",
       "stream": "stderr",
       "text": [
        "DEBUG:root:timeDelta = 0, distanceDelta = %s, returning speed = 0\n"
       ]
      },
      {
       "output_type": "stream",
       "stream": "stderr",
       "text": [
        "DEBUG:root:timeDelta = 0, distanceDelta = %s, returning speed = 0\n"
       ]
      },
      {
       "output_type": "stream",
       "stream": "stderr",
       "text": [
        "DEBUG:root:timeDelta = 0, distanceDelta = %s, returning speed = 0\n"
       ]
      },
      {
       "output_type": "stream",
       "stream": "stderr",
       "text": [
        "DEBUG:root:timeDelta = 0, distanceDelta = %s, returning speed = 0\n"
       ]
      },
      {
       "output_type": "stream",
       "stream": "stderr",
       "text": [
        "DEBUG:root:timeDelta = 0, distanceDelta = %s, returning speed = 0\n"
       ]
      },
      {
       "output_type": "stream",
       "stream": "stderr",
       "text": [
        "DEBUG:root:timeDelta = 0, distanceDelta = %s, returning speed = 0\n"
       ]
      },
      {
       "output_type": "stream",
       "stream": "stderr",
       "text": [
        "DEBUG:root:timeDelta = 0, distanceDelta = %s, returning speed = 0\n"
       ]
      },
      {
       "output_type": "stream",
       "stream": "stderr",
       "text": [
        "DEBUG:root:timeDelta = 0, distanceDelta = %s, returning speed = 0\n"
       ]
      },
      {
       "output_type": "stream",
       "stream": "stderr",
       "text": [
        "DEBUG:root:timeDelta = 0, distanceDelta = %s, returning speed = 0\n"
       ]
      },
      {
       "output_type": "stream",
       "stream": "stderr",
       "text": [
        "DEBUG:root:timeDelta = 0, distanceDelta = %s, returning speed = 0\n"
       ]
      },
      {
       "output_type": "stream",
       "stream": "stderr",
       "text": [
        "DEBUG:root:timeDelta = 0, distanceDelta = %s, returning speed = 0\n"
       ]
      },
      {
       "output_type": "stream",
       "stream": "stderr",
       "text": [
        "DEBUG:root:timeDelta = 0, distanceDelta = %s, returning speed = 0\n"
       ]
      },
      {
       "output_type": "stream",
       "stream": "stderr",
       "text": [
        "DEBUG:root:timeDelta = 0, distanceDelta = %s, returning speed = 0\n"
       ]
      },
      {
       "output_type": "stream",
       "stream": "stderr",
       "text": [
        "DEBUG:root:timeDelta = 0, distanceDelta = %s, returning speed = 0\n"
       ]
      },
      {
       "output_type": "stream",
       "stream": "stderr",
       "text": [
        "DEBUG:root:timeDelta = 0, distanceDelta = %s, returning speed = 0\n"
       ]
      },
      {
       "output_type": "stream",
       "stream": "stderr",
       "text": [
        "DEBUG:root:timeDelta = 0, distanceDelta = %s, returning speed = 0\n"
       ]
      },
      {
       "output_type": "stream",
       "stream": "stderr",
       "text": [
        "DEBUG:root:timeDelta = 0, distanceDelta = %s, returning speed = 0\n"
       ]
      },
      {
       "output_type": "stream",
       "stream": "stderr",
       "text": [
        "DEBUG:root:timeDelta = 0, distanceDelta = %s, returning speed = 0\n"
       ]
      },
      {
       "output_type": "stream",
       "stream": "stderr",
       "text": [
        "DEBUG:root:timeDelta = 0, distanceDelta = %s, returning speed = 0\n"
       ]
      },
      {
       "output_type": "stream",
       "stream": "stderr",
       "text": [
        "DEBUG:root:timeDelta = 0, distanceDelta = %s, returning speed = 0\n"
       ]
      },
      {
       "output_type": "stream",
       "stream": "stderr",
       "text": [
        "DEBUG:root:timeDelta = 0, distanceDelta = %s, returning speed = 0\n"
       ]
      },
      {
       "output_type": "stream",
       "stream": "stderr",
       "text": [
        "DEBUG:root:timeDelta = 0, distanceDelta = %s, returning speed = 0\n"
       ]
      },
      {
       "output_type": "stream",
       "stream": "stderr",
       "text": [
        "DEBUG:root:timeDelta = 0, distanceDelta = %s, returning speed = 0\n"
       ]
      },
      {
       "output_type": "stream",
       "stream": "stderr",
       "text": [
        "DEBUG:root:timeDelta = 0, distanceDelta = %s, returning speed = 0\n"
       ]
      },
      {
       "output_type": "stream",
       "stream": "stderr",
       "text": [
        "DEBUG:root:timeDelta = 0, distanceDelta = %s, returning speed = 0\n"
       ]
      },
      {
       "output_type": "stream",
       "stream": "stderr",
       "text": [
        "DEBUG:root:timeDelta = 0, distanceDelta = %s, returning speed = 0\n"
       ]
      },
      {
       "output_type": "stream",
       "stream": "stderr",
       "text": [
        "DEBUG:root:timeDelta = 0, distanceDelta = %s, returning speed = 0\n"
       ]
      },
      {
       "output_type": "stream",
       "stream": "stderr",
       "text": [
        "DEBUG:root:timeDelta = 0, distanceDelta = %s, returning speed = 0\n"
       ]
      },
      {
       "output_type": "stream",
       "stream": "stderr",
       "text": [
        "DEBUG:root:timeDelta = 0, distanceDelta = %s, returning speed = 0\n"
       ]
      },
      {
       "output_type": "stream",
       "stream": "stderr",
       "text": [
        "DEBUG:root:timeDelta = 0, distanceDelta = %s, returning speed = 0\n"
       ]
      },
      {
       "output_type": "stream",
       "stream": "stderr",
       "text": [
        "DEBUG:root:timeDelta = 0, distanceDelta = %s, returning speed = 0\n"
       ]
      },
      {
       "output_type": "stream",
       "stream": "stderr",
       "text": [
        "DEBUG:root:timeDelta = 0, distanceDelta = %s, returning speed = 0\n"
       ]
      },
      {
       "output_type": "stream",
       "stream": "stderr",
       "text": [
        "DEBUG:root:timeDelta = 0, distanceDelta = %s, returning speed = 0\n"
       ]
      },
      {
       "output_type": "stream",
       "stream": "stderr",
       "text": [
        "DEBUG:root:timeDelta = 0, distanceDelta = %s, returning speed = 0\n"
       ]
      },
      {
       "output_type": "stream",
       "stream": "stderr",
       "text": [
        "DEBUG:root:timeDelta = 0, distanceDelta = %s, returning speed = 0\n"
       ]
      },
      {
       "output_type": "stream",
       "stream": "stderr",
       "text": [
        "DEBUG:root:timeDelta = 0, distanceDelta = %s, returning speed = 0\n"
       ]
      },
      {
       "output_type": "stream",
       "stream": "stderr",
       "text": [
        "DEBUG:root:timeDelta = 0, distanceDelta = %s, returning speed = 0\n"
       ]
      },
      {
       "output_type": "stream",
       "stream": "stderr",
       "text": [
        "DEBUG:root:timeDelta = 0, distanceDelta = %s, returning speed = 0\n"
       ]
      },
      {
       "output_type": "stream",
       "stream": "stderr",
       "text": [
        "DEBUG:root:timeDelta = 0, distanceDelta = %s, returning speed = 0\n"
       ]
      },
      {
       "output_type": "stream",
       "stream": "stderr",
       "text": [
        "DEBUG:root:timeDelta = 0, distanceDelta = %s, returning speed = 0\n"
       ]
      },
      {
       "output_type": "stream",
       "stream": "stderr",
       "text": [
        "DEBUG:root:timeDelta = 0, distanceDelta = %s, returning speed = 0\n"
       ]
      },
      {
       "output_type": "stream",
       "stream": "stderr",
       "text": [
        "DEBUG:root:timeDelta = 0, distanceDelta = %s, returning speed = 0\n"
       ]
      },
      {
       "output_type": "stream",
       "stream": "stderr",
       "text": [
        "DEBUG:root:timeDelta = 0, distanceDelta = %s, returning speed = 0\n"
       ]
      },
      {
       "output_type": "stream",
       "stream": "stderr",
       "text": [
        "DEBUG:root:timeDelta = 0, distanceDelta = %s, returning speed = 0\n"
       ]
      },
      {
       "output_type": "stream",
       "stream": "stderr",
       "text": [
        "DEBUG:root:timeDelta = 0, distanceDelta = %s, returning speed = 0\n"
       ]
      },
      {
       "output_type": "stream",
       "stream": "stderr",
       "text": [
        "DEBUG:root:timeDelta = 0, distanceDelta = %s, returning speed = 0\n"
       ]
      },
      {
       "output_type": "stream",
       "stream": "stderr",
       "text": [
        "DEBUG:root:timeDelta = 0, distanceDelta = %s, returning speed = 0\n"
       ]
      },
      {
       "output_type": "stream",
       "stream": "stderr",
       "text": [
        "DEBUG:root:timeDelta = 0, distanceDelta = %s, returning speed = 0\n"
       ]
      },
      {
       "output_type": "stream",
       "stream": "stderr",
       "text": [
        "DEBUG:root:timeDelta = 0, distanceDelta = %s, returning speed = 0\n"
       ]
      },
      {
       "output_type": "stream",
       "stream": "stderr",
       "text": [
        "DEBUG:root:timeDelta = 0, distanceDelta = %s, returning speed = 0\n"
       ]
      },
      {
       "output_type": "stream",
       "stream": "stderr",
       "text": [
        "DEBUG:root:timeDelta = 0, distanceDelta = %s, returning speed = 0\n"
       ]
      },
      {
       "output_type": "stream",
       "stream": "stderr",
       "text": [
        "DEBUG:root:timeDelta = 0, distanceDelta = %s, returning speed = 0\n"
       ]
      },
      {
       "output_type": "stream",
       "stream": "stderr",
       "text": [
        "DEBUG:root:timeDelta = 0, distanceDelta = %s, returning speed = 0\n"
       ]
      },
      {
       "output_type": "stream",
       "stream": "stderr",
       "text": [
        "DEBUG:root:timeDelta = 0, distanceDelta = %s, returning speed = 0\n"
       ]
      },
      {
       "output_type": "stream",
       "stream": "stderr",
       "text": [
        "DEBUG:root:timeDelta = 0, distanceDelta = %s, returning speed = 0\n"
       ]
      },
      {
       "output_type": "stream",
       "stream": "stderr",
       "text": [
        "DEBUG:root:timeDelta = 0, distanceDelta = %s, returning speed = 0\n"
       ]
      },
      {
       "output_type": "stream",
       "stream": "stderr",
       "text": [
        "DEBUG:root:timeDelta = 0, distanceDelta = %s, returning speed = 0\n"
       ]
      },
      {
       "output_type": "stream",
       "stream": "stderr",
       "text": [
        "DEBUG:root:timeDelta = 0, distanceDelta = %s, returning speed = 0\n"
       ]
      },
      {
       "output_type": "stream",
       "stream": "stderr",
       "text": [
        "DEBUG:root:timeDelta = 0, distanceDelta = %s, returning speed = 0\n"
       ]
      },
      {
       "output_type": "stream",
       "stream": "stderr",
       "text": [
        "DEBUG:root:timeDelta = 0, distanceDelta = %s, returning speed = 0\n"
       ]
      },
      {
       "output_type": "stream",
       "stream": "stderr",
       "text": [
        "DEBUG:root:timeDelta = 0, distanceDelta = %s, returning speed = 0\n"
       ]
      },
      {
       "output_type": "stream",
       "stream": "stderr",
       "text": [
        "DEBUG:root:timeDelta = 0, distanceDelta = %s, returning speed = 0\n"
       ]
      },
      {
       "output_type": "stream",
       "stream": "stderr",
       "text": [
        "DEBUG:root:timeDelta = 0, distanceDelta = %s, returning speed = 0\n"
       ]
      },
      {
       "output_type": "stream",
       "stream": "stderr",
       "text": [
        "DEBUG:root:timeDelta = 0, distanceDelta = %s, returning speed = 0\n"
       ]
      },
      {
       "output_type": "stream",
       "stream": "stderr",
       "text": [
        "DEBUG:root:timeDelta = 0, distanceDelta = %s, returning speed = 0\n"
       ]
      },
      {
       "output_type": "stream",
       "stream": "stderr",
       "text": [
        "DEBUG:root:timeDelta = 0, distanceDelta = %s, returning speed = 0\n"
       ]
      },
      {
       "output_type": "stream",
       "stream": "stderr",
       "text": [
        "DEBUG:root:timeDelta = 0, distanceDelta = %s, returning speed = 0\n"
       ]
      },
      {
       "output_type": "stream",
       "stream": "stderr",
       "text": [
        "DEBUG:root:timeDelta = 0, distanceDelta = %s, returning speed = 0\n"
       ]
      },
      {
       "output_type": "stream",
       "stream": "stderr",
       "text": [
        "DEBUG:root:timeDelta = 0, distanceDelta = %s, returning speed = 0\n"
       ]
      },
      {
       "output_type": "stream",
       "stream": "stderr",
       "text": [
        "DEBUG:root:timeDelta = 0, distanceDelta = %s, returning speed = 0\n"
       ]
      },
      {
       "output_type": "stream",
       "stream": "stderr",
       "text": [
        "DEBUG:root:timeDelta = 0, distanceDelta = %s, returning speed = 0\n"
       ]
      },
      {
       "output_type": "stream",
       "stream": "stderr",
       "text": [
        "DEBUG:root:timeDelta = 0, distanceDelta = %s, returning speed = 0\n"
       ]
      },
      {
       "output_type": "stream",
       "stream": "stderr",
       "text": [
        "DEBUG:root:timeDelta = 0, distanceDelta = %s, returning speed = 0\n"
       ]
      },
      {
       "output_type": "stream",
       "stream": "stderr",
       "text": [
        "DEBUG:root:timeDelta = 0, distanceDelta = %s, returning speed = 0\n"
       ]
      },
      {
       "output_type": "stream",
       "stream": "stderr",
       "text": [
        "DEBUG:root:timeDelta = 0, distanceDelta = %s, returning speed = 0\n"
       ]
      },
      {
       "output_type": "stream",
       "stream": "stderr",
       "text": [
        "DEBUG:root:timeDelta = 0, distanceDelta = %s, returning speed = 0\n"
       ]
      },
      {
       "output_type": "stream",
       "stream": "stderr",
       "text": [
        "DEBUG:root:timeDelta = 0, distanceDelta = %s, returning speed = 0\n"
       ]
      },
      {
       "output_type": "stream",
       "stream": "stderr",
       "text": [
        "DEBUG:root:timeDelta = 0, distanceDelta = %s, returning speed = 0\n"
       ]
      },
      {
       "output_type": "stream",
       "stream": "stderr",
       "text": [
        "DEBUG:root:timeDelta = 0, distanceDelta = %s, returning speed = 0\n"
       ]
      },
      {
       "output_type": "stream",
       "stream": "stderr",
       "text": [
        "DEBUG:root:timeDelta = 0, distanceDelta = %s, returning speed = 0\n"
       ]
      },
      {
       "output_type": "stream",
       "stream": "stderr",
       "text": [
        "DEBUG:root:timeDelta = 0, distanceDelta = %s, returning speed = 0\n"
       ]
      },
      {
       "output_type": "stream",
       "stream": "stderr",
       "text": [
        "DEBUG:root:timeDelta = 0, distanceDelta = %s, returning speed = 0\n"
       ]
      },
      {
       "output_type": "stream",
       "stream": "stderr",
       "text": [
        "DEBUG:root:timeDelta = 0, distanceDelta = %s, returning speed = 0\n"
       ]
      },
      {
       "output_type": "stream",
       "stream": "stderr",
       "text": [
        "DEBUG:root:timeDelta = 0, distanceDelta = %s, returning speed = 0\n"
       ]
      },
      {
       "output_type": "stream",
       "stream": "stderr",
       "text": [
        "DEBUG:root:timeDelta = 0, distanceDelta = %s, returning speed = 0\n"
       ]
      },
      {
       "output_type": "stream",
       "stream": "stderr",
       "text": [
        "DEBUG:root:timeDelta = 0, distanceDelta = %s, returning speed = 0\n"
       ]
      },
      {
       "output_type": "stream",
       "stream": "stderr",
       "text": [
        "DEBUG:root:timeDelta = 0, distanceDelta = %s, returning speed = 0\n"
       ]
      },
      {
       "output_type": "stream",
       "stream": "stderr",
       "text": [
        "DEBUG:root:timeDelta = 0, distanceDelta = %s, returning speed = 0\n"
       ]
      },
      {
       "output_type": "stream",
       "stream": "stderr",
       "text": [
        "DEBUG:root:timeDelta = 0, distanceDelta = %s, returning speed = 0\n"
       ]
      },
      {
       "output_type": "stream",
       "stream": "stderr",
       "text": [
        "DEBUG:root:timeDelta = 0, distanceDelta = %s, returning speed = 0\n"
       ]
      },
      {
       "output_type": "stream",
       "stream": "stderr",
       "text": [
        "DEBUG:root:timeDelta = 0, distanceDelta = %s, returning speed = 0\n"
       ]
      },
      {
       "output_type": "stream",
       "stream": "stderr",
       "text": [
        "DEBUG:root:timeDelta = 0, distanceDelta = %s, returning speed = 0\n"
       ]
      },
      {
       "output_type": "stream",
       "stream": "stderr",
       "text": [
        "DEBUG:root:timeDelta = 0, distanceDelta = %s, returning speed = 0\n"
       ]
      },
      {
       "output_type": "stream",
       "stream": "stderr",
       "text": [
        "DEBUG:root:timeDelta = 0, distanceDelta = %s, returning speed = 0\n"
       ]
      },
      {
       "output_type": "stream",
       "stream": "stderr",
       "text": [
        "DEBUG:root:timeDelta = 0, distanceDelta = %s, returning speed = 0\n"
       ]
      },
      {
       "output_type": "stream",
       "stream": "stderr",
       "text": [
        "DEBUG:root:timeDelta = 0, distanceDelta = %s, returning speed = 0\n"
       ]
      },
      {
       "output_type": "stream",
       "stream": "stderr",
       "text": [
        "DEBUG:root:timeDelta = 0, distanceDelta = %s, returning speed = 0\n"
       ]
      },
      {
       "output_type": "stream",
       "stream": "stderr",
       "text": [
        "DEBUG:root:timeDelta = 0, distanceDelta = %s, returning speed = 0\n"
       ]
      },
      {
       "output_type": "stream",
       "stream": "stderr",
       "text": [
        "DEBUG:root:timeDelta = 0, distanceDelta = %s, returning speed = 0\n"
       ]
      },
      {
       "output_type": "stream",
       "stream": "stderr",
       "text": [
        "DEBUG:root:timeDelta = 0, distanceDelta = %s, returning speed = 0\n"
       ]
      },
      {
       "output_type": "stream",
       "stream": "stderr",
       "text": [
        "DEBUG:root:timeDelta = 0, distanceDelta = %s, returning speed = 0\n"
       ]
      },
      {
       "output_type": "stream",
       "stream": "stderr",
       "text": [
        "DEBUG:root:timeDelta = 0, distanceDelta = %s, returning speed = 0\n"
       ]
      },
      {
       "output_type": "stream",
       "stream": "stderr",
       "text": [
        "DEBUG:root:timeDelta = 0, distanceDelta = %s, returning speed = 0\n"
       ]
      },
      {
       "output_type": "stream",
       "stream": "stderr",
       "text": [
        "DEBUG:root:timeDelta = 0, distanceDelta = %s, returning speed = 0\n"
       ]
      },
      {
       "output_type": "stream",
       "stream": "stderr",
       "text": [
        "DEBUG:root:timeDelta = 0, distanceDelta = %s, returning speed = 0\n"
       ]
      },
      {
       "output_type": "stream",
       "stream": "stderr",
       "text": [
        "DEBUG:root:timeDelta = 0, distanceDelta = %s, returning speed = 0\n"
       ]
      },
      {
       "output_type": "stream",
       "stream": "stderr",
       "text": [
        "DEBUG:root:timeDelta = 0, distanceDelta = %s, returning speed = 0\n"
       ]
      },
      {
       "output_type": "stream",
       "stream": "stderr",
       "text": [
        "DEBUG:root:timeDelta = 0, distanceDelta = %s, returning speed = 0\n"
       ]
      },
      {
       "output_type": "stream",
       "stream": "stderr",
       "text": [
        "DEBUG:root:timeDelta = 0, distanceDelta = %s, returning speed = 0\n"
       ]
      },
      {
       "output_type": "stream",
       "stream": "stderr",
       "text": [
        "DEBUG:root:timeDelta = 0, distanceDelta = %s, returning speed = 0\n"
       ]
      },
      {
       "output_type": "stream",
       "stream": "stderr",
       "text": [
        "DEBUG:root:timeDelta = 0, distanceDelta = %s, returning speed = 0\n"
       ]
      },
      {
       "output_type": "stream",
       "stream": "stderr",
       "text": [
        "DEBUG:root:timeDelta = 0, distanceDelta = %s, returning speed = 0\n"
       ]
      },
      {
       "output_type": "stream",
       "stream": "stderr",
       "text": [
        "DEBUG:root:timeDelta = 0, distanceDelta = %s, returning speed = 0\n"
       ]
      },
      {
       "output_type": "stream",
       "stream": "stderr",
       "text": [
        "DEBUG:root:timeDelta = 0, distanceDelta = %s, returning speed = 0\n"
       ]
      },
      {
       "output_type": "stream",
       "stream": "stderr",
       "text": [
        "DEBUG:root:timeDelta = 0, distanceDelta = %s, returning speed = 0\n"
       ]
      },
      {
       "output_type": "stream",
       "stream": "stderr",
       "text": [
        "DEBUG:root:timeDelta = 0, distanceDelta = %s, returning speed = 0\n"
       ]
      },
      {
       "output_type": "stream",
       "stream": "stderr",
       "text": [
        "DEBUG:root:timeDelta = 0, distanceDelta = %s, returning speed = 0\n"
       ]
      },
      {
       "output_type": "stream",
       "stream": "stderr",
       "text": [
        "DEBUG:root:timeDelta = 0, distanceDelta = %s, returning speed = 0\n"
       ]
      },
      {
       "output_type": "stream",
       "stream": "stderr",
       "text": [
        "DEBUG:root:timeDelta = 0, distanceDelta = %s, returning speed = 0\n"
       ]
      },
      {
       "output_type": "stream",
       "stream": "stderr",
       "text": [
        "DEBUG:root:timeDelta = 0, distanceDelta = %s, returning speed = 0\n"
       ]
      },
      {
       "output_type": "stream",
       "stream": "stderr",
       "text": [
        "DEBUG:root:timeDelta = 0, distanceDelta = %s, returning speed = 0\n"
       ]
      },
      {
       "output_type": "stream",
       "stream": "stderr",
       "text": [
        "DEBUG:root:timeDelta = 0, distanceDelta = %s, returning speed = 0\n"
       ]
      },
      {
       "output_type": "stream",
       "stream": "stderr",
       "text": [
        "DEBUG:root:timeDelta = 0, distanceDelta = %s, returning speed = 0\n"
       ]
      },
      {
       "output_type": "stream",
       "stream": "stderr",
       "text": [
        "DEBUG:root:timeDelta = 0, distanceDelta = %s, returning speed = 0\n"
       ]
      },
      {
       "output_type": "stream",
       "stream": "stderr",
       "text": [
        "DEBUG:root:timeDelta = 0, distanceDelta = %s, returning speed = 0\n"
       ]
      },
      {
       "output_type": "stream",
       "stream": "stderr",
       "text": [
        "DEBUG:root:timeDelta = 0, distanceDelta = %s, returning speed = 0\n"
       ]
      },
      {
       "output_type": "stream",
       "stream": "stderr",
       "text": [
        "DEBUG:root:timeDelta = 0, distanceDelta = %s, returning speed = 0\n"
       ]
      },
      {
       "output_type": "stream",
       "stream": "stderr",
       "text": [
        "DEBUG:root:timeDelta = 0, distanceDelta = %s, returning speed = 0\n"
       ]
      },
      {
       "output_type": "stream",
       "stream": "stderr",
       "text": [
        "DEBUG:root:timeDelta = 0, distanceDelta = %s, returning speed = 0\n"
       ]
      },
      {
       "output_type": "stream",
       "stream": "stderr",
       "text": [
        "DEBUG:root:timeDelta = 0, distanceDelta = %s, returning speed = 0\n"
       ]
      },
      {
       "output_type": "stream",
       "stream": "stderr",
       "text": [
        "DEBUG:root:timeDelta = 0, distanceDelta = %s, returning speed = 0\n"
       ]
      },
      {
       "output_type": "stream",
       "stream": "stderr",
       "text": [
        "DEBUG:root:timeDelta = 0, distanceDelta = %s, returning speed = 0\n"
       ]
      },
      {
       "output_type": "stream",
       "stream": "stderr",
       "text": [
        "DEBUG:root:timeDelta = 0, distanceDelta = %s, returning speed = 0\n"
       ]
      },
      {
       "output_type": "stream",
       "stream": "stderr",
       "text": [
        "DEBUG:root:timeDelta = 0, distanceDelta = %s, returning speed = 0\n"
       ]
      },
      {
       "output_type": "stream",
       "stream": "stderr",
       "text": [
        "DEBUG:root:timeDelta = 0, distanceDelta = %s, returning speed = 0\n"
       ]
      },
      {
       "output_type": "stream",
       "stream": "stderr",
       "text": [
        "DEBUG:root:timeDelta = 0, distanceDelta = %s, returning speed = 0\n"
       ]
      },
      {
       "output_type": "stream",
       "stream": "stderr",
       "text": [
        "DEBUG:root:timeDelta = 0, distanceDelta = %s, returning speed = 0\n"
       ]
      },
      {
       "output_type": "stream",
       "stream": "stderr",
       "text": [
        "DEBUG:root:timeDelta = 0, distanceDelta = %s, returning speed = 0\n"
       ]
      },
      {
       "output_type": "stream",
       "stream": "stderr",
       "text": [
        "DEBUG:root:timeDelta = 0, distanceDelta = %s, returning speed = 0\n"
       ]
      },
      {
       "output_type": "stream",
       "stream": "stderr",
       "text": [
        "DEBUG:root:timeDelta = 0, distanceDelta = %s, returning speed = 0\n"
       ]
      },
      {
       "output_type": "stream",
       "stream": "stderr",
       "text": [
        "DEBUG:root:timeDelta = 0, distanceDelta = %s, returning speed = 0\n"
       ]
      },
      {
       "output_type": "stream",
       "stream": "stderr",
       "text": [
        "DEBUG:root:timeDelta = 0, distanceDelta = %s, returning speed = 0\n"
       ]
      },
      {
       "output_type": "stream",
       "stream": "stderr",
       "text": [
        "DEBUG:root:timeDelta = 0, distanceDelta = %s, returning speed = 0\n"
       ]
      },
      {
       "output_type": "stream",
       "stream": "stderr",
       "text": [
        "DEBUG:root:timeDelta = 0, distanceDelta = %s, returning speed = 0\n"
       ]
      },
      {
       "output_type": "stream",
       "stream": "stderr",
       "text": [
        "DEBUG:root:timeDelta = 0, distanceDelta = %s, returning speed = 0\n"
       ]
      },
      {
       "output_type": "stream",
       "stream": "stderr",
       "text": [
        "DEBUG:root:timeDelta = 0, distanceDelta = %s, returning speed = 0\n"
       ]
      },
      {
       "output_type": "stream",
       "stream": "stderr",
       "text": [
        "DEBUG:root:timeDelta = 0, distanceDelta = %s, returning speed = 0\n"
       ]
      },
      {
       "output_type": "stream",
       "stream": "stderr",
       "text": [
        "DEBUG:root:timeDelta = 0, distanceDelta = %s, returning speed = 0\n"
       ]
      },
      {
       "output_type": "stream",
       "stream": "stderr",
       "text": [
        "DEBUG:root:timeDelta = 0, distanceDelta = %s, returning speed = 0\n"
       ]
      },
      {
       "output_type": "stream",
       "stream": "stderr",
       "text": [
        "DEBUG:root:timeDelta = 0, distanceDelta = %s, returning speed = 0\n"
       ]
      },
      {
       "output_type": "stream",
       "stream": "stderr",
       "text": [
        "DEBUG:root:timeDelta = 0, distanceDelta = %s, returning speed = 0\n"
       ]
      },
      {
       "output_type": "stream",
       "stream": "stderr",
       "text": [
        "DEBUG:root:timeDelta = 0, distanceDelta = %s, returning speed = 0\n"
       ]
      },
      {
       "output_type": "stream",
       "stream": "stderr",
       "text": [
        "DEBUG:root:timeDelta = 0, distanceDelta = %s, returning speed = 0\n"
       ]
      },
      {
       "output_type": "stream",
       "stream": "stderr",
       "text": [
        "DEBUG:root:timeDelta = 0, distanceDelta = %s, returning speed = 0\n"
       ]
      },
      {
       "output_type": "stream",
       "stream": "stderr",
       "text": [
        "DEBUG:root:timeDelta = 0, distanceDelta = %s, returning speed = 0\n"
       ]
      },
      {
       "output_type": "stream",
       "stream": "stderr",
       "text": [
        "DEBUG:root:timeDelta = 0, distanceDelta = %s, returning speed = 0\n"
       ]
      },
      {
       "output_type": "stream",
       "stream": "stderr",
       "text": [
        "DEBUG:root:timeDelta = 0, distanceDelta = %s, returning speed = 0\n"
       ]
      },
      {
       "output_type": "stream",
       "stream": "stderr",
       "text": [
        "DEBUG:root:timeDelta = 0, distanceDelta = %s, returning speed = 0\n"
       ]
      },
      {
       "output_type": "stream",
       "stream": "stderr",
       "text": [
        "DEBUG:root:timeDelta = 0, distanceDelta = %s, returning speed = 0\n"
       ]
      },
      {
       "output_type": "stream",
       "stream": "stderr",
       "text": [
        "DEBUG:root:timeDelta = 0, distanceDelta = %s, returning speed = 0\n"
       ]
      },
      {
       "output_type": "stream",
       "stream": "stderr",
       "text": [
        "DEBUG:root:timeDelta = 0, distanceDelta = %s, returning speed = 0\n"
       ]
      },
      {
       "output_type": "stream",
       "stream": "stderr",
       "text": [
        "DEBUG:root:timeDelta = 0, distanceDelta = %s, returning speed = 0\n"
       ]
      },
      {
       "output_type": "stream",
       "stream": "stderr",
       "text": [
        "DEBUG:root:timeDelta = 0, distanceDelta = %s, returning speed = 0\n"
       ]
      },
      {
       "output_type": "stream",
       "stream": "stderr",
       "text": [
        "DEBUG:root:timeDelta = 0, distanceDelta = %s, returning speed = 0\n"
       ]
      },
      {
       "output_type": "stream",
       "stream": "stderr",
       "text": [
        "DEBUG:root:timeDelta = 0, distanceDelta = %s, returning speed = 0\n"
       ]
      },
      {
       "output_type": "stream",
       "stream": "stderr",
       "text": [
        "DEBUG:root:timeDelta = 0, distanceDelta = %s, returning speed = 0\n"
       ]
      },
      {
       "output_type": "stream",
       "stream": "stderr",
       "text": [
        "DEBUG:root:timeDelta = 0, distanceDelta = %s, returning speed = 0\n"
       ]
      },
      {
       "output_type": "stream",
       "stream": "stderr",
       "text": [
        "DEBUG:root:timeDelta = 0, distanceDelta = %s, returning speed = 0\n"
       ]
      },
      {
       "output_type": "stream",
       "stream": "stderr",
       "text": [
        "DEBUG:root:timeDelta = 0, distanceDelta = %s, returning speed = 0\n"
       ]
      },
      {
       "output_type": "stream",
       "stream": "stderr",
       "text": [
        "DEBUG:root:timeDelta = 0, distanceDelta = %s, returning speed = 0\n"
       ]
      },
      {
       "output_type": "stream",
       "stream": "stderr",
       "text": [
        "DEBUG:root:timeDelta = 0, distanceDelta = %s, returning speed = 0\n"
       ]
      },
      {
       "output_type": "stream",
       "stream": "stderr",
       "text": [
        "DEBUG:root:timeDelta = 0, distanceDelta = %s, returning speed = 0\n"
       ]
      },
      {
       "output_type": "stream",
       "stream": "stderr",
       "text": [
        "DEBUG:root:timeDelta = 0, distanceDelta = %s, returning speed = 0\n"
       ]
      },
      {
       "output_type": "stream",
       "stream": "stderr",
       "text": [
        "DEBUG:root:timeDelta = 0, distanceDelta = %s, returning speed = 0\n"
       ]
      },
      {
       "output_type": "stream",
       "stream": "stderr",
       "text": [
        "DEBUG:root:timeDelta = 0, distanceDelta = %s, returning speed = 0\n"
       ]
      },
      {
       "output_type": "stream",
       "stream": "stderr",
       "text": [
        "DEBUG:root:timeDelta = 0, distanceDelta = %s, returning speed = 0\n"
       ]
      },
      {
       "output_type": "stream",
       "stream": "stderr",
       "text": [
        "DEBUG:root:timeDelta = 0, distanceDelta = %s, returning speed = 0\n"
       ]
      },
      {
       "output_type": "stream",
       "stream": "stderr",
       "text": [
        "DEBUG:root:timeDelta = 0, distanceDelta = %s, returning speed = 0\n"
       ]
      },
      {
       "output_type": "stream",
       "stream": "stderr",
       "text": [
        "DEBUG:root:timeDelta = 0, distanceDelta = %s, returning speed = 0\n"
       ]
      },
      {
       "output_type": "stream",
       "stream": "stderr",
       "text": [
        "DEBUG:root:timeDelta = 0, distanceDelta = %s, returning speed = 0\n"
       ]
      },
      {
       "output_type": "stream",
       "stream": "stderr",
       "text": [
        "DEBUG:root:timeDelta = 0, distanceDelta = %s, returning speed = 0\n"
       ]
      },
      {
       "output_type": "stream",
       "stream": "stderr",
       "text": [
        "DEBUG:root:timeDelta = 0, distanceDelta = %s, returning speed = 0\n"
       ]
      },
      {
       "output_type": "stream",
       "stream": "stderr",
       "text": [
        "DEBUG:root:timeDelta = 0, distanceDelta = %s, returning speed = 0\n"
       ]
      },
      {
       "output_type": "stream",
       "stream": "stderr",
       "text": [
        "DEBUG:root:timeDelta = 0, distanceDelta = %s, returning speed = 0\n"
       ]
      },
      {
       "output_type": "stream",
       "stream": "stderr",
       "text": [
        "DEBUG:root:timeDelta = 0, distanceDelta = %s, returning speed = 0\n"
       ]
      },
      {
       "output_type": "stream",
       "stream": "stderr",
       "text": [
        "DEBUG:root:timeDelta = 0, distanceDelta = %s, returning speed = 0\n"
       ]
      },
      {
       "output_type": "stream",
       "stream": "stderr",
       "text": [
        "DEBUG:root:timeDelta = 0, distanceDelta = %s, returning speed = 0\n"
       ]
      },
      {
       "output_type": "stream",
       "stream": "stderr",
       "text": [
        "DEBUG:root:timeDelta = 0, distanceDelta = %s, returning speed = 0\n"
       ]
      },
      {
       "output_type": "stream",
       "stream": "stderr",
       "text": [
        "DEBUG:root:timeDelta = 0, distanceDelta = %s, returning speed = 0\n"
       ]
      },
      {
       "output_type": "stream",
       "stream": "stderr",
       "text": [
        "DEBUG:root:timeDelta = 0, distanceDelta = %s, returning speed = 0\n"
       ]
      },
      {
       "output_type": "stream",
       "stream": "stderr",
       "text": [
        "DEBUG:root:timeDelta = 0, distanceDelta = %s, returning speed = 0\n"
       ]
      },
      {
       "output_type": "stream",
       "stream": "stderr",
       "text": [
        "DEBUG:root:timeDelta = 0, distanceDelta = %s, returning speed = 0\n"
       ]
      },
      {
       "output_type": "stream",
       "stream": "stderr",
       "text": [
        "DEBUG:root:timeDelta = 0, distanceDelta = %s, returning speed = 0\n"
       ]
      },
      {
       "output_type": "stream",
       "stream": "stderr",
       "text": [
        "DEBUG:root:timeDelta = 0, distanceDelta = %s, returning speed = 0\n"
       ]
      },
      {
       "output_type": "stream",
       "stream": "stderr",
       "text": [
        "DEBUG:root:timeDelta = 0, distanceDelta = %s, returning speed = 0\n"
       ]
      },
      {
       "output_type": "stream",
       "stream": "stderr",
       "text": [
        "DEBUG:root:timeDelta = 0, distanceDelta = %s, returning speed = 0\n"
       ]
      },
      {
       "output_type": "stream",
       "stream": "stderr",
       "text": [
        "DEBUG:root:timeDelta = 0, distanceDelta = %s, returning speed = 0\n"
       ]
      },
      {
       "output_type": "stream",
       "stream": "stderr",
       "text": [
        "DEBUG:root:timeDelta = 0, distanceDelta = %s, returning speed = 0\n"
       ]
      },
      {
       "output_type": "stream",
       "stream": "stderr",
       "text": [
        "DEBUG:root:timeDelta = 0, distanceDelta = %s, returning speed = 0\n"
       ]
      },
      {
       "output_type": "stream",
       "stream": "stderr",
       "text": [
        "DEBUG:root:timeDelta = 0, distanceDelta = %s, returning speed = 0\n"
       ]
      },
      {
       "output_type": "stream",
       "stream": "stderr",
       "text": [
        "DEBUG:root:timeDelta = 0, distanceDelta = %s, returning speed = 0\n"
       ]
      },
      {
       "output_type": "stream",
       "stream": "stderr",
       "text": [
        "DEBUG:root:timeDelta = 0, distanceDelta = %s, returning speed = 0\n"
       ]
      },
      {
       "output_type": "stream",
       "stream": "stderr",
       "text": [
        "DEBUG:root:timeDelta = 0, distanceDelta = %s, returning speed = 0\n"
       ]
      },
      {
       "output_type": "stream",
       "stream": "stderr",
       "text": [
        "DEBUG:root:timeDelta = 0, distanceDelta = %s, returning speed = 0\n"
       ]
      },
      {
       "output_type": "stream",
       "stream": "stderr",
       "text": [
        "DEBUG:root:timeDelta = 0, distanceDelta = %s, returning speed = 0\n"
       ]
      },
      {
       "output_type": "stream",
       "stream": "stderr",
       "text": [
        "DEBUG:root:timeDelta = 0, distanceDelta = %s, returning speed = 0\n"
       ]
      },
      {
       "output_type": "stream",
       "stream": "stderr",
       "text": [
        "DEBUG:root:timeDelta = 0, distanceDelta = %s, returning speed = 0\n"
       ]
      },
      {
       "output_type": "stream",
       "stream": "stderr",
       "text": [
        "DEBUG:root:timeDelta = 0, distanceDelta = %s, returning speed = 0\n"
       ]
      },
      {
       "output_type": "stream",
       "stream": "stderr",
       "text": [
        "DEBUG:root:timeDelta = 0, distanceDelta = %s, returning speed = 0\n"
       ]
      },
      {
       "output_type": "stream",
       "stream": "stderr",
       "text": [
        "DEBUG:root:timeDelta = 0, distanceDelta = %s, returning speed = 0\n"
       ]
      },
      {
       "output_type": "stream",
       "stream": "stderr",
       "text": [
        "DEBUG:root:timeDelta = 0, distanceDelta = %s, returning speed = 0\n"
       ]
      },
      {
       "output_type": "stream",
       "stream": "stderr",
       "text": [
        "DEBUG:root:timeDelta = 0, distanceDelta = %s, returning speed = 0\n"
       ]
      },
      {
       "output_type": "stream",
       "stream": "stderr",
       "text": [
        "DEBUG:root:timeDelta = 0, distanceDelta = %s, returning speed = 0\n"
       ]
      },
      {
       "output_type": "stream",
       "stream": "stderr",
       "text": [
        "DEBUG:root:timeDelta = 0, distanceDelta = %s, returning speed = 0\n"
       ]
      },
      {
       "output_type": "stream",
       "stream": "stderr",
       "text": [
        "DEBUG:root:timeDelta = 0, distanceDelta = %s, returning speed = 0\n"
       ]
      },
      {
       "output_type": "stream",
       "stream": "stderr",
       "text": [
        "DEBUG:root:timeDelta = 0, distanceDelta = %s, returning speed = 0\n"
       ]
      },
      {
       "output_type": "stream",
       "stream": "stderr",
       "text": [
        "DEBUG:root:timeDelta = 0, distanceDelta = %s, returning speed = 0\n"
       ]
      },
      {
       "output_type": "stream",
       "stream": "stderr",
       "text": [
        "DEBUG:root:timeDelta = 0, distanceDelta = %s, returning speed = 0\n"
       ]
      },
      {
       "output_type": "stream",
       "stream": "stderr",
       "text": [
        "DEBUG:root:timeDelta = 0, distanceDelta = %s, returning speed = 0\n"
       ]
      },
      {
       "output_type": "stream",
       "stream": "stderr",
       "text": [
        "DEBUG:root:timeDelta = 0, distanceDelta = %s, returning speed = 0\n"
       ]
      },
      {
       "output_type": "stream",
       "stream": "stderr",
       "text": [
        "DEBUG:root:timeDelta = 0, distanceDelta = %s, returning speed = 0\n"
       ]
      },
      {
       "output_type": "stream",
       "stream": "stderr",
       "text": [
        "DEBUG:root:timeDelta = 0, distanceDelta = %s, returning speed = 0\n"
       ]
      },
      {
       "output_type": "stream",
       "stream": "stderr",
       "text": [
        "DEBUG:root:timeDelta = 0, distanceDelta = %s, returning speed = 0\n"
       ]
      },
      {
       "output_type": "stream",
       "stream": "stderr",
       "text": [
        "DEBUG:root:timeDelta = 0, distanceDelta = %s, returning speed = 0\n"
       ]
      },
      {
       "output_type": "stream",
       "stream": "stderr",
       "text": [
        "DEBUG:root:timeDelta = 0, distanceDelta = %s, returning speed = 0\n"
       ]
      },
      {
       "output_type": "stream",
       "stream": "stderr",
       "text": [
        "DEBUG:root:timeDelta = 0, distanceDelta = %s, returning speed = 0\n"
       ]
      },
      {
       "output_type": "stream",
       "stream": "stderr",
       "text": [
        "DEBUG:root:timeDelta = 0, distanceDelta = %s, returning speed = 0\n"
       ]
      },
      {
       "output_type": "stream",
       "stream": "stderr",
       "text": [
        "DEBUG:root:timeDelta = 0, distanceDelta = %s, returning speed = 0\n"
       ]
      },
      {
       "output_type": "stream",
       "stream": "stderr",
       "text": [
        "DEBUG:root:timeDelta = 0, distanceDelta = %s, returning speed = 0\n"
       ]
      },
      {
       "output_type": "stream",
       "stream": "stderr",
       "text": [
        "DEBUG:root:timeDelta = 0, distanceDelta = %s, returning speed = 0\n"
       ]
      },
      {
       "output_type": "stream",
       "stream": "stderr",
       "text": [
        "DEBUG:root:timeDelta = 0, distanceDelta = %s, returning speed = 0\n"
       ]
      },
      {
       "output_type": "stream",
       "stream": "stderr",
       "text": [
        "DEBUG:root:timeDelta = 0, distanceDelta = %s, returning speed = 0\n"
       ]
      },
      {
       "output_type": "stream",
       "stream": "stderr",
       "text": [
        "DEBUG:root:timeDelta = 0, distanceDelta = %s, returning speed = 0\n"
       ]
      },
      {
       "output_type": "stream",
       "stream": "stderr",
       "text": [
        "DEBUG:root:timeDelta = 0, distanceDelta = %s, returning speed = 0\n"
       ]
      },
      {
       "output_type": "stream",
       "stream": "stderr",
       "text": [
        "DEBUG:root:timeDelta = 0, distanceDelta = %s, returning speed = 0\n"
       ]
      },
      {
       "output_type": "stream",
       "stream": "stderr",
       "text": [
        "DEBUG:root:timeDelta = 0, distanceDelta = %s, returning speed = 0\n"
       ]
      },
      {
       "output_type": "stream",
       "stream": "stderr",
       "text": [
        "DEBUG:root:timeDelta = 0, distanceDelta = %s, returning speed = 0\n"
       ]
      },
      {
       "output_type": "stream",
       "stream": "stderr",
       "text": [
        "DEBUG:root:timeDelta = 0, distanceDelta = %s, returning speed = 0\n"
       ]
      },
      {
       "output_type": "stream",
       "stream": "stderr",
       "text": [
        "DEBUG:root:timeDelta = 0, distanceDelta = %s, returning speed = 0\n"
       ]
      },
      {
       "output_type": "stream",
       "stream": "stderr",
       "text": [
        "DEBUG:root:timeDelta = 0, distanceDelta = %s, returning speed = 0\n"
       ]
      },
      {
       "output_type": "stream",
       "stream": "stderr",
       "text": [
        "DEBUG:root:timeDelta = 0, distanceDelta = %s, returning speed = 0\n"
       ]
      },
      {
       "output_type": "stream",
       "stream": "stderr",
       "text": [
        "DEBUG:root:timeDelta = 0, distanceDelta = %s, returning speed = 0\n"
       ]
      },
      {
       "output_type": "stream",
       "stream": "stderr",
       "text": [
        "DEBUG:root:timeDelta = 0, distanceDelta = %s, returning speed = 0\n"
       ]
      },
      {
       "output_type": "stream",
       "stream": "stderr",
       "text": [
        "DEBUG:root:timeDelta = 0, distanceDelta = %s, returning speed = 0\n"
       ]
      },
      {
       "output_type": "stream",
       "stream": "stderr",
       "text": [
        "DEBUG:root:timeDelta = 0, distanceDelta = %s, returning speed = 0\n"
       ]
      },
      {
       "output_type": "stream",
       "stream": "stderr",
       "text": [
        "DEBUG:root:timeDelta = 0, distanceDelta = %s, returning speed = 0\n"
       ]
      },
      {
       "output_type": "stream",
       "stream": "stderr",
       "text": [
        "DEBUG:root:timeDelta = 0, distanceDelta = %s, returning speed = 0\n"
       ]
      },
      {
       "output_type": "stream",
       "stream": "stderr",
       "text": [
        "DEBUG:root:timeDelta = 0, distanceDelta = %s, returning speed = 0\n"
       ]
      },
      {
       "output_type": "stream",
       "stream": "stderr",
       "text": [
        "DEBUG:root:timeDelta = 0, distanceDelta = %s, returning speed = 0\n"
       ]
      },
      {
       "output_type": "stream",
       "stream": "stderr",
       "text": [
        "DEBUG:root:timeDelta = 0, distanceDelta = %s, returning speed = 0\n"
       ]
      },
      {
       "output_type": "stream",
       "stream": "stderr",
       "text": [
        "DEBUG:root:timeDelta = 0, distanceDelta = %s, returning speed = 0\n"
       ]
      },
      {
       "output_type": "stream",
       "stream": "stderr",
       "text": [
        "DEBUG:root:timeDelta = 0, distanceDelta = %s, returning speed = 0\n"
       ]
      },
      {
       "output_type": "stream",
       "stream": "stderr",
       "text": [
        "DEBUG:root:timeDelta = 0, distanceDelta = %s, returning speed = 0\n"
       ]
      },
      {
       "output_type": "stream",
       "stream": "stderr",
       "text": [
        "DEBUG:root:timeDelta = 0, distanceDelta = %s, returning speed = 0\n"
       ]
      },
      {
       "output_type": "stream",
       "stream": "stderr",
       "text": [
        "DEBUG:root:timeDelta = 0, distanceDelta = %s, returning speed = 0\n"
       ]
      },
      {
       "output_type": "stream",
       "stream": "stderr",
       "text": [
        "DEBUG:root:timeDelta = 0, distanceDelta = %s, returning speed = 0\n"
       ]
      },
      {
       "output_type": "stream",
       "stream": "stderr",
       "text": [
        "DEBUG:root:timeDelta = 0, distanceDelta = %s, returning speed = 0\n"
       ]
      },
      {
       "output_type": "stream",
       "stream": "stderr",
       "text": [
        "DEBUG:root:timeDelta = 0, distanceDelta = %s, returning speed = 0\n"
       ]
      },
      {
       "output_type": "stream",
       "stream": "stderr",
       "text": [
        "DEBUG:root:timeDelta = 0, distanceDelta = %s, returning speed = 0\n"
       ]
      },
      {
       "output_type": "stream",
       "stream": "stderr",
       "text": [
        "DEBUG:root:timeDelta = 0, distanceDelta = %s, returning speed = 0\n"
       ]
      },
      {
       "output_type": "stream",
       "stream": "stderr",
       "text": [
        "DEBUG:root:timeDelta = 0, distanceDelta = %s, returning speed = 0\n"
       ]
      },
      {
       "output_type": "stream",
       "stream": "stderr",
       "text": [
        "DEBUG:root:timeDelta = 0, distanceDelta = %s, returning speed = 0\n"
       ]
      },
      {
       "output_type": "stream",
       "stream": "stderr",
       "text": [
        "DEBUG:root:timeDelta = 0, distanceDelta = %s, returning speed = 0\n"
       ]
      },
      {
       "output_type": "stream",
       "stream": "stderr",
       "text": [
        "DEBUG:root:timeDelta = 0, distanceDelta = %s, returning speed = 0\n"
       ]
      },
      {
       "output_type": "stream",
       "stream": "stderr",
       "text": [
        "DEBUG:root:timeDelta = 0, distanceDelta = %s, returning speed = 0\n"
       ]
      },
      {
       "output_type": "stream",
       "stream": "stderr",
       "text": [
        "DEBUG:root:timeDelta = 0, distanceDelta = %s, returning speed = 0\n"
       ]
      },
      {
       "output_type": "stream",
       "stream": "stderr",
       "text": [
        "DEBUG:root:timeDelta = 0, distanceDelta = %s, returning speed = 0\n"
       ]
      },
      {
       "output_type": "stream",
       "stream": "stderr",
       "text": [
        "DEBUG:root:timeDelta = 0, distanceDelta = %s, returning speed = 0\n"
       ]
      },
      {
       "output_type": "stream",
       "stream": "stderr",
       "text": [
        "DEBUG:root:timeDelta = 0, distanceDelta = %s, returning speed = 0\n"
       ]
      },
      {
       "output_type": "stream",
       "stream": "stderr",
       "text": [
        "DEBUG:root:timeDelta = 0, distanceDelta = %s, returning speed = 0\n"
       ]
      },
      {
       "output_type": "stream",
       "stream": "stderr",
       "text": [
        "DEBUG:root:timeDelta = 0, distanceDelta = %s, returning speed = 0\n"
       ]
      },
      {
       "output_type": "stream",
       "stream": "stderr",
       "text": [
        "DEBUG:root:timeDelta = 0, distanceDelta = %s, returning speed = 0\n"
       ]
      },
      {
       "output_type": "stream",
       "stream": "stderr",
       "text": [
        "DEBUG:root:timeDelta = 0, distanceDelta = %s, returning speed = 0\n"
       ]
      },
      {
       "output_type": "stream",
       "stream": "stderr",
       "text": [
        "DEBUG:root:timeDelta = 0, distanceDelta = %s, returning speed = 0\n"
       ]
      },
      {
       "output_type": "stream",
       "stream": "stderr",
       "text": [
        "DEBUG:root:timeDelta = 0, distanceDelta = %s, returning speed = 0\n"
       ]
      },
      {
       "output_type": "stream",
       "stream": "stderr",
       "text": [
        "DEBUG:root:timeDelta = 0, distanceDelta = %s, returning speed = 0\n"
       ]
      },
      {
       "output_type": "stream",
       "stream": "stderr",
       "text": [
        "DEBUG:root:timeDelta = 0, distanceDelta = %s, returning speed = 0\n"
       ]
      },
      {
       "output_type": "stream",
       "stream": "stderr",
       "text": [
        "DEBUG:root:timeDelta = 0, distanceDelta = %s, returning speed = 0\n"
       ]
      },
      {
       "output_type": "stream",
       "stream": "stderr",
       "text": [
        "DEBUG:root:timeDelta = 0, distanceDelta = %s, returning speed = 0\n"
       ]
      },
      {
       "output_type": "stream",
       "stream": "stderr",
       "text": [
        "DEBUG:root:timeDelta = 0, distanceDelta = %s, returning speed = 0\n"
       ]
      },
      {
       "output_type": "stream",
       "stream": "stderr",
       "text": [
        "DEBUG:root:timeDelta = 0, distanceDelta = %s, returning speed = 0\n"
       ]
      },
      {
       "output_type": "stream",
       "stream": "stderr",
       "text": [
        "DEBUG:root:timeDelta = 0, distanceDelta = %s, returning speed = 0\n"
       ]
      },
      {
       "output_type": "stream",
       "stream": "stderr",
       "text": [
        "DEBUG:root:timeDelta = 0, distanceDelta = %s, returning speed = 0\n"
       ]
      },
      {
       "output_type": "stream",
       "stream": "stderr",
       "text": [
        "DEBUG:root:timeDelta = 0, distanceDelta = %s, returning speed = 0\n"
       ]
      },
      {
       "output_type": "stream",
       "stream": "stderr",
       "text": [
        "DEBUG:root:timeDelta = 0, distanceDelta = %s, returning speed = 0\n"
       ]
      },
      {
       "output_type": "stream",
       "stream": "stderr",
       "text": [
        "DEBUG:root:timeDelta = 0, distanceDelta = %s, returning speed = 0\n"
       ]
      },
      {
       "output_type": "stream",
       "stream": "stderr",
       "text": [
        "DEBUG:root:timeDelta = 0, distanceDelta = %s, returning speed = 0\n"
       ]
      },
      {
       "output_type": "stream",
       "stream": "stderr",
       "text": [
        "DEBUG:root:timeDelta = 0, distanceDelta = %s, returning speed = 0\n"
       ]
      },
      {
       "output_type": "stream",
       "stream": "stderr",
       "text": [
        "DEBUG:root:timeDelta = 0, distanceDelta = %s, returning speed = 0\n"
       ]
      },
      {
       "output_type": "stream",
       "stream": "stderr",
       "text": [
        "DEBUG:root:timeDelta = 0, distanceDelta = %s, returning speed = 0\n"
       ]
      },
      {
       "output_type": "stream",
       "stream": "stderr",
       "text": [
        "DEBUG:root:timeDelta = 0, distanceDelta = %s, returning speed = 0\n"
       ]
      },
      {
       "output_type": "stream",
       "stream": "stderr",
       "text": [
        "DEBUG:root:timeDelta = 0, distanceDelta = %s, returning speed = 0\n"
       ]
      },
      {
       "output_type": "stream",
       "stream": "stderr",
       "text": [
        "DEBUG:root:timeDelta = 0, distanceDelta = %s, returning speed = 0\n"
       ]
      },
      {
       "output_type": "stream",
       "stream": "stderr",
       "text": [
        "DEBUG:root:timeDelta = 0, distanceDelta = %s, returning speed = 0\n"
       ]
      },
      {
       "output_type": "stream",
       "stream": "stderr",
       "text": [
        "DEBUG:root:timeDelta = 0, distanceDelta = %s, returning speed = 0\n"
       ]
      },
      {
       "output_type": "stream",
       "stream": "stderr",
       "text": [
        "DEBUG:root:timeDelta = 0, distanceDelta = %s, returning speed = 0\n"
       ]
      },
      {
       "output_type": "stream",
       "stream": "stderr",
       "text": [
        "DEBUG:root:timeDelta = 0, distanceDelta = %s, returning speed = 0\n"
       ]
      },
      {
       "output_type": "stream",
       "stream": "stderr",
       "text": [
        "DEBUG:root:timeDelta = 0, distanceDelta = %s, returning speed = 0\n"
       ]
      },
      {
       "output_type": "stream",
       "stream": "stderr",
       "text": [
        "DEBUG:root:timeDelta = 0, distanceDelta = %s, returning speed = 0\n"
       ]
      },
      {
       "output_type": "stream",
       "stream": "stderr",
       "text": [
        "DEBUG:root:timeDelta = 0, distanceDelta = %s, returning speed = 0\n"
       ]
      },
      {
       "output_type": "stream",
       "stream": "stderr",
       "text": [
        "DEBUG:root:timeDelta = 0, distanceDelta = %s, returning speed = 0\n"
       ]
      },
      {
       "output_type": "stream",
       "stream": "stderr",
       "text": [
        "DEBUG:root:timeDelta = 0, distanceDelta = %s, returning speed = 0\n"
       ]
      },
      {
       "output_type": "stream",
       "stream": "stderr",
       "text": [
        "DEBUG:root:timeDelta = 0, distanceDelta = %s, returning speed = 0\n"
       ]
      },
      {
       "output_type": "stream",
       "stream": "stderr",
       "text": [
        "DEBUG:root:timeDelta = 0, distanceDelta = %s, returning speed = 0\n"
       ]
      },
      {
       "output_type": "stream",
       "stream": "stderr",
       "text": [
        "DEBUG:root:timeDelta = 0, distanceDelta = %s, returning speed = 0\n"
       ]
      },
      {
       "output_type": "stream",
       "stream": "stderr",
       "text": [
        "DEBUG:root:timeDelta = 0, distanceDelta = %s, returning speed = 0\n"
       ]
      },
      {
       "output_type": "stream",
       "stream": "stderr",
       "text": [
        "DEBUG:root:timeDelta = 0, distanceDelta = %s, returning speed = 0\n"
       ]
      },
      {
       "output_type": "stream",
       "stream": "stderr",
       "text": [
        "DEBUG:root:timeDelta = 0, distanceDelta = %s, returning speed = 0\n"
       ]
      },
      {
       "output_type": "stream",
       "stream": "stderr",
       "text": [
        "DEBUG:root:timeDelta = 0, distanceDelta = %s, returning speed = 0\n"
       ]
      },
      {
       "output_type": "stream",
       "stream": "stderr",
       "text": [
        "DEBUG:root:timeDelta = 0, distanceDelta = %s, returning speed = 0\n"
       ]
      },
      {
       "output_type": "stream",
       "stream": "stderr",
       "text": [
        "DEBUG:root:timeDelta = 0, distanceDelta = %s, returning speed = 0\n"
       ]
      },
      {
       "output_type": "stream",
       "stream": "stderr",
       "text": [
        "DEBUG:root:timeDelta = 0, distanceDelta = %s, returning speed = 0\n"
       ]
      },
      {
       "output_type": "stream",
       "stream": "stderr",
       "text": [
        "DEBUG:root:timeDelta = 0, distanceDelta = %s, returning speed = 0\n"
       ]
      },
      {
       "output_type": "stream",
       "stream": "stderr",
       "text": [
        "DEBUG:root:timeDelta = 0, distanceDelta = %s, returning speed = 0\n"
       ]
      },
      {
       "output_type": "stream",
       "stream": "stderr",
       "text": [
        "DEBUG:root:timeDelta = 0, distanceDelta = %s, returning speed = 0\n"
       ]
      },
      {
       "output_type": "stream",
       "stream": "stderr",
       "text": [
        "DEBUG:root:timeDelta = 0, distanceDelta = %s, returning speed = 0\n"
       ]
      },
      {
       "output_type": "stream",
       "stream": "stderr",
       "text": [
        "DEBUG:root:timeDelta = 0, distanceDelta = %s, returning speed = 0\n"
       ]
      },
      {
       "output_type": "stream",
       "stream": "stderr",
       "text": [
        "DEBUG:root:timeDelta = 0, distanceDelta = %s, returning speed = 0\n"
       ]
      },
      {
       "output_type": "stream",
       "stream": "stderr",
       "text": [
        "DEBUG:root:timeDelta = 0, distanceDelta = %s, returning speed = 0\n"
       ]
      },
      {
       "output_type": "stream",
       "stream": "stderr",
       "text": [
        "DEBUG:root:timeDelta = 0, distanceDelta = %s, returning speed = 0\n"
       ]
      },
      {
       "output_type": "stream",
       "stream": "stderr",
       "text": [
        "DEBUG:root:timeDelta = 0, distanceDelta = %s, returning speed = 0\n"
       ]
      },
      {
       "output_type": "stream",
       "stream": "stderr",
       "text": [
        "DEBUG:root:timeDelta = 0, distanceDelta = %s, returning speed = 0\n"
       ]
      },
      {
       "output_type": "stream",
       "stream": "stderr",
       "text": [
        "DEBUG:root:timeDelta = 0, distanceDelta = %s, returning speed = 0\n"
       ]
      },
      {
       "output_type": "stream",
       "stream": "stderr",
       "text": [
        "DEBUG:root:timeDelta = 0, distanceDelta = %s, returning speed = 0\n"
       ]
      },
      {
       "output_type": "stream",
       "stream": "stderr",
       "text": [
        "DEBUG:root:timeDelta = 0, distanceDelta = %s, returning speed = 0\n"
       ]
      },
      {
       "output_type": "stream",
       "stream": "stderr",
       "text": [
        "DEBUG:root:timeDelta = 0, distanceDelta = %s, returning speed = 0\n"
       ]
      },
      {
       "output_type": "stream",
       "stream": "stderr",
       "text": [
        "DEBUG:root:timeDelta = 0, distanceDelta = %s, returning speed = 0\n"
       ]
      },
      {
       "output_type": "stream",
       "stream": "stderr",
       "text": [
        "DEBUG:root:timeDelta = 0, distanceDelta = %s, returning speed = 0\n"
       ]
      },
      {
       "output_type": "stream",
       "stream": "stderr",
       "text": [
        "DEBUG:root:timeDelta = 0, distanceDelta = %s, returning speed = 0\n"
       ]
      },
      {
       "output_type": "stream",
       "stream": "stderr",
       "text": [
        "DEBUG:root:timeDelta = 0, distanceDelta = %s, returning speed = 0\n"
       ]
      },
      {
       "output_type": "stream",
       "stream": "stderr",
       "text": [
        "DEBUG:root:timeDelta = 0, distanceDelta = %s, returning speed = 0\n"
       ]
      },
      {
       "output_type": "stream",
       "stream": "stderr",
       "text": [
        "DEBUG:root:timeDelta = 0, distanceDelta = %s, returning speed = 0\n"
       ]
      },
      {
       "output_type": "stream",
       "stream": "stderr",
       "text": [
        "DEBUG:root:timeDelta = 0, distanceDelta = %s, returning speed = 0\n"
       ]
      },
      {
       "output_type": "stream",
       "stream": "stderr",
       "text": [
        "DEBUG:root:timeDelta = 0, distanceDelta = %s, returning speed = 0\n"
       ]
      },
      {
       "output_type": "stream",
       "stream": "stderr",
       "text": [
        "DEBUG:root:timeDelta = 0, distanceDelta = %s, returning speed = 0\n"
       ]
      },
      {
       "output_type": "stream",
       "stream": "stderr",
       "text": [
        "DEBUG:root:timeDelta = 0, distanceDelta = %s, returning speed = 0\n"
       ]
      },
      {
       "output_type": "stream",
       "stream": "stderr",
       "text": [
        "DEBUG:root:timeDelta = 0, distanceDelta = %s, returning speed = 0\n"
       ]
      },
      {
       "output_type": "stream",
       "stream": "stderr",
       "text": [
        "DEBUG:root:timeDelta = 0, distanceDelta = %s, returning speed = 0\n"
       ]
      },
      {
       "output_type": "stream",
       "stream": "stderr",
       "text": [
        "DEBUG:root:timeDelta = 0, distanceDelta = %s, returning speed = 0\n"
       ]
      },
      {
       "output_type": "stream",
       "stream": "stderr",
       "text": [
        "DEBUG:root:timeDelta = 0, distanceDelta = %s, returning speed = 0\n"
       ]
      },
      {
       "output_type": "stream",
       "stream": "stderr",
       "text": [
        "DEBUG:root:timeDelta = 0, distanceDelta = %s, returning speed = 0\n"
       ]
      },
      {
       "output_type": "stream",
       "stream": "stderr",
       "text": [
        "DEBUG:root:timeDelta = 0, distanceDelta = %s, returning speed = 0\n"
       ]
      },
      {
       "output_type": "stream",
       "stream": "stderr",
       "text": [
        "DEBUG:root:timeDelta = 0, distanceDelta = %s, returning speed = 0\n"
       ]
      },
      {
       "output_type": "stream",
       "stream": "stderr",
       "text": [
        "DEBUG:root:timeDelta = 0, distanceDelta = %s, returning speed = 0\n"
       ]
      },
      {
       "output_type": "stream",
       "stream": "stderr",
       "text": [
        "DEBUG:root:timeDelta = 0, distanceDelta = %s, returning speed = 0\n"
       ]
      },
      {
       "output_type": "stream",
       "stream": "stderr",
       "text": [
        "DEBUG:root:timeDelta = 0, distanceDelta = %s, returning speed = 0\n"
       ]
      },
      {
       "output_type": "stream",
       "stream": "stderr",
       "text": [
        "DEBUG:root:timeDelta = 0, distanceDelta = %s, returning speed = 0\n"
       ]
      },
      {
       "output_type": "stream",
       "stream": "stderr",
       "text": [
        "DEBUG:root:timeDelta = 0, distanceDelta = %s, returning speed = 0\n"
       ]
      },
      {
       "output_type": "stream",
       "stream": "stderr",
       "text": [
        "DEBUG:root:timeDelta = 0, distanceDelta = %s, returning speed = 0\n"
       ]
      },
      {
       "output_type": "stream",
       "stream": "stderr",
       "text": [
        "DEBUG:root:timeDelta = 0, distanceDelta = %s, returning speed = 0\n"
       ]
      },
      {
       "output_type": "stream",
       "stream": "stderr",
       "text": [
        "DEBUG:root:timeDelta = 0, distanceDelta = %s, returning speed = 0\n"
       ]
      },
      {
       "output_type": "stream",
       "stream": "stderr",
       "text": [
        "DEBUG:root:timeDelta = 0, distanceDelta = %s, returning speed = 0\n"
       ]
      },
      {
       "output_type": "stream",
       "stream": "stderr",
       "text": [
        "DEBUG:root:timeDelta = 0, distanceDelta = %s, returning speed = 0\n"
       ]
      },
      {
       "output_type": "stream",
       "stream": "stderr",
       "text": [
        "DEBUG:root:timeDelta = 0, distanceDelta = %s, returning speed = 0\n"
       ]
      },
      {
       "output_type": "stream",
       "stream": "stderr",
       "text": [
        "DEBUG:root:timeDelta = 0, distanceDelta = %s, returning speed = 0\n"
       ]
      },
      {
       "output_type": "stream",
       "stream": "stderr",
       "text": [
        "DEBUG:root:timeDelta = 0, distanceDelta = %s, returning speed = 0\n"
       ]
      },
      {
       "output_type": "stream",
       "stream": "stderr",
       "text": [
        "DEBUG:root:timeDelta = 0, distanceDelta = %s, returning speed = 0\n"
       ]
      },
      {
       "output_type": "stream",
       "stream": "stderr",
       "text": [
        "DEBUG:root:timeDelta = 0, distanceDelta = %s, returning speed = 0\n"
       ]
      },
      {
       "output_type": "stream",
       "stream": "stderr",
       "text": [
        "DEBUG:root:timeDelta = 0, distanceDelta = %s, returning speed = 0\n"
       ]
      },
      {
       "output_type": "stream",
       "stream": "stderr",
       "text": [
        "DEBUG:root:timeDelta = 0, distanceDelta = %s, returning speed = 0\n"
       ]
      },
      {
       "output_type": "stream",
       "stream": "stderr",
       "text": [
        "DEBUG:root:timeDelta = 0, distanceDelta = %s, returning speed = 0\n"
       ]
      },
      {
       "output_type": "stream",
       "stream": "stderr",
       "text": [
        "DEBUG:root:timeDelta = 0, distanceDelta = %s, returning speed = 0\n"
       ]
      },
      {
       "output_type": "stream",
       "stream": "stderr",
       "text": [
        "DEBUG:root:timeDelta = 0, distanceDelta = %s, returning speed = 0\n"
       ]
      },
      {
       "output_type": "stream",
       "stream": "stderr",
       "text": [
        "DEBUG:root:timeDelta = 0, distanceDelta = %s, returning speed = 0\n"
       ]
      },
      {
       "output_type": "stream",
       "stream": "stderr",
       "text": [
        "DEBUG:root:timeDelta = 0, distanceDelta = %s, returning speed = 0\n"
       ]
      },
      {
       "output_type": "stream",
       "stream": "stderr",
       "text": [
        "DEBUG:root:timeDelta = 0, distanceDelta = %s, returning speed = 0\n"
       ]
      },
      {
       "output_type": "stream",
       "stream": "stderr",
       "text": [
        "DEBUG:root:timeDelta = 0, distanceDelta = %s, returning speed = 0\n"
       ]
      },
      {
       "output_type": "stream",
       "stream": "stderr",
       "text": [
        "DEBUG:root:timeDelta = 0, distanceDelta = %s, returning speed = 0\n"
       ]
      },
      {
       "output_type": "stream",
       "stream": "stderr",
       "text": [
        "DEBUG:root:timeDelta = 0, distanceDelta = %s, returning speed = 0\n"
       ]
      },
      {
       "output_type": "stream",
       "stream": "stderr",
       "text": [
        "DEBUG:root:timeDelta = 0, distanceDelta = %s, returning speed = 0\n"
       ]
      },
      {
       "output_type": "stream",
       "stream": "stderr",
       "text": [
        "DEBUG:root:timeDelta = 0, distanceDelta = %s, returning speed = 0\n"
       ]
      },
      {
       "output_type": "stream",
       "stream": "stderr",
       "text": [
        "DEBUG:root:timeDelta = 0, distanceDelta = %s, returning speed = 0\n"
       ]
      },
      {
       "output_type": "stream",
       "stream": "stderr",
       "text": [
        "DEBUG:root:timeDelta = 0, distanceDelta = %s, returning speed = 0\n"
       ]
      },
      {
       "output_type": "stream",
       "stream": "stderr",
       "text": [
        "DEBUG:root:timeDelta = 0, distanceDelta = %s, returning speed = 0\n"
       ]
      },
      {
       "output_type": "stream",
       "stream": "stderr",
       "text": [
        "DEBUG:root:timeDelta = 0, distanceDelta = %s, returning speed = 0\n"
       ]
      },
      {
       "output_type": "stream",
       "stream": "stderr",
       "text": [
        "DEBUG:root:timeDelta = 0, distanceDelta = %s, returning speed = 0\n"
       ]
      },
      {
       "output_type": "stream",
       "stream": "stderr",
       "text": [
        "DEBUG:root:timeDelta = 0, distanceDelta = %s, returning speed = 0\n"
       ]
      },
      {
       "output_type": "stream",
       "stream": "stderr",
       "text": [
        "DEBUG:root:timeDelta = 0, distanceDelta = %s, returning speed = 0\n"
       ]
      },
      {
       "output_type": "stream",
       "stream": "stderr",
       "text": [
        "DEBUG:root:timeDelta = 0, distanceDelta = %s, returning speed = 0\n"
       ]
      },
      {
       "output_type": "stream",
       "stream": "stderr",
       "text": [
        "DEBUG:root:timeDelta = 0, distanceDelta = %s, returning speed = 0\n"
       ]
      },
      {
       "output_type": "stream",
       "stream": "stderr",
       "text": [
        "DEBUG:root:timeDelta = 0, distanceDelta = %s, returning speed = 0\n"
       ]
      },
      {
       "output_type": "stream",
       "stream": "stderr",
       "text": [
        "DEBUG:root:timeDelta = 0, distanceDelta = %s, returning speed = 0\n"
       ]
      },
      {
       "output_type": "stream",
       "stream": "stderr",
       "text": [
        "DEBUG:root:timeDelta = 0, distanceDelta = %s, returning speed = 0\n"
       ]
      },
      {
       "output_type": "stream",
       "stream": "stderr",
       "text": [
        "DEBUG:root:timeDelta = 0, distanceDelta = %s, returning speed = 0\n"
       ]
      },
      {
       "output_type": "stream",
       "stream": "stderr",
       "text": [
        "DEBUG:root:timeDelta = 0, distanceDelta = %s, returning speed = 0\n"
       ]
      },
      {
       "output_type": "stream",
       "stream": "stderr",
       "text": [
        "DEBUG:root:timeDelta = 0, distanceDelta = %s, returning speed = 0\n"
       ]
      },
      {
       "output_type": "stream",
       "stream": "stderr",
       "text": [
        "DEBUG:root:timeDelta = 0, distanceDelta = %s, returning speed = 0\n"
       ]
      },
      {
       "output_type": "stream",
       "stream": "stderr",
       "text": [
        "DEBUG:root:timeDelta = 0, distanceDelta = %s, returning speed = 0\n"
       ]
      },
      {
       "output_type": "stream",
       "stream": "stderr",
       "text": [
        "DEBUG:root:timeDelta = 0, distanceDelta = %s, returning speed = 0\n"
       ]
      },
      {
       "output_type": "stream",
       "stream": "stderr",
       "text": [
        "DEBUG:root:timeDelta = 0, distanceDelta = %s, returning speed = 0\n"
       ]
      },
      {
       "output_type": "stream",
       "stream": "stderr",
       "text": [
        "DEBUG:root:timeDelta = 0, distanceDelta = %s, returning speed = 0\n"
       ]
      },
      {
       "output_type": "stream",
       "stream": "stderr",
       "text": [
        "DEBUG:root:timeDelta = 0, distanceDelta = %s, returning speed = 0\n"
       ]
      },
      {
       "output_type": "stream",
       "stream": "stderr",
       "text": [
        "DEBUG:root:timeDelta = 0, distanceDelta = %s, returning speed = 0\n"
       ]
      },
      {
       "output_type": "stream",
       "stream": "stderr",
       "text": [
        "DEBUG:root:timeDelta = 0, distanceDelta = %s, returning speed = 0\n"
       ]
      },
      {
       "output_type": "stream",
       "stream": "stderr",
       "text": [
        "DEBUG:root:timeDelta = 0, distanceDelta = %s, returning speed = 0\n"
       ]
      },
      {
       "output_type": "stream",
       "stream": "stderr",
       "text": [
        "DEBUG:root:timeDelta = 0, distanceDelta = %s, returning speed = 0\n"
       ]
      },
      {
       "output_type": "stream",
       "stream": "stderr",
       "text": [
        "DEBUG:root:timeDelta = 0, distanceDelta = %s, returning speed = 0\n"
       ]
      },
      {
       "output_type": "stream",
       "stream": "stderr",
       "text": [
        "DEBUG:root:timeDelta = 0, distanceDelta = %s, returning speed = 0\n"
       ]
      },
      {
       "output_type": "stream",
       "stream": "stderr",
       "text": [
        "DEBUG:root:timeDelta = 0, distanceDelta = %s, returning speed = 0\n"
       ]
      },
      {
       "output_type": "stream",
       "stream": "stderr",
       "text": [
        "DEBUG:root:timeDelta = 0, distanceDelta = %s, returning speed = 0\n"
       ]
      },
      {
       "output_type": "stream",
       "stream": "stderr",
       "text": [
        "DEBUG:root:timeDelta = 0, distanceDelta = %s, returning speed = 0\n"
       ]
      },
      {
       "output_type": "stream",
       "stream": "stderr",
       "text": [
        "DEBUG:root:timeDelta = 0, distanceDelta = %s, returning speed = 0\n"
       ]
      },
      {
       "output_type": "stream",
       "stream": "stderr",
       "text": [
        "DEBUG:root:timeDelta = 0, distanceDelta = %s, returning speed = 0\n"
       ]
      },
      {
       "output_type": "stream",
       "stream": "stderr",
       "text": [
        "DEBUG:root:timeDelta = 0, distanceDelta = %s, returning speed = 0\n"
       ]
      },
      {
       "output_type": "stream",
       "stream": "stderr",
       "text": [
        "DEBUG:root:timeDelta = 0, distanceDelta = %s, returning speed = 0\n"
       ]
      },
      {
       "output_type": "stream",
       "stream": "stderr",
       "text": [
        "DEBUG:root:timeDelta = 0, distanceDelta = %s, returning speed = 0\n"
       ]
      },
      {
       "output_type": "stream",
       "stream": "stderr",
       "text": [
        "DEBUG:root:timeDelta = 0, distanceDelta = %s, returning speed = 0\n"
       ]
      },
      {
       "output_type": "stream",
       "stream": "stderr",
       "text": [
        "DEBUG:root:timeDelta = 0, distanceDelta = %s, returning speed = 0\n"
       ]
      },
      {
       "output_type": "stream",
       "stream": "stderr",
       "text": [
        "DEBUG:root:timeDelta = 0, distanceDelta = %s, returning speed = 0\n"
       ]
      },
      {
       "output_type": "stream",
       "stream": "stderr",
       "text": [
        "DEBUG:root:timeDelta = 0, distanceDelta = %s, returning speed = 0\n"
       ]
      },
      {
       "output_type": "stream",
       "stream": "stderr",
       "text": [
        "DEBUG:root:timeDelta = 0, distanceDelta = %s, returning speed = 0\n"
       ]
      },
      {
       "output_type": "stream",
       "stream": "stderr",
       "text": [
        "DEBUG:root:timeDelta = 0, distanceDelta = %s, returning speed = 0\n"
       ]
      },
      {
       "output_type": "stream",
       "stream": "stderr",
       "text": [
        "DEBUG:root:timeDelta = 0, distanceDelta = %s, returning speed = 0\n"
       ]
      },
      {
       "output_type": "stream",
       "stream": "stderr",
       "text": [
        "DEBUG:root:timeDelta = 0, distanceDelta = %s, returning speed = 0\n"
       ]
      },
      {
       "output_type": "stream",
       "stream": "stderr",
       "text": [
        "DEBUG:root:timeDelta = 0, distanceDelta = %s, returning speed = 0\n"
       ]
      },
      {
       "output_type": "stream",
       "stream": "stderr",
       "text": [
        "DEBUG:root:timeDelta = 0, distanceDelta = %s, returning speed = 0\n"
       ]
      },
      {
       "output_type": "stream",
       "stream": "stderr",
       "text": [
        "DEBUG:root:timeDelta = 0, distanceDelta = %s, returning speed = 0\n"
       ]
      },
      {
       "output_type": "stream",
       "stream": "stderr",
       "text": [
        "DEBUG:root:timeDelta = 0, distanceDelta = %s, returning speed = 0\n"
       ]
      },
      {
       "output_type": "stream",
       "stream": "stderr",
       "text": [
        "DEBUG:root:timeDelta = 0, distanceDelta = %s, returning speed = 0\n"
       ]
      },
      {
       "output_type": "stream",
       "stream": "stderr",
       "text": [
        "DEBUG:root:timeDelta = 0, distanceDelta = %s, returning speed = 0\n"
       ]
      },
      {
       "output_type": "stream",
       "stream": "stderr",
       "text": [
        "DEBUG:root:timeDelta = 0, distanceDelta = %s, returning speed = 0\n"
       ]
      },
      {
       "output_type": "stream",
       "stream": "stderr",
       "text": [
        "DEBUG:root:timeDelta = 0, distanceDelta = %s, returning speed = 0\n"
       ]
      },
      {
       "output_type": "stream",
       "stream": "stderr",
       "text": [
        "DEBUG:root:timeDelta = 0, distanceDelta = %s, returning speed = 0\n"
       ]
      },
      {
       "output_type": "stream",
       "stream": "stderr",
       "text": [
        "DEBUG:root:timeDelta = 0, distanceDelta = %s, returning speed = 0\n"
       ]
      },
      {
       "output_type": "stream",
       "stream": "stderr",
       "text": [
        "DEBUG:root:timeDelta = 0, distanceDelta = %s, returning speed = 0\n"
       ]
      },
      {
       "output_type": "stream",
       "stream": "stderr",
       "text": [
        "DEBUG:root:timeDelta = 0, distanceDelta = %s, returning speed = 0\n"
       ]
      },
      {
       "output_type": "stream",
       "stream": "stderr",
       "text": [
        "DEBUG:root:timeDelta = 0, distanceDelta = %s, returning speed = 0\n"
       ]
      },
      {
       "output_type": "stream",
       "stream": "stderr",
       "text": [
        "DEBUG:root:timeDelta = 0, distanceDelta = %s, returning speed = 0\n"
       ]
      },
      {
       "output_type": "stream",
       "stream": "stderr",
       "text": [
        "DEBUG:root:timeDelta = 0, distanceDelta = %s, returning speed = 0\n"
       ]
      },
      {
       "output_type": "stream",
       "stream": "stderr",
       "text": [
        "DEBUG:root:timeDelta = 0, distanceDelta = %s, returning speed = 0\n"
       ]
      },
      {
       "output_type": "stream",
       "stream": "stderr",
       "text": [
        "DEBUG:root:timeDelta = 0, distanceDelta = %s, returning speed = 0\n"
       ]
      },
      {
       "output_type": "stream",
       "stream": "stderr",
       "text": [
        "DEBUG:root:timeDelta = 0, distanceDelta = %s, returning speed = 0\n"
       ]
      },
      {
       "output_type": "stream",
       "stream": "stderr",
       "text": [
        "DEBUG:root:timeDelta = 0, distanceDelta = %s, returning speed = 0\n"
       ]
      },
      {
       "output_type": "stream",
       "stream": "stderr",
       "text": [
        "DEBUG:root:timeDelta = 0, distanceDelta = %s, returning speed = 0\n"
       ]
      },
      {
       "output_type": "stream",
       "stream": "stderr",
       "text": [
        "DEBUG:root:timeDelta = 0, distanceDelta = %s, returning speed = 0\n"
       ]
      },
      {
       "output_type": "stream",
       "stream": "stderr",
       "text": [
        "DEBUG:root:timeDelta = 0, distanceDelta = %s, returning speed = 0\n"
       ]
      },
      {
       "output_type": "stream",
       "stream": "stderr",
       "text": [
        "DEBUG:root:timeDelta = 0, distanceDelta = %s, returning speed = 0\n"
       ]
      },
      {
       "output_type": "stream",
       "stream": "stderr",
       "text": [
        "DEBUG:root:timeDelta = 0, distanceDelta = %s, returning speed = 0\n"
       ]
      },
      {
       "output_type": "stream",
       "stream": "stderr",
       "text": [
        "DEBUG:root:timeDelta = 0, distanceDelta = %s, returning speed = 0\n"
       ]
      },
      {
       "output_type": "stream",
       "stream": "stderr",
       "text": [
        "DEBUG:root:timeDelta = 0, distanceDelta = %s, returning speed = 0\n"
       ]
      },
      {
       "output_type": "stream",
       "stream": "stderr",
       "text": [
        "DEBUG:root:timeDelta = 0, distanceDelta = %s, returning speed = 0\n"
       ]
      },
      {
       "output_type": "stream",
       "stream": "stderr",
       "text": [
        "DEBUG:root:timeDelta = 0, distanceDelta = %s, returning speed = 0\n"
       ]
      },
      {
       "output_type": "stream",
       "stream": "stderr",
       "text": [
        "DEBUG:root:timeDelta = 0, distanceDelta = %s, returning speed = 0\n"
       ]
      },
      {
       "output_type": "stream",
       "stream": "stderr",
       "text": [
        "DEBUG:root:timeDelta = 0, distanceDelta = %s, returning speed = 0\n"
       ]
      },
      {
       "output_type": "stream",
       "stream": "stderr",
       "text": [
        "DEBUG:root:timeDelta = 0, distanceDelta = %s, returning speed = 0\n"
       ]
      },
      {
       "output_type": "stream",
       "stream": "stderr",
       "text": [
        "DEBUG:root:timeDelta = 0, distanceDelta = %s, returning speed = 0\n"
       ]
      },
      {
       "output_type": "stream",
       "stream": "stderr",
       "text": [
        "DEBUG:root:timeDelta = 0, distanceDelta = %s, returning speed = 0\n"
       ]
      },
      {
       "output_type": "stream",
       "stream": "stderr",
       "text": [
        "DEBUG:root:timeDelta = 0, distanceDelta = %s, returning speed = 0\n"
       ]
      },
      {
       "output_type": "stream",
       "stream": "stderr",
       "text": [
        "DEBUG:root:timeDelta = 0, distanceDelta = %s, returning speed = 0\n"
       ]
      },
      {
       "output_type": "stream",
       "stream": "stderr",
       "text": [
        "DEBUG:root:timeDelta = 0, distanceDelta = %s, returning speed = 0\n"
       ]
      },
      {
       "output_type": "stream",
       "stream": "stderr",
       "text": [
        "DEBUG:root:timeDelta = 0, distanceDelta = %s, returning speed = 0\n"
       ]
      },
      {
       "output_type": "stream",
       "stream": "stderr",
       "text": [
        "DEBUG:root:timeDelta = 0, distanceDelta = %s, returning speed = 0\n"
       ]
      },
      {
       "output_type": "stream",
       "stream": "stderr",
       "text": [
        "DEBUG:root:timeDelta = 0, distanceDelta = %s, returning speed = 0\n"
       ]
      },
      {
       "output_type": "stream",
       "stream": "stderr",
       "text": [
        "DEBUG:root:timeDelta = 0, distanceDelta = %s, returning speed = 0\n"
       ]
      },
      {
       "output_type": "stream",
       "stream": "stderr",
       "text": [
        "DEBUG:root:timeDelta = 0, distanceDelta = %s, returning speed = 0\n"
       ]
      },
      {
       "output_type": "stream",
       "stream": "stderr",
       "text": [
        "DEBUG:root:timeDelta = 0, distanceDelta = %s, returning speed = 0\n"
       ]
      },
      {
       "output_type": "stream",
       "stream": "stderr",
       "text": [
        "DEBUG:root:timeDelta = 0, distanceDelta = %s, returning speed = 0\n"
       ]
      },
      {
       "output_type": "stream",
       "stream": "stderr",
       "text": [
        "DEBUG:root:timeDelta = 0, distanceDelta = %s, returning speed = 0\n"
       ]
      },
      {
       "output_type": "stream",
       "stream": "stderr",
       "text": [
        "DEBUG:root:timeDelta = 0, distanceDelta = %s, returning speed = 0\n"
       ]
      },
      {
       "output_type": "stream",
       "stream": "stderr",
       "text": [
        "DEBUG:root:timeDelta = 0, distanceDelta = %s, returning speed = 0\n"
       ]
      },
      {
       "output_type": "stream",
       "stream": "stderr",
       "text": [
        "DEBUG:root:timeDelta = 0, distanceDelta = %s, returning speed = 0\n"
       ]
      },
      {
       "output_type": "stream",
       "stream": "stderr",
       "text": [
        "DEBUG:root:timeDelta = 0, distanceDelta = %s, returning speed = 0\n"
       ]
      },
      {
       "output_type": "stream",
       "stream": "stderr",
       "text": [
        "DEBUG:root:timeDelta = 0, distanceDelta = %s, returning speed = 0\n"
       ]
      },
      {
       "output_type": "stream",
       "stream": "stderr",
       "text": [
        "DEBUG:root:timeDelta = 0, distanceDelta = %s, returning speed = 0\n"
       ]
      },
      {
       "output_type": "stream",
       "stream": "stderr",
       "text": [
        "DEBUG:root:timeDelta = 0, distanceDelta = %s, returning speed = 0\n"
       ]
      },
      {
       "output_type": "stream",
       "stream": "stderr",
       "text": [
        "DEBUG:root:timeDelta = 0, distanceDelta = %s, returning speed = 0\n"
       ]
      },
      {
       "output_type": "stream",
       "stream": "stderr",
       "text": [
        "DEBUG:root:timeDelta = 0, distanceDelta = %s, returning speed = 0\n"
       ]
      },
      {
       "output_type": "stream",
       "stream": "stderr",
       "text": [
        "DEBUG:root:timeDelta = 0, distanceDelta = %s, returning speed = 0\n"
       ]
      },
      {
       "output_type": "stream",
       "stream": "stderr",
       "text": [
        "DEBUG:root:timeDelta = 0, distanceDelta = %s, returning speed = 0\n"
       ]
      },
      {
       "output_type": "stream",
       "stream": "stderr",
       "text": [
        "DEBUG:root:timeDelta = 0, distanceDelta = %s, returning speed = 0\n"
       ]
      },
      {
       "output_type": "stream",
       "stream": "stderr",
       "text": [
        "DEBUG:root:timeDelta = 0, distanceDelta = %s, returning speed = 0\n"
       ]
      },
      {
       "output_type": "stream",
       "stream": "stderr",
       "text": [
        "DEBUG:root:timeDelta = 0, distanceDelta = %s, returning speed = 0\n"
       ]
      },
      {
       "output_type": "stream",
       "stream": "stderr",
       "text": [
        "DEBUG:root:timeDelta = 0, distanceDelta = %s, returning speed = 0\n"
       ]
      },
      {
       "output_type": "stream",
       "stream": "stderr",
       "text": [
        "DEBUG:root:timeDelta = 0, distanceDelta = %s, returning speed = 0\n"
       ]
      },
      {
       "output_type": "stream",
       "stream": "stderr",
       "text": [
        "DEBUG:root:timeDelta = 0, distanceDelta = %s, returning speed = 0\n"
       ]
      },
      {
       "output_type": "stream",
       "stream": "stderr",
       "text": [
        "DEBUG:root:timeDelta = 0, distanceDelta = %s, returning speed = 0\n"
       ]
      },
      {
       "output_type": "stream",
       "stream": "stderr",
       "text": [
        "DEBUG:root:timeDelta = 0, distanceDelta = %s, returning speed = 0\n"
       ]
      },
      {
       "output_type": "stream",
       "stream": "stderr",
       "text": [
        "DEBUG:root:timeDelta = 0, distanceDelta = %s, returning speed = 0\n"
       ]
      },
      {
       "output_type": "stream",
       "stream": "stderr",
       "text": [
        "DEBUG:root:timeDelta = 0, distanceDelta = %s, returning speed = 0\n"
       ]
      },
      {
       "output_type": "stream",
       "stream": "stderr",
       "text": [
        "DEBUG:root:timeDelta = 0, distanceDelta = %s, returning speed = 0\n"
       ]
      },
      {
       "output_type": "stream",
       "stream": "stderr",
       "text": [
        "DEBUG:root:timeDelta = 0, distanceDelta = %s, returning speed = 0\n"
       ]
      },
      {
       "output_type": "stream",
       "stream": "stderr",
       "text": [
        "DEBUG:root:timeDelta = 0, distanceDelta = %s, returning speed = 0\n"
       ]
      },
      {
       "output_type": "stream",
       "stream": "stderr",
       "text": [
        "DEBUG:root:timeDelta = 0, distanceDelta = %s, returning speed = 0\n"
       ]
      },
      {
       "output_type": "stream",
       "stream": "stderr",
       "text": [
        "DEBUG:root:timeDelta = 0, distanceDelta = %s, returning speed = 0\n"
       ]
      },
      {
       "output_type": "stream",
       "stream": "stderr",
       "text": [
        "DEBUG:root:timeDelta = 0, distanceDelta = %s, returning speed = 0\n"
       ]
      },
      {
       "output_type": "stream",
       "stream": "stderr",
       "text": [
        "DEBUG:root:timeDelta = 0, distanceDelta = %s, returning speed = 0\n"
       ]
      },
      {
       "output_type": "stream",
       "stream": "stderr",
       "text": [
        "DEBUG:root:timeDelta = 0, distanceDelta = %s, returning speed = 0\n"
       ]
      },
      {
       "output_type": "stream",
       "stream": "stderr",
       "text": [
        "DEBUG:root:timeDelta = 0, distanceDelta = %s, returning speed = 0\n"
       ]
      },
      {
       "output_type": "stream",
       "stream": "stderr",
       "text": [
        "DEBUG:root:timeDelta = 0, distanceDelta = %s, returning speed = 0\n"
       ]
      },
      {
       "output_type": "stream",
       "stream": "stderr",
       "text": [
        "DEBUG:root:timeDelta = 0, distanceDelta = %s, returning speed = 0\n"
       ]
      },
      {
       "output_type": "stream",
       "stream": "stderr",
       "text": [
        "DEBUG:root:timeDelta = 0, distanceDelta = %s, returning speed = 0\n"
       ]
      },
      {
       "output_type": "stream",
       "stream": "stderr",
       "text": [
        "DEBUG:root:timeDelta = 0, distanceDelta = %s, returning speed = 0\n"
       ]
      },
      {
       "output_type": "stream",
       "stream": "stderr",
       "text": [
        "DEBUG:root:timeDelta = 0, distanceDelta = %s, returning speed = 0\n"
       ]
      },
      {
       "output_type": "stream",
       "stream": "stderr",
       "text": [
        "DEBUG:root:timeDelta = 0, distanceDelta = %s, returning speed = 0\n"
       ]
      },
      {
       "output_type": "stream",
       "stream": "stderr",
       "text": [
        "DEBUG:root:timeDelta = 0, distanceDelta = %s, returning speed = 0\n"
       ]
      },
      {
       "output_type": "stream",
       "stream": "stderr",
       "text": [
        "DEBUG:root:timeDelta = 0, distanceDelta = %s, returning speed = 0\n"
       ]
      },
      {
       "output_type": "stream",
       "stream": "stderr",
       "text": [
        "DEBUG:root:timeDelta = 0, distanceDelta = %s, returning speed = 0\n"
       ]
      },
      {
       "output_type": "stream",
       "stream": "stderr",
       "text": [
        "DEBUG:root:timeDelta = 0, distanceDelta = %s, returning speed = 0\n"
       ]
      },
      {
       "output_type": "stream",
       "stream": "stderr",
       "text": [
        "DEBUG:root:timeDelta = 0, distanceDelta = %s, returning speed = 0\n"
       ]
      },
      {
       "output_type": "stream",
       "stream": "stderr",
       "text": [
        "DEBUG:root:timeDelta = 0, distanceDelta = %s, returning speed = 0\n"
       ]
      },
      {
       "output_type": "stream",
       "stream": "stderr",
       "text": [
        "DEBUG:root:timeDelta = 0, distanceDelta = %s, returning speed = 0\n"
       ]
      },
      {
       "output_type": "stream",
       "stream": "stderr",
       "text": [
        "DEBUG:root:timeDelta = 0, distanceDelta = %s, returning speed = 0\n"
       ]
      },
      {
       "output_type": "stream",
       "stream": "stderr",
       "text": [
        "DEBUG:root:timeDelta = 0, distanceDelta = %s, returning speed = 0\n"
       ]
      },
      {
       "output_type": "stream",
       "stream": "stderr",
       "text": [
        "DEBUG:root:timeDelta = 0, distanceDelta = %s, returning speed = 0\n"
       ]
      },
      {
       "output_type": "stream",
       "stream": "stderr",
       "text": [
        "DEBUG:root:timeDelta = 0, distanceDelta = %s, returning speed = 0\n"
       ]
      },
      {
       "output_type": "stream",
       "stream": "stderr",
       "text": [
        "DEBUG:root:timeDelta = 0, distanceDelta = %s, returning speed = 0\n"
       ]
      },
      {
       "output_type": "stream",
       "stream": "stderr",
       "text": [
        "DEBUG:root:timeDelta = 0, distanceDelta = %s, returning speed = 0\n"
       ]
      },
      {
       "output_type": "stream",
       "stream": "stderr",
       "text": [
        "DEBUG:root:timeDelta = 0, distanceDelta = %s, returning speed = 0\n"
       ]
      },
      {
       "output_type": "stream",
       "stream": "stderr",
       "text": [
        "DEBUG:root:timeDelta = 0, distanceDelta = %s, returning speed = 0\n"
       ]
      },
      {
       "output_type": "stream",
       "stream": "stderr",
       "text": [
        "DEBUG:root:timeDelta = 0, distanceDelta = %s, returning speed = 0\n"
       ]
      },
      {
       "output_type": "stream",
       "stream": "stderr",
       "text": [
        "DEBUG:root:timeDelta = 0, distanceDelta = %s, returning speed = 0\n"
       ]
      },
      {
       "output_type": "stream",
       "stream": "stderr",
       "text": [
        "DEBUG:root:timeDelta = 0, distanceDelta = %s, returning speed = 0\n"
       ]
      },
      {
       "output_type": "stream",
       "stream": "stderr",
       "text": [
        "DEBUG:root:timeDelta = 0, distanceDelta = %s, returning speed = 0\n"
       ]
      },
      {
       "output_type": "stream",
       "stream": "stderr",
       "text": [
        "DEBUG:root:timeDelta = 0, distanceDelta = %s, returning speed = 0\n"
       ]
      },
      {
       "output_type": "stream",
       "stream": "stderr",
       "text": [
        "DEBUG:root:timeDelta = 0, distanceDelta = %s, returning speed = 0\n"
       ]
      },
      {
       "output_type": "stream",
       "stream": "stderr",
       "text": [
        "DEBUG:root:timeDelta = 0, distanceDelta = %s, returning speed = 0\n"
       ]
      },
      {
       "output_type": "stream",
       "stream": "stderr",
       "text": [
        "DEBUG:root:timeDelta = 0, distanceDelta = %s, returning speed = 0\n"
       ]
      },
      {
       "output_type": "stream",
       "stream": "stderr",
       "text": [
        "DEBUG:root:timeDelta = 0, distanceDelta = %s, returning speed = 0\n"
       ]
      },
      {
       "output_type": "stream",
       "stream": "stderr",
       "text": [
        "DEBUG:root:timeDelta = 0, distanceDelta = %s, returning speed = 0\n"
       ]
      },
      {
       "output_type": "stream",
       "stream": "stderr",
       "text": [
        "DEBUG:root:timeDelta = 0, distanceDelta = %s, returning speed = 0\n"
       ]
      },
      {
       "output_type": "stream",
       "stream": "stderr",
       "text": [
        "DEBUG:root:timeDelta = 0, distanceDelta = %s, returning speed = 0\n"
       ]
      },
      {
       "output_type": "stream",
       "stream": "stderr",
       "text": [
        "DEBUG:root:timeDelta = 0, distanceDelta = %s, returning speed = 0\n"
       ]
      },
      {
       "output_type": "stream",
       "stream": "stderr",
       "text": [
        "DEBUG:root:timeDelta = 0, distanceDelta = %s, returning speed = 0\n"
       ]
      },
      {
       "output_type": "stream",
       "stream": "stderr",
       "text": [
        "DEBUG:root:timeDelta = 0, distanceDelta = %s, returning speed = 0\n"
       ]
      },
      {
       "output_type": "stream",
       "stream": "stderr",
       "text": [
        "DEBUG:root:timeDelta = 0, distanceDelta = %s, returning speed = 0\n"
       ]
      },
      {
       "output_type": "stream",
       "stream": "stderr",
       "text": [
        "DEBUG:root:timeDelta = 0, distanceDelta = %s, returning speed = 0\n"
       ]
      },
      {
       "output_type": "stream",
       "stream": "stderr",
       "text": [
        "DEBUG:root:timeDelta = 0, distanceDelta = %s, returning speed = 0\n"
       ]
      },
      {
       "output_type": "stream",
       "stream": "stderr",
       "text": [
        "DEBUG:root:timeDelta = 0, distanceDelta = %s, returning speed = 0\n"
       ]
      },
      {
       "output_type": "stream",
       "stream": "stderr",
       "text": [
        "DEBUG:root:timeDelta = 0, distanceDelta = %s, returning speed = 0\n"
       ]
      },
      {
       "output_type": "stream",
       "stream": "stderr",
       "text": [
        "DEBUG:root:timeDelta = 0, distanceDelta = %s, returning speed = 0\n"
       ]
      },
      {
       "output_type": "stream",
       "stream": "stderr",
       "text": [
        "DEBUG:root:timeDelta = 0, distanceDelta = %s, returning speed = 0\n"
       ]
      },
      {
       "output_type": "stream",
       "stream": "stderr",
       "text": [
        "DEBUG:root:timeDelta = 0, distanceDelta = %s, returning speed = 0\n"
       ]
      },
      {
       "output_type": "stream",
       "stream": "stderr",
       "text": [
        "DEBUG:root:timeDelta = 0, distanceDelta = %s, returning speed = 0\n"
       ]
      },
      {
       "output_type": "stream",
       "stream": "stderr",
       "text": [
        "DEBUG:root:timeDelta = 0, distanceDelta = %s, returning speed = 0\n"
       ]
      },
      {
       "output_type": "stream",
       "stream": "stderr",
       "text": [
        "DEBUG:root:timeDelta = 0, distanceDelta = %s, returning speed = 0\n"
       ]
      },
      {
       "output_type": "stream",
       "stream": "stderr",
       "text": [
        "DEBUG:root:timeDelta = 0, distanceDelta = %s, returning speed = 0\n"
       ]
      },
      {
       "output_type": "stream",
       "stream": "stderr",
       "text": [
        "DEBUG:root:timeDelta = 0, distanceDelta = %s, returning speed = 0\n"
       ]
      },
      {
       "output_type": "stream",
       "stream": "stderr",
       "text": [
        "DEBUG:root:timeDelta = 0, distanceDelta = %s, returning speed = 0\n"
       ]
      },
      {
       "output_type": "stream",
       "stream": "stderr",
       "text": [
        "DEBUG:root:timeDelta = 0, distanceDelta = %s, returning speed = 0\n"
       ]
      },
      {
       "output_type": "stream",
       "stream": "stderr",
       "text": [
        "DEBUG:root:timeDelta = 0, distanceDelta = %s, returning speed = 0\n"
       ]
      },
      {
       "output_type": "stream",
       "stream": "stderr",
       "text": [
        "DEBUG:root:timeDelta = 0, distanceDelta = %s, returning speed = 0\n"
       ]
      },
      {
       "output_type": "stream",
       "stream": "stderr",
       "text": [
        "DEBUG:root:timeDelta = 0, distanceDelta = %s, returning speed = 0\n"
       ]
      },
      {
       "output_type": "stream",
       "stream": "stderr",
       "text": [
        "DEBUG:root:timeDelta = 0, distanceDelta = %s, returning speed = 0\n"
       ]
      },
      {
       "output_type": "stream",
       "stream": "stderr",
       "text": [
        "DEBUG:root:timeDelta = 0, distanceDelta = %s, returning speed = 0\n"
       ]
      },
      {
       "output_type": "stream",
       "stream": "stderr",
       "text": [
        "DEBUG:root:timeDelta = 0, distanceDelta = %s, returning speed = 0\n"
       ]
      },
      {
       "output_type": "stream",
       "stream": "stderr",
       "text": [
        "DEBUG:root:timeDelta = 0, distanceDelta = %s, returning speed = 0\n"
       ]
      },
      {
       "output_type": "stream",
       "stream": "stderr",
       "text": [
        "DEBUG:root:timeDelta = 0, distanceDelta = %s, returning speed = 0\n"
       ]
      },
      {
       "output_type": "stream",
       "stream": "stderr",
       "text": [
        "DEBUG:root:timeDelta = 0, distanceDelta = %s, returning speed = 0\n"
       ]
      },
      {
       "output_type": "stream",
       "stream": "stderr",
       "text": [
        "DEBUG:root:timeDelta = 0, distanceDelta = %s, returning speed = 0\n"
       ]
      },
      {
       "output_type": "stream",
       "stream": "stderr",
       "text": [
        "DEBUG:root:timeDelta = 0, distanceDelta = %s, returning speed = 0\n"
       ]
      },
      {
       "output_type": "stream",
       "stream": "stderr",
       "text": [
        "DEBUG:root:timeDelta = 0, distanceDelta = %s, returning speed = 0\n"
       ]
      },
      {
       "output_type": "stream",
       "stream": "stderr",
       "text": [
        "DEBUG:root:timeDelta = 0, distanceDelta = %s, returning speed = 0\n"
       ]
      },
      {
       "output_type": "stream",
       "stream": "stderr",
       "text": [
        "DEBUG:root:timeDelta = 0, distanceDelta = %s, returning speed = 0\n"
       ]
      },
      {
       "output_type": "stream",
       "stream": "stderr",
       "text": [
        "DEBUG:root:timeDelta = 0, distanceDelta = %s, returning speed = 0\n"
       ]
      },
      {
       "output_type": "stream",
       "stream": "stderr",
       "text": [
        "DEBUG:root:timeDelta = 0, distanceDelta = %s, returning speed = 0\n"
       ]
      },
      {
       "output_type": "stream",
       "stream": "stderr",
       "text": [
        "DEBUG:root:timeDelta = 0, distanceDelta = %s, returning speed = 0\n"
       ]
      },
      {
       "output_type": "stream",
       "stream": "stderr",
       "text": [
        "DEBUG:root:timeDelta = 0, distanceDelta = %s, returning speed = 0\n"
       ]
      },
      {
       "output_type": "stream",
       "stream": "stderr",
       "text": [
        "DEBUG:root:timeDelta = 0, distanceDelta = %s, returning speed = 0\n"
       ]
      },
      {
       "output_type": "stream",
       "stream": "stderr",
       "text": [
        "DEBUG:root:timeDelta = 0, distanceDelta = %s, returning speed = 0\n"
       ]
      },
      {
       "output_type": "stream",
       "stream": "stderr",
       "text": [
        "DEBUG:root:timeDelta = 0, distanceDelta = %s, returning speed = 0\n"
       ]
      },
      {
       "output_type": "stream",
       "stream": "stderr",
       "text": [
        "DEBUG:root:timeDelta = 0, distanceDelta = %s, returning speed = 0\n"
       ]
      },
      {
       "output_type": "stream",
       "stream": "stderr",
       "text": [
        "DEBUG:root:timeDelta = 0, distanceDelta = %s, returning speed = 0\n"
       ]
      },
      {
       "output_type": "stream",
       "stream": "stderr",
       "text": [
        "DEBUG:root:timeDelta = 0, distanceDelta = %s, returning speed = 0\n"
       ]
      },
      {
       "output_type": "stream",
       "stream": "stderr",
       "text": [
        "DEBUG:root:timeDelta = 0, distanceDelta = %s, returning speed = 0\n"
       ]
      },
      {
       "output_type": "stream",
       "stream": "stderr",
       "text": [
        "DEBUG:root:timeDelta = 0, distanceDelta = %s, returning speed = 0\n"
       ]
      },
      {
       "output_type": "stream",
       "stream": "stderr",
       "text": [
        "DEBUG:root:timeDelta = 0, distanceDelta = %s, returning speed = 0\n"
       ]
      },
      {
       "output_type": "stream",
       "stream": "stderr",
       "text": [
        "DEBUG:root:timeDelta = 0, distanceDelta = %s, returning speed = 0\n"
       ]
      },
      {
       "output_type": "stream",
       "stream": "stderr",
       "text": [
        "DEBUG:root:timeDelta = 0, distanceDelta = %s, returning speed = 0\n"
       ]
      },
      {
       "output_type": "stream",
       "stream": "stderr",
       "text": [
        "DEBUG:root:timeDelta = 0, distanceDelta = %s, returning speed = 0\n"
       ]
      },
      {
       "output_type": "stream",
       "stream": "stderr",
       "text": [
        "DEBUG:root:timeDelta = 0, distanceDelta = %s, returning speed = 0\n"
       ]
      },
      {
       "output_type": "stream",
       "stream": "stderr",
       "text": [
        "DEBUG:root:timeDelta = 0, distanceDelta = %s, returning speed = 0\n"
       ]
      },
      {
       "output_type": "stream",
       "stream": "stderr",
       "text": [
        "DEBUG:root:timeDelta = 0, distanceDelta = %s, returning speed = 0\n"
       ]
      },
      {
       "output_type": "stream",
       "stream": "stderr",
       "text": [
        "DEBUG:root:timeDelta = 0, distanceDelta = %s, returning speed = 0\n"
       ]
      },
      {
       "output_type": "stream",
       "stream": "stderr",
       "text": [
        "DEBUG:root:timeDelta = 0, distanceDelta = %s, returning speed = 0\n"
       ]
      },
      {
       "output_type": "stream",
       "stream": "stderr",
       "text": [
        "DEBUG:root:timeDelta = 0, distanceDelta = %s, returning speed = 0\n"
       ]
      },
      {
       "output_type": "stream",
       "stream": "stderr",
       "text": [
        "DEBUG:root:timeDelta = 0, distanceDelta = %s, returning speed = 0\n"
       ]
      },
      {
       "output_type": "stream",
       "stream": "stderr",
       "text": [
        "DEBUG:root:timeDelta = 0, distanceDelta = %s, returning speed = 0\n"
       ]
      },
      {
       "output_type": "stream",
       "stream": "stderr",
       "text": [
        "DEBUG:root:timeDelta = 0, distanceDelta = %s, returning speed = 0\n"
       ]
      },
      {
       "output_type": "stream",
       "stream": "stderr",
       "text": [
        "DEBUG:root:timeDelta = 0, distanceDelta = %s, returning speed = 0\n"
       ]
      },
      {
       "output_type": "stream",
       "stream": "stderr",
       "text": [
        "DEBUG:root:timeDelta = 0, distanceDelta = %s, returning speed = 0\n"
       ]
      },
      {
       "output_type": "stream",
       "stream": "stderr",
       "text": [
        "DEBUG:root:timeDelta = 0, distanceDelta = %s, returning speed = 0\n"
       ]
      },
      {
       "output_type": "stream",
       "stream": "stderr",
       "text": [
        "DEBUG:root:timeDelta = 0, distanceDelta = %s, returning speed = 0\n"
       ]
      },
      {
       "output_type": "stream",
       "stream": "stderr",
       "text": [
        "DEBUG:root:timeDelta = 0, distanceDelta = %s, returning speed = 0\n"
       ]
      },
      {
       "output_type": "stream",
       "stream": "stderr",
       "text": [
        "DEBUG:root:timeDelta = 0, distanceDelta = %s, returning speed = 0\n"
       ]
      },
      {
       "output_type": "stream",
       "stream": "stderr",
       "text": [
        "DEBUG:root:timeDelta = 0, distanceDelta = %s, returning speed = 0\n"
       ]
      },
      {
       "output_type": "stream",
       "stream": "stderr",
       "text": [
        "DEBUG:root:timeDelta = 0, distanceDelta = %s, returning speed = 0\n"
       ]
      },
      {
       "output_type": "stream",
       "stream": "stderr",
       "text": [
        "DEBUG:root:timeDelta = 0, distanceDelta = %s, returning speed = 0\n"
       ]
      },
      {
       "output_type": "stream",
       "stream": "stderr",
       "text": [
        "DEBUG:root:timeDelta = 0, distanceDelta = %s, returning speed = 0\n"
       ]
      },
      {
       "output_type": "stream",
       "stream": "stderr",
       "text": [
        "DEBUG:root:timeDelta = 0, distanceDelta = %s, returning speed = 0\n"
       ]
      },
      {
       "output_type": "stream",
       "stream": "stderr",
       "text": [
        "DEBUG:root:timeDelta = 0, distanceDelta = %s, returning speed = 0\n"
       ]
      },
      {
       "output_type": "stream",
       "stream": "stderr",
       "text": [
        "DEBUG:root:timeDelta = 0, distanceDelta = %s, returning speed = 0\n"
       ]
      },
      {
       "output_type": "stream",
       "stream": "stderr",
       "text": [
        "DEBUG:root:timeDelta = 0, distanceDelta = %s, returning speed = 0\n"
       ]
      },
      {
       "output_type": "stream",
       "stream": "stderr",
       "text": [
        "DEBUG:root:timeDelta = 0, distanceDelta = %s, returning speed = 0\n"
       ]
      },
      {
       "output_type": "stream",
       "stream": "stderr",
       "text": [
        "DEBUG:root:timeDelta = 0, distanceDelta = %s, returning speed = 0\n"
       ]
      },
      {
       "output_type": "stream",
       "stream": "stderr",
       "text": [
        "DEBUG:root:timeDelta = 0, distanceDelta = %s, returning speed = 0\n"
       ]
      },
      {
       "output_type": "stream",
       "stream": "stderr",
       "text": [
        "DEBUG:root:timeDelta = 0, distanceDelta = %s, returning speed = 0\n"
       ]
      },
      {
       "output_type": "stream",
       "stream": "stderr",
       "text": [
        "DEBUG:root:timeDelta = 0, distanceDelta = %s, returning speed = 0\n"
       ]
      },
      {
       "output_type": "stream",
       "stream": "stderr",
       "text": [
        "DEBUG:root:timeDelta = 0, distanceDelta = %s, returning speed = 0\n"
       ]
      },
      {
       "output_type": "stream",
       "stream": "stderr",
       "text": [
        "DEBUG:root:timeDelta = 0, distanceDelta = %s, returning speed = 0\n"
       ]
      },
      {
       "output_type": "stream",
       "stream": "stderr",
       "text": [
        "DEBUG:root:timeDelta = 0, distanceDelta = %s, returning speed = 0\n"
       ]
      },
      {
       "output_type": "stream",
       "stream": "stderr",
       "text": [
        "DEBUG:root:timeDelta = 0, distanceDelta = %s, returning speed = 0\n"
       ]
      },
      {
       "output_type": "stream",
       "stream": "stderr",
       "text": [
        "DEBUG:root:timeDelta = 0, distanceDelta = %s, returning speed = 0\n"
       ]
      },
      {
       "output_type": "stream",
       "stream": "stderr",
       "text": [
        "DEBUG:root:timeDelta = 0, distanceDelta = %s, returning speed = 0\n"
       ]
      },
      {
       "output_type": "stream",
       "stream": "stderr",
       "text": [
        "DEBUG:root:timeDelta = 0, distanceDelta = %s, returning speed = 0\n"
       ]
      },
      {
       "output_type": "stream",
       "stream": "stderr",
       "text": [
        "DEBUG:root:timeDelta = 0, distanceDelta = %s, returning speed = 0\n"
       ]
      },
      {
       "output_type": "stream",
       "stream": "stderr",
       "text": [
        "DEBUG:root:timeDelta = 0, distanceDelta = %s, returning speed = 0\n"
       ]
      },
      {
       "output_type": "stream",
       "stream": "stderr",
       "text": [
        "DEBUG:root:timeDelta = 0, distanceDelta = %s, returning speed = 0\n"
       ]
      },
      {
       "output_type": "stream",
       "stream": "stderr",
       "text": [
        "DEBUG:root:timeDelta = 0, distanceDelta = %s, returning speed = 0\n"
       ]
      },
      {
       "output_type": "stream",
       "stream": "stderr",
       "text": [
        "DEBUG:root:timeDelta = 0, distanceDelta = %s, returning speed = 0\n"
       ]
      },
      {
       "output_type": "stream",
       "stream": "stderr",
       "text": [
        "DEBUG:root:timeDelta = 0, distanceDelta = %s, returning speed = 0\n"
       ]
      },
      {
       "output_type": "stream",
       "stream": "stderr",
       "text": [
        "DEBUG:root:timeDelta = 0, distanceDelta = %s, returning speed = 0\n"
       ]
      },
      {
       "output_type": "stream",
       "stream": "stderr",
       "text": [
        "DEBUG:root:timeDelta = 0, distanceDelta = %s, returning speed = 0\n"
       ]
      },
      {
       "output_type": "stream",
       "stream": "stderr",
       "text": [
        "DEBUG:root:timeDelta = 0, distanceDelta = %s, returning speed = 0\n"
       ]
      },
      {
       "output_type": "stream",
       "stream": "stderr",
       "text": [
        "DEBUG:root:timeDelta = 0, distanceDelta = %s, returning speed = 0\n"
       ]
      },
      {
       "output_type": "stream",
       "stream": "stderr",
       "text": [
        "DEBUG:root:timeDelta = 0, distanceDelta = %s, returning speed = 0\n"
       ]
      },
      {
       "output_type": "stream",
       "stream": "stderr",
       "text": [
        "DEBUG:root:timeDelta = 0, distanceDelta = %s, returning speed = 0\n"
       ]
      },
      {
       "output_type": "stream",
       "stream": "stderr",
       "text": [
        "DEBUG:root:timeDelta = 0, distanceDelta = %s, returning speed = 0\n"
       ]
      },
      {
       "output_type": "stream",
       "stream": "stderr",
       "text": [
        "DEBUG:root:timeDelta = 0, distanceDelta = %s, returning speed = 0\n"
       ]
      },
      {
       "output_type": "stream",
       "stream": "stderr",
       "text": [
        "DEBUG:root:timeDelta = 0, distanceDelta = %s, returning speed = 0\n"
       ]
      },
      {
       "output_type": "stream",
       "stream": "stderr",
       "text": [
        "DEBUG:root:timeDelta = 0, distanceDelta = %s, returning speed = 0\n"
       ]
      },
      {
       "output_type": "stream",
       "stream": "stderr",
       "text": [
        "DEBUG:root:timeDelta = 0, distanceDelta = %s, returning speed = 0\n"
       ]
      },
      {
       "output_type": "stream",
       "stream": "stderr",
       "text": [
        "DEBUG:root:timeDelta = 0, distanceDelta = %s, returning speed = 0\n"
       ]
      },
      {
       "output_type": "stream",
       "stream": "stderr",
       "text": [
        "DEBUG:root:timeDelta = 0, distanceDelta = %s, returning speed = 0\n"
       ]
      },
      {
       "output_type": "stream",
       "stream": "stderr",
       "text": [
        "DEBUG:root:timeDelta = 0, distanceDelta = %s, returning speed = 0\n"
       ]
      },
      {
       "output_type": "stream",
       "stream": "stderr",
       "text": [
        "DEBUG:root:timeDelta = 0, distanceDelta = %s, returning speed = 0\n"
       ]
      },
      {
       "output_type": "stream",
       "stream": "stderr",
       "text": [
        "DEBUG:root:timeDelta = 0, distanceDelta = %s, returning speed = 0\n"
       ]
      },
      {
       "output_type": "stream",
       "stream": "stderr",
       "text": [
        "DEBUG:root:timeDelta = 0, distanceDelta = %s, returning speed = 0\n"
       ]
      },
      {
       "output_type": "stream",
       "stream": "stderr",
       "text": [
        "DEBUG:root:timeDelta = 0, distanceDelta = %s, returning speed = 0\n"
       ]
      },
      {
       "output_type": "stream",
       "stream": "stderr",
       "text": [
        "DEBUG:root:timeDelta = 0, distanceDelta = %s, returning speed = 0\n"
       ]
      },
      {
       "output_type": "stream",
       "stream": "stderr",
       "text": [
        "DEBUG:root:timeDelta = 0, distanceDelta = %s, returning speed = 0\n"
       ]
      },
      {
       "output_type": "stream",
       "stream": "stderr",
       "text": [
        "DEBUG:root:timeDelta = 0, distanceDelta = %s, returning speed = 0\n"
       ]
      },
      {
       "output_type": "stream",
       "stream": "stderr",
       "text": [
        "DEBUG:root:timeDelta = 0, distanceDelta = %s, returning speed = 0\n"
       ]
      },
      {
       "output_type": "stream",
       "stream": "stderr",
       "text": [
        "DEBUG:root:timeDelta = 0, distanceDelta = %s, returning speed = 0\n"
       ]
      },
      {
       "output_type": "stream",
       "stream": "stderr",
       "text": [
        "DEBUG:root:timeDelta = 0, distanceDelta = %s, returning speed = 0\n"
       ]
      },
      {
       "output_type": "stream",
       "stream": "stderr",
       "text": [
        "DEBUG:root:timeDelta = 0, distanceDelta = %s, returning speed = 0\n"
       ]
      },
      {
       "output_type": "stream",
       "stream": "stderr",
       "text": [
        "DEBUG:root:timeDelta = 0, distanceDelta = %s, returning speed = 0\n"
       ]
      },
      {
       "output_type": "stream",
       "stream": "stderr",
       "text": [
        "DEBUG:root:timeDelta = 0, distanceDelta = %s, returning speed = 0\n"
       ]
      },
      {
       "output_type": "stream",
       "stream": "stderr",
       "text": [
        "DEBUG:root:timeDelta = 0, distanceDelta = %s, returning speed = 0\n"
       ]
      },
      {
       "output_type": "stream",
       "stream": "stderr",
       "text": [
        "DEBUG:root:timeDelta = 0, distanceDelta = %s, returning speed = 0\n"
       ]
      },
      {
       "output_type": "stream",
       "stream": "stderr",
       "text": [
        "DEBUG:root:timeDelta = 0, distanceDelta = %s, returning speed = 0\n"
       ]
      },
      {
       "output_type": "stream",
       "stream": "stderr",
       "text": [
        "DEBUG:root:timeDelta = 0, distanceDelta = %s, returning speed = 0\n"
       ]
      },
      {
       "output_type": "stream",
       "stream": "stderr",
       "text": [
        "DEBUG:root:timeDelta = 0, distanceDelta = %s, returning speed = 0\n"
       ]
      },
      {
       "output_type": "stream",
       "stream": "stderr",
       "text": [
        "DEBUG:root:timeDelta = 0, distanceDelta = %s, returning speed = 0\n"
       ]
      },
      {
       "output_type": "stream",
       "stream": "stderr",
       "text": [
        "DEBUG:root:timeDelta = 0, distanceDelta = %s, returning speed = 0\n"
       ]
      },
      {
       "output_type": "stream",
       "stream": "stderr",
       "text": [
        "DEBUG:root:timeDelta = 0, distanceDelta = %s, returning speed = 0\n"
       ]
      },
      {
       "output_type": "stream",
       "stream": "stderr",
       "text": [
        "DEBUG:root:timeDelta = 0, distanceDelta = %s, returning speed = 0\n"
       ]
      },
      {
       "output_type": "stream",
       "stream": "stderr",
       "text": [
        "DEBUG:root:timeDelta = 0, distanceDelta = %s, returning speed = 0\n"
       ]
      },
      {
       "output_type": "stream",
       "stream": "stderr",
       "text": [
        "DEBUG:root:timeDelta = 0, distanceDelta = %s, returning speed = 0\n"
       ]
      },
      {
       "output_type": "stream",
       "stream": "stderr",
       "text": [
        "DEBUG:root:timeDelta = 0, distanceDelta = %s, returning speed = 0\n"
       ]
      },
      {
       "output_type": "stream",
       "stream": "stderr",
       "text": [
        "DEBUG:root:timeDelta = 0, distanceDelta = %s, returning speed = 0\n"
       ]
      },
      {
       "output_type": "stream",
       "stream": "stderr",
       "text": [
        "DEBUG:root:timeDelta = 0, distanceDelta = %s, returning speed = 0\n"
       ]
      },
      {
       "output_type": "stream",
       "stream": "stderr",
       "text": [
        "DEBUG:root:timeDelta = 0, distanceDelta = %s, returning speed = 0\n"
       ]
      },
      {
       "output_type": "stream",
       "stream": "stderr",
       "text": [
        "DEBUG:root:timeDelta = 0, distanceDelta = %s, returning speed = 0\n"
       ]
      },
      {
       "output_type": "stream",
       "stream": "stderr",
       "text": [
        "DEBUG:root:timeDelta = 0, distanceDelta = %s, returning speed = 0\n"
       ]
      },
      {
       "output_type": "stream",
       "stream": "stderr",
       "text": [
        "DEBUG:root:timeDelta = 0, distanceDelta = %s, returning speed = 0\n"
       ]
      },
      {
       "output_type": "stream",
       "stream": "stderr",
       "text": [
        "DEBUG:root:timeDelta = 0, distanceDelta = %s, returning speed = 0\n"
       ]
      },
      {
       "output_type": "stream",
       "stream": "stderr",
       "text": [
        "DEBUG:root:timeDelta = 0, distanceDelta = %s, returning speed = 0\n"
       ]
      },
      {
       "output_type": "stream",
       "stream": "stderr",
       "text": [
        "DEBUG:root:timeDelta = 0, distanceDelta = %s, returning speed = 0\n"
       ]
      },
      {
       "output_type": "stream",
       "stream": "stderr",
       "text": [
        "DEBUG:root:timeDelta = 0, distanceDelta = %s, returning speed = 0\n"
       ]
      },
      {
       "output_type": "stream",
       "stream": "stderr",
       "text": [
        "DEBUG:root:timeDelta = 0, distanceDelta = %s, returning speed = 0\n"
       ]
      },
      {
       "output_type": "stream",
       "stream": "stderr",
       "text": [
        "DEBUG:root:timeDelta = 0, distanceDelta = %s, returning speed = 0\n"
       ]
      },
      {
       "output_type": "stream",
       "stream": "stderr",
       "text": [
        "DEBUG:root:timeDelta = 0, distanceDelta = %s, returning speed = 0\n"
       ]
      },
      {
       "output_type": "stream",
       "stream": "stderr",
       "text": [
        "DEBUG:root:timeDelta = 0, distanceDelta = %s, returning speed = 0\n"
       ]
      },
      {
       "output_type": "stream",
       "stream": "stderr",
       "text": [
        "DEBUG:root:timeDelta = 0, distanceDelta = %s, returning speed = 0\n"
       ]
      },
      {
       "output_type": "stream",
       "stream": "stderr",
       "text": [
        "DEBUG:root:timeDelta = 0, distanceDelta = %s, returning speed = 0\n"
       ]
      },
      {
       "output_type": "stream",
       "stream": "stderr",
       "text": [
        "DEBUG:root:timeDelta = 0, distanceDelta = %s, returning speed = 0\n"
       ]
      },
      {
       "output_type": "stream",
       "stream": "stderr",
       "text": [
        "DEBUG:root:timeDelta = 0, distanceDelta = %s, returning speed = 0\n"
       ]
      },
      {
       "output_type": "stream",
       "stream": "stderr",
       "text": [
        "DEBUG:root:timeDelta = 0, distanceDelta = %s, returning speed = 0\n"
       ]
      },
      {
       "output_type": "stream",
       "stream": "stderr",
       "text": [
        "DEBUG:root:timeDelta = 0, distanceDelta = %s, returning speed = 0\n"
       ]
      },
      {
       "output_type": "stream",
       "stream": "stderr",
       "text": [
        "DEBUG:root:timeDelta = 0, distanceDelta = %s, returning speed = 0\n"
       ]
      },
      {
       "output_type": "stream",
       "stream": "stderr",
       "text": [
        "DEBUG:root:timeDelta = 0, distanceDelta = %s, returning speed = 0\n"
       ]
      },
      {
       "output_type": "stream",
       "stream": "stderr",
       "text": [
        "DEBUG:root:timeDelta = 0, distanceDelta = %s, returning speed = 0\n"
       ]
      },
      {
       "output_type": "stream",
       "stream": "stderr",
       "text": [
        "DEBUG:root:timeDelta = 0, distanceDelta = %s, returning speed = 0\n"
       ]
      },
      {
       "output_type": "stream",
       "stream": "stderr",
       "text": [
        "DEBUG:root:timeDelta = 0, distanceDelta = %s, returning speed = 0\n"
       ]
      },
      {
       "output_type": "stream",
       "stream": "stderr",
       "text": [
        "DEBUG:root:timeDelta = 0, distanceDelta = %s, returning speed = 0\n"
       ]
      },
      {
       "output_type": "stream",
       "stream": "stderr",
       "text": [
        "DEBUG:root:timeDelta = 0, distanceDelta = %s, returning speed = 0\n"
       ]
      },
      {
       "output_type": "stream",
       "stream": "stderr",
       "text": [
        "DEBUG:root:timeDelta = 0, distanceDelta = %s, returning speed = 0\n"
       ]
      },
      {
       "output_type": "stream",
       "stream": "stderr",
       "text": [
        "DEBUG:root:timeDelta = 0, distanceDelta = %s, returning speed = 0\n"
       ]
      },
      {
       "output_type": "stream",
       "stream": "stderr",
       "text": [
        "DEBUG:root:timeDelta = 0, distanceDelta = %s, returning speed = 0\n"
       ]
      },
      {
       "output_type": "stream",
       "stream": "stderr",
       "text": [
        "DEBUG:root:timeDelta = 0, distanceDelta = %s, returning speed = 0\n"
       ]
      },
      {
       "output_type": "stream",
       "stream": "stderr",
       "text": [
        "DEBUG:root:timeDelta = 0, distanceDelta = %s, returning speed = 0\n"
       ]
      },
      {
       "output_type": "stream",
       "stream": "stderr",
       "text": [
        "DEBUG:root:timeDelta = 0, distanceDelta = %s, returning speed = 0\n"
       ]
      },
      {
       "output_type": "stream",
       "stream": "stderr",
       "text": [
        "DEBUG:root:timeDelta = 0, distanceDelta = %s, returning speed = 0\n"
       ]
      },
      {
       "output_type": "stream",
       "stream": "stderr",
       "text": [
        "DEBUG:root:timeDelta = 0, distanceDelta = %s, returning speed = 0\n"
       ]
      },
      {
       "output_type": "stream",
       "stream": "stderr",
       "text": [
        "DEBUG:root:timeDelta = 0, distanceDelta = %s, returning speed = 0\n"
       ]
      },
      {
       "output_type": "stream",
       "stream": "stderr",
       "text": [
        "DEBUG:root:timeDelta = 0, distanceDelta = %s, returning speed = 0\n"
       ]
      },
      {
       "output_type": "stream",
       "stream": "stderr",
       "text": [
        "DEBUG:root:timeDelta = 0, distanceDelta = %s, returning speed = 0\n"
       ]
      },
      {
       "output_type": "stream",
       "stream": "stderr",
       "text": [
        "DEBUG:root:timeDelta = 0, distanceDelta = %s, returning speed = 0\n"
       ]
      },
      {
       "output_type": "stream",
       "stream": "stderr",
       "text": [
        "DEBUG:root:timeDelta = 0, distanceDelta = %s, returning speed = 0\n"
       ]
      },
      {
       "output_type": "stream",
       "stream": "stderr",
       "text": [
        "DEBUG:root:timeDelta = 0, distanceDelta = %s, returning speed = 0\n"
       ]
      },
      {
       "output_type": "stream",
       "stream": "stderr",
       "text": [
        "DEBUG:root:timeDelta = 0, distanceDelta = %s, returning speed = 0\n"
       ]
      },
      {
       "output_type": "stream",
       "stream": "stderr",
       "text": [
        "DEBUG:root:timeDelta = 0, distanceDelta = %s, returning speed = 0\n"
       ]
      },
      {
       "output_type": "stream",
       "stream": "stderr",
       "text": [
        "DEBUG:root:timeDelta = 0, distanceDelta = %s, returning speed = 0\n"
       ]
      },
      {
       "output_type": "stream",
       "stream": "stderr",
       "text": [
        "DEBUG:root:timeDelta = 0, distanceDelta = %s, returning speed = 0\n"
       ]
      },
      {
       "output_type": "stream",
       "stream": "stderr",
       "text": [
        "DEBUG:root:timeDelta = 0, distanceDelta = %s, returning speed = 0\n"
       ]
      },
      {
       "output_type": "stream",
       "stream": "stderr",
       "text": [
        "DEBUG:root:timeDelta = 0, distanceDelta = %s, returning speed = 0\n"
       ]
      },
      {
       "output_type": "stream",
       "stream": "stderr",
       "text": [
        "DEBUG:root:timeDelta = 0, distanceDelta = %s, returning speed = 0\n"
       ]
      },
      {
       "output_type": "stream",
       "stream": "stderr",
       "text": [
        "DEBUG:root:timeDelta = 0, distanceDelta = %s, returning speed = 0\n"
       ]
      },
      {
       "output_type": "stream",
       "stream": "stderr",
       "text": [
        "DEBUG:root:timeDelta = 0, distanceDelta = %s, returning speed = 0\n"
       ]
      },
      {
       "output_type": "stream",
       "stream": "stderr",
       "text": [
        "DEBUG:root:timeDelta = 0, distanceDelta = %s, returning speed = 0\n"
       ]
      },
      {
       "output_type": "stream",
       "stream": "stderr",
       "text": [
        "DEBUG:root:timeDelta = 0, distanceDelta = %s, returning speed = 0\n"
       ]
      },
      {
       "output_type": "stream",
       "stream": "stderr",
       "text": [
        "DEBUG:root:timeDelta = 0, distanceDelta = %s, returning speed = 0\n"
       ]
      },
      {
       "output_type": "stream",
       "stream": "stderr",
       "text": [
        "DEBUG:root:timeDelta = 0, distanceDelta = %s, returning speed = 0\n"
       ]
      },
      {
       "output_type": "stream",
       "stream": "stderr",
       "text": [
        "DEBUG:root:timeDelta = 0, distanceDelta = %s, returning speed = 0\n"
       ]
      },
      {
       "output_type": "stream",
       "stream": "stderr",
       "text": [
        "DEBUG:root:timeDelta = 0, distanceDelta = %s, returning speed = 0\n"
       ]
      },
      {
       "output_type": "stream",
       "stream": "stderr",
       "text": [
        "DEBUG:root:timeDelta = 0, distanceDelta = %s, returning speed = 0\n"
       ]
      },
      {
       "output_type": "stream",
       "stream": "stderr",
       "text": [
        "DEBUG:root:timeDelta = 0, distanceDelta = %s, returning speed = 0\n"
       ]
      },
      {
       "output_type": "stream",
       "stream": "stderr",
       "text": [
        "DEBUG:root:timeDelta = 0, distanceDelta = %s, returning speed = 0\n"
       ]
      },
      {
       "output_type": "stream",
       "stream": "stderr",
       "text": [
        "DEBUG:root:timeDelta = 0, distanceDelta = %s, returning speed = 0\n"
       ]
      },
      {
       "output_type": "stream",
       "stream": "stderr",
       "text": [
        "DEBUG:root:timeDelta = 0, distanceDelta = %s, returning speed = 0\n"
       ]
      },
      {
       "output_type": "stream",
       "stream": "stderr",
       "text": [
        "DEBUG:root:timeDelta = 0, distanceDelta = %s, returning speed = 0\n"
       ]
      },
      {
       "output_type": "stream",
       "stream": "stderr",
       "text": [
        "DEBUG:root:timeDelta = 0, distanceDelta = %s, returning speed = 0\n"
       ]
      },
      {
       "output_type": "stream",
       "stream": "stderr",
       "text": [
        "DEBUG:root:timeDelta = 0, distanceDelta = %s, returning speed = 0\n"
       ]
      },
      {
       "output_type": "stream",
       "stream": "stderr",
       "text": [
        "DEBUG:root:timeDelta = 0, distanceDelta = %s, returning speed = 0\n"
       ]
      },
      {
       "output_type": "stream",
       "stream": "stderr",
       "text": [
        "DEBUG:root:timeDelta = 0, distanceDelta = %s, returning speed = 0\n"
       ]
      },
      {
       "output_type": "stream",
       "stream": "stderr",
       "text": [
        "DEBUG:root:timeDelta = 0, distanceDelta = %s, returning speed = 0\n"
       ]
      },
      {
       "output_type": "stream",
       "stream": "stderr",
       "text": [
        "DEBUG:root:timeDelta = 0, distanceDelta = %s, returning speed = 0\n"
       ]
      },
      {
       "output_type": "stream",
       "stream": "stderr",
       "text": [
        "DEBUG:root:timeDelta = 0, distanceDelta = %s, returning speed = 0\n"
       ]
      },
      {
       "output_type": "stream",
       "stream": "stderr",
       "text": [
        "DEBUG:root:timeDelta = 0, distanceDelta = %s, returning speed = 0\n"
       ]
      },
      {
       "output_type": "stream",
       "stream": "stderr",
       "text": [
        "DEBUG:root:timeDelta = 0, distanceDelta = %s, returning speed = 0\n"
       ]
      },
      {
       "output_type": "stream",
       "stream": "stderr",
       "text": [
        "DEBUG:root:timeDelta = 0, distanceDelta = %s, returning speed = 0\n"
       ]
      },
      {
       "output_type": "stream",
       "stream": "stderr",
       "text": [
        "DEBUG:root:timeDelta = 0, distanceDelta = %s, returning speed = 0\n"
       ]
      },
      {
       "output_type": "stream",
       "stream": "stderr",
       "text": [
        "DEBUG:root:timeDelta = 0, distanceDelta = %s, returning speed = 0\n"
       ]
      },
      {
       "output_type": "stream",
       "stream": "stderr",
       "text": [
        "DEBUG:root:timeDelta = 0, distanceDelta = %s, returning speed = 0\n"
       ]
      },
      {
       "output_type": "stream",
       "stream": "stderr",
       "text": [
        "DEBUG:root:timeDelta = 0, distanceDelta = %s, returning speed = 0\n"
       ]
      },
      {
       "output_type": "stream",
       "stream": "stderr",
       "text": [
        "DEBUG:root:timeDelta = 0, distanceDelta = %s, returning speed = 0\n"
       ]
      },
      {
       "output_type": "stream",
       "stream": "stderr",
       "text": [
        "DEBUG:root:timeDelta = 0, distanceDelta = %s, returning speed = 0\n"
       ]
      },
      {
       "output_type": "stream",
       "stream": "stderr",
       "text": [
        "DEBUG:root:timeDelta = 0, distanceDelta = %s, returning speed = 0\n"
       ]
      },
      {
       "output_type": "stream",
       "stream": "stderr",
       "text": [
        "DEBUG:root:timeDelta = 0, distanceDelta = %s, returning speed = 0\n"
       ]
      },
      {
       "output_type": "stream",
       "stream": "stderr",
       "text": [
        "DEBUG:root:timeDelta = 0, distanceDelta = %s, returning speed = 0\n"
       ]
      },
      {
       "output_type": "stream",
       "stream": "stderr",
       "text": [
        "DEBUG:root:timeDelta = 0, distanceDelta = %s, returning speed = 0\n"
       ]
      },
      {
       "output_type": "stream",
       "stream": "stderr",
       "text": [
        "DEBUG:root:timeDelta = 0, distanceDelta = %s, returning speed = 0\n"
       ]
      },
      {
       "output_type": "stream",
       "stream": "stderr",
       "text": [
        "DEBUG:root:timeDelta = 0, distanceDelta = %s, returning speed = 0\n"
       ]
      },
      {
       "output_type": "stream",
       "stream": "stderr",
       "text": [
        "DEBUG:root:timeDelta = 0, distanceDelta = %s, returning speed = 0\n"
       ]
      },
      {
       "output_type": "stream",
       "stream": "stderr",
       "text": [
        "DEBUG:root:timeDelta = 0, distanceDelta = %s, returning speed = 0\n"
       ]
      },
      {
       "output_type": "stream",
       "stream": "stderr",
       "text": [
        "DEBUG:root:timeDelta = 0, distanceDelta = %s, returning speed = 0\n"
       ]
      },
      {
       "output_type": "stream",
       "stream": "stderr",
       "text": [
        "DEBUG:root:timeDelta = 0, distanceDelta = %s, returning speed = 0\n"
       ]
      },
      {
       "output_type": "stream",
       "stream": "stderr",
       "text": [
        "DEBUG:root:timeDelta = 0, distanceDelta = %s, returning speed = 0\n"
       ]
      },
      {
       "output_type": "stream",
       "stream": "stderr",
       "text": [
        "DEBUG:root:timeDelta = 0, distanceDelta = %s, returning speed = 0\n"
       ]
      },
      {
       "output_type": "stream",
       "stream": "stderr",
       "text": [
        "DEBUG:root:timeDelta = 0, distanceDelta = %s, returning speed = 0\n"
       ]
      },
      {
       "output_type": "stream",
       "stream": "stderr",
       "text": [
        "DEBUG:root:timeDelta = 0, distanceDelta = %s, returning speed = 0\n"
       ]
      },
      {
       "output_type": "stream",
       "stream": "stderr",
       "text": [
        "DEBUG:root:timeDelta = 0, distanceDelta = %s, returning speed = 0\n"
       ]
      },
      {
       "output_type": "stream",
       "stream": "stderr",
       "text": [
        "DEBUG:root:timeDelta = 0, distanceDelta = %s, returning speed = 0\n"
       ]
      },
      {
       "output_type": "stream",
       "stream": "stderr",
       "text": [
        "DEBUG:root:timeDelta = 0, distanceDelta = %s, returning speed = 0\n"
       ]
      },
      {
       "output_type": "stream",
       "stream": "stderr",
       "text": [
        "DEBUG:root:timeDelta = 0, distanceDelta = %s, returning speed = 0\n"
       ]
      },
      {
       "output_type": "stream",
       "stream": "stderr",
       "text": [
        "DEBUG:root:timeDelta = 0, distanceDelta = %s, returning speed = 0\n"
       ]
      },
      {
       "output_type": "stream",
       "stream": "stderr",
       "text": [
        "DEBUG:root:timeDelta = 0, distanceDelta = %s, returning speed = 0\n"
       ]
      },
      {
       "output_type": "stream",
       "stream": "stderr",
       "text": [
        "DEBUG:root:timeDelta = 0, distanceDelta = %s, returning speed = 0\n"
       ]
      },
      {
       "output_type": "stream",
       "stream": "stderr",
       "text": [
        "DEBUG:root:timeDelta = 0, distanceDelta = %s, returning speed = 0\n"
       ]
      },
      {
       "output_type": "stream",
       "stream": "stderr",
       "text": [
        "DEBUG:root:timeDelta = 0, distanceDelta = %s, returning speed = 0\n"
       ]
      },
      {
       "output_type": "stream",
       "stream": "stderr",
       "text": [
        "DEBUG:root:timeDelta = 0, distanceDelta = %s, returning speed = 0\n"
       ]
      },
      {
       "output_type": "stream",
       "stream": "stderr",
       "text": [
        "DEBUG:root:timeDelta = 0, distanceDelta = %s, returning speed = 0\n"
       ]
      },
      {
       "output_type": "stream",
       "stream": "stderr",
       "text": [
        "DEBUG:root:timeDelta = 0, distanceDelta = %s, returning speed = 0\n"
       ]
      },
      {
       "output_type": "stream",
       "stream": "stderr",
       "text": [
        "DEBUG:root:timeDelta = 0, distanceDelta = %s, returning speed = 0\n"
       ]
      },
      {
       "output_type": "stream",
       "stream": "stderr",
       "text": [
        "DEBUG:root:timeDelta = 0, distanceDelta = %s, returning speed = 0\n"
       ]
      },
      {
       "output_type": "stream",
       "stream": "stderr",
       "text": [
        "DEBUG:root:timeDelta = 0, distanceDelta = %s, returning speed = 0\n"
       ]
      },
      {
       "output_type": "stream",
       "stream": "stderr",
       "text": [
        "DEBUG:root:timeDelta = 0, distanceDelta = %s, returning speed = 0\n"
       ]
      },
      {
       "output_type": "stream",
       "stream": "stderr",
       "text": [
        "DEBUG:root:timeDelta = 0, distanceDelta = %s, returning speed = 0\n"
       ]
      },
      {
       "output_type": "stream",
       "stream": "stderr",
       "text": [
        "DEBUG:root:timeDelta = 0, distanceDelta = %s, returning speed = 0\n"
       ]
      },
      {
       "output_type": "stream",
       "stream": "stderr",
       "text": [
        "DEBUG:root:timeDelta = 0, distanceDelta = %s, returning speed = 0\n"
       ]
      },
      {
       "output_type": "stream",
       "stream": "stderr",
       "text": [
        "DEBUG:root:timeDelta = 0, distanceDelta = %s, returning speed = 0\n"
       ]
      },
      {
       "output_type": "stream",
       "stream": "stderr",
       "text": [
        "DEBUG:root:timeDelta = 0, distanceDelta = %s, returning speed = 0\n"
       ]
      },
      {
       "output_type": "stream",
       "stream": "stderr",
       "text": [
        "DEBUG:root:timeDelta = 0, distanceDelta = %s, returning speed = 0\n"
       ]
      },
      {
       "output_type": "stream",
       "stream": "stderr",
       "text": [
        "DEBUG:root:timeDelta = 0, distanceDelta = %s, returning speed = 0\n"
       ]
      },
      {
       "output_type": "stream",
       "stream": "stderr",
       "text": [
        "DEBUG:root:timeDelta = 0, distanceDelta = %s, returning speed = 0\n"
       ]
      },
      {
       "output_type": "stream",
       "stream": "stderr",
       "text": [
        "DEBUG:root:timeDelta = 0, distanceDelta = %s, returning speed = 0\n"
       ]
      },
      {
       "output_type": "stream",
       "stream": "stderr",
       "text": [
        "DEBUG:root:timeDelta = 0, distanceDelta = %s, returning speed = 0\n"
       ]
      },
      {
       "output_type": "stream",
       "stream": "stderr",
       "text": [
        "DEBUG:root:timeDelta = 0, distanceDelta = %s, returning speed = 0\n"
       ]
      },
      {
       "output_type": "stream",
       "stream": "stderr",
       "text": [
        "DEBUG:root:timeDelta = 0, distanceDelta = %s, returning speed = 0\n"
       ]
      },
      {
       "output_type": "stream",
       "stream": "stderr",
       "text": [
        "DEBUG:root:timeDelta = 0, distanceDelta = %s, returning speed = 0\n"
       ]
      },
      {
       "output_type": "stream",
       "stream": "stderr",
       "text": [
        "DEBUG:root:timeDelta = 0, distanceDelta = %s, returning speed = 0\n"
       ]
      },
      {
       "output_type": "stream",
       "stream": "stderr",
       "text": [
        "DEBUG:root:timeDelta = 0, distanceDelta = %s, returning speed = 0\n"
       ]
      },
      {
       "output_type": "stream",
       "stream": "stderr",
       "text": [
        "DEBUG:root:timeDelta = 0, distanceDelta = %s, returning speed = 0\n"
       ]
      },
      {
       "output_type": "stream",
       "stream": "stderr",
       "text": [
        "DEBUG:root:timeDelta = 0, distanceDelta = %s, returning speed = 0\n"
       ]
      },
      {
       "output_type": "stream",
       "stream": "stderr",
       "text": [
        "DEBUG:root:timeDelta = 0, distanceDelta = %s, returning speed = 0\n"
       ]
      },
      {
       "output_type": "stream",
       "stream": "stderr",
       "text": [
        "DEBUG:root:timeDelta = 0, distanceDelta = %s, returning speed = 0\n"
       ]
      },
      {
       "output_type": "stream",
       "stream": "stderr",
       "text": [
        "DEBUG:root:timeDelta = 0, distanceDelta = %s, returning speed = 0\n"
       ]
      },
      {
       "output_type": "stream",
       "stream": "stderr",
       "text": [
        "DEBUG:root:timeDelta = 0, distanceDelta = %s, returning speed = 0\n"
       ]
      },
      {
       "output_type": "stream",
       "stream": "stderr",
       "text": [
        "DEBUG:root:timeDelta = 0, distanceDelta = %s, returning speed = 0\n"
       ]
      },
      {
       "output_type": "stream",
       "stream": "stderr",
       "text": [
        "DEBUG:root:timeDelta = 0, distanceDelta = %s, returning speed = 0\n"
       ]
      },
      {
       "output_type": "stream",
       "stream": "stderr",
       "text": [
        "DEBUG:root:timeDelta = 0, distanceDelta = %s, returning speed = 0\n"
       ]
      },
      {
       "output_type": "stream",
       "stream": "stderr",
       "text": [
        "DEBUG:root:timeDelta = 0, distanceDelta = %s, returning speed = 0\n"
       ]
      },
      {
       "output_type": "stream",
       "stream": "stderr",
       "text": [
        "DEBUG:root:timeDelta = 0, distanceDelta = %s, returning speed = 0\n"
       ]
      },
      {
       "output_type": "stream",
       "stream": "stderr",
       "text": [
        "DEBUG:root:timeDelta = 0, distanceDelta = %s, returning speed = 0\n"
       ]
      },
      {
       "output_type": "stream",
       "stream": "stderr",
       "text": [
        "DEBUG:root:timeDelta = 0, distanceDelta = %s, returning speed = 0\n"
       ]
      },
      {
       "output_type": "stream",
       "stream": "stderr",
       "text": [
        "DEBUG:root:timeDelta = 0, distanceDelta = %s, returning speed = 0\n"
       ]
      },
      {
       "output_type": "stream",
       "stream": "stderr",
       "text": [
        "DEBUG:root:timeDelta = 0, distanceDelta = %s, returning speed = 0\n"
       ]
      },
      {
       "output_type": "stream",
       "stream": "stderr",
       "text": [
        "DEBUG:root:timeDelta = 0, distanceDelta = %s, returning speed = 0\n"
       ]
      },
      {
       "output_type": "stream",
       "stream": "stderr",
       "text": [
        "DEBUG:root:timeDelta = 0, distanceDelta = %s, returning speed = 0\n"
       ]
      },
      {
       "output_type": "stream",
       "stream": "stderr",
       "text": [
        "DEBUG:root:timeDelta = 0, distanceDelta = %s, returning speed = 0\n"
       ]
      },
      {
       "output_type": "stream",
       "stream": "stderr",
       "text": [
        "DEBUG:root:timeDelta = 0, distanceDelta = %s, returning speed = 0\n"
       ]
      },
      {
       "output_type": "stream",
       "stream": "stderr",
       "text": [
        "DEBUG:root:timeDelta = 0, distanceDelta = %s, returning speed = 0\n"
       ]
      },
      {
       "output_type": "stream",
       "stream": "stderr",
       "text": [
        "DEBUG:root:timeDelta = 0, distanceDelta = %s, returning speed = 0\n"
       ]
      },
      {
       "output_type": "stream",
       "stream": "stderr",
       "text": [
        "DEBUG:root:timeDelta = 0, distanceDelta = %s, returning speed = 0\n"
       ]
      },
      {
       "output_type": "stream",
       "stream": "stderr",
       "text": [
        "DEBUG:root:timeDelta = 0, distanceDelta = %s, returning speed = 0\n"
       ]
      },
      {
       "output_type": "stream",
       "stream": "stderr",
       "text": [
        "DEBUG:root:timeDelta = 0, distanceDelta = %s, returning speed = 0\n"
       ]
      },
      {
       "output_type": "stream",
       "stream": "stderr",
       "text": [
        "DEBUG:root:timeDelta = 0, distanceDelta = %s, returning speed = 0\n"
       ]
      },
      {
       "output_type": "stream",
       "stream": "stderr",
       "text": [
        "DEBUG:root:timeDelta = 0, distanceDelta = %s, returning speed = 0\n"
       ]
      },
      {
       "output_type": "stream",
       "stream": "stderr",
       "text": [
        "DEBUG:root:timeDelta = 0, distanceDelta = %s, returning speed = 0\n"
       ]
      },
      {
       "output_type": "stream",
       "stream": "stderr",
       "text": [
        "DEBUG:root:timeDelta = 0, distanceDelta = %s, returning speed = 0\n"
       ]
      },
      {
       "output_type": "stream",
       "stream": "stderr",
       "text": [
        "DEBUG:root:timeDelta = 0, distanceDelta = %s, returning speed = 0\n"
       ]
      },
      {
       "output_type": "stream",
       "stream": "stderr",
       "text": [
        "DEBUG:root:timeDelta = 0, distanceDelta = %s, returning speed = 0\n"
       ]
      },
      {
       "output_type": "stream",
       "stream": "stderr",
       "text": [
        "DEBUG:root:timeDelta = 0, distanceDelta = %s, returning speed = 0\n"
       ]
      },
      {
       "output_type": "stream",
       "stream": "stderr",
       "text": [
        "DEBUG:root:timeDelta = 0, distanceDelta = %s, returning speed = 0\n"
       ]
      },
      {
       "output_type": "stream",
       "stream": "stderr",
       "text": [
        "DEBUG:root:timeDelta = 0, distanceDelta = %s, returning speed = 0\n"
       ]
      },
      {
       "output_type": "stream",
       "stream": "stderr",
       "text": [
        "DEBUG:root:timeDelta = 0, distanceDelta = %s, returning speed = 0\n"
       ]
      },
      {
       "output_type": "stream",
       "stream": "stderr",
       "text": [
        "DEBUG:root:timeDelta = 0, distanceDelta = %s, returning speed = 0\n"
       ]
      },
      {
       "output_type": "stream",
       "stream": "stderr",
       "text": [
        "DEBUG:root:timeDelta = 0, distanceDelta = %s, returning speed = 0\n"
       ]
      },
      {
       "output_type": "stream",
       "stream": "stderr",
       "text": [
        "DEBUG:root:timeDelta = 0, distanceDelta = %s, returning speed = 0\n"
       ]
      },
      {
       "output_type": "stream",
       "stream": "stderr",
       "text": [
        "DEBUG:root:timeDelta = 0, distanceDelta = %s, returning speed = 0\n"
       ]
      },
      {
       "output_type": "stream",
       "stream": "stderr",
       "text": [
        "DEBUG:root:timeDelta = 0, distanceDelta = %s, returning speed = 0\n"
       ]
      },
      {
       "output_type": "stream",
       "stream": "stderr",
       "text": [
        "DEBUG:root:timeDelta = 0, distanceDelta = %s, returning speed = 0\n"
       ]
      },
      {
       "output_type": "stream",
       "stream": "stderr",
       "text": [
        "DEBUG:root:timeDelta = 0, distanceDelta = %s, returning speed = 0\n"
       ]
      },
      {
       "output_type": "stream",
       "stream": "stderr",
       "text": [
        "DEBUG:root:timeDelta = 0, distanceDelta = %s, returning speed = 0\n"
       ]
      },
      {
       "output_type": "stream",
       "stream": "stderr",
       "text": [
        "DEBUG:root:timeDelta = 0, distanceDelta = %s, returning speed = 0\n"
       ]
      },
      {
       "output_type": "stream",
       "stream": "stderr",
       "text": [
        "DEBUG:root:timeDelta = 0, distanceDelta = %s, returning speed = 0\n"
       ]
      },
      {
       "output_type": "stream",
       "stream": "stderr",
       "text": [
        "DEBUG:root:timeDelta = 0, distanceDelta = %s, returning speed = 0\n"
       ]
      },
      {
       "output_type": "stream",
       "stream": "stderr",
       "text": [
        "DEBUG:root:timeDelta = 0, distanceDelta = %s, returning speed = 0\n"
       ]
      },
      {
       "output_type": "stream",
       "stream": "stderr",
       "text": [
        "DEBUG:root:timeDelta = 0, distanceDelta = %s, returning speed = 0\n"
       ]
      },
      {
       "output_type": "stream",
       "stream": "stderr",
       "text": [
        "DEBUG:root:timeDelta = 0, distanceDelta = %s, returning speed = 0\n"
       ]
      },
      {
       "output_type": "stream",
       "stream": "stderr",
       "text": [
        "DEBUG:root:timeDelta = 0, distanceDelta = %s, returning speed = 0\n"
       ]
      },
      {
       "output_type": "stream",
       "stream": "stderr",
       "text": [
        "DEBUG:root:timeDelta = 0, distanceDelta = %s, returning speed = 0\n"
       ]
      },
      {
       "output_type": "stream",
       "stream": "stderr",
       "text": [
        "DEBUG:root:timeDelta = 0, distanceDelta = %s, returning speed = 0\n"
       ]
      },
      {
       "output_type": "stream",
       "stream": "stderr",
       "text": [
        "DEBUG:root:timeDelta = 0, distanceDelta = %s, returning speed = 0\n"
       ]
      },
      {
       "output_type": "stream",
       "stream": "stderr",
       "text": [
        "DEBUG:root:timeDelta = 0, distanceDelta = %s, returning speed = 0\n"
       ]
      },
      {
       "output_type": "stream",
       "stream": "stderr",
       "text": [
        "DEBUG:root:timeDelta = 0, distanceDelta = %s, returning speed = 0\n"
       ]
      },
      {
       "output_type": "stream",
       "stream": "stderr",
       "text": [
        "DEBUG:root:timeDelta = 0, distanceDelta = %s, returning speed = 0\n"
       ]
      },
      {
       "output_type": "stream",
       "stream": "stderr",
       "text": [
        "DEBUG:root:timeDelta = 0, distanceDelta = %s, returning speed = 0\n"
       ]
      },
      {
       "output_type": "stream",
       "stream": "stderr",
       "text": [
        "DEBUG:root:timeDelta = 0, distanceDelta = %s, returning speed = 0\n"
       ]
      },
      {
       "output_type": "stream",
       "stream": "stderr",
       "text": [
        "DEBUG:root:timeDelta = 0, distanceDelta = %s, returning speed = 0\n"
       ]
      },
      {
       "output_type": "stream",
       "stream": "stderr",
       "text": [
        "DEBUG:root:timeDelta = 0, distanceDelta = %s, returning speed = 0\n"
       ]
      },
      {
       "output_type": "stream",
       "stream": "stderr",
       "text": [
        "DEBUG:root:timeDelta = 0, distanceDelta = %s, returning speed = 0\n"
       ]
      },
      {
       "output_type": "stream",
       "stream": "stderr",
       "text": [
        "DEBUG:root:timeDelta = 0, distanceDelta = %s, returning speed = 0\n"
       ]
      },
      {
       "output_type": "stream",
       "stream": "stderr",
       "text": [
        "DEBUG:root:timeDelta = 0, distanceDelta = %s, returning speed = 0\n"
       ]
      },
      {
       "output_type": "stream",
       "stream": "stderr",
       "text": [
        "DEBUG:root:timeDelta = 0, distanceDelta = %s, returning speed = 0\n"
       ]
      },
      {
       "output_type": "stream",
       "stream": "stderr",
       "text": [
        "DEBUG:root:timeDelta = 0, distanceDelta = %s, returning speed = 0\n"
       ]
      },
      {
       "output_type": "stream",
       "stream": "stderr",
       "text": [
        "DEBUG:root:timeDelta = 0, distanceDelta = %s, returning speed = 0\n"
       ]
      },
      {
       "output_type": "stream",
       "stream": "stderr",
       "text": [
        "DEBUG:root:timeDelta = 0, distanceDelta = %s, returning speed = 0\n"
       ]
      },
      {
       "output_type": "stream",
       "stream": "stderr",
       "text": [
        "DEBUG:root:timeDelta = 0, distanceDelta = %s, returning speed = 0\n"
       ]
      },
      {
       "output_type": "stream",
       "stream": "stderr",
       "text": [
        "DEBUG:root:timeDelta = 0, distanceDelta = %s, returning speed = 0\n"
       ]
      },
      {
       "output_type": "stream",
       "stream": "stderr",
       "text": [
        "DEBUG:root:timeDelta = 0, distanceDelta = %s, returning speed = 0\n"
       ]
      },
      {
       "output_type": "stream",
       "stream": "stderr",
       "text": [
        "DEBUG:root:timeDelta = 0, distanceDelta = %s, returning speed = 0\n"
       ]
      },
      {
       "output_type": "stream",
       "stream": "stderr",
       "text": [
        "DEBUG:root:timeDelta = 0, distanceDelta = %s, returning speed = 0\n"
       ]
      },
      {
       "output_type": "stream",
       "stream": "stderr",
       "text": [
        "DEBUG:root:timeDelta = 0, distanceDelta = %s, returning speed = 0\n"
       ]
      },
      {
       "output_type": "stream",
       "stream": "stderr",
       "text": [
        "DEBUG:root:timeDelta = 0, distanceDelta = %s, returning speed = 0\n"
       ]
      },
      {
       "output_type": "stream",
       "stream": "stderr",
       "text": [
        "DEBUG:root:timeDelta = 0, distanceDelta = %s, returning speed = 0\n"
       ]
      },
      {
       "output_type": "stream",
       "stream": "stderr",
       "text": [
        "DEBUG:root:timeDelta = 0, distanceDelta = %s, returning speed = 0\n"
       ]
      },
      {
       "output_type": "stream",
       "stream": "stderr",
       "text": [
        "DEBUG:root:timeDelta = 0, distanceDelta = %s, returning speed = 0\n"
       ]
      },
      {
       "output_type": "stream",
       "stream": "stderr",
       "text": [
        "DEBUG:root:timeDelta = 0, distanceDelta = %s, returning speed = 0\n"
       ]
      },
      {
       "output_type": "stream",
       "stream": "stderr",
       "text": [
        "DEBUG:root:timeDelta = 0, distanceDelta = %s, returning speed = 0\n"
       ]
      },
      {
       "output_type": "stream",
       "stream": "stderr",
       "text": [
        "DEBUG:root:timeDelta = 0, distanceDelta = %s, returning speed = 0\n"
       ]
      },
      {
       "output_type": "stream",
       "stream": "stderr",
       "text": [
        "DEBUG:root:timeDelta = 0, distanceDelta = %s, returning speed = 0\n"
       ]
      },
      {
       "output_type": "stream",
       "stream": "stderr",
       "text": [
        "DEBUG:root:timeDelta = 0, distanceDelta = %s, returning speed = 0\n"
       ]
      },
      {
       "output_type": "stream",
       "stream": "stderr",
       "text": [
        "DEBUG:root:timeDelta = 0, distanceDelta = %s, returning speed = 0\n"
       ]
      },
      {
       "output_type": "stream",
       "stream": "stderr",
       "text": [
        "DEBUG:root:timeDelta = 0, distanceDelta = %s, returning speed = 0\n"
       ]
      },
      {
       "output_type": "stream",
       "stream": "stderr",
       "text": [
        "DEBUG:root:timeDelta = 0, distanceDelta = %s, returning speed = 0\n"
       ]
      },
      {
       "output_type": "stream",
       "stream": "stderr",
       "text": [
        "DEBUG:root:timeDelta = 0, distanceDelta = %s, returning speed = 0\n"
       ]
      },
      {
       "output_type": "stream",
       "stream": "stderr",
       "text": [
        "DEBUG:root:timeDelta = 0, distanceDelta = %s, returning speed = 0\n"
       ]
      },
      {
       "output_type": "stream",
       "stream": "stderr",
       "text": [
        "DEBUG:root:timeDelta = 0, distanceDelta = %s, returning speed = 0\n"
       ]
      },
      {
       "output_type": "stream",
       "stream": "stderr",
       "text": [
        "DEBUG:root:timeDelta = 0, distanceDelta = %s, returning speed = 0\n"
       ]
      },
      {
       "output_type": "stream",
       "stream": "stderr",
       "text": [
        "DEBUG:root:timeDelta = 0, distanceDelta = %s, returning speed = 0\n"
       ]
      },
      {
       "output_type": "stream",
       "stream": "stderr",
       "text": [
        "DEBUG:root:timeDelta = 0, distanceDelta = %s, returning speed = 0\n"
       ]
      },
      {
       "output_type": "stream",
       "stream": "stderr",
       "text": [
        "DEBUG:root:timeDelta = 0, distanceDelta = %s, returning speed = 0\n"
       ]
      },
      {
       "output_type": "stream",
       "stream": "stderr",
       "text": [
        "DEBUG:root:timeDelta = 0, distanceDelta = %s, returning speed = 0\n"
       ]
      },
      {
       "output_type": "stream",
       "stream": "stderr",
       "text": [
        "DEBUG:root:timeDelta = 0, distanceDelta = %s, returning speed = 0\n"
       ]
      },
      {
       "output_type": "stream",
       "stream": "stderr",
       "text": [
        "DEBUG:root:timeDelta = 0, distanceDelta = %s, returning speed = 0\n"
       ]
      },
      {
       "output_type": "stream",
       "stream": "stderr",
       "text": [
        "DEBUG:root:timeDelta = 0, distanceDelta = %s, returning speed = 0\n"
       ]
      },
      {
       "output_type": "stream",
       "stream": "stderr",
       "text": [
        "DEBUG:root:timeDelta = 0, distanceDelta = %s, returning speed = 0\n"
       ]
      },
      {
       "output_type": "stream",
       "stream": "stderr",
       "text": [
        "DEBUG:root:timeDelta = 0, distanceDelta = %s, returning speed = 0\n"
       ]
      },
      {
       "output_type": "stream",
       "stream": "stderr",
       "text": [
        "DEBUG:root:timeDelta = 0, distanceDelta = %s, returning speed = 0\n"
       ]
      },
      {
       "output_type": "stream",
       "stream": "stderr",
       "text": [
        "DEBUG:root:timeDelta = 0, distanceDelta = %s, returning speed = 0\n"
       ]
      },
      {
       "output_type": "stream",
       "stream": "stderr",
       "text": [
        "DEBUG:root:timeDelta = 0, distanceDelta = %s, returning speed = 0\n"
       ]
      },
      {
       "output_type": "stream",
       "stream": "stderr",
       "text": [
        "DEBUG:root:timeDelta = 0, distanceDelta = %s, returning speed = 0\n"
       ]
      },
      {
       "output_type": "stream",
       "stream": "stderr",
       "text": [
        "DEBUG:root:timeDelta = 0, distanceDelta = %s, returning speed = 0\n"
       ]
      },
      {
       "output_type": "stream",
       "stream": "stderr",
       "text": [
        "DEBUG:root:timeDelta = 0, distanceDelta = %s, returning speed = 0\n"
       ]
      },
      {
       "output_type": "stream",
       "stream": "stderr",
       "text": [
        "DEBUG:root:timeDelta = 0, distanceDelta = %s, returning speed = 0\n"
       ]
      },
      {
       "output_type": "stream",
       "stream": "stderr",
       "text": [
        "DEBUG:root:timeDelta = 0, distanceDelta = %s, returning speed = 0\n"
       ]
      },
      {
       "output_type": "stream",
       "stream": "stderr",
       "text": [
        "DEBUG:root:timeDelta = 0, distanceDelta = %s, returning speed = 0\n"
       ]
      },
      {
       "output_type": "stream",
       "stream": "stderr",
       "text": [
        "DEBUG:root:timeDelta = 0, distanceDelta = %s, returning speed = 0\n"
       ]
      },
      {
       "output_type": "stream",
       "stream": "stderr",
       "text": [
        "DEBUG:root:timeDelta = 0, distanceDelta = %s, returning speed = 0\n"
       ]
      },
      {
       "output_type": "stream",
       "stream": "stderr",
       "text": [
        "DEBUG:root:timeDelta = 0, distanceDelta = %s, returning speed = 0\n"
       ]
      },
      {
       "output_type": "stream",
       "stream": "stderr",
       "text": [
        "DEBUG:root:timeDelta = 0, distanceDelta = %s, returning speed = 0\n"
       ]
      },
      {
       "output_type": "stream",
       "stream": "stderr",
       "text": [
        "DEBUG:root:timeDelta = 0, distanceDelta = %s, returning speed = 0\n"
       ]
      },
      {
       "output_type": "stream",
       "stream": "stderr",
       "text": [
        "DEBUG:root:timeDelta = 0, distanceDelta = %s, returning speed = 0\n"
       ]
      },
      {
       "output_type": "stream",
       "stream": "stdout",
       "text": [
        "\n",
        "Considering phone 1\n",
        "len(transition_df) = 13, ground_truth_exit_ts = 1448993478, geofence was not exited!!"
       ]
      },
      {
       "output_type": "stream",
       "stream": "stdout",
       "text": [
        "\n",
        "Considering phone 2\n",
        "ground truth exit = 2015-12-01 10:11:18, geofence_exit_ts = +75.791228, first location point = +75.921665"
       ]
      },
      {
       "output_type": "stream",
       "stream": "stdout",
       "text": [
        "\n",
        "length of lat_means = 3\n",
        "Considering phone 0\n",
        "1    31\n",
        "4    33\n",
        "5    31\n",
        "7    33\n",
        "8    40\n",
        "Name: ts, dtype: float64\n",
        "ground truth exit = 2015-12-01 10:11:18, geofence_exit_ts = +3114.987000, first location point = +3146.000000"
       ]
      },
      {
       "output_type": "stream",
       "stream": "stdout",
       "text": [
        "\n",
        "Considering phone 1\n",
        "1     33\n",
        "7     33\n",
        "8     31\n",
        "9     33\n",
        "11    31\n",
        "Name: ts, dtype: float64\n",
        "ground truth exit = 2015-12-01 10:11:18, geofence_exit_ts = +3190.943000, first location point = +3198.000000\n",
        "Considering phone 2\n",
        "3      76\n",
        "7     201\n",
        "8      31\n",
        "11     33\n",
        "13     75\n",
        "Name: ts, dtype: float64"
       ]
      },
      {
       "output_type": "stream",
       "stream": "stderr",
       "text": [
        "DEBUG:root:curr_query = {'$or': [{'metadata.key': 'background/location'}], 'metadata.write_ts': {'$gte': 1449021473, '$lt': 1449032207.25}, 'user_id': UUID('079e0f1a-c440-3d7c-b0e7-de160f748e35')}, sort_key = metadata.write_ts\n"
       ]
      },
      {
       "output_type": "stream",
       "stream": "stderr",
       "text": [
        "DEBUG:root:Found 279 results\n"
       ]
      },
      {
       "output_type": "stream",
       "stream": "stderr",
       "text": [
        "DEBUG:root:curr_query = {'$or': [{'metadata.key': 'background/location'}], 'metadata.write_ts': {'$gte': 1449021473, '$lt': 1449032207.25}, 'user_id': UUID('c76a0487-7e5a-3b17-a449-47be666b36f6')}, sort_key = metadata.write_ts\n"
       ]
      },
      {
       "output_type": "stream",
       "stream": "stderr",
       "text": [
        "DEBUG:root:Found 850 results\n"
       ]
      },
      {
       "output_type": "stream",
       "stream": "stderr",
       "text": [
        "DEBUG:root:curr_query = {'$or': [{'metadata.key': 'background/location'}], 'metadata.write_ts': {'$gte': 1449021473, '$lt': 1449032207.25}, 'user_id': UUID('c528bcd2-a88b-3e82-be62-ef4f2396967a')}, sort_key = metadata.write_ts\n"
       ]
      },
      {
       "output_type": "stream",
       "stream": "stderr",
       "text": [
        "DEBUG:root:Found 675 results\n"
       ]
      },
      {
       "output_type": "stream",
       "stream": "stderr",
       "text": [
        "DEBUG:root:curr_query = {'$or': [{'metadata.key': 'background/location'}], 'metadata.write_ts': {'$gte': 1449021473, '$lt': 1449032207.25}, 'user_id': UUID('e471711e-bd14-3dbe-80b6-9c7d92ecc296')}, sort_key = metadata.write_ts\n"
       ]
      },
      {
       "output_type": "stream",
       "stream": "stderr",
       "text": [
        "DEBUG:root:Found 267 results\n"
       ]
      },
      {
       "output_type": "stream",
       "stream": "stderr",
       "text": [
        "DEBUG:root:curr_query = {'$or': [{'metadata.key': 'background/location'}], 'metadata.write_ts': {'$gte': 1449021473, '$lt': 1449032207.25}, 'user_id': UUID('fd7b4c2e-2c8b-3bfa-94f0-d1e3ecbd5fb7')}, sort_key = metadata.write_ts\n"
       ]
      },
      {
       "output_type": "stream",
       "stream": "stderr",
       "text": [
        "DEBUG:root:Found 284 results\n"
       ]
      },
      {
       "output_type": "stream",
       "stream": "stderr",
       "text": [
        "DEBUG:root:curr_query = {'$or': [{'metadata.key': 'background/location'}], 'metadata.write_ts': {'$gte': 1449021473, '$lt': 1449032207.25}, 'user_id': UUID('86842c35-da28-32ed-a90e-2da6663c5c73')}, sort_key = metadata.write_ts\n"
       ]
      },
      {
       "output_type": "stream",
       "stream": "stderr",
       "text": [
        "DEBUG:root:Found 320 results\n"
       ]
      },
      {
       "output_type": "stream",
       "stream": "stderr",
       "text": [
        "DEBUG:root:curr_query = {'$or': [{'metadata.key': 'statemachine/transition'}], 'metadata.write_ts': {'$gte': 1449021473, '$lt': 1449032207.25}, 'user_id': UUID('079e0f1a-c440-3d7c-b0e7-de160f748e35')}, sort_key = metadata.write_ts\n"
       ]
      },
      {
       "output_type": "stream",
       "stream": "stderr",
       "text": [
        "DEBUG:root:Found 0 results\n"
       ]
      },
      {
       "output_type": "stream",
       "stream": "stderr",
       "text": [
        "DEBUG:root:curr_query = {'$or': [{'metadata.key': 'statemachine/transition'}], 'metadata.write_ts': {'$gte': 1449021473, '$lt': 1449032207.25}, 'user_id': UUID('c76a0487-7e5a-3b17-a449-47be666b36f6')}, sort_key = metadata.write_ts\n"
       ]
      },
      {
       "output_type": "stream",
       "stream": "stderr",
       "text": [
        "DEBUG:root:Found 19 results\n"
       ]
      },
      {
       "output_type": "stream",
       "stream": "stderr",
       "text": [
        "DEBUG:root:curr_query = {'$or': [{'metadata.key': 'statemachine/transition'}], 'metadata.write_ts': {'$gte': 1449021473, '$lt': 1449032207.25}, 'user_id': UUID('c528bcd2-a88b-3e82-be62-ef4f2396967a')}, sort_key = metadata.write_ts\n"
       ]
      },
      {
       "output_type": "stream",
       "stream": "stderr",
       "text": [
        "DEBUG:root:Found 9 results\n"
       ]
      },
      {
       "output_type": "stream",
       "stream": "stderr",
       "text": [
        "DEBUG:root:curr_query = {'$or': [{'metadata.key': 'statemachine/transition'}], 'metadata.write_ts': {'$gte': 1449021473, '$lt': 1449032207.25}, 'user_id': UUID('e471711e-bd14-3dbe-80b6-9c7d92ecc296')}, sort_key = metadata.write_ts\n"
       ]
      },
      {
       "output_type": "stream",
       "stream": "stderr",
       "text": [
        "DEBUG:root:Found 9 results\n"
       ]
      },
      {
       "output_type": "stream",
       "stream": "stderr",
       "text": [
        "DEBUG:root:curr_query = {'$or': [{'metadata.key': 'statemachine/transition'}], 'metadata.write_ts': {'$gte': 1449021473, '$lt': 1449032207.25}, 'user_id': UUID('fd7b4c2e-2c8b-3bfa-94f0-d1e3ecbd5fb7')}, sort_key = metadata.write_ts\n"
       ]
      },
      {
       "output_type": "stream",
       "stream": "stderr",
       "text": [
        "DEBUG:root:Found 6 results\n"
       ]
      },
      {
       "output_type": "stream",
       "stream": "stderr",
       "text": [
        "DEBUG:root:curr_query = {'$or': [{'metadata.key': 'statemachine/transition'}], 'metadata.write_ts': {'$gte': 1449021473, '$lt': 1449032207.25}, 'user_id': UUID('86842c35-da28-32ed-a90e-2da6663c5c73')}, sort_key = metadata.write_ts\n"
       ]
      },
      {
       "output_type": "stream",
       "stream": "stderr",
       "text": [
        "DEBUG:root:Found 0 results\n"
       ]
      },
      {
       "output_type": "stream",
       "stream": "stdout",
       "text": [
        "\n",
        "len(transition_df) = 0, ground_truth_exit_ts = 1448993478, geofence was not exited!!\n",
        "Generating trip for soda_to_home\n",
        "length of lat_means = 3"
       ]
      },
      {
       "output_type": "stream",
       "stream": "stdout",
       "text": [
        "\n",
        "Considering phone 0\n",
        "len(transition_df) = 0, ground_truth_exit_ts = 1449021473, geofence was not exited!!"
       ]
      },
      {
       "output_type": "stream",
       "stream": "stderr",
       "text": [
        "DEBUG:root:timeDelta = 0, distanceDelta = %s, returning speed = 0\n"
       ]
      },
      {
       "output_type": "stream",
       "stream": "stderr",
       "text": [
        "DEBUG:root:timeDelta = 0, distanceDelta = %s, returning speed = 0\n"
       ]
      },
      {
       "output_type": "stream",
       "stream": "stderr",
       "text": [
        "DEBUG:root:timeDelta = 0, distanceDelta = %s, returning speed = 0\n"
       ]
      },
      {
       "output_type": "stream",
       "stream": "stderr",
       "text": [
        "DEBUG:root:timeDelta = 0, distanceDelta = %s, returning speed = 0\n"
       ]
      },
      {
       "output_type": "stream",
       "stream": "stderr",
       "text": [
        "DEBUG:root:timeDelta = 0, distanceDelta = %s, returning speed = 0\n"
       ]
      },
      {
       "output_type": "stream",
       "stream": "stderr",
       "text": [
        "DEBUG:root:timeDelta = 0, distanceDelta = %s, returning speed = 0\n"
       ]
      },
      {
       "output_type": "stream",
       "stream": "stderr",
       "text": [
        "DEBUG:root:timeDelta = 0, distanceDelta = %s, returning speed = 0\n"
       ]
      },
      {
       "output_type": "stream",
       "stream": "stderr",
       "text": [
        "DEBUG:root:timeDelta = 0, distanceDelta = %s, returning speed = 0\n"
       ]
      },
      {
       "output_type": "stream",
       "stream": "stderr",
       "text": [
        "DEBUG:root:timeDelta = 0, distanceDelta = %s, returning speed = 0\n"
       ]
      },
      {
       "output_type": "stream",
       "stream": "stderr",
       "text": [
        "DEBUG:root:timeDelta = 0, distanceDelta = %s, returning speed = 0\n"
       ]
      },
      {
       "output_type": "stream",
       "stream": "stderr",
       "text": [
        "DEBUG:root:timeDelta = 0, distanceDelta = %s, returning speed = 0\n"
       ]
      },
      {
       "output_type": "stream",
       "stream": "stderr",
       "text": [
        "DEBUG:root:timeDelta = 0, distanceDelta = %s, returning speed = 0\n"
       ]
      },
      {
       "output_type": "stream",
       "stream": "stderr",
       "text": [
        "DEBUG:root:timeDelta = 0, distanceDelta = %s, returning speed = 0\n"
       ]
      },
      {
       "output_type": "stream",
       "stream": "stderr",
       "text": [
        "DEBUG:root:timeDelta = 0, distanceDelta = %s, returning speed = 0\n"
       ]
      },
      {
       "output_type": "stream",
       "stream": "stderr",
       "text": [
        "DEBUG:root:timeDelta = 0, distanceDelta = %s, returning speed = 0\n"
       ]
      },
      {
       "output_type": "stream",
       "stream": "stderr",
       "text": [
        "DEBUG:root:timeDelta = 0, distanceDelta = %s, returning speed = 0\n"
       ]
      },
      {
       "output_type": "stream",
       "stream": "stderr",
       "text": [
        "DEBUG:root:timeDelta = 0, distanceDelta = %s, returning speed = 0\n"
       ]
      },
      {
       "output_type": "stream",
       "stream": "stderr",
       "text": [
        "DEBUG:root:timeDelta = 0, distanceDelta = %s, returning speed = 0\n"
       ]
      },
      {
       "output_type": "stream",
       "stream": "stderr",
       "text": [
        "DEBUG:root:timeDelta = 0, distanceDelta = %s, returning speed = 0\n"
       ]
      },
      {
       "output_type": "stream",
       "stream": "stderr",
       "text": [
        "DEBUG:root:timeDelta = 0, distanceDelta = %s, returning speed = 0\n"
       ]
      },
      {
       "output_type": "stream",
       "stream": "stderr",
       "text": [
        "DEBUG:root:timeDelta = 0, distanceDelta = %s, returning speed = 0\n"
       ]
      },
      {
       "output_type": "stream",
       "stream": "stderr",
       "text": [
        "DEBUG:root:timeDelta = 0, distanceDelta = %s, returning speed = 0\n"
       ]
      },
      {
       "output_type": "stream",
       "stream": "stderr",
       "text": [
        "DEBUG:root:timeDelta = 0, distanceDelta = %s, returning speed = 0\n"
       ]
      },
      {
       "output_type": "stream",
       "stream": "stderr",
       "text": [
        "DEBUG:root:timeDelta = 0, distanceDelta = %s, returning speed = 0\n"
       ]
      },
      {
       "output_type": "stream",
       "stream": "stderr",
       "text": [
        "DEBUG:root:timeDelta = 0, distanceDelta = %s, returning speed = 0\n"
       ]
      },
      {
       "output_type": "stream",
       "stream": "stderr",
       "text": [
        "DEBUG:root:timeDelta = 0, distanceDelta = %s, returning speed = 0\n"
       ]
      },
      {
       "output_type": "stream",
       "stream": "stderr",
       "text": [
        "DEBUG:root:timeDelta = 0, distanceDelta = %s, returning speed = 0\n"
       ]
      },
      {
       "output_type": "stream",
       "stream": "stderr",
       "text": [
        "DEBUG:root:timeDelta = 0, distanceDelta = %s, returning speed = 0\n"
       ]
      },
      {
       "output_type": "stream",
       "stream": "stderr",
       "text": [
        "DEBUG:root:timeDelta = 0, distanceDelta = %s, returning speed = 0\n"
       ]
      },
      {
       "output_type": "stream",
       "stream": "stderr",
       "text": [
        "DEBUG:root:timeDelta = 0, distanceDelta = %s, returning speed = 0\n"
       ]
      },
      {
       "output_type": "stream",
       "stream": "stderr",
       "text": [
        "DEBUG:root:timeDelta = 0, distanceDelta = %s, returning speed = 0\n"
       ]
      },
      {
       "output_type": "stream",
       "stream": "stderr",
       "text": [
        "DEBUG:root:timeDelta = 0, distanceDelta = %s, returning speed = 0\n"
       ]
      },
      {
       "output_type": "stream",
       "stream": "stderr",
       "text": [
        "DEBUG:root:timeDelta = 0, distanceDelta = %s, returning speed = 0\n"
       ]
      },
      {
       "output_type": "stream",
       "stream": "stderr",
       "text": [
        "DEBUG:root:timeDelta = 0, distanceDelta = %s, returning speed = 0\n"
       ]
      },
      {
       "output_type": "stream",
       "stream": "stderr",
       "text": [
        "DEBUG:root:timeDelta = 0, distanceDelta = %s, returning speed = 0\n"
       ]
      },
      {
       "output_type": "stream",
       "stream": "stderr",
       "text": [
        "DEBUG:root:timeDelta = 0, distanceDelta = %s, returning speed = 0\n"
       ]
      },
      {
       "output_type": "stream",
       "stream": "stderr",
       "text": [
        "DEBUG:root:timeDelta = 0, distanceDelta = %s, returning speed = 0\n"
       ]
      },
      {
       "output_type": "stream",
       "stream": "stderr",
       "text": [
        "DEBUG:root:timeDelta = 0, distanceDelta = %s, returning speed = 0\n"
       ]
      },
      {
       "output_type": "stream",
       "stream": "stderr",
       "text": [
        "DEBUG:root:timeDelta = 0, distanceDelta = %s, returning speed = 0\n"
       ]
      },
      {
       "output_type": "stream",
       "stream": "stderr",
       "text": [
        "DEBUG:root:timeDelta = 0, distanceDelta = %s, returning speed = 0\n"
       ]
      },
      {
       "output_type": "stream",
       "stream": "stderr",
       "text": [
        "DEBUG:root:timeDelta = 0, distanceDelta = %s, returning speed = 0\n"
       ]
      },
      {
       "output_type": "stream",
       "stream": "stderr",
       "text": [
        "DEBUG:root:timeDelta = 0, distanceDelta = %s, returning speed = 0\n"
       ]
      },
      {
       "output_type": "stream",
       "stream": "stderr",
       "text": [
        "DEBUG:root:timeDelta = 0, distanceDelta = %s, returning speed = 0\n"
       ]
      },
      {
       "output_type": "stream",
       "stream": "stderr",
       "text": [
        "DEBUG:root:timeDelta = 0, distanceDelta = %s, returning speed = 0\n"
       ]
      },
      {
       "output_type": "stream",
       "stream": "stderr",
       "text": [
        "DEBUG:root:timeDelta = 0, distanceDelta = %s, returning speed = 0\n"
       ]
      },
      {
       "output_type": "stream",
       "stream": "stderr",
       "text": [
        "DEBUG:root:timeDelta = 0, distanceDelta = %s, returning speed = 0\n"
       ]
      },
      {
       "output_type": "stream",
       "stream": "stderr",
       "text": [
        "DEBUG:root:timeDelta = 0, distanceDelta = %s, returning speed = 0\n"
       ]
      },
      {
       "output_type": "stream",
       "stream": "stderr",
       "text": [
        "DEBUG:root:timeDelta = 0, distanceDelta = %s, returning speed = 0\n"
       ]
      },
      {
       "output_type": "stream",
       "stream": "stderr",
       "text": [
        "DEBUG:root:timeDelta = 0, distanceDelta = %s, returning speed = 0\n"
       ]
      },
      {
       "output_type": "stream",
       "stream": "stderr",
       "text": [
        "DEBUG:root:timeDelta = 0, distanceDelta = %s, returning speed = 0\n"
       ]
      },
      {
       "output_type": "stream",
       "stream": "stderr",
       "text": [
        "DEBUG:root:timeDelta = 0, distanceDelta = %s, returning speed = 0\n"
       ]
      },
      {
       "output_type": "stream",
       "stream": "stderr",
       "text": [
        "DEBUG:root:timeDelta = 0, distanceDelta = %s, returning speed = 0\n"
       ]
      },
      {
       "output_type": "stream",
       "stream": "stderr",
       "text": [
        "DEBUG:root:timeDelta = 0, distanceDelta = %s, returning speed = 0\n"
       ]
      },
      {
       "output_type": "stream",
       "stream": "stderr",
       "text": [
        "DEBUG:root:timeDelta = 0, distanceDelta = %s, returning speed = 0\n"
       ]
      },
      {
       "output_type": "stream",
       "stream": "stderr",
       "text": [
        "DEBUG:root:timeDelta = 0, distanceDelta = %s, returning speed = 0\n"
       ]
      },
      {
       "output_type": "stream",
       "stream": "stderr",
       "text": [
        "DEBUG:root:timeDelta = 0, distanceDelta = %s, returning speed = 0\n"
       ]
      },
      {
       "output_type": "stream",
       "stream": "stderr",
       "text": [
        "DEBUG:root:timeDelta = 0, distanceDelta = %s, returning speed = 0\n"
       ]
      },
      {
       "output_type": "stream",
       "stream": "stderr",
       "text": [
        "DEBUG:root:timeDelta = 0, distanceDelta = %s, returning speed = 0\n"
       ]
      },
      {
       "output_type": "stream",
       "stream": "stderr",
       "text": [
        "DEBUG:root:timeDelta = 0, distanceDelta = %s, returning speed = 0\n"
       ]
      },
      {
       "output_type": "stream",
       "stream": "stderr",
       "text": [
        "DEBUG:root:timeDelta = 0, distanceDelta = %s, returning speed = 0\n"
       ]
      },
      {
       "output_type": "stream",
       "stream": "stderr",
       "text": [
        "DEBUG:root:timeDelta = 0, distanceDelta = %s, returning speed = 0\n"
       ]
      },
      {
       "output_type": "stream",
       "stream": "stderr",
       "text": [
        "DEBUG:root:timeDelta = 0, distanceDelta = %s, returning speed = 0\n"
       ]
      },
      {
       "output_type": "stream",
       "stream": "stderr",
       "text": [
        "DEBUG:root:timeDelta = 0, distanceDelta = %s, returning speed = 0\n"
       ]
      },
      {
       "output_type": "stream",
       "stream": "stderr",
       "text": [
        "DEBUG:root:timeDelta = 0, distanceDelta = %s, returning speed = 0\n"
       ]
      },
      {
       "output_type": "stream",
       "stream": "stderr",
       "text": [
        "DEBUG:root:timeDelta = 0, distanceDelta = %s, returning speed = 0\n"
       ]
      },
      {
       "output_type": "stream",
       "stream": "stderr",
       "text": [
        "DEBUG:root:timeDelta = 0, distanceDelta = %s, returning speed = 0\n"
       ]
      },
      {
       "output_type": "stream",
       "stream": "stderr",
       "text": [
        "DEBUG:root:timeDelta = 0, distanceDelta = %s, returning speed = 0\n"
       ]
      },
      {
       "output_type": "stream",
       "stream": "stderr",
       "text": [
        "DEBUG:root:timeDelta = 0, distanceDelta = %s, returning speed = 0\n"
       ]
      },
      {
       "output_type": "stream",
       "stream": "stderr",
       "text": [
        "DEBUG:root:timeDelta = 0, distanceDelta = %s, returning speed = 0\n"
       ]
      },
      {
       "output_type": "stream",
       "stream": "stderr",
       "text": [
        "DEBUG:root:timeDelta = 0, distanceDelta = %s, returning speed = 0\n"
       ]
      },
      {
       "output_type": "stream",
       "stream": "stderr",
       "text": [
        "DEBUG:root:timeDelta = 0, distanceDelta = %s, returning speed = 0\n"
       ]
      },
      {
       "output_type": "stream",
       "stream": "stderr",
       "text": [
        "DEBUG:root:timeDelta = 0, distanceDelta = %s, returning speed = 0\n"
       ]
      },
      {
       "output_type": "stream",
       "stream": "stderr",
       "text": [
        "DEBUG:root:timeDelta = 0, distanceDelta = %s, returning speed = 0\n"
       ]
      },
      {
       "output_type": "stream",
       "stream": "stderr",
       "text": [
        "DEBUG:root:timeDelta = 0, distanceDelta = %s, returning speed = 0\n"
       ]
      },
      {
       "output_type": "stream",
       "stream": "stderr",
       "text": [
        "DEBUG:root:timeDelta = 0, distanceDelta = %s, returning speed = 0\n"
       ]
      },
      {
       "output_type": "stream",
       "stream": "stderr",
       "text": [
        "DEBUG:root:timeDelta = 0, distanceDelta = %s, returning speed = 0\n"
       ]
      },
      {
       "output_type": "stream",
       "stream": "stderr",
       "text": [
        "DEBUG:root:timeDelta = 0, distanceDelta = %s, returning speed = 0\n"
       ]
      },
      {
       "output_type": "stream",
       "stream": "stderr",
       "text": [
        "DEBUG:root:timeDelta = 0, distanceDelta = %s, returning speed = 0\n"
       ]
      },
      {
       "output_type": "stream",
       "stream": "stderr",
       "text": [
        "DEBUG:root:timeDelta = 0, distanceDelta = %s, returning speed = 0\n"
       ]
      },
      {
       "output_type": "stream",
       "stream": "stderr",
       "text": [
        "DEBUG:root:timeDelta = 0, distanceDelta = %s, returning speed = 0\n"
       ]
      },
      {
       "output_type": "stream",
       "stream": "stderr",
       "text": [
        "DEBUG:root:timeDelta = 0, distanceDelta = %s, returning speed = 0\n"
       ]
      },
      {
       "output_type": "stream",
       "stream": "stderr",
       "text": [
        "DEBUG:root:timeDelta = 0, distanceDelta = %s, returning speed = 0\n"
       ]
      },
      {
       "output_type": "stream",
       "stream": "stderr",
       "text": [
        "DEBUG:root:timeDelta = 0, distanceDelta = %s, returning speed = 0\n"
       ]
      },
      {
       "output_type": "stream",
       "stream": "stderr",
       "text": [
        "DEBUG:root:timeDelta = 0, distanceDelta = %s, returning speed = 0\n"
       ]
      },
      {
       "output_type": "stream",
       "stream": "stderr",
       "text": [
        "DEBUG:root:timeDelta = 0, distanceDelta = %s, returning speed = 0\n"
       ]
      },
      {
       "output_type": "stream",
       "stream": "stderr",
       "text": [
        "DEBUG:root:timeDelta = 0, distanceDelta = %s, returning speed = 0\n"
       ]
      },
      {
       "output_type": "stream",
       "stream": "stderr",
       "text": [
        "DEBUG:root:timeDelta = 0, distanceDelta = %s, returning speed = 0\n"
       ]
      },
      {
       "output_type": "stream",
       "stream": "stderr",
       "text": [
        "DEBUG:root:timeDelta = 0, distanceDelta = %s, returning speed = 0\n"
       ]
      },
      {
       "output_type": "stream",
       "stream": "stderr",
       "text": [
        "DEBUG:root:timeDelta = 0, distanceDelta = %s, returning speed = 0\n"
       ]
      },
      {
       "output_type": "stream",
       "stream": "stderr",
       "text": [
        "DEBUG:root:timeDelta = 0, distanceDelta = %s, returning speed = 0\n"
       ]
      },
      {
       "output_type": "stream",
       "stream": "stderr",
       "text": [
        "DEBUG:root:timeDelta = 0, distanceDelta = %s, returning speed = 0\n"
       ]
      },
      {
       "output_type": "stream",
       "stream": "stderr",
       "text": [
        "DEBUG:root:timeDelta = 0, distanceDelta = %s, returning speed = 0\n"
       ]
      },
      {
       "output_type": "stream",
       "stream": "stderr",
       "text": [
        "DEBUG:root:timeDelta = 0, distanceDelta = %s, returning speed = 0\n"
       ]
      },
      {
       "output_type": "stream",
       "stream": "stderr",
       "text": [
        "DEBUG:root:timeDelta = 0, distanceDelta = %s, returning speed = 0\n"
       ]
      },
      {
       "output_type": "stream",
       "stream": "stderr",
       "text": [
        "DEBUG:root:timeDelta = 0, distanceDelta = %s, returning speed = 0\n"
       ]
      },
      {
       "output_type": "stream",
       "stream": "stderr",
       "text": [
        "DEBUG:root:timeDelta = 0, distanceDelta = %s, returning speed = 0\n"
       ]
      },
      {
       "output_type": "stream",
       "stream": "stderr",
       "text": [
        "DEBUG:root:timeDelta = 0, distanceDelta = %s, returning speed = 0\n"
       ]
      },
      {
       "output_type": "stream",
       "stream": "stderr",
       "text": [
        "DEBUG:root:timeDelta = 0, distanceDelta = %s, returning speed = 0\n"
       ]
      },
      {
       "output_type": "stream",
       "stream": "stderr",
       "text": [
        "DEBUG:root:timeDelta = 0, distanceDelta = %s, returning speed = 0\n"
       ]
      },
      {
       "output_type": "stream",
       "stream": "stderr",
       "text": [
        "DEBUG:root:timeDelta = 0, distanceDelta = %s, returning speed = 0\n"
       ]
      },
      {
       "output_type": "stream",
       "stream": "stderr",
       "text": [
        "DEBUG:root:timeDelta = 0, distanceDelta = %s, returning speed = 0\n"
       ]
      },
      {
       "output_type": "stream",
       "stream": "stderr",
       "text": [
        "DEBUG:root:timeDelta = 0, distanceDelta = %s, returning speed = 0\n"
       ]
      },
      {
       "output_type": "stream",
       "stream": "stderr",
       "text": [
        "DEBUG:root:timeDelta = 0, distanceDelta = %s, returning speed = 0\n"
       ]
      },
      {
       "output_type": "stream",
       "stream": "stderr",
       "text": [
        "DEBUG:root:timeDelta = 0, distanceDelta = %s, returning speed = 0\n"
       ]
      },
      {
       "output_type": "stream",
       "stream": "stderr",
       "text": [
        "DEBUG:root:timeDelta = 0, distanceDelta = %s, returning speed = 0\n"
       ]
      },
      {
       "output_type": "stream",
       "stream": "stderr",
       "text": [
        "DEBUG:root:timeDelta = 0, distanceDelta = %s, returning speed = 0\n"
       ]
      },
      {
       "output_type": "stream",
       "stream": "stderr",
       "text": [
        "DEBUG:root:timeDelta = 0, distanceDelta = %s, returning speed = 0\n"
       ]
      },
      {
       "output_type": "stream",
       "stream": "stderr",
       "text": [
        "DEBUG:root:timeDelta = 0, distanceDelta = %s, returning speed = 0\n"
       ]
      },
      {
       "output_type": "stream",
       "stream": "stderr",
       "text": [
        "DEBUG:root:timeDelta = 0, distanceDelta = %s, returning speed = 0\n"
       ]
      },
      {
       "output_type": "stream",
       "stream": "stderr",
       "text": [
        "DEBUG:root:timeDelta = 0, distanceDelta = %s, returning speed = 0\n"
       ]
      },
      {
       "output_type": "stream",
       "stream": "stderr",
       "text": [
        "DEBUG:root:timeDelta = 0, distanceDelta = %s, returning speed = 0\n"
       ]
      },
      {
       "output_type": "stream",
       "stream": "stderr",
       "text": [
        "DEBUG:root:timeDelta = 0, distanceDelta = %s, returning speed = 0\n"
       ]
      },
      {
       "output_type": "stream",
       "stream": "stderr",
       "text": [
        "DEBUG:root:timeDelta = 0, distanceDelta = %s, returning speed = 0\n"
       ]
      },
      {
       "output_type": "stream",
       "stream": "stderr",
       "text": [
        "DEBUG:root:timeDelta = 0, distanceDelta = %s, returning speed = 0\n"
       ]
      },
      {
       "output_type": "stream",
       "stream": "stderr",
       "text": [
        "DEBUG:root:timeDelta = 0, distanceDelta = %s, returning speed = 0\n"
       ]
      },
      {
       "output_type": "stream",
       "stream": "stderr",
       "text": [
        "DEBUG:root:timeDelta = 0, distanceDelta = %s, returning speed = 0\n"
       ]
      },
      {
       "output_type": "stream",
       "stream": "stderr",
       "text": [
        "DEBUG:root:timeDelta = 0, distanceDelta = %s, returning speed = 0\n"
       ]
      },
      {
       "output_type": "stream",
       "stream": "stderr",
       "text": [
        "DEBUG:root:timeDelta = 0, distanceDelta = %s, returning speed = 0\n"
       ]
      },
      {
       "output_type": "stream",
       "stream": "stderr",
       "text": [
        "DEBUG:root:timeDelta = 0, distanceDelta = %s, returning speed = 0\n"
       ]
      },
      {
       "output_type": "stream",
       "stream": "stderr",
       "text": [
        "DEBUG:root:timeDelta = 0, distanceDelta = %s, returning speed = 0\n"
       ]
      },
      {
       "output_type": "stream",
       "stream": "stderr",
       "text": [
        "DEBUG:root:timeDelta = 0, distanceDelta = %s, returning speed = 0\n"
       ]
      },
      {
       "output_type": "stream",
       "stream": "stderr",
       "text": [
        "DEBUG:root:timeDelta = 0, distanceDelta = %s, returning speed = 0\n"
       ]
      },
      {
       "output_type": "stream",
       "stream": "stderr",
       "text": [
        "DEBUG:root:timeDelta = 0, distanceDelta = %s, returning speed = 0\n"
       ]
      },
      {
       "output_type": "stream",
       "stream": "stderr",
       "text": [
        "DEBUG:root:timeDelta = 0, distanceDelta = %s, returning speed = 0\n"
       ]
      },
      {
       "output_type": "stream",
       "stream": "stderr",
       "text": [
        "DEBUG:root:timeDelta = 0, distanceDelta = %s, returning speed = 0\n"
       ]
      },
      {
       "output_type": "stream",
       "stream": "stderr",
       "text": [
        "DEBUG:root:timeDelta = 0, distanceDelta = %s, returning speed = 0\n"
       ]
      },
      {
       "output_type": "stream",
       "stream": "stderr",
       "text": [
        "DEBUG:root:timeDelta = 0, distanceDelta = %s, returning speed = 0\n"
       ]
      },
      {
       "output_type": "stream",
       "stream": "stderr",
       "text": [
        "DEBUG:root:timeDelta = 0, distanceDelta = %s, returning speed = 0\n"
       ]
      },
      {
       "output_type": "stream",
       "stream": "stderr",
       "text": [
        "DEBUG:root:timeDelta = 0, distanceDelta = %s, returning speed = 0\n"
       ]
      },
      {
       "output_type": "stream",
       "stream": "stderr",
       "text": [
        "DEBUG:root:timeDelta = 0, distanceDelta = %s, returning speed = 0\n"
       ]
      },
      {
       "output_type": "stream",
       "stream": "stderr",
       "text": [
        "DEBUG:root:timeDelta = 0, distanceDelta = %s, returning speed = 0\n"
       ]
      },
      {
       "output_type": "stream",
       "stream": "stderr",
       "text": [
        "DEBUG:root:timeDelta = 0, distanceDelta = %s, returning speed = 0\n"
       ]
      },
      {
       "output_type": "stream",
       "stream": "stderr",
       "text": [
        "DEBUG:root:timeDelta = 0, distanceDelta = %s, returning speed = 0\n"
       ]
      },
      {
       "output_type": "stream",
       "stream": "stderr",
       "text": [
        "DEBUG:root:timeDelta = 0, distanceDelta = %s, returning speed = 0\n"
       ]
      },
      {
       "output_type": "stream",
       "stream": "stderr",
       "text": [
        "DEBUG:root:timeDelta = 0, distanceDelta = %s, returning speed = 0\n"
       ]
      },
      {
       "output_type": "stream",
       "stream": "stderr",
       "text": [
        "DEBUG:root:timeDelta = 0, distanceDelta = %s, returning speed = 0\n"
       ]
      },
      {
       "output_type": "stream",
       "stream": "stderr",
       "text": [
        "DEBUG:root:timeDelta = 0, distanceDelta = %s, returning speed = 0\n"
       ]
      },
      {
       "output_type": "stream",
       "stream": "stderr",
       "text": [
        "DEBUG:root:timeDelta = 0, distanceDelta = %s, returning speed = 0\n"
       ]
      },
      {
       "output_type": "stream",
       "stream": "stderr",
       "text": [
        "DEBUG:root:timeDelta = 0, distanceDelta = %s, returning speed = 0\n"
       ]
      },
      {
       "output_type": "stream",
       "stream": "stderr",
       "text": [
        "DEBUG:root:timeDelta = 0, distanceDelta = %s, returning speed = 0\n"
       ]
      },
      {
       "output_type": "stream",
       "stream": "stderr",
       "text": [
        "DEBUG:root:timeDelta = 0, distanceDelta = %s, returning speed = 0\n"
       ]
      },
      {
       "output_type": "stream",
       "stream": "stderr",
       "text": [
        "DEBUG:root:timeDelta = 0, distanceDelta = %s, returning speed = 0\n"
       ]
      },
      {
       "output_type": "stream",
       "stream": "stderr",
       "text": [
        "DEBUG:root:timeDelta = 0, distanceDelta = %s, returning speed = 0\n"
       ]
      },
      {
       "output_type": "stream",
       "stream": "stderr",
       "text": [
        "DEBUG:root:timeDelta = 0, distanceDelta = %s, returning speed = 0\n"
       ]
      },
      {
       "output_type": "stream",
       "stream": "stderr",
       "text": [
        "DEBUG:root:timeDelta = 0, distanceDelta = %s, returning speed = 0\n"
       ]
      },
      {
       "output_type": "stream",
       "stream": "stderr",
       "text": [
        "DEBUG:root:timeDelta = 0, distanceDelta = %s, returning speed = 0\n"
       ]
      },
      {
       "output_type": "stream",
       "stream": "stderr",
       "text": [
        "DEBUG:root:timeDelta = 0, distanceDelta = %s, returning speed = 0\n"
       ]
      },
      {
       "output_type": "stream",
       "stream": "stderr",
       "text": [
        "DEBUG:root:timeDelta = 0, distanceDelta = %s, returning speed = 0\n"
       ]
      },
      {
       "output_type": "stream",
       "stream": "stderr",
       "text": [
        "DEBUG:root:timeDelta = 0, distanceDelta = %s, returning speed = 0\n"
       ]
      },
      {
       "output_type": "stream",
       "stream": "stderr",
       "text": [
        "DEBUG:root:timeDelta = 0, distanceDelta = %s, returning speed = 0\n"
       ]
      },
      {
       "output_type": "stream",
       "stream": "stderr",
       "text": [
        "DEBUG:root:timeDelta = 0, distanceDelta = %s, returning speed = 0\n"
       ]
      },
      {
       "output_type": "stream",
       "stream": "stderr",
       "text": [
        "DEBUG:root:timeDelta = 0, distanceDelta = %s, returning speed = 0\n"
       ]
      },
      {
       "output_type": "stream",
       "stream": "stderr",
       "text": [
        "DEBUG:root:timeDelta = 0, distanceDelta = %s, returning speed = 0\n"
       ]
      },
      {
       "output_type": "stream",
       "stream": "stderr",
       "text": [
        "DEBUG:root:timeDelta = 0, distanceDelta = %s, returning speed = 0\n"
       ]
      },
      {
       "output_type": "stream",
       "stream": "stderr",
       "text": [
        "DEBUG:root:timeDelta = 0, distanceDelta = %s, returning speed = 0\n"
       ]
      },
      {
       "output_type": "stream",
       "stream": "stderr",
       "text": [
        "DEBUG:root:timeDelta = 0, distanceDelta = %s, returning speed = 0\n"
       ]
      },
      {
       "output_type": "stream",
       "stream": "stderr",
       "text": [
        "DEBUG:root:timeDelta = 0, distanceDelta = %s, returning speed = 0\n"
       ]
      },
      {
       "output_type": "stream",
       "stream": "stderr",
       "text": [
        "DEBUG:root:timeDelta = 0, distanceDelta = %s, returning speed = 0\n"
       ]
      },
      {
       "output_type": "stream",
       "stream": "stderr",
       "text": [
        "DEBUG:root:timeDelta = 0, distanceDelta = %s, returning speed = 0\n"
       ]
      },
      {
       "output_type": "stream",
       "stream": "stderr",
       "text": [
        "DEBUG:root:timeDelta = 0, distanceDelta = %s, returning speed = 0\n"
       ]
      },
      {
       "output_type": "stream",
       "stream": "stderr",
       "text": [
        "DEBUG:root:timeDelta = 0, distanceDelta = %s, returning speed = 0\n"
       ]
      },
      {
       "output_type": "stream",
       "stream": "stderr",
       "text": [
        "DEBUG:root:timeDelta = 0, distanceDelta = %s, returning speed = 0\n"
       ]
      },
      {
       "output_type": "stream",
       "stream": "stderr",
       "text": [
        "DEBUG:root:timeDelta = 0, distanceDelta = %s, returning speed = 0\n"
       ]
      },
      {
       "output_type": "stream",
       "stream": "stderr",
       "text": [
        "DEBUG:root:timeDelta = 0, distanceDelta = %s, returning speed = 0\n"
       ]
      },
      {
       "output_type": "stream",
       "stream": "stderr",
       "text": [
        "DEBUG:root:timeDelta = 0, distanceDelta = %s, returning speed = 0\n"
       ]
      },
      {
       "output_type": "stream",
       "stream": "stderr",
       "text": [
        "DEBUG:root:timeDelta = 0, distanceDelta = %s, returning speed = 0\n"
       ]
      },
      {
       "output_type": "stream",
       "stream": "stderr",
       "text": [
        "DEBUG:root:timeDelta = 0, distanceDelta = %s, returning speed = 0\n"
       ]
      },
      {
       "output_type": "stream",
       "stream": "stderr",
       "text": [
        "DEBUG:root:timeDelta = 0, distanceDelta = %s, returning speed = 0\n"
       ]
      },
      {
       "output_type": "stream",
       "stream": "stderr",
       "text": [
        "DEBUG:root:timeDelta = 0, distanceDelta = %s, returning speed = 0\n"
       ]
      },
      {
       "output_type": "stream",
       "stream": "stderr",
       "text": [
        "DEBUG:root:timeDelta = 0, distanceDelta = %s, returning speed = 0\n"
       ]
      },
      {
       "output_type": "stream",
       "stream": "stderr",
       "text": [
        "DEBUG:root:timeDelta = 0, distanceDelta = %s, returning speed = 0\n"
       ]
      },
      {
       "output_type": "stream",
       "stream": "stderr",
       "text": [
        "DEBUG:root:timeDelta = 0, distanceDelta = %s, returning speed = 0\n"
       ]
      },
      {
       "output_type": "stream",
       "stream": "stderr",
       "text": [
        "DEBUG:root:timeDelta = 0, distanceDelta = %s, returning speed = 0\n"
       ]
      },
      {
       "output_type": "stream",
       "stream": "stderr",
       "text": [
        "DEBUG:root:timeDelta = 0, distanceDelta = %s, returning speed = 0\n"
       ]
      },
      {
       "output_type": "stream",
       "stream": "stderr",
       "text": [
        "DEBUG:root:timeDelta = 0, distanceDelta = %s, returning speed = 0\n"
       ]
      },
      {
       "output_type": "stream",
       "stream": "stderr",
       "text": [
        "DEBUG:root:timeDelta = 0, distanceDelta = %s, returning speed = 0\n"
       ]
      },
      {
       "output_type": "stream",
       "stream": "stderr",
       "text": [
        "DEBUG:root:timeDelta = 0, distanceDelta = %s, returning speed = 0\n"
       ]
      },
      {
       "output_type": "stream",
       "stream": "stderr",
       "text": [
        "DEBUG:root:timeDelta = 0, distanceDelta = %s, returning speed = 0\n"
       ]
      },
      {
       "output_type": "stream",
       "stream": "stderr",
       "text": [
        "DEBUG:root:timeDelta = 0, distanceDelta = %s, returning speed = 0\n"
       ]
      },
      {
       "output_type": "stream",
       "stream": "stderr",
       "text": [
        "DEBUG:root:timeDelta = 0, distanceDelta = %s, returning speed = 0\n"
       ]
      },
      {
       "output_type": "stream",
       "stream": "stderr",
       "text": [
        "DEBUG:root:timeDelta = 0, distanceDelta = %s, returning speed = 0\n"
       ]
      },
      {
       "output_type": "stream",
       "stream": "stderr",
       "text": [
        "DEBUG:root:timeDelta = 0, distanceDelta = %s, returning speed = 0\n"
       ]
      },
      {
       "output_type": "stream",
       "stream": "stderr",
       "text": [
        "DEBUG:root:timeDelta = 0, distanceDelta = %s, returning speed = 0\n"
       ]
      },
      {
       "output_type": "stream",
       "stream": "stderr",
       "text": [
        "DEBUG:root:timeDelta = 0, distanceDelta = %s, returning speed = 0\n"
       ]
      },
      {
       "output_type": "stream",
       "stream": "stderr",
       "text": [
        "DEBUG:root:timeDelta = 0, distanceDelta = %s, returning speed = 0\n"
       ]
      },
      {
       "output_type": "stream",
       "stream": "stderr",
       "text": [
        "DEBUG:root:timeDelta = 0, distanceDelta = %s, returning speed = 0\n"
       ]
      },
      {
       "output_type": "stream",
       "stream": "stderr",
       "text": [
        "DEBUG:root:timeDelta = 0, distanceDelta = %s, returning speed = 0\n"
       ]
      },
      {
       "output_type": "stream",
       "stream": "stderr",
       "text": [
        "DEBUG:root:timeDelta = 0, distanceDelta = %s, returning speed = 0\n"
       ]
      },
      {
       "output_type": "stream",
       "stream": "stderr",
       "text": [
        "DEBUG:root:timeDelta = 0, distanceDelta = %s, returning speed = 0\n"
       ]
      },
      {
       "output_type": "stream",
       "stream": "stderr",
       "text": [
        "DEBUG:root:timeDelta = 0, distanceDelta = %s, returning speed = 0\n"
       ]
      },
      {
       "output_type": "stream",
       "stream": "stderr",
       "text": [
        "DEBUG:root:timeDelta = 0, distanceDelta = %s, returning speed = 0\n"
       ]
      },
      {
       "output_type": "stream",
       "stream": "stderr",
       "text": [
        "DEBUG:root:timeDelta = 0, distanceDelta = %s, returning speed = 0\n"
       ]
      },
      {
       "output_type": "stream",
       "stream": "stderr",
       "text": [
        "DEBUG:root:timeDelta = 0, distanceDelta = %s, returning speed = 0\n"
       ]
      },
      {
       "output_type": "stream",
       "stream": "stderr",
       "text": [
        "DEBUG:root:timeDelta = 0, distanceDelta = %s, returning speed = 0\n"
       ]
      },
      {
       "output_type": "stream",
       "stream": "stderr",
       "text": [
        "DEBUG:root:timeDelta = 0, distanceDelta = %s, returning speed = 0\n"
       ]
      },
      {
       "output_type": "stream",
       "stream": "stderr",
       "text": [
        "DEBUG:root:timeDelta = 0, distanceDelta = %s, returning speed = 0\n"
       ]
      },
      {
       "output_type": "stream",
       "stream": "stderr",
       "text": [
        "DEBUG:root:timeDelta = 0, distanceDelta = %s, returning speed = 0\n"
       ]
      },
      {
       "output_type": "stream",
       "stream": "stderr",
       "text": [
        "DEBUG:root:timeDelta = 0, distanceDelta = %s, returning speed = 0\n"
       ]
      },
      {
       "output_type": "stream",
       "stream": "stderr",
       "text": [
        "DEBUG:root:timeDelta = 0, distanceDelta = %s, returning speed = 0\n"
       ]
      },
      {
       "output_type": "stream",
       "stream": "stderr",
       "text": [
        "DEBUG:root:timeDelta = 0, distanceDelta = %s, returning speed = 0\n"
       ]
      },
      {
       "output_type": "stream",
       "stream": "stderr",
       "text": [
        "DEBUG:root:timeDelta = 0, distanceDelta = %s, returning speed = 0\n"
       ]
      },
      {
       "output_type": "stream",
       "stream": "stderr",
       "text": [
        "DEBUG:root:timeDelta = 0, distanceDelta = %s, returning speed = 0\n"
       ]
      },
      {
       "output_type": "stream",
       "stream": "stderr",
       "text": [
        "DEBUG:root:timeDelta = 0, distanceDelta = %s, returning speed = 0\n"
       ]
      },
      {
       "output_type": "stream",
       "stream": "stderr",
       "text": [
        "DEBUG:root:timeDelta = 0, distanceDelta = %s, returning speed = 0\n"
       ]
      },
      {
       "output_type": "stream",
       "stream": "stderr",
       "text": [
        "DEBUG:root:timeDelta = 0, distanceDelta = %s, returning speed = 0\n"
       ]
      },
      {
       "output_type": "stream",
       "stream": "stderr",
       "text": [
        "DEBUG:root:timeDelta = 0, distanceDelta = %s, returning speed = 0\n"
       ]
      },
      {
       "output_type": "stream",
       "stream": "stderr",
       "text": [
        "DEBUG:root:timeDelta = 0, distanceDelta = %s, returning speed = 0\n"
       ]
      },
      {
       "output_type": "stream",
       "stream": "stderr",
       "text": [
        "DEBUG:root:timeDelta = 0, distanceDelta = %s, returning speed = 0\n"
       ]
      },
      {
       "output_type": "stream",
       "stream": "stderr",
       "text": [
        "DEBUG:root:timeDelta = 0, distanceDelta = %s, returning speed = 0\n"
       ]
      },
      {
       "output_type": "stream",
       "stream": "stderr",
       "text": [
        "DEBUG:root:timeDelta = 0, distanceDelta = %s, returning speed = 0\n"
       ]
      },
      {
       "output_type": "stream",
       "stream": "stderr",
       "text": [
        "DEBUG:root:timeDelta = 0, distanceDelta = %s, returning speed = 0\n"
       ]
      },
      {
       "output_type": "stream",
       "stream": "stderr",
       "text": [
        "DEBUG:root:timeDelta = 0, distanceDelta = %s, returning speed = 0\n"
       ]
      },
      {
       "output_type": "stream",
       "stream": "stderr",
       "text": [
        "DEBUG:root:timeDelta = 0, distanceDelta = %s, returning speed = 0\n"
       ]
      },
      {
       "output_type": "stream",
       "stream": "stderr",
       "text": [
        "DEBUG:root:timeDelta = 0, distanceDelta = %s, returning speed = 0\n"
       ]
      },
      {
       "output_type": "stream",
       "stream": "stderr",
       "text": [
        "DEBUG:root:timeDelta = 0, distanceDelta = %s, returning speed = 0\n"
       ]
      },
      {
       "output_type": "stream",
       "stream": "stderr",
       "text": [
        "DEBUG:root:timeDelta = 0, distanceDelta = %s, returning speed = 0\n"
       ]
      },
      {
       "output_type": "stream",
       "stream": "stderr",
       "text": [
        "DEBUG:root:timeDelta = 0, distanceDelta = %s, returning speed = 0\n"
       ]
      },
      {
       "output_type": "stream",
       "stream": "stderr",
       "text": [
        "DEBUG:root:timeDelta = 0, distanceDelta = %s, returning speed = 0\n"
       ]
      },
      {
       "output_type": "stream",
       "stream": "stderr",
       "text": [
        "DEBUG:root:timeDelta = 0, distanceDelta = %s, returning speed = 0\n"
       ]
      },
      {
       "output_type": "stream",
       "stream": "stderr",
       "text": [
        "DEBUG:root:timeDelta = 0, distanceDelta = %s, returning speed = 0\n"
       ]
      },
      {
       "output_type": "stream",
       "stream": "stderr",
       "text": [
        "DEBUG:root:timeDelta = 0, distanceDelta = %s, returning speed = 0\n"
       ]
      },
      {
       "output_type": "stream",
       "stream": "stderr",
       "text": [
        "DEBUG:root:timeDelta = 0, distanceDelta = %s, returning speed = 0\n"
       ]
      },
      {
       "output_type": "stream",
       "stream": "stderr",
       "text": [
        "DEBUG:root:timeDelta = 0, distanceDelta = %s, returning speed = 0\n"
       ]
      },
      {
       "output_type": "stream",
       "stream": "stderr",
       "text": [
        "DEBUG:root:timeDelta = 0, distanceDelta = %s, returning speed = 0\n"
       ]
      },
      {
       "output_type": "stream",
       "stream": "stderr",
       "text": [
        "DEBUG:root:timeDelta = 0, distanceDelta = %s, returning speed = 0\n"
       ]
      },
      {
       "output_type": "stream",
       "stream": "stderr",
       "text": [
        "DEBUG:root:timeDelta = 0, distanceDelta = %s, returning speed = 0\n"
       ]
      },
      {
       "output_type": "stream",
       "stream": "stderr",
       "text": [
        "DEBUG:root:timeDelta = 0, distanceDelta = %s, returning speed = 0\n"
       ]
      },
      {
       "output_type": "stream",
       "stream": "stderr",
       "text": [
        "DEBUG:root:timeDelta = 0, distanceDelta = %s, returning speed = 0\n"
       ]
      },
      {
       "output_type": "stream",
       "stream": "stderr",
       "text": [
        "DEBUG:root:timeDelta = 0, distanceDelta = %s, returning speed = 0\n"
       ]
      },
      {
       "output_type": "stream",
       "stream": "stderr",
       "text": [
        "DEBUG:root:timeDelta = 0, distanceDelta = %s, returning speed = 0\n"
       ]
      },
      {
       "output_type": "stream",
       "stream": "stderr",
       "text": [
        "DEBUG:root:timeDelta = 0, distanceDelta = %s, returning speed = 0\n"
       ]
      },
      {
       "output_type": "stream",
       "stream": "stderr",
       "text": [
        "DEBUG:root:timeDelta = 0, distanceDelta = %s, returning speed = 0\n"
       ]
      },
      {
       "output_type": "stream",
       "stream": "stderr",
       "text": [
        "DEBUG:root:timeDelta = 0, distanceDelta = %s, returning speed = 0\n"
       ]
      },
      {
       "output_type": "stream",
       "stream": "stderr",
       "text": [
        "DEBUG:root:timeDelta = 0, distanceDelta = %s, returning speed = 0\n"
       ]
      },
      {
       "output_type": "stream",
       "stream": "stderr",
       "text": [
        "DEBUG:root:timeDelta = 0, distanceDelta = %s, returning speed = 0\n"
       ]
      },
      {
       "output_type": "stream",
       "stream": "stderr",
       "text": [
        "DEBUG:root:timeDelta = 0, distanceDelta = %s, returning speed = 0\n"
       ]
      },
      {
       "output_type": "stream",
       "stream": "stderr",
       "text": [
        "DEBUG:root:timeDelta = 0, distanceDelta = %s, returning speed = 0\n"
       ]
      },
      {
       "output_type": "stream",
       "stream": "stderr",
       "text": [
        "DEBUG:root:timeDelta = 0, distanceDelta = %s, returning speed = 0\n"
       ]
      },
      {
       "output_type": "stream",
       "stream": "stderr",
       "text": [
        "DEBUG:root:timeDelta = 0, distanceDelta = %s, returning speed = 0\n"
       ]
      },
      {
       "output_type": "stream",
       "stream": "stderr",
       "text": [
        "DEBUG:root:timeDelta = 0, distanceDelta = %s, returning speed = 0\n"
       ]
      },
      {
       "output_type": "stream",
       "stream": "stderr",
       "text": [
        "DEBUG:root:timeDelta = 0, distanceDelta = %s, returning speed = 0\n"
       ]
      },
      {
       "output_type": "stream",
       "stream": "stderr",
       "text": [
        "DEBUG:root:timeDelta = 0, distanceDelta = %s, returning speed = 0\n"
       ]
      },
      {
       "output_type": "stream",
       "stream": "stderr",
       "text": [
        "DEBUG:root:timeDelta = 0, distanceDelta = %s, returning speed = 0\n"
       ]
      },
      {
       "output_type": "stream",
       "stream": "stderr",
       "text": [
        "DEBUG:root:timeDelta = 0, distanceDelta = %s, returning speed = 0\n"
       ]
      },
      {
       "output_type": "stream",
       "stream": "stderr",
       "text": [
        "DEBUG:root:timeDelta = 0, distanceDelta = %s, returning speed = 0\n"
       ]
      },
      {
       "output_type": "stream",
       "stream": "stderr",
       "text": [
        "DEBUG:root:timeDelta = 0, distanceDelta = %s, returning speed = 0\n"
       ]
      },
      {
       "output_type": "stream",
       "stream": "stderr",
       "text": [
        "DEBUG:root:timeDelta = 0, distanceDelta = %s, returning speed = 0\n"
       ]
      },
      {
       "output_type": "stream",
       "stream": "stderr",
       "text": [
        "DEBUG:root:timeDelta = 0, distanceDelta = %s, returning speed = 0\n"
       ]
      },
      {
       "output_type": "stream",
       "stream": "stderr",
       "text": [
        "DEBUG:root:timeDelta = 0, distanceDelta = %s, returning speed = 0\n"
       ]
      },
      {
       "output_type": "stream",
       "stream": "stderr",
       "text": [
        "DEBUG:root:timeDelta = 0, distanceDelta = %s, returning speed = 0\n"
       ]
      },
      {
       "output_type": "stream",
       "stream": "stderr",
       "text": [
        "DEBUG:root:timeDelta = 0, distanceDelta = %s, returning speed = 0\n"
       ]
      },
      {
       "output_type": "stream",
       "stream": "stderr",
       "text": [
        "DEBUG:root:timeDelta = 0, distanceDelta = %s, returning speed = 0\n"
       ]
      },
      {
       "output_type": "stream",
       "stream": "stderr",
       "text": [
        "DEBUG:root:timeDelta = 0, distanceDelta = %s, returning speed = 0\n"
       ]
      },
      {
       "output_type": "stream",
       "stream": "stderr",
       "text": [
        "DEBUG:root:timeDelta = 0, distanceDelta = %s, returning speed = 0\n"
       ]
      },
      {
       "output_type": "stream",
       "stream": "stderr",
       "text": [
        "DEBUG:root:timeDelta = 0, distanceDelta = %s, returning speed = 0\n"
       ]
      },
      {
       "output_type": "stream",
       "stream": "stderr",
       "text": [
        "DEBUG:root:timeDelta = 0, distanceDelta = %s, returning speed = 0\n"
       ]
      },
      {
       "output_type": "stream",
       "stream": "stderr",
       "text": [
        "DEBUG:root:timeDelta = 0, distanceDelta = %s, returning speed = 0\n"
       ]
      },
      {
       "output_type": "stream",
       "stream": "stderr",
       "text": [
        "DEBUG:root:timeDelta = 0, distanceDelta = %s, returning speed = 0\n"
       ]
      },
      {
       "output_type": "stream",
       "stream": "stderr",
       "text": [
        "DEBUG:root:timeDelta = 0, distanceDelta = %s, returning speed = 0\n"
       ]
      },
      {
       "output_type": "stream",
       "stream": "stderr",
       "text": [
        "DEBUG:root:timeDelta = 0, distanceDelta = %s, returning speed = 0\n"
       ]
      },
      {
       "output_type": "stream",
       "stream": "stderr",
       "text": [
        "DEBUG:root:timeDelta = 0, distanceDelta = %s, returning speed = 0\n"
       ]
      },
      {
       "output_type": "stream",
       "stream": "stderr",
       "text": [
        "DEBUG:root:timeDelta = 0, distanceDelta = %s, returning speed = 0\n"
       ]
      },
      {
       "output_type": "stream",
       "stream": "stderr",
       "text": [
        "DEBUG:root:timeDelta = 0, distanceDelta = %s, returning speed = 0\n"
       ]
      },
      {
       "output_type": "stream",
       "stream": "stderr",
       "text": [
        "DEBUG:root:timeDelta = 0, distanceDelta = %s, returning speed = 0\n"
       ]
      },
      {
       "output_type": "stream",
       "stream": "stderr",
       "text": [
        "DEBUG:root:timeDelta = 0, distanceDelta = %s, returning speed = 0\n"
       ]
      },
      {
       "output_type": "stream",
       "stream": "stderr",
       "text": [
        "DEBUG:root:timeDelta = 0, distanceDelta = %s, returning speed = 0\n"
       ]
      },
      {
       "output_type": "stream",
       "stream": "stderr",
       "text": [
        "DEBUG:root:timeDelta = 0, distanceDelta = %s, returning speed = 0\n"
       ]
      },
      {
       "output_type": "stream",
       "stream": "stderr",
       "text": [
        "DEBUG:root:timeDelta = 0, distanceDelta = %s, returning speed = 0\n"
       ]
      },
      {
       "output_type": "stream",
       "stream": "stderr",
       "text": [
        "DEBUG:root:timeDelta = 0, distanceDelta = %s, returning speed = 0\n"
       ]
      },
      {
       "output_type": "stream",
       "stream": "stderr",
       "text": [
        "DEBUG:root:timeDelta = 0, distanceDelta = %s, returning speed = 0\n"
       ]
      },
      {
       "output_type": "stream",
       "stream": "stderr",
       "text": [
        "DEBUG:root:timeDelta = 0, distanceDelta = %s, returning speed = 0\n"
       ]
      },
      {
       "output_type": "stream",
       "stream": "stderr",
       "text": [
        "DEBUG:root:timeDelta = 0, distanceDelta = %s, returning speed = 0\n"
       ]
      },
      {
       "output_type": "stream",
       "stream": "stderr",
       "text": [
        "DEBUG:root:timeDelta = 0, distanceDelta = %s, returning speed = 0\n"
       ]
      },
      {
       "output_type": "stream",
       "stream": "stderr",
       "text": [
        "DEBUG:root:timeDelta = 0, distanceDelta = %s, returning speed = 0\n"
       ]
      },
      {
       "output_type": "stream",
       "stream": "stderr",
       "text": [
        "DEBUG:root:timeDelta = 0, distanceDelta = %s, returning speed = 0\n"
       ]
      },
      {
       "output_type": "stream",
       "stream": "stderr",
       "text": [
        "DEBUG:root:timeDelta = 0, distanceDelta = %s, returning speed = 0\n"
       ]
      },
      {
       "output_type": "stream",
       "stream": "stderr",
       "text": [
        "DEBUG:root:timeDelta = 0, distanceDelta = %s, returning speed = 0\n"
       ]
      },
      {
       "output_type": "stream",
       "stream": "stderr",
       "text": [
        "DEBUG:root:timeDelta = 0, distanceDelta = %s, returning speed = 0\n"
       ]
      },
      {
       "output_type": "stream",
       "stream": "stderr",
       "text": [
        "DEBUG:root:timeDelta = 0, distanceDelta = %s, returning speed = 0\n"
       ]
      },
      {
       "output_type": "stream",
       "stream": "stderr",
       "text": [
        "DEBUG:root:timeDelta = 0, distanceDelta = %s, returning speed = 0\n"
       ]
      },
      {
       "output_type": "stream",
       "stream": "stderr",
       "text": [
        "DEBUG:root:timeDelta = 0, distanceDelta = %s, returning speed = 0\n"
       ]
      },
      {
       "output_type": "stream",
       "stream": "stderr",
       "text": [
        "DEBUG:root:timeDelta = 0, distanceDelta = %s, returning speed = 0\n"
       ]
      },
      {
       "output_type": "stream",
       "stream": "stderr",
       "text": [
        "DEBUG:root:timeDelta = 0, distanceDelta = %s, returning speed = 0\n"
       ]
      },
      {
       "output_type": "stream",
       "stream": "stderr",
       "text": [
        "DEBUG:root:timeDelta = 0, distanceDelta = %s, returning speed = 0\n"
       ]
      },
      {
       "output_type": "stream",
       "stream": "stderr",
       "text": [
        "DEBUG:root:timeDelta = 0, distanceDelta = %s, returning speed = 0\n"
       ]
      },
      {
       "output_type": "stream",
       "stream": "stderr",
       "text": [
        "DEBUG:root:timeDelta = 0, distanceDelta = %s, returning speed = 0\n"
       ]
      },
      {
       "output_type": "stream",
       "stream": "stderr",
       "text": [
        "DEBUG:root:timeDelta = 0, distanceDelta = %s, returning speed = 0\n"
       ]
      },
      {
       "output_type": "stream",
       "stream": "stderr",
       "text": [
        "DEBUG:root:timeDelta = 0, distanceDelta = %s, returning speed = 0\n"
       ]
      },
      {
       "output_type": "stream",
       "stream": "stderr",
       "text": [
        "DEBUG:root:timeDelta = 0, distanceDelta = %s, returning speed = 0\n"
       ]
      },
      {
       "output_type": "stream",
       "stream": "stderr",
       "text": [
        "DEBUG:root:timeDelta = 0, distanceDelta = %s, returning speed = 0\n"
       ]
      },
      {
       "output_type": "stream",
       "stream": "stderr",
       "text": [
        "DEBUG:root:timeDelta = 0, distanceDelta = %s, returning speed = 0\n"
       ]
      },
      {
       "output_type": "stream",
       "stream": "stderr",
       "text": [
        "DEBUG:root:timeDelta = 0, distanceDelta = %s, returning speed = 0\n"
       ]
      },
      {
       "output_type": "stream",
       "stream": "stderr",
       "text": [
        "DEBUG:root:timeDelta = 0, distanceDelta = %s, returning speed = 0\n"
       ]
      },
      {
       "output_type": "stream",
       "stream": "stderr",
       "text": [
        "DEBUG:root:timeDelta = 0, distanceDelta = %s, returning speed = 0\n"
       ]
      },
      {
       "output_type": "stream",
       "stream": "stderr",
       "text": [
        "DEBUG:root:timeDelta = 0, distanceDelta = %s, returning speed = 0\n"
       ]
      },
      {
       "output_type": "stream",
       "stream": "stderr",
       "text": [
        "DEBUG:root:timeDelta = 0, distanceDelta = %s, returning speed = 0\n"
       ]
      },
      {
       "output_type": "stream",
       "stream": "stderr",
       "text": [
        "DEBUG:root:timeDelta = 0, distanceDelta = %s, returning speed = 0\n"
       ]
      },
      {
       "output_type": "stream",
       "stream": "stderr",
       "text": [
        "DEBUG:root:timeDelta = 0, distanceDelta = %s, returning speed = 0\n"
       ]
      },
      {
       "output_type": "stream",
       "stream": "stderr",
       "text": [
        "DEBUG:root:timeDelta = 0, distanceDelta = %s, returning speed = 0\n"
       ]
      },
      {
       "output_type": "stream",
       "stream": "stderr",
       "text": [
        "DEBUG:root:timeDelta = 0, distanceDelta = %s, returning speed = 0\n"
       ]
      },
      {
       "output_type": "stream",
       "stream": "stderr",
       "text": [
        "DEBUG:root:timeDelta = 0, distanceDelta = %s, returning speed = 0\n"
       ]
      },
      {
       "output_type": "stream",
       "stream": "stderr",
       "text": [
        "DEBUG:root:timeDelta = 0, distanceDelta = %s, returning speed = 0\n"
       ]
      },
      {
       "output_type": "stream",
       "stream": "stderr",
       "text": [
        "DEBUG:root:timeDelta = 0, distanceDelta = %s, returning speed = 0\n"
       ]
      },
      {
       "output_type": "stream",
       "stream": "stderr",
       "text": [
        "DEBUG:root:timeDelta = 0, distanceDelta = %s, returning speed = 0\n"
       ]
      },
      {
       "output_type": "stream",
       "stream": "stderr",
       "text": [
        "DEBUG:root:timeDelta = 0, distanceDelta = %s, returning speed = 0\n"
       ]
      },
      {
       "output_type": "stream",
       "stream": "stderr",
       "text": [
        "DEBUG:root:timeDelta = 0, distanceDelta = %s, returning speed = 0\n"
       ]
      },
      {
       "output_type": "stream",
       "stream": "stderr",
       "text": [
        "DEBUG:root:timeDelta = 0, distanceDelta = %s, returning speed = 0\n"
       ]
      },
      {
       "output_type": "stream",
       "stream": "stderr",
       "text": [
        "DEBUG:root:timeDelta = 0, distanceDelta = %s, returning speed = 0\n"
       ]
      },
      {
       "output_type": "stream",
       "stream": "stderr",
       "text": [
        "DEBUG:root:timeDelta = 0, distanceDelta = %s, returning speed = 0\n"
       ]
      },
      {
       "output_type": "stream",
       "stream": "stderr",
       "text": [
        "DEBUG:root:timeDelta = 0, distanceDelta = %s, returning speed = 0\n"
       ]
      },
      {
       "output_type": "stream",
       "stream": "stderr",
       "text": [
        "DEBUG:root:timeDelta = 0, distanceDelta = %s, returning speed = 0\n"
       ]
      },
      {
       "output_type": "stream",
       "stream": "stderr",
       "text": [
        "DEBUG:root:timeDelta = 0, distanceDelta = %s, returning speed = 0\n"
       ]
      },
      {
       "output_type": "stream",
       "stream": "stderr",
       "text": [
        "DEBUG:root:timeDelta = 0, distanceDelta = %s, returning speed = 0\n"
       ]
      },
      {
       "output_type": "stream",
       "stream": "stderr",
       "text": [
        "DEBUG:root:timeDelta = 0, distanceDelta = %s, returning speed = 0\n"
       ]
      },
      {
       "output_type": "stream",
       "stream": "stderr",
       "text": [
        "DEBUG:root:timeDelta = 0, distanceDelta = %s, returning speed = 0\n"
       ]
      },
      {
       "output_type": "stream",
       "stream": "stderr",
       "text": [
        "DEBUG:root:timeDelta = 0, distanceDelta = %s, returning speed = 0\n"
       ]
      },
      {
       "output_type": "stream",
       "stream": "stderr",
       "text": [
        "DEBUG:root:timeDelta = 0, distanceDelta = %s, returning speed = 0\n"
       ]
      },
      {
       "output_type": "stream",
       "stream": "stderr",
       "text": [
        "DEBUG:root:timeDelta = 0, distanceDelta = %s, returning speed = 0\n"
       ]
      },
      {
       "output_type": "stream",
       "stream": "stderr",
       "text": [
        "DEBUG:root:timeDelta = 0, distanceDelta = %s, returning speed = 0\n"
       ]
      },
      {
       "output_type": "stream",
       "stream": "stderr",
       "text": [
        "DEBUG:root:timeDelta = 0, distanceDelta = %s, returning speed = 0\n"
       ]
      },
      {
       "output_type": "stream",
       "stream": "stderr",
       "text": [
        "DEBUG:root:timeDelta = 0, distanceDelta = %s, returning speed = 0\n"
       ]
      },
      {
       "output_type": "stream",
       "stream": "stderr",
       "text": [
        "DEBUG:root:timeDelta = 0, distanceDelta = %s, returning speed = 0\n"
       ]
      },
      {
       "output_type": "stream",
       "stream": "stderr",
       "text": [
        "DEBUG:root:timeDelta = 0, distanceDelta = %s, returning speed = 0\n"
       ]
      },
      {
       "output_type": "stream",
       "stream": "stderr",
       "text": [
        "DEBUG:root:timeDelta = 0, distanceDelta = %s, returning speed = 0\n"
       ]
      },
      {
       "output_type": "stream",
       "stream": "stderr",
       "text": [
        "DEBUG:root:timeDelta = 0, distanceDelta = %s, returning speed = 0\n"
       ]
      },
      {
       "output_type": "stream",
       "stream": "stderr",
       "text": [
        "DEBUG:root:timeDelta = 0, distanceDelta = %s, returning speed = 0\n"
       ]
      },
      {
       "output_type": "stream",
       "stream": "stderr",
       "text": [
        "DEBUG:root:timeDelta = 0, distanceDelta = %s, returning speed = 0\n"
       ]
      },
      {
       "output_type": "stream",
       "stream": "stderr",
       "text": [
        "DEBUG:root:timeDelta = 0, distanceDelta = %s, returning speed = 0\n"
       ]
      },
      {
       "output_type": "stream",
       "stream": "stderr",
       "text": [
        "DEBUG:root:timeDelta = 0, distanceDelta = %s, returning speed = 0\n"
       ]
      },
      {
       "output_type": "stream",
       "stream": "stderr",
       "text": [
        "DEBUG:root:timeDelta = 0, distanceDelta = %s, returning speed = 0\n"
       ]
      },
      {
       "output_type": "stream",
       "stream": "stderr",
       "text": [
        "DEBUG:root:timeDelta = 0, distanceDelta = %s, returning speed = 0\n"
       ]
      },
      {
       "output_type": "stream",
       "stream": "stderr",
       "text": [
        "DEBUG:root:timeDelta = 0, distanceDelta = %s, returning speed = 0\n"
       ]
      },
      {
       "output_type": "stream",
       "stream": "stderr",
       "text": [
        "DEBUG:root:timeDelta = 0, distanceDelta = %s, returning speed = 0\n"
       ]
      },
      {
       "output_type": "stream",
       "stream": "stderr",
       "text": [
        "DEBUG:root:timeDelta = 0, distanceDelta = %s, returning speed = 0\n"
       ]
      },
      {
       "output_type": "stream",
       "stream": "stderr",
       "text": [
        "DEBUG:root:timeDelta = 0, distanceDelta = %s, returning speed = 0\n"
       ]
      },
      {
       "output_type": "stream",
       "stream": "stderr",
       "text": [
        "DEBUG:root:timeDelta = 0, distanceDelta = %s, returning speed = 0\n"
       ]
      },
      {
       "output_type": "stream",
       "stream": "stderr",
       "text": [
        "DEBUG:root:timeDelta = 0, distanceDelta = %s, returning speed = 0\n"
       ]
      },
      {
       "output_type": "stream",
       "stream": "stderr",
       "text": [
        "DEBUG:root:timeDelta = 0, distanceDelta = %s, returning speed = 0\n"
       ]
      },
      {
       "output_type": "stream",
       "stream": "stderr",
       "text": [
        "DEBUG:root:timeDelta = 0, distanceDelta = %s, returning speed = 0\n"
       ]
      },
      {
       "output_type": "stream",
       "stream": "stderr",
       "text": [
        "DEBUG:root:timeDelta = 0, distanceDelta = %s, returning speed = 0\n"
       ]
      },
      {
       "output_type": "stream",
       "stream": "stderr",
       "text": [
        "DEBUG:root:timeDelta = 0, distanceDelta = %s, returning speed = 0\n"
       ]
      },
      {
       "output_type": "stream",
       "stream": "stderr",
       "text": [
        "DEBUG:root:timeDelta = 0, distanceDelta = %s, returning speed = 0\n"
       ]
      },
      {
       "output_type": "stream",
       "stream": "stderr",
       "text": [
        "DEBUG:root:timeDelta = 0, distanceDelta = %s, returning speed = 0\n"
       ]
      },
      {
       "output_type": "stream",
       "stream": "stderr",
       "text": [
        "DEBUG:root:timeDelta = 0, distanceDelta = %s, returning speed = 0\n"
       ]
      },
      {
       "output_type": "stream",
       "stream": "stderr",
       "text": [
        "DEBUG:root:timeDelta = 0, distanceDelta = %s, returning speed = 0\n"
       ]
      },
      {
       "output_type": "stream",
       "stream": "stderr",
       "text": [
        "DEBUG:root:timeDelta = 0, distanceDelta = %s, returning speed = 0\n"
       ]
      },
      {
       "output_type": "stream",
       "stream": "stderr",
       "text": [
        "DEBUG:root:timeDelta = 0, distanceDelta = %s, returning speed = 0\n"
       ]
      },
      {
       "output_type": "stream",
       "stream": "stderr",
       "text": [
        "DEBUG:root:timeDelta = 0, distanceDelta = %s, returning speed = 0\n"
       ]
      },
      {
       "output_type": "stream",
       "stream": "stderr",
       "text": [
        "DEBUG:root:timeDelta = 0, distanceDelta = %s, returning speed = 0\n"
       ]
      },
      {
       "output_type": "stream",
       "stream": "stderr",
       "text": [
        "DEBUG:root:timeDelta = 0, distanceDelta = %s, returning speed = 0\n"
       ]
      },
      {
       "output_type": "stream",
       "stream": "stderr",
       "text": [
        "DEBUG:root:timeDelta = 0, distanceDelta = %s, returning speed = 0\n"
       ]
      },
      {
       "output_type": "stream",
       "stream": "stderr",
       "text": [
        "DEBUG:root:timeDelta = 0, distanceDelta = %s, returning speed = 0\n"
       ]
      },
      {
       "output_type": "stream",
       "stream": "stderr",
       "text": [
        "DEBUG:root:timeDelta = 0, distanceDelta = %s, returning speed = 0\n"
       ]
      },
      {
       "output_type": "stream",
       "stream": "stderr",
       "text": [
        "DEBUG:root:timeDelta = 0, distanceDelta = %s, returning speed = 0\n"
       ]
      },
      {
       "output_type": "stream",
       "stream": "stderr",
       "text": [
        "DEBUG:root:timeDelta = 0, distanceDelta = %s, returning speed = 0\n"
       ]
      },
      {
       "output_type": "stream",
       "stream": "stderr",
       "text": [
        "DEBUG:root:timeDelta = 0, distanceDelta = %s, returning speed = 0\n"
       ]
      },
      {
       "output_type": "stream",
       "stream": "stderr",
       "text": [
        "DEBUG:root:timeDelta = 0, distanceDelta = %s, returning speed = 0\n"
       ]
      },
      {
       "output_type": "stream",
       "stream": "stderr",
       "text": [
        "DEBUG:root:timeDelta = 0, distanceDelta = %s, returning speed = 0\n"
       ]
      },
      {
       "output_type": "stream",
       "stream": "stderr",
       "text": [
        "DEBUG:root:timeDelta = 0, distanceDelta = %s, returning speed = 0\n"
       ]
      },
      {
       "output_type": "stream",
       "stream": "stderr",
       "text": [
        "DEBUG:root:timeDelta = 0, distanceDelta = %s, returning speed = 0\n"
       ]
      },
      {
       "output_type": "stream",
       "stream": "stderr",
       "text": [
        "DEBUG:root:timeDelta = 0, distanceDelta = %s, returning speed = 0\n"
       ]
      },
      {
       "output_type": "stream",
       "stream": "stderr",
       "text": [
        "DEBUG:root:timeDelta = 0, distanceDelta = %s, returning speed = 0\n"
       ]
      },
      {
       "output_type": "stream",
       "stream": "stderr",
       "text": [
        "DEBUG:root:timeDelta = 0, distanceDelta = %s, returning speed = 0\n"
       ]
      },
      {
       "output_type": "stream",
       "stream": "stderr",
       "text": [
        "DEBUG:root:timeDelta = 0, distanceDelta = %s, returning speed = 0\n"
       ]
      },
      {
       "output_type": "stream",
       "stream": "stderr",
       "text": [
        "DEBUG:root:timeDelta = 0, distanceDelta = %s, returning speed = 0\n"
       ]
      },
      {
       "output_type": "stream",
       "stream": "stderr",
       "text": [
        "DEBUG:root:timeDelta = 0, distanceDelta = %s, returning speed = 0\n"
       ]
      },
      {
       "output_type": "stream",
       "stream": "stderr",
       "text": [
        "DEBUG:root:timeDelta = 0, distanceDelta = %s, returning speed = 0\n"
       ]
      },
      {
       "output_type": "stream",
       "stream": "stderr",
       "text": [
        "DEBUG:root:timeDelta = 0, distanceDelta = %s, returning speed = 0\n"
       ]
      },
      {
       "output_type": "stream",
       "stream": "stderr",
       "text": [
        "DEBUG:root:timeDelta = 0, distanceDelta = %s, returning speed = 0\n"
       ]
      },
      {
       "output_type": "stream",
       "stream": "stderr",
       "text": [
        "DEBUG:root:timeDelta = 0, distanceDelta = %s, returning speed = 0\n"
       ]
      },
      {
       "output_type": "stream",
       "stream": "stderr",
       "text": [
        "DEBUG:root:timeDelta = 0, distanceDelta = %s, returning speed = 0\n"
       ]
      },
      {
       "output_type": "stream",
       "stream": "stderr",
       "text": [
        "DEBUG:root:timeDelta = 0, distanceDelta = %s, returning speed = 0\n"
       ]
      },
      {
       "output_type": "stream",
       "stream": "stderr",
       "text": [
        "DEBUG:root:timeDelta = 0, distanceDelta = %s, returning speed = 0\n"
       ]
      },
      {
       "output_type": "stream",
       "stream": "stderr",
       "text": [
        "DEBUG:root:timeDelta = 0, distanceDelta = %s, returning speed = 0\n"
       ]
      },
      {
       "output_type": "stream",
       "stream": "stderr",
       "text": [
        "DEBUG:root:timeDelta = 0, distanceDelta = %s, returning speed = 0\n"
       ]
      },
      {
       "output_type": "stream",
       "stream": "stderr",
       "text": [
        "DEBUG:root:timeDelta = 0, distanceDelta = %s, returning speed = 0\n"
       ]
      },
      {
       "output_type": "stream",
       "stream": "stderr",
       "text": [
        "DEBUG:root:timeDelta = 0, distanceDelta = %s, returning speed = 0\n"
       ]
      },
      {
       "output_type": "stream",
       "stream": "stderr",
       "text": [
        "DEBUG:root:timeDelta = 0, distanceDelta = %s, returning speed = 0\n"
       ]
      },
      {
       "output_type": "stream",
       "stream": "stderr",
       "text": [
        "DEBUG:root:timeDelta = 0, distanceDelta = %s, returning speed = 0\n"
       ]
      },
      {
       "output_type": "stream",
       "stream": "stderr",
       "text": [
        "DEBUG:root:timeDelta = 0, distanceDelta = %s, returning speed = 0\n"
       ]
      },
      {
       "output_type": "stream",
       "stream": "stderr",
       "text": [
        "DEBUG:root:timeDelta = 0, distanceDelta = %s, returning speed = 0\n"
       ]
      },
      {
       "output_type": "stream",
       "stream": "stderr",
       "text": [
        "DEBUG:root:timeDelta = 0, distanceDelta = %s, returning speed = 0\n"
       ]
      },
      {
       "output_type": "stream",
       "stream": "stderr",
       "text": [
        "DEBUG:root:timeDelta = 0, distanceDelta = %s, returning speed = 0\n"
       ]
      },
      {
       "output_type": "stream",
       "stream": "stderr",
       "text": [
        "DEBUG:root:timeDelta = 0, distanceDelta = %s, returning speed = 0\n"
       ]
      },
      {
       "output_type": "stream",
       "stream": "stderr",
       "text": [
        "DEBUG:root:timeDelta = 0, distanceDelta = %s, returning speed = 0\n"
       ]
      },
      {
       "output_type": "stream",
       "stream": "stderr",
       "text": [
        "DEBUG:root:timeDelta = 0, distanceDelta = %s, returning speed = 0\n"
       ]
      },
      {
       "output_type": "stream",
       "stream": "stderr",
       "text": [
        "DEBUG:root:timeDelta = 0, distanceDelta = %s, returning speed = 0\n"
       ]
      },
      {
       "output_type": "stream",
       "stream": "stderr",
       "text": [
        "DEBUG:root:timeDelta = 0, distanceDelta = %s, returning speed = 0\n"
       ]
      },
      {
       "output_type": "stream",
       "stream": "stderr",
       "text": [
        "DEBUG:root:timeDelta = 0, distanceDelta = %s, returning speed = 0\n"
       ]
      },
      {
       "output_type": "stream",
       "stream": "stderr",
       "text": [
        "DEBUG:root:timeDelta = 0, distanceDelta = %s, returning speed = 0\n"
       ]
      },
      {
       "output_type": "stream",
       "stream": "stderr",
       "text": [
        "DEBUG:root:timeDelta = 0, distanceDelta = %s, returning speed = 0\n"
       ]
      },
      {
       "output_type": "stream",
       "stream": "stderr",
       "text": [
        "DEBUG:root:timeDelta = 0, distanceDelta = %s, returning speed = 0\n"
       ]
      },
      {
       "output_type": "stream",
       "stream": "stderr",
       "text": [
        "DEBUG:root:timeDelta = 0, distanceDelta = %s, returning speed = 0\n"
       ]
      },
      {
       "output_type": "stream",
       "stream": "stderr",
       "text": [
        "DEBUG:root:timeDelta = 0, distanceDelta = %s, returning speed = 0\n"
       ]
      },
      {
       "output_type": "stream",
       "stream": "stderr",
       "text": [
        "DEBUG:root:timeDelta = 0, distanceDelta = %s, returning speed = 0\n"
       ]
      },
      {
       "output_type": "stream",
       "stream": "stderr",
       "text": [
        "DEBUG:root:timeDelta = 0, distanceDelta = %s, returning speed = 0\n"
       ]
      },
      {
       "output_type": "stream",
       "stream": "stderr",
       "text": [
        "DEBUG:root:timeDelta = 0, distanceDelta = %s, returning speed = 0\n"
       ]
      },
      {
       "output_type": "stream",
       "stream": "stderr",
       "text": [
        "DEBUG:root:timeDelta = 0, distanceDelta = %s, returning speed = 0\n"
       ]
      },
      {
       "output_type": "stream",
       "stream": "stderr",
       "text": [
        "DEBUG:root:timeDelta = 0, distanceDelta = %s, returning speed = 0\n"
       ]
      },
      {
       "output_type": "stream",
       "stream": "stderr",
       "text": [
        "DEBUG:root:timeDelta = 0, distanceDelta = %s, returning speed = 0\n"
       ]
      },
      {
       "output_type": "stream",
       "stream": "stderr",
       "text": [
        "DEBUG:root:timeDelta = 0, distanceDelta = %s, returning speed = 0\n"
       ]
      },
      {
       "output_type": "stream",
       "stream": "stderr",
       "text": [
        "DEBUG:root:timeDelta = 0, distanceDelta = %s, returning speed = 0\n"
       ]
      },
      {
       "output_type": "stream",
       "stream": "stderr",
       "text": [
        "DEBUG:root:timeDelta = 0, distanceDelta = %s, returning speed = 0\n"
       ]
      },
      {
       "output_type": "stream",
       "stream": "stderr",
       "text": [
        "DEBUG:root:timeDelta = 0, distanceDelta = %s, returning speed = 0\n"
       ]
      },
      {
       "output_type": "stream",
       "stream": "stderr",
       "text": [
        "DEBUG:root:timeDelta = 0, distanceDelta = %s, returning speed = 0\n"
       ]
      },
      {
       "output_type": "stream",
       "stream": "stderr",
       "text": [
        "DEBUG:root:timeDelta = 0, distanceDelta = %s, returning speed = 0\n"
       ]
      },
      {
       "output_type": "stream",
       "stream": "stderr",
       "text": [
        "DEBUG:root:timeDelta = 0, distanceDelta = %s, returning speed = 0\n"
       ]
      },
      {
       "output_type": "stream",
       "stream": "stderr",
       "text": [
        "DEBUG:root:timeDelta = 0, distanceDelta = %s, returning speed = 0\n"
       ]
      },
      {
       "output_type": "stream",
       "stream": "stderr",
       "text": [
        "DEBUG:root:timeDelta = 0, distanceDelta = %s, returning speed = 0\n"
       ]
      },
      {
       "output_type": "stream",
       "stream": "stderr",
       "text": [
        "DEBUG:root:timeDelta = 0, distanceDelta = %s, returning speed = 0\n"
       ]
      },
      {
       "output_type": "stream",
       "stream": "stderr",
       "text": [
        "DEBUG:root:timeDelta = 0, distanceDelta = %s, returning speed = 0\n"
       ]
      },
      {
       "output_type": "stream",
       "stream": "stderr",
       "text": [
        "DEBUG:root:timeDelta = 0, distanceDelta = %s, returning speed = 0\n"
       ]
      },
      {
       "output_type": "stream",
       "stream": "stderr",
       "text": [
        "DEBUG:root:timeDelta = 0, distanceDelta = %s, returning speed = 0\n"
       ]
      },
      {
       "output_type": "stream",
       "stream": "stderr",
       "text": [
        "DEBUG:root:timeDelta = 0, distanceDelta = %s, returning speed = 0\n"
       ]
      },
      {
       "output_type": "stream",
       "stream": "stderr",
       "text": [
        "DEBUG:root:timeDelta = 0, distanceDelta = %s, returning speed = 0\n"
       ]
      },
      {
       "output_type": "stream",
       "stream": "stderr",
       "text": [
        "DEBUG:root:timeDelta = 0, distanceDelta = %s, returning speed = 0\n"
       ]
      },
      {
       "output_type": "stream",
       "stream": "stderr",
       "text": [
        "DEBUG:root:timeDelta = 0, distanceDelta = %s, returning speed = 0\n"
       ]
      },
      {
       "output_type": "stream",
       "stream": "stderr",
       "text": [
        "DEBUG:root:timeDelta = 0, distanceDelta = %s, returning speed = 0\n"
       ]
      },
      {
       "output_type": "stream",
       "stream": "stderr",
       "text": [
        "DEBUG:root:timeDelta = 0, distanceDelta = %s, returning speed = 0\n"
       ]
      },
      {
       "output_type": "stream",
       "stream": "stderr",
       "text": [
        "DEBUG:root:timeDelta = 0, distanceDelta = %s, returning speed = 0\n"
       ]
      },
      {
       "output_type": "stream",
       "stream": "stderr",
       "text": [
        "DEBUG:root:timeDelta = 0, distanceDelta = %s, returning speed = 0\n"
       ]
      },
      {
       "output_type": "stream",
       "stream": "stderr",
       "text": [
        "DEBUG:root:timeDelta = 0, distanceDelta = %s, returning speed = 0\n"
       ]
      },
      {
       "output_type": "stream",
       "stream": "stderr",
       "text": [
        "DEBUG:root:timeDelta = 0, distanceDelta = %s, returning speed = 0\n"
       ]
      },
      {
       "output_type": "stream",
       "stream": "stderr",
       "text": [
        "DEBUG:root:timeDelta = 0, distanceDelta = %s, returning speed = 0\n"
       ]
      },
      {
       "output_type": "stream",
       "stream": "stderr",
       "text": [
        "DEBUG:root:timeDelta = 0, distanceDelta = %s, returning speed = 0\n"
       ]
      },
      {
       "output_type": "stream",
       "stream": "stderr",
       "text": [
        "DEBUG:root:timeDelta = 0, distanceDelta = %s, returning speed = 0\n"
       ]
      },
      {
       "output_type": "stream",
       "stream": "stderr",
       "text": [
        "DEBUG:root:timeDelta = 0, distanceDelta = %s, returning speed = 0\n"
       ]
      },
      {
       "output_type": "stream",
       "stream": "stderr",
       "text": [
        "DEBUG:root:timeDelta = 0, distanceDelta = %s, returning speed = 0\n"
       ]
      },
      {
       "output_type": "stream",
       "stream": "stderr",
       "text": [
        "DEBUG:root:timeDelta = 0, distanceDelta = %s, returning speed = 0\n"
       ]
      },
      {
       "output_type": "stream",
       "stream": "stderr",
       "text": [
        "DEBUG:root:timeDelta = 0, distanceDelta = %s, returning speed = 0\n"
       ]
      },
      {
       "output_type": "stream",
       "stream": "stderr",
       "text": [
        "DEBUG:root:timeDelta = 0, distanceDelta = %s, returning speed = 0\n"
       ]
      },
      {
       "output_type": "stream",
       "stream": "stderr",
       "text": [
        "DEBUG:root:timeDelta = 0, distanceDelta = %s, returning speed = 0\n"
       ]
      },
      {
       "output_type": "stream",
       "stream": "stderr",
       "text": [
        "DEBUG:root:timeDelta = 0, distanceDelta = %s, returning speed = 0\n"
       ]
      },
      {
       "output_type": "stream",
       "stream": "stderr",
       "text": [
        "DEBUG:root:timeDelta = 0, distanceDelta = %s, returning speed = 0\n"
       ]
      },
      {
       "output_type": "stream",
       "stream": "stderr",
       "text": [
        "DEBUG:root:timeDelta = 0, distanceDelta = %s, returning speed = 0\n"
       ]
      },
      {
       "output_type": "stream",
       "stream": "stderr",
       "text": [
        "DEBUG:root:timeDelta = 0, distanceDelta = %s, returning speed = 0\n"
       ]
      },
      {
       "output_type": "stream",
       "stream": "stderr",
       "text": [
        "DEBUG:root:timeDelta = 0, distanceDelta = %s, returning speed = 0\n"
       ]
      },
      {
       "output_type": "stream",
       "stream": "stderr",
       "text": [
        "DEBUG:root:timeDelta = 0, distanceDelta = %s, returning speed = 0\n"
       ]
      },
      {
       "output_type": "stream",
       "stream": "stderr",
       "text": [
        "DEBUG:root:timeDelta = 0, distanceDelta = %s, returning speed = 0\n"
       ]
      },
      {
       "output_type": "stream",
       "stream": "stderr",
       "text": [
        "DEBUG:root:timeDelta = 0, distanceDelta = %s, returning speed = 0\n"
       ]
      },
      {
       "output_type": "stream",
       "stream": "stderr",
       "text": [
        "DEBUG:root:timeDelta = 0, distanceDelta = %s, returning speed = 0\n"
       ]
      },
      {
       "output_type": "stream",
       "stream": "stderr",
       "text": [
        "DEBUG:root:timeDelta = 0, distanceDelta = %s, returning speed = 0\n"
       ]
      },
      {
       "output_type": "stream",
       "stream": "stderr",
       "text": [
        "DEBUG:root:timeDelta = 0, distanceDelta = %s, returning speed = 0\n"
       ]
      },
      {
       "output_type": "stream",
       "stream": "stderr",
       "text": [
        "DEBUG:root:timeDelta = 0, distanceDelta = %s, returning speed = 0\n"
       ]
      },
      {
       "output_type": "stream",
       "stream": "stderr",
       "text": [
        "DEBUG:root:timeDelta = 0, distanceDelta = %s, returning speed = 0\n"
       ]
      },
      {
       "output_type": "stream",
       "stream": "stderr",
       "text": [
        "DEBUG:root:timeDelta = 0, distanceDelta = %s, returning speed = 0\n"
       ]
      },
      {
       "output_type": "stream",
       "stream": "stderr",
       "text": [
        "DEBUG:root:timeDelta = 0, distanceDelta = %s, returning speed = 0\n"
       ]
      },
      {
       "output_type": "stream",
       "stream": "stderr",
       "text": [
        "DEBUG:root:timeDelta = 0, distanceDelta = %s, returning speed = 0\n"
       ]
      },
      {
       "output_type": "stream",
       "stream": "stderr",
       "text": [
        "DEBUG:root:timeDelta = 0, distanceDelta = %s, returning speed = 0\n"
       ]
      },
      {
       "output_type": "stream",
       "stream": "stderr",
       "text": [
        "DEBUG:root:timeDelta = 0, distanceDelta = %s, returning speed = 0\n"
       ]
      },
      {
       "output_type": "stream",
       "stream": "stderr",
       "text": [
        "DEBUG:root:timeDelta = 0, distanceDelta = %s, returning speed = 0\n"
       ]
      },
      {
       "output_type": "stream",
       "stream": "stderr",
       "text": [
        "DEBUG:root:timeDelta = 0, distanceDelta = %s, returning speed = 0\n"
       ]
      },
      {
       "output_type": "stream",
       "stream": "stderr",
       "text": [
        "DEBUG:root:timeDelta = 0, distanceDelta = %s, returning speed = 0\n"
       ]
      },
      {
       "output_type": "stream",
       "stream": "stderr",
       "text": [
        "DEBUG:root:timeDelta = 0, distanceDelta = %s, returning speed = 0\n"
       ]
      },
      {
       "output_type": "stream",
       "stream": "stderr",
       "text": [
        "DEBUG:root:timeDelta = 0, distanceDelta = %s, returning speed = 0\n"
       ]
      },
      {
       "output_type": "stream",
       "stream": "stderr",
       "text": [
        "DEBUG:root:timeDelta = 0, distanceDelta = %s, returning speed = 0\n"
       ]
      },
      {
       "output_type": "stream",
       "stream": "stderr",
       "text": [
        "DEBUG:root:timeDelta = 0, distanceDelta = %s, returning speed = 0\n"
       ]
      },
      {
       "output_type": "stream",
       "stream": "stderr",
       "text": [
        "DEBUG:root:timeDelta = 0, distanceDelta = %s, returning speed = 0\n"
       ]
      },
      {
       "output_type": "stream",
       "stream": "stderr",
       "text": [
        "DEBUG:root:timeDelta = 0, distanceDelta = %s, returning speed = 0\n"
       ]
      },
      {
       "output_type": "stream",
       "stream": "stderr",
       "text": [
        "DEBUG:root:timeDelta = 0, distanceDelta = %s, returning speed = 0\n"
       ]
      },
      {
       "output_type": "stream",
       "stream": "stderr",
       "text": [
        "DEBUG:root:timeDelta = 0, distanceDelta = %s, returning speed = 0\n"
       ]
      },
      {
       "output_type": "stream",
       "stream": "stderr",
       "text": [
        "DEBUG:root:timeDelta = 0, distanceDelta = %s, returning speed = 0\n"
       ]
      },
      {
       "output_type": "stream",
       "stream": "stderr",
       "text": [
        "DEBUG:root:timeDelta = 0, distanceDelta = %s, returning speed = 0\n"
       ]
      },
      {
       "output_type": "stream",
       "stream": "stderr",
       "text": [
        "DEBUG:root:timeDelta = 0, distanceDelta = %s, returning speed = 0\n"
       ]
      },
      {
       "output_type": "stream",
       "stream": "stderr",
       "text": [
        "DEBUG:root:timeDelta = 0, distanceDelta = %s, returning speed = 0\n"
       ]
      },
      {
       "output_type": "stream",
       "stream": "stderr",
       "text": [
        "DEBUG:root:timeDelta = 0, distanceDelta = %s, returning speed = 0\n"
       ]
      },
      {
       "output_type": "stream",
       "stream": "stderr",
       "text": [
        "DEBUG:root:timeDelta = 0, distanceDelta = %s, returning speed = 0\n"
       ]
      },
      {
       "output_type": "stream",
       "stream": "stderr",
       "text": [
        "DEBUG:root:timeDelta = 0, distanceDelta = %s, returning speed = 0\n"
       ]
      },
      {
       "output_type": "stream",
       "stream": "stderr",
       "text": [
        "DEBUG:root:timeDelta = 0, distanceDelta = %s, returning speed = 0\n"
       ]
      },
      {
       "output_type": "stream",
       "stream": "stderr",
       "text": [
        "DEBUG:root:timeDelta = 0, distanceDelta = %s, returning speed = 0\n"
       ]
      },
      {
       "output_type": "stream",
       "stream": "stderr",
       "text": [
        "DEBUG:root:timeDelta = 0, distanceDelta = %s, returning speed = 0\n"
       ]
      },
      {
       "output_type": "stream",
       "stream": "stderr",
       "text": [
        "DEBUG:root:timeDelta = 0, distanceDelta = %s, returning speed = 0\n"
       ]
      },
      {
       "output_type": "stream",
       "stream": "stderr",
       "text": [
        "DEBUG:root:timeDelta = 0, distanceDelta = %s, returning speed = 0\n"
       ]
      },
      {
       "output_type": "stream",
       "stream": "stderr",
       "text": [
        "DEBUG:root:timeDelta = 0, distanceDelta = %s, returning speed = 0\n"
       ]
      },
      {
       "output_type": "stream",
       "stream": "stderr",
       "text": [
        "DEBUG:root:timeDelta = 0, distanceDelta = %s, returning speed = 0\n"
       ]
      },
      {
       "output_type": "stream",
       "stream": "stderr",
       "text": [
        "DEBUG:root:timeDelta = 0, distanceDelta = %s, returning speed = 0\n"
       ]
      },
      {
       "output_type": "stream",
       "stream": "stderr",
       "text": [
        "DEBUG:root:timeDelta = 0, distanceDelta = %s, returning speed = 0\n"
       ]
      },
      {
       "output_type": "stream",
       "stream": "stderr",
       "text": [
        "DEBUG:root:timeDelta = 0, distanceDelta = %s, returning speed = 0\n"
       ]
      },
      {
       "output_type": "stream",
       "stream": "stderr",
       "text": [
        "DEBUG:root:timeDelta = 0, distanceDelta = %s, returning speed = 0\n"
       ]
      },
      {
       "output_type": "stream",
       "stream": "stderr",
       "text": [
        "DEBUG:root:timeDelta = 0, distanceDelta = %s, returning speed = 0\n"
       ]
      },
      {
       "output_type": "stream",
       "stream": "stderr",
       "text": [
        "DEBUG:root:timeDelta = 0, distanceDelta = %s, returning speed = 0\n"
       ]
      },
      {
       "output_type": "stream",
       "stream": "stderr",
       "text": [
        "DEBUG:root:timeDelta = 0, distanceDelta = %s, returning speed = 0\n"
       ]
      },
      {
       "output_type": "stream",
       "stream": "stderr",
       "text": [
        "DEBUG:root:timeDelta = 0, distanceDelta = %s, returning speed = 0\n"
       ]
      },
      {
       "output_type": "stream",
       "stream": "stderr",
       "text": [
        "DEBUG:root:timeDelta = 0, distanceDelta = %s, returning speed = 0\n"
       ]
      },
      {
       "output_type": "stream",
       "stream": "stderr",
       "text": [
        "DEBUG:root:timeDelta = 0, distanceDelta = %s, returning speed = 0\n"
       ]
      },
      {
       "output_type": "stream",
       "stream": "stderr",
       "text": [
        "DEBUG:root:timeDelta = 0, distanceDelta = %s, returning speed = 0\n"
       ]
      },
      {
       "output_type": "stream",
       "stream": "stderr",
       "text": [
        "DEBUG:root:timeDelta = 0, distanceDelta = %s, returning speed = 0\n"
       ]
      },
      {
       "output_type": "stream",
       "stream": "stderr",
       "text": [
        "DEBUG:root:timeDelta = 0, distanceDelta = %s, returning speed = 0\n"
       ]
      },
      {
       "output_type": "stream",
       "stream": "stderr",
       "text": [
        "DEBUG:root:timeDelta = 0, distanceDelta = %s, returning speed = 0\n"
       ]
      },
      {
       "output_type": "stream",
       "stream": "stderr",
       "text": [
        "DEBUG:root:timeDelta = 0, distanceDelta = %s, returning speed = 0\n"
       ]
      },
      {
       "output_type": "stream",
       "stream": "stderr",
       "text": [
        "DEBUG:root:timeDelta = 0, distanceDelta = %s, returning speed = 0\n"
       ]
      },
      {
       "output_type": "stream",
       "stream": "stderr",
       "text": [
        "DEBUG:root:timeDelta = 0, distanceDelta = %s, returning speed = 0\n"
       ]
      },
      {
       "output_type": "stream",
       "stream": "stderr",
       "text": [
        "DEBUG:root:timeDelta = 0, distanceDelta = %s, returning speed = 0\n"
       ]
      },
      {
       "output_type": "stream",
       "stream": "stderr",
       "text": [
        "DEBUG:root:timeDelta = 0, distanceDelta = %s, returning speed = 0\n"
       ]
      },
      {
       "output_type": "stream",
       "stream": "stderr",
       "text": [
        "DEBUG:root:timeDelta = 0, distanceDelta = %s, returning speed = 0\n"
       ]
      },
      {
       "output_type": "stream",
       "stream": "stderr",
       "text": [
        "DEBUG:root:timeDelta = 0, distanceDelta = %s, returning speed = 0\n"
       ]
      },
      {
       "output_type": "stream",
       "stream": "stderr",
       "text": [
        "DEBUG:root:timeDelta = 0, distanceDelta = %s, returning speed = 0\n"
       ]
      },
      {
       "output_type": "stream",
       "stream": "stderr",
       "text": [
        "DEBUG:root:timeDelta = 0, distanceDelta = %s, returning speed = 0\n"
       ]
      },
      {
       "output_type": "stream",
       "stream": "stderr",
       "text": [
        "DEBUG:root:timeDelta = 0, distanceDelta = %s, returning speed = 0\n"
       ]
      },
      {
       "output_type": "stream",
       "stream": "stderr",
       "text": [
        "DEBUG:root:timeDelta = 0, distanceDelta = %s, returning speed = 0\n"
       ]
      },
      {
       "output_type": "stream",
       "stream": "stderr",
       "text": [
        "DEBUG:root:timeDelta = 0, distanceDelta = %s, returning speed = 0\n"
       ]
      },
      {
       "output_type": "stream",
       "stream": "stderr",
       "text": [
        "DEBUG:root:timeDelta = 0, distanceDelta = %s, returning speed = 0\n"
       ]
      },
      {
       "output_type": "stream",
       "stream": "stderr",
       "text": [
        "DEBUG:root:timeDelta = 0, distanceDelta = %s, returning speed = 0\n"
       ]
      },
      {
       "output_type": "stream",
       "stream": "stderr",
       "text": [
        "DEBUG:root:timeDelta = 0, distanceDelta = %s, returning speed = 0\n"
       ]
      },
      {
       "output_type": "stream",
       "stream": "stderr",
       "text": [
        "DEBUG:root:timeDelta = 0, distanceDelta = %s, returning speed = 0\n"
       ]
      },
      {
       "output_type": "stream",
       "stream": "stderr",
       "text": [
        "DEBUG:root:timeDelta = 0, distanceDelta = %s, returning speed = 0\n"
       ]
      },
      {
       "output_type": "stream",
       "stream": "stderr",
       "text": [
        "DEBUG:root:timeDelta = 0, distanceDelta = %s, returning speed = 0\n"
       ]
      },
      {
       "output_type": "stream",
       "stream": "stderr",
       "text": [
        "DEBUG:root:timeDelta = 0, distanceDelta = %s, returning speed = 0\n"
       ]
      },
      {
       "output_type": "stream",
       "stream": "stderr",
       "text": [
        "DEBUG:root:timeDelta = 0, distanceDelta = %s, returning speed = 0\n"
       ]
      },
      {
       "output_type": "stream",
       "stream": "stderr",
       "text": [
        "DEBUG:root:timeDelta = 0, distanceDelta = %s, returning speed = 0\n"
       ]
      },
      {
       "output_type": "stream",
       "stream": "stderr",
       "text": [
        "DEBUG:root:timeDelta = 0, distanceDelta = %s, returning speed = 0\n"
       ]
      },
      {
       "output_type": "stream",
       "stream": "stderr",
       "text": [
        "DEBUG:root:timeDelta = 0, distanceDelta = %s, returning speed = 0\n"
       ]
      },
      {
       "output_type": "stream",
       "stream": "stderr",
       "text": [
        "DEBUG:root:timeDelta = 0, distanceDelta = %s, returning speed = 0\n"
       ]
      },
      {
       "output_type": "stream",
       "stream": "stderr",
       "text": [
        "DEBUG:root:timeDelta = 0, distanceDelta = %s, returning speed = 0\n"
       ]
      },
      {
       "output_type": "stream",
       "stream": "stderr",
       "text": [
        "DEBUG:root:timeDelta = 0, distanceDelta = %s, returning speed = 0\n"
       ]
      },
      {
       "output_type": "stream",
       "stream": "stderr",
       "text": [
        "DEBUG:root:timeDelta = 0, distanceDelta = %s, returning speed = 0\n"
       ]
      },
      {
       "output_type": "stream",
       "stream": "stderr",
       "text": [
        "DEBUG:root:timeDelta = 0, distanceDelta = %s, returning speed = 0\n"
       ]
      },
      {
       "output_type": "stream",
       "stream": "stderr",
       "text": [
        "DEBUG:root:timeDelta = 0, distanceDelta = %s, returning speed = 0\n"
       ]
      },
      {
       "output_type": "stream",
       "stream": "stderr",
       "text": [
        "DEBUG:root:timeDelta = 0, distanceDelta = %s, returning speed = 0\n"
       ]
      },
      {
       "output_type": "stream",
       "stream": "stderr",
       "text": [
        "DEBUG:root:timeDelta = 0, distanceDelta = %s, returning speed = 0\n"
       ]
      },
      {
       "output_type": "stream",
       "stream": "stderr",
       "text": [
        "DEBUG:root:timeDelta = 0, distanceDelta = %s, returning speed = 0\n"
       ]
      },
      {
       "output_type": "stream",
       "stream": "stderr",
       "text": [
        "DEBUG:root:timeDelta = 0, distanceDelta = %s, returning speed = 0\n"
       ]
      },
      {
       "output_type": "stream",
       "stream": "stderr",
       "text": [
        "DEBUG:root:timeDelta = 0, distanceDelta = %s, returning speed = 0\n"
       ]
      },
      {
       "output_type": "stream",
       "stream": "stderr",
       "text": [
        "DEBUG:root:timeDelta = 0, distanceDelta = %s, returning speed = 0\n"
       ]
      },
      {
       "output_type": "stream",
       "stream": "stderr",
       "text": [
        "DEBUG:root:timeDelta = 0, distanceDelta = %s, returning speed = 0\n"
       ]
      },
      {
       "output_type": "stream",
       "stream": "stderr",
       "text": [
        "DEBUG:root:timeDelta = 0, distanceDelta = %s, returning speed = 0\n"
       ]
      },
      {
       "output_type": "stream",
       "stream": "stderr",
       "text": [
        "DEBUG:root:timeDelta = 0, distanceDelta = %s, returning speed = 0\n"
       ]
      },
      {
       "output_type": "stream",
       "stream": "stderr",
       "text": [
        "DEBUG:root:timeDelta = 0, distanceDelta = %s, returning speed = 0\n"
       ]
      },
      {
       "output_type": "stream",
       "stream": "stderr",
       "text": [
        "DEBUG:root:timeDelta = 0, distanceDelta = %s, returning speed = 0\n"
       ]
      },
      {
       "output_type": "stream",
       "stream": "stderr",
       "text": [
        "DEBUG:root:timeDelta = 0, distanceDelta = %s, returning speed = 0\n"
       ]
      },
      {
       "output_type": "stream",
       "stream": "stderr",
       "text": [
        "DEBUG:root:timeDelta = 0, distanceDelta = %s, returning speed = 0\n"
       ]
      },
      {
       "output_type": "stream",
       "stream": "stderr",
       "text": [
        "DEBUG:root:timeDelta = 0, distanceDelta = %s, returning speed = 0\n"
       ]
      },
      {
       "output_type": "stream",
       "stream": "stderr",
       "text": [
        "DEBUG:root:timeDelta = 0, distanceDelta = %s, returning speed = 0\n"
       ]
      },
      {
       "output_type": "stream",
       "stream": "stderr",
       "text": [
        "DEBUG:root:timeDelta = 0, distanceDelta = %s, returning speed = 0\n"
       ]
      },
      {
       "output_type": "stream",
       "stream": "stderr",
       "text": [
        "DEBUG:root:timeDelta = 0, distanceDelta = %s, returning speed = 0\n"
       ]
      },
      {
       "output_type": "stream",
       "stream": "stderr",
       "text": [
        "DEBUG:root:timeDelta = 0, distanceDelta = %s, returning speed = 0\n"
       ]
      },
      {
       "output_type": "stream",
       "stream": "stderr",
       "text": [
        "DEBUG:root:timeDelta = 0, distanceDelta = %s, returning speed = 0\n"
       ]
      },
      {
       "output_type": "stream",
       "stream": "stderr",
       "text": [
        "DEBUG:root:timeDelta = 0, distanceDelta = %s, returning speed = 0\n"
       ]
      },
      {
       "output_type": "stream",
       "stream": "stderr",
       "text": [
        "DEBUG:root:timeDelta = 0, distanceDelta = %s, returning speed = 0\n"
       ]
      },
      {
       "output_type": "stream",
       "stream": "stderr",
       "text": [
        "DEBUG:root:timeDelta = 0, distanceDelta = %s, returning speed = 0\n"
       ]
      },
      {
       "output_type": "stream",
       "stream": "stderr",
       "text": [
        "DEBUG:root:timeDelta = 0, distanceDelta = %s, returning speed = 0\n"
       ]
      },
      {
       "output_type": "stream",
       "stream": "stderr",
       "text": [
        "DEBUG:root:timeDelta = 0, distanceDelta = %s, returning speed = 0\n"
       ]
      },
      {
       "output_type": "stream",
       "stream": "stderr",
       "text": [
        "DEBUG:root:timeDelta = 0, distanceDelta = %s, returning speed = 0\n"
       ]
      },
      {
       "output_type": "stream",
       "stream": "stderr",
       "text": [
        "DEBUG:root:timeDelta = 0, distanceDelta = %s, returning speed = 0\n"
       ]
      },
      {
       "output_type": "stream",
       "stream": "stderr",
       "text": [
        "DEBUG:root:timeDelta = 0, distanceDelta = %s, returning speed = 0\n"
       ]
      },
      {
       "output_type": "stream",
       "stream": "stderr",
       "text": [
        "DEBUG:root:timeDelta = 0, distanceDelta = %s, returning speed = 0\n"
       ]
      },
      {
       "output_type": "stream",
       "stream": "stderr",
       "text": [
        "DEBUG:root:timeDelta = 0, distanceDelta = %s, returning speed = 0\n"
       ]
      },
      {
       "output_type": "stream",
       "stream": "stderr",
       "text": [
        "DEBUG:root:timeDelta = 0, distanceDelta = %s, returning speed = 0\n"
       ]
      },
      {
       "output_type": "stream",
       "stream": "stderr",
       "text": [
        "DEBUG:root:timeDelta = 0, distanceDelta = %s, returning speed = 0\n"
       ]
      },
      {
       "output_type": "stream",
       "stream": "stderr",
       "text": [
        "DEBUG:root:timeDelta = 0, distanceDelta = %s, returning speed = 0\n"
       ]
      },
      {
       "output_type": "stream",
       "stream": "stderr",
       "text": [
        "DEBUG:root:timeDelta = 0, distanceDelta = %s, returning speed = 0\n"
       ]
      },
      {
       "output_type": "stream",
       "stream": "stderr",
       "text": [
        "DEBUG:root:timeDelta = 0, distanceDelta = %s, returning speed = 0\n"
       ]
      },
      {
       "output_type": "stream",
       "stream": "stderr",
       "text": [
        "DEBUG:root:timeDelta = 0, distanceDelta = %s, returning speed = 0\n"
       ]
      },
      {
       "output_type": "stream",
       "stream": "stderr",
       "text": [
        "DEBUG:root:timeDelta = 0, distanceDelta = %s, returning speed = 0\n"
       ]
      },
      {
       "output_type": "stream",
       "stream": "stderr",
       "text": [
        "DEBUG:root:timeDelta = 0, distanceDelta = %s, returning speed = 0\n"
       ]
      },
      {
       "output_type": "stream",
       "stream": "stderr",
       "text": [
        "DEBUG:root:timeDelta = 0, distanceDelta = %s, returning speed = 0\n"
       ]
      },
      {
       "output_type": "stream",
       "stream": "stderr",
       "text": [
        "DEBUG:root:timeDelta = 0, distanceDelta = %s, returning speed = 0\n"
       ]
      },
      {
       "output_type": "stream",
       "stream": "stderr",
       "text": [
        "DEBUG:root:timeDelta = 0, distanceDelta = %s, returning speed = 0\n"
       ]
      },
      {
       "output_type": "stream",
       "stream": "stderr",
       "text": [
        "DEBUG:root:timeDelta = 0, distanceDelta = %s, returning speed = 0\n"
       ]
      },
      {
       "output_type": "stream",
       "stream": "stderr",
       "text": [
        "DEBUG:root:timeDelta = 0, distanceDelta = %s, returning speed = 0\n"
       ]
      },
      {
       "output_type": "stream",
       "stream": "stderr",
       "text": [
        "DEBUG:root:timeDelta = 0, distanceDelta = %s, returning speed = 0\n"
       ]
      },
      {
       "output_type": "stream",
       "stream": "stderr",
       "text": [
        "DEBUG:root:timeDelta = 0, distanceDelta = %s, returning speed = 0\n"
       ]
      },
      {
       "output_type": "stream",
       "stream": "stderr",
       "text": [
        "DEBUG:root:timeDelta = 0, distanceDelta = %s, returning speed = 0\n"
       ]
      },
      {
       "output_type": "stream",
       "stream": "stdout",
       "text": [
        "\n",
        "Considering phone 1\n",
        "ground truth exit = 2015-12-01 17:57:53, geofence_exit_ts = +178.414448, first location point = +178.485268"
       ]
      },
      {
       "output_type": "stream",
       "stream": "stderr",
       "text": [
        "DEBUG:root:timeDelta = 0, distanceDelta = %s, returning speed = 0\n"
       ]
      },
      {
       "output_type": "stream",
       "stream": "stderr",
       "text": [
        "DEBUG:root:timeDelta = 0, distanceDelta = %s, returning speed = 0\n"
       ]
      },
      {
       "output_type": "stream",
       "stream": "stderr",
       "text": [
        "DEBUG:root:timeDelta = 0, distanceDelta = %s, returning speed = 0\n"
       ]
      },
      {
       "output_type": "stream",
       "stream": "stderr",
       "text": [
        "DEBUG:root:timeDelta = 0, distanceDelta = %s, returning speed = 0\n"
       ]
      },
      {
       "output_type": "stream",
       "stream": "stderr",
       "text": [
        "DEBUG:root:timeDelta = 0, distanceDelta = %s, returning speed = 0\n"
       ]
      },
      {
       "output_type": "stream",
       "stream": "stderr",
       "text": [
        "DEBUG:root:timeDelta = 0, distanceDelta = %s, returning speed = 0\n"
       ]
      },
      {
       "output_type": "stream",
       "stream": "stderr",
       "text": [
        "DEBUG:root:timeDelta = 0, distanceDelta = %s, returning speed = 0\n"
       ]
      },
      {
       "output_type": "stream",
       "stream": "stderr",
       "text": [
        "DEBUG:root:timeDelta = 0, distanceDelta = %s, returning speed = 0\n"
       ]
      },
      {
       "output_type": "stream",
       "stream": "stderr",
       "text": [
        "DEBUG:root:timeDelta = 0, distanceDelta = %s, returning speed = 0\n"
       ]
      },
      {
       "output_type": "stream",
       "stream": "stderr",
       "text": [
        "DEBUG:root:timeDelta = 0, distanceDelta = %s, returning speed = 0\n"
       ]
      },
      {
       "output_type": "stream",
       "stream": "stderr",
       "text": [
        "DEBUG:root:timeDelta = 0, distanceDelta = %s, returning speed = 0\n"
       ]
      },
      {
       "output_type": "stream",
       "stream": "stderr",
       "text": [
        "DEBUG:root:timeDelta = 0, distanceDelta = %s, returning speed = 0\n"
       ]
      },
      {
       "output_type": "stream",
       "stream": "stderr",
       "text": [
        "DEBUG:root:timeDelta = 0, distanceDelta = %s, returning speed = 0\n"
       ]
      },
      {
       "output_type": "stream",
       "stream": "stderr",
       "text": [
        "DEBUG:root:timeDelta = 0, distanceDelta = %s, returning speed = 0\n"
       ]
      },
      {
       "output_type": "stream",
       "stream": "stderr",
       "text": [
        "DEBUG:root:timeDelta = 0, distanceDelta = %s, returning speed = 0\n"
       ]
      },
      {
       "output_type": "stream",
       "stream": "stderr",
       "text": [
        "DEBUG:root:timeDelta = 0, distanceDelta = %s, returning speed = 0\n"
       ]
      },
      {
       "output_type": "stream",
       "stream": "stderr",
       "text": [
        "DEBUG:root:timeDelta = 0, distanceDelta = %s, returning speed = 0\n"
       ]
      },
      {
       "output_type": "stream",
       "stream": "stderr",
       "text": [
        "DEBUG:root:timeDelta = 0, distanceDelta = %s, returning speed = 0\n"
       ]
      },
      {
       "output_type": "stream",
       "stream": "stderr",
       "text": [
        "DEBUG:root:timeDelta = 0, distanceDelta = %s, returning speed = 0\n"
       ]
      },
      {
       "output_type": "stream",
       "stream": "stderr",
       "text": [
        "DEBUG:root:timeDelta = 0, distanceDelta = %s, returning speed = 0\n"
       ]
      },
      {
       "output_type": "stream",
       "stream": "stderr",
       "text": [
        "DEBUG:root:timeDelta = 0, distanceDelta = %s, returning speed = 0\n"
       ]
      },
      {
       "output_type": "stream",
       "stream": "stderr",
       "text": [
        "DEBUG:root:timeDelta = 0, distanceDelta = %s, returning speed = 0\n"
       ]
      },
      {
       "output_type": "stream",
       "stream": "stderr",
       "text": [
        "DEBUG:root:timeDelta = 0, distanceDelta = %s, returning speed = 0\n"
       ]
      },
      {
       "output_type": "stream",
       "stream": "stderr",
       "text": [
        "DEBUG:root:timeDelta = 0, distanceDelta = %s, returning speed = 0\n"
       ]
      },
      {
       "output_type": "stream",
       "stream": "stderr",
       "text": [
        "DEBUG:root:timeDelta = 0, distanceDelta = %s, returning speed = 0\n"
       ]
      },
      {
       "output_type": "stream",
       "stream": "stderr",
       "text": [
        "DEBUG:root:timeDelta = 0, distanceDelta = %s, returning speed = 0\n"
       ]
      },
      {
       "output_type": "stream",
       "stream": "stderr",
       "text": [
        "DEBUG:root:timeDelta = 0, distanceDelta = %s, returning speed = 0\n"
       ]
      },
      {
       "output_type": "stream",
       "stream": "stderr",
       "text": [
        "DEBUG:root:timeDelta = 0, distanceDelta = %s, returning speed = 0\n"
       ]
      },
      {
       "output_type": "stream",
       "stream": "stderr",
       "text": [
        "DEBUG:root:timeDelta = 0, distanceDelta = %s, returning speed = 0\n"
       ]
      },
      {
       "output_type": "stream",
       "stream": "stderr",
       "text": [
        "DEBUG:root:timeDelta = 0, distanceDelta = %s, returning speed = 0\n"
       ]
      },
      {
       "output_type": "stream",
       "stream": "stderr",
       "text": [
        "DEBUG:root:timeDelta = 0, distanceDelta = %s, returning speed = 0\n"
       ]
      },
      {
       "output_type": "stream",
       "stream": "stderr",
       "text": [
        "DEBUG:root:timeDelta = 0, distanceDelta = %s, returning speed = 0\n"
       ]
      },
      {
       "output_type": "stream",
       "stream": "stderr",
       "text": [
        "DEBUG:root:timeDelta = 0, distanceDelta = %s, returning speed = 0\n"
       ]
      },
      {
       "output_type": "stream",
       "stream": "stderr",
       "text": [
        "DEBUG:root:timeDelta = 0, distanceDelta = %s, returning speed = 0\n"
       ]
      },
      {
       "output_type": "stream",
       "stream": "stderr",
       "text": [
        "DEBUG:root:timeDelta = 0, distanceDelta = %s, returning speed = 0\n"
       ]
      },
      {
       "output_type": "stream",
       "stream": "stderr",
       "text": [
        "DEBUG:root:timeDelta = 0, distanceDelta = %s, returning speed = 0\n"
       ]
      },
      {
       "output_type": "stream",
       "stream": "stderr",
       "text": [
        "DEBUG:root:timeDelta = 0, distanceDelta = %s, returning speed = 0\n"
       ]
      },
      {
       "output_type": "stream",
       "stream": "stderr",
       "text": [
        "DEBUG:root:timeDelta = 0, distanceDelta = %s, returning speed = 0\n"
       ]
      },
      {
       "output_type": "stream",
       "stream": "stderr",
       "text": [
        "DEBUG:root:timeDelta = 0, distanceDelta = %s, returning speed = 0\n"
       ]
      },
      {
       "output_type": "stream",
       "stream": "stderr",
       "text": [
        "DEBUG:root:timeDelta = 0, distanceDelta = %s, returning speed = 0\n"
       ]
      },
      {
       "output_type": "stream",
       "stream": "stderr",
       "text": [
        "DEBUG:root:timeDelta = 0, distanceDelta = %s, returning speed = 0\n"
       ]
      },
      {
       "output_type": "stream",
       "stream": "stderr",
       "text": [
        "DEBUG:root:timeDelta = 0, distanceDelta = %s, returning speed = 0\n"
       ]
      },
      {
       "output_type": "stream",
       "stream": "stderr",
       "text": [
        "DEBUG:root:timeDelta = 0, distanceDelta = %s, returning speed = 0\n"
       ]
      },
      {
       "output_type": "stream",
       "stream": "stderr",
       "text": [
        "DEBUG:root:timeDelta = 0, distanceDelta = %s, returning speed = 0\n"
       ]
      },
      {
       "output_type": "stream",
       "stream": "stderr",
       "text": [
        "DEBUG:root:timeDelta = 0, distanceDelta = %s, returning speed = 0\n"
       ]
      },
      {
       "output_type": "stream",
       "stream": "stderr",
       "text": [
        "DEBUG:root:timeDelta = 0, distanceDelta = %s, returning speed = 0\n"
       ]
      },
      {
       "output_type": "stream",
       "stream": "stderr",
       "text": [
        "DEBUG:root:timeDelta = 0, distanceDelta = %s, returning speed = 0\n"
       ]
      },
      {
       "output_type": "stream",
       "stream": "stderr",
       "text": [
        "DEBUG:root:timeDelta = 0, distanceDelta = %s, returning speed = 0\n"
       ]
      },
      {
       "output_type": "stream",
       "stream": "stderr",
       "text": [
        "DEBUG:root:timeDelta = 0, distanceDelta = %s, returning speed = 0\n"
       ]
      },
      {
       "output_type": "stream",
       "stream": "stderr",
       "text": [
        "DEBUG:root:timeDelta = 0, distanceDelta = %s, returning speed = 0\n"
       ]
      },
      {
       "output_type": "stream",
       "stream": "stderr",
       "text": [
        "DEBUG:root:timeDelta = 0, distanceDelta = %s, returning speed = 0\n"
       ]
      },
      {
       "output_type": "stream",
       "stream": "stderr",
       "text": [
        "DEBUG:root:timeDelta = 0, distanceDelta = %s, returning speed = 0\n"
       ]
      },
      {
       "output_type": "stream",
       "stream": "stderr",
       "text": [
        "DEBUG:root:timeDelta = 0, distanceDelta = %s, returning speed = 0\n"
       ]
      },
      {
       "output_type": "stream",
       "stream": "stderr",
       "text": [
        "DEBUG:root:timeDelta = 0, distanceDelta = %s, returning speed = 0\n"
       ]
      },
      {
       "output_type": "stream",
       "stream": "stderr",
       "text": [
        "DEBUG:root:timeDelta = 0, distanceDelta = %s, returning speed = 0\n"
       ]
      },
      {
       "output_type": "stream",
       "stream": "stderr",
       "text": [
        "DEBUG:root:timeDelta = 0, distanceDelta = %s, returning speed = 0\n"
       ]
      },
      {
       "output_type": "stream",
       "stream": "stderr",
       "text": [
        "DEBUG:root:timeDelta = 0, distanceDelta = %s, returning speed = 0\n"
       ]
      },
      {
       "output_type": "stream",
       "stream": "stderr",
       "text": [
        "DEBUG:root:timeDelta = 0, distanceDelta = %s, returning speed = 0\n"
       ]
      },
      {
       "output_type": "stream",
       "stream": "stderr",
       "text": [
        "DEBUG:root:timeDelta = 0, distanceDelta = %s, returning speed = 0\n"
       ]
      },
      {
       "output_type": "stream",
       "stream": "stderr",
       "text": [
        "DEBUG:root:timeDelta = 0, distanceDelta = %s, returning speed = 0\n"
       ]
      },
      {
       "output_type": "stream",
       "stream": "stderr",
       "text": [
        "DEBUG:root:timeDelta = 0, distanceDelta = %s, returning speed = 0\n"
       ]
      },
      {
       "output_type": "stream",
       "stream": "stderr",
       "text": [
        "DEBUG:root:timeDelta = 0, distanceDelta = %s, returning speed = 0\n"
       ]
      },
      {
       "output_type": "stream",
       "stream": "stderr",
       "text": [
        "DEBUG:root:timeDelta = 0, distanceDelta = %s, returning speed = 0\n"
       ]
      },
      {
       "output_type": "stream",
       "stream": "stderr",
       "text": [
        "DEBUG:root:timeDelta = 0, distanceDelta = %s, returning speed = 0\n"
       ]
      },
      {
       "output_type": "stream",
       "stream": "stderr",
       "text": [
        "DEBUG:root:timeDelta = 0, distanceDelta = %s, returning speed = 0\n"
       ]
      },
      {
       "output_type": "stream",
       "stream": "stderr",
       "text": [
        "DEBUG:root:timeDelta = 0, distanceDelta = %s, returning speed = 0\n"
       ]
      },
      {
       "output_type": "stream",
       "stream": "stderr",
       "text": [
        "DEBUG:root:timeDelta = 0, distanceDelta = %s, returning speed = 0\n"
       ]
      },
      {
       "output_type": "stream",
       "stream": "stderr",
       "text": [
        "DEBUG:root:timeDelta = 0, distanceDelta = %s, returning speed = 0\n"
       ]
      },
      {
       "output_type": "stream",
       "stream": "stderr",
       "text": [
        "DEBUG:root:timeDelta = 0, distanceDelta = %s, returning speed = 0\n"
       ]
      },
      {
       "output_type": "stream",
       "stream": "stderr",
       "text": [
        "DEBUG:root:timeDelta = 0, distanceDelta = %s, returning speed = 0\n"
       ]
      },
      {
       "output_type": "stream",
       "stream": "stderr",
       "text": [
        "DEBUG:root:timeDelta = 0, distanceDelta = %s, returning speed = 0\n"
       ]
      },
      {
       "output_type": "stream",
       "stream": "stderr",
       "text": [
        "DEBUG:root:timeDelta = 0, distanceDelta = %s, returning speed = 0\n"
       ]
      },
      {
       "output_type": "stream",
       "stream": "stderr",
       "text": [
        "DEBUG:root:timeDelta = 0, distanceDelta = %s, returning speed = 0\n"
       ]
      },
      {
       "output_type": "stream",
       "stream": "stderr",
       "text": [
        "DEBUG:root:timeDelta = 0, distanceDelta = %s, returning speed = 0\n"
       ]
      },
      {
       "output_type": "stream",
       "stream": "stderr",
       "text": [
        "DEBUG:root:timeDelta = 0, distanceDelta = %s, returning speed = 0\n"
       ]
      },
      {
       "output_type": "stream",
       "stream": "stderr",
       "text": [
        "DEBUG:root:timeDelta = 0, distanceDelta = %s, returning speed = 0\n"
       ]
      },
      {
       "output_type": "stream",
       "stream": "stderr",
       "text": [
        "DEBUG:root:timeDelta = 0, distanceDelta = %s, returning speed = 0\n"
       ]
      },
      {
       "output_type": "stream",
       "stream": "stderr",
       "text": [
        "DEBUG:root:timeDelta = 0, distanceDelta = %s, returning speed = 0\n"
       ]
      },
      {
       "output_type": "stream",
       "stream": "stderr",
       "text": [
        "DEBUG:root:timeDelta = 0, distanceDelta = %s, returning speed = 0\n"
       ]
      },
      {
       "output_type": "stream",
       "stream": "stderr",
       "text": [
        "DEBUG:root:timeDelta = 0, distanceDelta = %s, returning speed = 0\n"
       ]
      },
      {
       "output_type": "stream",
       "stream": "stderr",
       "text": [
        "DEBUG:root:timeDelta = 0, distanceDelta = %s, returning speed = 0\n"
       ]
      },
      {
       "output_type": "stream",
       "stream": "stderr",
       "text": [
        "DEBUG:root:timeDelta = 0, distanceDelta = %s, returning speed = 0\n"
       ]
      },
      {
       "output_type": "stream",
       "stream": "stderr",
       "text": [
        "DEBUG:root:timeDelta = 0, distanceDelta = %s, returning speed = 0\n"
       ]
      },
      {
       "output_type": "stream",
       "stream": "stderr",
       "text": [
        "DEBUG:root:timeDelta = 0, distanceDelta = %s, returning speed = 0\n"
       ]
      },
      {
       "output_type": "stream",
       "stream": "stderr",
       "text": [
        "DEBUG:root:timeDelta = 0, distanceDelta = %s, returning speed = 0\n"
       ]
      },
      {
       "output_type": "stream",
       "stream": "stderr",
       "text": [
        "DEBUG:root:timeDelta = 0, distanceDelta = %s, returning speed = 0\n"
       ]
      },
      {
       "output_type": "stream",
       "stream": "stderr",
       "text": [
        "DEBUG:root:timeDelta = 0, distanceDelta = %s, returning speed = 0\n"
       ]
      },
      {
       "output_type": "stream",
       "stream": "stderr",
       "text": [
        "DEBUG:root:timeDelta = 0, distanceDelta = %s, returning speed = 0\n"
       ]
      },
      {
       "output_type": "stream",
       "stream": "stderr",
       "text": [
        "DEBUG:root:timeDelta = 0, distanceDelta = %s, returning speed = 0\n"
       ]
      },
      {
       "output_type": "stream",
       "stream": "stderr",
       "text": [
        "DEBUG:root:timeDelta = 0, distanceDelta = %s, returning speed = 0\n"
       ]
      },
      {
       "output_type": "stream",
       "stream": "stderr",
       "text": [
        "DEBUG:root:timeDelta = 0, distanceDelta = %s, returning speed = 0\n"
       ]
      },
      {
       "output_type": "stream",
       "stream": "stderr",
       "text": [
        "DEBUG:root:timeDelta = 0, distanceDelta = %s, returning speed = 0\n"
       ]
      },
      {
       "output_type": "stream",
       "stream": "stderr",
       "text": [
        "DEBUG:root:timeDelta = 0, distanceDelta = %s, returning speed = 0\n"
       ]
      },
      {
       "output_type": "stream",
       "stream": "stderr",
       "text": [
        "DEBUG:root:timeDelta = 0, distanceDelta = %s, returning speed = 0\n"
       ]
      },
      {
       "output_type": "stream",
       "stream": "stderr",
       "text": [
        "DEBUG:root:timeDelta = 0, distanceDelta = %s, returning speed = 0\n"
       ]
      },
      {
       "output_type": "stream",
       "stream": "stderr",
       "text": [
        "DEBUG:root:timeDelta = 0, distanceDelta = %s, returning speed = 0\n"
       ]
      },
      {
       "output_type": "stream",
       "stream": "stderr",
       "text": [
        "DEBUG:root:timeDelta = 0, distanceDelta = %s, returning speed = 0\n"
       ]
      },
      {
       "output_type": "stream",
       "stream": "stderr",
       "text": [
        "DEBUG:root:timeDelta = 0, distanceDelta = %s, returning speed = 0\n"
       ]
      },
      {
       "output_type": "stream",
       "stream": "stderr",
       "text": [
        "DEBUG:root:timeDelta = 0, distanceDelta = %s, returning speed = 0\n"
       ]
      },
      {
       "output_type": "stream",
       "stream": "stderr",
       "text": [
        "DEBUG:root:timeDelta = 0, distanceDelta = %s, returning speed = 0\n"
       ]
      },
      {
       "output_type": "stream",
       "stream": "stderr",
       "text": [
        "DEBUG:root:timeDelta = 0, distanceDelta = %s, returning speed = 0\n"
       ]
      },
      {
       "output_type": "stream",
       "stream": "stderr",
       "text": [
        "DEBUG:root:timeDelta = 0, distanceDelta = %s, returning speed = 0\n"
       ]
      },
      {
       "output_type": "stream",
       "stream": "stderr",
       "text": [
        "DEBUG:root:timeDelta = 0, distanceDelta = %s, returning speed = 0\n"
       ]
      },
      {
       "output_type": "stream",
       "stream": "stderr",
       "text": [
        "DEBUG:root:timeDelta = 0, distanceDelta = %s, returning speed = 0\n"
       ]
      },
      {
       "output_type": "stream",
       "stream": "stderr",
       "text": [
        "DEBUG:root:timeDelta = 0, distanceDelta = %s, returning speed = 0\n"
       ]
      },
      {
       "output_type": "stream",
       "stream": "stderr",
       "text": [
        "DEBUG:root:timeDelta = 0, distanceDelta = %s, returning speed = 0\n"
       ]
      },
      {
       "output_type": "stream",
       "stream": "stderr",
       "text": [
        "DEBUG:root:timeDelta = 0, distanceDelta = %s, returning speed = 0\n"
       ]
      },
      {
       "output_type": "stream",
       "stream": "stderr",
       "text": [
        "DEBUG:root:timeDelta = 0, distanceDelta = %s, returning speed = 0\n"
       ]
      },
      {
       "output_type": "stream",
       "stream": "stderr",
       "text": [
        "DEBUG:root:timeDelta = 0, distanceDelta = %s, returning speed = 0\n"
       ]
      },
      {
       "output_type": "stream",
       "stream": "stderr",
       "text": [
        "DEBUG:root:timeDelta = 0, distanceDelta = %s, returning speed = 0\n"
       ]
      },
      {
       "output_type": "stream",
       "stream": "stderr",
       "text": [
        "DEBUG:root:timeDelta = 0, distanceDelta = %s, returning speed = 0\n"
       ]
      },
      {
       "output_type": "stream",
       "stream": "stderr",
       "text": [
        "DEBUG:root:timeDelta = 0, distanceDelta = %s, returning speed = 0\n"
       ]
      },
      {
       "output_type": "stream",
       "stream": "stderr",
       "text": [
        "DEBUG:root:timeDelta = 0, distanceDelta = %s, returning speed = 0\n"
       ]
      },
      {
       "output_type": "stream",
       "stream": "stderr",
       "text": [
        "DEBUG:root:timeDelta = 0, distanceDelta = %s, returning speed = 0\n"
       ]
      },
      {
       "output_type": "stream",
       "stream": "stderr",
       "text": [
        "DEBUG:root:timeDelta = 0, distanceDelta = %s, returning speed = 0\n"
       ]
      },
      {
       "output_type": "stream",
       "stream": "stderr",
       "text": [
        "DEBUG:root:timeDelta = 0, distanceDelta = %s, returning speed = 0\n"
       ]
      },
      {
       "output_type": "stream",
       "stream": "stderr",
       "text": [
        "DEBUG:root:timeDelta = 0, distanceDelta = %s, returning speed = 0\n"
       ]
      },
      {
       "output_type": "stream",
       "stream": "stderr",
       "text": [
        "DEBUG:root:timeDelta = 0, distanceDelta = %s, returning speed = 0\n"
       ]
      },
      {
       "output_type": "stream",
       "stream": "stderr",
       "text": [
        "DEBUG:root:timeDelta = 0, distanceDelta = %s, returning speed = 0\n"
       ]
      },
      {
       "output_type": "stream",
       "stream": "stderr",
       "text": [
        "DEBUG:root:timeDelta = 0, distanceDelta = %s, returning speed = 0\n"
       ]
      },
      {
       "output_type": "stream",
       "stream": "stderr",
       "text": [
        "DEBUG:root:timeDelta = 0, distanceDelta = %s, returning speed = 0\n"
       ]
      },
      {
       "output_type": "stream",
       "stream": "stderr",
       "text": [
        "DEBUG:root:timeDelta = 0, distanceDelta = %s, returning speed = 0\n"
       ]
      },
      {
       "output_type": "stream",
       "stream": "stderr",
       "text": [
        "DEBUG:root:timeDelta = 0, distanceDelta = %s, returning speed = 0\n"
       ]
      },
      {
       "output_type": "stream",
       "stream": "stderr",
       "text": [
        "DEBUG:root:timeDelta = 0, distanceDelta = %s, returning speed = 0\n"
       ]
      },
      {
       "output_type": "stream",
       "stream": "stderr",
       "text": [
        "DEBUG:root:timeDelta = 0, distanceDelta = %s, returning speed = 0\n"
       ]
      },
      {
       "output_type": "stream",
       "stream": "stderr",
       "text": [
        "DEBUG:root:timeDelta = 0, distanceDelta = %s, returning speed = 0\n"
       ]
      },
      {
       "output_type": "stream",
       "stream": "stderr",
       "text": [
        "DEBUG:root:timeDelta = 0, distanceDelta = %s, returning speed = 0\n"
       ]
      },
      {
       "output_type": "stream",
       "stream": "stderr",
       "text": [
        "DEBUG:root:timeDelta = 0, distanceDelta = %s, returning speed = 0\n"
       ]
      },
      {
       "output_type": "stream",
       "stream": "stderr",
       "text": [
        "DEBUG:root:timeDelta = 0, distanceDelta = %s, returning speed = 0\n"
       ]
      },
      {
       "output_type": "stream",
       "stream": "stderr",
       "text": [
        "DEBUG:root:timeDelta = 0, distanceDelta = %s, returning speed = 0\n"
       ]
      },
      {
       "output_type": "stream",
       "stream": "stderr",
       "text": [
        "DEBUG:root:timeDelta = 0, distanceDelta = %s, returning speed = 0\n"
       ]
      },
      {
       "output_type": "stream",
       "stream": "stderr",
       "text": [
        "DEBUG:root:timeDelta = 0, distanceDelta = %s, returning speed = 0\n"
       ]
      },
      {
       "output_type": "stream",
       "stream": "stderr",
       "text": [
        "DEBUG:root:timeDelta = 0, distanceDelta = %s, returning speed = 0\n"
       ]
      },
      {
       "output_type": "stream",
       "stream": "stderr",
       "text": [
        "DEBUG:root:timeDelta = 0, distanceDelta = %s, returning speed = 0\n"
       ]
      },
      {
       "output_type": "stream",
       "stream": "stderr",
       "text": [
        "DEBUG:root:timeDelta = 0, distanceDelta = %s, returning speed = 0\n"
       ]
      },
      {
       "output_type": "stream",
       "stream": "stderr",
       "text": [
        "DEBUG:root:timeDelta = 0, distanceDelta = %s, returning speed = 0\n"
       ]
      },
      {
       "output_type": "stream",
       "stream": "stderr",
       "text": [
        "DEBUG:root:timeDelta = 0, distanceDelta = %s, returning speed = 0\n"
       ]
      },
      {
       "output_type": "stream",
       "stream": "stderr",
       "text": [
        "DEBUG:root:timeDelta = 0, distanceDelta = %s, returning speed = 0\n"
       ]
      },
      {
       "output_type": "stream",
       "stream": "stderr",
       "text": [
        "DEBUG:root:timeDelta = 0, distanceDelta = %s, returning speed = 0\n"
       ]
      },
      {
       "output_type": "stream",
       "stream": "stderr",
       "text": [
        "DEBUG:root:timeDelta = 0, distanceDelta = %s, returning speed = 0\n"
       ]
      },
      {
       "output_type": "stream",
       "stream": "stderr",
       "text": [
        "DEBUG:root:timeDelta = 0, distanceDelta = %s, returning speed = 0\n"
       ]
      },
      {
       "output_type": "stream",
       "stream": "stderr",
       "text": [
        "DEBUG:root:timeDelta = 0, distanceDelta = %s, returning speed = 0\n"
       ]
      },
      {
       "output_type": "stream",
       "stream": "stderr",
       "text": [
        "DEBUG:root:timeDelta = 0, distanceDelta = %s, returning speed = 0\n"
       ]
      },
      {
       "output_type": "stream",
       "stream": "stderr",
       "text": [
        "DEBUG:root:timeDelta = 0, distanceDelta = %s, returning speed = 0\n"
       ]
      },
      {
       "output_type": "stream",
       "stream": "stderr",
       "text": [
        "DEBUG:root:timeDelta = 0, distanceDelta = %s, returning speed = 0\n"
       ]
      },
      {
       "output_type": "stream",
       "stream": "stderr",
       "text": [
        "DEBUG:root:timeDelta = 0, distanceDelta = %s, returning speed = 0\n"
       ]
      },
      {
       "output_type": "stream",
       "stream": "stderr",
       "text": [
        "DEBUG:root:timeDelta = 0, distanceDelta = %s, returning speed = 0\n"
       ]
      },
      {
       "output_type": "stream",
       "stream": "stderr",
       "text": [
        "DEBUG:root:timeDelta = 0, distanceDelta = %s, returning speed = 0\n"
       ]
      },
      {
       "output_type": "stream",
       "stream": "stderr",
       "text": [
        "DEBUG:root:timeDelta = 0, distanceDelta = %s, returning speed = 0\n"
       ]
      },
      {
       "output_type": "stream",
       "stream": "stderr",
       "text": [
        "DEBUG:root:timeDelta = 0, distanceDelta = %s, returning speed = 0\n"
       ]
      },
      {
       "output_type": "stream",
       "stream": "stderr",
       "text": [
        "DEBUG:root:timeDelta = 0, distanceDelta = %s, returning speed = 0\n"
       ]
      },
      {
       "output_type": "stream",
       "stream": "stderr",
       "text": [
        "DEBUG:root:timeDelta = 0, distanceDelta = %s, returning speed = 0\n"
       ]
      },
      {
       "output_type": "stream",
       "stream": "stderr",
       "text": [
        "DEBUG:root:timeDelta = 0, distanceDelta = %s, returning speed = 0\n"
       ]
      },
      {
       "output_type": "stream",
       "stream": "stderr",
       "text": [
        "DEBUG:root:timeDelta = 0, distanceDelta = %s, returning speed = 0\n"
       ]
      },
      {
       "output_type": "stream",
       "stream": "stderr",
       "text": [
        "DEBUG:root:timeDelta = 0, distanceDelta = %s, returning speed = 0\n"
       ]
      },
      {
       "output_type": "stream",
       "stream": "stderr",
       "text": [
        "DEBUG:root:timeDelta = 0, distanceDelta = %s, returning speed = 0\n"
       ]
      },
      {
       "output_type": "stream",
       "stream": "stderr",
       "text": [
        "DEBUG:root:timeDelta = 0, distanceDelta = %s, returning speed = 0\n"
       ]
      },
      {
       "output_type": "stream",
       "stream": "stderr",
       "text": [
        "DEBUG:root:timeDelta = 0, distanceDelta = %s, returning speed = 0\n"
       ]
      },
      {
       "output_type": "stream",
       "stream": "stderr",
       "text": [
        "DEBUG:root:timeDelta = 0, distanceDelta = %s, returning speed = 0\n"
       ]
      },
      {
       "output_type": "stream",
       "stream": "stderr",
       "text": [
        "DEBUG:root:timeDelta = 0, distanceDelta = %s, returning speed = 0\n"
       ]
      },
      {
       "output_type": "stream",
       "stream": "stderr",
       "text": [
        "DEBUG:root:timeDelta = 0, distanceDelta = %s, returning speed = 0\n"
       ]
      },
      {
       "output_type": "stream",
       "stream": "stderr",
       "text": [
        "DEBUG:root:timeDelta = 0, distanceDelta = %s, returning speed = 0\n"
       ]
      },
      {
       "output_type": "stream",
       "stream": "stderr",
       "text": [
        "DEBUG:root:timeDelta = 0, distanceDelta = %s, returning speed = 0\n"
       ]
      },
      {
       "output_type": "stream",
       "stream": "stderr",
       "text": [
        "DEBUG:root:timeDelta = 0, distanceDelta = %s, returning speed = 0\n"
       ]
      },
      {
       "output_type": "stream",
       "stream": "stderr",
       "text": [
        "DEBUG:root:timeDelta = 0, distanceDelta = %s, returning speed = 0\n"
       ]
      },
      {
       "output_type": "stream",
       "stream": "stderr",
       "text": [
        "DEBUG:root:timeDelta = 0, distanceDelta = %s, returning speed = 0\n"
       ]
      },
      {
       "output_type": "stream",
       "stream": "stderr",
       "text": [
        "DEBUG:root:timeDelta = 0, distanceDelta = %s, returning speed = 0\n"
       ]
      },
      {
       "output_type": "stream",
       "stream": "stderr",
       "text": [
        "DEBUG:root:timeDelta = 0, distanceDelta = %s, returning speed = 0\n"
       ]
      },
      {
       "output_type": "stream",
       "stream": "stderr",
       "text": [
        "DEBUG:root:timeDelta = 0, distanceDelta = %s, returning speed = 0\n"
       ]
      },
      {
       "output_type": "stream",
       "stream": "stderr",
       "text": [
        "DEBUG:root:timeDelta = 0, distanceDelta = %s, returning speed = 0\n"
       ]
      },
      {
       "output_type": "stream",
       "stream": "stderr",
       "text": [
        "DEBUG:root:timeDelta = 0, distanceDelta = %s, returning speed = 0\n"
       ]
      },
      {
       "output_type": "stream",
       "stream": "stderr",
       "text": [
        "DEBUG:root:timeDelta = 0, distanceDelta = %s, returning speed = 0\n"
       ]
      },
      {
       "output_type": "stream",
       "stream": "stderr",
       "text": [
        "DEBUG:root:timeDelta = 0, distanceDelta = %s, returning speed = 0\n"
       ]
      },
      {
       "output_type": "stream",
       "stream": "stderr",
       "text": [
        "DEBUG:root:timeDelta = 0, distanceDelta = %s, returning speed = 0\n"
       ]
      },
      {
       "output_type": "stream",
       "stream": "stderr",
       "text": [
        "DEBUG:root:timeDelta = 0, distanceDelta = %s, returning speed = 0\n"
       ]
      },
      {
       "output_type": "stream",
       "stream": "stderr",
       "text": [
        "DEBUG:root:timeDelta = 0, distanceDelta = %s, returning speed = 0\n"
       ]
      },
      {
       "output_type": "stream",
       "stream": "stderr",
       "text": [
        "DEBUG:root:timeDelta = 0, distanceDelta = %s, returning speed = 0\n"
       ]
      },
      {
       "output_type": "stream",
       "stream": "stderr",
       "text": [
        "DEBUG:root:timeDelta = 0, distanceDelta = %s, returning speed = 0\n"
       ]
      },
      {
       "output_type": "stream",
       "stream": "stderr",
       "text": [
        "DEBUG:root:timeDelta = 0, distanceDelta = %s, returning speed = 0\n"
       ]
      },
      {
       "output_type": "stream",
       "stream": "stderr",
       "text": [
        "DEBUG:root:timeDelta = 0, distanceDelta = %s, returning speed = 0\n"
       ]
      },
      {
       "output_type": "stream",
       "stream": "stderr",
       "text": [
        "DEBUG:root:timeDelta = 0, distanceDelta = %s, returning speed = 0\n"
       ]
      },
      {
       "output_type": "stream",
       "stream": "stderr",
       "text": [
        "DEBUG:root:timeDelta = 0, distanceDelta = %s, returning speed = 0\n"
       ]
      },
      {
       "output_type": "stream",
       "stream": "stderr",
       "text": [
        "DEBUG:root:timeDelta = 0, distanceDelta = %s, returning speed = 0\n"
       ]
      },
      {
       "output_type": "stream",
       "stream": "stderr",
       "text": [
        "DEBUG:root:timeDelta = 0, distanceDelta = %s, returning speed = 0\n"
       ]
      },
      {
       "output_type": "stream",
       "stream": "stderr",
       "text": [
        "DEBUG:root:timeDelta = 0, distanceDelta = %s, returning speed = 0\n"
       ]
      },
      {
       "output_type": "stream",
       "stream": "stderr",
       "text": [
        "DEBUG:root:timeDelta = 0, distanceDelta = %s, returning speed = 0\n"
       ]
      },
      {
       "output_type": "stream",
       "stream": "stderr",
       "text": [
        "DEBUG:root:timeDelta = 0, distanceDelta = %s, returning speed = 0\n"
       ]
      },
      {
       "output_type": "stream",
       "stream": "stderr",
       "text": [
        "DEBUG:root:timeDelta = 0, distanceDelta = %s, returning speed = 0\n"
       ]
      },
      {
       "output_type": "stream",
       "stream": "stderr",
       "text": [
        "DEBUG:root:timeDelta = 0, distanceDelta = %s, returning speed = 0\n"
       ]
      },
      {
       "output_type": "stream",
       "stream": "stderr",
       "text": [
        "DEBUG:root:timeDelta = 0, distanceDelta = %s, returning speed = 0\n"
       ]
      },
      {
       "output_type": "stream",
       "stream": "stderr",
       "text": [
        "DEBUG:root:timeDelta = 0, distanceDelta = %s, returning speed = 0\n"
       ]
      },
      {
       "output_type": "stream",
       "stream": "stderr",
       "text": [
        "DEBUG:root:timeDelta = 0, distanceDelta = %s, returning speed = 0\n"
       ]
      },
      {
       "output_type": "stream",
       "stream": "stderr",
       "text": [
        "DEBUG:root:timeDelta = 0, distanceDelta = %s, returning speed = 0\n"
       ]
      },
      {
       "output_type": "stream",
       "stream": "stderr",
       "text": [
        "DEBUG:root:timeDelta = 0, distanceDelta = %s, returning speed = 0\n"
       ]
      },
      {
       "output_type": "stream",
       "stream": "stderr",
       "text": [
        "DEBUG:root:timeDelta = 0, distanceDelta = %s, returning speed = 0\n"
       ]
      },
      {
       "output_type": "stream",
       "stream": "stderr",
       "text": [
        "DEBUG:root:timeDelta = 0, distanceDelta = %s, returning speed = 0\n"
       ]
      },
      {
       "output_type": "stream",
       "stream": "stderr",
       "text": [
        "DEBUG:root:timeDelta = 0, distanceDelta = %s, returning speed = 0\n"
       ]
      },
      {
       "output_type": "stream",
       "stream": "stderr",
       "text": [
        "DEBUG:root:timeDelta = 0, distanceDelta = %s, returning speed = 0\n"
       ]
      },
      {
       "output_type": "stream",
       "stream": "stderr",
       "text": [
        "DEBUG:root:timeDelta = 0, distanceDelta = %s, returning speed = 0\n"
       ]
      },
      {
       "output_type": "stream",
       "stream": "stderr",
       "text": [
        "DEBUG:root:timeDelta = 0, distanceDelta = %s, returning speed = 0\n"
       ]
      },
      {
       "output_type": "stream",
       "stream": "stderr",
       "text": [
        "DEBUG:root:timeDelta = 0, distanceDelta = %s, returning speed = 0\n"
       ]
      },
      {
       "output_type": "stream",
       "stream": "stderr",
       "text": [
        "DEBUG:root:timeDelta = 0, distanceDelta = %s, returning speed = 0\n"
       ]
      },
      {
       "output_type": "stream",
       "stream": "stderr",
       "text": [
        "DEBUG:root:timeDelta = 0, distanceDelta = %s, returning speed = 0\n"
       ]
      },
      {
       "output_type": "stream",
       "stream": "stderr",
       "text": [
        "DEBUG:root:timeDelta = 0, distanceDelta = %s, returning speed = 0\n"
       ]
      },
      {
       "output_type": "stream",
       "stream": "stderr",
       "text": [
        "DEBUG:root:timeDelta = 0, distanceDelta = %s, returning speed = 0\n"
       ]
      },
      {
       "output_type": "stream",
       "stream": "stderr",
       "text": [
        "DEBUG:root:timeDelta = 0, distanceDelta = %s, returning speed = 0\n"
       ]
      },
      {
       "output_type": "stream",
       "stream": "stderr",
       "text": [
        "DEBUG:root:timeDelta = 0, distanceDelta = %s, returning speed = 0\n"
       ]
      },
      {
       "output_type": "stream",
       "stream": "stderr",
       "text": [
        "DEBUG:root:timeDelta = 0, distanceDelta = %s, returning speed = 0\n"
       ]
      },
      {
       "output_type": "stream",
       "stream": "stderr",
       "text": [
        "DEBUG:root:timeDelta = 0, distanceDelta = %s, returning speed = 0\n"
       ]
      },
      {
       "output_type": "stream",
       "stream": "stderr",
       "text": [
        "DEBUG:root:timeDelta = 0, distanceDelta = %s, returning speed = 0\n"
       ]
      },
      {
       "output_type": "stream",
       "stream": "stderr",
       "text": [
        "DEBUG:root:timeDelta = 0, distanceDelta = %s, returning speed = 0\n"
       ]
      },
      {
       "output_type": "stream",
       "stream": "stderr",
       "text": [
        "DEBUG:root:timeDelta = 0, distanceDelta = %s, returning speed = 0\n"
       ]
      },
      {
       "output_type": "stream",
       "stream": "stderr",
       "text": [
        "DEBUG:root:timeDelta = 0, distanceDelta = %s, returning speed = 0\n"
       ]
      },
      {
       "output_type": "stream",
       "stream": "stderr",
       "text": [
        "DEBUG:root:timeDelta = 0, distanceDelta = %s, returning speed = 0\n"
       ]
      },
      {
       "output_type": "stream",
       "stream": "stderr",
       "text": [
        "DEBUG:root:timeDelta = 0, distanceDelta = %s, returning speed = 0\n"
       ]
      },
      {
       "output_type": "stream",
       "stream": "stderr",
       "text": [
        "DEBUG:root:timeDelta = 0, distanceDelta = %s, returning speed = 0\n"
       ]
      },
      {
       "output_type": "stream",
       "stream": "stderr",
       "text": [
        "DEBUG:root:timeDelta = 0, distanceDelta = %s, returning speed = 0\n"
       ]
      },
      {
       "output_type": "stream",
       "stream": "stderr",
       "text": [
        "DEBUG:root:timeDelta = 0, distanceDelta = %s, returning speed = 0\n"
       ]
      },
      {
       "output_type": "stream",
       "stream": "stderr",
       "text": [
        "DEBUG:root:timeDelta = 0, distanceDelta = %s, returning speed = 0\n"
       ]
      },
      {
       "output_type": "stream",
       "stream": "stderr",
       "text": [
        "DEBUG:root:timeDelta = 0, distanceDelta = %s, returning speed = 0\n"
       ]
      },
      {
       "output_type": "stream",
       "stream": "stderr",
       "text": [
        "DEBUG:root:timeDelta = 0, distanceDelta = %s, returning speed = 0\n"
       ]
      },
      {
       "output_type": "stream",
       "stream": "stderr",
       "text": [
        "DEBUG:root:timeDelta = 0, distanceDelta = %s, returning speed = 0\n"
       ]
      },
      {
       "output_type": "stream",
       "stream": "stderr",
       "text": [
        "DEBUG:root:timeDelta = 0, distanceDelta = %s, returning speed = 0\n"
       ]
      },
      {
       "output_type": "stream",
       "stream": "stderr",
       "text": [
        "DEBUG:root:timeDelta = 0, distanceDelta = %s, returning speed = 0\n"
       ]
      },
      {
       "output_type": "stream",
       "stream": "stderr",
       "text": [
        "DEBUG:root:timeDelta = 0, distanceDelta = %s, returning speed = 0\n"
       ]
      },
      {
       "output_type": "stream",
       "stream": "stderr",
       "text": [
        "DEBUG:root:timeDelta = 0, distanceDelta = %s, returning speed = 0\n"
       ]
      },
      {
       "output_type": "stream",
       "stream": "stderr",
       "text": [
        "DEBUG:root:timeDelta = 0, distanceDelta = %s, returning speed = 0\n"
       ]
      },
      {
       "output_type": "stream",
       "stream": "stderr",
       "text": [
        "DEBUG:root:timeDelta = 0, distanceDelta = %s, returning speed = 0\n"
       ]
      },
      {
       "output_type": "stream",
       "stream": "stderr",
       "text": [
        "DEBUG:root:timeDelta = 0, distanceDelta = %s, returning speed = 0\n"
       ]
      },
      {
       "output_type": "stream",
       "stream": "stderr",
       "text": [
        "DEBUG:root:timeDelta = 0, distanceDelta = %s, returning speed = 0\n"
       ]
      },
      {
       "output_type": "stream",
       "stream": "stderr",
       "text": [
        "DEBUG:root:timeDelta = 0, distanceDelta = %s, returning speed = 0\n"
       ]
      },
      {
       "output_type": "stream",
       "stream": "stderr",
       "text": [
        "DEBUG:root:timeDelta = 0, distanceDelta = %s, returning speed = 0\n"
       ]
      },
      {
       "output_type": "stream",
       "stream": "stderr",
       "text": [
        "DEBUG:root:timeDelta = 0, distanceDelta = %s, returning speed = 0\n"
       ]
      },
      {
       "output_type": "stream",
       "stream": "stderr",
       "text": [
        "DEBUG:root:timeDelta = 0, distanceDelta = %s, returning speed = 0\n"
       ]
      },
      {
       "output_type": "stream",
       "stream": "stderr",
       "text": [
        "DEBUG:root:timeDelta = 0, distanceDelta = %s, returning speed = 0\n"
       ]
      },
      {
       "output_type": "stream",
       "stream": "stderr",
       "text": [
        "DEBUG:root:timeDelta = 0, distanceDelta = %s, returning speed = 0\n"
       ]
      },
      {
       "output_type": "stream",
       "stream": "stderr",
       "text": [
        "DEBUG:root:timeDelta = 0, distanceDelta = %s, returning speed = 0\n"
       ]
      },
      {
       "output_type": "stream",
       "stream": "stderr",
       "text": [
        "DEBUG:root:timeDelta = 0, distanceDelta = %s, returning speed = 0\n"
       ]
      },
      {
       "output_type": "stream",
       "stream": "stderr",
       "text": [
        "DEBUG:root:timeDelta = 0, distanceDelta = %s, returning speed = 0\n"
       ]
      },
      {
       "output_type": "stream",
       "stream": "stderr",
       "text": [
        "DEBUG:root:timeDelta = 0, distanceDelta = %s, returning speed = 0\n"
       ]
      },
      {
       "output_type": "stream",
       "stream": "stderr",
       "text": [
        "DEBUG:root:timeDelta = 0, distanceDelta = %s, returning speed = 0\n"
       ]
      },
      {
       "output_type": "stream",
       "stream": "stderr",
       "text": [
        "DEBUG:root:timeDelta = 0, distanceDelta = %s, returning speed = 0\n"
       ]
      },
      {
       "output_type": "stream",
       "stream": "stderr",
       "text": [
        "DEBUG:root:timeDelta = 0, distanceDelta = %s, returning speed = 0\n"
       ]
      },
      {
       "output_type": "stream",
       "stream": "stderr",
       "text": [
        "DEBUG:root:timeDelta = 0, distanceDelta = %s, returning speed = 0\n"
       ]
      },
      {
       "output_type": "stream",
       "stream": "stderr",
       "text": [
        "DEBUG:root:timeDelta = 0, distanceDelta = %s, returning speed = 0\n"
       ]
      },
      {
       "output_type": "stream",
       "stream": "stderr",
       "text": [
        "DEBUG:root:timeDelta = 0, distanceDelta = %s, returning speed = 0\n"
       ]
      },
      {
       "output_type": "stream",
       "stream": "stderr",
       "text": [
        "DEBUG:root:timeDelta = 0, distanceDelta = %s, returning speed = 0\n"
       ]
      },
      {
       "output_type": "stream",
       "stream": "stderr",
       "text": [
        "DEBUG:root:timeDelta = 0, distanceDelta = %s, returning speed = 0\n"
       ]
      },
      {
       "output_type": "stream",
       "stream": "stderr",
       "text": [
        "DEBUG:root:timeDelta = 0, distanceDelta = %s, returning speed = 0\n"
       ]
      },
      {
       "output_type": "stream",
       "stream": "stderr",
       "text": [
        "DEBUG:root:timeDelta = 0, distanceDelta = %s, returning speed = 0\n"
       ]
      },
      {
       "output_type": "stream",
       "stream": "stderr",
       "text": [
        "DEBUG:root:timeDelta = 0, distanceDelta = %s, returning speed = 0\n"
       ]
      },
      {
       "output_type": "stream",
       "stream": "stderr",
       "text": [
        "DEBUG:root:timeDelta = 0, distanceDelta = %s, returning speed = 0\n"
       ]
      },
      {
       "output_type": "stream",
       "stream": "stderr",
       "text": [
        "DEBUG:root:timeDelta = 0, distanceDelta = %s, returning speed = 0\n"
       ]
      },
      {
       "output_type": "stream",
       "stream": "stderr",
       "text": [
        "DEBUG:root:timeDelta = 0, distanceDelta = %s, returning speed = 0\n"
       ]
      },
      {
       "output_type": "stream",
       "stream": "stderr",
       "text": [
        "DEBUG:root:timeDelta = 0, distanceDelta = %s, returning speed = 0\n"
       ]
      },
      {
       "output_type": "stream",
       "stream": "stderr",
       "text": [
        "DEBUG:root:timeDelta = 0, distanceDelta = %s, returning speed = 0\n"
       ]
      },
      {
       "output_type": "stream",
       "stream": "stderr",
       "text": [
        "DEBUG:root:timeDelta = 0, distanceDelta = %s, returning speed = 0\n"
       ]
      },
      {
       "output_type": "stream",
       "stream": "stderr",
       "text": [
        "DEBUG:root:timeDelta = 0, distanceDelta = %s, returning speed = 0\n"
       ]
      },
      {
       "output_type": "stream",
       "stream": "stderr",
       "text": [
        "DEBUG:root:timeDelta = 0, distanceDelta = %s, returning speed = 0\n"
       ]
      },
      {
       "output_type": "stream",
       "stream": "stderr",
       "text": [
        "DEBUG:root:timeDelta = 0, distanceDelta = %s, returning speed = 0\n"
       ]
      },
      {
       "output_type": "stream",
       "stream": "stderr",
       "text": [
        "DEBUG:root:timeDelta = 0, distanceDelta = %s, returning speed = 0\n"
       ]
      },
      {
       "output_type": "stream",
       "stream": "stderr",
       "text": [
        "DEBUG:root:timeDelta = 0, distanceDelta = %s, returning speed = 0\n"
       ]
      },
      {
       "output_type": "stream",
       "stream": "stderr",
       "text": [
        "DEBUG:root:timeDelta = 0, distanceDelta = %s, returning speed = 0\n"
       ]
      },
      {
       "output_type": "stream",
       "stream": "stderr",
       "text": [
        "DEBUG:root:timeDelta = 0, distanceDelta = %s, returning speed = 0\n"
       ]
      },
      {
       "output_type": "stream",
       "stream": "stderr",
       "text": [
        "DEBUG:root:timeDelta = 0, distanceDelta = %s, returning speed = 0\n"
       ]
      },
      {
       "output_type": "stream",
       "stream": "stderr",
       "text": [
        "DEBUG:root:timeDelta = 0, distanceDelta = %s, returning speed = 0\n"
       ]
      },
      {
       "output_type": "stream",
       "stream": "stderr",
       "text": [
        "DEBUG:root:timeDelta = 0, distanceDelta = %s, returning speed = 0\n"
       ]
      },
      {
       "output_type": "stream",
       "stream": "stderr",
       "text": [
        "DEBUG:root:timeDelta = 0, distanceDelta = %s, returning speed = 0\n"
       ]
      },
      {
       "output_type": "stream",
       "stream": "stderr",
       "text": [
        "DEBUG:root:timeDelta = 0, distanceDelta = %s, returning speed = 0\n"
       ]
      },
      {
       "output_type": "stream",
       "stream": "stderr",
       "text": [
        "DEBUG:root:timeDelta = 0, distanceDelta = %s, returning speed = 0\n"
       ]
      },
      {
       "output_type": "stream",
       "stream": "stderr",
       "text": [
        "DEBUG:root:timeDelta = 0, distanceDelta = %s, returning speed = 0\n"
       ]
      },
      {
       "output_type": "stream",
       "stream": "stderr",
       "text": [
        "DEBUG:root:timeDelta = 0, distanceDelta = %s, returning speed = 0\n"
       ]
      },
      {
       "output_type": "stream",
       "stream": "stderr",
       "text": [
        "DEBUG:root:timeDelta = 0, distanceDelta = %s, returning speed = 0\n"
       ]
      },
      {
       "output_type": "stream",
       "stream": "stderr",
       "text": [
        "DEBUG:root:timeDelta = 0, distanceDelta = %s, returning speed = 0\n"
       ]
      },
      {
       "output_type": "stream",
       "stream": "stderr",
       "text": [
        "DEBUG:root:timeDelta = 0, distanceDelta = %s, returning speed = 0\n"
       ]
      },
      {
       "output_type": "stream",
       "stream": "stderr",
       "text": [
        "DEBUG:root:timeDelta = 0, distanceDelta = %s, returning speed = 0\n"
       ]
      },
      {
       "output_type": "stream",
       "stream": "stderr",
       "text": [
        "DEBUG:root:timeDelta = 0, distanceDelta = %s, returning speed = 0\n"
       ]
      },
      {
       "output_type": "stream",
       "stream": "stderr",
       "text": [
        "DEBUG:root:timeDelta = 0, distanceDelta = %s, returning speed = 0\n"
       ]
      },
      {
       "output_type": "stream",
       "stream": "stderr",
       "text": [
        "DEBUG:root:timeDelta = 0, distanceDelta = %s, returning speed = 0\n"
       ]
      },
      {
       "output_type": "stream",
       "stream": "stderr",
       "text": [
        "DEBUG:root:timeDelta = 0, distanceDelta = %s, returning speed = 0\n"
       ]
      },
      {
       "output_type": "stream",
       "stream": "stderr",
       "text": [
        "DEBUG:root:timeDelta = 0, distanceDelta = %s, returning speed = 0\n"
       ]
      },
      {
       "output_type": "stream",
       "stream": "stderr",
       "text": [
        "DEBUG:root:timeDelta = 0, distanceDelta = %s, returning speed = 0\n"
       ]
      },
      {
       "output_type": "stream",
       "stream": "stderr",
       "text": [
        "DEBUG:root:timeDelta = 0, distanceDelta = %s, returning speed = 0\n"
       ]
      },
      {
       "output_type": "stream",
       "stream": "stderr",
       "text": [
        "DEBUG:root:timeDelta = 0, distanceDelta = %s, returning speed = 0\n"
       ]
      },
      {
       "output_type": "stream",
       "stream": "stderr",
       "text": [
        "DEBUG:root:timeDelta = 0, distanceDelta = %s, returning speed = 0\n"
       ]
      },
      {
       "output_type": "stream",
       "stream": "stderr",
       "text": [
        "DEBUG:root:timeDelta = 0, distanceDelta = %s, returning speed = 0\n"
       ]
      },
      {
       "output_type": "stream",
       "stream": "stderr",
       "text": [
        "DEBUG:root:timeDelta = 0, distanceDelta = %s, returning speed = 0\n"
       ]
      },
      {
       "output_type": "stream",
       "stream": "stderr",
       "text": [
        "DEBUG:root:timeDelta = 0, distanceDelta = %s, returning speed = 0\n"
       ]
      },
      {
       "output_type": "stream",
       "stream": "stderr",
       "text": [
        "DEBUG:root:timeDelta = 0, distanceDelta = %s, returning speed = 0\n"
       ]
      },
      {
       "output_type": "stream",
       "stream": "stderr",
       "text": [
        "DEBUG:root:timeDelta = 0, distanceDelta = %s, returning speed = 0\n"
       ]
      },
      {
       "output_type": "stream",
       "stream": "stderr",
       "text": [
        "DEBUG:root:timeDelta = 0, distanceDelta = %s, returning speed = 0\n"
       ]
      },
      {
       "output_type": "stream",
       "stream": "stderr",
       "text": [
        "DEBUG:root:timeDelta = 0, distanceDelta = %s, returning speed = 0\n"
       ]
      },
      {
       "output_type": "stream",
       "stream": "stderr",
       "text": [
        "DEBUG:root:timeDelta = 0, distanceDelta = %s, returning speed = 0\n"
       ]
      },
      {
       "output_type": "stream",
       "stream": "stderr",
       "text": [
        "DEBUG:root:timeDelta = 0, distanceDelta = %s, returning speed = 0\n"
       ]
      },
      {
       "output_type": "stream",
       "stream": "stderr",
       "text": [
        "DEBUG:root:timeDelta = 0, distanceDelta = %s, returning speed = 0\n"
       ]
      },
      {
       "output_type": "stream",
       "stream": "stderr",
       "text": [
        "DEBUG:root:timeDelta = 0, distanceDelta = %s, returning speed = 0\n"
       ]
      },
      {
       "output_type": "stream",
       "stream": "stderr",
       "text": [
        "DEBUG:root:timeDelta = 0, distanceDelta = %s, returning speed = 0\n"
       ]
      },
      {
       "output_type": "stream",
       "stream": "stderr",
       "text": [
        "DEBUG:root:timeDelta = 0, distanceDelta = %s, returning speed = 0\n"
       ]
      },
      {
       "output_type": "stream",
       "stream": "stderr",
       "text": [
        "DEBUG:root:timeDelta = 0, distanceDelta = %s, returning speed = 0\n"
       ]
      },
      {
       "output_type": "stream",
       "stream": "stderr",
       "text": [
        "DEBUG:root:timeDelta = 0, distanceDelta = %s, returning speed = 0\n"
       ]
      },
      {
       "output_type": "stream",
       "stream": "stderr",
       "text": [
        "DEBUG:root:timeDelta = 0, distanceDelta = %s, returning speed = 0\n"
       ]
      },
      {
       "output_type": "stream",
       "stream": "stderr",
       "text": [
        "DEBUG:root:timeDelta = 0, distanceDelta = %s, returning speed = 0\n"
       ]
      },
      {
       "output_type": "stream",
       "stream": "stderr",
       "text": [
        "DEBUG:root:timeDelta = 0, distanceDelta = %s, returning speed = 0\n"
       ]
      },
      {
       "output_type": "stream",
       "stream": "stderr",
       "text": [
        "DEBUG:root:timeDelta = 0, distanceDelta = %s, returning speed = 0\n"
       ]
      },
      {
       "output_type": "stream",
       "stream": "stderr",
       "text": [
        "DEBUG:root:timeDelta = 0, distanceDelta = %s, returning speed = 0\n"
       ]
      },
      {
       "output_type": "stream",
       "stream": "stderr",
       "text": [
        "DEBUG:root:timeDelta = 0, distanceDelta = %s, returning speed = 0\n"
       ]
      },
      {
       "output_type": "stream",
       "stream": "stderr",
       "text": [
        "DEBUG:root:timeDelta = 0, distanceDelta = %s, returning speed = 0\n"
       ]
      },
      {
       "output_type": "stream",
       "stream": "stderr",
       "text": [
        "DEBUG:root:timeDelta = 0, distanceDelta = %s, returning speed = 0\n"
       ]
      },
      {
       "output_type": "stream",
       "stream": "stderr",
       "text": [
        "DEBUG:root:timeDelta = 0, distanceDelta = %s, returning speed = 0\n"
       ]
      },
      {
       "output_type": "stream",
       "stream": "stderr",
       "text": [
        "DEBUG:root:timeDelta = 0, distanceDelta = %s, returning speed = 0\n"
       ]
      },
      {
       "output_type": "stream",
       "stream": "stderr",
       "text": [
        "DEBUG:root:timeDelta = 0, distanceDelta = %s, returning speed = 0\n"
       ]
      },
      {
       "output_type": "stream",
       "stream": "stderr",
       "text": [
        "DEBUG:root:timeDelta = 0, distanceDelta = %s, returning speed = 0\n"
       ]
      },
      {
       "output_type": "stream",
       "stream": "stderr",
       "text": [
        "DEBUG:root:timeDelta = 0, distanceDelta = %s, returning speed = 0\n"
       ]
      },
      {
       "output_type": "stream",
       "stream": "stderr",
       "text": [
        "DEBUG:root:timeDelta = 0, distanceDelta = %s, returning speed = 0\n"
       ]
      },
      {
       "output_type": "stream",
       "stream": "stderr",
       "text": [
        "DEBUG:root:timeDelta = 0, distanceDelta = %s, returning speed = 0\n"
       ]
      },
      {
       "output_type": "stream",
       "stream": "stderr",
       "text": [
        "DEBUG:root:timeDelta = 0, distanceDelta = %s, returning speed = 0\n"
       ]
      },
      {
       "output_type": "stream",
       "stream": "stderr",
       "text": [
        "DEBUG:root:timeDelta = 0, distanceDelta = %s, returning speed = 0\n"
       ]
      },
      {
       "output_type": "stream",
       "stream": "stderr",
       "text": [
        "DEBUG:root:timeDelta = 0, distanceDelta = %s, returning speed = 0\n"
       ]
      },
      {
       "output_type": "stream",
       "stream": "stderr",
       "text": [
        "DEBUG:root:timeDelta = 0, distanceDelta = %s, returning speed = 0\n"
       ]
      },
      {
       "output_type": "stream",
       "stream": "stderr",
       "text": [
        "DEBUG:root:timeDelta = 0, distanceDelta = %s, returning speed = 0\n"
       ]
      },
      {
       "output_type": "stream",
       "stream": "stderr",
       "text": [
        "DEBUG:root:timeDelta = 0, distanceDelta = %s, returning speed = 0\n"
       ]
      },
      {
       "output_type": "stream",
       "stream": "stderr",
       "text": [
        "DEBUG:root:timeDelta = 0, distanceDelta = %s, returning speed = 0\n"
       ]
      },
      {
       "output_type": "stream",
       "stream": "stderr",
       "text": [
        "DEBUG:root:timeDelta = 0, distanceDelta = %s, returning speed = 0\n"
       ]
      },
      {
       "output_type": "stream",
       "stream": "stderr",
       "text": [
        "DEBUG:root:timeDelta = 0, distanceDelta = %s, returning speed = 0\n"
       ]
      },
      {
       "output_type": "stream",
       "stream": "stderr",
       "text": [
        "DEBUG:root:timeDelta = 0, distanceDelta = %s, returning speed = 0\n"
       ]
      },
      {
       "output_type": "stream",
       "stream": "stderr",
       "text": [
        "DEBUG:root:timeDelta = 0, distanceDelta = %s, returning speed = 0\n"
       ]
      },
      {
       "output_type": "stream",
       "stream": "stderr",
       "text": [
        "DEBUG:root:timeDelta = 0, distanceDelta = %s, returning speed = 0\n"
       ]
      },
      {
       "output_type": "stream",
       "stream": "stderr",
       "text": [
        "DEBUG:root:timeDelta = 0, distanceDelta = %s, returning speed = 0\n"
       ]
      },
      {
       "output_type": "stream",
       "stream": "stderr",
       "text": [
        "DEBUG:root:timeDelta = 0, distanceDelta = %s, returning speed = 0\n"
       ]
      },
      {
       "output_type": "stream",
       "stream": "stderr",
       "text": [
        "DEBUG:root:timeDelta = 0, distanceDelta = %s, returning speed = 0\n"
       ]
      },
      {
       "output_type": "stream",
       "stream": "stderr",
       "text": [
        "DEBUG:root:timeDelta = 0, distanceDelta = %s, returning speed = 0\n"
       ]
      },
      {
       "output_type": "stream",
       "stream": "stderr",
       "text": [
        "DEBUG:root:timeDelta = 0, distanceDelta = %s, returning speed = 0\n"
       ]
      },
      {
       "output_type": "stream",
       "stream": "stderr",
       "text": [
        "DEBUG:root:timeDelta = 0, distanceDelta = %s, returning speed = 0\n"
       ]
      },
      {
       "output_type": "stream",
       "stream": "stderr",
       "text": [
        "DEBUG:root:timeDelta = 0, distanceDelta = %s, returning speed = 0\n"
       ]
      },
      {
       "output_type": "stream",
       "stream": "stderr",
       "text": [
        "DEBUG:root:timeDelta = 0, distanceDelta = %s, returning speed = 0\n"
       ]
      },
      {
       "output_type": "stream",
       "stream": "stderr",
       "text": [
        "DEBUG:root:timeDelta = 0, distanceDelta = %s, returning speed = 0\n"
       ]
      },
      {
       "output_type": "stream",
       "stream": "stderr",
       "text": [
        "DEBUG:root:timeDelta = 0, distanceDelta = %s, returning speed = 0\n"
       ]
      },
      {
       "output_type": "stream",
       "stream": "stderr",
       "text": [
        "DEBUG:root:timeDelta = 0, distanceDelta = %s, returning speed = 0\n"
       ]
      },
      {
       "output_type": "stream",
       "stream": "stderr",
       "text": [
        "DEBUG:root:timeDelta = 0, distanceDelta = %s, returning speed = 0\n"
       ]
      },
      {
       "output_type": "stream",
       "stream": "stderr",
       "text": [
        "DEBUG:root:timeDelta = 0, distanceDelta = %s, returning speed = 0\n"
       ]
      },
      {
       "output_type": "stream",
       "stream": "stderr",
       "text": [
        "DEBUG:root:timeDelta = 0, distanceDelta = %s, returning speed = 0\n"
       ]
      },
      {
       "output_type": "stream",
       "stream": "stderr",
       "text": [
        "DEBUG:root:timeDelta = 0, distanceDelta = %s, returning speed = 0\n"
       ]
      },
      {
       "output_type": "stream",
       "stream": "stderr",
       "text": [
        "DEBUG:root:timeDelta = 0, distanceDelta = %s, returning speed = 0\n"
       ]
      },
      {
       "output_type": "stream",
       "stream": "stderr",
       "text": [
        "DEBUG:root:timeDelta = 0, distanceDelta = %s, returning speed = 0\n"
       ]
      },
      {
       "output_type": "stream",
       "stream": "stderr",
       "text": [
        "DEBUG:root:timeDelta = 0, distanceDelta = %s, returning speed = 0\n"
       ]
      },
      {
       "output_type": "stream",
       "stream": "stderr",
       "text": [
        "DEBUG:root:timeDelta = 0, distanceDelta = %s, returning speed = 0\n"
       ]
      },
      {
       "output_type": "stream",
       "stream": "stderr",
       "text": [
        "DEBUG:root:timeDelta = 0, distanceDelta = %s, returning speed = 0\n"
       ]
      },
      {
       "output_type": "stream",
       "stream": "stderr",
       "text": [
        "DEBUG:root:timeDelta = 0, distanceDelta = %s, returning speed = 0\n"
       ]
      },
      {
       "output_type": "stream",
       "stream": "stderr",
       "text": [
        "DEBUG:root:timeDelta = 0, distanceDelta = %s, returning speed = 0\n"
       ]
      },
      {
       "output_type": "stream",
       "stream": "stderr",
       "text": [
        "DEBUG:root:timeDelta = 0, distanceDelta = %s, returning speed = 0\n"
       ]
      },
      {
       "output_type": "stream",
       "stream": "stderr",
       "text": [
        "DEBUG:root:timeDelta = 0, distanceDelta = %s, returning speed = 0\n"
       ]
      },
      {
       "output_type": "stream",
       "stream": "stderr",
       "text": [
        "DEBUG:root:timeDelta = 0, distanceDelta = %s, returning speed = 0\n"
       ]
      },
      {
       "output_type": "stream",
       "stream": "stderr",
       "text": [
        "DEBUG:root:timeDelta = 0, distanceDelta = %s, returning speed = 0\n"
       ]
      },
      {
       "output_type": "stream",
       "stream": "stderr",
       "text": [
        "DEBUG:root:timeDelta = 0, distanceDelta = %s, returning speed = 0\n"
       ]
      },
      {
       "output_type": "stream",
       "stream": "stderr",
       "text": [
        "DEBUG:root:timeDelta = 0, distanceDelta = %s, returning speed = 0\n"
       ]
      },
      {
       "output_type": "stream",
       "stream": "stderr",
       "text": [
        "DEBUG:root:timeDelta = 0, distanceDelta = %s, returning speed = 0\n"
       ]
      },
      {
       "output_type": "stream",
       "stream": "stderr",
       "text": [
        "DEBUG:root:timeDelta = 0, distanceDelta = %s, returning speed = 0\n"
       ]
      },
      {
       "output_type": "stream",
       "stream": "stderr",
       "text": [
        "DEBUG:root:timeDelta = 0, distanceDelta = %s, returning speed = 0\n"
       ]
      },
      {
       "output_type": "stream",
       "stream": "stderr",
       "text": [
        "DEBUG:root:timeDelta = 0, distanceDelta = %s, returning speed = 0\n"
       ]
      },
      {
       "output_type": "stream",
       "stream": "stderr",
       "text": [
        "DEBUG:root:timeDelta = 0, distanceDelta = %s, returning speed = 0\n"
       ]
      },
      {
       "output_type": "stream",
       "stream": "stderr",
       "text": [
        "DEBUG:root:timeDelta = 0, distanceDelta = %s, returning speed = 0\n"
       ]
      },
      {
       "output_type": "stream",
       "stream": "stderr",
       "text": [
        "DEBUG:root:timeDelta = 0, distanceDelta = %s, returning speed = 0\n"
       ]
      },
      {
       "output_type": "stream",
       "stream": "stderr",
       "text": [
        "DEBUG:root:timeDelta = 0, distanceDelta = %s, returning speed = 0\n"
       ]
      },
      {
       "output_type": "stream",
       "stream": "stderr",
       "text": [
        "DEBUG:root:timeDelta = 0, distanceDelta = %s, returning speed = 0\n"
       ]
      },
      {
       "output_type": "stream",
       "stream": "stderr",
       "text": [
        "DEBUG:root:timeDelta = 0, distanceDelta = %s, returning speed = 0\n"
       ]
      },
      {
       "output_type": "stream",
       "stream": "stderr",
       "text": [
        "DEBUG:root:timeDelta = 0, distanceDelta = %s, returning speed = 0\n"
       ]
      },
      {
       "output_type": "stream",
       "stream": "stderr",
       "text": [
        "DEBUG:root:timeDelta = 0, distanceDelta = %s, returning speed = 0\n"
       ]
      },
      {
       "output_type": "stream",
       "stream": "stderr",
       "text": [
        "DEBUG:root:timeDelta = 0, distanceDelta = %s, returning speed = 0\n"
       ]
      },
      {
       "output_type": "stream",
       "stream": "stderr",
       "text": [
        "DEBUG:root:timeDelta = 0, distanceDelta = %s, returning speed = 0\n"
       ]
      },
      {
       "output_type": "stream",
       "stream": "stderr",
       "text": [
        "DEBUG:root:timeDelta = 0, distanceDelta = %s, returning speed = 0\n"
       ]
      },
      {
       "output_type": "stream",
       "stream": "stderr",
       "text": [
        "DEBUG:root:timeDelta = 0, distanceDelta = %s, returning speed = 0\n"
       ]
      },
      {
       "output_type": "stream",
       "stream": "stderr",
       "text": [
        "DEBUG:root:timeDelta = 0, distanceDelta = %s, returning speed = 0\n"
       ]
      },
      {
       "output_type": "stream",
       "stream": "stderr",
       "text": [
        "DEBUG:root:timeDelta = 0, distanceDelta = %s, returning speed = 0\n"
       ]
      },
      {
       "output_type": "stream",
       "stream": "stdout",
       "text": [
        "\n",
        "Considering phone 2\n",
        "ground truth exit = 2015-12-01 17:57:53, geofence_exit_ts = +192.522071, first location point = +192.574741"
       ]
      },
      {
       "output_type": "stream",
       "stream": "stdout",
       "text": [
        "\n",
        "length of lat_means = 3\n",
        "Considering phone 0\n",
        "1    32\n",
        "2    32\n",
        "3    33\n",
        "4    32\n",
        "5    32\n",
        "Name: ts, dtype: float64\n",
        "ground truth exit = 2015-12-01 17:57:53, geofence_exit_ts = +114.429000, first location point = +148.000000"
       ]
      },
      {
       "output_type": "stream",
       "stream": "stdout",
       "text": [
        "\n",
        "Considering phone 1\n",
        "2    33\n",
        "3    32\n",
        "4    32\n",
        "5    32\n",
        "6    31\n",
        "Name: ts, dtype: float64\n",
        "ground truth exit = 2015-12-01 17:57:53, geofence_exit_ts = +156.909000, first location point = +189.000000\n",
        "Considering phone 2\n",
        "1    32\n",
        "2    32\n",
        "3    32\n",
        "4    34\n",
        "5    33\n",
        "Name: ts, dtype: float64"
       ]
      },
      {
       "output_type": "stream",
       "stream": "stdout",
       "text": [
        "\n",
        "len(transition_df) = 0, ground_truth_exit_ts = 1449021473, geofence was not exited!!\n"
       ]
      },
      {
       "metadata": {},
       "output_type": "display_data",
       "png": "[encoded data removed]",
       "text": [
        "<matplotlib.figure.Figure at 0x10d810110>"
       ]
      },
      {
       "metadata": {},
       "output_type": "display_data",
       "png": "[encoded data removed]",
       "text": [
        "<matplotlib.figure.Figure at 0x10de9bc50>"
       ]
      },
      {
       "metadata": {},
       "output_type": "display_data",
       "png": "[encoded data removed]",
       "text": [
        "<matplotlib.figure.Figure at 0x10c5f41d0>"
       ]
      },
      {
       "metadata": {},
       "output_type": "display_data",
       "png": "[encoded data removed]",
       "text": [
        "<matplotlib.figure.Figure at 0x10e9f1790>"
       ]
      },
      {
       "metadata": {},
       "output_type": "display_data",
       "png": "[encoded data removed]",
       "text": [
        "<matplotlib.figure.Figure at 0x10e489f10>"
       ]
      },
      {
       "metadata": {},
       "output_type": "display_data",
       "png": "[encoded data removed]",
       "text": [
        "<matplotlib.figure.Figure at 0x1101b0c10>"
       ]
      },
      {
       "metadata": {},
       "output_type": "display_data",
       "png": "[encoded data removed]",
       "text": [
        "<matplotlib.figure.Figure at 0x10d810410>"
       ]
      },
      {
       "metadata": {},
       "output_type": "display_data",
       "png": "[encoded data removed]",
       "text": [
        "<matplotlib.figure.Figure at 0x1114f2290>"
       ]
      }
     ],
     "prompt_number": 29
    },
    {
     "cell_type": "code",
     "collapsed": false,
     "input": [],
     "language": "python",
     "metadata": {},
     "outputs": []
    }
   ],
   "metadata": {}
  }
 ]
}