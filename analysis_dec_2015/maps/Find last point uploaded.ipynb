{
 "metadata": {
  "name": "",
  "signature": "sha256:0881bf2047a8cca5e2b67c1a68d6ae1559bbf951abb1297b7bc60f1fed6ad559"
 },
 "nbformat": 3,
 "nbformat_minor": 0,
 "worksheets": [
  {
   "cells": [
    {
     "cell_type": "code",
     "collapsed": false,
     "input": [
      "import sys"
     ],
     "language": "python",
     "metadata": {},
     "outputs": [],
     "prompt_number": 1
    },
    {
     "cell_type": "code",
     "collapsed": false,
     "input": [
      "sys.path.insert(0, \"/Users/shankari/e-mission/data-collection-eval/src\")"
     ],
     "language": "python",
     "metadata": {},
     "outputs": [],
     "prompt_number": 2
    },
    {
     "cell_type": "code",
     "collapsed": false,
     "input": [
      "sys.path"
     ],
     "language": "python",
     "metadata": {},
     "outputs": [
      {
       "metadata": {},
       "output_type": "pyout",
       "prompt_number": 3,
       "text": [
        "['/Users/shankari/e-mission/data-collection-eval/src',\n",
        " '',\n",
        " '/Users/shankari/OSS/anaconda/lib/python2.7/site-packages/pygmaps-0.1.1-py2.7.egg',\n",
        " '/Users/shankari/bin/python',\n",
        " '/Users/shankari/e-mission/data-collection-eval/analysis_dec_2015/maps',\n",
        " '/Users/shankari/OSS/anaconda/python.app/Contents/lib/python27.zip',\n",
        " '/Users/shankari/OSS/anaconda/python.app/Contents/lib/python2.7',\n",
        " '/Users/shankari/OSS/anaconda/python.app/Contents/lib/python2.7/plat-darwin',\n",
        " '/Users/shankari/OSS/anaconda/python.app/Contents/lib/python2.7/plat-mac',\n",
        " '/Users/shankari/OSS/anaconda/python.app/Contents/lib/python2.7/plat-mac/lib-scriptpackages',\n",
        " '/Users/shankari/OSS/anaconda/python.app/Contents/lib/python2.7/lib-tk',\n",
        " '/Users/shankari/OSS/anaconda/python.app/Contents/lib/python2.7/lib-old',\n",
        " '/Users/shankari/OSS/anaconda/python.app/Contents/lib/python2.7/lib-dynload',\n",
        " '/Users/shankari/OSS/anaconda/lib/python2.7/site-packages',\n",
        " '/Users/shankari/OSS/anaconda/lib/python2.7/site-packages/PIL',\n",
        " '/Users/shankari/OSS/anaconda/lib/python2.7/site-packages/runipy-0.1.0-py2.7.egg',\n",
        " '/Users/shankari/OSS/anaconda/lib/python2.7/site-packages/setuptools-18.4-py2.7.egg',\n",
        " '/Users/shankari/OSS/anaconda/lib/python2.7/site-packages/IPython/extensions']"
       ]
      }
     ],
     "prompt_number": 3
    },
    {
     "cell_type": "code",
     "collapsed": false,
     "input": [
      "import analysis.common as ac"
     ],
     "language": "python",
     "metadata": {},
     "outputs": [],
     "prompt_number": 4
    },
    {
     "cell_type": "code",
     "collapsed": false,
     "input": [
      "(iphone_ids, android_ids, phone_labels) = ac.setupPaths()"
     ],
     "language": "python",
     "metadata": {},
     "outputs": [],
     "prompt_number": 5
    },
    {
     "cell_type": "code",
     "collapsed": false,
     "input": [
      "import emission.analysis.plotting.geojson.geojson_feature_converter as gfc\n",
      "import emission.analysis.plotting.leaflet_osm.our_plotter as lo\n",
      "import emission.analysis.plotting.leaflet_osm.ipython_helper as ipy"
     ],
     "language": "python",
     "metadata": {},
     "outputs": [],
     "prompt_number": 6
    },
    {
     "cell_type": "code",
     "collapsed": false,
     "input": [
      "import emission.core.get_database as edb\n",
      "import pandas as pd\n",
      "import matplotlib.pyplot as plt\n",
      "%matplotlib inline\n",
      "import datetime as pydt\n",
      "import emission.storage.timeseries.abstract_timeseries as esta\n",
      "import emission.net.usercache.abstract_usercache as enua"
     ],
     "language": "python",
     "metadata": {},
     "outputs": [],
     "prompt_number": 16
    },
    {
     "cell_type": "code",
     "collapsed": false,
     "input": [
      "ground_truth_df = pd.read_csv(\"../../ground_truth/trip_to_berkeley.friday.2015-12-04/states.summary\")"
     ],
     "language": "python",
     "metadata": {},
     "outputs": [],
     "prompt_number": 17
    },
    {
     "cell_type": "code",
     "collapsed": false,
     "input": [
      "passive_row = ground_truth_df[ground_truth_df.state == \"passive\"].iloc[0]"
     ],
     "language": "python",
     "metadata": {},
     "outputs": [],
     "prompt_number": 22
    },
    {
     "cell_type": "code",
     "collapsed": false,
     "input": [
      "iphone_ts = esta.TimeSeries.get_time_series(iphone_ids[0])"
     ],
     "language": "python",
     "metadata": {},
     "outputs": [],
     "prompt_number": 19
    },
    {
     "cell_type": "code",
     "collapsed": false,
     "input": [
      "list(iphone_ts.find_entries(time_query=enua.UserCache.TimeQuery(\"write_ts\", passive_row.start_ts, passive_row.end_ts)))"
     ],
     "language": "python",
     "metadata": {},
     "outputs": [
      {
       "output_type": "stream",
       "stream": "stderr",
       "text": [
        "DEBUG:root:sort_key = metadata.write_ts\n"
       ]
      },
      {
       "metadata": {},
       "output_type": "pyout",
       "prompt_number": 28,
       "text": [
        "[{u'_id': ObjectId('5662700e88f6635d93e9e7af'),\n",
        "  u'data': {u'accuracy': 12.9653182004946,\n",
        "   u'altitude': 28.26800537109375,\n",
        "   u'filter': u'distance',\n",
        "   u'floor': 0,\n",
        "   u'fmt_time': u'2015-12-04T20:31:35.000080-08:00',\n",
        "   u'heading': -1,\n",
        "   u'latitude': 37.39105825315918,\n",
        "   u'loc': {u'coordinates': [-122.0864812285845, 37.39105825315918],\n",
        "    u'type': u'Point'},\n",
        "   u'local_dt': datetime.datetime(2015, 12, 4, 20, 31, 35),\n",
        "   u'longitude': -122.0864812285845,\n",
        "   u'sensed_speed': 0,\n",
        "   u'ts': 1449289895.00008,\n",
        "   u'vaccuracy': 3},\n",
        "  u'metadata': {u'key': u'background/filtered_location',\n",
        "   u'platform': u'ios',\n",
        "   u'plugin': u'none',\n",
        "   u'read_ts': 1449291613.301087,\n",
        "   u'time_zone': u'America/Los_Angeles',\n",
        "   u'type': u'sensor-data',\n",
        "   u'write_fmt_time': u'2015-12-04T20:31:35.128128-08:00',\n",
        "   u'write_local_dt': datetime.datetime(2015, 12, 4, 20, 31, 35, 128000),\n",
        "   u'write_ts': 1449289895.128128},\n",
        "  u'user_id': UUID('079e0f1a-c440-3d7c-b0e7-de160f748e35')},\n",
        " {u'_id': ObjectId('56626f555771abda989de598'),\n",
        "  u'data': {u'accuracy': 12.9653182004946,\n",
        "   u'altitude': 28.26800537109375,\n",
        "   u'filter': u'distance',\n",
        "   u'floor': 0,\n",
        "   u'fmt_time': u'2015-12-04T20:31:35.000080-08:00',\n",
        "   u'heading': -1,\n",
        "   u'latitude': 37.39105825315918,\n",
        "   u'loc': {u'coordinates': [-122.0864812285845, 37.39105825315918],\n",
        "    u'type': u'Point'},\n",
        "   u'local_dt': datetime.datetime(2015, 12, 4, 20, 31, 35),\n",
        "   u'longitude': -122.0864812285845,\n",
        "   u'sensed_speed': 0,\n",
        "   u'ts': 1449289895.00008,\n",
        "   u'vaccuracy': 3},\n",
        "  u'metadata': {u'key': u'background/location',\n",
        "   u'platform': u'ios',\n",
        "   u'plugin': u'none',\n",
        "   u'read_ts': 1449291613.301087,\n",
        "   u'time_zone': u'America/Los_Angeles',\n",
        "   u'type': u'sensor-data',\n",
        "   u'write_fmt_time': u'2015-12-04T20:31:35.128128-08:00',\n",
        "   u'write_local_dt': datetime.datetime(2015, 12, 4, 20, 31, 35, 128000),\n",
        "   u'write_ts': 1449289895.128128},\n",
        "  u'user_id': UUID('079e0f1a-c440-3d7c-b0e7-de160f748e35')},\n",
        " {u'_id': ObjectId('5662700f88f6635d93e9e7b9'),\n",
        "  u'data': {u'deleted_points': [],\n",
        "   u'filtering_algo': u'SmoothZigzag',\n",
        "   u'outlier_algo': u'BoxplotOutlier',\n",
        "   u'section': ObjectId('5662700f88f6635d93e9e7b3')},\n",
        "  u'metadata': {u'key': u'analysis/smoothing',\n",
        "   u'platform': u'server',\n",
        "   u'time_zone': u'America/Los_Angeles',\n",
        "   u'write_fmt_time': u'2015-12-04T21:03:11.750780-08:00',\n",
        "   u'write_local_dt': datetime.datetime(2015, 12, 5, 5, 3, 11, 750000),\n",
        "   u'write_ts': 1449291791.75078},\n",
        "  u'user_id': UUID('079e0f1a-c440-3d7c-b0e7-de160f748e35')},\n",
        " {u'_id': ObjectId('5662700f88f6635d93e9e7ba'),\n",
        "  u'data': {u'deleted_points': [],\n",
        "   u'filtering_algo': u'SmoothZigzag',\n",
        "   u'outlier_algo': u'BoxplotOutlier',\n",
        "   u'section': ObjectId('5662700f88f6635d93e9e7b5')},\n",
        "  u'metadata': {u'key': u'analysis/smoothing',\n",
        "   u'platform': u'server',\n",
        "   u'time_zone': u'America/Los_Angeles',\n",
        "   u'write_fmt_time': u'2015-12-04T21:03:11.832577-08:00',\n",
        "   u'write_local_dt': datetime.datetime(2015, 12, 5, 5, 3, 11, 832000),\n",
        "   u'write_ts': 1449291791.832577},\n",
        "  u'user_id': UUID('079e0f1a-c440-3d7c-b0e7-de160f748e35')},\n",
        " {u'_id': ObjectId('5662700f88f6635d93e9e7bb'),\n",
        "  u'data': {u'deleted_points': [],\n",
        "   u'filtering_algo': u'SmoothZigzag',\n",
        "   u'outlier_algo': u'BoxplotOutlier',\n",
        "   u'section': ObjectId('5662700f88f6635d93e9e7b7')},\n",
        "  u'metadata': {u'key': u'analysis/smoothing',\n",
        "   u'platform': u'server',\n",
        "   u'time_zone': u'America/Los_Angeles',\n",
        "   u'write_fmt_time': u'2015-12-04T21:03:11.878914-08:00',\n",
        "   u'write_local_dt': datetime.datetime(2015, 12, 5, 5, 3, 11, 878000),\n",
        "   u'write_ts': 1449291791.878914},\n",
        "  u'user_id': UUID('079e0f1a-c440-3d7c-b0e7-de160f748e35')}]"
       ]
      }
     ],
     "prompt_number": 28
    },
    {
     "cell_type": "code",
     "collapsed": false,
     "input": [],
     "language": "python",
     "metadata": {},
     "outputs": []
    }
   ],
   "metadata": {}
  }
 ]
}