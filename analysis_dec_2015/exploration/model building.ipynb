{
 "metadata": {
  "name": "",
  "signature": "sha256:4856e5278c4b40020789c44ce296134fa8159d9bce678d8f4d514c6614075298"
 },
 "nbformat": 3,
 "nbformat_minor": 0,
 "worksheets": [
  {
   "cells": [
    {
     "cell_type": "code",
     "collapsed": false,
     "input": [
      "import sys"
     ],
     "language": "python",
     "metadata": {},
     "outputs": [],
     "prompt_number": 4
    },
    {
     "cell_type": "code",
     "collapsed": false,
     "input": [
      "sys.path.insert(0, \"/Users/shankari/e-mission/data-collection-eval/\")\n",
      "sys.path.insert(0, \"/Users/shankari/e-mission/e-mission-server/\")"
     ],
     "language": "python",
     "metadata": {},
     "outputs": [],
     "prompt_number": 5
    },
    {
     "cell_type": "code",
     "collapsed": false,
     "input": [
      "sys.path"
     ],
     "language": "python",
     "metadata": {},
     "outputs": [
      {
       "metadata": {},
       "output_type": "pyout",
       "prompt_number": 6,
       "text": [
        "['/Users/shankari/e-mission/e-mission-server/',\n",
        " '/Users/shankari/e-mission/data-collection-eval/',\n",
        " '',\n",
        " '/Users/shankari/OSS/anaconda/lib/python2.7/site-packages/pygmaps-0.1.1-py2.7.egg',\n",
        " '/Users/shankari/bin/python',\n",
        " '/Users/shankari/e-mission/data-collection-eval/analysis_dec_2015/exploration',\n",
        " '/Users/shankari/OSS/anaconda/python.app/Contents/lib/python27.zip',\n",
        " '/Users/shankari/OSS/anaconda/python.app/Contents/lib/python2.7',\n",
        " '/Users/shankari/OSS/anaconda/python.app/Contents/lib/python2.7/plat-darwin',\n",
        " '/Users/shankari/OSS/anaconda/python.app/Contents/lib/python2.7/plat-mac',\n",
        " '/Users/shankari/OSS/anaconda/python.app/Contents/lib/python2.7/plat-mac/lib-scriptpackages',\n",
        " '/Users/shankari/OSS/anaconda/python.app/Contents/lib/python2.7/lib-tk',\n",
        " '/Users/shankari/OSS/anaconda/python.app/Contents/lib/python2.7/lib-old',\n",
        " '/Users/shankari/OSS/anaconda/python.app/Contents/lib/python2.7/lib-dynload',\n",
        " '/Users/shankari/OSS/anaconda/lib/python2.7/site-packages',\n",
        " '/Users/shankari/OSS/anaconda/lib/python2.7/site-packages/PIL',\n",
        " '/Users/shankari/OSS/anaconda/lib/python2.7/site-packages/runipy-0.1.0-py2.7.egg',\n",
        " '/Users/shankari/OSS/anaconda/lib/python2.7/site-packages/setuptools-18.4-py2.7.egg',\n",
        " '/Users/shankari/OSS/anaconda/lib/python2.7/site-packages/IPython/extensions']"
       ]
      }
     ],
     "prompt_number": 6
    },
    {
     "cell_type": "code",
     "collapsed": false,
     "input": [
      "import logging\n",
      "logging.getLogger().setLevel(logging.DEBUG)"
     ],
     "language": "python",
     "metadata": {},
     "outputs": [],
     "prompt_number": 7
    },
    {
     "cell_type": "code",
     "collapsed": false,
     "input": [
      "from uuid import UUID"
     ],
     "language": "python",
     "metadata": {},
     "outputs": [],
     "prompt_number": 8
    },
    {
     "cell_type": "code",
     "collapsed": false,
     "input": [
      "iphone_ids = [UUID(\"079e0f1a-c440-3d7c-b0e7-de160f748e35\"), UUID(\"c76a0487-7e5a-3b17-a449-47be666b36f6\"), UUID(\"c528bcd2-a88b-3e82-be62-ef4f2396967a\")]\n",
      "android_ids = [UUID(\"e471711e-bd14-3dbe-80b6-9c7d92ecc296\"), UUID(\"fd7b4c2e-2c8b-3bfa-94f0-d1e3ecbd5fb7\"), UUID(\"86842c35-da28-32ed-a90e-2da6663c5c73\")]"
     ],
     "language": "python",
     "metadata": {},
     "outputs": [],
     "prompt_number": 9
    },
    {
     "cell_type": "code",
     "collapsed": false,
     "input": [
      "import emission.core.get_database as edb"
     ],
     "language": "python",
     "metadata": {},
     "outputs": [],
     "prompt_number": 10
    },
    {
     "cell_type": "code",
     "collapsed": false,
     "input": [
      "import pandas as pd"
     ],
     "language": "python",
     "metadata": {},
     "outputs": [],
     "prompt_number": 11
    },
    {
     "cell_type": "code",
     "collapsed": false,
     "input": [
      "import matplotlib.pyplot as plt\n",
      "%matplotlib inline"
     ],
     "language": "python",
     "metadata": {},
     "outputs": [],
     "prompt_number": 12
    },
    {
     "cell_type": "code",
     "collapsed": false,
     "input": [
      "import datetime as pydt"
     ],
     "language": "python",
     "metadata": {},
     "outputs": [],
     "prompt_number": 13
    },
    {
     "cell_type": "code",
     "collapsed": false,
     "input": [
      "phone_labels = [\"ucb.sdb.ios.1\", \"ucb.sdb.ios.2\", \"ucb.sdb.ios.3\", \"ucb.sdb.android.1\", \"ucb.sdb.android.2\", \"ucb.sdb.android.3\"]"
     ],
     "language": "python",
     "metadata": {},
     "outputs": [],
     "prompt_number": 14
    },
    {
     "cell_type": "code",
     "collapsed": false,
     "input": [
      "def get_display_name(label):\n",
      "    parts = label.split('.')\n",
      "    return parts[2] + '.' + parts[3]"
     ],
     "language": "python",
     "metadata": {},
     "outputs": [],
     "prompt_number": 15
    },
    {
     "cell_type": "code",
     "collapsed": false,
     "input": [
      "display_names = [get_display_name(label) for label in phone_labels]"
     ],
     "language": "python",
     "metadata": {},
     "outputs": [],
     "prompt_number": 16
    },
    {
     "cell_type": "code",
     "collapsed": false,
     "input": [
      "drain_df_map = {}"
     ],
     "language": "python",
     "metadata": {},
     "outputs": [],
     "prompt_number": 17
    },
    {
     "cell_type": "code",
     "collapsed": false,
     "input": [
      "regime_list = [\"nd\", \"nohafs\", \"nomafs\", \"nomass\", \"geo100m-hafs\", \"geo100m-mass\"]"
     ],
     "language": "python",
     "metadata": {},
     "outputs": [],
     "prompt_number": 18
    },
    {
     "cell_type": "code",
     "collapsed": false,
     "input": [
      "regime_file_map = {}\n",
      "regime_file_map[\"nd\"] = [[\"../../results_dec_2015/ucb.sdb.android.1/power_logs/nd_1449455052.log\",\n",
      "                          \"../../results_dec_2015/ucb.sdb.android.1/power_logs/nd_manual_1449344421.log\"], \n",
      "                         [\"../../results_dec_2015/ucb.sdb.ios.1/power_logs/nd_1449455052.log\",\n",
      "                          \"../../results_dec_2015/ucb.sdb.ios.1/power_logs/nd_manual_1449344421.log\",\n",
      "                          \"../../results_dec_2015/ucb.sdb.ios.2/power_logs/nd_manual_1448410148.log\",\n",
      "                          \"../../results_dec_2015/ucb.sdb.ios.2/power_logs/nd_manual_1448435670.log\",\n",
      "                          \"../../results_dec_2015/ucb.sdb.ios.3/power_logs/nd_manual_1448435670.log\",\n",
      "                          \"../../results_dec_2015/ucb.sdb.ios.3/power_logs/nd_manual_1448465466.log\"]]"
     ],
     "language": "python",
     "metadata": {},
     "outputs": [],
     "prompt_number": 19
    },
    {
     "cell_type": "code",
     "collapsed": false,
     "input": [
      "regime_file_map_android = {}\n",
      "regime_file_map_android[\"nd\"] = [\"../../results_dec_2015/ucb.sdb.android.1/power_logs/nd_1449455052.log\",\n",
      "                          \"../../results_dec_2015/ucb.sdb.android.1/power_logs/nd_manual_1449344421.log\"]\n",
      "regime_file_map_ios = {}\n",
      "regime_file_map_ios[\"nd\"] = [\"../../results_dec_2015/ucb.sdb.ios.1/power_logs/nd_1449455052.log\",\n",
      "                          \"../../results_dec_2015/ucb.sdb.ios.1/power_logs/nd_manual_1449344421.log\",\n",
      "                          \"../../results_dec_2015/ucb.sdb.ios.2/power_logs/nd_manual_1448410148.log\",\n",
      "                          \"../../results_dec_2015/ucb.sdb.ios.2/power_logs/nd_manual_1448435670.log\",\n",
      "                          \"../../results_dec_2015/ucb.sdb.ios.3/power_logs/nd_manual_1448435670.log\",\n",
      "                          \"../../results_dec_2015/ucb.sdb.ios.3/power_logs/nd_manual_1448465466.log\"]"
     ],
     "language": "python",
     "metadata": {},
     "outputs": [],
     "prompt_number": 25
    },
    {
     "cell_type": "code",
     "collapsed": false,
     "input": [
      "regime_df_map_android = {}\n",
      "regime_df_map_android[\"nd\"] = [pd.read_csv(fn) for fn in regime_file_map_android[\"nd\"]]\n",
      "regime_df_map_ios = {}\n",
      "regime_df_map_ios[\"nd\"] = [pd.read_csv(fn) for fn in regime_file_map_ios[\"nd\"]]"
     ],
     "language": "python",
     "metadata": {},
     "outputs": [],
     "prompt_number": 26
    },
    {
     "cell_type": "code",
     "collapsed": false,
     "input": [
      "for drain_df in regime_df_map_android.values():\n",
      "    drain_df[\"fmt_time\"] = drain_df.ts.map(lambda(t): pydt.datetime.fromtimestamp(t))"
     ],
     "language": "python",
     "metadata": {},
     "outputs": []
    },
    {
     "cell_type": "code",
     "collapsed": false,
     "input": [
      "transitions_map_android\n",
      "transitions_map_android[\"nd\"] = []"
     ],
     "language": "python",
     "metadata": {},
     "outputs": []
    },
    {
     "cell_type": "code",
     "collapsed": false,
     "input": [
      "transitions = [[0,4,17,22,23], [\"moving\", \"active\", \"moving\", \"passive\"]]"
     ],
     "language": "python",
     "metadata": {},
     "outputs": [],
     "prompt_number": 22
    },
    {
     "cell_type": "code",
     "collapsed": false,
     "input": [
      "sel_df = drain_df[drain_df.index.isin(transitions[0])][[\"ts\", \"fmt_time\", \"value\"]]; sel_df"
     ],
     "language": "python",
     "metadata": {},
     "outputs": [
      {
       "html": [
        "<div style=\"max-width:1500px;overflow:auto;\">\n",
        "<table border=\"1\" class=\"dataframe\">\n",
        "  <thead>\n",
        "    <tr style=\"text-align: right;\">\n",
        "      <th></th>\n",
        "      <th>ts</th>\n",
        "      <th>fmt_time</th>\n",
        "      <th>value</th>\n",
        "    </tr>\n",
        "  </thead>\n",
        "  <tbody>\n",
        "    <tr>\n",
        "      <th>0</th>\n",
        "      <td>1.449241e+09</td>\n",
        "      <td>2015-12-04 06:50:00.000</td>\n",
        "      <td>100</td>\n",
        "    </tr>\n",
        "    <tr>\n",
        "      <th>4</th>\n",
        "      <td>1.449249e+09</td>\n",
        "      <td>2015-12-04 09:14:10.980</td>\n",
        "      <td>97</td>\n",
        "    </tr>\n",
        "    <tr>\n",
        "      <th>17</th>\n",
        "      <td>1.449277e+09</td>\n",
        "      <td>2015-12-04 16:48:34.190</td>\n",
        "      <td>72</td>\n",
        "    </tr>\n",
        "    <tr>\n",
        "      <th>22</th>\n",
        "      <td>1.449287e+09</td>\n",
        "      <td>2015-12-04 19:39:01.290</td>\n",
        "      <td>63</td>\n",
        "    </tr>\n",
        "    <tr>\n",
        "      <th>23</th>\n",
        "      <td>1.449328e+09</td>\n",
        "      <td>2015-12-05 07:03:22.210</td>\n",
        "      <td>41</td>\n",
        "    </tr>\n",
        "  </tbody>\n",
        "</table>\n",
        "</div>"
       ],
       "metadata": {},
       "output_type": "pyout",
       "prompt_number": 23,
       "text": [
        "              ts                fmt_time  value\n",
        "0   1.449241e+09 2015-12-04 06:50:00.000    100\n",
        "4   1.449249e+09 2015-12-04 09:14:10.980     97\n",
        "17  1.449277e+09 2015-12-04 16:48:34.190     72\n",
        "22  1.449287e+09 2015-12-04 19:39:01.290     63\n",
        "23  1.449328e+09 2015-12-05 07:03:22.210     41"
       ]
      }
     ],
     "prompt_number": 23
    },
    {
     "cell_type": "code",
     "collapsed": false,
     "input": [
      "sel_df.iloc[1:]"
     ],
     "language": "python",
     "metadata": {},
     "outputs": [
      {
       "html": [
        "<div style=\"max-width:1500px;overflow:auto;\">\n",
        "<table border=\"1\" class=\"dataframe\">\n",
        "  <thead>\n",
        "    <tr style=\"text-align: right;\">\n",
        "      <th></th>\n",
        "      <th>ts</th>\n",
        "      <th>fmt_time</th>\n",
        "      <th>value</th>\n",
        "    </tr>\n",
        "  </thead>\n",
        "  <tbody>\n",
        "    <tr>\n",
        "      <th>4</th>\n",
        "      <td>1.449249e+09</td>\n",
        "      <td>2015-12-04 09:14:10.980</td>\n",
        "      <td>97</td>\n",
        "    </tr>\n",
        "    <tr>\n",
        "      <th>17</th>\n",
        "      <td>1.449277e+09</td>\n",
        "      <td>2015-12-04 16:48:34.190</td>\n",
        "      <td>72</td>\n",
        "    </tr>\n",
        "    <tr>\n",
        "      <th>22</th>\n",
        "      <td>1.449287e+09</td>\n",
        "      <td>2015-12-04 19:39:01.290</td>\n",
        "      <td>63</td>\n",
        "    </tr>\n",
        "    <tr>\n",
        "      <th>23</th>\n",
        "      <td>1.449328e+09</td>\n",
        "      <td>2015-12-05 07:03:22.210</td>\n",
        "      <td>41</td>\n",
        "    </tr>\n",
        "  </tbody>\n",
        "</table>\n",
        "</div>"
       ],
       "metadata": {},
       "output_type": "pyout",
       "prompt_number": 24,
       "text": [
        "              ts                fmt_time  value\n",
        "4   1.449249e+09 2015-12-04 09:14:10.980     97\n",
        "17  1.449277e+09 2015-12-04 16:48:34.190     72\n",
        "22  1.449287e+09 2015-12-04 19:39:01.290     63\n",
        "23  1.449328e+09 2015-12-05 07:03:22.210     41"
       ]
      }
     ],
     "prompt_number": 24
    },
    {
     "cell_type": "code",
     "collapsed": false,
     "input": [
      "sel_df.iloc[1:].reset_index()"
     ],
     "language": "python",
     "metadata": {},
     "outputs": [
      {
       "html": [
        "<div style=\"max-width:1500px;overflow:auto;\">\n",
        "<table border=\"1\" class=\"dataframe\">\n",
        "  <thead>\n",
        "    <tr style=\"text-align: right;\">\n",
        "      <th></th>\n",
        "      <th>index</th>\n",
        "      <th>ts</th>\n",
        "      <th>fmt_time</th>\n",
        "      <th>value</th>\n",
        "    </tr>\n",
        "  </thead>\n",
        "  <tbody>\n",
        "    <tr>\n",
        "      <th>0</th>\n",
        "      <td>4</td>\n",
        "      <td>1.449249e+09</td>\n",
        "      <td>2015-12-04 09:14:10.980</td>\n",
        "      <td>97</td>\n",
        "    </tr>\n",
        "    <tr>\n",
        "      <th>1</th>\n",
        "      <td>17</td>\n",
        "      <td>1.449277e+09</td>\n",
        "      <td>2015-12-04 16:48:34.190</td>\n",
        "      <td>72</td>\n",
        "    </tr>\n",
        "    <tr>\n",
        "      <th>2</th>\n",
        "      <td>22</td>\n",
        "      <td>1.449287e+09</td>\n",
        "      <td>2015-12-04 19:39:01.290</td>\n",
        "      <td>63</td>\n",
        "    </tr>\n",
        "    <tr>\n",
        "      <th>3</th>\n",
        "      <td>23</td>\n",
        "      <td>1.449328e+09</td>\n",
        "      <td>2015-12-05 07:03:22.210</td>\n",
        "      <td>41</td>\n",
        "    </tr>\n",
        "  </tbody>\n",
        "</table>\n",
        "</div>"
       ],
       "metadata": {},
       "output_type": "pyout",
       "prompt_number": 25,
       "text": [
        "   index            ts                fmt_time  value\n",
        "0      4  1.449249e+09 2015-12-04 09:14:10.980     97\n",
        "1     17  1.449277e+09 2015-12-04 16:48:34.190     72\n",
        "2     22  1.449287e+09 2015-12-04 19:39:01.290     63\n",
        "3     23  1.449328e+09 2015-12-05 07:03:22.210     41"
       ]
      }
     ],
     "prompt_number": 25
    },
    {
     "cell_type": "code",
     "collapsed": false,
     "input": [
      "state_df = pd.DataFrame(transitions[1], columns=[\"state\"])"
     ],
     "language": "python",
     "metadata": {},
     "outputs": [],
     "prompt_number": 26
    },
    {
     "cell_type": "code",
     "collapsed": false,
     "input": [
      "pd.concat([sel_df.reset_index(), sel_df.iloc[1:].reset_index(), state_df], axis=1)"
     ],
     "language": "python",
     "metadata": {},
     "outputs": [
      {
       "html": [
        "<div style=\"max-width:1500px;overflow:auto;\">\n",
        "<table border=\"1\" class=\"dataframe\">\n",
        "  <thead>\n",
        "    <tr style=\"text-align: right;\">\n",
        "      <th></th>\n",
        "      <th>index</th>\n",
        "      <th>ts</th>\n",
        "      <th>fmt_time</th>\n",
        "      <th>value</th>\n",
        "      <th>index</th>\n",
        "      <th>ts</th>\n",
        "      <th>fmt_time</th>\n",
        "      <th>value</th>\n",
        "      <th>state</th>\n",
        "    </tr>\n",
        "  </thead>\n",
        "  <tbody>\n",
        "    <tr>\n",
        "      <th>0</th>\n",
        "      <td>0</td>\n",
        "      <td>1.449241e+09</td>\n",
        "      <td>2015-12-04 06:50:00.000</td>\n",
        "      <td>100</td>\n",
        "      <td>4</td>\n",
        "      <td>1.449249e+09</td>\n",
        "      <td>2015-12-04 09:14:10.980</td>\n",
        "      <td>97</td>\n",
        "      <td>moving</td>\n",
        "    </tr>\n",
        "    <tr>\n",
        "      <th>1</th>\n",
        "      <td>4</td>\n",
        "      <td>1.449249e+09</td>\n",
        "      <td>2015-12-04 09:14:10.980</td>\n",
        "      <td>97</td>\n",
        "      <td>17</td>\n",
        "      <td>1.449277e+09</td>\n",
        "      <td>2015-12-04 16:48:34.190</td>\n",
        "      <td>72</td>\n",
        "      <td>active</td>\n",
        "    </tr>\n",
        "    <tr>\n",
        "      <th>2</th>\n",
        "      <td>17</td>\n",
        "      <td>1.449277e+09</td>\n",
        "      <td>2015-12-04 16:48:34.190</td>\n",
        "      <td>72</td>\n",
        "      <td>22</td>\n",
        "      <td>1.449287e+09</td>\n",
        "      <td>2015-12-04 19:39:01.290</td>\n",
        "      <td>63</td>\n",
        "      <td>moving</td>\n",
        "    </tr>\n",
        "    <tr>\n",
        "      <th>3</th>\n",
        "      <td>22</td>\n",
        "      <td>1.449287e+09</td>\n",
        "      <td>2015-12-04 19:39:01.290</td>\n",
        "      <td>63</td>\n",
        "      <td>23</td>\n",
        "      <td>1.449328e+09</td>\n",
        "      <td>2015-12-05 07:03:22.210</td>\n",
        "      <td>41</td>\n",
        "      <td>passive</td>\n",
        "    </tr>\n",
        "    <tr>\n",
        "      <th>4</th>\n",
        "      <td>23</td>\n",
        "      <td>1.449328e+09</td>\n",
        "      <td>2015-12-05 07:03:22.210</td>\n",
        "      <td>41</td>\n",
        "      <td>NaN</td>\n",
        "      <td>NaN</td>\n",
        "      <td>NaT</td>\n",
        "      <td>NaN</td>\n",
        "      <td>NaN</td>\n",
        "    </tr>\n",
        "  </tbody>\n",
        "</table>\n",
        "</div>"
       ],
       "metadata": {},
       "output_type": "pyout",
       "prompt_number": 27,
       "text": [
        "   index            ts                fmt_time  value  index            ts  \\\n",
        "0      0  1.449241e+09 2015-12-04 06:50:00.000    100      4  1.449249e+09   \n",
        "1      4  1.449249e+09 2015-12-04 09:14:10.980     97     17  1.449277e+09   \n",
        "2     17  1.449277e+09 2015-12-04 16:48:34.190     72     22  1.449287e+09   \n",
        "3     22  1.449287e+09 2015-12-04 19:39:01.290     63     23  1.449328e+09   \n",
        "4     23  1.449328e+09 2015-12-05 07:03:22.210     41    NaN           NaN   \n",
        "\n",
        "                 fmt_time  value    state  \n",
        "0 2015-12-04 09:14:10.980     97   moving  \n",
        "1 2015-12-04 16:48:34.190     72   active  \n",
        "2 2015-12-04 19:39:01.290     63   moving  \n",
        "3 2015-12-05 07:03:22.210     41  passive  \n",
        "4                     NaT    NaN      NaN  "
       ]
      }
     ],
     "prompt_number": 27
    },
    {
     "cell_type": "code",
     "collapsed": false,
     "input": [
      "pd.concat([sel_df.reset_index(), sel_df.iloc[1:].reset_index(), state_df], axis=1)[:-1]"
     ],
     "language": "python",
     "metadata": {},
     "outputs": [
      {
       "html": [
        "<div style=\"max-width:1500px;overflow:auto;\">\n",
        "<table border=\"1\" class=\"dataframe\">\n",
        "  <thead>\n",
        "    <tr style=\"text-align: right;\">\n",
        "      <th></th>\n",
        "      <th>index</th>\n",
        "      <th>ts</th>\n",
        "      <th>fmt_time</th>\n",
        "      <th>value</th>\n",
        "      <th>index</th>\n",
        "      <th>ts</th>\n",
        "      <th>fmt_time</th>\n",
        "      <th>value</th>\n",
        "      <th>state</th>\n",
        "    </tr>\n",
        "  </thead>\n",
        "  <tbody>\n",
        "    <tr>\n",
        "      <th>0</th>\n",
        "      <td>0</td>\n",
        "      <td>1.449241e+09</td>\n",
        "      <td>2015-12-04 06:50:00.000</td>\n",
        "      <td>100</td>\n",
        "      <td>4</td>\n",
        "      <td>1.449249e+09</td>\n",
        "      <td>2015-12-04 09:14:10.980</td>\n",
        "      <td>97</td>\n",
        "      <td>moving</td>\n",
        "    </tr>\n",
        "    <tr>\n",
        "      <th>1</th>\n",
        "      <td>4</td>\n",
        "      <td>1.449249e+09</td>\n",
        "      <td>2015-12-04 09:14:10.980</td>\n",
        "      <td>97</td>\n",
        "      <td>17</td>\n",
        "      <td>1.449277e+09</td>\n",
        "      <td>2015-12-04 16:48:34.190</td>\n",
        "      <td>72</td>\n",
        "      <td>active</td>\n",
        "    </tr>\n",
        "    <tr>\n",
        "      <th>2</th>\n",
        "      <td>17</td>\n",
        "      <td>1.449277e+09</td>\n",
        "      <td>2015-12-04 16:48:34.190</td>\n",
        "      <td>72</td>\n",
        "      <td>22</td>\n",
        "      <td>1.449287e+09</td>\n",
        "      <td>2015-12-04 19:39:01.290</td>\n",
        "      <td>63</td>\n",
        "      <td>moving</td>\n",
        "    </tr>\n",
        "    <tr>\n",
        "      <th>3</th>\n",
        "      <td>22</td>\n",
        "      <td>1.449287e+09</td>\n",
        "      <td>2015-12-04 19:39:01.290</td>\n",
        "      <td>63</td>\n",
        "      <td>23</td>\n",
        "      <td>1.449328e+09</td>\n",
        "      <td>2015-12-05 07:03:22.210</td>\n",
        "      <td>41</td>\n",
        "      <td>passive</td>\n",
        "    </tr>\n",
        "  </tbody>\n",
        "</table>\n",
        "</div>"
       ],
       "metadata": {},
       "output_type": "pyout",
       "prompt_number": 28,
       "text": [
        "   index            ts                fmt_time  value  index            ts  \\\n",
        "0      0  1.449241e+09 2015-12-04 06:50:00.000    100      4  1.449249e+09   \n",
        "1      4  1.449249e+09 2015-12-04 09:14:10.980     97     17  1.449277e+09   \n",
        "2     17  1.449277e+09 2015-12-04 16:48:34.190     72     22  1.449287e+09   \n",
        "3     22  1.449287e+09 2015-12-04 19:39:01.290     63     23  1.449328e+09   \n",
        "\n",
        "                 fmt_time  value    state  \n",
        "0 2015-12-04 09:14:10.980     97   moving  \n",
        "1 2015-12-04 16:48:34.190     72   active  \n",
        "2 2015-12-04 19:39:01.290     63   moving  \n",
        "3 2015-12-05 07:03:22.210     41  passive  "
       ]
      }
     ],
     "prompt_number": 28
    },
    {
     "cell_type": "code",
     "collapsed": false,
     "input": [
      "ground_truth_df = pd.concat([sel_df.reset_index(), sel_df.iloc[1:].reset_index(), state_df], axis=1)[:-1]"
     ],
     "language": "python",
     "metadata": {},
     "outputs": [],
     "prompt_number": 29
    },
    {
     "cell_type": "code",
     "collapsed": false,
     "input": [
      "ground_truth_df.columns = ['start_index', 'start_ts', 'start_fmt_time', \"start_value\", \"end_index\", \"end_ts\", \"end_fmt_time\", \"end_value\", \"state\"]"
     ],
     "language": "python",
     "metadata": {},
     "outputs": [],
     "prompt_number": 30
    },
    {
     "cell_type": "code",
     "collapsed": false,
     "input": [
      "ground_truth_df"
     ],
     "language": "python",
     "metadata": {},
     "outputs": [
      {
       "html": [
        "<div style=\"max-width:1500px;overflow:auto;\">\n",
        "<table border=\"1\" class=\"dataframe\">\n",
        "  <thead>\n",
        "    <tr style=\"text-align: right;\">\n",
        "      <th></th>\n",
        "      <th>start_index</th>\n",
        "      <th>start_ts</th>\n",
        "      <th>start_fmt_time</th>\n",
        "      <th>start_value</th>\n",
        "      <th>end_index</th>\n",
        "      <th>end_ts</th>\n",
        "      <th>end_fmt_time</th>\n",
        "      <th>end_value</th>\n",
        "      <th>state</th>\n",
        "    </tr>\n",
        "  </thead>\n",
        "  <tbody>\n",
        "    <tr>\n",
        "      <th>0</th>\n",
        "      <td>0</td>\n",
        "      <td>1.449241e+09</td>\n",
        "      <td>2015-12-04 06:50:00.000</td>\n",
        "      <td>100</td>\n",
        "      <td>4</td>\n",
        "      <td>1.449249e+09</td>\n",
        "      <td>2015-12-04 09:14:10.980</td>\n",
        "      <td>97</td>\n",
        "      <td>moving</td>\n",
        "    </tr>\n",
        "    <tr>\n",
        "      <th>1</th>\n",
        "      <td>4</td>\n",
        "      <td>1.449249e+09</td>\n",
        "      <td>2015-12-04 09:14:10.980</td>\n",
        "      <td>97</td>\n",
        "      <td>17</td>\n",
        "      <td>1.449277e+09</td>\n",
        "      <td>2015-12-04 16:48:34.190</td>\n",
        "      <td>72</td>\n",
        "      <td>active</td>\n",
        "    </tr>\n",
        "    <tr>\n",
        "      <th>2</th>\n",
        "      <td>17</td>\n",
        "      <td>1.449277e+09</td>\n",
        "      <td>2015-12-04 16:48:34.190</td>\n",
        "      <td>72</td>\n",
        "      <td>22</td>\n",
        "      <td>1.449287e+09</td>\n",
        "      <td>2015-12-04 19:39:01.290</td>\n",
        "      <td>63</td>\n",
        "      <td>moving</td>\n",
        "    </tr>\n",
        "    <tr>\n",
        "      <th>3</th>\n",
        "      <td>22</td>\n",
        "      <td>1.449287e+09</td>\n",
        "      <td>2015-12-04 19:39:01.290</td>\n",
        "      <td>63</td>\n",
        "      <td>23</td>\n",
        "      <td>1.449328e+09</td>\n",
        "      <td>2015-12-05 07:03:22.210</td>\n",
        "      <td>41</td>\n",
        "      <td>passive</td>\n",
        "    </tr>\n",
        "  </tbody>\n",
        "</table>\n",
        "</div>"
       ],
       "metadata": {},
       "output_type": "pyout",
       "prompt_number": 31,
       "text": [
        "   start_index      start_ts          start_fmt_time  start_value  end_index  \\\n",
        "0            0  1.449241e+09 2015-12-04 06:50:00.000          100          4   \n",
        "1            4  1.449249e+09 2015-12-04 09:14:10.980           97         17   \n",
        "2           17  1.449277e+09 2015-12-04 16:48:34.190           72         22   \n",
        "3           22  1.449287e+09 2015-12-04 19:39:01.290           63         23   \n",
        "\n",
        "         end_ts            end_fmt_time  end_value    state  \n",
        "0  1.449249e+09 2015-12-04 09:14:10.980         97   moving  \n",
        "1  1.449277e+09 2015-12-04 16:48:34.190         72   active  \n",
        "2  1.449287e+09 2015-12-04 19:39:01.290         63   moving  \n",
        "3  1.449328e+09 2015-12-05 07:03:22.210         41  passive  "
       ]
      }
     ],
     "prompt_number": 31
    },
    {
     "cell_type": "code",
     "collapsed": false,
     "input": [
      "ground_truth_df.to_csv(\"../../ground_truth/trip_to_berkeley.friday.2015-12-04/states.summary\")"
     ],
     "language": "python",
     "metadata": {},
     "outputs": [],
     "prompt_number": 32
    },
    {
     "cell_type": "code",
     "collapsed": false,
     "input": [
      "def secs_to_hour(secs):\n",
      "    return secs/(60 * 60)"
     ],
     "language": "python",
     "metadata": {},
     "outputs": [],
     "prompt_number": 33
    },
    {
     "cell_type": "code",
     "collapsed": false,
     "input": [
      "sorted(drain_df_map.keys())"
     ],
     "language": "python",
     "metadata": {},
     "outputs": [
      {
       "metadata": {},
       "output_type": "pyout",
       "prompt_number": 34,
       "text": [
        "['android.1', 'android.2', 'android.3', 'ios.1', 'ios.2', 'ios.3']"
       ]
      }
     ],
     "prompt_number": 34
    },
    {
     "cell_type": "code",
     "collapsed": false,
     "input": [
      "diff_df = drain_df[[\"ts\",\"value\"]].diff(); diff_df"
     ],
     "language": "python",
     "metadata": {},
     "outputs": [
      {
       "html": [
        "<div style=\"max-width:1500px;overflow:auto;\">\n",
        "<table border=\"1\" class=\"dataframe\">\n",
        "  <thead>\n",
        "    <tr style=\"text-align: right;\">\n",
        "      <th></th>\n",
        "      <th>ts</th>\n",
        "      <th>value</th>\n",
        "    </tr>\n",
        "  </thead>\n",
        "  <tbody>\n",
        "    <tr>\n",
        "      <th>0</th>\n",
        "      <td>NaN</td>\n",
        "      <td>NaN</td>\n",
        "    </tr>\n",
        "    <tr>\n",
        "      <th>1</th>\n",
        "      <td>1713.01</td>\n",
        "      <td>0</td>\n",
        "    </tr>\n",
        "    <tr>\n",
        "      <th>2</th>\n",
        "      <td>1865.48</td>\n",
        "      <td>0</td>\n",
        "    </tr>\n",
        "    <tr>\n",
        "      <th>3</th>\n",
        "      <td>3518.40</td>\n",
        "      <td>-2</td>\n",
        "    </tr>\n",
        "    <tr>\n",
        "      <th>4</th>\n",
        "      <td>1554.09</td>\n",
        "      <td>-1</td>\n",
        "    </tr>\n",
        "    <tr>\n",
        "      <th>5</th>\n",
        "      <td>2003.62</td>\n",
        "      <td>-1</td>\n",
        "    </tr>\n",
        "    <tr>\n",
        "      <th>6</th>\n",
        "      <td>2020.24</td>\n",
        "      <td>-2</td>\n",
        "    </tr>\n",
        "    <tr>\n",
        "      <th>7</th>\n",
        "      <td>2225.87</td>\n",
        "      <td>-2</td>\n",
        "    </tr>\n",
        "    <tr>\n",
        "      <th>8</th>\n",
        "      <td>2110.16</td>\n",
        "      <td>-2</td>\n",
        "    </tr>\n",
        "    <tr>\n",
        "      <th>9</th>\n",
        "      <td>1254.63</td>\n",
        "      <td>-1</td>\n",
        "    </tr>\n",
        "    <tr>\n",
        "      <th>10</th>\n",
        "      <td>995.06</td>\n",
        "      <td>-1</td>\n",
        "    </tr>\n",
        "    <tr>\n",
        "      <th>11</th>\n",
        "      <td>2081.31</td>\n",
        "      <td>-2</td>\n",
        "    </tr>\n",
        "    <tr>\n",
        "      <th>12</th>\n",
        "      <td>2181.39</td>\n",
        "      <td>-2</td>\n",
        "    </tr>\n",
        "    <tr>\n",
        "      <th>13</th>\n",
        "      <td>3214.38</td>\n",
        "      <td>-3</td>\n",
        "    </tr>\n",
        "    <tr>\n",
        "      <th>14</th>\n",
        "      <td>2192.82</td>\n",
        "      <td>-2</td>\n",
        "    </tr>\n",
        "    <tr>\n",
        "      <th>15</th>\n",
        "      <td>2680.46</td>\n",
        "      <td>-2</td>\n",
        "    </tr>\n",
        "    <tr>\n",
        "      <th>16</th>\n",
        "      <td>2250.15</td>\n",
        "      <td>-3</td>\n",
        "    </tr>\n",
        "    <tr>\n",
        "      <th>17</th>\n",
        "      <td>2053.12</td>\n",
        "      <td>-2</td>\n",
        "    </tr>\n",
        "    <tr>\n",
        "      <th>18</th>\n",
        "      <td>2480.79</td>\n",
        "      <td>-2</td>\n",
        "    </tr>\n",
        "    <tr>\n",
        "      <th>19</th>\n",
        "      <td>1893.39</td>\n",
        "      <td>-2</td>\n",
        "    </tr>\n",
        "    <tr>\n",
        "      <th>20</th>\n",
        "      <td>1916.17</td>\n",
        "      <td>-2</td>\n",
        "    </tr>\n",
        "    <tr>\n",
        "      <th>21</th>\n",
        "      <td>1499.21</td>\n",
        "      <td>-2</td>\n",
        "    </tr>\n",
        "    <tr>\n",
        "      <th>22</th>\n",
        "      <td>2437.54</td>\n",
        "      <td>-1</td>\n",
        "    </tr>\n",
        "    <tr>\n",
        "      <th>23</th>\n",
        "      <td>41060.92</td>\n",
        "      <td>-22</td>\n",
        "    </tr>\n",
        "  </tbody>\n",
        "</table>\n",
        "</div>"
       ],
       "metadata": {},
       "output_type": "pyout",
       "prompt_number": 35,
       "text": [
        "          ts  value\n",
        "0        NaN    NaN\n",
        "1    1713.01      0\n",
        "2    1865.48      0\n",
        "3    3518.40     -2\n",
        "4    1554.09     -1\n",
        "5    2003.62     -1\n",
        "6    2020.24     -2\n",
        "7    2225.87     -2\n",
        "8    2110.16     -2\n",
        "9    1254.63     -1\n",
        "10    995.06     -1\n",
        "11   2081.31     -2\n",
        "12   2181.39     -2\n",
        "13   3214.38     -3\n",
        "14   2192.82     -2\n",
        "15   2680.46     -2\n",
        "16   2250.15     -3\n",
        "17   2053.12     -2\n",
        "18   2480.79     -2\n",
        "19   1893.39     -2\n",
        "20   1916.17     -2\n",
        "21   1499.21     -2\n",
        "22   2437.54     -1\n",
        "23  41060.92    -22"
       ]
      }
     ],
     "prompt_number": 35
    },
    {
     "cell_type": "code",
     "collapsed": false,
     "input": [
      "diff_df[diff_df.value < 0].apply(lambda(arr): arr[1]/secs_to_hour(arr[0]), axis=1)"
     ],
     "language": "python",
     "metadata": {},
     "outputs": [
      {
       "metadata": {},
       "output_type": "pyout",
       "prompt_number": 36,
       "text": [
        "3    -2.046385\n",
        "4    -2.316468\n",
        "5    -1.796748\n",
        "6    -3.563933\n",
        "7    -3.234690\n",
        "8    -3.412064\n",
        "9    -2.869372\n",
        "10   -3.617872\n",
        "11   -3.459360\n",
        "12   -3.300648\n",
        "13   -3.359901\n",
        "14   -3.283443\n",
        "15   -2.686106\n",
        "16   -4.799680\n",
        "17   -3.506858\n",
        "18   -2.902301\n",
        "19   -3.802703\n",
        "20   -3.757495\n",
        "21   -4.802529\n",
        "22   -1.476899\n",
        "23   -1.928841\n",
        "dtype: float64"
       ]
      }
     ],
     "prompt_number": 36
    },
    {
     "cell_type": "code",
     "collapsed": false,
     "input": [
      "fig, axes = plt.subplots(nrows=1, ncols=6, figsize=(15,3), sharey=True)\n",
      "for i, key in enumerate(sorted(drain_df_map.keys())):\n",
      "    print \"displaying %d\" % i\n",
      "    drain_df = drain_df_map[key]\n",
      "    diff_df = drain_df[[\"ts\",\"value\"]].diff()\n",
      "    diff_df[diff_df.value < 0].apply(lambda(arr): arr[1]/secs_to_hour(arr[0]), axis=1).plot(\n",
      "        kind='box', label=\"%s (%s)\" % (key, regime_map[key]), ax=axes[i])\n",
      "for ax in axes:\n",
      "    ax.minorticks_on()\n",
      "    ax.grid(which='both', color='purple')"
     ],
     "language": "python",
     "metadata": {},
     "outputs": [
      {
       "output_type": "stream",
       "stream": "stdout",
       "text": [
        "displaying 0\n",
        "displaying 1"
       ]
      },
      {
       "output_type": "stream",
       "stream": "stdout",
       "text": [
        "\n",
        "displaying 2\n",
        "displaying 3\n",
        "displaying 4\n",
        "displaying 5"
       ]
      },
      {
       "output_type": "stream",
       "stream": "stdout",
       "text": [
        "\n"
       ]
      },
      {
       "metadata": {},
       "output_type": "display_data",
       "png": "[encoded data removed]",
       "text": [
        "<matplotlib.figure.Figure at 0x1096002d0>"
       ]
      }
     ],
     "prompt_number": 37
    },
    {
     "cell_type": "code",
     "collapsed": false,
     "input": [
      "state_diff_df_map = {\"moving\": pd.Series(), \"active\": pd.Series(), \"passive\": pd.Series()}\n",
      "for idx,row in ground_truth_df.iterrows():\n",
      "    print row.start_fmt_time, row.end_fmt_time\n",
      "    print row.state, drain_df[(drain_df.ts >= row.start_ts) & (drain_df.ts <= row.end_ts)]\n",
      "    curr_state_drain_df = drain_df[(drain_df.ts >= row.start_ts) & (drain_df.ts <= row.end_ts)]\n",
      "    curr_state_diff_df = curr_state_drain_df[[\"ts\",\"value\"]].diff()\n",
      "    print row.state, curr_state_diff_df\n",
      "    state_diff_df_map[row.state] = state_diff_df_map[row.state].append(curr_state_diff_df[curr_state_diff_df.value <= 0].apply(lambda(arr): arr[1]/secs_to_hour(arr[0]), axis=1))\n",
      "state_diff_df = pd.DataFrame({\"state\": [\"moving\"] * len(state_diff_df_map[\"moving\"]), \"rate\": state_diff_df_map[\"moving\"]}).append(\n",
      "                pd.DataFrame({\"state\": [\"active\"] * len(state_diff_df_map[\"active\"]), \"rate\": state_diff_df_map[\"active\"]})).append(\n",
      "                pd.DataFrame({\"state\": [\"passive\"] * len(state_diff_df_map[\"passive\"]), \"rate\": state_diff_df_map[\"passive\"]}))"
     ],
     "language": "python",
     "metadata": {},
     "outputs": [
      {
       "output_type": "stream",
       "stream": "stdout",
       "text": [
        "2015-12-04 06:50:00 2015-12-04 09:14:10.980000\n",
        "moving              key            ts  value                fmt_time\n",
        "0  battery_level  1.449241e+09    100 2015-12-04 06:50:00.000\n",
        "1  battery_level  1.449242e+09    100 2015-12-04 07:18:33.010\n",
        "2  battery_level  1.449244e+09    100 2015-12-04 07:49:38.490\n",
        "3  battery_level  1.449248e+09     98 2015-12-04 08:48:16.890\n",
        "4  battery_level  1.449249e+09     97 2015-12-04 09:14:10.980\n",
        "moving         ts  value\n",
        "0      NaN    NaN\n",
        "1  1713.01      0\n",
        "2  1865.48      0\n",
        "3  3518.40     -2\n",
        "4  1554.09     -1\n",
        "2015-12-04 09:14:10.980000 2015-12-04 16:48:34.190000\n",
        "active               key            ts  value                fmt_time\n",
        "4   battery_level  1.449249e+09     97 2015-12-04 09:14:10.980\n",
        "5   battery_level  1.449251e+09     96 2015-12-04 09:47:34.600\n",
        "6   battery_level  1.449253e+09     94 2015-12-04 10:21:14.840\n",
        "7   battery_level  1.449256e+09     92 2015-12-04 10:58:20.710\n",
        "8   battery_level  1.449258e+09     90 2015-12-04 11:33:30.870\n",
        "9   battery_level  1.449259e+09     89 2015-12-04 11:54:25.500\n",
        "10  battery_level  1.449260e+09     88 2015-12-04 12:11:00.560\n",
        "11  battery_level  1.449262e+09     86 2015-12-04 12:45:41.870\n",
        "12  battery_level  1.449264e+09     84 2015-12-04 13:22:03.260\n",
        "13  battery_level  1.449267e+09     81 2015-12-04 14:15:37.640\n",
        "14  battery_level  1.449270e+09     79 2015-12-04 14:52:10.460\n",
        "15  battery_level  1.449272e+09     77 2015-12-04 15:36:50.920\n",
        "16  battery_level  1.449274e+09     74 2015-12-04 16:14:21.070\n",
        "17  battery_level  1.449277e+09     72 2015-12-04 16:48:34.190\n",
        "active          ts  value\n",
        "4       NaN    NaN\n",
        "5   2003.62     -1\n",
        "6   2020.24     -2\n",
        "7   2225.87     -2\n",
        "8   2110.16     -2\n",
        "9   1254.63     -1\n",
        "10   995.06     -1\n",
        "11  2081.31     -2\n",
        "12  2181.39     -2\n",
        "13  3214.38     -3\n",
        "14  2192.82     -2\n",
        "15  2680.46     -2\n",
        "16  2250.15     -3\n",
        "17  2053.12     -2\n",
        "2015-12-04 16:48:34.190000 2015-12-04 19:39:01.290000\n",
        "moving               key            ts  value                fmt_time\n",
        "17  battery_level  1.449277e+09     72 2015-12-04 16:48:34.190\n",
        "18  battery_level  1.449279e+09     70 2015-12-04 17:29:54.980\n",
        "19  battery_level  1.449281e+09     68 2015-12-04 18:01:28.370\n",
        "20  battery_level  1.449283e+09     66 2015-12-04 18:33:24.540\n",
        "21  battery_level  1.449284e+09     64 2015-12-04 18:58:23.750\n",
        "22  battery_level  1.449287e+09     63 2015-12-04 19:39:01.290\n",
        "moving          ts  value\n",
        "17      NaN    NaN\n",
        "18  2480.79     -2\n",
        "19  1893.39     -2\n",
        "20  1916.17     -2\n",
        "21  1499.21     -2\n",
        "22  2437.54     -1\n",
        "2015-12-04 19:39:01.290000 2015-12-05 07:03:22.210000\n",
        "passive               key            ts  value                fmt_time\n",
        "22  battery_level  1.449287e+09     63 2015-12-04 19:39:01.290\n",
        "23  battery_level  1.449328e+09     41 2015-12-05 07:03:22.210\n",
        "passive           ts  value\n",
        "22       NaN    NaN\n",
        "23  41060.92    -22\n"
       ]
      }
     ],
     "prompt_number": 38
    },
    {
     "cell_type": "code",
     "collapsed": false,
     "input": [
      "[\"moving\"] * len(state_diff_df_map[\"moving\"])"
     ],
     "language": "python",
     "metadata": {},
     "outputs": [
      {
       "metadata": {},
       "output_type": "pyout",
       "prompt_number": 39,
       "text": [
        "['moving',\n",
        " 'moving',\n",
        " 'moving',\n",
        " 'moving',\n",
        " 'moving',\n",
        " 'moving',\n",
        " 'moving',\n",
        " 'moving',\n",
        " 'moving']"
       ]
      }
     ],
     "prompt_number": 39
    },
    {
     "cell_type": "code",
     "collapsed": false,
     "input": [
      "state_diff_df"
     ],
     "language": "python",
     "metadata": {},
     "outputs": [
      {
       "html": [
        "<div style=\"max-width:1500px;overflow:auto;\">\n",
        "<table border=\"1\" class=\"dataframe\">\n",
        "  <thead>\n",
        "    <tr style=\"text-align: right;\">\n",
        "      <th></th>\n",
        "      <th>rate</th>\n",
        "      <th>state</th>\n",
        "    </tr>\n",
        "  </thead>\n",
        "  <tbody>\n",
        "    <tr>\n",
        "      <th>1</th>\n",
        "      <td>0.000000</td>\n",
        "      <td>moving</td>\n",
        "    </tr>\n",
        "    <tr>\n",
        "      <th>2</th>\n",
        "      <td>0.000000</td>\n",
        "      <td>moving</td>\n",
        "    </tr>\n",
        "    <tr>\n",
        "      <th>3</th>\n",
        "      <td>-2.046385</td>\n",
        "      <td>moving</td>\n",
        "    </tr>\n",
        "    <tr>\n",
        "      <th>4</th>\n",
        "      <td>-2.316468</td>\n",
        "      <td>moving</td>\n",
        "    </tr>\n",
        "    <tr>\n",
        "      <th>18</th>\n",
        "      <td>-2.902301</td>\n",
        "      <td>moving</td>\n",
        "    </tr>\n",
        "    <tr>\n",
        "      <th>19</th>\n",
        "      <td>-3.802703</td>\n",
        "      <td>moving</td>\n",
        "    </tr>\n",
        "    <tr>\n",
        "      <th>20</th>\n",
        "      <td>-3.757495</td>\n",
        "      <td>moving</td>\n",
        "    </tr>\n",
        "    <tr>\n",
        "      <th>21</th>\n",
        "      <td>-4.802529</td>\n",
        "      <td>moving</td>\n",
        "    </tr>\n",
        "    <tr>\n",
        "      <th>22</th>\n",
        "      <td>-1.476899</td>\n",
        "      <td>moving</td>\n",
        "    </tr>\n",
        "    <tr>\n",
        "      <th>5</th>\n",
        "      <td>-1.796748</td>\n",
        "      <td>active</td>\n",
        "    </tr>\n",
        "    <tr>\n",
        "      <th>6</th>\n",
        "      <td>-3.563933</td>\n",
        "      <td>active</td>\n",
        "    </tr>\n",
        "    <tr>\n",
        "      <th>7</th>\n",
        "      <td>-3.234690</td>\n",
        "      <td>active</td>\n",
        "    </tr>\n",
        "    <tr>\n",
        "      <th>8</th>\n",
        "      <td>-3.412064</td>\n",
        "      <td>active</td>\n",
        "    </tr>\n",
        "    <tr>\n",
        "      <th>9</th>\n",
        "      <td>-2.869372</td>\n",
        "      <td>active</td>\n",
        "    </tr>\n",
        "    <tr>\n",
        "      <th>10</th>\n",
        "      <td>-3.617872</td>\n",
        "      <td>active</td>\n",
        "    </tr>\n",
        "    <tr>\n",
        "      <th>11</th>\n",
        "      <td>-3.459360</td>\n",
        "      <td>active</td>\n",
        "    </tr>\n",
        "    <tr>\n",
        "      <th>12</th>\n",
        "      <td>-3.300648</td>\n",
        "      <td>active</td>\n",
        "    </tr>\n",
        "    <tr>\n",
        "      <th>13</th>\n",
        "      <td>-3.359901</td>\n",
        "      <td>active</td>\n",
        "    </tr>\n",
        "    <tr>\n",
        "      <th>14</th>\n",
        "      <td>-3.283443</td>\n",
        "      <td>active</td>\n",
        "    </tr>\n",
        "    <tr>\n",
        "      <th>15</th>\n",
        "      <td>-2.686106</td>\n",
        "      <td>active</td>\n",
        "    </tr>\n",
        "    <tr>\n",
        "      <th>16</th>\n",
        "      <td>-4.799680</td>\n",
        "      <td>active</td>\n",
        "    </tr>\n",
        "    <tr>\n",
        "      <th>17</th>\n",
        "      <td>-3.506858</td>\n",
        "      <td>active</td>\n",
        "    </tr>\n",
        "    <tr>\n",
        "      <th>23</th>\n",
        "      <td>-1.928841</td>\n",
        "      <td>passive</td>\n",
        "    </tr>\n",
        "  </tbody>\n",
        "</table>\n",
        "</div>"
       ],
       "metadata": {},
       "output_type": "pyout",
       "prompt_number": 40,
       "text": [
        "        rate    state\n",
        "1   0.000000   moving\n",
        "2   0.000000   moving\n",
        "3  -2.046385   moving\n",
        "4  -2.316468   moving\n",
        "18 -2.902301   moving\n",
        "19 -3.802703   moving\n",
        "20 -3.757495   moving\n",
        "21 -4.802529   moving\n",
        "22 -1.476899   moving\n",
        "5  -1.796748   active\n",
        "6  -3.563933   active\n",
        "7  -3.234690   active\n",
        "8  -3.412064   active\n",
        "9  -2.869372   active\n",
        "10 -3.617872   active\n",
        "11 -3.459360   active\n",
        "12 -3.300648   active\n",
        "13 -3.359901   active\n",
        "14 -3.283443   active\n",
        "15 -2.686106   active\n",
        "16 -4.799680   active\n",
        "17 -3.506858   active\n",
        "23 -1.928841  passive"
       ]
      }
     ],
     "prompt_number": 40
    },
    {
     "cell_type": "code",
     "collapsed": false,
     "input": [
      "def get_state_diff_df(drain_df):\n",
      "    state_diff_df_map = {\"moving\": pd.Series(), \"active\": pd.Series(), \"passive\": pd.Series()}\n",
      "    for idx,row in ground_truth_df.iterrows():\n",
      "        # print row.start_fmt_time, row.end_fmt_time\n",
      "        # print row.state, drain_df[(drain_df.ts >= row.start_ts) & (drain_df.ts <= row.end_ts)]\n",
      "        curr_state_drain_df = drain_df[(drain_df.ts >= row.start_ts) & (drain_df.ts <= row.end_ts)]\n",
      "        curr_state_diff_df = curr_state_drain_df[[\"ts\",\"value\"]].diff()\n",
      "        state_diff_df_map[row.state] = state_diff_df_map[row.state].append(curr_state_diff_df[curr_state_diff_df.value < 0].apply(lambda(arr): arr[1]/secs_to_hour(arr[0]), axis=1))\n",
      "    state_diff_df = pd.DataFrame({\"state\": [\"moving\"] * len(state_diff_df_map[\"moving\"]), \"rate\": state_diff_df_map[\"moving\"]}).append(\n",
      "                    pd.DataFrame({\"state\": [\"active\"] * len(state_diff_df_map[\"active\"]), \"rate\": state_diff_df_map[\"active\"]})).append(\n",
      "                    pd.DataFrame({\"state\": [\"passive\"] * len(state_diff_df_map[\"passive\"]), \"rate\": state_diff_df_map[\"passive\"]}))\n",
      "    return state_diff_df"
     ],
     "language": "python",
     "metadata": {},
     "outputs": [],
     "prompt_number": 46
    },
    {
     "cell_type": "code",
     "collapsed": false,
     "input": [
      "fig, axes = plt.subplots(nrows=1, ncols=6, figsize=(15,3), sharey=True)\n",
      "for i, key in enumerate(sorted(drain_df_map.keys())):\n",
      "    print \"displaying %d\" % i\n",
      "    drain_df = drain_df_map[key]\n",
      "    state_diff_df = get_state_diff_df(drain_df)\n",
      "    state_diff_df.boxplot(column='rate', by='state', ax=axes[i], grid=True)\n",
      "    axes[i].set_title(\"%s (%s)\" % (key, regime_map[key]))\n",
      "\n",
      "for ax in axes:\n",
      "    ax.minorticks_on()\n",
      "    ax.grid(which='both', color='purple')\n",
      "\n",
      "axes[0].set_ylabel(\"battery % drain/hr\")\n",
      "for t in fig.texts:\n",
      "    t.set_text(\"\")"
     ],
     "language": "python",
     "metadata": {},
     "outputs": [
      {
       "output_type": "stream",
       "stream": "stdout",
       "text": [
        "displaying 0\n",
        "displaying 1"
       ]
      },
      {
       "output_type": "stream",
       "stream": "stdout",
       "text": [
        "\n",
        "displaying 2"
       ]
      },
      {
       "output_type": "stream",
       "stream": "stdout",
       "text": [
        "\n",
        "displaying 3"
       ]
      },
      {
       "output_type": "stream",
       "stream": "stdout",
       "text": [
        "\n",
        "displaying 4"
       ]
      },
      {
       "output_type": "stream",
       "stream": "stdout",
       "text": [
        "\n",
        "displaying 5"
       ]
      },
      {
       "output_type": "stream",
       "stream": "stdout",
       "text": [
        "\n"
       ]
      },
      {
       "metadata": {},
       "output_type": "display_data",
       "png": "[encoded data removed]",
       "text": [
        "<matplotlib.figure.Figure at 0x1175d1750>"
       ]
      }
     ],
     "prompt_number": 102
    },
    {
     "cell_type": "code",
     "collapsed": false,
     "input": [
      "import matplotlib"
     ],
     "language": "python",
     "metadata": {},
     "outputs": [],
     "prompt_number": 75
    },
    {
     "cell_type": "code",
     "collapsed": false,
     "input": [
      "for t in fig.texts:\n",
      "    print t.get_text()"
     ],
     "language": "python",
     "metadata": {},
     "outputs": [
      {
       "output_type": "stream",
       "stream": "stdout",
       "text": [
        "\n",
        "\n",
        "\n",
        "\n",
        "\n",
        "\n"
       ]
      }
     ],
     "prompt_number": 96
    },
    {
     "cell_type": "code",
     "collapsed": false,
     "input": [],
     "language": "python",
     "metadata": {},
     "outputs": []
    },
    {
     "cell_type": "code",
     "collapsed": false,
     "input": [],
     "language": "python",
     "metadata": {},
     "outputs": [],
     "prompt_number": 42
    },
    {
     "cell_type": "code",
     "collapsed": false,
     "input": [],
     "language": "python",
     "metadata": {},
     "outputs": [],
     "prompt_number": 42
    },
    {
     "cell_type": "code",
     "collapsed": false,
     "input": [],
     "language": "python",
     "metadata": {},
     "outputs": [],
     "prompt_number": 42
    },
    {
     "cell_type": "code",
     "collapsed": false,
     "input": [],
     "language": "python",
     "metadata": {},
     "outputs": [],
     "prompt_number": 42
    },
    {
     "cell_type": "code",
     "collapsed": false,
     "input": [],
     "language": "python",
     "metadata": {},
     "outputs": [],
     "prompt_number": 42
    },
    {
     "cell_type": "code",
     "collapsed": false,
     "input": [],
     "language": "python",
     "metadata": {},
     "outputs": [],
     "prompt_number": 42
    },
    {
     "cell_type": "code",
     "collapsed": false,
     "input": [],
     "language": "python",
     "metadata": {},
     "outputs": [],
     "prompt_number": 42
    },
    {
     "cell_type": "code",
     "collapsed": false,
     "input": [],
     "language": "python",
     "metadata": {},
     "outputs": [],
     "prompt_number": 42
    },
    {
     "cell_type": "code",
     "collapsed": false,
     "input": [],
     "language": "python",
     "metadata": {},
     "outputs": []
    }
   ],
   "metadata": {}
  }
 ]
}