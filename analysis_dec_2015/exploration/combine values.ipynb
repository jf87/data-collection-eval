{
 "metadata": {
  "name": "",
  "signature": "sha256:fe03ac1506cb19ab125e2b0582eda1c39bbbfbfcb2e2eeaeaf89092fd7d451c0"
 },
 "nbformat": 3,
 "nbformat_minor": 0,
 "worksheets": [
  {
   "cells": [
    {
     "cell_type": "code",
     "collapsed": false,
     "input": [
      "import sys"
     ],
     "language": "python",
     "metadata": {},
     "outputs": [],
     "prompt_number": 1
    },
    {
     "cell_type": "code",
     "collapsed": false,
     "input": [
      "sys.path.insert(0, \"/Users/shankari/e-mission/e-mission-server/\")\n",
      "sys.path.insert(0, \"/Users/shankari/e-mission/data-collection-eval/src/\")"
     ],
     "language": "python",
     "metadata": {},
     "outputs": [],
     "prompt_number": 30
    },
    {
     "cell_type": "code",
     "collapsed": false,
     "input": [
      "sys.path"
     ],
     "language": "python",
     "metadata": {},
     "outputs": [
      {
       "metadata": {},
       "output_type": "pyout",
       "prompt_number": 31,
       "text": [
        "['/Users/shankari/e-mission/data-collection-eval/src/',\n",
        " '/Users/shankari/e-mission/e-mission-server/',\n",
        " '/Users/shankari/e-mission/data-collection-eval/src/',\n",
        " '/Users/shankari/e-mission/e-mission-server/',\n",
        " '/Users/shankari/e-mission/e-mission-server/',\n",
        " '',\n",
        " '/Users/shankari/OSS/anaconda/lib/python2.7/site-packages/pygmaps-0.1.1-py2.7.egg',\n",
        " '/Users/shankari/bin/python',\n",
        " '/Users/shankari/e-mission/data-collection-eval/analysis_dec_2015/exploration',\n",
        " '/Users/shankari/OSS/anaconda/python.app/Contents/lib/python27.zip',\n",
        " '/Users/shankari/OSS/anaconda/python.app/Contents/lib/python2.7',\n",
        " '/Users/shankari/OSS/anaconda/python.app/Contents/lib/python2.7/plat-darwin',\n",
        " '/Users/shankari/OSS/anaconda/python.app/Contents/lib/python2.7/plat-mac',\n",
        " '/Users/shankari/OSS/anaconda/python.app/Contents/lib/python2.7/plat-mac/lib-scriptpackages',\n",
        " '/Users/shankari/OSS/anaconda/python.app/Contents/lib/python2.7/lib-tk',\n",
        " '/Users/shankari/OSS/anaconda/python.app/Contents/lib/python2.7/lib-old',\n",
        " '/Users/shankari/OSS/anaconda/python.app/Contents/lib/python2.7/lib-dynload',\n",
        " '/Users/shankari/OSS/anaconda/lib/python2.7/site-packages/runipy-0.1.0-py2.7.egg',\n",
        " '/Users/shankari/OSS/anaconda/lib/python2.7/site-packages',\n",
        " '/Users/shankari/OSS/anaconda/lib/python2.7/site-packages/PIL',\n",
        " '/Users/shankari/OSS/anaconda/lib/python2.7/site-packages/setuptools-18.4-py2.7.egg',\n",
        " '/Users/shankari/OSS/anaconda/lib/python2.7/site-packages/IPython/extensions']"
       ]
      }
     ],
     "prompt_number": 31
    },
    {
     "cell_type": "code",
     "collapsed": false,
     "input": [
      "import logging\n",
      "logging.getLogger().setLevel(logging.DEBUG)"
     ],
     "language": "python",
     "metadata": {},
     "outputs": [],
     "prompt_number": 6
    },
    {
     "cell_type": "code",
     "collapsed": false,
     "input": [
      "from uuid import UUID"
     ],
     "language": "python",
     "metadata": {},
     "outputs": [],
     "prompt_number": 7
    },
    {
     "cell_type": "code",
     "collapsed": false,
     "input": [
      "iphone_ids = [UUID(\"079e0f1a-c440-3d7c-b0e7-de160f748e35\"), UUID(\"c76a0487-7e5a-3b17-a449-47be666b36f6\"), UUID(\"c528bcd2-a88b-3e82-be62-ef4f2396967a\")]\n",
      "android_ids = [UUID(\"e471711e-bd14-3dbe-80b6-9c7d92ecc296\"), UUID(\"fd7b4c2e-2c8b-3bfa-94f0-d1e3ecbd5fb7\"), UUID(\"86842c35-da28-32ed-a90e-2da6663c5c73\")]"
     ],
     "language": "python",
     "metadata": {},
     "outputs": [],
     "prompt_number": 8
    },
    {
     "cell_type": "code",
     "collapsed": false,
     "input": [
      "import emission.core.get_database as edb"
     ],
     "language": "python",
     "metadata": {},
     "outputs": [],
     "prompt_number": 9
    },
    {
     "cell_type": "code",
     "collapsed": false,
     "input": [
      "import pandas as pd"
     ],
     "language": "python",
     "metadata": {},
     "outputs": [],
     "prompt_number": 10
    },
    {
     "cell_type": "code",
     "collapsed": false,
     "input": [
      "import matplotlib.pyplot as plt\n",
      "%matplotlib inline"
     ],
     "language": "python",
     "metadata": {},
     "outputs": [],
     "prompt_number": 11
    },
    {
     "cell_type": "code",
     "collapsed": false,
     "input": [
      "import datetime as pydt"
     ],
     "language": "python",
     "metadata": {},
     "outputs": [],
     "prompt_number": 12
    },
    {
     "cell_type": "code",
     "collapsed": false,
     "input": [
      "import analysis.common as ac\n",
      "import analysis.power_drain_manual as ap"
     ],
     "language": "python",
     "metadata": {},
     "outputs": [],
     "prompt_number": 32
    },
    {
     "cell_type": "code",
     "collapsed": false,
     "input": [
      "phone_labels = [\"ucb.sdb.ios.1\", \"ucb.sdb.ios.2\", \"ucb.sdb.ios.3\", \"ucb.sdb.android.1\", \"ucb.sdb.android.2\", \"ucb.sdb.android.3\"]"
     ],
     "language": "python",
     "metadata": {},
     "outputs": [],
     "prompt_number": 13
    },
    {
     "cell_type": "code",
     "collapsed": false,
     "input": [
      "def get_display_name(label):\n",
      "    parts = label.split('.')\n",
      "    return parts[2] + '.' + parts[3]"
     ],
     "language": "python",
     "metadata": {},
     "outputs": [],
     "prompt_number": 14
    },
    {
     "cell_type": "code",
     "collapsed": false,
     "input": [
      "display_names = [get_display_name(label) for label in phone_labels]"
     ],
     "language": "python",
     "metadata": {},
     "outputs": [],
     "prompt_number": 15
    },
    {
     "cell_type": "code",
     "collapsed": false,
     "input": [
      "accuracy_drain_df_map = {}"
     ],
     "language": "python",
     "metadata": {},
     "outputs": [],
     "prompt_number": 16
    },
    {
     "cell_type": "code",
     "collapsed": false,
     "input": [
      "accuracy_drain_df_map[\"ios.1\"] = pd.read_csv(\"../../results_dec_2015/ucb.sdb.ios.1/power_logs/noha5m_1449240600.log\")\n",
      "accuracy_drain_df_map[\"ios.2\"] = pd.read_csv(\"../../results_dec_2015/ucb.sdb.ios.2/power_logs/noma5m_1449240600.log\")\n",
      "accuracy_drain_df_map[\"ios.3\"] = pd.read_csv(\"../../results_dec_2015/ucb.sdb.ios.3/power_logs/noma50m_1449240600.log\")"
     ],
     "language": "python",
     "metadata": {},
     "outputs": [],
     "prompt_number": 17
    },
    {
     "cell_type": "code",
     "collapsed": false,
     "input": [
      "accuracy_drain_df_map[\"android.1\"] = pd.read_csv(\"../../results_dec_2015/ucb.sdb.android.1/power_logs/noha2s_1449240600.log\")\n",
      "accuracy_drain_df_map[\"android.2\"] = pd.read_csv(\"../../results_dec_2015/ucb.sdb.android.2/power_logs/noma2s_1449240600.log\")\n",
      "accuracy_drain_df_map[\"android.3\"] = pd.read_csv(\"../../results_dec_2015/ucb.sdb.android.3/power_logs/noma30s_1449240600.log\")"
     ],
     "language": "python",
     "metadata": {},
     "outputs": [],
     "prompt_number": 18
    },
    {
     "cell_type": "code",
     "collapsed": false,
     "input": [
      "accuracy_regime_map = {}"
     ],
     "language": "python",
     "metadata": {},
     "outputs": [],
     "prompt_number": 19
    },
    {
     "cell_type": "code",
     "collapsed": false,
     "input": [
      "accuracy_regime_map[\"ios.1\"] = \"ha5m\"\n",
      "accuracy_regime_map[\"ios.2\"] = \"ma5m\"\n",
      "accuracy_regime_map[\"ios.3\"] = \"ma50m\""
     ],
     "language": "python",
     "metadata": {},
     "outputs": [],
     "prompt_number": 20
    },
    {
     "cell_type": "code",
     "collapsed": false,
     "input": [
      "accuracy_regime_map[\"android.1\"] = \"ha2s\"\n",
      "accuracy_regime_map[\"android.2\"] = \"ma2s\"\n",
      "accuracy_regime_map[\"android.3\"] = \"ma30s\""
     ],
     "language": "python",
     "metadata": {},
     "outputs": [],
     "prompt_number": 22
    },
    {
     "cell_type": "code",
     "collapsed": false,
     "input": [
      "hafs_drain_df_map = {}\n",
      "hafs_drain_df_map[\"ios.1\"] = pd.read_csv(\"../../results_dec_2015/ucb.sdb.ios.1/power_logs/nd_manual_1449344421.log\")\n",
      "hafs_drain_df_map[\"ios.2\"] = pd.read_csv(\"../../results_dec_2015/ucb.sdb.ios.2/power_logs/noha5m_manual_1449344421.log\")\n",
      "hafs_drain_df_map[\"ios.3\"] = pd.read_csv(\"../../results_dec_2015/ucb.sdb.ios.3/power_logs/geo100m-ha5m_manual_1449344421.log\")\n",
      "\n",
      "hafs_drain_df_map[\"android.1\"] = pd.read_csv(\"../../results_dec_2015/ucb.sdb.android.1/power_logs/nd_manual_1449344421.log\")\n",
      "hafs_drain_df_map[\"android.2\"] = pd.read_csv(\"../../results_dec_2015/ucb.sdb.android.2/power_logs/noha2s_manual_1449344421.log\")\n",
      "hafs_drain_df_map[\"android.3\"] = pd.read_csv(\"../../results_dec_2015/ucb.sdb.android.3/power_logs/geo100m-ha2s_manual_1449344421.log\")\n",
      "\n",
      "hafs_regime_map = {}\n",
      "\n",
      "hafs_regime_map[\"ios.1\"] = \"nd\"\n",
      "hafs_regime_map[\"ios.2\"] = \"ha5m\"\n",
      "hafs_regime_map[\"ios.3\"] = \"geo100m-ha5m\"\n",
      "\n",
      "hafs_regime_map[\"android.1\"] = \"nd\"\n",
      "hafs_regime_map[\"android.2\"] = \"ha2s\"\n",
      "hafs_regime_map[\"android.3\"] = \"geo100m-ha2s\""
     ],
     "language": "python",
     "metadata": {},
     "outputs": [],
     "prompt_number": 24
    },
    {
     "cell_type": "code",
     "collapsed": false,
     "input": [
      "mafs_drain_df_map = {}\n",
      "mafs_drain_df_map[\"ios.1\"] = pd.read_csv(\"../../results_dec_2015/ucb.sdb.ios.1/power_logs/nd_1449455052.log\")\n",
      "mafs_drain_df_map[\"ios.2\"] = pd.read_csv(\"../../results_dec_2015/ucb.sdb.ios.2/power_logs/noma5m_1449455052.log\")\n",
      "mafs_drain_df_map[\"ios.3\"] = pd.read_csv(\"../../results_dec_2015/ucb.sdb.ios.3/power_logs/geo100m-ma5m_1449455052.log\")\n",
      "\n",
      "mafs_drain_df_map[\"android.1\"] = pd.read_csv(\"../../results_dec_2015/ucb.sdb.android.1/power_logs/nd_manual_1449455052.log\")\n",
      "mafs_drain_df_map[\"android.2\"] = pd.read_csv(\"../../results_dec_2015/ucb.sdb.android.2/power_logs/noma2s_manual_1449455052.log\")\n",
      "mafs_drain_df_map[\"android.3\"] = pd.read_csv(\"../../results_dec_2015/ucb.sdb.android.3/power_logs/geo100m-ma2s_manual_1449455052.log\")\n",
      "\n",
      "mafs_regime_map = {}\n",
      "\n",
      "mafs_regime_map[\"ios.1\"] = \"nd\"\n",
      "mafs_regime_map[\"ios.2\"] = \"ma5m\"\n",
      "mafs_regime_map[\"ios.3\"] = \"geo100m-ma5m\"\n",
      "\n",
      "mafs_regime_map[\"android.1\"] = \"nd\"\n",
      "mafs_regime_map[\"android.2\"] = \"ma2s\"\n",
      "mafs_regime_map[\"android.3\"] = \"geo100m-ma2s\""
     ],
     "language": "python",
     "metadata": {},
     "outputs": [],
     "prompt_number": 25
    },
    {
     "cell_type": "code",
     "collapsed": false,
     "input": [
      "for drain_df in accuracy_drain_df_map.values() + hafs_drain_df_map.values() + mafs_drain_df_map.values():\n",
      "    drain_df[\"fmt_time\"] = drain_df.ts.map(lambda(t): pydt.datetime.fromtimestamp(t))"
     ],
     "language": "python",
     "metadata": {},
     "outputs": [],
     "prompt_number": 26
    },
    {
     "cell_type": "code",
     "collapsed": false,
     "input": [
      "accuracy_ground_truth_df = pd.read_csv(\"../../ground_truth/trip_to_berkeley.friday.2015-12-04/states.summary\")\n",
      "hafs_ground_truth_df = pd.read_csv(\"../../ground_truth/compare_hafs.2015-12-04-05/states.summary\")\n",
      "mafs_ground_truth_df = pd.read_csv(\"../../ground_truth/compare_mafs.2015-12-06-07/states.summary\")"
     ],
     "language": "python",
     "metadata": {},
     "outputs": [],
     "prompt_number": 27
    },
    {
     "cell_type": "code",
     "collapsed": false,
     "input": [
      "def get_state_diff_df_map(drain_df_map, ground_truth_df, regime_map):\n",
      "    state_diff_df_map = {}\n",
      "    for i, key in enumerate(sorted(drain_df_map.keys())):\n",
      "        print \"displaying %d, %s (%s)\" % (i, key, regime_map[key])\n",
      "        state_diff_df_map[key] = ap.get_state_diff_df(drain_df_map[key], ground_truth_df)\n",
      "    return state_diff_df_map"
     ],
     "language": "python",
     "metadata": {},
     "outputs": [],
     "prompt_number": 28
    },
    {
     "cell_type": "code",
     "collapsed": false,
     "input": [
      "accuracy_state_df_map = get_state_diff_df_map(accuracy_drain_df_map, accuracy_ground_truth_df, accuracy_regime_map)"
     ],
     "language": "python",
     "metadata": {},
     "outputs": [
      {
       "output_type": "stream",
       "stream": "stdout",
       "text": [
        "displaying 0, android.1 (ha2s)\n",
        "displaying 1, android.2 (ma2s)\n",
        "displaying 2, android.3 (ma30s)"
       ]
      },
      {
       "output_type": "stream",
       "stream": "stdout",
       "text": [
        "\n",
        "displaying 3, ios.1 (ha5m)\n",
        "displaying 4, ios.2 (ma5m)\n",
        "displaying 5, ios.3 (ma50m)"
       ]
      },
      {
       "output_type": "stream",
       "stream": "stdout",
       "text": [
        "\n"
       ]
      }
     ],
     "prompt_number": 33
    },
    {
     "cell_type": "code",
     "collapsed": false,
     "input": [
      "hafs_state_df_map = get_state_diff_df_map(hafs_drain_df_map, hafs_ground_truth_df, hafs_regime_map)"
     ],
     "language": "python",
     "metadata": {},
     "outputs": [
      {
       "output_type": "stream",
       "stream": "stdout",
       "text": [
        "displaying 0, android.1 (nd)\n",
        "displaying 1, android.2 (ha2s)"
       ]
      },
      {
       "output_type": "stream",
       "stream": "stdout",
       "text": [
        "\n",
        "displaying 2, android.3 (geo100m-ha2s)"
       ]
      },
      {
       "output_type": "stream",
       "stream": "stdout",
       "text": [
        "\n",
        "displaying 3, ios.1 (nd)\n",
        "displaying 4, ios.2 (ha5m)"
       ]
      },
      {
       "output_type": "stream",
       "stream": "stdout",
       "text": [
        "\n",
        "displaying 5, ios.3 (geo100m-ha5m)\n"
       ]
      }
     ],
     "prompt_number": 34
    },
    {
     "cell_type": "code",
     "collapsed": false,
     "input": [
      "mafs_state_df_map = get_state_diff_df_map(mafs_drain_df_map, mafs_ground_truth_df, mafs_regime_map)"
     ],
     "language": "python",
     "metadata": {},
     "outputs": [
      {
       "output_type": "stream",
       "stream": "stdout",
       "text": [
        "displaying 0, android.1 (nd)\n",
        "displaying 1, android.2 (ma2s)"
       ]
      },
      {
       "output_type": "stream",
       "stream": "stdout",
       "text": [
        "\n",
        "displaying 2, android.3 (geo100m-ma2s)"
       ]
      },
      {
       "output_type": "stream",
       "stream": "stdout",
       "text": [
        "\n",
        "displaying 3, ios.1 (nd)"
       ]
      },
      {
       "output_type": "stream",
       "stream": "stdout",
       "text": [
        "\n",
        "displaying 4, ios.2 (ma5m)"
       ]
      },
      {
       "output_type": "stream",
       "stream": "stdout",
       "text": [
        "\n",
        "displaying 5, ios.3 (geo100m-ma5m)"
       ]
      },
      {
       "output_type": "stream",
       "stream": "stdout",
       "text": [
        "\n"
       ]
      }
     ],
     "prompt_number": 35
    },
    {
     "cell_type": "code",
     "collapsed": false,
     "input": [
      "accuracy_state_df_map[\"android.1\"].groupby(\"state\", as_index=False).mean().merge(hafs_state_df_map[\"android.2\"].groupby(\"state\", as_index=False).mean(), on=\"state\")"
     ],
     "language": "python",
     "metadata": {},
     "outputs": [
      {
       "html": [
        "<div style=\"max-width:1500px;overflow:auto;\">\n",
        "<table border=\"1\" class=\"dataframe\">\n",
        "  <thead>\n",
        "    <tr style=\"text-align: right;\">\n",
        "      <th></th>\n",
        "      <th>state</th>\n",
        "      <th>rate_x</th>\n",
        "      <th>rate_y</th>\n",
        "    </tr>\n",
        "  </thead>\n",
        "  <tbody>\n",
        "    <tr>\n",
        "      <th>0</th>\n",
        "      <td>active</td>\n",
        "      <td>-7.132685</td>\n",
        "      <td>-3.331376</td>\n",
        "    </tr>\n",
        "    <tr>\n",
        "      <th>1</th>\n",
        "      <td>moving</td>\n",
        "      <td>-8.822846</td>\n",
        "      <td>-4.187637</td>\n",
        "    </tr>\n",
        "    <tr>\n",
        "      <th>2</th>\n",
        "      <td>passive</td>\n",
        "      <td>-5.511918</td>\n",
        "      <td>-4.006661</td>\n",
        "    </tr>\n",
        "  </tbody>\n",
        "</table>\n",
        "</div>"
       ],
       "metadata": {},
       "output_type": "pyout",
       "prompt_number": 40,
       "text": [
        "     state    rate_x    rate_y\n",
        "0   active -7.132685 -3.331376\n",
        "1   moving -8.822846 -4.187637\n",
        "2  passive -5.511918 -4.006661"
       ]
      }
     ],
     "prompt_number": 40
    },
    {
     "cell_type": "code",
     "collapsed": false,
     "input": [
      "def get_state_mean_df_map(state_df_map, regime_map):\n",
      "    state_mean_df_map = {}\n",
      "    for i, key in enumerate(sorted(state_df_map.keys())):\n",
      "        print \"displaying %d, %s (%s)\" % (i, key, regime_map[key])\n",
      "        state_mean_df_map[key] = state_df_map[key].groupby(\"state\", as_index=False)\n",
      "    return state_mean_df_map"
     ],
     "language": "python",
     "metadata": {},
     "outputs": [],
     "prompt_number": 54
    },
    {
     "cell_type": "code",
     "collapsed": false,
     "input": [
      "accuracy_mean_df_map = get_state_mean_df_map(accuracy_state_df_map, accuracy_regime_map)\n",
      "hafs_mean_df_map = get_state_mean_df_map(hafs_state_df_map, hafs_regime_map)\n",
      "mafs_mean_df_map = get_state_mean_df_map(mafs_state_df_map, mafs_regime_map)"
     ],
     "language": "python",
     "metadata": {},
     "outputs": [
      {
       "output_type": "stream",
       "stream": "stdout",
       "text": [
        "displaying 0, android.1 (ha2s)\n",
        "displaying 1, android.2 (ma2s)\n",
        "displaying 2, android.3 (ma30s)\n",
        "displaying 3, ios.1 (ha5m)\n",
        "displaying 4, ios.2 (ma5m)\n",
        "displaying 5, ios.3 (ma50m)\n",
        "displaying 0, android.1 (nd)\n",
        "displaying 1, android.2 (ha2s)\n",
        "displaying 2, android.3 (geo100m-ha2s)\n",
        "displaying 3, ios.1 (nd)\n",
        "displaying 4, ios.2 (ha5m)\n",
        "displaying 5, ios.3 (geo100m-ha5m)\n",
        "displaying 0, android.1 (nd)\n",
        "displaying 1, android.2 (ma2s)\n",
        "displaying 2, android.3 (geo100m-ma2s)\n",
        "displaying 3, ios.1 (nd)\n",
        "displaying 4, ios.2 (ma5m)\n",
        "displaying 5, ios.3 (geo100m-ma5m)\n"
       ]
      }
     ],
     "prompt_number": 55
    },
    {
     "cell_type": "code",
     "collapsed": false,
     "input": [
      "# nohafs\n",
      "accuracy_mean_df_map['android.1'].mean().merge(hafs_mean_df_map['android.2'].mean(), on=\"state\")"
     ],
     "language": "python",
     "metadata": {},
     "outputs": [
      {
       "html": [
        "<div style=\"max-width:1500px;overflow:auto;\">\n",
        "<table border=\"1\" class=\"dataframe\">\n",
        "  <thead>\n",
        "    <tr style=\"text-align: right;\">\n",
        "      <th></th>\n",
        "      <th>state</th>\n",
        "      <th>rate_x</th>\n",
        "      <th>rate_y</th>\n",
        "    </tr>\n",
        "  </thead>\n",
        "  <tbody>\n",
        "    <tr>\n",
        "      <th>0</th>\n",
        "      <td>active</td>\n",
        "      <td>-7.132685</td>\n",
        "      <td>-3.331376</td>\n",
        "    </tr>\n",
        "    <tr>\n",
        "      <th>1</th>\n",
        "      <td>moving</td>\n",
        "      <td>-8.822846</td>\n",
        "      <td>-4.187637</td>\n",
        "    </tr>\n",
        "    <tr>\n",
        "      <th>2</th>\n",
        "      <td>passive</td>\n",
        "      <td>-5.511918</td>\n",
        "      <td>-4.006661</td>\n",
        "    </tr>\n",
        "  </tbody>\n",
        "</table>\n",
        "</div>"
       ],
       "metadata": {},
       "output_type": "pyout",
       "prompt_number": 72,
       "text": [
        "     state    rate_x    rate_y\n",
        "0   active -7.132685 -3.331376\n",
        "1   moving -8.822846 -4.187637\n",
        "2  passive -5.511918 -4.006661"
       ]
      }
     ],
     "prompt_number": 72
    },
    {
     "cell_type": "code",
     "collapsed": false,
     "input": [
      "# nomafs\n",
      "accuracy_mean_df_map['android.2'].mean().merge(mafs_mean_df_map['android.2'].mean(), on=\"state\")"
     ],
     "language": "python",
     "metadata": {},
     "outputs": [
      {
       "html": [
        "<div style=\"max-width:1500px;overflow:auto;\">\n",
        "<table border=\"1\" class=\"dataframe\">\n",
        "  <thead>\n",
        "    <tr style=\"text-align: right;\">\n",
        "      <th></th>\n",
        "      <th>state</th>\n",
        "      <th>rate_x</th>\n",
        "      <th>rate_y</th>\n",
        "    </tr>\n",
        "  </thead>\n",
        "  <tbody>\n",
        "    <tr>\n",
        "      <th>0</th>\n",
        "      <td>active</td>\n",
        "      <td>-0.926580</td>\n",
        "      <td>-1.144390</td>\n",
        "    </tr>\n",
        "    <tr>\n",
        "      <th>1</th>\n",
        "      <td>moving</td>\n",
        "      <td>-3.076365</td>\n",
        "      <td>-1.947209</td>\n",
        "    </tr>\n",
        "    <tr>\n",
        "      <th>2</th>\n",
        "      <td>passive</td>\n",
        "      <td>-0.438373</td>\n",
        "      <td>-0.365109</td>\n",
        "    </tr>\n",
        "  </tbody>\n",
        "</table>\n",
        "</div>"
       ],
       "metadata": {},
       "output_type": "pyout",
       "prompt_number": 73,
       "text": [
        "     state    rate_x    rate_y\n",
        "0   active -0.926580 -1.144390\n",
        "1   moving -3.076365 -1.947209\n",
        "2  passive -0.438373 -0.365109"
       ]
      }
     ],
     "prompt_number": 73
    },
    {
     "cell_type": "code",
     "collapsed": false,
     "input": [
      "# nomass\n",
      "accuracy_mean_df_map['android.3'].mean()"
     ],
     "language": "python",
     "metadata": {},
     "outputs": [
      {
       "html": [
        "<div style=\"max-width:1500px;overflow:auto;\">\n",
        "<table border=\"1\" class=\"dataframe\">\n",
        "  <thead>\n",
        "    <tr style=\"text-align: right;\">\n",
        "      <th></th>\n",
        "      <th>state</th>\n",
        "      <th>rate</th>\n",
        "    </tr>\n",
        "  </thead>\n",
        "  <tbody>\n",
        "    <tr>\n",
        "      <th>0</th>\n",
        "      <td>active</td>\n",
        "      <td>-0.795273</td>\n",
        "    </tr>\n",
        "    <tr>\n",
        "      <th>1</th>\n",
        "      <td>moving</td>\n",
        "      <td>-1.616738</td>\n",
        "    </tr>\n",
        "    <tr>\n",
        "      <th>2</th>\n",
        "      <td>passive</td>\n",
        "      <td>-0.438373</td>\n",
        "    </tr>\n",
        "  </tbody>\n",
        "</table>\n",
        "</div>"
       ],
       "metadata": {},
       "output_type": "pyout",
       "prompt_number": 74,
       "text": [
        "     state      rate\n",
        "0   active -0.795273\n",
        "1   moving -1.616738\n",
        "2  passive -0.438373"
       ]
      }
     ],
     "prompt_number": 74
    },
    {
     "cell_type": "code",
     "collapsed": false,
     "input": [
      "# nd\n",
      "hafs_mean_df_map['android.1'].mean().merge(mafs_mean_df_map['android.1'].mean(), on=\"state\")"
     ],
     "language": "python",
     "metadata": {},
     "outputs": [
      {
       "html": [
        "<div style=\"max-width:1500px;overflow:auto;\">\n",
        "<table border=\"1\" class=\"dataframe\">\n",
        "  <thead>\n",
        "    <tr style=\"text-align: right;\">\n",
        "      <th></th>\n",
        "      <th>state</th>\n",
        "      <th>rate_x</th>\n",
        "      <th>rate_y</th>\n",
        "    </tr>\n",
        "  </thead>\n",
        "  <tbody>\n",
        "    <tr>\n",
        "      <th>0</th>\n",
        "      <td>active</td>\n",
        "      <td>-0.460435</td>\n",
        "      <td>-0.599526</td>\n",
        "    </tr>\n",
        "    <tr>\n",
        "      <th>1</th>\n",
        "      <td>moving</td>\n",
        "      <td>-1.078991</td>\n",
        "      <td>0.000000</td>\n",
        "    </tr>\n",
        "    <tr>\n",
        "      <th>2</th>\n",
        "      <td>passive</td>\n",
        "      <td>-0.381587</td>\n",
        "      <td>-0.365109</td>\n",
        "    </tr>\n",
        "  </tbody>\n",
        "</table>\n",
        "</div>"
       ],
       "metadata": {},
       "output_type": "pyout",
       "prompt_number": 75,
       "text": [
        "     state    rate_x    rate_y\n",
        "0   active -0.460435 -0.599526\n",
        "1   moving -1.078991  0.000000\n",
        "2  passive -0.381587 -0.365109"
       ]
      }
     ],
     "prompt_number": 75
    },
    {
     "cell_type": "code",
     "collapsed": false,
     "input": [
      "# geofenced\n",
      "hafs_mean_df_map['android.3'].mean().merge(mafs_mean_df_map['android.3'].mean(), on=\"state\")"
     ],
     "language": "python",
     "metadata": {},
     "outputs": [
      {
       "html": [
        "<div style=\"max-width:1500px;overflow:auto;\">\n",
        "<table border=\"1\" class=\"dataframe\">\n",
        "  <thead>\n",
        "    <tr style=\"text-align: right;\">\n",
        "      <th></th>\n",
        "      <th>state</th>\n",
        "      <th>rate_x</th>\n",
        "      <th>rate_y</th>\n",
        "    </tr>\n",
        "  </thead>\n",
        "  <tbody>\n",
        "    <tr>\n",
        "      <th>0</th>\n",
        "      <td>active</td>\n",
        "      <td>-0.643476</td>\n",
        "      <td>-0.940284</td>\n",
        "    </tr>\n",
        "    <tr>\n",
        "      <th>1</th>\n",
        "      <td>moving</td>\n",
        "      <td>-2.290580</td>\n",
        "      <td>-2.024149</td>\n",
        "    </tr>\n",
        "    <tr>\n",
        "      <th>2</th>\n",
        "      <td>passive</td>\n",
        "      <td>-0.381587</td>\n",
        "      <td>-0.638941</td>\n",
        "    </tr>\n",
        "  </tbody>\n",
        "</table>\n",
        "</div>"
       ],
       "metadata": {},
       "output_type": "pyout",
       "prompt_number": 78,
       "text": [
        "     state    rate_x    rate_y\n",
        "0   active -0.643476 -0.940284\n",
        "1   moving -2.290580 -2.024149\n",
        "2  passive -0.381587 -0.638941"
       ]
      }
     ],
     "prompt_number": 78
    },
    {
     "cell_type": "code",
     "collapsed": false,
     "input": [
      "accuracy_mean_df_map['android.1'].get_group(\"active\").append(hafs_mean_df_map['android.2'].get_group(\"active\")).mean()"
     ],
     "language": "python",
     "metadata": {},
     "outputs": [
      {
       "metadata": {},
       "output_type": "pyout",
       "prompt_number": 81,
       "text": [
        "rate   -4.875658\n",
        "dtype: float64"
       ]
      }
     ],
     "prompt_number": 81
    },
    {
     "cell_type": "code",
     "collapsed": false,
     "input": [
      "def get_combined_df_for_state(df_list, state):\n",
      "    combo = pd.Series()\n",
      "    for df in df_list:\n",
      "        print \"Appending %d entries for state %s\" % (len(df.get_group(state)), state)\n",
      "        # print \"Concatenating %s\" % df.get_group(state).rate\n",
      "        combo = combo.append(df.get_group(state).rate)\n",
      "    # print \"Returning combo %s\" % combo\n",
      "    return combo"
     ],
     "language": "python",
     "metadata": {},
     "outputs": [],
     "prompt_number": 101
    },
    {
     "cell_type": "code",
     "collapsed": false,
     "input": [
      "def get_combined_mean(df_list):\n",
      "    means_list = {}\n",
      "    means_list[\"active\"] = round(get_combined_df_for_state(df_list, \"active\").mean(), 5)\n",
      "    means_list[\"moving\"] = round(get_combined_df_for_state(df_list, \"moving\").mean(), 5)\n",
      "    means_list[\"passive\"] = round(get_combined_df_for_state(df_list, \"passive\").mean(), 5)\n",
      "    print means_list\n",
      "    return means_list"
     ],
     "language": "python",
     "metadata": {},
     "outputs": [],
     "prompt_number": 112
    },
    {
     "cell_type": "heading",
     "level": 2,
     "metadata": {},
     "source": [
      "Android"
     ]
    },
    {
     "cell_type": "code",
     "collapsed": false,
     "input": [
      "# nd\n",
      "get_combined_mean([hafs_mean_df_map['android.1'], mafs_mean_df_map['android.1']])"
     ],
     "language": "python",
     "metadata": {},
     "outputs": [
      {
       "output_type": "stream",
       "stream": "stdout",
       "text": [
        "Appending 20 entries for state active\n",
        "Appending 17 entries for state active\n",
        "Appending 6 entries for state moving\n",
        "Appending 7 entries for state moving\n",
        "Appending 1 entries for state passive\n",
        "Appending 1 entries for state passive\n",
        "{'active': -0.52434, 'passive': -0.37335, 'moving': -0.498}\n"
       ]
      },
      {
       "metadata": {},
       "output_type": "pyout",
       "prompt_number": 113,
       "text": [
        "{'active': -0.52434, 'moving': -0.498, 'passive': -0.37335}"
       ]
      }
     ],
     "prompt_number": 113
    },
    {
     "cell_type": "code",
     "collapsed": false,
     "input": [
      "# nohafs\n",
      "get_combined_mean([hafs_mean_df_map['android.2'], accuracy_mean_df_map['android.1']])"
     ],
     "language": "python",
     "metadata": {},
     "outputs": [
      {
       "output_type": "stream",
       "stream": "stdout",
       "text": [
        "Appending 19 entries for state active\n",
        "Appending 13 entries for state active\n",
        "Appending 6 entries for state moving\n",
        "Appending 8 entries for state moving\n",
        "Appending 1 entries for state passive\n",
        "Appending 1 entries for state passive\n",
        "{'active': -4.87566, 'passive': -4.75929, 'moving': -6.83633}\n"
       ]
      },
      {
       "metadata": {},
       "output_type": "pyout",
       "prompt_number": 114,
       "text": [
        "{'active': -4.87566, 'moving': -6.83633, 'passive': -4.75929}"
       ]
      }
     ],
     "prompt_number": 114
    },
    {
     "cell_type": "code",
     "collapsed": false,
     "input": [
      "# nohafs + geofenced hafs moving\n",
      "get_combined_mean([hafs_mean_df_map['android.2'], accuracy_mean_df_map['android.1'], hafs_mean_df_map['android.3']])"
     ],
     "language": "python",
     "metadata": {},
     "outputs": [
      {
       "output_type": "stream",
       "stream": "stdout",
       "text": [
        "Appending 19 entries for state active\n",
        "Appending 13 entries for state active\n",
        "Appending 20 entries for state active\n",
        "Appending 6 entries for state moving\n",
        "Appending 8 entries for state moving\n",
        "Appending 6 entries for state moving\n",
        "Appending 1 entries for state passive\n",
        "Appending 1 entries for state passive\n",
        "Appending 1 entries for state passive\n",
        "{'active': -3.2479, 'passive': -3.30006, 'moving': -5.4726}\n"
       ]
      },
      {
       "metadata": {},
       "output_type": "pyout",
       "prompt_number": 115,
       "text": [
        "{'active': -3.2479, 'moving': -5.4726, 'passive': -3.30006}"
       ]
      }
     ],
     "prompt_number": 115
    },
    {
     "cell_type": "code",
     "collapsed": false,
     "input": [
      "# nomafs\n",
      "get_combined_mean([mafs_mean_df_map['android.2'], accuracy_mean_df_map['android.2']])"
     ],
     "language": "python",
     "metadata": {},
     "outputs": [
      {
       "output_type": "stream",
       "stream": "stdout",
       "text": [
        "Appending 17 entries for state active\n",
        "Appending 12 entries for state active\n",
        "Appending 7 entries for state moving\n",
        "Appending 9 entries for state moving\n",
        "Appending 1 entries for state passive\n",
        "Appending 1 entries for state passive\n",
        "{'active': -1.05426, 'passive': -0.40174, 'moving': -2.58236}\n"
       ]
      },
      {
       "metadata": {},
       "output_type": "pyout",
       "prompt_number": 116,
       "text": [
        "{'active': -1.05426, 'moving': -2.58236, 'passive': -0.40174}"
       ]
      }
     ],
     "prompt_number": 116
    },
    {
     "cell_type": "code",
     "collapsed": false,
     "input": [
      "# nomafs + geofenced mafs moving\n",
      "get_combined_mean([mafs_mean_df_map['android.2'], accuracy_mean_df_map['android.2'], mafs_mean_df_map['android.3']])"
     ],
     "language": "python",
     "metadata": {},
     "outputs": [
      {
       "output_type": "stream",
       "stream": "stdout",
       "text": [
        "Appending 17 entries for state active\n",
        "Appending 12 entries for state active\n",
        "Appending 17 entries for state active\n",
        "Appending 7 entries for state moving\n",
        "Appending 9 entries for state moving\n",
        "Appending 7 entries for state moving\n",
        "Appending 1 entries for state passive\n",
        "Appending 1 entries for state passive\n",
        "Appending 1 entries for state passive\n",
        "{'active': -1.01214, 'passive': -0.48081, 'moving': -2.41247}\n"
       ]
      },
      {
       "metadata": {},
       "output_type": "pyout",
       "prompt_number": 117,
       "text": [
        "{'active': -1.01214, 'moving': -2.41247, 'passive': -0.48081}"
       ]
      }
     ],
     "prompt_number": 117
    },
    {
     "cell_type": "code",
     "collapsed": false,
     "input": [
      "# nomass\n",
      "get_combined_mean([accuracy_mean_df_map['android.3']])"
     ],
     "language": "python",
     "metadata": {},
     "outputs": [
      {
       "output_type": "stream",
       "stream": "stdout",
       "text": [
        "Appending 13 entries for state active\n",
        "Appending 9 entries for state moving\n",
        "Appending 1 entries for state passive\n",
        "{'active': -0.79527, 'passive': -0.43837, 'moving': -1.61674}\n"
       ]
      },
      {
       "metadata": {},
       "output_type": "pyout",
       "prompt_number": 119,
       "text": [
        "{'active': -0.79527, 'moving': -1.61674, 'passive': -0.43837}"
       ]
      }
     ],
     "prompt_number": 119
    },
    {
     "cell_type": "code",
     "collapsed": false,
     "input": [
      "# geofence\n",
      "get_combined_mean([hafs_mean_df_map['android.3'], mafs_mean_df_map['android.3']])"
     ],
     "language": "python",
     "metadata": {},
     "outputs": [
      {
       "output_type": "stream",
       "stream": "stdout",
       "text": [
        "Appending 20 entries for state active\n",
        "Appending 17 entries for state active\n",
        "Appending 6 entries for state moving\n",
        "Appending 7 entries for state moving\n",
        "Appending 1 entries for state passive\n",
        "Appending 1 entries for state passive\n",
        "{'active': -0.77985, 'passive': -0.51026, 'moving': -2.14712}\n"
       ]
      },
      {
       "metadata": {},
       "output_type": "pyout",
       "prompt_number": 120,
       "text": [
        "{'active': -0.77985, 'moving': -2.14712, 'passive': -0.51026}"
       ]
      }
     ],
     "prompt_number": 120
    },
    {
     "cell_type": "heading",
     "level": 2,
     "metadata": {},
     "source": [
      "iOS"
     ]
    },
    {
     "cell_type": "code",
     "collapsed": false,
     "input": [
      "# nd\n",
      "get_combined_mean([hafs_mean_df_map['ios.1'], mafs_mean_df_map['ios.1']])"
     ],
     "language": "python",
     "metadata": {},
     "outputs": [
      {
       "output_type": "stream",
       "stream": "stdout",
       "text": [
        "Appending 20 entries for state active\n",
        "Appending 17 entries for state active\n",
        "Appending 6 entries for state moving\n",
        "Appending 7 entries for state moving\n",
        "Appending 1 entries for state passive\n",
        "Appending 1 entries for state passive\n",
        "{'active': -0.32599, 'passive': -0.23437, 'moving': -0.75556}\n"
       ]
      },
      {
       "metadata": {},
       "output_type": "pyout",
       "prompt_number": 121,
       "text": [
        "{'active': -0.32599, 'moving': -0.75556, 'passive': -0.23437}"
       ]
      }
     ],
     "prompt_number": 121
    },
    {
     "cell_type": "code",
     "collapsed": false,
     "input": [
      "# nohafs\n",
      "get_combined_mean([hafs_mean_df_map['ios.2'], accuracy_mean_df_map['ios.1']])"
     ],
     "language": "python",
     "metadata": {},
     "outputs": [
      {
       "output_type": "stream",
       "stream": "stdout",
       "text": [
        "Appending 19 entries for state active\n",
        "Appending 13 entries for state active\n",
        "Appending 6 entries for state moving\n",
        "Appending 9 entries for state moving\n",
        "Appending 1 entries for state passive\n",
        "Appending 1 entries for state passive\n",
        "{'active': -4.25766, 'passive': -3.35843, 'moving': -5.79065}\n"
       ]
      },
      {
       "metadata": {},
       "output_type": "pyout",
       "prompt_number": 122,
       "text": [
        "{'active': -4.25766, 'moving': -5.79065, 'passive': -3.35843}"
       ]
      }
     ],
     "prompt_number": 122
    },
    {
     "cell_type": "code",
     "collapsed": false,
     "input": [
      "# nohafs + geofenced hafs moving\n",
      "get_combined_mean([hafs_mean_df_map['ios.2'], accuracy_mean_df_map['ios.1'], hafs_mean_df_map['ios.3']])"
     ],
     "language": "python",
     "metadata": {},
     "outputs": [
      {
       "output_type": "stream",
       "stream": "stdout",
       "text": [
        "Appending 19 entries for state active\n",
        "Appending 13 entries for state active\n",
        "Appending 20 entries for state active\n",
        "Appending 6 entries for state moving\n",
        "Appending 9 entries for state moving\n",
        "Appending 6 entries for state moving\n",
        "Appending 1 entries for state passive\n",
        "Appending 1 entries for state passive\n",
        "Appending 1 entries for state passive\n",
        "{'active': -3.06193, 'passive': -2.46154, 'moving': -5.08588}\n"
       ]
      },
      {
       "metadata": {},
       "output_type": "pyout",
       "prompt_number": 123,
       "text": [
        "{'active': -3.06193, 'moving': -5.08588, 'passive': -2.46154}"
       ]
      }
     ],
     "prompt_number": 123
    },
    {
     "cell_type": "code",
     "collapsed": false,
     "input": [
      "# nomafs\n",
      "get_combined_mean([mafs_mean_df_map['ios.2'], accuracy_mean_df_map['ios.2']])"
     ],
     "language": "python",
     "metadata": {},
     "outputs": [
      {
       "output_type": "stream",
       "stream": "stdout",
       "text": [
        "Appending 17 entries for state active\n",
        "Appending 13 entries for state active\n",
        "Appending 7 entries for state moving\n",
        "Appending 9 entries for state moving\n",
        "Appending 1 entries for state passive\n",
        "Appending 1 entries for state passive\n",
        "{'active': -2.47322, 'passive': -1.55772, 'moving': -2.48419}\n"
       ]
      },
      {
       "metadata": {},
       "output_type": "pyout",
       "prompt_number": 125,
       "text": [
        "{'active': -2.47322, 'moving': -2.48419, 'passive': -1.55772}"
       ]
      }
     ],
     "prompt_number": 125
    },
    {
     "cell_type": "code",
     "collapsed": false,
     "input": [
      "# nomafs + geofenced mafs moving\n",
      "get_combined_mean([mafs_mean_df_map['ios.2'], accuracy_mean_df_map['ios.2'], mafs_mean_df_map['ios.3']])"
     ],
     "language": "python",
     "metadata": {},
     "outputs": [
      {
       "output_type": "stream",
       "stream": "stdout",
       "text": [
        "Appending 17 entries for state active\n",
        "Appending 13 entries for state active\n",
        "Appending 17 entries for state active\n",
        "Appending 7 entries for state moving\n",
        "Appending 9 entries for state moving\n",
        "Appending 7 entries for state moving\n",
        "Appending 1 entries for state passive\n",
        "Appending 1 entries for state passive\n",
        "Appending 1 entries for state passive\n",
        "{'active': -1.99781, 'passive': -1.09933, 'moving': -1.98132}\n"
       ]
      },
      {
       "metadata": {},
       "output_type": "pyout",
       "prompt_number": 126,
       "text": [
        "{'active': -1.99781, 'moving': -1.98132, 'passive': -1.09933}"
       ]
      }
     ],
     "prompt_number": 126
    },
    {
     "cell_type": "code",
     "collapsed": false,
     "input": [
      "# nomass\n",
      "get_combined_mean([accuracy_mean_df_map['ios.3']])"
     ],
     "language": "python",
     "metadata": {},
     "outputs": [
      {
       "output_type": "stream",
       "stream": "stdout",
       "text": [
        "Appending 13 entries for state active\n",
        "Appending 9 entries for state moving\n",
        "Appending 1 entries for state passive\n",
        "{'active': -3.29928, 'passive': -1.92884, 'moving': -2.34498}\n"
       ]
      },
      {
       "metadata": {},
       "output_type": "pyout",
       "prompt_number": 127,
       "text": [
        "{'active': -3.29928, 'moving': -2.34498, 'passive': -1.92884}"
       ]
      }
     ],
     "prompt_number": 127
    },
    {
     "cell_type": "code",
     "collapsed": false,
     "input": [
      "# geofence\n",
      "get_combined_mean([hafs_mean_df_map['android.3'], mafs_mean_df_map['android.3']])"
     ],
     "language": "python",
     "metadata": {},
     "outputs": [
      {
       "output_type": "stream",
       "stream": "stdout",
       "text": [
        "Appending 20 entries for state active\n",
        "Appending 17 entries for state active\n",
        "Appending 6 entries for state moving\n",
        "Appending 7 entries for state moving\n",
        "Appending 1 entries for state passive\n",
        "Appending 1 entries for state passive\n",
        "{'active': -0.77985, 'passive': -0.51026, 'moving': -2.14712}\n"
       ]
      },
      {
       "metadata": {},
       "output_type": "pyout",
       "prompt_number": 128,
       "text": [
        "{'active': -0.77985, 'moving': -2.14712, 'passive': -0.51026}"
       ]
      }
     ],
     "prompt_number": 128
    },
    {
     "cell_type": "code",
     "collapsed": false,
     "input": [],
     "language": "python",
     "metadata": {},
     "outputs": []
    }
   ],
   "metadata": {}
  }
 ]
}