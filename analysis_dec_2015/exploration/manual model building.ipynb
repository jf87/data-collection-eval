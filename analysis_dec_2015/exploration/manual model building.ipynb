{
 "metadata": {
  "name": "",
  "signature": "sha256:56cadeda87f99a00e4d7f9676bad702ac5b48c70f1b917afbd5b6fba16ae5514"
 },
 "nbformat": 3,
 "nbformat_minor": 0,
 "worksheets": [
  {
   "cells": [
    {
     "cell_type": "code",
     "collapsed": false,
     "input": [
      "import sys"
     ],
     "language": "python",
     "metadata": {},
     "outputs": [],
     "prompt_number": 1
    },
    {
     "cell_type": "code",
     "collapsed": false,
     "input": [
      "sys.path.insert(0, \"/Users/shankari/e-mission/data-collection-eval/src\")\n",
      "sys.path.insert(0, \"/Users/shankari/e-mission/e-mission-server/\")"
     ],
     "language": "python",
     "metadata": {},
     "outputs": [],
     "prompt_number": 48
    },
    {
     "cell_type": "code",
     "collapsed": false,
     "input": [
      "sys.path"
     ],
     "language": "python",
     "metadata": {},
     "outputs": [
      {
       "metadata": {},
       "output_type": "pyout",
       "prompt_number": 47,
       "text": [
        "['/Users/shankari/e-mission/e-mission-server/',\n",
        " '/Users/shankari/e-mission/data-collection-eval/',\n",
        " '/Users/shankari/e-mission/e-mission-server/',\n",
        " '/Users/shankari/e-mission/data-collection-eval/',\n",
        " '',\n",
        " '/Users/shankari/OSS/anaconda/lib/python2.7/site-packages/pygmaps-0.1.1-py2.7.egg',\n",
        " '/Users/shankari/bin/python',\n",
        " '/Users/shankari/e-mission/data-collection-eval/analysis_dec_2015/exploration',\n",
        " '/Users/shankari/OSS/anaconda/python.app/Contents/lib/python27.zip',\n",
        " '/Users/shankari/OSS/anaconda/python.app/Contents/lib/python2.7',\n",
        " '/Users/shankari/OSS/anaconda/python.app/Contents/lib/python2.7/plat-darwin',\n",
        " '/Users/shankari/OSS/anaconda/python.app/Contents/lib/python2.7/plat-mac',\n",
        " '/Users/shankari/OSS/anaconda/python.app/Contents/lib/python2.7/plat-mac/lib-scriptpackages',\n",
        " '/Users/shankari/OSS/anaconda/python.app/Contents/lib/python2.7/lib-tk',\n",
        " '/Users/shankari/OSS/anaconda/python.app/Contents/lib/python2.7/lib-old',\n",
        " '/Users/shankari/OSS/anaconda/python.app/Contents/lib/python2.7/lib-dynload',\n",
        " '/Users/shankari/OSS/anaconda/lib/python2.7/site-packages/runipy-0.1.0-py2.7.egg',\n",
        " '/Users/shankari/OSS/anaconda/lib/python2.7/site-packages',\n",
        " '/Users/shankari/OSS/anaconda/lib/python2.7/site-packages/PIL',\n",
        " '/Users/shankari/OSS/anaconda/lib/python2.7/site-packages/setuptools-18.4-py2.7.egg',\n",
        " '/Users/shankari/OSS/anaconda/lib/python2.7/site-packages/IPython/extensions']"
       ]
      }
     ],
     "prompt_number": 47
    },
    {
     "cell_type": "code",
     "collapsed": false,
     "input": [
      "import logging\n",
      "logging.getLogger().setLevel(logging.DEBUG)"
     ],
     "language": "python",
     "metadata": {},
     "outputs": [],
     "prompt_number": 4
    },
    {
     "cell_type": "code",
     "collapsed": false,
     "input": [
      "from uuid import UUID"
     ],
     "language": "python",
     "metadata": {},
     "outputs": [],
     "prompt_number": 5
    },
    {
     "cell_type": "code",
     "collapsed": false,
     "input": [
      "iphone_ids = [UUID(\"079e0f1a-c440-3d7c-b0e7-de160f748e35\"), UUID(\"c76a0487-7e5a-3b17-a449-47be666b36f6\"), UUID(\"c528bcd2-a88b-3e82-be62-ef4f2396967a\")]\n",
      "android_ids = [UUID(\"e471711e-bd14-3dbe-80b6-9c7d92ecc296\"), UUID(\"fd7b4c2e-2c8b-3bfa-94f0-d1e3ecbd5fb7\"), UUID(\"86842c35-da28-32ed-a90e-2da6663c5c73\")]"
     ],
     "language": "python",
     "metadata": {},
     "outputs": [],
     "prompt_number": 6
    },
    {
     "cell_type": "code",
     "collapsed": false,
     "input": [
      "import emission.core.get_database as edb"
     ],
     "language": "python",
     "metadata": {},
     "outputs": [],
     "prompt_number": 7
    },
    {
     "cell_type": "code",
     "collapsed": false,
     "input": [
      "import pandas as pd"
     ],
     "language": "python",
     "metadata": {},
     "outputs": [],
     "prompt_number": 8
    },
    {
     "cell_type": "code",
     "collapsed": false,
     "input": [
      "import matplotlib.pyplot as plt\n",
      "%matplotlib inline"
     ],
     "language": "python",
     "metadata": {},
     "outputs": [],
     "prompt_number": 9
    },
    {
     "cell_type": "code",
     "collapsed": false,
     "input": [
      "import datetime as pydt"
     ],
     "language": "python",
     "metadata": {},
     "outputs": [],
     "prompt_number": 10
    },
    {
     "cell_type": "code",
     "collapsed": false,
     "input": [
      "phone_labels = [\"ucb.sdb.ios.1\", \"ucb.sdb.ios.2\", \"ucb.sdb.ios.3\", \"ucb.sdb.android.1\", \"ucb.sdb.android.2\", \"ucb.sdb.android.3\"]"
     ],
     "language": "python",
     "metadata": {},
     "outputs": [],
     "prompt_number": 11
    },
    {
     "cell_type": "code",
     "collapsed": false,
     "input": [
      "def get_display_name(label):\n",
      "    parts = label.split('.')\n",
      "    return parts[2] + '.' + parts[3]"
     ],
     "language": "python",
     "metadata": {},
     "outputs": [],
     "prompt_number": 12
    },
    {
     "cell_type": "code",
     "collapsed": false,
     "input": [
      "display_names = [get_display_name(label) for label in phone_labels]"
     ],
     "language": "python",
     "metadata": {},
     "outputs": [],
     "prompt_number": 13
    },
    {
     "cell_type": "code",
     "collapsed": false,
     "input": [
      "drain_df_map = {}"
     ],
     "language": "python",
     "metadata": {},
     "outputs": [],
     "prompt_number": 14
    },
    {
     "cell_type": "code",
     "collapsed": false,
     "input": [
      "regime_list = [\"nd\", \"nohafs\", \"nomafs\", \"nomass\", \"geofenced\"]"
     ],
     "language": "python",
     "metadata": {},
     "outputs": [],
     "prompt_number": 15
    },
    {
     "cell_type": "code",
     "collapsed": false,
     "input": [
      "import numpy as np"
     ],
     "language": "python",
     "metadata": {},
     "outputs": [],
     "prompt_number": 16
    },
    {
     "cell_type": "code",
     "collapsed": false,
     "input": [
      "# android nd\n",
      "print \"active\", round((((-0.460435 * 20) + (-0.599526 * 17)) / (20 + 17)), 5)\n",
      "print \"moving\", round(((-1.078991 * 6) + (0 * 7))/ (6 + 7), 5) # also has data from geofenced moving\n",
      "print \"passive\", round((-0.381587 + -0.365109)/2, 5)"
     ],
     "language": "python",
     "metadata": {},
     "outputs": [
      {
       "output_type": "stream",
       "stream": "stdout",
       "text": [
        "active -0.52434\n",
        "moving -0.498\n",
        "passive -0.37335\n"
       ]
      }
     ],
     "prompt_number": 219
    },
    {
     "cell_type": "code",
     "collapsed": false,
     "input": [
      "# android nohafs\n",
      "print \"active\", round((((-7.132685 * 13) + (-3.331376 * 10)) / (13 + 10)), 5)\n",
      "print \"moving\", round(((-8.822846 * 8) + (-4.187637 * 6) + (-2.290580 * 6))/ (8 + 6 + 6), 5) # also has data from geofenced moving\n",
      "print \"passive\", round((-5.511918 + -4.006661)/2, 5)"
     ],
     "language": "python",
     "metadata": {},
     "outputs": [
      {
       "output_type": "stream",
       "stream": "stdout",
       "text": [
        "active -5.47994\n",
        "moving -5.4726\n",
        "passive -4.75929\n"
       ]
      }
     ],
     "prompt_number": 220
    },
    {
     "cell_type": "code",
     "collapsed": false,
     "input": [
      "# android nomafs\n",
      "print \"active\", round((((-0.926580 * 12) + (-1.144390 * 17)) / (12 + 17)), 5)\n",
      "print \"moving\", round((((-3.076365 * 9) + (-1.947209 * 7) + (-2.024149 * 7)) / (9 + 7 + 7)), 5) # also has data from geofenced moving\n",
      "print \"passive\", round((((-0.438373) + (-0.365109)) / (2)), 5)"
     ],
     "language": "python",
     "metadata": {},
     "outputs": [
      {
       "output_type": "stream",
       "stream": "stdout",
       "text": [
        "active -1.05426\n",
        "moving -2.41247\n",
        "passive -0.40174\n"
       ]
      }
     ],
     "prompt_number": 225
    },
    {
     "cell_type": "code",
     "collapsed": false,
     "input": [
      "# android geofenced\n",
      "print \"active\", round((((-0.643476 * 20) + (-0.940284 * 17)) / (12 + 17)), 5)\n",
      "print \"passive\", round((((-0.381587) + (-0.638941)) / (2)), 5)"
     ],
     "language": "python",
     "metadata": {},
     "outputs": [
      {
       "output_type": "stream",
       "stream": "stdout",
       "text": [
        "active -0.99498\n",
        "passive -0.51026\n"
       ]
      }
     ],
     "prompt_number": 227
    },
    {
     "cell_type": "code",
     "collapsed": false,
     "input": [
      "pd.DataFrame"
     ],
     "language": "python",
     "metadata": {},
     "outputs": []
    },
    {
     "cell_type": "code",
     "collapsed": false,
     "input": [
      "android_model = pd.read_csv(\"../../results_dec_2015/model/android_model.csv\")"
     ],
     "language": "python",
     "metadata": {},
     "outputs": [],
     "prompt_number": 89
    },
    {
     "cell_type": "code",
     "collapsed": false,
     "input": [
      "atus_data_all = pd.read_csv(\"../../results_dec_2015/model/atusact_2014.dat\")"
     ],
     "language": "python",
     "metadata": {},
     "outputs": [],
     "prompt_number": 20
    },
    {
     "cell_type": "code",
     "collapsed": false,
     "input": [
      "atus_data_all.columns"
     ],
     "language": "python",
     "metadata": {},
     "outputs": [
      {
       "metadata": {},
       "output_type": "pyout",
       "prompt_number": 21,
       "text": [
        "Index([u'TUCASEID', u'TUACTIVITY_N', u'TEWHERE', u'TRTCCTOT_LN', u'TRTCC_LN',\n",
        "       u'TRTCOC_LN', u'TRTEC_LN', u'TRTHH_LN', u'TRTNOHH_LN', u'TRTOHH_LN',\n",
        "       u'TRTONHH_LN', u'TRTO_LN', u'TUACTDUR', u'TUACTDUR24', u'TUCC5',\n",
        "       u'TUCC5B', u'TUCC7', u'TUCC8', u'TUCUMDUR', u'TUCUMDUR24', u'TUEC24',\n",
        "       u'TUSTARTTIM', u'TUSTOPTIME', u'TUTIER1CODE', u'TUTIER2CODE',\n",
        "       u'TUTIER3CODE', u'TRCODE', u'TRTIER2', u'TXWHERE'],\n",
        "      dtype='object')"
       ]
      }
     ],
     "prompt_number": 21
    },
    {
     "cell_type": "code",
     "collapsed": false,
     "input": [
      "atus_data_all.TXWHERE.value_counts()"
     ],
     "language": "python",
     "metadata": {},
     "outputs": [
      {
       "metadata": {},
       "output_type": "pyout",
       "prompt_number": 22,
       "text": [
        "0     222252\n",
        "10       995\n",
        "12         1\n",
        "2          1\n",
        "Name: TXWHERE, dtype: int64"
       ]
      }
     ],
     "prompt_number": 22
    },
    {
     "cell_type": "heading",
     "level": 2,
     "metadata": {},
     "source": [
      "Do we need to consider TXWHERE? "
     ]
    },
    {
     "cell_type": "code",
     "collapsed": false,
     "input": [
      "atus_data_all[atus_data_all.TXWHERE == 10].head()"
     ],
     "language": "python",
     "metadata": {},
     "outputs": [
      {
       "html": [
        "<div style=\"max-width:1500px;overflow:auto;\">\n",
        "<table border=\"1\" class=\"dataframe\">\n",
        "  <thead>\n",
        "    <tr style=\"text-align: right;\">\n",
        "      <th></th>\n",
        "      <th>TUCASEID</th>\n",
        "      <th>TUACTIVITY_N</th>\n",
        "      <th>TEWHERE</th>\n",
        "      <th>TRTCCTOT_LN</th>\n",
        "      <th>TRTCC_LN</th>\n",
        "      <th>TRTCOC_LN</th>\n",
        "      <th>TRTEC_LN</th>\n",
        "      <th>TRTHH_LN</th>\n",
        "      <th>TRTNOHH_LN</th>\n",
        "      <th>TRTOHH_LN</th>\n",
        "      <th>...</th>\n",
        "      <th>TUCUMDUR24</th>\n",
        "      <th>TUEC24</th>\n",
        "      <th>TUSTARTTIM</th>\n",
        "      <th>TUSTOPTIME</th>\n",
        "      <th>TUTIER1CODE</th>\n",
        "      <th>TUTIER2CODE</th>\n",
        "      <th>TUTIER3CODE</th>\n",
        "      <th>TRCODE</th>\n",
        "      <th>TRTIER2</th>\n",
        "      <th>TXWHERE</th>\n",
        "    </tr>\n",
        "  </thead>\n",
        "  <tbody>\n",
        "    <tr>\n",
        "      <th>437</th>\n",
        "      <td>20140101140885</td>\n",
        "      <td>11</td>\n",
        "      <td>89</td>\n",
        "      <td>0</td>\n",
        "      <td>-1</td>\n",
        "      <td>0</td>\n",
        "      <td>10</td>\n",
        "      <td>-1</td>\n",
        "      <td>-1</td>\n",
        "      <td>-1</td>\n",
        "      <td>...</td>\n",
        "      <td>430</td>\n",
        "      <td>1</td>\n",
        "      <td>11:00:00</td>\n",
        "      <td>11:10:00</td>\n",
        "      <td>4</td>\n",
        "      <td>5</td>\n",
        "      <td>7</td>\n",
        "      <td>40507</td>\n",
        "      <td>405</td>\n",
        "      <td>10</td>\n",
        "    </tr>\n",
        "    <tr>\n",
        "      <th>577</th>\n",
        "      <td>20140101140995</td>\n",
        "      <td>5</td>\n",
        "      <td>89</td>\n",
        "      <td>0</td>\n",
        "      <td>-1</td>\n",
        "      <td>0</td>\n",
        "      <td>-1</td>\n",
        "      <td>-1</td>\n",
        "      <td>-1</td>\n",
        "      <td>-1</td>\n",
        "      <td>...</td>\n",
        "      <td>187</td>\n",
        "      <td>-1</td>\n",
        "      <td>07:05:00</td>\n",
        "      <td>07:07:00</td>\n",
        "      <td>4</td>\n",
        "      <td>5</td>\n",
        "      <td>7</td>\n",
        "      <td>40507</td>\n",
        "      <td>405</td>\n",
        "      <td>10</td>\n",
        "    </tr>\n",
        "    <tr>\n",
        "      <th>579</th>\n",
        "      <td>20140101140995</td>\n",
        "      <td>7</td>\n",
        "      <td>4</td>\n",
        "      <td>0</td>\n",
        "      <td>-1</td>\n",
        "      <td>0</td>\n",
        "      <td>-1</td>\n",
        "      <td>-1</td>\n",
        "      <td>-1</td>\n",
        "      <td>-1</td>\n",
        "      <td>...</td>\n",
        "      <td>207</td>\n",
        "      <td>-1</td>\n",
        "      <td>07:22:00</td>\n",
        "      <td>07:27:00</td>\n",
        "      <td>7</td>\n",
        "      <td>1</td>\n",
        "      <td>3</td>\n",
        "      <td>70103</td>\n",
        "      <td>701</td>\n",
        "      <td>10</td>\n",
        "    </tr>\n",
        "    <tr>\n",
        "      <th>586</th>\n",
        "      <td>20140101140995</td>\n",
        "      <td>14</td>\n",
        "      <td>89</td>\n",
        "      <td>0</td>\n",
        "      <td>-1</td>\n",
        "      <td>0</td>\n",
        "      <td>-1</td>\n",
        "      <td>-1</td>\n",
        "      <td>-1</td>\n",
        "      <td>-1</td>\n",
        "      <td>...</td>\n",
        "      <td>407</td>\n",
        "      <td>-1</td>\n",
        "      <td>10:42:00</td>\n",
        "      <td>10:47:00</td>\n",
        "      <td>4</td>\n",
        "      <td>5</td>\n",
        "      <td>7</td>\n",
        "      <td>40507</td>\n",
        "      <td>405</td>\n",
        "      <td>10</td>\n",
        "    </tr>\n",
        "    <tr>\n",
        "      <th>591</th>\n",
        "      <td>20140101140995</td>\n",
        "      <td>19</td>\n",
        "      <td>89</td>\n",
        "      <td>0</td>\n",
        "      <td>-1</td>\n",
        "      <td>0</td>\n",
        "      <td>-1</td>\n",
        "      <td>-1</td>\n",
        "      <td>-1</td>\n",
        "      <td>-1</td>\n",
        "      <td>...</td>\n",
        "      <td>589</td>\n",
        "      <td>-1</td>\n",
        "      <td>13:47:00</td>\n",
        "      <td>13:49:00</td>\n",
        "      <td>4</td>\n",
        "      <td>5</td>\n",
        "      <td>7</td>\n",
        "      <td>40507</td>\n",
        "      <td>405</td>\n",
        "      <td>10</td>\n",
        "    </tr>\n",
        "  </tbody>\n",
        "</table>\n",
        "<p>5 rows \u00d7 29 columns</p>\n",
        "</div>"
       ],
       "metadata": {},
       "output_type": "pyout",
       "prompt_number": 23,
       "text": [
        "           TUCASEID  TUACTIVITY_N  TEWHERE  TRTCCTOT_LN  TRTCC_LN  TRTCOC_LN  \\\n",
        "437  20140101140885            11       89            0        -1          0   \n",
        "577  20140101140995             5       89            0        -1          0   \n",
        "579  20140101140995             7        4            0        -1          0   \n",
        "586  20140101140995            14       89            0        -1          0   \n",
        "591  20140101140995            19       89            0        -1          0   \n",
        "\n",
        "     TRTEC_LN  TRTHH_LN  TRTNOHH_LN  TRTOHH_LN   ...     TUCUMDUR24  TUEC24  \\\n",
        "437        10        -1          -1         -1   ...            430       1   \n",
        "577        -1        -1          -1         -1   ...            187      -1   \n",
        "579        -1        -1          -1         -1   ...            207      -1   \n",
        "586        -1        -1          -1         -1   ...            407      -1   \n",
        "591        -1        -1          -1         -1   ...            589      -1   \n",
        "\n",
        "     TUSTARTTIM  TUSTOPTIME  TUTIER1CODE  TUTIER2CODE  TUTIER3CODE  TRCODE  \\\n",
        "437    11:00:00    11:10:00            4            5            7   40507   \n",
        "577    07:05:00    07:07:00            4            5            7   40507   \n",
        "579    07:22:00    07:27:00            7            1            3   70103   \n",
        "586    10:42:00    10:47:00            4            5            7   40507   \n",
        "591    13:47:00    13:49:00            4            5            7   40507   \n",
        "\n",
        "     TRTIER2  TXWHERE  \n",
        "437      405       10  \n",
        "577      405       10  \n",
        "579      701       10  \n",
        "586      405       10  \n",
        "591      405       10  \n",
        "\n",
        "[5 rows x 29 columns]"
       ]
      }
     ],
     "prompt_number": 23
    },
    {
     "cell_type": "code",
     "collapsed": false,
     "input": [
      "atus_data_all[(atus_data_all.TUCASEID == 20140101140885) & (atus_data_all.TUACTIVITY_N == 11)]"
     ],
     "language": "python",
     "metadata": {},
     "outputs": [
      {
       "html": [
        "<div style=\"max-width:1500px;overflow:auto;\">\n",
        "<table border=\"1\" class=\"dataframe\">\n",
        "  <thead>\n",
        "    <tr style=\"text-align: right;\">\n",
        "      <th></th>\n",
        "      <th>TUCASEID</th>\n",
        "      <th>TUACTIVITY_N</th>\n",
        "      <th>TEWHERE</th>\n",
        "      <th>TRTCCTOT_LN</th>\n",
        "      <th>TRTCC_LN</th>\n",
        "      <th>TRTCOC_LN</th>\n",
        "      <th>TRTEC_LN</th>\n",
        "      <th>TRTHH_LN</th>\n",
        "      <th>TRTNOHH_LN</th>\n",
        "      <th>TRTOHH_LN</th>\n",
        "      <th>...</th>\n",
        "      <th>TUCUMDUR24</th>\n",
        "      <th>TUEC24</th>\n",
        "      <th>TUSTARTTIM</th>\n",
        "      <th>TUSTOPTIME</th>\n",
        "      <th>TUTIER1CODE</th>\n",
        "      <th>TUTIER2CODE</th>\n",
        "      <th>TUTIER3CODE</th>\n",
        "      <th>TRCODE</th>\n",
        "      <th>TRTIER2</th>\n",
        "      <th>TXWHERE</th>\n",
        "    </tr>\n",
        "  </thead>\n",
        "  <tbody>\n",
        "    <tr>\n",
        "      <th>437</th>\n",
        "      <td>20140101140885</td>\n",
        "      <td>11</td>\n",
        "      <td>89</td>\n",
        "      <td>0</td>\n",
        "      <td>-1</td>\n",
        "      <td>0</td>\n",
        "      <td>10</td>\n",
        "      <td>-1</td>\n",
        "      <td>-1</td>\n",
        "      <td>-1</td>\n",
        "      <td>...</td>\n",
        "      <td>430</td>\n",
        "      <td>1</td>\n",
        "      <td>11:00:00</td>\n",
        "      <td>11:10:00</td>\n",
        "      <td>4</td>\n",
        "      <td>5</td>\n",
        "      <td>7</td>\n",
        "      <td>40507</td>\n",
        "      <td>405</td>\n",
        "      <td>10</td>\n",
        "    </tr>\n",
        "  </tbody>\n",
        "</table>\n",
        "<p>1 rows \u00d7 29 columns</p>\n",
        "</div>"
       ],
       "metadata": {},
       "output_type": "pyout",
       "prompt_number": 24,
       "text": [
        "           TUCASEID  TUACTIVITY_N  TEWHERE  TRTCCTOT_LN  TRTCC_LN  TRTCOC_LN  \\\n",
        "437  20140101140885            11       89            0        -1          0   \n",
        "\n",
        "     TRTEC_LN  TRTHH_LN  TRTNOHH_LN  TRTOHH_LN   ...     TUCUMDUR24  TUEC24  \\\n",
        "437        10        -1          -1         -1   ...            430       1   \n",
        "\n",
        "     TUSTARTTIM  TUSTOPTIME  TUTIER1CODE  TUTIER2CODE  TUTIER3CODE  TRCODE  \\\n",
        "437    11:00:00    11:10:00            4            5            7   40507   \n",
        "\n",
        "     TRTIER2  TXWHERE  \n",
        "437      405       10  \n",
        "\n",
        "[1 rows x 29 columns]"
       ]
      }
     ],
     "prompt_number": 24
    },
    {
     "cell_type": "markdown",
     "metadata": {},
     "source": [
      "I say no. There is only one entry for that case id and that activity anyway. So the 10 probably represent that the value was changed from some prior value, but it doesn't report the prior value, so we don't need to deal with it."
     ]
    },
    {
     "cell_type": "markdown",
     "metadata": {},
     "source": [
      "What are the locations that are represented?"
     ]
    },
    {
     "cell_type": "code",
     "collapsed": false,
     "input": [
      "atus_data_all.TEWHERE.value_counts()"
     ],
     "language": "python",
     "metadata": {},
     "outputs": [
      {
       "metadata": {},
       "output_type": "pyout",
       "prompt_number": 25,
       "text": [
        " 1     95763\n",
        "-1     41997\n",
        " 12    30192\n",
        " 2     10732\n",
        " 3      7558\n",
        " 13     6933\n",
        " 11     6516\n",
        " 4      4425\n",
        " 7      4158\n",
        " 9      2903\n",
        " 14     2739\n",
        " 8      2201\n",
        " 6      2044\n",
        " 5      1891\n",
        " 31      690\n",
        " 89      684\n",
        " 15      541\n",
        " 16      251\n",
        " 30      218\n",
        " 17      211\n",
        " 32      169\n",
        " 10      165\n",
        " 21       82\n",
        " 19       81\n",
        " 20       80\n",
        " 18       24\n",
        "-2         1\n",
        "Name: TEWHERE, dtype: int64"
       ]
      }
     ],
     "prompt_number": 25
    },
    {
     "cell_type": "markdown",
     "metadata": {},
     "source": [
      "Lots of -1s, what do they represent?"
     ]
    },
    {
     "cell_type": "code",
     "collapsed": false,
     "input": [
      "atus_data_all[(atus_data_all.TEWHERE == -1) & (atus_data_all.TUTIER1CODE != 1)].TUTIER1CODE.value_counts()"
     ],
     "language": "python",
     "metadata": {},
     "outputs": [
      {
       "metadata": {},
       "output_type": "pyout",
       "prompt_number": 26,
       "text": [
        "50    858\n",
        "Name: TUTIER1CODE, dtype: int64"
       ]
      }
     ],
     "prompt_number": 26
    },
    {
     "cell_type": "markdown",
     "metadata": {},
     "source": [
      "All are either 1 (personal care) or 50 (unable to code), which is pretty good"
     ]
    },
    {
     "cell_type": "markdown",
     "metadata": {},
     "source": [
      "Let's also quickly check our exceptions on the codes and see if they are covered by the TEWHERE. So it looks like at least for the first exception, the TEWHERE is the place that they are being transported to, not the mode. 8 is school, 3 is somebody else's house, and 11 is \"other place\""
     ]
    },
    {
     "cell_type": "code",
     "collapsed": false,
     "input": [
      "atus_data_all[(atus_data_all.TUTIER1CODE == 3) & (atus_data_all.TUTIER2CODE == 1) & (atus_data_all.TUTIER3CODE == 12)].TEWHERE.value_counts()"
     ],
     "language": "python",
     "metadata": {},
     "outputs": [
      {
       "metadata": {},
       "output_type": "pyout",
       "prompt_number": 27,
       "text": [
        "8     754\n",
        "3     283\n",
        "11    257\n",
        "89    220\n",
        "1      71\n",
        "9      35\n",
        "5      29\n",
        "31     17\n",
        "2       8\n",
        "4       7\n",
        "7       6\n",
        "10      3\n",
        "14      1\n",
        "Name: TEWHERE, dtype: int64"
       ]
      }
     ],
     "prompt_number": 27
    },
    {
     "cell_type": "markdown",
     "metadata": {},
     "source": [
      "Is there a trip right before or after these that we can use instead?"
     ]
    },
    {
     "cell_type": "code",
     "collapsed": false,
     "input": [
      "atus_data_all[(atus_data_all.TUTIER1CODE == 3) & (atus_data_all.TUTIER2CODE == 1) & (atus_data_all.TUTIER3CODE == 12)].head()"
     ],
     "language": "python",
     "metadata": {},
     "outputs": [
      {
       "html": [
        "<div style=\"max-width:1500px;overflow:auto;\">\n",
        "<table border=\"1\" class=\"dataframe\">\n",
        "  <thead>\n",
        "    <tr style=\"text-align: right;\">\n",
        "      <th></th>\n",
        "      <th>TUCASEID</th>\n",
        "      <th>TUACTIVITY_N</th>\n",
        "      <th>TEWHERE</th>\n",
        "      <th>TRTCCTOT_LN</th>\n",
        "      <th>TRTCC_LN</th>\n",
        "      <th>TRTCOC_LN</th>\n",
        "      <th>TRTEC_LN</th>\n",
        "      <th>TRTHH_LN</th>\n",
        "      <th>TRTNOHH_LN</th>\n",
        "      <th>TRTOHH_LN</th>\n",
        "      <th>...</th>\n",
        "      <th>TUCUMDUR24</th>\n",
        "      <th>TUEC24</th>\n",
        "      <th>TUSTARTTIM</th>\n",
        "      <th>TUSTOPTIME</th>\n",
        "      <th>TUTIER1CODE</th>\n",
        "      <th>TUTIER2CODE</th>\n",
        "      <th>TUTIER3CODE</th>\n",
        "      <th>TRCODE</th>\n",
        "      <th>TRTIER2</th>\n",
        "      <th>TXWHERE</th>\n",
        "    </tr>\n",
        "  </thead>\n",
        "  <tbody>\n",
        "    <tr>\n",
        "      <th>199</th>\n",
        "      <td>20140101140702</td>\n",
        "      <td>6</td>\n",
        "      <td>8</td>\n",
        "      <td>0</td>\n",
        "      <td>0</td>\n",
        "      <td>0</td>\n",
        "      <td>-1</td>\n",
        "      <td>0</td>\n",
        "      <td>-1</td>\n",
        "      <td>0</td>\n",
        "      <td>...</td>\n",
        "      <td>710</td>\n",
        "      <td>-1</td>\n",
        "      <td>15:35:00</td>\n",
        "      <td>15:50:00</td>\n",
        "      <td>3</td>\n",
        "      <td>1</td>\n",
        "      <td>12</td>\n",
        "      <td>30112</td>\n",
        "      <td>301</td>\n",
        "      <td>0</td>\n",
        "    </tr>\n",
        "    <tr>\n",
        "      <th>290</th>\n",
        "      <td>20140101140804</td>\n",
        "      <td>5</td>\n",
        "      <td>8</td>\n",
        "      <td>0</td>\n",
        "      <td>0</td>\n",
        "      <td>0</td>\n",
        "      <td>-1</td>\n",
        "      <td>0</td>\n",
        "      <td>-1</td>\n",
        "      <td>0</td>\n",
        "      <td>...</td>\n",
        "      <td>200</td>\n",
        "      <td>-1</td>\n",
        "      <td>07:15:00</td>\n",
        "      <td>07:20:00</td>\n",
        "      <td>3</td>\n",
        "      <td>1</td>\n",
        "      <td>12</td>\n",
        "      <td>30112</td>\n",
        "      <td>301</td>\n",
        "      <td>0</td>\n",
        "    </tr>\n",
        "    <tr>\n",
        "      <th>299</th>\n",
        "      <td>20140101140804</td>\n",
        "      <td>14</td>\n",
        "      <td>1</td>\n",
        "      <td>0</td>\n",
        "      <td>0</td>\n",
        "      <td>0</td>\n",
        "      <td>-1</td>\n",
        "      <td>0</td>\n",
        "      <td>-1</td>\n",
        "      <td>0</td>\n",
        "      <td>...</td>\n",
        "      <td>732</td>\n",
        "      <td>-1</td>\n",
        "      <td>16:07:00</td>\n",
        "      <td>16:12:00</td>\n",
        "      <td>3</td>\n",
        "      <td>1</td>\n",
        "      <td>12</td>\n",
        "      <td>30112</td>\n",
        "      <td>301</td>\n",
        "      <td>0</td>\n",
        "    </tr>\n",
        "    <tr>\n",
        "      <th>485</th>\n",
        "      <td>20140101140958</td>\n",
        "      <td>9</td>\n",
        "      <td>8</td>\n",
        "      <td>0</td>\n",
        "      <td>0</td>\n",
        "      <td>0</td>\n",
        "      <td>0</td>\n",
        "      <td>0</td>\n",
        "      <td>-1</td>\n",
        "      <td>0</td>\n",
        "      <td>...</td>\n",
        "      <td>230</td>\n",
        "      <td>-1</td>\n",
        "      <td>07:40:00</td>\n",
        "      <td>07:50:00</td>\n",
        "      <td>3</td>\n",
        "      <td>1</td>\n",
        "      <td>12</td>\n",
        "      <td>30112</td>\n",
        "      <td>301</td>\n",
        "      <td>0</td>\n",
        "    </tr>\n",
        "    <tr>\n",
        "      <th>497</th>\n",
        "      <td>20140101140958</td>\n",
        "      <td>21</td>\n",
        "      <td>8</td>\n",
        "      <td>0</td>\n",
        "      <td>0</td>\n",
        "      <td>0</td>\n",
        "      <td>0</td>\n",
        "      <td>0</td>\n",
        "      <td>-1</td>\n",
        "      <td>0</td>\n",
        "      <td>...</td>\n",
        "      <td>800</td>\n",
        "      <td>-1</td>\n",
        "      <td>17:10:00</td>\n",
        "      <td>17:20:00</td>\n",
        "      <td>3</td>\n",
        "      <td>1</td>\n",
        "      <td>12</td>\n",
        "      <td>30112</td>\n",
        "      <td>301</td>\n",
        "      <td>0</td>\n",
        "    </tr>\n",
        "  </tbody>\n",
        "</table>\n",
        "<p>5 rows \u00d7 29 columns</p>\n",
        "</div>"
       ],
       "metadata": {},
       "output_type": "pyout",
       "prompt_number": 28,
       "text": [
        "           TUCASEID  TUACTIVITY_N  TEWHERE  TRTCCTOT_LN  TRTCC_LN  TRTCOC_LN  \\\n",
        "199  20140101140702             6        8            0         0          0   \n",
        "290  20140101140804             5        8            0         0          0   \n",
        "299  20140101140804            14        1            0         0          0   \n",
        "485  20140101140958             9        8            0         0          0   \n",
        "497  20140101140958            21        8            0         0          0   \n",
        "\n",
        "     TRTEC_LN  TRTHH_LN  TRTNOHH_LN  TRTOHH_LN   ...     TUCUMDUR24  TUEC24  \\\n",
        "199        -1         0          -1          0   ...            710      -1   \n",
        "290        -1         0          -1          0   ...            200      -1   \n",
        "299        -1         0          -1          0   ...            732      -1   \n",
        "485         0         0          -1          0   ...            230      -1   \n",
        "497         0         0          -1          0   ...            800      -1   \n",
        "\n",
        "     TUSTARTTIM  TUSTOPTIME  TUTIER1CODE  TUTIER2CODE  TUTIER3CODE  TRCODE  \\\n",
        "199    15:35:00    15:50:00            3            1           12   30112   \n",
        "290    07:15:00    07:20:00            3            1           12   30112   \n",
        "299    16:07:00    16:12:00            3            1           12   30112   \n",
        "485    07:40:00    07:50:00            3            1           12   30112   \n",
        "497    17:10:00    17:20:00            3            1           12   30112   \n",
        "\n",
        "     TRTIER2  TXWHERE  \n",
        "199      301        0  \n",
        "290      301        0  \n",
        "299      301        0  \n",
        "485      301        0  \n",
        "497      301        0  \n",
        "\n",
        "[5 rows x 29 columns]"
       ]
      }
     ],
     "prompt_number": 28
    },
    {
     "cell_type": "code",
     "collapsed": false,
     "input": [
      "atus_data_all.loc[195:210][[\"TUCASEID\", \"TUTIER1CODE\", \"TUTIER2CODE\", \"TUTIER3CODE\", \"TEWHERE\", \"TUACTDUR\", \"TUSTARTTIM\", \"TUSTOPTIME\"]]"
     ],
     "language": "python",
     "metadata": {},
     "outputs": [
      {
       "html": [
        "<div style=\"max-width:1500px;overflow:auto;\">\n",
        "<table border=\"1\" class=\"dataframe\">\n",
        "  <thead>\n",
        "    <tr style=\"text-align: right;\">\n",
        "      <th></th>\n",
        "      <th>TUCASEID</th>\n",
        "      <th>TUTIER1CODE</th>\n",
        "      <th>TUTIER2CODE</th>\n",
        "      <th>TUTIER3CODE</th>\n",
        "      <th>TEWHERE</th>\n",
        "      <th>TUACTDUR</th>\n",
        "      <th>TUSTARTTIM</th>\n",
        "      <th>TUSTOPTIME</th>\n",
        "    </tr>\n",
        "  </thead>\n",
        "  <tbody>\n",
        "    <tr>\n",
        "      <th>195</th>\n",
        "      <td>20140101140702</td>\n",
        "      <td>3</td>\n",
        "      <td>1</td>\n",
        "      <td>1</td>\n",
        "      <td>1</td>\n",
        "      <td>30</td>\n",
        "      <td>10:00:00</td>\n",
        "      <td>10:30:00</td>\n",
        "    </tr>\n",
        "    <tr>\n",
        "      <th>196</th>\n",
        "      <td>20140101140702</td>\n",
        "      <td>2</td>\n",
        "      <td>1</td>\n",
        "      <td>1</td>\n",
        "      <td>1</td>\n",
        "      <td>180</td>\n",
        "      <td>10:30:00</td>\n",
        "      <td>13:30:00</td>\n",
        "    </tr>\n",
        "    <tr>\n",
        "      <th>197</th>\n",
        "      <td>20140101140702</td>\n",
        "      <td>2</td>\n",
        "      <td>1</td>\n",
        "      <td>2</td>\n",
        "      <td>1</td>\n",
        "      <td>120</td>\n",
        "      <td>13:30:00</td>\n",
        "      <td>15:30:00</td>\n",
        "    </tr>\n",
        "    <tr>\n",
        "      <th>198</th>\n",
        "      <td>20140101140702</td>\n",
        "      <td>18</td>\n",
        "      <td>3</td>\n",
        "      <td>1</td>\n",
        "      <td>1</td>\n",
        "      <td>5</td>\n",
        "      <td>15:30:00</td>\n",
        "      <td>15:35:00</td>\n",
        "    </tr>\n",
        "    <tr>\n",
        "      <th>199</th>\n",
        "      <td>20140101140702</td>\n",
        "      <td>3</td>\n",
        "      <td>1</td>\n",
        "      <td>12</td>\n",
        "      <td>8</td>\n",
        "      <td>15</td>\n",
        "      <td>15:35:00</td>\n",
        "      <td>15:50:00</td>\n",
        "    </tr>\n",
        "    <tr>\n",
        "      <th>200</th>\n",
        "      <td>20140101140702</td>\n",
        "      <td>18</td>\n",
        "      <td>7</td>\n",
        "      <td>3</td>\n",
        "      <td>9</td>\n",
        "      <td>15</td>\n",
        "      <td>15:50:00</td>\n",
        "      <td>16:05:00</td>\n",
        "    </tr>\n",
        "    <tr>\n",
        "      <th>201</th>\n",
        "      <td>20140101140702</td>\n",
        "      <td>7</td>\n",
        "      <td>1</td>\n",
        "      <td>3</td>\n",
        "      <td>9</td>\n",
        "      <td>30</td>\n",
        "      <td>16:05:00</td>\n",
        "      <td>16:35:00</td>\n",
        "    </tr>\n",
        "    <tr>\n",
        "      <th>202</th>\n",
        "      <td>20140101140702</td>\n",
        "      <td>18</td>\n",
        "      <td>12</td>\n",
        "      <td>1</td>\n",
        "      <td>12</td>\n",
        "      <td>5</td>\n",
        "      <td>16:35:00</td>\n",
        "      <td>16:40:00</td>\n",
        "    </tr>\n",
        "    <tr>\n",
        "      <th>203</th>\n",
        "      <td>20140101140702</td>\n",
        "      <td>12</td>\n",
        "      <td>1</td>\n",
        "      <td>1</td>\n",
        "      <td>1</td>\n",
        "      <td>80</td>\n",
        "      <td>16:40:00</td>\n",
        "      <td>18:00:00</td>\n",
        "    </tr>\n",
        "    <tr>\n",
        "      <th>204</th>\n",
        "      <td>20140101140702</td>\n",
        "      <td>18</td>\n",
        "      <td>12</td>\n",
        "      <td>1</td>\n",
        "      <td>12</td>\n",
        "      <td>5</td>\n",
        "      <td>18:00:00</td>\n",
        "      <td>18:05:00</td>\n",
        "    </tr>\n",
        "    <tr>\n",
        "      <th>205</th>\n",
        "      <td>20140101140702</td>\n",
        "      <td>3</td>\n",
        "      <td>1</td>\n",
        "      <td>1</td>\n",
        "      <td>1</td>\n",
        "      <td>55</td>\n",
        "      <td>18:05:00</td>\n",
        "      <td>19:00:00</td>\n",
        "    </tr>\n",
        "    <tr>\n",
        "      <th>206</th>\n",
        "      <td>20140101140702</td>\n",
        "      <td>2</td>\n",
        "      <td>2</td>\n",
        "      <td>3</td>\n",
        "      <td>1</td>\n",
        "      <td>5</td>\n",
        "      <td>19:00:00</td>\n",
        "      <td>19:05:00</td>\n",
        "    </tr>\n",
        "    <tr>\n",
        "      <th>207</th>\n",
        "      <td>20140101140702</td>\n",
        "      <td>3</td>\n",
        "      <td>1</td>\n",
        "      <td>1</td>\n",
        "      <td>1</td>\n",
        "      <td>20</td>\n",
        "      <td>19:05:00</td>\n",
        "      <td>19:25:00</td>\n",
        "    </tr>\n",
        "    <tr>\n",
        "      <th>208</th>\n",
        "      <td>20140101140702</td>\n",
        "      <td>12</td>\n",
        "      <td>3</td>\n",
        "      <td>3</td>\n",
        "      <td>1</td>\n",
        "      <td>185</td>\n",
        "      <td>19:25:00</td>\n",
        "      <td>22:30:00</td>\n",
        "    </tr>\n",
        "    <tr>\n",
        "      <th>209</th>\n",
        "      <td>20140101140702</td>\n",
        "      <td>1</td>\n",
        "      <td>1</td>\n",
        "      <td>1</td>\n",
        "      <td>-1</td>\n",
        "      <td>510</td>\n",
        "      <td>22:30:00</td>\n",
        "      <td>07:00:00</td>\n",
        "    </tr>\n",
        "    <tr>\n",
        "      <th>210</th>\n",
        "      <td>20140101140725</td>\n",
        "      <td>1</td>\n",
        "      <td>1</td>\n",
        "      <td>1</td>\n",
        "      <td>-1</td>\n",
        "      <td>105</td>\n",
        "      <td>04:00:00</td>\n",
        "      <td>05:45:00</td>\n",
        "    </tr>\n",
        "  </tbody>\n",
        "</table>\n",
        "</div>"
       ],
       "metadata": {},
       "output_type": "pyout",
       "prompt_number": 29,
       "text": [
        "           TUCASEID  TUTIER1CODE  TUTIER2CODE  TUTIER3CODE  TEWHERE  TUACTDUR  \\\n",
        "195  20140101140702            3            1            1        1        30   \n",
        "196  20140101140702            2            1            1        1       180   \n",
        "197  20140101140702            2            1            2        1       120   \n",
        "198  20140101140702           18            3            1        1         5   \n",
        "199  20140101140702            3            1           12        8        15   \n",
        "200  20140101140702           18            7            3        9        15   \n",
        "201  20140101140702            7            1            3        9        30   \n",
        "202  20140101140702           18           12            1       12         5   \n",
        "203  20140101140702           12            1            1        1        80   \n",
        "204  20140101140702           18           12            1       12         5   \n",
        "205  20140101140702            3            1            1        1        55   \n",
        "206  20140101140702            2            2            3        1         5   \n",
        "207  20140101140702            3            1            1        1        20   \n",
        "208  20140101140702           12            3            3        1       185   \n",
        "209  20140101140702            1            1            1       -1       510   \n",
        "210  20140101140725            1            1            1       -1       105   \n",
        "\n",
        "    TUSTARTTIM TUSTOPTIME  \n",
        "195   10:00:00   10:30:00  \n",
        "196   10:30:00   13:30:00  \n",
        "197   13:30:00   15:30:00  \n",
        "198   15:30:00   15:35:00  \n",
        "199   15:35:00   15:50:00  \n",
        "200   15:50:00   16:05:00  \n",
        "201   16:05:00   16:35:00  \n",
        "202   16:35:00   16:40:00  \n",
        "203   16:40:00   18:00:00  \n",
        "204   18:00:00   18:05:00  \n",
        "205   18:05:00   19:00:00  \n",
        "206   19:00:00   19:05:00  \n",
        "207   19:05:00   19:25:00  \n",
        "208   19:25:00   22:30:00  \n",
        "209   22:30:00   07:00:00  \n",
        "210   04:00:00   05:45:00  "
       ]
      }
     ],
     "prompt_number": 29
    },
    {
     "cell_type": "markdown",
     "metadata": {},
     "source": [
      "So the order here is:\n",
      "- travel while caring for household members (18 - 3 - 1), where = home\n",
      "- drop off at school (3 - 1 - 12), where = school\n",
      "- travel related to purchasing food (18 - 7 - 3), where = outdoors away from home\n",
      "- purchasing food (7 - 1 - 3), where = outdoors away from home\n",
      "- travel related to socialization (18 - 12 - 1), where = car\n",
      "...\n",
      "\n",
      "So it looks like:\n",
      "- travel corresponds pretty closely to what we want, and 3 - 1 - 12, etc correspond to the time schmoozing in the parking lot\n",
      "- we can't use the \"where\" related to travel because it is frequently a place"
     ]
    },
    {
     "cell_type": "heading",
     "level": 2,
     "metadata": {},
     "source": [
      "Exploration of duration"
     ]
    },
    {
     "cell_type": "code",
     "collapsed": false,
     "input": [
      "atus_data_all.TUACTDUR.hist()"
     ],
     "language": "python",
     "metadata": {},
     "outputs": [
      {
       "metadata": {},
       "output_type": "pyout",
       "prompt_number": 30,
       "text": [
        "<matplotlib.axes.AxesSubplot at 0x109dddf10>"
       ]
      },
      {
       "metadata": {},
       "output_type": "display_data",
       "png": "[encoded data removed]",
       "text": [
        "<matplotlib.figure.Figure at 0x10e2bc7d0>"
       ]
      }
     ],
     "prompt_number": 30
    },
    {
     "cell_type": "code",
     "collapsed": false,
     "input": [
      "atus_data_all[(atus_data_all.TUACTDUR > 100) & (atus_data_all.TUTIER1CODE != 1)][[\"TUCASEID\", \"TUTIER1CODE\", \"TUTIER2CODE\", \"TUTIER3CODE\", \"TEWHERE\"]].head()"
     ],
     "language": "python",
     "metadata": {},
     "outputs": [
      {
       "html": [
        "<div style=\"max-width:1500px;overflow:auto;\">\n",
        "<table border=\"1\" class=\"dataframe\">\n",
        "  <thead>\n",
        "    <tr style=\"text-align: right;\">\n",
        "      <th></th>\n",
        "      <th>TUCASEID</th>\n",
        "      <th>TUTIER1CODE</th>\n",
        "      <th>TUTIER2CODE</th>\n",
        "      <th>TUTIER3CODE</th>\n",
        "      <th>TEWHERE</th>\n",
        "    </tr>\n",
        "  </thead>\n",
        "  <tbody>\n",
        "    <tr>\n",
        "      <th>13</th>\n",
        "      <td>20140101140011</td>\n",
        "      <td>5</td>\n",
        "      <td>1</td>\n",
        "      <td>1</td>\n",
        "      <td>2</td>\n",
        "    </tr>\n",
        "    <tr>\n",
        "      <th>15</th>\n",
        "      <td>20140101140011</td>\n",
        "      <td>5</td>\n",
        "      <td>1</td>\n",
        "      <td>1</td>\n",
        "      <td>2</td>\n",
        "    </tr>\n",
        "    <tr>\n",
        "      <th>32</th>\n",
        "      <td>20140101140028</td>\n",
        "      <td>12</td>\n",
        "      <td>3</td>\n",
        "      <td>1</td>\n",
        "      <td>1</td>\n",
        "    </tr>\n",
        "    <tr>\n",
        "      <th>33</th>\n",
        "      <td>20140101140028</td>\n",
        "      <td>2</td>\n",
        "      <td>2</td>\n",
        "      <td>1</td>\n",
        "      <td>1</td>\n",
        "    </tr>\n",
        "    <tr>\n",
        "      <th>34</th>\n",
        "      <td>20140101140028</td>\n",
        "      <td>3</td>\n",
        "      <td>1</td>\n",
        "      <td>9</td>\n",
        "      <td>1</td>\n",
        "    </tr>\n",
        "  </tbody>\n",
        "</table>\n",
        "</div>"
       ],
       "metadata": {},
       "output_type": "pyout",
       "prompt_number": 31,
       "text": [
        "          TUCASEID  TUTIER1CODE  TUTIER2CODE  TUTIER3CODE  TEWHERE\n",
        "13  20140101140011            5            1            1        2\n",
        "15  20140101140011            5            1            1        2\n",
        "32  20140101140028           12            3            1        1\n",
        "33  20140101140028            2            2            1        1\n",
        "34  20140101140028            3            1            9        1"
       ]
      }
     ],
     "prompt_number": 31
    },
    {
     "cell_type": "code",
     "collapsed": false,
     "input": [
      "atus_data_all[(atus_data_all.TUACTDUR > 100) & (atus_data_all.TUTIER1CODE != 1)].TUTIER1CODE.value_counts()"
     ],
     "language": "python",
     "metadata": {},
     "outputs": [
      {
       "metadata": {},
       "output_type": "pyout",
       "prompt_number": 32,
       "text": [
        "12    13088\n",
        "5      7100\n",
        "2      3274\n",
        "6       672\n",
        "3       670\n",
        "13      658\n",
        "7       583\n",
        "11      565\n",
        "18      527\n",
        "14      475\n",
        "50      421\n",
        "15      398\n",
        "4       299\n",
        "8       146\n",
        "16      120\n",
        "10       23\n",
        "9        18\n",
        "Name: TUTIER1CODE, dtype: int64"
       ]
      }
     ],
     "prompt_number": 32
    },
    {
     "cell_type": "code",
     "collapsed": false,
     "input": [
      "atus_data_all[atus_data_all.TUTIER1CODE == 18].TUACTDUR.hist()"
     ],
     "language": "python",
     "metadata": {},
     "outputs": [
      {
       "metadata": {},
       "output_type": "pyout",
       "prompt_number": 33,
       "text": [
        "<matplotlib.axes.AxesSubplot at 0x10a4a78d0>"
       ]
      },
      {
       "metadata": {},
       "output_type": "display_data",
       "png": "[encoded data removed]",
       "text": [
        "<matplotlib.figure.Figure at 0x10e2bc5d0>"
       ]
      }
     ],
     "prompt_number": 33
    },
    {
     "cell_type": "code",
     "collapsed": false,
     "input": [
      "atus_data_all[(atus_data_all.TUTIER1CODE == 18) & (atus_data_all.TUACTDUR > 100)].TUTIER2CODE.value_counts()"
     ],
     "language": "python",
     "metadata": {},
     "outputs": [
      {
       "metadata": {},
       "output_type": "pyout",
       "prompt_number": 34,
       "text": [
        "12    119\n",
        "7      99\n",
        "11     63\n",
        "5      58\n",
        "99     34\n",
        "13     34\n",
        "1      27\n",
        "2      25\n",
        "8      19\n",
        "4      14\n",
        "3      10\n",
        "15      9\n",
        "16      4\n",
        "14      4\n",
        "6       4\n",
        "10      2\n",
        "9       2\n",
        "Name: TUTIER2CODE, dtype: int64"
       ]
      }
     ],
     "prompt_number": 34
    },
    {
     "cell_type": "code",
     "collapsed": false,
     "input": [
      "atus_data_all[(atus_data_all.TUTIER1CODE == 18) & (atus_data_all.TUACTDUR > 500)].TUTIER2CODE.value_counts()"
     ],
     "language": "python",
     "metadata": {},
     "outputs": [
      {
       "metadata": {},
       "output_type": "pyout",
       "prompt_number": 35,
       "text": [
        "99    6\n",
        "14    1\n",
        "12    1\n",
        "7     1\n",
        "5     1\n",
        "Name: TUTIER2CODE, dtype: int64"
       ]
      }
     ],
     "prompt_number": 35
    },
    {
     "cell_type": "code",
     "collapsed": false,
     "input": [
      "atus_data_all[(atus_data_all.TUTIER1CODE == 18) & (atus_data_all.TUACTDUR > 100)].TEWHERE.value_counts()"
     ],
     "language": "python",
     "metadata": {},
     "outputs": [
      {
       "metadata": {},
       "output_type": "pyout",
       "prompt_number": 36,
       "text": [
        "12    269\n",
        "13    144\n",
        "20     40\n",
        "11     21\n",
        "9      15\n",
        "15     14\n",
        "16      8\n",
        "1       6\n",
        "14      4\n",
        "8       2\n",
        "19      1\n",
        "18      1\n",
        "4       1\n",
        "3       1\n",
        "Name: TEWHERE, dtype: int64"
       ]
      }
     ],
     "prompt_number": 36
    },
    {
     "cell_type": "heading",
     "level": 2,
     "metadata": {},
     "source": [
      "Modelling"
     ]
    },
    {
     "cell_type": "heading",
     "level": 3,
     "metadata": {},
     "source": [
      "Pull out only the fields that we need now"
     ]
    },
    {
     "cell_type": "code",
     "collapsed": false,
     "input": [
      "atus_data_df = atus_data_all[[\"TUCASEID\", \"TUTIER1CODE\", \"TUTIER2CODE\", \"TUTIER3CODE\", \"TEWHERE\", \"TUACTDUR\", \"TUSTARTTIM\", \"TUSTOPTIME\"]]"
     ],
     "language": "python",
     "metadata": {},
     "outputs": [],
     "prompt_number": 61
    },
    {
     "cell_type": "code",
     "collapsed": false,
     "input": [
      "atus_data_df.head()"
     ],
     "language": "python",
     "metadata": {},
     "outputs": [
      {
       "html": [
        "<div style=\"max-width:1500px;overflow:auto;\">\n",
        "<table border=\"1\" class=\"dataframe\">\n",
        "  <thead>\n",
        "    <tr style=\"text-align: right;\">\n",
        "      <th></th>\n",
        "      <th>TUCASEID</th>\n",
        "      <th>TUTIER1CODE</th>\n",
        "      <th>TUTIER2CODE</th>\n",
        "      <th>TUTIER3CODE</th>\n",
        "      <th>TEWHERE</th>\n",
        "      <th>TUACTDUR</th>\n",
        "      <th>TUSTARTTIM</th>\n",
        "      <th>TUSTOPTIME</th>\n",
        "    </tr>\n",
        "  </thead>\n",
        "  <tbody>\n",
        "    <tr>\n",
        "      <th>0</th>\n",
        "      <td>20140101140007</td>\n",
        "      <td>1</td>\n",
        "      <td>1</td>\n",
        "      <td>1</td>\n",
        "      <td>-1</td>\n",
        "      <td>540</td>\n",
        "      <td>04:00:00</td>\n",
        "      <td>13:00:00</td>\n",
        "    </tr>\n",
        "    <tr>\n",
        "      <th>1</th>\n",
        "      <td>20140101140007</td>\n",
        "      <td>3</td>\n",
        "      <td>1</td>\n",
        "      <td>1</td>\n",
        "      <td>1</td>\n",
        "      <td>30</td>\n",
        "      <td>13:00:00</td>\n",
        "      <td>13:30:00</td>\n",
        "    </tr>\n",
        "    <tr>\n",
        "      <th>2</th>\n",
        "      <td>20140101140007</td>\n",
        "      <td>1</td>\n",
        "      <td>2</td>\n",
        "      <td>1</td>\n",
        "      <td>-1</td>\n",
        "      <td>60</td>\n",
        "      <td>13:30:00</td>\n",
        "      <td>14:30:00</td>\n",
        "    </tr>\n",
        "    <tr>\n",
        "      <th>3</th>\n",
        "      <td>20140101140007</td>\n",
        "      <td>18</td>\n",
        "      <td>11</td>\n",
        "      <td>1</td>\n",
        "      <td>13</td>\n",
        "      <td>10</td>\n",
        "      <td>14:30:00</td>\n",
        "      <td>14:40:00</td>\n",
        "    </tr>\n",
        "    <tr>\n",
        "      <th>4</th>\n",
        "      <td>20140101140007</td>\n",
        "      <td>11</td>\n",
        "      <td>1</td>\n",
        "      <td>1</td>\n",
        "      <td>4</td>\n",
        "      <td>30</td>\n",
        "      <td>14:40:00</td>\n",
        "      <td>15:10:00</td>\n",
        "    </tr>\n",
        "  </tbody>\n",
        "</table>\n",
        "</div>"
       ],
       "metadata": {},
       "output_type": "pyout",
       "prompt_number": 62,
       "text": [
        "         TUCASEID  TUTIER1CODE  TUTIER2CODE  TUTIER3CODE  TEWHERE  TUACTDUR  \\\n",
        "0  20140101140007            1            1            1       -1       540   \n",
        "1  20140101140007            3            1            1        1        30   \n",
        "2  20140101140007            1            2            1       -1        60   \n",
        "3  20140101140007           18           11            1       13        10   \n",
        "4  20140101140007           11            1            1        4        30   \n",
        "\n",
        "  TUSTARTTIM TUSTOPTIME  \n",
        "0   04:00:00   13:00:00  \n",
        "1   13:00:00   13:30:00  \n",
        "2   13:30:00   14:30:00  \n",
        "3   14:30:00   14:40:00  \n",
        "4   14:40:00   15:10:00  "
       ]
      }
     ],
     "prompt_number": 62
    },
    {
     "cell_type": "heading",
     "level": 3,
     "metadata": {},
     "source": [
      "Find the list of users"
     ]
    },
    {
     "cell_type": "code",
     "collapsed": false,
     "input": [
      "user_list = atus_data_df.TUCASEID.unique()\n",
      "print user_list[0:10], len(user_list)"
     ],
     "language": "python",
     "metadata": {},
     "outputs": [
      {
       "output_type": "stream",
       "stream": "stdout",
       "text": [
        "[20140101140007 20140101140011 20140101140028 20140101140063 20140101140168\n",
        " 20140101140537 20140101140559 20140101140610 20140101140614 20140101140639] 11592\n"
       ]
      }
     ],
     "prompt_number": 63
    },
    {
     "cell_type": "heading",
     "level": 3,
     "metadata": {},
     "source": [
      "Quick check on how many activities per user"
     ]
    },
    {
     "cell_type": "code",
     "collapsed": false,
     "input": [
      "atus_data_df.groupby(\"TUCASEID\").count().head()"
     ],
     "language": "python",
     "metadata": {},
     "outputs": [
      {
       "html": [
        "<div style=\"max-width:1500px;overflow:auto;\">\n",
        "<table border=\"1\" class=\"dataframe\">\n",
        "  <thead>\n",
        "    <tr style=\"text-align: right;\">\n",
        "      <th></th>\n",
        "      <th>TUTIER1CODE</th>\n",
        "      <th>TUTIER2CODE</th>\n",
        "      <th>TUTIER3CODE</th>\n",
        "      <th>TEWHERE</th>\n",
        "      <th>TUACTDUR</th>\n",
        "      <th>TUSTARTTIM</th>\n",
        "      <th>TUSTOPTIME</th>\n",
        "    </tr>\n",
        "    <tr>\n",
        "      <th>TUCASEID</th>\n",
        "      <th></th>\n",
        "      <th></th>\n",
        "      <th></th>\n",
        "      <th></th>\n",
        "      <th></th>\n",
        "      <th></th>\n",
        "      <th></th>\n",
        "    </tr>\n",
        "  </thead>\n",
        "  <tbody>\n",
        "    <tr>\n",
        "      <th>20140101140007</th>\n",
        "      <td>10</td>\n",
        "      <td>10</td>\n",
        "      <td>10</td>\n",
        "      <td>10</td>\n",
        "      <td>10</td>\n",
        "      <td>10</td>\n",
        "      <td>10</td>\n",
        "    </tr>\n",
        "    <tr>\n",
        "      <th>20140101140011</th>\n",
        "      <td>18</td>\n",
        "      <td>18</td>\n",
        "      <td>18</td>\n",
        "      <td>18</td>\n",
        "      <td>18</td>\n",
        "      <td>18</td>\n",
        "      <td>18</td>\n",
        "    </tr>\n",
        "    <tr>\n",
        "      <th>20140101140028</th>\n",
        "      <td>10</td>\n",
        "      <td>10</td>\n",
        "      <td>10</td>\n",
        "      <td>10</td>\n",
        "      <td>10</td>\n",
        "      <td>10</td>\n",
        "      <td>10</td>\n",
        "    </tr>\n",
        "    <tr>\n",
        "      <th>20140101140063</th>\n",
        "      <td>9</td>\n",
        "      <td>9</td>\n",
        "      <td>9</td>\n",
        "      <td>9</td>\n",
        "      <td>9</td>\n",
        "      <td>9</td>\n",
        "      <td>9</td>\n",
        "    </tr>\n",
        "    <tr>\n",
        "      <th>20140101140168</th>\n",
        "      <td>20</td>\n",
        "      <td>20</td>\n",
        "      <td>20</td>\n",
        "      <td>20</td>\n",
        "      <td>20</td>\n",
        "      <td>20</td>\n",
        "      <td>20</td>\n",
        "    </tr>\n",
        "  </tbody>\n",
        "</table>\n",
        "</div>"
       ],
       "metadata": {},
       "output_type": "pyout",
       "prompt_number": 64,
       "text": [
        "                TUTIER1CODE  TUTIER2CODE  TUTIER3CODE  TEWHERE  TUACTDUR  \\\n",
        "TUCASEID                                                                   \n",
        "20140101140007           10           10           10       10        10   \n",
        "20140101140011           18           18           18       18        18   \n",
        "20140101140028           10           10           10       10        10   \n",
        "20140101140063            9            9            9        9         9   \n",
        "20140101140168           20           20           20       20        20   \n",
        "\n",
        "                TUSTARTTIM  TUSTOPTIME  \n",
        "TUCASEID                                \n",
        "20140101140007          10          10  \n",
        "20140101140011          18          18  \n",
        "20140101140028          10          10  \n",
        "20140101140063           9           9  \n",
        "20140101140168          20          20  "
       ]
      }
     ],
     "prompt_number": 64
    },
    {
     "cell_type": "code",
     "collapsed": false,
     "input": [
      "atus_data_df.groupby(\"TUCASEID\").count().TUTIER1CODE.hist()"
     ],
     "language": "python",
     "metadata": {},
     "outputs": [
      {
       "metadata": {},
       "output_type": "pyout",
       "prompt_number": 65,
       "text": [
        "<matplotlib.axes.AxesSubplot at 0x10c3020d0>"
       ]
      },
      {
       "metadata": {},
       "output_type": "display_data",
       "png": "[encoded data removed]",
       "text": [
        "<matplotlib.figure.Figure at 0x10c31d910>"
       ]
      }
     ],
     "prompt_number": 65
    },
    {
     "cell_type": "code",
     "collapsed": false,
     "input": [
      "atus_data_df.groupby(\"TUCASEID\").count().TUTIER1CODE.hist(bins=50)"
     ],
     "language": "python",
     "metadata": {},
     "outputs": [
      {
       "metadata": {},
       "output_type": "pyout",
       "prompt_number": 66,
       "text": [
        "<matplotlib.axes.AxesSubplot at 0x10c384dd0>"
       ]
      },
      {
       "metadata": {},
       "output_type": "display_data",
       "png": "[encoded data removed]",
       "text": [
        "<matplotlib.figure.Figure at 0x10bc8bed0>"
       ]
      }
     ],
     "prompt_number": 66
    },
    {
     "cell_type": "heading",
     "level": 3,
     "metadata": {},
     "source": [
      "Now, iterate over the first 10 users and predict their power drain for each regime"
     ]
    },
    {
     "cell_type": "code",
     "collapsed": false,
     "input": [
      "sel_user_list = user_list[0:5]"
     ],
     "language": "python",
     "metadata": {},
     "outputs": [],
     "prompt_number": 67
    },
    {
     "cell_type": "code",
     "collapsed": false,
     "input": [
      "import analysis.power_drain_manual as ap"
     ],
     "language": "python",
     "metadata": {},
     "outputs": [],
     "prompt_number": 68
    },
    {
     "cell_type": "code",
     "collapsed": false,
     "input": [
      "reload(ap)"
     ],
     "language": "python",
     "metadata": {},
     "outputs": [
      {
       "metadata": {},
       "output_type": "pyout",
       "prompt_number": 205,
       "text": [
        "<module 'analysis.power_drain_manual' from '/Users/shankari/e-mission/data-collection-eval/src/analysis/power_drain_manual.py'>"
       ]
      }
     ],
     "prompt_number": 205
    },
    {
     "cell_type": "code",
     "collapsed": false,
     "input": [
      "user_0_df = atus_data_df[atus_data_df.TUCASEID == sel_user_list[0]]"
     ],
     "language": "python",
     "metadata": {},
     "outputs": [],
     "prompt_number": 70
    },
    {
     "cell_type": "code",
     "collapsed": false,
     "input": [
      "user_0_df[\"state\"] = user_0_df.TUTIER1CODE.map(lambda(c): ap.code_to_state(c))"
     ],
     "language": "python",
     "metadata": {},
     "outputs": [],
     "prompt_number": 71
    },
    {
     "cell_type": "code",
     "collapsed": false,
     "input": [
      "user_0_df"
     ],
     "language": "python",
     "metadata": {},
     "outputs": [
      {
       "html": [
        "<div style=\"max-width:1500px;overflow:auto;\">\n",
        "<table border=\"1\" class=\"dataframe\">\n",
        "  <thead>\n",
        "    <tr style=\"text-align: right;\">\n",
        "      <th></th>\n",
        "      <th>TUCASEID</th>\n",
        "      <th>TUTIER1CODE</th>\n",
        "      <th>TUTIER2CODE</th>\n",
        "      <th>TUTIER3CODE</th>\n",
        "      <th>TEWHERE</th>\n",
        "      <th>TUACTDUR</th>\n",
        "      <th>TUSTARTTIM</th>\n",
        "      <th>TUSTOPTIME</th>\n",
        "      <th>state</th>\n",
        "    </tr>\n",
        "  </thead>\n",
        "  <tbody>\n",
        "    <tr>\n",
        "      <th>0</th>\n",
        "      <td>20140101140007</td>\n",
        "      <td>1</td>\n",
        "      <td>1</td>\n",
        "      <td>1</td>\n",
        "      <td>-1</td>\n",
        "      <td>540</td>\n",
        "      <td>04:00:00</td>\n",
        "      <td>13:00:00</td>\n",
        "      <td>passive</td>\n",
        "    </tr>\n",
        "    <tr>\n",
        "      <th>1</th>\n",
        "      <td>20140101140007</td>\n",
        "      <td>3</td>\n",
        "      <td>1</td>\n",
        "      <td>1</td>\n",
        "      <td>1</td>\n",
        "      <td>30</td>\n",
        "      <td>13:00:00</td>\n",
        "      <td>13:30:00</td>\n",
        "      <td>active</td>\n",
        "    </tr>\n",
        "    <tr>\n",
        "      <th>2</th>\n",
        "      <td>20140101140007</td>\n",
        "      <td>1</td>\n",
        "      <td>2</td>\n",
        "      <td>1</td>\n",
        "      <td>-1</td>\n",
        "      <td>60</td>\n",
        "      <td>13:30:00</td>\n",
        "      <td>14:30:00</td>\n",
        "      <td>passive</td>\n",
        "    </tr>\n",
        "    <tr>\n",
        "      <th>3</th>\n",
        "      <td>20140101140007</td>\n",
        "      <td>18</td>\n",
        "      <td>11</td>\n",
        "      <td>1</td>\n",
        "      <td>13</td>\n",
        "      <td>10</td>\n",
        "      <td>14:30:00</td>\n",
        "      <td>14:40:00</td>\n",
        "      <td>moving</td>\n",
        "    </tr>\n",
        "    <tr>\n",
        "      <th>4</th>\n",
        "      <td>20140101140007</td>\n",
        "      <td>11</td>\n",
        "      <td>1</td>\n",
        "      <td>1</td>\n",
        "      <td>4</td>\n",
        "      <td>30</td>\n",
        "      <td>14:40:00</td>\n",
        "      <td>15:10:00</td>\n",
        "      <td>active</td>\n",
        "    </tr>\n",
        "    <tr>\n",
        "      <th>5</th>\n",
        "      <td>20140101140007</td>\n",
        "      <td>18</td>\n",
        "      <td>13</td>\n",
        "      <td>1</td>\n",
        "      <td>13</td>\n",
        "      <td>20</td>\n",
        "      <td>15:10:00</td>\n",
        "      <td>15:30:00</td>\n",
        "      <td>moving</td>\n",
        "    </tr>\n",
        "    <tr>\n",
        "      <th>6</th>\n",
        "      <td>20140101140007</td>\n",
        "      <td>13</td>\n",
        "      <td>1</td>\n",
        "      <td>16</td>\n",
        "      <td>9</td>\n",
        "      <td>90</td>\n",
        "      <td>15:30:00</td>\n",
        "      <td>17:00:00</td>\n",
        "      <td>active</td>\n",
        "    </tr>\n",
        "    <tr>\n",
        "      <th>7</th>\n",
        "      <td>20140101140007</td>\n",
        "      <td>18</td>\n",
        "      <td>13</td>\n",
        "      <td>1</td>\n",
        "      <td>13</td>\n",
        "      <td>25</td>\n",
        "      <td>17:00:00</td>\n",
        "      <td>17:25:00</td>\n",
        "      <td>moving</td>\n",
        "    </tr>\n",
        "    <tr>\n",
        "      <th>8</th>\n",
        "      <td>20140101140007</td>\n",
        "      <td>12</td>\n",
        "      <td>3</td>\n",
        "      <td>3</td>\n",
        "      <td>1</td>\n",
        "      <td>30</td>\n",
        "      <td>17:25:00</td>\n",
        "      <td>17:55:00</td>\n",
        "      <td>active</td>\n",
        "    </tr>\n",
        "    <tr>\n",
        "      <th>9</th>\n",
        "      <td>20140101140007</td>\n",
        "      <td>1</td>\n",
        "      <td>1</td>\n",
        "      <td>1</td>\n",
        "      <td>-1</td>\n",
        "      <td>725</td>\n",
        "      <td>17:55:00</td>\n",
        "      <td>06:00:00</td>\n",
        "      <td>passive</td>\n",
        "    </tr>\n",
        "  </tbody>\n",
        "</table>\n",
        "</div>"
       ],
       "metadata": {},
       "output_type": "pyout",
       "prompt_number": 72,
       "text": [
        "         TUCASEID  TUTIER1CODE  TUTIER2CODE  TUTIER3CODE  TEWHERE  TUACTDUR  \\\n",
        "0  20140101140007            1            1            1       -1       540   \n",
        "1  20140101140007            3            1            1        1        30   \n",
        "2  20140101140007            1            2            1       -1        60   \n",
        "3  20140101140007           18           11            1       13        10   \n",
        "4  20140101140007           11            1            1        4        30   \n",
        "5  20140101140007           18           13            1       13        20   \n",
        "6  20140101140007           13            1           16        9        90   \n",
        "7  20140101140007           18           13            1       13        25   \n",
        "8  20140101140007           12            3            3        1        30   \n",
        "9  20140101140007            1            1            1       -1       725   \n",
        "\n",
        "  TUSTARTTIM TUSTOPTIME    state  \n",
        "0   04:00:00   13:00:00  passive  \n",
        "1   13:00:00   13:30:00   active  \n",
        "2   13:30:00   14:30:00  passive  \n",
        "3   14:30:00   14:40:00   moving  \n",
        "4   14:40:00   15:10:00   active  \n",
        "5   15:10:00   15:30:00   moving  \n",
        "6   15:30:00   17:00:00   active  \n",
        "7   17:00:00   17:25:00   moving  \n",
        "8   17:25:00   17:55:00   active  \n",
        "9   17:55:00   06:00:00  passive  "
       ]
      }
     ],
     "prompt_number": 72
    },
    {
     "cell_type": "code",
     "collapsed": false,
     "input": [
      "user_0_df.groupby('state').sum()"
     ],
     "language": "python",
     "metadata": {},
     "outputs": [
      {
       "html": [
        "<div style=\"max-width:1500px;overflow:auto;\">\n",
        "<table border=\"1\" class=\"dataframe\">\n",
        "  <thead>\n",
        "    <tr style=\"text-align: right;\">\n",
        "      <th></th>\n",
        "      <th>TUCASEID</th>\n",
        "      <th>TUTIER1CODE</th>\n",
        "      <th>TUTIER2CODE</th>\n",
        "      <th>TUTIER3CODE</th>\n",
        "      <th>TEWHERE</th>\n",
        "      <th>TUACTDUR</th>\n",
        "    </tr>\n",
        "    <tr>\n",
        "      <th>state</th>\n",
        "      <th></th>\n",
        "      <th></th>\n",
        "      <th></th>\n",
        "      <th></th>\n",
        "      <th></th>\n",
        "      <th></th>\n",
        "    </tr>\n",
        "  </thead>\n",
        "  <tbody>\n",
        "    <tr>\n",
        "      <th>active</th>\n",
        "      <td>80560404560028</td>\n",
        "      <td>39</td>\n",
        "      <td>6</td>\n",
        "      <td>21</td>\n",
        "      <td>15</td>\n",
        "      <td>180</td>\n",
        "    </tr>\n",
        "    <tr>\n",
        "      <th>moving</th>\n",
        "      <td>60420303420021</td>\n",
        "      <td>54</td>\n",
        "      <td>37</td>\n",
        "      <td>3</td>\n",
        "      <td>39</td>\n",
        "      <td>55</td>\n",
        "    </tr>\n",
        "    <tr>\n",
        "      <th>passive</th>\n",
        "      <td>60420303420021</td>\n",
        "      <td>3</td>\n",
        "      <td>4</td>\n",
        "      <td>3</td>\n",
        "      <td>-3</td>\n",
        "      <td>1325</td>\n",
        "    </tr>\n",
        "  </tbody>\n",
        "</table>\n",
        "</div>"
       ],
       "metadata": {},
       "output_type": "pyout",
       "prompt_number": 77,
       "text": [
        "               TUCASEID  TUTIER1CODE  TUTIER2CODE  TUTIER3CODE  TEWHERE  \\\n",
        "state                                                                     \n",
        "active   80560404560028           39            6           21       15   \n",
        "moving   60420303420021           54           37            3       39   \n",
        "passive  60420303420021            3            4            3       -3   \n",
        "\n",
        "         TUACTDUR  \n",
        "state              \n",
        "active        180  \n",
        "moving         55  \n",
        "passive      1325  "
       ]
      }
     ],
     "prompt_number": 77
    },
    {
     "cell_type": "code",
     "collapsed": false,
     "input": [
      "user_0_df.groupby('state').sum()[[\"TUACTDUR\"]]"
     ],
     "language": "python",
     "metadata": {},
     "outputs": [
      {
       "html": [
        "<div style=\"max-width:1500px;overflow:auto;\">\n",
        "<table border=\"1\" class=\"dataframe\">\n",
        "  <thead>\n",
        "    <tr style=\"text-align: right;\">\n",
        "      <th></th>\n",
        "      <th>TUACTDUR</th>\n",
        "    </tr>\n",
        "    <tr>\n",
        "      <th>state</th>\n",
        "      <th></th>\n",
        "    </tr>\n",
        "  </thead>\n",
        "  <tbody>\n",
        "    <tr>\n",
        "      <th>active</th>\n",
        "      <td>180</td>\n",
        "    </tr>\n",
        "    <tr>\n",
        "      <th>moving</th>\n",
        "      <td>55</td>\n",
        "    </tr>\n",
        "    <tr>\n",
        "      <th>passive</th>\n",
        "      <td>1325</td>\n",
        "    </tr>\n",
        "  </tbody>\n",
        "</table>\n",
        "</div>"
       ],
       "metadata": {},
       "output_type": "pyout",
       "prompt_number": 105,
       "text": [
        "         TUACTDUR\n",
        "state            \n",
        "active        180\n",
        "moving         55\n",
        "passive      1325"
       ]
      }
     ],
     "prompt_number": 105
    },
    {
     "cell_type": "code",
     "collapsed": false,
     "input": [
      "android_model"
     ],
     "language": "python",
     "metadata": {},
     "outputs": [
      {
       "html": [
        "<div style=\"max-width:1500px;overflow:auto;\">\n",
        "<table border=\"1\" class=\"dataframe\">\n",
        "  <thead>\n",
        "    <tr style=\"text-align: right;\">\n",
        "      <th></th>\n",
        "      <th>state</th>\n",
        "      <th>nd</th>\n",
        "      <th>nohafs</th>\n",
        "      <th>nomafs</th>\n",
        "      <th>nomass</th>\n",
        "      <th>geofenced</th>\n",
        "    </tr>\n",
        "  </thead>\n",
        "  <tbody>\n",
        "    <tr>\n",
        "      <th>0</th>\n",
        "      <td>active</td>\n",
        "      <td>-0.460435</td>\n",
        "      <td>-5.23203</td>\n",
        "      <td>-0.92658</td>\n",
        "      <td>-0.795273</td>\n",
        "      <td>-0.643476</td>\n",
        "    </tr>\n",
        "    <tr>\n",
        "      <th>1</th>\n",
        "      <td>moving</td>\n",
        "      <td>-1.078991</td>\n",
        "      <td>-6.50524</td>\n",
        "      <td>-3.07636</td>\n",
        "      <td>-1.616738</td>\n",
        "      <td>NaN</td>\n",
        "    </tr>\n",
        "    <tr>\n",
        "      <th>2</th>\n",
        "      <td>passive</td>\n",
        "      <td>-0.381587</td>\n",
        "      <td>-4.75929</td>\n",
        "      <td>-0.43837</td>\n",
        "      <td>-0.438373</td>\n",
        "      <td>-0.381587</td>\n",
        "    </tr>\n",
        "  </tbody>\n",
        "</table>\n",
        "</div>"
       ],
       "metadata": {},
       "output_type": "pyout",
       "prompt_number": 90,
       "text": [
        "     state        nd   nohafs   nomafs    nomass  geofenced\n",
        "0   active -0.460435 -5.23203 -0.92658 -0.795273  -0.643476\n",
        "1   moving -1.078991 -6.50524 -3.07636 -1.616738        NaN\n",
        "2  passive -0.381587 -4.75929 -0.43837 -0.438373  -0.381587"
       ]
      }
     ],
     "prompt_number": 90
    },
    {
     "cell_type": "code",
     "collapsed": false,
     "input": [
      "android_model.columns"
     ],
     "language": "python",
     "metadata": {},
     "outputs": [
      {
       "metadata": {},
       "output_type": "pyout",
       "prompt_number": 91,
       "text": [
        "Index([u'state', u'nd', u'nohafs', u'nomafs', u'nomass', u'geofenced'], dtype='object')"
       ]
      }
     ],
     "prompt_number": 91
    },
    {
     "cell_type": "code",
     "collapsed": false,
     "input": [
      "android_model[[\"state\",\"nd\"]]"
     ],
     "language": "python",
     "metadata": {},
     "outputs": [
      {
       "html": [
        "<div style=\"max-width:1500px;overflow:auto;\">\n",
        "<table border=\"1\" class=\"dataframe\">\n",
        "  <thead>\n",
        "    <tr style=\"text-align: right;\">\n",
        "      <th></th>\n",
        "      <th>state</th>\n",
        "      <th>nd</th>\n",
        "    </tr>\n",
        "  </thead>\n",
        "  <tbody>\n",
        "    <tr>\n",
        "      <th>0</th>\n",
        "      <td>active</td>\n",
        "      <td>-0.460435</td>\n",
        "    </tr>\n",
        "    <tr>\n",
        "      <th>1</th>\n",
        "      <td>moving</td>\n",
        "      <td>-1.078991</td>\n",
        "    </tr>\n",
        "    <tr>\n",
        "      <th>2</th>\n",
        "      <td>passive</td>\n",
        "      <td>-0.381587</td>\n",
        "    </tr>\n",
        "  </tbody>\n",
        "</table>\n",
        "</div>"
       ],
       "metadata": {},
       "output_type": "pyout",
       "prompt_number": 95,
       "text": [
        "     state        nd\n",
        "0   active -0.460435\n",
        "1   moving -1.078991\n",
        "2  passive -0.381587"
       ]
      }
     ],
     "prompt_number": 95
    },
    {
     "cell_type": "code",
     "collapsed": false,
     "input": [
      "with_power_df = user_0_df.merge(android_model[[\"state\",\"nd\"]], on='state')\n",
      "with_power_df"
     ],
     "language": "python",
     "metadata": {},
     "outputs": [
      {
       "html": [
        "<div style=\"max-width:1500px;overflow:auto;\">\n",
        "<table border=\"1\" class=\"dataframe\">\n",
        "  <thead>\n",
        "    <tr style=\"text-align: right;\">\n",
        "      <th></th>\n",
        "      <th>TUCASEID</th>\n",
        "      <th>TUTIER1CODE</th>\n",
        "      <th>TUTIER2CODE</th>\n",
        "      <th>TUTIER3CODE</th>\n",
        "      <th>TEWHERE</th>\n",
        "      <th>TUACTDUR</th>\n",
        "      <th>TUSTARTTIM</th>\n",
        "      <th>TUSTOPTIME</th>\n",
        "      <th>state</th>\n",
        "      <th>nd</th>\n",
        "    </tr>\n",
        "  </thead>\n",
        "  <tbody>\n",
        "    <tr>\n",
        "      <th>0</th>\n",
        "      <td>20140101140007</td>\n",
        "      <td>1</td>\n",
        "      <td>1</td>\n",
        "      <td>1</td>\n",
        "      <td>-1</td>\n",
        "      <td>540</td>\n",
        "      <td>04:00:00</td>\n",
        "      <td>13:00:00</td>\n",
        "      <td>passive</td>\n",
        "      <td>-0.381587</td>\n",
        "    </tr>\n",
        "    <tr>\n",
        "      <th>1</th>\n",
        "      <td>20140101140007</td>\n",
        "      <td>1</td>\n",
        "      <td>2</td>\n",
        "      <td>1</td>\n",
        "      <td>-1</td>\n",
        "      <td>60</td>\n",
        "      <td>13:30:00</td>\n",
        "      <td>14:30:00</td>\n",
        "      <td>passive</td>\n",
        "      <td>-0.381587</td>\n",
        "    </tr>\n",
        "    <tr>\n",
        "      <th>2</th>\n",
        "      <td>20140101140007</td>\n",
        "      <td>1</td>\n",
        "      <td>1</td>\n",
        "      <td>1</td>\n",
        "      <td>-1</td>\n",
        "      <td>725</td>\n",
        "      <td>17:55:00</td>\n",
        "      <td>06:00:00</td>\n",
        "      <td>passive</td>\n",
        "      <td>-0.381587</td>\n",
        "    </tr>\n",
        "    <tr>\n",
        "      <th>3</th>\n",
        "      <td>20140101140007</td>\n",
        "      <td>3</td>\n",
        "      <td>1</td>\n",
        "      <td>1</td>\n",
        "      <td>1</td>\n",
        "      <td>30</td>\n",
        "      <td>13:00:00</td>\n",
        "      <td>13:30:00</td>\n",
        "      <td>active</td>\n",
        "      <td>-0.460435</td>\n",
        "    </tr>\n",
        "    <tr>\n",
        "      <th>4</th>\n",
        "      <td>20140101140007</td>\n",
        "      <td>11</td>\n",
        "      <td>1</td>\n",
        "      <td>1</td>\n",
        "      <td>4</td>\n",
        "      <td>30</td>\n",
        "      <td>14:40:00</td>\n",
        "      <td>15:10:00</td>\n",
        "      <td>active</td>\n",
        "      <td>-0.460435</td>\n",
        "    </tr>\n",
        "    <tr>\n",
        "      <th>5</th>\n",
        "      <td>20140101140007</td>\n",
        "      <td>13</td>\n",
        "      <td>1</td>\n",
        "      <td>16</td>\n",
        "      <td>9</td>\n",
        "      <td>90</td>\n",
        "      <td>15:30:00</td>\n",
        "      <td>17:00:00</td>\n",
        "      <td>active</td>\n",
        "      <td>-0.460435</td>\n",
        "    </tr>\n",
        "    <tr>\n",
        "      <th>6</th>\n",
        "      <td>20140101140007</td>\n",
        "      <td>12</td>\n",
        "      <td>3</td>\n",
        "      <td>3</td>\n",
        "      <td>1</td>\n",
        "      <td>30</td>\n",
        "      <td>17:25:00</td>\n",
        "      <td>17:55:00</td>\n",
        "      <td>active</td>\n",
        "      <td>-0.460435</td>\n",
        "    </tr>\n",
        "    <tr>\n",
        "      <th>7</th>\n",
        "      <td>20140101140007</td>\n",
        "      <td>18</td>\n",
        "      <td>11</td>\n",
        "      <td>1</td>\n",
        "      <td>13</td>\n",
        "      <td>10</td>\n",
        "      <td>14:30:00</td>\n",
        "      <td>14:40:00</td>\n",
        "      <td>moving</td>\n",
        "      <td>-1.078991</td>\n",
        "    </tr>\n",
        "    <tr>\n",
        "      <th>8</th>\n",
        "      <td>20140101140007</td>\n",
        "      <td>18</td>\n",
        "      <td>13</td>\n",
        "      <td>1</td>\n",
        "      <td>13</td>\n",
        "      <td>20</td>\n",
        "      <td>15:10:00</td>\n",
        "      <td>15:30:00</td>\n",
        "      <td>moving</td>\n",
        "      <td>-1.078991</td>\n",
        "    </tr>\n",
        "    <tr>\n",
        "      <th>9</th>\n",
        "      <td>20140101140007</td>\n",
        "      <td>18</td>\n",
        "      <td>13</td>\n",
        "      <td>1</td>\n",
        "      <td>13</td>\n",
        "      <td>25</td>\n",
        "      <td>17:00:00</td>\n",
        "      <td>17:25:00</td>\n",
        "      <td>moving</td>\n",
        "      <td>-1.078991</td>\n",
        "    </tr>\n",
        "  </tbody>\n",
        "</table>\n",
        "</div>"
       ],
       "metadata": {},
       "output_type": "pyout",
       "prompt_number": 109,
       "text": [
        "         TUCASEID  TUTIER1CODE  TUTIER2CODE  TUTIER3CODE  TEWHERE  TUACTDUR  \\\n",
        "0  20140101140007            1            1            1       -1       540   \n",
        "1  20140101140007            1            2            1       -1        60   \n",
        "2  20140101140007            1            1            1       -1       725   \n",
        "3  20140101140007            3            1            1        1        30   \n",
        "4  20140101140007           11            1            1        4        30   \n",
        "5  20140101140007           13            1           16        9        90   \n",
        "6  20140101140007           12            3            3        1        30   \n",
        "7  20140101140007           18           11            1       13        10   \n",
        "8  20140101140007           18           13            1       13        20   \n",
        "9  20140101140007           18           13            1       13        25   \n",
        "\n",
        "  TUSTARTTIM TUSTOPTIME    state        nd  \n",
        "0   04:00:00   13:00:00  passive -0.381587  \n",
        "1   13:30:00   14:30:00  passive -0.381587  \n",
        "2   17:55:00   06:00:00  passive -0.381587  \n",
        "3   13:00:00   13:30:00   active -0.460435  \n",
        "4   14:40:00   15:10:00   active -0.460435  \n",
        "5   15:30:00   17:00:00   active -0.460435  \n",
        "6   17:25:00   17:55:00   active -0.460435  \n",
        "7   14:30:00   14:40:00   moving -1.078991  \n",
        "8   15:10:00   15:30:00   moving -1.078991  \n",
        "9   17:00:00   17:25:00   moving -1.078991  "
       ]
      }
     ],
     "prompt_number": 109
    },
    {
     "cell_type": "code",
     "collapsed": false,
     "input": [
      "with_power_df[\"power\"] = with_power_df.apply(lambda(arr): float(arr[5])/60 * arr[9], axis=1)\n",
      "with_power_df"
     ],
     "language": "python",
     "metadata": {},
     "outputs": [
      {
       "html": [
        "<div style=\"max-width:1500px;overflow:auto;\">\n",
        "<table border=\"1\" class=\"dataframe\">\n",
        "  <thead>\n",
        "    <tr style=\"text-align: right;\">\n",
        "      <th></th>\n",
        "      <th>TUCASEID</th>\n",
        "      <th>TUTIER1CODE</th>\n",
        "      <th>TUTIER2CODE</th>\n",
        "      <th>TUTIER3CODE</th>\n",
        "      <th>TEWHERE</th>\n",
        "      <th>TUACTDUR</th>\n",
        "      <th>TUSTARTTIM</th>\n",
        "      <th>TUSTOPTIME</th>\n",
        "      <th>state</th>\n",
        "      <th>nd</th>\n",
        "      <th>power</th>\n",
        "    </tr>\n",
        "  </thead>\n",
        "  <tbody>\n",
        "    <tr>\n",
        "      <th>0</th>\n",
        "      <td>20140101140007</td>\n",
        "      <td>1</td>\n",
        "      <td>1</td>\n",
        "      <td>1</td>\n",
        "      <td>-1</td>\n",
        "      <td>540</td>\n",
        "      <td>04:00:00</td>\n",
        "      <td>13:00:00</td>\n",
        "      <td>passive</td>\n",
        "      <td>-0.381587</td>\n",
        "      <td>-3.434283</td>\n",
        "    </tr>\n",
        "    <tr>\n",
        "      <th>1</th>\n",
        "      <td>20140101140007</td>\n",
        "      <td>1</td>\n",
        "      <td>2</td>\n",
        "      <td>1</td>\n",
        "      <td>-1</td>\n",
        "      <td>60</td>\n",
        "      <td>13:30:00</td>\n",
        "      <td>14:30:00</td>\n",
        "      <td>passive</td>\n",
        "      <td>-0.381587</td>\n",
        "      <td>-0.381587</td>\n",
        "    </tr>\n",
        "    <tr>\n",
        "      <th>2</th>\n",
        "      <td>20140101140007</td>\n",
        "      <td>1</td>\n",
        "      <td>1</td>\n",
        "      <td>1</td>\n",
        "      <td>-1</td>\n",
        "      <td>725</td>\n",
        "      <td>17:55:00</td>\n",
        "      <td>06:00:00</td>\n",
        "      <td>passive</td>\n",
        "      <td>-0.381587</td>\n",
        "      <td>-4.610843</td>\n",
        "    </tr>\n",
        "    <tr>\n",
        "      <th>3</th>\n",
        "      <td>20140101140007</td>\n",
        "      <td>3</td>\n",
        "      <td>1</td>\n",
        "      <td>1</td>\n",
        "      <td>1</td>\n",
        "      <td>30</td>\n",
        "      <td>13:00:00</td>\n",
        "      <td>13:30:00</td>\n",
        "      <td>active</td>\n",
        "      <td>-0.460435</td>\n",
        "      <td>-0.230218</td>\n",
        "    </tr>\n",
        "    <tr>\n",
        "      <th>4</th>\n",
        "      <td>20140101140007</td>\n",
        "      <td>11</td>\n",
        "      <td>1</td>\n",
        "      <td>1</td>\n",
        "      <td>4</td>\n",
        "      <td>30</td>\n",
        "      <td>14:40:00</td>\n",
        "      <td>15:10:00</td>\n",
        "      <td>active</td>\n",
        "      <td>-0.460435</td>\n",
        "      <td>-0.230218</td>\n",
        "    </tr>\n",
        "    <tr>\n",
        "      <th>5</th>\n",
        "      <td>20140101140007</td>\n",
        "      <td>13</td>\n",
        "      <td>1</td>\n",
        "      <td>16</td>\n",
        "      <td>9</td>\n",
        "      <td>90</td>\n",
        "      <td>15:30:00</td>\n",
        "      <td>17:00:00</td>\n",
        "      <td>active</td>\n",
        "      <td>-0.460435</td>\n",
        "      <td>-0.690653</td>\n",
        "    </tr>\n",
        "    <tr>\n",
        "      <th>6</th>\n",
        "      <td>20140101140007</td>\n",
        "      <td>12</td>\n",
        "      <td>3</td>\n",
        "      <td>3</td>\n",
        "      <td>1</td>\n",
        "      <td>30</td>\n",
        "      <td>17:25:00</td>\n",
        "      <td>17:55:00</td>\n",
        "      <td>active</td>\n",
        "      <td>-0.460435</td>\n",
        "      <td>-0.230218</td>\n",
        "    </tr>\n",
        "    <tr>\n",
        "      <th>7</th>\n",
        "      <td>20140101140007</td>\n",
        "      <td>18</td>\n",
        "      <td>11</td>\n",
        "      <td>1</td>\n",
        "      <td>13</td>\n",
        "      <td>10</td>\n",
        "      <td>14:30:00</td>\n",
        "      <td>14:40:00</td>\n",
        "      <td>moving</td>\n",
        "      <td>-1.078991</td>\n",
        "      <td>-0.179832</td>\n",
        "    </tr>\n",
        "    <tr>\n",
        "      <th>8</th>\n",
        "      <td>20140101140007</td>\n",
        "      <td>18</td>\n",
        "      <td>13</td>\n",
        "      <td>1</td>\n",
        "      <td>13</td>\n",
        "      <td>20</td>\n",
        "      <td>15:10:00</td>\n",
        "      <td>15:30:00</td>\n",
        "      <td>moving</td>\n",
        "      <td>-1.078991</td>\n",
        "      <td>-0.359664</td>\n",
        "    </tr>\n",
        "    <tr>\n",
        "      <th>9</th>\n",
        "      <td>20140101140007</td>\n",
        "      <td>18</td>\n",
        "      <td>13</td>\n",
        "      <td>1</td>\n",
        "      <td>13</td>\n",
        "      <td>25</td>\n",
        "      <td>17:00:00</td>\n",
        "      <td>17:25:00</td>\n",
        "      <td>moving</td>\n",
        "      <td>-1.078991</td>\n",
        "      <td>-0.449580</td>\n",
        "    </tr>\n",
        "  </tbody>\n",
        "</table>\n",
        "</div>"
       ],
       "metadata": {},
       "output_type": "pyout",
       "prompt_number": 120,
       "text": [
        "         TUCASEID  TUTIER1CODE  TUTIER2CODE  TUTIER3CODE  TEWHERE  TUACTDUR  \\\n",
        "0  20140101140007            1            1            1       -1       540   \n",
        "1  20140101140007            1            2            1       -1        60   \n",
        "2  20140101140007            1            1            1       -1       725   \n",
        "3  20140101140007            3            1            1        1        30   \n",
        "4  20140101140007           11            1            1        4        30   \n",
        "5  20140101140007           13            1           16        9        90   \n",
        "6  20140101140007           12            3            3        1        30   \n",
        "7  20140101140007           18           11            1       13        10   \n",
        "8  20140101140007           18           13            1       13        20   \n",
        "9  20140101140007           18           13            1       13        25   \n",
        "\n",
        "  TUSTARTTIM TUSTOPTIME    state        nd     power  \n",
        "0   04:00:00   13:00:00  passive -0.381587 -3.434283  \n",
        "1   13:30:00   14:30:00  passive -0.381587 -0.381587  \n",
        "2   17:55:00   06:00:00  passive -0.381587 -4.610843  \n",
        "3   13:00:00   13:30:00   active -0.460435 -0.230218  \n",
        "4   14:40:00   15:10:00   active -0.460435 -0.230218  \n",
        "5   15:30:00   17:00:00   active -0.460435 -0.690653  \n",
        "6   17:25:00   17:55:00   active -0.460435 -0.230218  \n",
        "7   14:30:00   14:40:00   moving -1.078991 -0.179832  \n",
        "8   15:10:00   15:30:00   moving -1.078991 -0.359664  \n",
        "9   17:00:00   17:25:00   moving -1.078991 -0.449580  "
       ]
      }
     ],
     "prompt_number": 120
    },
    {
     "cell_type": "code",
     "collapsed": false,
     "input": [
      "with_power_df.power.sum()"
     ],
     "language": "python",
     "metadata": {},
     "outputs": [
      {
       "metadata": {},
       "output_type": "pyout",
       "prompt_number": 121,
       "text": [
        "-10.797093000000002"
       ]
      }
     ],
     "prompt_number": 121
    },
    {
     "cell_type": "code",
     "collapsed": false,
     "input": [
      "gm = android_model[[\"state\", \"geofenced\"]]; gm"
     ],
     "language": "python",
     "metadata": {},
     "outputs": [
      {
       "html": [
        "<div style=\"max-width:1500px;overflow:auto;\">\n",
        "<table border=\"1\" class=\"dataframe\">\n",
        "  <thead>\n",
        "    <tr style=\"text-align: right;\">\n",
        "      <th></th>\n",
        "      <th>state</th>\n",
        "      <th>geofenced</th>\n",
        "    </tr>\n",
        "  </thead>\n",
        "  <tbody>\n",
        "    <tr>\n",
        "      <th>0</th>\n",
        "      <td>active</td>\n",
        "      <td>-0.643476</td>\n",
        "    </tr>\n",
        "    <tr>\n",
        "      <th>1</th>\n",
        "      <td>moving</td>\n",
        "      <td>NaN</td>\n",
        "    </tr>\n",
        "    <tr>\n",
        "      <th>2</th>\n",
        "      <td>passive</td>\n",
        "      <td>-0.381587</td>\n",
        "    </tr>\n",
        "  </tbody>\n",
        "</table>\n",
        "</div>"
       ],
       "metadata": {},
       "output_type": "pyout",
       "prompt_number": 150,
       "text": [
        "     state  geofenced\n",
        "0   active  -0.643476\n",
        "1   moving        NaN\n",
        "2  passive  -0.381587"
       ]
      }
     ],
     "prompt_number": 150
    },
    {
     "cell_type": "code",
     "collapsed": false,
     "input": [
      "gm[gm.state == \"moving\"].geofenced"
     ],
     "language": "python",
     "metadata": {},
     "outputs": [
      {
       "metadata": {},
       "output_type": "pyout",
       "prompt_number": 178,
       "text": [
        "1    100\n",
        "Name: geofenced, dtype: float64"
       ]
      }
     ],
     "prompt_number": 178
    },
    {
     "cell_type": "code",
     "collapsed": false,
     "input": [
      "moving_index = gm[gm.state == \"moving\"].index\n",
      "gm.geofenced.loc[moving_index] = 100\n",
      "gm"
     ],
     "language": "python",
     "metadata": {},
     "outputs": [
      {
       "output_type": "stream",
       "stream": "stderr",
       "text": [
        "/Users/shankari/OSS/anaconda/lib/python2.7/site-packages/pandas/core/indexing.py:115: SettingWithCopyWarning: \n",
        "A value is trying to be set on a copy of a slice from a DataFrame\n",
        "\n",
        "See the caveats in the documentation: http://pandas.pydata.org/pandas-docs/stable/indexing.html#indexing-view-versus-copy\n",
        "  self._setitem_with_indexer(indexer, value)\n",
        "-c:2: SettingWithCopyWarning: \n",
        "A value is trying to be set on a copy of a slice from a DataFrame\n",
        "\n",
        "See the caveats in the documentation: http://pandas.pydata.org/pandas-docs/stable/indexing.html#indexing-view-versus-copy\n"
       ]
      },
      {
       "html": [
        "<div style=\"max-width:1500px;overflow:auto;\">\n",
        "<table border=\"1\" class=\"dataframe\">\n",
        "  <thead>\n",
        "    <tr style=\"text-align: right;\">\n",
        "      <th></th>\n",
        "      <th>state</th>\n",
        "      <th>geofenced</th>\n",
        "    </tr>\n",
        "  </thead>\n",
        "  <tbody>\n",
        "    <tr>\n",
        "      <th>0</th>\n",
        "      <td>active</td>\n",
        "      <td>-0.643476</td>\n",
        "    </tr>\n",
        "    <tr>\n",
        "      <th>1</th>\n",
        "      <td>moving</td>\n",
        "      <td>100.000000</td>\n",
        "    </tr>\n",
        "    <tr>\n",
        "      <th>2</th>\n",
        "      <td>passive</td>\n",
        "      <td>-0.381587</td>\n",
        "    </tr>\n",
        "  </tbody>\n",
        "</table>\n",
        "</div>"
       ],
       "metadata": {},
       "output_type": "pyout",
       "prompt_number": 146,
       "text": [
        "     state   geofenced\n",
        "0   active   -0.643476\n",
        "1   moving  100.000000\n",
        "2  passive   -0.381587"
       ]
      }
     ],
     "prompt_number": 146
    },
    {
     "cell_type": "code",
     "collapsed": false,
     "input": [
      "moving_index = gm[gm.state == \"moving\"].index\n",
      "gm.loc[moving_index, \"geofenced\"] = 100\n",
      "gm"
     ],
     "language": "python",
     "metadata": {},
     "outputs": [
      {
       "html": [
        "<div style=\"max-width:1500px;overflow:auto;\">\n",
        "<table border=\"1\" class=\"dataframe\">\n",
        "  <thead>\n",
        "    <tr style=\"text-align: right;\">\n",
        "      <th></th>\n",
        "      <th>state</th>\n",
        "      <th>geofenced</th>\n",
        "    </tr>\n",
        "  </thead>\n",
        "  <tbody>\n",
        "    <tr>\n",
        "      <th>0</th>\n",
        "      <td>active</td>\n",
        "      <td>-0.643476</td>\n",
        "    </tr>\n",
        "    <tr>\n",
        "      <th>1</th>\n",
        "      <td>moving</td>\n",
        "      <td>100.000000</td>\n",
        "    </tr>\n",
        "    <tr>\n",
        "      <th>2</th>\n",
        "      <td>passive</td>\n",
        "      <td>-0.381587</td>\n",
        "    </tr>\n",
        "  </tbody>\n",
        "</table>\n",
        "</div>"
       ],
       "metadata": {},
       "output_type": "pyout",
       "prompt_number": 151,
       "text": [
        "     state   geofenced\n",
        "0   active   -0.643476\n",
        "1   moving  100.000000\n",
        "2  passive   -0.381587"
       ]
      }
     ],
     "prompt_number": 151
    },
    {
     "cell_type": "code",
     "collapsed": false,
     "input": [
      "ap.get_power_drain_for_regimes(user_0_df, android_model)"
     ],
     "language": "python",
     "metadata": {},
     "outputs": [
      {
       "output_type": "stream",
       "stream": "stderr",
       "text": [
        "DEBUG:root:After merging, df =          TUCASEID  TUTIER1CODE  TUTIER2CODE  TUTIER3CODE  TEWHERE  TUACTDUR  \\\n",
        "0  20140101140007            1            1            1       -1       540   \n",
        "1  20140101140007            1            2            1       -1        60   \n",
        "2  20140101140007            1            1            1       -1       725   \n",
        "3  20140101140007            3            1            1        1        30   \n",
        "4  20140101140007           11            1            1        4        30   \n",
        "5  20140101140007           13            1           16        9        90   \n",
        "6  20140101140007           12            3            3        1        30   \n",
        "7  20140101140007           18           11            1       13        10   \n",
        "8  20140101140007           18           13            1       13        20   \n",
        "9  20140101140007           18           13            1       13        25   \n",
        "\n",
        "  TUSTARTTIM TUSTOPTIME    state  drain_rate  \n",
        "0   04:00:00   13:00:00  passive   -0.381587  \n",
        "1   13:30:00   14:30:00  passive   -0.381587  \n",
        "2   17:55:00   06:00:00  passive   -0.381587  \n",
        "3   13:00:00   13:30:00   active   -0.460435  \n",
        "4   14:40:00   15:10:00   active   -0.460435  \n",
        "5   15:30:00   17:00:00   active   -0.460435  \n",
        "6   17:25:00   17:55:00   active   -0.460435  \n",
        "7   14:30:00   14:40:00   moving   -1.078991  \n",
        "8   15:10:00   15:30:00   moving   -1.078991  \n",
        "9   17:00:00   17:25:00   moving   -1.078991  \n"
       ]
      },
      {
       "output_type": "stream",
       "stream": "stderr",
       "text": [
        "DEBUG:root:After merging, df =          TUCASEID  TUTIER1CODE  TUTIER2CODE  TUTIER3CODE  TEWHERE  TUACTDUR  \\\n",
        "0  20140101140007            1            1            1       -1       540   \n",
        "1  20140101140007            1            2            1       -1        60   \n",
        "2  20140101140007            1            1            1       -1       725   \n",
        "3  20140101140007            3            1            1        1        30   \n",
        "4  20140101140007           11            1            1        4        30   \n",
        "5  20140101140007           13            1           16        9        90   \n",
        "6  20140101140007           12            3            3        1        30   \n",
        "7  20140101140007           18           11            1       13        10   \n",
        "8  20140101140007           18           13            1       13        20   \n",
        "9  20140101140007           18           13            1       13        25   \n",
        "\n",
        "  TUSTARTTIM TUSTOPTIME    state  drain_rate  \n",
        "0   04:00:00   13:00:00  passive    -4.75929  \n",
        "1   13:30:00   14:30:00  passive    -4.75929  \n",
        "2   17:55:00   06:00:00  passive    -4.75929  \n",
        "3   13:00:00   13:30:00   active    -5.23203  \n",
        "4   14:40:00   15:10:00   active    -5.23203  \n",
        "5   15:30:00   17:00:00   active    -5.23203  \n",
        "6   17:25:00   17:55:00   active    -5.23203  \n",
        "7   14:30:00   14:40:00   moving    -6.50524  \n",
        "8   15:10:00   15:30:00   moving    -6.50524  \n",
        "9   17:00:00   17:25:00   moving    -6.50524  \n"
       ]
      },
      {
       "output_type": "stream",
       "stream": "stderr",
       "text": [
        "DEBUG:root:After merging, df =          TUCASEID  TUTIER1CODE  TUTIER2CODE  TUTIER3CODE  TEWHERE  TUACTDUR  \\\n",
        "0  20140101140007            1            1            1       -1       540   \n",
        "1  20140101140007            1            2            1       -1        60   \n",
        "2  20140101140007            1            1            1       -1       725   \n",
        "3  20140101140007            3            1            1        1        30   \n",
        "4  20140101140007           11            1            1        4        30   \n",
        "5  20140101140007           13            1           16        9        90   \n",
        "6  20140101140007           12            3            3        1        30   \n",
        "7  20140101140007           18           11            1       13        10   \n",
        "8  20140101140007           18           13            1       13        20   \n",
        "9  20140101140007           18           13            1       13        25   \n",
        "\n",
        "  TUSTARTTIM TUSTOPTIME    state  drain_rate  \n",
        "0   04:00:00   13:00:00  passive    -0.43837  \n",
        "1   13:30:00   14:30:00  passive    -0.43837  \n",
        "2   17:55:00   06:00:00  passive    -0.43837  \n",
        "3   13:00:00   13:30:00   active    -0.92658  \n",
        "4   14:40:00   15:10:00   active    -0.92658  \n",
        "5   15:30:00   17:00:00   active    -0.92658  \n",
        "6   17:25:00   17:55:00   active    -0.92658  \n",
        "7   14:30:00   14:40:00   moving    -3.07636  \n",
        "8   15:10:00   15:30:00   moving    -3.07636  \n",
        "9   17:00:00   17:25:00   moving    -3.07636  \n"
       ]
      },
      {
       "output_type": "stream",
       "stream": "stderr",
       "text": [
        "DEBUG:root:After merging, df =          TUCASEID  TUTIER1CODE  TUTIER2CODE  TUTIER3CODE  TEWHERE  TUACTDUR  \\\n",
        "0  20140101140007            1            1            1       -1       540   \n",
        "1  20140101140007            1            2            1       -1        60   \n",
        "2  20140101140007            1            1            1       -1       725   \n",
        "3  20140101140007            3            1            1        1        30   \n",
        "4  20140101140007           11            1            1        4        30   \n",
        "5  20140101140007           13            1           16        9        90   \n",
        "6  20140101140007           12            3            3        1        30   \n",
        "7  20140101140007           18           11            1       13        10   \n",
        "8  20140101140007           18           13            1       13        20   \n",
        "9  20140101140007           18           13            1       13        25   \n",
        "\n",
        "  TUSTARTTIM TUSTOPTIME    state  drain_rate  \n",
        "0   04:00:00   13:00:00  passive   -0.438373  \n",
        "1   13:30:00   14:30:00  passive   -0.438373  \n",
        "2   17:55:00   06:00:00  passive   -0.438373  \n",
        "3   13:00:00   13:30:00   active   -0.795273  \n",
        "4   14:40:00   15:10:00   active   -0.795273  \n",
        "5   15:30:00   17:00:00   active   -0.795273  \n",
        "6   17:25:00   17:55:00   active   -0.795273  \n",
        "7   14:30:00   14:40:00   moving   -1.616738  \n",
        "8   15:10:00   15:30:00   moving   -1.616738  \n",
        "9   17:00:00   17:25:00   moving   -1.616738  \n"
       ]
      },
      {
       "output_type": "stream",
       "stream": "stderr",
       "text": [
        "DEBUG:root:Before setting moving value,      state  drain_rate\n",
        "0   active   -0.643476\n",
        "1   moving         NaN\n",
        "2  passive   -0.381587\n"
       ]
      },
      {
       "output_type": "stream",
       "stream": "stderr",
       "text": [
        "DEBUG:root:After setting moving value,      state  drain_rate\n",
        "0   active   -0.643476\n",
        "1   moving   -6.505240\n",
        "2  passive   -0.381587\n"
       ]
      },
      {
       "output_type": "stream",
       "stream": "stderr",
       "text": [
        "DEBUG:root:After merging, df =          TUCASEID  TUTIER1CODE  TUTIER2CODE  TUTIER3CODE  TEWHERE  TUACTDUR  \\\n",
        "0  20140101140007            1            1            1       -1       540   \n",
        "1  20140101140007            1            2            1       -1        60   \n",
        "2  20140101140007            1            1            1       -1       725   \n",
        "3  20140101140007            3            1            1        1        30   \n",
        "4  20140101140007           11            1            1        4        30   \n",
        "5  20140101140007           13            1           16        9        90   \n",
        "6  20140101140007           12            3            3        1        30   \n",
        "7  20140101140007           18           11            1       13        10   \n",
        "8  20140101140007           18           13            1       13        20   \n",
        "9  20140101140007           18           13            1       13        25   \n",
        "\n",
        "  TUSTARTTIM TUSTOPTIME    state  drain_rate  \n",
        "0   04:00:00   13:00:00  passive   -0.381587  \n",
        "1   13:30:00   14:30:00  passive   -0.381587  \n",
        "2   17:55:00   06:00:00  passive   -0.381587  \n",
        "3   13:00:00   13:30:00   active   -0.643476  \n",
        "4   14:40:00   15:10:00   active   -0.643476  \n",
        "5   15:30:00   17:00:00   active   -0.643476  \n",
        "6   17:25:00   17:55:00   active   -0.643476  \n",
        "7   14:30:00   14:40:00   moving   -6.505240  \n",
        "8   15:10:00   15:30:00   moving   -6.505240  \n",
        "9   17:00:00   17:25:00   moving   -6.505240  \n"
       ]
      },
      {
       "output_type": "stream",
       "stream": "stderr",
       "text": [
        "DEBUG:root:Before setting moving value,      state  drain_rate\n",
        "0   active   -0.643476\n",
        "1   moving         NaN\n",
        "2  passive   -0.381587\n"
       ]
      },
      {
       "output_type": "stream",
       "stream": "stderr",
       "text": [
        "DEBUG:root:After setting moving value,      state  drain_rate\n",
        "0   active   -0.643476\n",
        "1   moving   -3.076360\n",
        "2  passive   -0.381587\n"
       ]
      },
      {
       "output_type": "stream",
       "stream": "stderr",
       "text": [
        "DEBUG:root:After merging, df =          TUCASEID  TUTIER1CODE  TUTIER2CODE  TUTIER3CODE  TEWHERE  TUACTDUR  \\\n",
        "0  20140101140007            1            1            1       -1       540   \n",
        "1  20140101140007            1            2            1       -1        60   \n",
        "2  20140101140007            1            1            1       -1       725   \n",
        "3  20140101140007            3            1            1        1        30   \n",
        "4  20140101140007           11            1            1        4        30   \n",
        "5  20140101140007           13            1           16        9        90   \n",
        "6  20140101140007           12            3            3        1        30   \n",
        "7  20140101140007           18           11            1       13        10   \n",
        "8  20140101140007           18           13            1       13        20   \n",
        "9  20140101140007           18           13            1       13        25   \n",
        "\n",
        "  TUSTARTTIM TUSTOPTIME    state  drain_rate  \n",
        "0   04:00:00   13:00:00  passive   -0.381587  \n",
        "1   13:30:00   14:30:00  passive   -0.381587  \n",
        "2   17:55:00   06:00:00  passive   -0.381587  \n",
        "3   13:00:00   13:30:00   active   -0.643476  \n",
        "4   14:40:00   15:10:00   active   -0.643476  \n",
        "5   15:30:00   17:00:00   active   -0.643476  \n",
        "6   17:25:00   17:55:00   active   -0.643476  \n",
        "7   14:30:00   14:40:00   moving   -3.076360  \n",
        "8   15:10:00   15:30:00   moving   -3.076360  \n",
        "9   17:00:00   17:25:00   moving   -3.076360  \n"
       ]
      },
      {
       "output_type": "stream",
       "stream": "stderr",
       "text": [
        "DEBUG:root:Before setting moving value,      state  drain_rate\n",
        "0   active   -0.643476\n",
        "1   moving         NaN\n",
        "2  passive   -0.381587\n"
       ]
      },
      {
       "output_type": "stream",
       "stream": "stderr",
       "text": [
        "DEBUG:root:After setting moving value,      state  drain_rate\n",
        "0   active   -0.643476\n",
        "1   moving   -1.616738\n",
        "2  passive   -0.381587\n"
       ]
      },
      {
       "output_type": "stream",
       "stream": "stderr",
       "text": [
        "DEBUG:root:After merging, df =          TUCASEID  TUTIER1CODE  TUTIER2CODE  TUTIER3CODE  TEWHERE  TUACTDUR  \\\n",
        "0  20140101140007            1            1            1       -1       540   \n",
        "1  20140101140007            1            2            1       -1        60   \n",
        "2  20140101140007            1            1            1       -1       725   \n",
        "3  20140101140007            3            1            1        1        30   \n",
        "4  20140101140007           11            1            1        4        30   \n",
        "5  20140101140007           13            1           16        9        90   \n",
        "6  20140101140007           12            3            3        1        30   \n",
        "7  20140101140007           18           11            1       13        10   \n",
        "8  20140101140007           18           13            1       13        20   \n",
        "9  20140101140007           18           13            1       13        25   \n",
        "\n",
        "  TUSTARTTIM TUSTOPTIME    state  drain_rate  \n",
        "0   04:00:00   13:00:00  passive   -0.381587  \n",
        "1   13:30:00   14:30:00  passive   -0.381587  \n",
        "2   17:55:00   06:00:00  passive   -0.381587  \n",
        "3   13:00:00   13:30:00   active   -0.643476  \n",
        "4   14:40:00   15:10:00   active   -0.643476  \n",
        "5   15:30:00   17:00:00   active   -0.643476  \n",
        "6   17:25:00   17:55:00   active   -0.643476  \n",
        "7   14:30:00   14:40:00   moving   -1.616738  \n",
        "8   15:10:00   15:30:00   moving   -1.616738  \n",
        "9   17:00:00   17:25:00   moving   -1.616738  \n"
       ]
      },
      {
       "output_type": "stream",
       "stream": "stdout",
       "text": [
        "Returning power data {'geo-nomass': -11.83915075, 'geo-nohafs': -16.320277583333333, 'nd': -10.797093000000002, 'nomass': -13.548565916666666, 'nomafs': -15.280407499999999, 'geo-nomafs': -13.177137583333332, 'nohafs': -126.76021416666667} \n"
       ]
      },
      {
       "metadata": {},
       "output_type": "pyout",
       "prompt_number": 182,
       "text": [
        "{'geo-nohafs': -16.320277583333333,\n",
        " 'geo-nomafs': -13.177137583333332,\n",
        " 'geo-nomass': -11.83915075,\n",
        " 'nd': -10.797093000000002,\n",
        " 'nohafs': -126.76021416666667,\n",
        " 'nomafs': -15.280407499999999,\n",
        " 'nomass': -13.548565916666666}"
       ]
      }
     ],
     "prompt_number": 182
    },
    {
     "cell_type": "code",
     "collapsed": false,
     "input": [
      "android_power_drain_dicts = []\n",
      "for user in sel_user_list:\n",
      "    user_df = atus_data_df[atus_data_df.TUCASEID == user]\n",
      "    android_power_drain_dict = ap.get_power_drain_for_regimes(user_df, android_model)\n",
      "    print android_power_drain_dict\n",
      "    android_power_drain_dicts.append(android_power_drain_dict)\n",
      "android_power_drain_df = pd.DataFrame(android_power_drain_dicts)"
     ],
     "language": "python",
     "metadata": {},
     "outputs": [
      {
       "output_type": "stream",
       "stream": "stdout",
       "text": [
        "Returning power data {'geo-nomass': -11.83915075, 'geo-nohafs': -16.320277583333333, 'nd': -10.797093000000002, 'nomass': -13.548565916666666, 'nomafs': -15.280407499999999, 'geo-nomafs': -13.177137583333332, 'nohafs': -126.76021416666667} \n",
        "{'geo-nomass': -11.83915075, 'geo-nohafs': -16.320277583333333, 'nd': -10.797093000000002, 'nomass': -13.548565916666666, 'nomafs': -15.280407499999999, 'geo-nomafs': -13.177137583333332, 'nohafs': -126.76021416666667}\n",
        "Returning power data {'geo-nomass': -15.2383945, 'geo-nohafs': -22.571147500000002, 'nd': -12.1437615, 'nomass': -17.845682, 'nomafs': -21.676414999999999, 'geo-nomafs': -17.427827499999999, 'nohafs': -134.64936} "
       ]
      },
      {
       "output_type": "stream",
       "stream": "stdout",
       "text": [
        "\n",
        "{'geo-nomass': -15.2383945, 'geo-nohafs': -22.571147500000002, 'nd': -12.1437615, 'nomass': -17.845682, 'nomafs': -21.676414999999999, 'geo-nomafs': -17.427827499999999, 'nohafs': -134.64936}\n",
        "Returning power data {'geo-nomass': -12.628117250000001, 'geo-nohafs': -12.628117250000001, 'nd': -10.202824000000001, 'nomass': -15.249876999999998, 'nomafs': -16.989662500000001, 'geo-nomafs': -12.628117250000001, 'nohafs': -120.48676500000001} "
       ]
      },
      {
       "output_type": "stream",
       "stream": "stdout",
       "text": [
        "\n",
        "{'geo-nomass': -12.628117250000001, 'geo-nohafs': -12.628117250000001, 'nd': -10.202824000000001, 'nomass': -15.249876999999998, 'nomafs': -16.989662500000001, 'geo-nomafs': -12.628117250000001, 'nohafs': -120.48676500000001}\n",
        "Returning power data {'geo-nomass': -12.101398666666668, 'geo-nohafs': -13.730899333333335, 'nd': -10.152753333333335, 'nomass': -14.363773666666667, 'nomafs': -16.119573333333332, 'geo-nomafs': -12.587939333333335, 'nohafs': -119.37476333333333} "
       ]
      },
      {
       "output_type": "stream",
       "stream": "stdout",
       "text": [
        "\n",
        "{'geo-nomass': -12.101398666666668, 'geo-nohafs': -13.730899333333335, 'nd': -10.152753333333335, 'nomass': -14.363773666666667, 'nomafs': -16.119573333333332, 'geo-nomafs': -12.587939333333335, 'nohafs': -119.37476333333333}\n",
        "Returning power data {'geo-nomass': -13.415592499999999, 'geo-nohafs': -13.415592499999999, 'nd': -11.173340250000001, 'nomass': -16.098502749999998, 'nomafs': -17.706969999999998, 'geo-nomafs': -13.415592499999999, 'nohafs': -133.10207249999999} "
       ]
      },
      {
       "output_type": "stream",
       "stream": "stdout",
       "text": [
        "\n",
        "{'geo-nomass': -13.415592499999999, 'geo-nohafs': -13.415592499999999, 'nd': -11.173340250000001, 'nomass': -16.098502749999998, 'nomafs': -17.706969999999998, 'geo-nomafs': -13.415592499999999, 'nohafs': -133.10207249999999}\n"
       ]
      }
     ],
     "prompt_number": 186
    },
    {
     "cell_type": "code",
     "collapsed": false,
     "input": [
      "android_power_drain_df.head()"
     ],
     "language": "python",
     "metadata": {},
     "outputs": [
      {
       "html": [
        "<div style=\"max-width:1500px;overflow:auto;\">\n",
        "<table border=\"1\" class=\"dataframe\">\n",
        "  <thead>\n",
        "    <tr style=\"text-align: right;\">\n",
        "      <th></th>\n",
        "      <th>geo-nohafs</th>\n",
        "      <th>geo-nomafs</th>\n",
        "      <th>geo-nomass</th>\n",
        "      <th>nd</th>\n",
        "      <th>nohafs</th>\n",
        "      <th>nomafs</th>\n",
        "      <th>nomass</th>\n",
        "    </tr>\n",
        "  </thead>\n",
        "  <tbody>\n",
        "    <tr>\n",
        "      <th>0</th>\n",
        "      <td>-16.320278</td>\n",
        "      <td>-13.177138</td>\n",
        "      <td>-11.839151</td>\n",
        "      <td>-10.797093</td>\n",
        "      <td>-126.760214</td>\n",
        "      <td>-15.280407</td>\n",
        "      <td>-13.548566</td>\n",
        "    </tr>\n",
        "    <tr>\n",
        "      <th>1</th>\n",
        "      <td>-22.571148</td>\n",
        "      <td>-17.427827</td>\n",
        "      <td>-15.238395</td>\n",
        "      <td>-12.143762</td>\n",
        "      <td>-134.649360</td>\n",
        "      <td>-21.676415</td>\n",
        "      <td>-17.845682</td>\n",
        "    </tr>\n",
        "    <tr>\n",
        "      <th>2</th>\n",
        "      <td>-12.628117</td>\n",
        "      <td>-12.628117</td>\n",
        "      <td>-12.628117</td>\n",
        "      <td>-10.202824</td>\n",
        "      <td>-120.486765</td>\n",
        "      <td>-16.989663</td>\n",
        "      <td>-15.249877</td>\n",
        "    </tr>\n",
        "    <tr>\n",
        "      <th>3</th>\n",
        "      <td>-13.730899</td>\n",
        "      <td>-12.587939</td>\n",
        "      <td>-12.101399</td>\n",
        "      <td>-10.152753</td>\n",
        "      <td>-119.374763</td>\n",
        "      <td>-16.119573</td>\n",
        "      <td>-14.363774</td>\n",
        "    </tr>\n",
        "    <tr>\n",
        "      <th>4</th>\n",
        "      <td>-13.415592</td>\n",
        "      <td>-13.415592</td>\n",
        "      <td>-13.415592</td>\n",
        "      <td>-11.173340</td>\n",
        "      <td>-133.102072</td>\n",
        "      <td>-17.706970</td>\n",
        "      <td>-16.098503</td>\n",
        "    </tr>\n",
        "  </tbody>\n",
        "</table>\n",
        "</div>"
       ],
       "metadata": {},
       "output_type": "pyout",
       "prompt_number": 187,
       "text": [
        "   geo-nohafs  geo-nomafs  geo-nomass         nd      nohafs     nomafs  \\\n",
        "0  -16.320278  -13.177138  -11.839151 -10.797093 -126.760214 -15.280407   \n",
        "1  -22.571148  -17.427827  -15.238395 -12.143762 -134.649360 -21.676415   \n",
        "2  -12.628117  -12.628117  -12.628117 -10.202824 -120.486765 -16.989663   \n",
        "3  -13.730899  -12.587939  -12.101399 -10.152753 -119.374763 -16.119573   \n",
        "4  -13.415592  -13.415592  -13.415592 -11.173340 -133.102072 -17.706970   \n",
        "\n",
        "      nomass  \n",
        "0 -13.548566  \n",
        "1 -17.845682  \n",
        "2 -15.249877  \n",
        "3 -14.363774  \n",
        "4 -16.098503  "
       ]
      }
     ],
     "prompt_number": 187
    },
    {
     "cell_type": "code",
     "collapsed": false,
     "input": [
      "fig, ax = plt.subplots(nrows=1, ncols=1, figsize=(15,3))\n",
      "android_power_drain_df.boxplot(ax=ax, return_type=\"axes\")"
     ],
     "language": "python",
     "metadata": {},
     "outputs": [
      {
       "metadata": {},
       "output_type": "pyout",
       "prompt_number": 198,
       "text": [
        "<matplotlib.axes.AxesSubplot at 0x1134d1ed0>"
       ]
      },
      {
       "metadata": {},
       "output_type": "display_data",
       "png": "[encoded data removed]",
       "text": [
        "<matplotlib.figure.Figure at 0x113283f10>"
       ]
      }
     ],
     "prompt_number": 198
    },
    {
     "cell_type": "code",
     "collapsed": false,
     "input": [
      "fig, ax = plt.subplots(nrows=1, ncols=1, figsize=(15,3))\n",
      "android_power_drain_df.drop(\"nohafs\", axis=1).boxplot(figsize=(15,3), return_type=\"axes\")"
     ],
     "language": "python",
     "metadata": {},
     "outputs": [
      {
       "metadata": {},
       "output_type": "pyout",
       "prompt_number": 199,
       "text": [
        "<matplotlib.axes.AxesSubplot at 0x1137e1650>"
       ]
      },
      {
       "metadata": {},
       "output_type": "display_data",
       "png": "[encoded data removed]",
       "text": [
        "<matplotlib.figure.Figure at 0x1137ed050>"
       ]
      }
     ],
     "prompt_number": 199
    },
    {
     "cell_type": "heading",
     "level": 2,
     "metadata": {},
     "source": [
      "Let's redo with a random subset of users"
     ]
    },
    {
     "cell_type": "code",
     "collapsed": false,
     "input": [
      "sel_user_list = np.random.choice(user_list, 100, replace=False)"
     ],
     "language": "python",
     "metadata": {},
     "outputs": [],
     "prompt_number": 206
    },
    {
     "cell_type": "code",
     "collapsed": false,
     "input": [
      "android_power_drain_dicts = []\n",
      "for user in sel_user_list:\n",
      "    user_df = atus_data_df[atus_data_df.TUCASEID == user]\n",
      "    android_power_drain_dict = ap.get_power_drain_for_regimes(user_df, android_model)\n",
      "    print android_power_drain_dict\n",
      "    android_power_drain_dicts.append(android_power_drain_dict)\n",
      "android_power_drain_df = pd.DataFrame(android_power_drain_dicts)"
     ],
     "language": "python",
     "metadata": {},
     "outputs": [
      {
       "output_type": "stream",
       "stream": "stdout",
       "text": [
        "Returning power data {'nomass': -19.044895, 'geo-mass': -16.584212749999999, 'nomafs': -25.097897499999998, 'nd': -12.637199000000001, 'geo-hafs': -31.249718750000003, 'geo-mafs': -20.963078750000001, 'nohafs': -130.247535} \n",
        "{'nomass': -19.044895, 'geo-mass': -16.584212749999999, 'nomafs': -25.097897499999998, 'nd': -12.637199000000001, 'geo-hafs': -31.249718750000003, 'geo-mafs': -20.963078750000001, 'nohafs': -130.247535}\n",
        "Returning power data {'nomass': -17.895619, 'geo-mass': -14.80918775, 'nomafs': -19.9636675, 'nd': -11.926292, 'geo-hafs': -14.80918775, 'geo-mafs': -14.80918775, 'nohafs': -140.70577500000002} "
       ]
      },
      {
       "output_type": "stream",
       "stream": "stdout",
       "text": [
        "\n",
        "{'nomass': -17.895619, 'geo-mass': -14.80918775, 'nomafs': -19.9636675, 'nd': -11.926292, 'geo-hafs': -14.80918775, 'geo-mafs': -14.80918775, 'nohafs': -140.70577500000002}\n",
        "Returning power data {'nomass': -15.152900000000001, 'geo-mass': -12.616870749999999, 'nomafs': -16.695717500000001, 'nd': -10.466139, 'geo-hafs': -12.616870749999999, 'geo-mafs': -12.616870749999999, 'nohafs': -124.536945} "
       ]
      },
      {
       "output_type": "stream",
       "stream": "stdout",
       "text": [
        "\n",
        "{'nomass': -15.152900000000001, 'geo-mass': -12.616870749999999, 'nomafs': -16.695717500000001, 'nd': -10.466139, 'geo-hafs': -12.616870749999999, 'geo-mafs': -12.616870749999999, 'nohafs': -124.536945}\n",
        "Returning power data {'nomass': -14.966697999999999, 'geo-mass': -12.540152000000001, 'nomafs': -16.279719999999998, 'nd': -10.709742, 'geo-hafs': -12.540152000000001, 'geo-mafs': -12.540152000000001, 'nohafs': -128.46894} "
       ]
      },
      {
       "output_type": "stream",
       "stream": "stdout",
       "text": [
        "\n",
        "{'nomass': -14.966697999999999, 'geo-mass': -12.540152000000001, 'nomafs': -16.279719999999998, 'nd': -10.709742, 'geo-hafs': -12.540152000000001, 'geo-mafs': -12.540152000000001, 'nohafs': -128.46894}\n",
        "Returning power data {'nomass': -19.813590750000003, 'geo-mass': -17.171815166666669, 'nomafs': -24.905708333333326, 'nd': -13.691021333333333, 'geo-hafs': -28.985695000000003, 'geo-mafs': -20.699234999999998, 'nohafs': -147.87227416666664} "
       ]
      },
      {
       "output_type": "stream",
       "stream": "stdout",
       "text": [
        "\n",
        "{'nomass': -19.813590750000003, 'geo-mass': -17.171815166666669, 'nomafs': -24.905708333333326, 'nd': -13.691021333333333, 'geo-hafs': -28.985695000000003, 'geo-mafs': -20.699234999999998, 'nohafs': -147.87227416666664}\n",
        "Returning power data {'nomass': -15.777475000000001, 'geo-mass': -13.075176499999998, 'nomafs': -17.550084999999999, 'nd': -10.604123000000001, 'geo-hafs': -13.075176499999998, 'geo-mafs': -13.075176499999998, 'nohafs': -125.36424} "
       ]
      },
      {
       "output_type": "stream",
       "stream": "stdout",
       "text": [
        "\n",
        "{'nomass': -15.777475000000001, 'geo-mass': -13.075176499999998, 'nomafs': -17.550084999999999, 'nd': -10.604123000000001, 'geo-hafs': -13.075176499999998, 'geo-mafs': -13.075176499999998, 'nohafs': -125.36424}\n",
        "Returning power data {'nomass': -18.331336416666666, 'geo-mass': -15.987963083333334, 'nomafs': -23.811524166666661, 'nd': -12.465201, 'geo-hafs': -29.431343583333334, 'geo-mafs': -20.001923583333333, 'nohafs': -130.64897249999999} "
       ]
      },
      {
       "output_type": "stream",
       "stream": "stdout",
       "text": [
        "\n",
        "{'nomass': -18.331336416666666, 'geo-mass': -15.987963083333334, 'nomafs': -23.811524166666661, 'nd': -12.465201, 'geo-hafs': -29.431343583333334, 'geo-mafs': -20.001923583333333, 'nohafs': -130.64897249999999}\n",
        "Returning power data {'nomass': -17.423975416666664, 'geo-mass': -14.649257966666669, 'nomafs': -19.997690333333328, 'nd': -11.934684433333336, 'geo-hafs': -17.500884133333333, 'geo-mafs': -15.500704133333333, 'nohafs': -138.09971883333333} "
       ]
      },
      {
       "output_type": "stream",
       "stream": "stdout",
       "text": [
        "\n",
        "{'nomass': -17.423975416666664, 'geo-mass': -14.649257966666669, 'nomafs': -19.997690333333328, 'nd': -11.934684433333336, 'geo-hafs': -17.500884133333333, 'geo-mafs': -15.500704133333333, 'nohafs': -138.09971883333333}\n",
        "Returning power data {'nomass': -18.896465833333334, 'geo-mass': -15.753536383333334, 'nomafs': -21.914191166666662, 'nd': -12.395079066666668, 'geo-hafs': -18.523687516666669, 'geo-mafs': -16.580655516666663, 'nohafs': -142.13637066666666} "
       ]
      },
      {
       "output_type": "stream",
       "stream": "stdout",
       "text": [
        "\n",
        "{'nomass': -18.896465833333334, 'geo-mass': -15.753536383333334, 'nomafs': -21.914191166666662, 'nd': -12.395079066666668, 'geo-hafs': -18.523687516666669, 'geo-mafs': -16.580655516666663, 'nohafs': -142.13637066666666}\n",
        "Returning power data {'nomass': -18.367936, 'geo-mass': -15.466335000000001, 'nomafs': -21.797130000000003, 'nd': -12.182973000000002, 'geo-hafs': -20.354837, 'geo-mafs': -16.925957, 'nohafs': -137.33788000000001} "
       ]
      },
      {
       "output_type": "stream",
       "stream": "stdout",
       "text": [
        "\n",
        "{'nomass': -18.367936, 'geo-mass': -15.466335000000001, 'nomafs': -21.797130000000003, 'nd': -12.182973000000002, 'geo-hafs': -20.354837, 'geo-mafs': -16.925957, 'nohafs': -137.33788000000001}\n",
        "Returning power data {'nomass': -15.164796666666666, 'geo-mass': -12.625600383333333, 'nomafs': -16.711991166666667, 'nd': -10.468767266666667, 'geo-hafs': -12.625600383333333, 'geo-mafs': -12.625600383333333, 'nohafs': -124.55270300000001} "
       ]
      },
      {
       "output_type": "stream",
       "stream": "stdout",
       "text": [
        "\n",
        "{'nomass': -15.164796666666666, 'geo-mass': -12.625600383333333, 'nomafs': -16.711991166666667, 'nd': -10.468767266666667, 'geo-hafs': -12.625600383333333, 'geo-mafs': -12.625600383333333, 'nohafs': -124.55270300000001}\n",
        "Returning power data {'nomass': -18.652763999999998, 'geo-mass': -15.830381933333335, 'nomafs': -21.634480666666665, 'nd': -13.070979066666666, 'geo-hafs': -20.392983800000003, 'geo-mafs': -17.192695800000003, 'nohafs': -150.23871333333335} "
       ]
      },
      {
       "output_type": "stream",
       "stream": "stdout",
       "text": [
        "\n",
        "{'nomass': -18.652763999999998, 'geo-mass': -15.830381933333335, 'nomafs': -21.634480666666665, 'nd': -13.070979066666666, 'geo-hafs': -20.392983800000003, 'geo-mafs': -17.192695800000003, 'nohafs': -150.23871333333335}\n",
        "Returning power data {'nomass': -16.120891499999999, 'geo-mass': -13.3784016, 'nomafs': -18.488963999999999, 'nd': -10.526374800000001, 'geo-hafs': -14.8449522, 'geo-mafs': -13.816288199999997, 'nohafs': -121.69602299999998} "
       ]
      },
      {
       "output_type": "stream",
       "stream": "stdout",
       "text": [
        "\n",
        "{'nomass': -16.120891499999999, 'geo-mass': -13.3784016, 'nomafs': -18.488963999999999, 'nd': -10.526374800000001, 'geo-hafs': -14.8449522, 'geo-mafs': -13.816288199999997, 'nohafs': -121.69602299999998}\n",
        "Returning power data {'nomass': -17.076949333333332, 'geo-mass': -14.395530683333332, 'nomafs': -19.689138166666666, 'nd': -11.752070866666665, 'geo-hafs': -17.654532016666664, 'geo-mafs': -15.368612016666665, 'nohafs': -135.56616766666667} "
       ]
      },
      {
       "output_type": "stream",
       "stream": "stdout",
       "text": [
        "\n",
        "{'nomass': -17.076949333333332, 'geo-mass': -14.395530683333332, 'nomafs': -19.689138166666666, 'nd': -11.752070866666665, 'geo-hafs': -17.654532016666664, 'geo-mafs': -15.368612016666665, 'nohafs': -135.56616766666667}\n",
        "Returning power data {'nomass': -17.069880083333331, 'geo-mass': -14.361302666666667, 'nomafs': -19.926263333333331, 'nd': -11.502192333333333, 'geo-hafs': -18.027679166666665, 'geo-mafs': -15.456019166666666, 'nohafs': -131.3935975} "
       ]
      },
      {
       "output_type": "stream",
       "stream": "stdout",
       "text": [
        "\n",
        "{'nomass': -17.069880083333331, 'geo-mass': -14.361302666666667, 'nomafs': -19.926263333333331, 'nd': -11.502192333333333, 'geo-hafs': -18.027679166666665, 'geo-mafs': -15.456019166666666, 'nohafs': -131.3935975}\n",
        "Returning power data {'nomass': -18.270908250000002, 'geo-mass': -15.650131700000003, 'nomafs': -22.697862999999998, 'nd': -12.2483106, 'geo-hafs': -24.693860400000002, 'geo-mafs': -18.350432399999999, 'nohafs': -133.18807849999999} "
       ]
      },
      {
       "output_type": "stream",
       "stream": "stdout",
       "text": [
        "\n",
        "{'nomass': -18.270908250000002, 'geo-mass': -15.650131700000003, 'nomafs': -22.697862999999998, 'nd': -12.2483106, 'geo-hafs': -24.693860400000002, 'geo-mafs': -18.350432399999999, 'nohafs': -133.18807849999999}\n",
        "Returning power data {'nomass': -18.791890583333334, 'geo-mass': -16.274802050000002, 'nomafs': -24.545389499999999, 'nd': -12.346109483333333, 'geo-hafs': -29.636707516666668, 'geo-mafs': -20.264435516666673, 'nohafs': -128.12194983333336} "
       ]
      },
      {
       "output_type": "stream",
       "stream": "stdout",
       "text": [
        "\n",
        "{'nomass': -18.791890583333334, 'geo-mass': -16.274802050000002, 'nomafs': -24.545389499999999, 'nd': -12.346109483333333, 'geo-hafs': -29.636707516666668, 'geo-mafs': -20.264435516666673, 'nohafs': -128.12194983333336}\n",
        "Returning power data {'nomass': -19.198050166666665, 'geo-mass': -16.648911583333334, 'nomafs': -24.929914166666663, 'nd': -12.77532091666667, 'geo-hafs': -30.092292083333337, 'geo-mafs': -20.662872083333333, 'nohafs': -133.538095} "
       ]
      },
      {
       "output_type": "stream",
       "stream": "stdout",
       "text": [
        "\n",
        "{'nomass': -19.198050166666665, 'geo-mass': -16.648911583333334, 'nomafs': -24.929914166666663, 'nd': -12.77532091666667, 'geo-hafs': -30.092292083333337, 'geo-mafs': -20.662872083333333, 'nohafs': -133.538095}\n",
        "Returning power data {'nomass': -18.573173083333337, 'geo-mass': -15.778393533333336, 'nomafs': -22.688664666666657, 'nd': -12.311766766666667, 'geo-hafs': -23.192621566666666, 'geo-mafs': -17.992153566666659, 'nohafs': -135.61606016666661} "
       ]
      },
      {
       "output_type": "stream",
       "stream": "stdout",
       "text": [
        "\n",
        "{'nomass': -18.573173083333337, 'geo-mass': -15.778393533333336, 'nomafs': -22.688664666666657, 'nd': -12.311766766666667, 'geo-hafs': -23.192621566666666, 'geo-mafs': -17.992153566666659, 'nohafs': -135.61606016666661}\n",
        "Returning power data {'nomass': -16.586662750000002, 'geo-mass': -14.020785666666669, 'nomafs': -19.058788333333329, 'nd': -11.572569583333333, 'geo-hafs': -17.279786999999999, 'geo-mafs': -14.993866999999995, 'nohafs': -133.87208916666663} "
       ]
      },
      {
       "output_type": "stream",
       "stream": "stdout",
       "text": [
        "\n",
        "{'nomass': -16.586662750000002, 'geo-mass': -14.020785666666669, 'nomafs': -19.058788333333329, 'nd': -11.572569583333333, 'geo-hafs': -17.279786999999999, 'geo-mafs': -14.993866999999995, 'nohafs': -133.87208916666663}\n",
        "Returning power data {'nomass': -17.042161166666666, 'geo-mass': -14.3400465, 'nomafs': -19.722194999999999, 'nd': -11.6020155, 'geo-hafs': -17.599047833333337, 'geo-mafs': -15.313127833333334, 'nohafs': -133.43077166666666} "
       ]
      },
      {
       "output_type": "stream",
       "stream": "stdout",
       "text": [
        "\n",
        "{'nomass': -17.042161166666666, 'geo-mass': -14.3400465, 'nomafs': -19.722194999999999, 'nd': -11.6020155, 'geo-hafs': -17.599047833333337, 'geo-mafs': -15.313127833333334, 'nohafs': -133.43077166666666}\n",
        "Returning power data {'nomass': -18.148154416666671, 'geo-mass': -15.424213466666671, 'nomafs': -22.153715333333324, 'nd': -12.060930733333334, 'geo-hafs': -22.675491433333335, 'geo-mafs': -17.58931943333333, 'nohafs': -132.95760483333333} "
       ]
      },
      {
       "output_type": "stream",
       "stream": "stdout",
       "text": [
        "\n",
        "{'nomass': -18.148154416666671, 'geo-mass': -15.424213466666671, 'nomafs': -22.153715333333324, 'nd': -12.060930733333334, 'geo-hafs': -22.675491433333335, 'geo-mafs': -17.58931943333333, 'nohafs': -132.95760483333333}\n",
        "Returning power data {'nomass': -16.509219166666664, 'geo-mass': -13.673868500000001, 'nomafs': -18.722065000000001, 'nd': -10.838629000000003, 'geo-hafs': -14.488618833333334, 'geo-mafs': -13.917138833333333, 'nohafs': -126.36434166666666} "
       ]
      },
      {
       "output_type": "stream",
       "stream": "stdout",
       "text": [
        "\n",
        "{'nomass': -16.509219166666664, 'geo-mass': -13.673868500000001, 'nomafs': -18.722065000000001, 'nd': -10.838629000000003, 'geo-hafs': -14.488618833333334, 'geo-mafs': -13.917138833333333, 'nohafs': -126.36434166666666}\n",
        "Returning power data {'nomass': -18.499195999999998, 'geo-mass': -15.809639166666667, 'nomafs': -22.66073833333332, 'nd': -12.503354333333334, 'geo-hafs': -23.957142500000003, 'geo-mafs': -18.242342499999999, 'nohafs': -137.6351566666666} "
       ]
      },
      {
       "output_type": "stream",
       "stream": "stdout",
       "text": [
        "\n",
        "{'nomass': -18.499195999999998, 'geo-mass': -15.809639166666667, 'nomafs': -22.66073833333332, 'nd': -12.503354333333334, 'geo-hafs': -23.957142500000003, 'geo-mafs': -18.242342499999999, 'nohafs': -137.6351566666666}\n",
        "Returning power data {'nomass': -16.724216333333331, 'geo-mass': -14.064966916666666, 'nomafs': -19.06249583333333, 'nd': -11.553841166666668, 'geo-hafs': -16.509217916666667, 'geo-mafs': -14.794777916666668, 'nohafs': -134.37165499999998} "
       ]
      },
      {
       "output_type": "stream",
       "stream": "stdout",
       "text": [
        "\n",
        "{'nomass': -16.724216333333331, 'geo-mass': -14.064966916666666, 'nomafs': -19.06249583333333, 'nd': -11.553841166666668, 'geo-hafs': -16.509217916666667, 'geo-mafs': -14.794777916666668, 'nohafs': -134.37165499999998}\n",
        "Returning power data {'nomass': -17.249550166666669, 'geo-mass': -14.583929916666669, 'nomafs': -20.096255833333338, 'nd': -11.863048333333335, 'geo-hafs': -18.657681583333336, 'geo-mafs': -15.800281583333334, 'nohafs': -135.82564333333337} "
       ]
      },
      {
       "output_type": "stream",
       "stream": "stdout",
       "text": [
        "\n",
        "{'nomass': -17.249550166666669, 'geo-mass': -14.583929916666669, 'nomafs': -20.096255833333338, 'nd': -11.863048333333335, 'geo-hafs': -18.657681583333336, 'geo-mafs': -15.800281583333334, 'nohafs': -135.82564333333337}\n",
        "Returning power data {'nomass': -17.68597883333333, 'geo-mass': -15.091249166666667, 'nomafs': -21.538598333333333, 'nd': -11.966109333333332, 'geo-hafs': -22.424002166666668, 'geo-mafs': -17.280682166666665, 'nohafs': -132.34850499999999} "
       ]
      },
      {
       "output_type": "stream",
       "stream": "stdout",
       "text": [
        "\n",
        "{'nomass': -17.68597883333333, 'geo-mass': -15.091249166666667, 'nomafs': -21.538598333333333, 'nd': -11.966109333333332, 'geo-hafs': -22.424002166666668, 'geo-mafs': -17.280682166666665, 'nohafs': -132.34850499999999}\n",
        "Returning power data {'nomass': -20.586694166666664, 'geo-mass': -18.00302756666667, 'nomafs': -27.512264333333331, 'nd': -13.638036033333334, 'geo-hafs': -35.275734633333336, 'geo-mafs': -23.160358633333342, 'nohafs': -138.65644033333334} "
       ]
      },
      {
       "output_type": "stream",
       "stream": "stdout",
       "text": [
        "\n",
        "{'nomass': -20.586694166666664, 'geo-mass': -18.00302756666667, 'nomafs': -27.512264333333331, 'nd': -13.638036033333334, 'geo-hafs': -35.275734633333336, 'geo-mafs': -23.160358633333342, 'nohafs': -138.65644033333334}\n",
        "Returning power data {'nomass': -17.892355333333334, 'geo-mass': -15.301006966666668, 'nomafs': -22.473270333333332, 'nd': -11.759423233333333, 'geo-hafs': -24.589160766666666, 'geo-mafs': -18.074288766666665, 'nohafs': -126.427964} "
       ]
      },
      {
       "output_type": "stream",
       "stream": "stdout",
       "text": [
        "\n",
        "{'nomass': -17.892355333333334, 'geo-mass': -15.301006966666668, 'nomafs': -22.473270333333332, 'nd': -11.759423233333333, 'geo-hafs': -24.589160766666666, 'geo-mafs': -18.074288766666665, 'nohafs': -126.427964}\n",
        "Returning power data {'nomass': -20.654683666666664, 'geo-mass': -18.164061666666669, 'nomafs': -27.913093333333329, 'nd': -13.784178833333334, 'geo-hafs': -36.903319333333336, 'geo-mafs': -23.759279333333332, 'nohafs': -138.80203333333333} "
       ]
      },
      {
       "output_type": "stream",
       "stream": "stdout",
       "text": [
        "\n",
        "{'nomass': -20.654683666666664, 'geo-mass': -18.164061666666669, 'nomafs': -27.913093333333329, 'nd': -13.784178833333334, 'geo-hafs': -36.903319333333336, 'geo-mafs': -23.759279333333332, 'nohafs': -138.80203333333333}\n",
        "Returning power data {'nomass': -17.61452508333333, 'geo-mass': -14.619735583333336, 'nomafs': -19.871134166666664, 'nd': -11.72348241666667, 'geo-hafs': -15.434485916666668, 'geo-mafs': -14.863005916666667, 'nohafs': -137.23032416666666} "
       ]
      },
      {
       "output_type": "stream",
       "stream": "stdout",
       "text": [
        "\n",
        "{'nomass': -17.61452508333333, 'geo-mass': -14.619735583333336, 'nomafs': -19.871134166666664, 'nd': -11.72348241666667, 'geo-hafs': -15.434485916666668, 'geo-mafs': -14.863005916666667, 'nohafs': -137.23032416666666}\n",
        "Returning power data {'nomass': -17.628100833333335, 'geo-mass': -14.865371333333332, 'nomafs': -21.278686666666665, 'nd': -11.522891666666666, 'geo-hafs': -20.568623666666667, 'geo-mafs': -16.568263666666667, 'nohafs': -128.03150166666668} "
       ]
      },
      {
       "output_type": "stream",
       "stream": "stdout",
       "text": [
        "\n",
        "{'nomass': -17.628100833333335, 'geo-mass': -14.865371333333332, 'nomafs': -21.278686666666665, 'nd': -11.522891666666666, 'geo-hafs': -20.568623666666667, 'geo-mafs': -16.568263666666667, 'nohafs': -128.03150166666668}\n",
        "Returning power data {'nomass': -18.053377833333332, 'geo-mass': -15.082065333333334, 'nomafs': -21.105456666666665, 'nd': -11.825418166666669, 'geo-hafs': -18.34106666666667, 'geo-mafs': -16.055146666666669, 'nohafs': -134.77020166666665} "
       ]
      },
      {
       "output_type": "stream",
       "stream": "stdout",
       "text": [
        "\n",
        "{'nomass': -18.053377833333332, 'geo-mass': -15.082065333333334, 'nomafs': -21.105456666666665, 'nd': -11.825418166666669, 'geo-hafs': -18.34106666666667, 'geo-mafs': -16.055146666666669, 'nohafs': -134.77020166666665}\n",
        "Returning power data {'nomass': -16.502269833333333, 'geo-mass': -13.636979416666668, 'nomafs': -18.460900833333334, 'nd': -10.906617833333335, 'geo-hafs': -13.636979416666668, 'geo-mafs': -13.636979416666668, 'nohafs': -128.4136} "
       ]
      },
      {
       "output_type": "stream",
       "stream": "stdout",
       "text": [
        "\n",
        "{'nomass': -16.502269833333333, 'geo-mass': -13.636979416666668, 'nomafs': -18.460900833333334, 'nd': -10.906617833333335, 'geo-hafs': -13.636979416666668, 'geo-mafs': -13.636979416666668, 'nohafs': -128.4136}\n",
        "Returning power data {'nomass': -17.69614108333333, 'geo-mass': -14.831362233333332, 'nomafs': -20.484837666666664, 'nd': -11.867011866666667, 'geo-hafs': -17.845938466666666, 'geo-mafs': -15.731462466666667, 'nohafs': -136.37707616666663} "
       ]
      },
      {
       "output_type": "stream",
       "stream": "stdout",
       "text": [
        "\n",
        "{'nomass': -17.69614108333333, 'geo-mass': -14.831362233333332, 'nomafs': -20.484837666666664, 'nd': -11.867011866666667, 'geo-hafs': -17.845938466666666, 'geo-mafs': -15.731462466666667, 'nohafs': -136.37707616666663}\n",
        "Returning power data {'nomass': -16.941941333333332, 'geo-mass': -14.236549333333336, 'nomafs': -19.665746666666664, 'nd': -11.437504666666667, 'geo-hafs': -17.49555066666667, 'geo-mafs': -15.209630666666666, 'nohafs': -131.20870666666664} "
       ]
      },
      {
       "output_type": "stream",
       "stream": "stdout",
       "text": [
        "\n",
        "{'nomass': -16.941941333333332, 'geo-mass': -14.236549333333336, 'nomafs': -19.665746666666664, 'nd': -11.437504666666667, 'geo-hafs': -17.49555066666667, 'geo-mafs': -15.209630666666666, 'nohafs': -131.20870666666664}\n",
        "Returning power data {'nomass': -18.628354833333333, 'geo-mass': -16.026075249999998, 'nomafs': -22.847142499999997, 'nd': -12.889474000000002, 'geo-hafs': -24.988328916666667, 'geo-mafs': -18.702048916666666, 'nohafs': -142.01572333333337} "
       ]
      },
      {
       "output_type": "stream",
       "stream": "stdout",
       "text": [
        "\n",
        "{'nomass': -18.628354833333333, 'geo-mass': -16.026075249999998, 'nomafs': -22.847142499999997, 'nd': -12.889474000000002, 'geo-hafs': -24.988328916666667, 'geo-mafs': -18.702048916666666, 'nohafs': -142.01572333333337}\n",
        "Returning power data {'nomass': -17.011121000000003, 'geo-mass': -14.100239499999997, 'nomafs': -18.915035, 'nd': -11.446145000000001, 'geo-hafs': -14.100239499999997, 'geo-mafs': -14.100239499999997, 'nohafs': -135.35556} "
       ]
      },
      {
       "output_type": "stream",
       "stream": "stdout",
       "text": [
        "\n",
        "{'nomass': -17.011121000000003, 'geo-mass': -14.100239499999997, 'nomafs': -18.915035, 'nd': -11.446145000000001, 'geo-hafs': -14.100239499999997, 'geo-mafs': -14.100239499999997, 'nohafs': -135.35556}\n",
        "Returning power data {'nomass': -19.869524416666668, 'geo-mass': -17.523425249999999, 'nomafs': -26.169592499999997, 'nd': -13.855713000000002, 'geo-hafs': -34.225807083333336, 'geo-mafs': -22.510467083333332, 'nohafs': -143.95284916666668} "
       ]
      },
      {
       "output_type": "stream",
       "stream": "stdout",
       "text": [
        "\n",
        "{'nomass': -19.869524416666668, 'geo-mass': -17.523425249999999, 'nomafs': -26.169592499999997, 'nd': -13.855713000000002, 'geo-hafs': -34.225807083333336, 'geo-mafs': -22.510467083333332, 'nohafs': -143.95284916666668}\n",
        "Returning power data {'nomass': -18.723876499999999, 'geo-mass': -15.566738500000001, 'nomafs': -20.693434999999997, 'nd': -12.821123500000001, 'geo-hafs': -15.566738500000001, 'geo-mafs': -15.566738500000001, 'nohafs': -152.24944500000001} "
       ]
      },
      {
       "output_type": "stream",
       "stream": "stdout",
       "text": [
        "\n",
        "{'nomass': -18.723876499999999, 'geo-mass': -15.566738500000001, 'nomafs': -20.693434999999997, 'nd': -12.821123500000001, 'geo-hafs': -15.566738500000001, 'geo-mafs': -15.566738500000001, 'nohafs': -152.24944500000001}\n",
        "Returning power data {'nomass': -19.631014583333336, 'geo-mass': -16.84575135, 'nomafs': -25.105621499999998, 'nd': -12.781897799999999, 'geo-hafs': -28.496681116666668, 'geo-mafs': -20.324517116666662, 'nohafs': -135.08836883333333} "
       ]
      },
      {
       "output_type": "stream",
       "stream": "stdout",
       "text": [
        "\n",
        "{'nomass': -19.631014583333336, 'geo-mass': -16.84575135, 'nomafs': -25.105621499999998, 'nd': -12.781897799999999, 'geo-hafs': -28.496681116666668, 'geo-mafs': -20.324517116666662, 'nohafs': -135.08836883333333}\n",
        "Returning power data {'nomass': -19.298256166666668, 'geo-mass': -16.591737066666667, 'nomafs': -23.968729333333332, 'nd': -13.124886533333333, 'geo-hafs': -26.531691133333332, 'geo-mafs': -19.559635133333334, 'nohafs': -142.94008033333336} "
       ]
      },
      {
       "output_type": "stream",
       "stream": "stdout",
       "text": [
        "\n",
        "{'nomass': -19.298256166666668, 'geo-mass': -16.591737066666667, 'nomafs': -23.968729333333332, 'nd': -13.124886533333333, 'geo-hafs': -26.531691133333332, 'geo-mafs': -19.559635133333334, 'nohafs': -142.94008033333336}\n",
        "Returning power data {'nomass': -17.5592395, 'geo-mass': -14.603069933333334, 'nomafs': -20.270740666666661, 'nd': -11.471897066666667, 'geo-hafs': -16.721420799999997, 'geo-mafs': -15.2355728, 'nohafs': -131.98316833333334} "
       ]
      },
      {
       "output_type": "stream",
       "stream": "stdout",
       "text": [
        "\n",
        "{'nomass': -17.5592395, 'geo-mass': -14.603069933333334, 'nomafs': -20.270740666666661, 'nd': -11.471897066666667, 'geo-hafs': -16.721420799999997, 'geo-mafs': -15.2355728, 'nohafs': -131.98316833333334}\n",
        "Returning power data {'nomass': -17.234848833333338, 'geo-mass': -14.601266583333334, 'nomafs': -19.663199166666665, 'nd': -12.214064166666667, 'geo-hafs': -17.860267916666668, 'geo-mafs': -15.574347916666667, 'nohafs': -142.04326666666668} "
       ]
      },
      {
       "output_type": "stream",
       "stream": "stdout",
       "text": [
        "\n",
        "{'nomass': -17.234848833333338, 'geo-mass': -14.601266583333334, 'nomafs': -19.663199166666665, 'nd': -12.214064166666667, 'geo-hafs': -17.860267916666668, 'geo-mafs': -15.574347916666667, 'nohafs': -142.04326666666668}\n",
        "Returning power data {'nomass': -18.996348916666665, 'geo-mass': -15.868219450000005, 'nomafs': -21.838230499999995, 'nd': -12.680031600000001, 'geo-hafs': -18.393945483333336, 'geo-mafs': -16.622357483333332, 'nohafs': -146.43805016666664} "
       ]
      },
      {
       "output_type": "stream",
       "stream": "stdout",
       "text": [
        "\n",
        "{'nomass': -18.996348916666665, 'geo-mass': -15.868219450000005, 'nomafs': -21.838230499999995, 'nd': -12.680031600000001, 'geo-hafs': -18.393945483333336, 'geo-mafs': -16.622357483333332, 'nohafs': -146.43805016666664}\n",
        "Returning power data {'nomass': -16.915025083333337, 'geo-mass': -14.124178333333335, 'nomafs': -19.372406666666663, 'nd': -11.322289666666668, 'geo-hafs': -16.161054166666666, 'geo-mafs': -14.732354166666664, 'nohafs': -131.12677416666668} "
       ]
      },
      {
       "output_type": "stream",
       "stream": "stdout",
       "text": [
        "\n",
        "{'nomass': -16.915025083333337, 'geo-mass': -14.124178333333335, 'nomafs': -19.372406666666663, 'nd': -11.322289666666668, 'geo-hafs': -16.161054166666666, 'geo-mafs': -14.732354166666664, 'nohafs': -131.12677416666668}\n",
        "Returning power data {'nomass': -16.598444166666663, 'geo-mass': -13.739340750000002, 'nomafs': -18.844117499999999, 'nd': -10.858340999999999, 'geo-hafs': -14.554091083333335, 'geo-mafs': -13.982611083333333, 'nohafs': -126.48252666666666} "
       ]
      },
      {
       "output_type": "stream",
       "stream": "stdout",
       "text": [
        "\n",
        "{'nomass': -16.598444166666663, 'geo-mass': -13.739340750000002, 'nomafs': -18.844117499999999, 'nd': -10.858340999999999, 'geo-hafs': -14.554091083333335, 'geo-mafs': -13.982611083333333, 'nohafs': -126.48252666666666}\n",
        "Returning power data {'nomass': -17.142381, 'geo-mass': -14.443543666666667, 'nomafs': -19.778643333333331, 'nd': -11.766526333333333, 'geo-hafs': -17.702545000000001, 'geo-mafs': -15.416625, 'nohafs': -135.65283666666664} "
       ]
      },
      {
       "output_type": "stream",
       "stream": "stdout",
       "text": [
        "\n",
        "{'nomass': -17.142381, 'geo-mass': -14.443543666666667, 'nomafs': -19.778643333333331, 'nd': -11.766526333333333, 'geo-hafs': -17.702545000000001, 'geo-mafs': -15.416625, 'nohafs': -135.65283666666664}\n",
        "Returning power data {'nomass': -16.894333916666668, 'geo-mass': -14.266111416666668, 'nomafs': -20.270090833333335, 'nd': -11.181991833333337, 'geo-hafs': -19.561988583333335, 'geo-mafs': -15.847368583333335, 'nohafs': -124.95483083333332} "
       ]
      },
      {
       "output_type": "stream",
       "stream": "stdout",
       "text": [
        "\n",
        "{'nomass': -16.894333916666668, 'geo-mass': -14.266111416666668, 'nomafs': -20.270090833333335, 'nd': -11.181991833333337, 'geo-hafs': -19.561988583333335, 'geo-mafs': -15.847368583333335, 'nohafs': -124.95483083333332}\n",
        "Returning power data {'nomass': -17.846406250000001, 'geo-mass': -15.020979500000001, 'nomafs': -20.746554999999994, 'nd': -12.100855500000002, 'geo-hafs': -18.687356000000001, 'geo-mafs': -16.115696, 'nohafs': -138.6901125} "
       ]
      },
      {
       "output_type": "stream",
       "stream": "stdout",
       "text": [
        "\n",
        "{'nomass': -17.846406250000001, 'geo-mass': -15.020979500000001, 'nomafs': -20.746554999999994, 'nd': -12.100855500000002, 'geo-hafs': -18.687356000000001, 'geo-mafs': -16.115696, 'nohafs': -138.6901125}\n",
        "Returning power data {'nomass': -18.190210166666663, 'geo-mass': -15.637564766666666, 'nomafs': -22.225832333333337, 'nd': -12.60659983333333, 'geo-hafs': -24.110968233333338, 'geo-mafs': -18.167576233333332, 'nohafs': -139.32754033333336} "
       ]
      },
      {
       "output_type": "stream",
       "stream": "stdout",
       "text": [
        "\n",
        "{'nomass': -18.190210166666663, 'geo-mass': -15.637564766666666, 'nomafs': -22.225832333333337, 'nd': -12.60659983333333, 'geo-hafs': -24.110968233333338, 'geo-mafs': -18.167576233333332, 'nohafs': -139.32754033333336}\n",
        "Returning power data {'nomass': -17.902245416666666, 'geo-mass': -15.01793441666667, 'nomafs': -21.110055833333327, 'nd': -11.793690083333335, 'geo-hafs': -19.091686083333336, 'geo-mafs': -16.23428608333333, 'nohafs': -133.5562108333333} "
       ]
      },
      {
       "output_type": "stream",
       "stream": "stdout",
       "text": [
        "\n",
        "{'nomass': -17.902245416666666, 'geo-mass': -15.01793441666667, 'nomafs': -21.110055833333327, 'nd': -11.793690083333335, 'geo-hafs': -19.091686083333336, 'geo-mafs': -16.23428608333333, 'nohafs': -133.5562108333333}\n",
        "Returning power data {'nomass': -16.093638500000001, 'geo-mass': -13.277216499999998, 'nomafs': -18.063215000000003, 'nd': -10.531601500000001, 'geo-hafs': -13.277216499999998, 'geo-mafs': -13.277216499999998, 'nohafs': -123.69370500000002} "
       ]
      },
      {
       "output_type": "stream",
       "stream": "stdout",
       "text": [
        "\n",
        "{'nomass': -16.093638500000001, 'geo-mass': -13.277216499999998, 'nomafs': -18.063215000000003, 'nd': -10.531601500000001, 'geo-hafs': -13.277216499999998, 'geo-mafs': -13.277216499999998, 'nohafs': -123.69370500000002}\n",
        "Returning power data {'nomass': -14.180904416666667, 'geo-mass': -12.2448321, 'nomafs': -15.493029, 'nd': -11.189071900000002, 'geo-hafs': -14.770558133333335, 'geo-mafs': -12.998970133333334, 'nohafs': -133.79169416666664} "
       ]
      },
      {
       "output_type": "stream",
       "stream": "stdout",
       "text": [
        "\n",
        "{'nomass': -14.180904416666667, 'geo-mass': -12.2448321, 'nomafs': -15.493029, 'nd': -11.189071900000002, 'geo-hafs': -14.770558133333335, 'geo-mafs': -12.998970133333334, 'nohafs': -133.79169416666664}\n",
        "Returning power data {'nomass': -17.583916083333332, 'geo-mass': -15.242987116666669, 'nomafs': -21.69943383333333, 'nd': -12.424984133333334, 'geo-hafs': -24.775566016666666, 'geo-mafs': -18.089250016666668, 'nohafs': -136.47525250000001} "
       ]
      },
      {
       "output_type": "stream",
       "stream": "stdout",
       "text": [
        "\n",
        "{'nomass': -17.583916083333332, 'geo-mass': -15.242987116666669, 'nomafs': -21.69943383333333, 'nd': -12.424984133333334, 'geo-hafs': -24.775566016666666, 'geo-mafs': -18.089250016666668, 'nohafs': -136.47525250000001}\n",
        "Returning power data {'nomass': -17.326158916666671, 'geo-mass': -14.565251916666668, 'nomafs': -20.402660833333329, 'nd': -11.524048583333334, 'geo-hafs': -18.639003583333334, 'geo-mafs': -15.781603583333332, 'nohafs': -130.70382583333333} "
       ]
      },
      {
       "output_type": "stream",
       "stream": "stdout",
       "text": [
        "\n",
        "{'nomass': -17.326158916666671, 'geo-mass': -14.565251916666668, 'nomafs': -20.402660833333329, 'nd': -11.524048583333334, 'geo-hafs': -18.639003583333334, 'geo-mafs': -15.781603583333332, 'nohafs': -130.70382583333333}\n",
        "Returning power data {'nomass': -17.094356166666667, 'geo-mass': -14.290308166666669, 'nomafs': -20.367828333333332, 'nd': -10.974543333333335, 'geo-hafs': -18.364059833333336, 'geo-mafs': -15.50665983333333, 'nohafs': -123.08417833333331} "
       ]
      },
      {
       "output_type": "stream",
       "stream": "stdout",
       "text": [
        "\n",
        "{'nomass': -17.094356166666667, 'geo-mass': -14.290308166666669, 'nomafs': -20.367828333333332, 'nd': -10.974543333333335, 'geo-hafs': -18.364059833333336, 'geo-mafs': -15.50665983333333, 'nohafs': -123.08417833333331}\n",
        "Returning power data {'nomass': -16.412176749999997, 'geo-mass': -13.990362916666667, 'nomafs': -19.063185833333332, 'nd': -11.667018166666667, 'geo-hafs': -18.471489750000003, 'geo-mafs': -15.328349749999999, 'nohafs': -134.03546916666667} "
       ]
      },
      {
       "output_type": "stream",
       "stream": "stdout",
       "text": [
        "\n",
        "{'nomass': -16.412176749999997, 'geo-mass': -13.990362916666667, 'nomafs': -19.063185833333332, 'nd': -11.667018166666667, 'geo-hafs': -18.471489750000003, 'geo-mafs': -15.328349749999999, 'nohafs': -134.03546916666667}\n",
        "Returning power data {'nomass': -17.635795166666661, 'geo-mass': -14.620364800000001, 'nomafs': -19.940552, 'nd': -11.656996600000001, 'geo-hafs': -15.435115133333333, 'geo-mafs': -14.863635133333332, 'nohafs': -136.21383966666667} "
       ]
      },
      {
       "output_type": "stream",
       "stream": "stdout",
       "text": [
        "\n",
        "{'nomass': -17.635795166666661, 'geo-mass': -14.620364800000001, 'nomafs': -19.940552, 'nd': -11.656996600000001, 'geo-hafs': -15.435115133333333, 'geo-mafs': -14.863635133333332, 'nohafs': -136.21383966666667}\n",
        "Returning power data {'nomass': -19.077503583333328, 'geo-mass': -16.386528683333335, 'nomafs': -23.547048166666663, 'nd': -13.025124866666667, 'geo-hafs': -25.756157516666669, 'geo-mafs': -19.184137516666667, 'nohafs': -142.62608016666667} "
       ]
      },
      {
       "output_type": "stream",
       "stream": "stdout",
       "text": [
        "\n",
        "{'nomass': -19.077503583333328, 'geo-mass': -16.386528683333335, 'nomafs': -23.547048166666663, 'nd': -13.025124866666667, 'geo-hafs': -25.756157516666669, 'geo-mafs': -19.184137516666667, 'nohafs': -142.62608016666667}\n",
        "Returning power data {'nomass': -18.359637333333332, 'geo-mass': -15.926095466666665, 'nomafs': -23.56683533333333, 'nd': -12.409641433333336, 'geo-hafs': -28.147350466666669, 'geo-mafs': -19.575150466666663, 'nohafs': -131.33661799999999} "
       ]
      },
      {
       "output_type": "stream",
       "stream": "stdout",
       "text": [
        "\n",
        "{'nomass': -18.359637333333332, 'geo-mass': -15.926095466666665, 'nomafs': -23.56683533333333, 'nd': -12.409641433333336, 'geo-hafs': -28.147350466666669, 'geo-mafs': -19.575150466666663, 'nohafs': -131.33661799999999}\n",
        "Returning power data {'nomass': -20.408403333333332, 'geo-mass': -17.672777449999998, 'nomafs': -26.388830499999997, 'nd': -13.577434900000002, 'geo-hafs': -31.52353311666667, 'geo-mafs': -21.808373116666665, 'nohafs': -142.46933033333335} "
       ]
      },
      {
       "output_type": "stream",
       "stream": "stdout",
       "text": [
        "\n",
        "{'nomass': -20.408403333333332, 'geo-mass': -17.672777449999998, 'nomafs': -26.388830499999997, 'nd': -13.577434900000002, 'geo-hafs': -31.52353311666667, 'geo-mafs': -21.808373116666665, 'nohafs': -142.46933033333335}\n",
        "Returning power data {'nomass': -15.986568500000001, 'geo-mass': -13.1986498, 'nomafs': -17.916752000000002, 'nd': -10.507947099999999, 'geo-hafs': -13.1986498, 'geo-mafs': -13.1986498, 'nohafs': -123.55188300000002} "
       ]
      },
      {
       "output_type": "stream",
       "stream": "stdout",
       "text": [
        "\n",
        "{'nomass': -15.986568500000001, 'geo-mass': -13.1986498, 'nomafs': -17.916752000000002, 'nd': -10.507947099999999, 'geo-hafs': -13.1986498, 'geo-mafs': -13.1986498, 'nohafs': -123.55188300000002}\n",
        "Returning power data {'nomass': -18.134850833333331, 'geo-mass': -15.201763333333332, 'nomafs': -21.055616666666666, 'nd': -12.128157166666668, 'geo-hafs': -18.460764666666666, 'geo-mafs': -16.174844666666665, 'nohafs': -139.05675166666666} "
       ]
      },
      {
       "output_type": "stream",
       "stream": "stdout",
       "text": [
        "\n",
        "{'nomass': -18.134850833333331, 'geo-mass': -15.201763333333332, 'nomafs': -21.055616666666666, 'nd': -12.128157166666668, 'geo-hafs': -18.460764666666666, 'geo-mafs': -16.174844666666665, 'nohafs': -139.05675166666666}\n",
        "Returning power data {'nomass': -16.589889500000002, 'geo-mass': -13.884681333333333, 'nomafs': -18.761496666666666, 'nd': -11.356406166666666, 'geo-hafs': -15.514182, 'geo-mafs': -14.371221999999999, 'nohafs': -132.76999833333332} "
       ]
      },
      {
       "output_type": "stream",
       "stream": "stdout",
       "text": [
        "\n",
        "{'nomass': -16.589889500000002, 'geo-mass': -13.884681333333333, 'nomafs': -18.761496666666666, 'nd': -11.356406166666666, 'geo-hafs': -15.514182, 'geo-mafs': -14.371221999999999, 'nohafs': -132.76999833333332}\n",
        "Returning power data {'nomass': -18.397775249999999, 'geo-mass': -15.617128166666669, 'nomafs': -21.322338333333331, 'nd': -12.912447999999999, 'geo-hafs': -20.098255000000002, 'geo-mafs': -16.955114999999999, 'nohafs': -148.50499916666669} "
       ]
      },
      {
       "output_type": "stream",
       "stream": "stdout",
       "text": [
        "\n",
        "{'nomass': -18.397775249999999, 'geo-mass': -15.617128166666669, 'nomafs': -21.322338333333331, 'nd': -12.912447999999999, 'geo-hafs': -20.098255000000002, 'geo-mafs': -16.955114999999999, 'nohafs': -148.50499916666669}\n",
        "Returning power data {'nomass': -18.950169166666665, 'geo-mass': -16.047021416666666, 'nomafs': -22.854960833333333, 'nd': -12.599663833333334, 'geo-hafs': -22.565024083333341, 'geo-mafs': -17.993184083333333, 'nohafs': -140.26011333333332} "
       ]
      },
      {
       "output_type": "stream",
       "stream": "stdout",
       "text": [
        "\n",
        "{'nomass': -18.950169166666665, 'geo-mass': -16.047021416666666, 'nomafs': -22.854960833333333, 'nd': -12.599663833333334, 'geo-hafs': -22.565024083333341, 'geo-mafs': -17.993184083333333, 'nohafs': -140.26011333333332}\n",
        "Returning power data {'nomass': -16.096881333333336, 'geo-mass': -13.369467166666666, 'nomafs': -17.825718333333331, 'nd': -10.959427333333332, 'geo-hafs': -13.369467166666666, 'geo-mafs': -13.369467166666666, 'nohafs': -129.96595000000002} "
       ]
      },
      {
       "output_type": "stream",
       "stream": "stdout",
       "text": [
        "\n",
        "{'nomass': -16.096881333333336, 'geo-mass': -13.369467166666666, 'nomafs': -17.825718333333331, 'nd': -10.959427333333332, 'geo-hafs': -13.369467166666666, 'geo-mafs': -13.369467166666666, 'nohafs': -129.96595000000002}\n",
        "Returning power data {'nomass': -18.310327749999999, 'geo-mass': -15.62416171666667, 'nomafs': -21.618067833333331, 'nd': -12.834424533333332, 'geo-hafs': -21.571839150000002, 'geo-mafs': -17.400035150000001, 'nohafs': -145.6589491666667} "
       ]
      },
      {
       "output_type": "stream",
       "stream": "stdout",
       "text": [
        "\n",
        "{'nomass': -18.310327749999999, 'geo-mass': -15.62416171666667, 'nomafs': -21.618067833333331, 'nd': -12.834424533333332, 'geo-hafs': -21.571839150000002, 'geo-mafs': -17.400035150000001, 'nohafs': -145.6589491666667}\n",
        "Returning power data {'nomass': -18.629503500000002, 'geo-mass': -15.857692550000001, 'nomafs': -23.034479499999993, 'nd': -12.261972000000002, 'geo-hafs': -24.168145950000003, 'geo-mafs': -18.33904995, 'nohafs': -133.63529600000001} "
       ]
      },
      {
       "output_type": "stream",
       "stream": "stdout",
       "text": [
        "\n",
        "{'nomass': -18.629503500000002, 'geo-mass': -15.857692550000001, 'nomafs': -23.034479499999993, 'nd': -12.261972000000002, 'geo-hafs': -24.168145950000003, 'geo-mafs': -18.33904995, 'nohafs': -133.63529600000001}\n",
        "Returning power data {'nomass': -16.448933166666666, 'geo-mass': -13.721335166666666, 'nomafs': -18.729968333333332, 'nd': -11.040525833333334, 'geo-hafs': -15.350835833333335, 'geo-mafs': -14.207875833333333, 'nohafs': -128.40465833333332} "
       ]
      },
      {
       "output_type": "stream",
       "stream": "stdout",
       "text": [
        "\n",
        "{'nomass': -16.448933166666666, 'geo-mass': -13.721335166666666, 'nomafs': -18.729968333333332, 'nd': -11.040525833333334, 'geo-hafs': -15.350835833333335, 'geo-mafs': -14.207875833333333, 'nohafs': -128.40465833333332}\n",
        "Returning power data {'nomass': -18.248969333333331, 'geo-mass': -15.379038666666666, 'nomafs': -21.634393333333332, 'nd': -12.156690333333335, 'geo-hafs': -20.267540666666665, 'geo-mafs': -16.838660666666666, 'nohafs': -137.18030000000002} "
       ]
      },
      {
       "output_type": "stream",
       "stream": "stdout",
       "text": [
        "\n",
        "{'nomass': -18.248969333333331, 'geo-mass': -15.379038666666666, 'nomafs': -21.634393333333332, 'nd': -12.156690333333335, 'geo-hafs': -20.267540666666665, 'geo-mafs': -16.838660666666666, 'nohafs': -137.18030000000002}\n",
        "Returning power data {'nomass': -16.985676250000001, 'geo-mass': -14.167217483333335, 'nomafs': -19.526475166666664, 'nd': -11.273997916666671, 'geo-hafs': -16.285568350000002, 'geo-mafs': -14.799720349999998, 'nohafs': -130.17878383333334} "
       ]
      },
      {
       "output_type": "stream",
       "stream": "stdout",
       "text": [
        "\n",
        "{'nomass': -16.985676250000001, 'geo-mass': -14.167217483333335, 'nomafs': -19.526475166666664, 'nd': -11.273997916666671, 'geo-hafs': -16.285568350000002, 'geo-mafs': -14.799720349999998, 'nohafs': -130.17878383333334}\n",
        "Returning power data {'nomass': -17.00877533333334, 'geo-mass': -14.271529166666667, 'nomafs': -19.96364333333333, 'nd': -11.275138083333335, 'geo-hafs': -17.937905666666669, 'geo-mafs': -15.366245666666666, 'nohafs': -128.17868499999997} "
       ]
      },
      {
       "output_type": "stream",
       "stream": "stdout",
       "text": [
        "\n",
        "{'nomass': -17.00877533333334, 'geo-mass': -14.271529166666667, 'nomafs': -19.96364333333333, 'nd': -11.275138083333335, 'geo-hafs': -17.937905666666669, 'geo-mafs': -15.366245666666666, 'nohafs': -128.17868499999997}\n",
        "Returning power data {'nomass': -18.182615083333332, 'geo-mass': -15.424801583333334, 'nomafs': -22.132449166666667, 'nd': -12.039405666666665, 'geo-hafs': -22.350179416666666, 'geo-mafs': -17.492599416666664, 'nohafs': -132.99090916666668} "
       ]
      },
      {
       "output_type": "stream",
       "stream": "stdout",
       "text": [
        "\n",
        "{'nomass': -18.182615083333332, 'geo-mass': -15.424801583333334, 'nomafs': -22.132449166666667, 'nd': -12.039405666666665, 'geo-hafs': -22.350179416666666, 'geo-mafs': -17.492599416666664, 'nohafs': -132.99090916666668}\n",
        "Returning power data {'nomass': -16.652615666666669, 'geo-mass': -14.020580166666669, 'nomafs': -18.605368333333331, 'nd': -11.797373333333335, 'geo-hafs': -15.650080833333334, 'geo-mafs': -14.507120833333332, 'nohafs': -139.12103333333334} "
       ]
      },
      {
       "output_type": "stream",
       "stream": "stdout",
       "text": [
        "\n",
        "{'nomass': -16.652615666666669, 'geo-mass': -14.020580166666669, 'nomafs': -18.605368333333331, 'nd': -11.797373333333335, 'geo-hafs': -15.650080833333334, 'geo-mafs': -14.507120833333332, 'nohafs': -139.12103333333334}\n",
        "Returning power data {'nomass': -18.044980000000002, 'geo-mass': -15.480006249999999, 'nomafs': -22.704012500000001, 'nd': -11.979219000000001, 'geo-hafs': -25.25701025, 'geo-mafs': -18.399250250000001, 'nohafs': -128.737955} "
       ]
      },
      {
       "output_type": "stream",
       "stream": "stdout",
       "text": [
        "\n",
        "{'nomass': -18.044980000000002, 'geo-mass': -15.480006249999999, 'nomafs': -22.704012500000001, 'nd': -11.979219000000001, 'geo-hafs': -25.25701025, 'geo-mafs': -18.399250250000001, 'nohafs': -128.737955}\n",
        "Returning power data {'nomass': -20.017658500000003, 'geo-mass': -17.197147749999999, 'nomafs': -24.6766775, 'nd': -13.696360500000001, 'geo-hafs': -26.974151750000001, 'geo-mafs': -20.116391750000002, 'nohafs': -150.15476000000001} "
       ]
      },
      {
       "output_type": "stream",
       "stream": "stdout",
       "text": [
        "\n",
        "{'nomass': -20.017658500000003, 'geo-mass': -17.197147749999999, 'nomafs': -24.6766775, 'nd': -13.696360500000001, 'geo-hafs': -26.974151750000001, 'geo-mafs': -20.116391750000002, 'nohafs': -150.15476000000001}\n",
        "Returning power data {'nomass': -17.476022749999995, 'geo-mass': -14.800426600000003, 'nomafs': -20.709014, 'nd': -11.865411300000002, 'geo-hafs': -19.933353700000001, 'geo-mafs': -16.333029700000001, 'nohafs': -134.07641550000002} "
       ]
      },
      {
       "output_type": "stream",
       "stream": "stdout",
       "text": [
        "\n",
        "{'nomass': -17.476022749999995, 'geo-mass': -14.800426600000003, 'nomafs': -20.709014, 'nd': -11.865411300000002, 'geo-hafs': -19.933353700000001, 'geo-mafs': -16.333029700000001, 'nohafs': -134.07641550000002}\n",
        "Returning power data {'nomass': -17.806393999999997, 'geo-mass': -14.743715499999997, 'nomafs': -19.841614999999994, 'nd': -11.906580000000003, 'geo-hafs': -14.743715499999997, 'geo-mafs': -14.743715499999997, 'nohafs': -140.58759000000001} "
       ]
      },
      {
       "output_type": "stream",
       "stream": "stdout",
       "text": [
        "\n",
        "{'nomass': -17.806393999999997, 'geo-mass': -14.743715499999997, 'nomafs': -19.841614999999994, 'nd': -11.906580000000003, 'geo-hafs': -14.743715499999997, 'geo-mafs': -14.743715499999997, 'nohafs': -140.58759000000001}\n",
        "Returning power data {'nomass': -17.4242615, 'geo-mass': -14.313526000000001, 'nomafs': -19.722110000000001, 'nd': -11.110308500000002, 'geo-hafs': -14.313526000000001, 'geo-mafs': -14.313526000000001, 'nohafs': -129.63484500000001} "
       ]
      },
      {
       "output_type": "stream",
       "stream": "stdout",
       "text": [
        "\n",
        "{'nomass': -17.4242615, 'geo-mass': -14.313526000000001, 'nomafs': -19.722110000000001, 'nd': -11.110308500000002, 'geo-hafs': -14.313526000000001, 'geo-mafs': -14.313526000000001, 'nohafs': -129.63484500000001}\n",
        "Returning power data {'nomass': -16.7919345, 'geo-mass': -13.909445999999999, 'nomafs': -18.695850000000004, 'nd': -11.2553515, 'geo-hafs': -13.909445999999999, 'geo-mafs': -13.909445999999999, 'nohafs': -132.97591500000001} "
       ]
      },
      {
       "output_type": "stream",
       "stream": "stdout",
       "text": [
        "\n",
        "{'nomass': -16.7919345, 'geo-mass': -13.909445999999999, 'nomafs': -18.695850000000004, 'nd': -11.2553515, 'geo-hafs': -13.909445999999999, 'geo-mafs': -13.909445999999999, 'nohafs': -132.97591500000001}\n",
        "Returning power data {'nomass': -18.622593416666668, 'geo-mass': -15.624158916666666, 'nomafs': -22.392275833333333, 'nd': -11.990916333333335, 'geo-hafs': -20.920036083333336, 'geo-mafs': -17.205416083333333, 'nohafs': -133.51198583333334} "
       ]
      },
      {
       "output_type": "stream",
       "stream": "stdout",
       "text": [
        "\n",
        "{'nomass': -18.622593416666668, 'geo-mass': -15.624158916666666, 'nomafs': -22.392275833333333, 'nd': -11.990916333333335, 'geo-hafs': -20.920036083333336, 'geo-mafs': -17.205416083333333, 'nohafs': -133.51198583333334}\n",
        "Returning power data {'nomass': -17.108097999999998, 'geo-mass': -14.111485999999999, 'nomafs': -19.20898, 'nd': -11.182830000000001, 'geo-hafs': -14.111485999999999, 'geo-mafs': -14.111485999999999, 'nohafs': -131.30538000000001} "
       ]
      },
      {
       "output_type": "stream",
       "stream": "stdout",
       "text": [
        "\n",
        "{'nomass': -17.108097999999998, 'geo-mass': -14.111485999999999, 'nomafs': -19.20898, 'nd': -11.182830000000001, 'geo-hafs': -14.111485999999999, 'geo-mafs': -14.111485999999999, 'nohafs': -131.30538000000001}\n",
        "Returning power data {'nomass': -18.019719833333333, 'geo-mass': -14.990362383333334, 'nomafs': -21.037451166666663, 'nd': -11.631905066666668, 'geo-hafs': -17.76051351666667, 'geo-mafs': -15.817481516666668, 'nohafs': -132.61779066666665} "
       ]
      },
      {
       "output_type": "stream",
       "stream": "stdout",
       "text": [
        "\n",
        "{'nomass': -18.019719833333333, 'geo-mass': -14.990362383333334, 'nomafs': -21.037451166666663, 'nd': -11.631905066666668, 'geo-hafs': -17.76051351666667, 'geo-mafs': -15.817481516666668, 'nohafs': -132.61779066666665}\n",
        "Returning power data {'nomass': -16.901204833333331, 'geo-mass': -14.176700333333336, 'nomafs': -19.690666666666669, 'nd': -11.286135166666668, 'geo-hafs': -17.435701666666667, 'geo-mafs': -15.149781666666668, 'nohafs': -129.06543166666665} "
       ]
      },
      {
       "output_type": "stream",
       "stream": "stdout",
       "text": [
        "\n",
        "{'nomass': -16.901204833333331, 'geo-mass': -14.176700333333336, 'nomafs': -19.690666666666669, 'nd': -11.286135166666668, 'geo-hafs': -17.435701666666667, 'geo-mafs': -15.149781666666668, 'nohafs': -129.06543166666665}\n",
        "Returning power data {'nomass': -17.201864333333333, 'geo-mass': -14.487191833333334, 'nomafs': -19.860011666666665, 'nd': -11.779667666666667, 'geo-hafs': -17.746193166666668, 'geo-mafs': -15.460273166666667, 'nohafs': -135.73162666666661} "
       ]
      },
      {
       "output_type": "stream",
       "stream": "stdout",
       "text": [
        "\n",
        "{'nomass': -17.201864333333333, 'geo-mass': -14.487191833333334, 'nomafs': -19.860011666666665, 'nd': -11.779667666666667, 'geo-hafs': -17.746193166666668, 'geo-mafs': -15.460273166666667, 'nohafs': -135.73162666666661}\n",
        "Returning power data {'nomass': -18.929556416666667, 'geo-mass': -16.315254666666668, 'nomafs': -24.59323333333333, 'nd': -12.287233833333335, 'geo-hafs': -28.943884833333335, 'geo-mafs': -20.085944833333333, 'nohafs': -127.92831083333334} "
       ]
      },
      {
       "output_type": "stream",
       "stream": "stdout",
       "text": [
        "\n",
        "{'nomass': -18.929556416666667, 'geo-mass': -16.315254666666668, 'nomafs': -24.59323333333333, 'nd': -12.287233833333335, 'geo-hafs': -28.943884833333335, 'geo-mafs': -20.085944833333333, 'nohafs': -127.92831083333334}\n",
        "Returning power data {'nomass': -15.555880499999999, 'geo-mass': -13.1577275, 'nomafs': -17.598714999999999, 'nd': -11.058444000000003, 'geo-hafs': -15.601978500000001, 'geo-mafs': -13.887538500000002, 'nohafs': -129.341915} "
       ]
      },
      {
       "output_type": "stream",
       "stream": "stdout",
       "text": [
        "\n",
        "{'nomass': -15.555880499999999, 'geo-mass': -13.1577275, 'nomafs': -17.598714999999999, 'nd': -11.058444000000003, 'geo-hafs': -15.601978500000001, 'geo-mafs': -13.887538500000002, 'nohafs': -129.341915}\n",
        "Returning power data {'nomass': -20.760554333333335, 'geo-mass': -18.086465, 'nomafs': -27.464230000000001, 'nd': -13.731401000000002, 'geo-hafs': -34.38147166666667, 'geo-mafs': -22.951871666666666, 'nohafs': -140.93902333333335} "
       ]
      },
      {
       "output_type": "stream",
       "stream": "stdout",
       "text": [
        "\n",
        "{'nomass': -20.760554333333335, 'geo-mass': -18.086465, 'nomafs': -27.464230000000001, 'nd': -13.731401000000002, 'geo-hafs': -34.38147166666667, 'geo-mafs': -22.951871666666666, 'nohafs': -140.93902333333335}\n",
        "Returning power data {'nomass': -17.681776499999998, 'geo-mass': -14.837513, 'nomafs': -20.184189999999997, 'nd': -12.097586, 'geo-hafs': -17.281763999999999, 'geo-mafs': -15.567323999999999, 'nohafs': -140.515085} "
       ]
      },
      {
       "output_type": "stream",
       "stream": "stdout",
       "text": [
        "\n",
        "{'nomass': -17.681776499999998, 'geo-mass': -14.837513, 'nomafs': -20.184189999999997, 'nd': -12.097586, 'geo-hafs': -17.281763999999999, 'geo-mafs': -15.567323999999999, 'nohafs': -140.515085}\n",
        "Returning power data {'nomass': -17.025019666666665, 'geo-mass': -14.174017666666668, 'nomafs': -19.43736333333333, 'nd': -11.310167333333334, 'geo-hafs': -15.803518333333333, 'geo-mafs': -14.660558333333334, 'nohafs': -131.25704333333331} "
       ]
      },
      {
       "output_type": "stream",
       "stream": "stdout",
       "text": [
        "\n",
        "{'nomass': -17.025019666666665, 'geo-mass': -14.174017666666668, 'nomafs': -19.43736333333333, 'nd': -11.310167333333334, 'geo-hafs': -15.803518333333333, 'geo-mafs': -14.660558333333334, 'nohafs': -131.25704333333331}\n",
        "Returning power data {'nomass': -17.560946999999999, 'geo-mass': -14.776562999999999, 'nomafs': -20.450154999999999, 'nd': -11.87169241666667, 'geo-hafs': -18.442939499999998, 'geo-mafs': -15.8712795, 'nohafs': -135.87446499999999} "
       ]
      },
      {
       "output_type": "stream",
       "stream": "stdout",
       "text": [
        "\n",
        "{'nomass': -17.560946999999999, 'geo-mass': -14.776562999999999, 'nomafs': -20.450154999999999, 'nd': -11.87169241666667, 'geo-hafs': -18.442939499999998, 'geo-mafs': -15.8712795, 'nohafs': -135.87446499999999}\n",
        "Returning power data {'nomass': -16.630626000000003, 'geo-mass': -13.944530333333333, 'nomafs': -18.736576666666661, 'nd': -11.507775666666667, 'geo-hafs': -15.574031, 'geo-mafs': -14.431070999999999, 'nohafs': -134.91327333333334} "
       ]
      },
      {
       "output_type": "stream",
       "stream": "stdout",
       "text": [
        "\n",
        "{'nomass': -16.630626000000003, 'geo-mass': -13.944530333333333, 'nomafs': -18.736576666666661, 'nd': -11.507775666666667, 'geo-hafs': -15.574031, 'geo-mafs': -14.431070999999999, 'nohafs': -134.91327333333334}\n",
        "Returning power data {'nomass': -17.352516999999999, 'geo-mass': -14.47058, 'nomafs': -19.059459999999998, 'nd': -12.091047000000001, 'geo-hafs': -14.47058, 'geo-mafs': -14.47058, 'nohafs': -144.16503000000003} "
       ]
      },
      {
       "output_type": "stream",
       "stream": "stdout",
       "text": [
        "\n",
        "{'nomass': -17.352516999999999, 'geo-mass': -14.47058, 'nomafs': -19.059459999999998, 'nd': -12.091047000000001, 'geo-hafs': -14.47058, 'geo-mafs': -14.47058, 'nohafs': -144.16503000000003}\n",
        "Returning power data {'nomass': -17.360347416666663, 'geo-mass': -14.542654416666666, 'nomafs': -20.071940833333333, 'nd': -11.635887833333335, 'geo-hafs': -17.394280583333334, 'geo-mafs': -15.394100583333334, 'nohafs': -133.8368058333333} "
       ]
      },
      {
       "output_type": "stream",
       "stream": "stdout",
       "text": [
        "\n",
        "{'nomass': -17.360347416666663, 'geo-mass': -14.542654416666666, 'nomafs': -20.071940833333333, 'nd': -11.635887833333335, 'geo-hafs': -17.394280583333334, 'geo-mafs': -15.394100583333334, 'nohafs': -133.8368058333333}\n",
        "Returning power data {'nomass': -19.543138833333327, 'geo-mass': -16.803218816666668, 'nomafs': -24.555366833333327, 'nd': -13.109463033333334, 'geo-hafs': -27.557923216666669, 'geo-mafs': -20.014387216666666, 'nohafs': -141.20598199999998} "
       ]
      },
      {
       "output_type": "stream",
       "stream": "stdout",
       "text": [
        "\n",
        "{'nomass': -19.543138833333327, 'geo-mass': -16.803218816666668, 'nomafs': -24.555366833333327, 'nd': -13.109463033333334, 'geo-hafs': -27.557923216666669, 'geo-mafs': -20.014387216666666, 'nohafs': -141.20598199999998}\n",
        "Returning power data {'nomass': -18.463708999999998, 'geo-mass': -15.61425375, 'nomafs': -22.224982499999999, 'nd': -12.242215249999999, 'geo-hafs': -21.724881250000006, 'geo-mafs': -17.438781249999998, 'nohafs': -136.46636000000001} "
       ]
      },
      {
       "output_type": "stream",
       "stream": "stdout",
       "text": [
        "\n",
        "{'nomass': -18.463708999999998, 'geo-mass': -15.61425375, 'nomafs': -22.224982499999999, 'nd': -12.242215249999999, 'geo-hafs': -21.724881250000006, 'geo-mafs': -17.438781249999998, 'nohafs': -136.46636000000001}\n",
        "Returning power data {'nomass': -18.739412666666666, 'geo-mass': -15.914997, 'nomafs': -21.15681, 'nd': -13.543048000000001, 'geo-hafs': -19.173998333333333, 'geo-mafs': -16.888078333333333, 'nohafs': -158.66138666666666} "
       ]
      },
      {
       "output_type": "stream",
       "stream": "stdout",
       "text": [
        "\n",
        "{'nomass': -18.739412666666666, 'geo-mass': -15.914997, 'nomafs': -21.15681, 'nd': -13.543048000000001, 'geo-hafs': -19.173998333333333, 'geo-mafs': -16.888078333333333, 'nohafs': -158.66138666666666}\n",
        "Returning power data {'nomass': -17.417808000000001, 'geo-mass': -14.585734666666667, 'nomafs': -20.31669333333333, 'nd': -11.542635333333333, 'geo-hafs': -17.844736000000001, 'geo-mafs': -15.558816, 'nohafs': -131.83902666666665} "
       ]
      },
      {
       "output_type": "stream",
       "stream": "stdout",
       "text": [
        "\n",
        "{'nomass': -17.417808000000001, 'geo-mass': -14.585734666666667, 'nomafs': -20.31669333333333, 'nd': -11.542635333333333, 'geo-hafs': -17.844736000000001, 'geo-mafs': -15.558816, 'nohafs': -131.83902666666665}\n"
       ]
      }
     ],
     "prompt_number": 207
    },
    {
     "cell_type": "code",
     "collapsed": false,
     "input": [
      "fig, ax = plt.subplots(nrows=1, ncols=1, figsize=(15,3))\n",
      "android_power_drain_df.boxplot(ax=ax, return_type=\"axes\")"
     ],
     "language": "python",
     "metadata": {},
     "outputs": [
      {
       "metadata": {},
       "output_type": "pyout",
       "prompt_number": 208,
       "text": [
        "<matplotlib.axes.AxesSubplot at 0x1140a1090>"
       ]
      },
      {
       "metadata": {},
       "output_type": "display_data",
       "png": "[encoded data removed]",
       "text": [
        "<matplotlib.figure.Figure at 0x114042910>"
       ]
      }
     ],
     "prompt_number": 208
    },
    {
     "cell_type": "code",
     "collapsed": false,
     "input": [
      "fig, ax = plt.subplots(nrows=1, ncols=1, figsize=(15,3))\n",
      "android_power_drain_df.drop(\"nohafs\", axis=1).boxplot(figsize=(15,3), return_type=\"axes\")"
     ],
     "language": "python",
     "metadata": {},
     "outputs": [
      {
       "metadata": {},
       "output_type": "pyout",
       "prompt_number": 209,
       "text": [
        "<matplotlib.axes.AxesSubplot at 0x114532510>"
       ]
      },
      {
       "metadata": {},
       "output_type": "display_data",
       "png": "[encoded data removed]",
       "text": [
        "<matplotlib.figure.Figure at 0x113db1c10>"
       ]
      }
     ],
     "prompt_number": 209
    },
    {
     "cell_type": "code",
     "collapsed": false,
     "input": [
      "\"nohafs\".replace(\"no\", \"\")"
     ],
     "language": "python",
     "metadata": {},
     "outputs": [
      {
       "metadata": {},
       "output_type": "pyout",
       "prompt_number": 204,
       "text": [
        "'hafs'"
       ]
      }
     ],
     "prompt_number": 204
    },
    {
     "cell_type": "code",
     "collapsed": false,
     "input": [],
     "language": "python",
     "metadata": {},
     "outputs": []
    }
   ],
   "metadata": {}
  }
 ]
}