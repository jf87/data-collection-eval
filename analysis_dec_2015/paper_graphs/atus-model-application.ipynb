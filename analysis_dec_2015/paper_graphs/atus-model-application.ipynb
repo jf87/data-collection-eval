{
 "metadata": {
  "name": "",
  "signature": "sha256:02e5c371ec58b3bcce86ee570664274091a4c26c0fdccdb0ba7f6844d53acb7c"
 },
 "nbformat": 3,
 "nbformat_minor": 0,
 "worksheets": [
  {
   "cells": [
    {
     "cell_type": "code",
     "collapsed": false,
     "input": [
      "import sys"
     ],
     "language": "python",
     "metadata": {},
     "outputs": [],
     "prompt_number": 1
    },
    {
     "cell_type": "code",
     "collapsed": false,
     "input": [
      "sys.path.insert(0, \"../../src/\")"
     ],
     "language": "python",
     "metadata": {},
     "outputs": [],
     "prompt_number": 2
    },
    {
     "cell_type": "code",
     "collapsed": false,
     "input": [
      "import analysis.common as ac\n",
      "import analysis.power_drain_manual as ap"
     ],
     "language": "python",
     "metadata": {},
     "outputs": [],
     "prompt_number": 3
    },
    {
     "cell_type": "code",
     "collapsed": false,
     "input": [
      "reload(ap)"
     ],
     "language": "python",
     "metadata": {},
     "outputs": [
      {
       "metadata": {},
       "output_type": "pyout",
       "prompt_number": 4,
       "text": [
        "<module 'analysis.power_drain_manual' from '../../src/analysis/power_drain_manual.pyc'>"
       ]
      }
     ],
     "prompt_number": 4
    },
    {
     "cell_type": "code",
     "collapsed": false,
     "input": [
      "(iphone_ids, android_ids, phone_labels) = ac.setupPaths()"
     ],
     "language": "python",
     "metadata": {},
     "outputs": [],
     "prompt_number": 5
    },
    {
     "cell_type": "code",
     "collapsed": false,
     "input": [
      "import emission.core.get_database as edb\n",
      "import pandas as pd\n",
      "import matplotlib.pyplot as plt\n",
      "%matplotlib inline\n",
      "import datetime as pydt\n",
      "import numpy as np"
     ],
     "language": "python",
     "metadata": {},
     "outputs": [],
     "prompt_number": 6
    },
    {
     "cell_type": "code",
     "collapsed": false,
     "input": [
      "display_names = [ac.get_display_name(label) for label in phone_labels]"
     ],
     "language": "python",
     "metadata": {},
     "outputs": [],
     "prompt_number": 7
    },
    {
     "cell_type": "code",
     "collapsed": false,
     "input": [
      "android_model = pd.read_csv(\"../../results_dec_2015/model/android_model.csv\")"
     ],
     "language": "python",
     "metadata": {},
     "outputs": [],
     "prompt_number": 8
    },
    {
     "cell_type": "code",
     "collapsed": false,
     "input": [
      "ios_model = pd.read_csv(\"../../results_dec_2015/model/ios_model.csv\")"
     ],
     "language": "python",
     "metadata": {},
     "outputs": [],
     "prompt_number": 9
    },
    {
     "cell_type": "code",
     "collapsed": false,
     "input": [
      "atus_data_all = pd.read_csv(\"../../results_dec_2015/model/atusact_2014.dat\")"
     ],
     "language": "python",
     "metadata": {},
     "outputs": [],
     "prompt_number": 10
    },
    {
     "cell_type": "code",
     "collapsed": false,
     "input": [
      "atus_data_all.columns"
     ],
     "language": "python",
     "metadata": {},
     "outputs": [
      {
       "metadata": {},
       "output_type": "pyout",
       "prompt_number": 11,
       "text": [
        "Index([u'TUCASEID', u'TUACTIVITY_N', u'TEWHERE', u'TRTCCTOT_LN', u'TRTCC_LN',\n",
        "       u'TRTCOC_LN', u'TRTEC_LN', u'TRTHH_LN', u'TRTNOHH_LN', u'TRTOHH_LN',\n",
        "       u'TRTONHH_LN', u'TRTO_LN', u'TUACTDUR', u'TUACTDUR24', u'TUCC5',\n",
        "       u'TUCC5B', u'TUCC7', u'TUCC8', u'TUCUMDUR', u'TUCUMDUR24', u'TUEC24',\n",
        "       u'TUSTARTTIM', u'TUSTOPTIME', u'TUTIER1CODE', u'TUTIER2CODE',\n",
        "       u'TUTIER3CODE', u'TRCODE', u'TRTIER2', u'TXWHERE'],\n",
        "      dtype='object')"
       ]
      }
     ],
     "prompt_number": 11
    },
    {
     "cell_type": "heading",
     "level": 2,
     "metadata": {},
     "source": [
      "Pull out only the fields that we need now"
     ]
    },
    {
     "cell_type": "code",
     "collapsed": false,
     "input": [
      "atus_data_df = atus_data_all[[\"TUCASEID\", \"TUTIER1CODE\", \"TUTIER2CODE\", \"TUTIER3CODE\", \"TEWHERE\", \"TUACTDUR\", \"TUSTARTTIM\", \"TUSTOPTIME\"]]"
     ],
     "language": "python",
     "metadata": {},
     "outputs": [],
     "prompt_number": 12
    },
    {
     "cell_type": "code",
     "collapsed": false,
     "input": [
      "atus_data_df.head()"
     ],
     "language": "python",
     "metadata": {},
     "outputs": [
      {
       "html": [
        "<div style=\"max-width:1500px;overflow:auto;\">\n",
        "<table border=\"1\" class=\"dataframe\">\n",
        "  <thead>\n",
        "    <tr style=\"text-align: right;\">\n",
        "      <th></th>\n",
        "      <th>TUCASEID</th>\n",
        "      <th>TUTIER1CODE</th>\n",
        "      <th>TUTIER2CODE</th>\n",
        "      <th>TUTIER3CODE</th>\n",
        "      <th>TEWHERE</th>\n",
        "      <th>TUACTDUR</th>\n",
        "      <th>TUSTARTTIM</th>\n",
        "      <th>TUSTOPTIME</th>\n",
        "    </tr>\n",
        "  </thead>\n",
        "  <tbody>\n",
        "    <tr>\n",
        "      <th>0</th>\n",
        "      <td>20140101140007</td>\n",
        "      <td>1</td>\n",
        "      <td>1</td>\n",
        "      <td>1</td>\n",
        "      <td>-1</td>\n",
        "      <td>540</td>\n",
        "      <td>04:00:00</td>\n",
        "      <td>13:00:00</td>\n",
        "    </tr>\n",
        "    <tr>\n",
        "      <th>1</th>\n",
        "      <td>20140101140007</td>\n",
        "      <td>3</td>\n",
        "      <td>1</td>\n",
        "      <td>1</td>\n",
        "      <td>1</td>\n",
        "      <td>30</td>\n",
        "      <td>13:00:00</td>\n",
        "      <td>13:30:00</td>\n",
        "    </tr>\n",
        "    <tr>\n",
        "      <th>2</th>\n",
        "      <td>20140101140007</td>\n",
        "      <td>1</td>\n",
        "      <td>2</td>\n",
        "      <td>1</td>\n",
        "      <td>-1</td>\n",
        "      <td>60</td>\n",
        "      <td>13:30:00</td>\n",
        "      <td>14:30:00</td>\n",
        "    </tr>\n",
        "    <tr>\n",
        "      <th>3</th>\n",
        "      <td>20140101140007</td>\n",
        "      <td>18</td>\n",
        "      <td>11</td>\n",
        "      <td>1</td>\n",
        "      <td>13</td>\n",
        "      <td>10</td>\n",
        "      <td>14:30:00</td>\n",
        "      <td>14:40:00</td>\n",
        "    </tr>\n",
        "    <tr>\n",
        "      <th>4</th>\n",
        "      <td>20140101140007</td>\n",
        "      <td>11</td>\n",
        "      <td>1</td>\n",
        "      <td>1</td>\n",
        "      <td>4</td>\n",
        "      <td>30</td>\n",
        "      <td>14:40:00</td>\n",
        "      <td>15:10:00</td>\n",
        "    </tr>\n",
        "  </tbody>\n",
        "</table>\n",
        "</div>"
       ],
       "metadata": {},
       "output_type": "pyout",
       "prompt_number": 13,
       "text": [
        "         TUCASEID  TUTIER1CODE  TUTIER2CODE  TUTIER3CODE  TEWHERE  TUACTDUR  \\\n",
        "0  20140101140007            1            1            1       -1       540   \n",
        "1  20140101140007            3            1            1        1        30   \n",
        "2  20140101140007            1            2            1       -1        60   \n",
        "3  20140101140007           18           11            1       13        10   \n",
        "4  20140101140007           11            1            1        4        30   \n",
        "\n",
        "  TUSTARTTIM TUSTOPTIME  \n",
        "0   04:00:00   13:00:00  \n",
        "1   13:00:00   13:30:00  \n",
        "2   13:30:00   14:30:00  \n",
        "3   14:30:00   14:40:00  \n",
        "4   14:40:00   15:10:00  "
       ]
      }
     ],
     "prompt_number": 13
    },
    {
     "cell_type": "code",
     "collapsed": false,
     "input": [
      "user_list = atus_data_df.TUCASEID.unique()\n",
      "print user_list[0:10], len(user_list)"
     ],
     "language": "python",
     "metadata": {},
     "outputs": [
      {
       "output_type": "stream",
       "stream": "stdout",
       "text": [
        "[20140101140007 20140101140011 20140101140028 20140101140063 20140101140168\n",
        " 20140101140537 20140101140559 20140101140610 20140101140614 20140101140639] 11592\n"
       ]
      }
     ],
     "prompt_number": 14
    },
    {
     "cell_type": "heading",
     "level": 2,
     "metadata": {},
     "source": [
      "Brief exploration of the ATUS data"
     ]
    },
    {
     "cell_type": "code",
     "collapsed": false,
     "input": [
      "atus_data_df.groupby(\"TUCASEID\").count().head()"
     ],
     "language": "python",
     "metadata": {},
     "outputs": [
      {
       "html": [
        "<div style=\"max-width:1500px;overflow:auto;\">\n",
        "<table border=\"1\" class=\"dataframe\">\n",
        "  <thead>\n",
        "    <tr style=\"text-align: right;\">\n",
        "      <th></th>\n",
        "      <th>TUTIER1CODE</th>\n",
        "      <th>TUTIER2CODE</th>\n",
        "      <th>TUTIER3CODE</th>\n",
        "      <th>TEWHERE</th>\n",
        "      <th>TUACTDUR</th>\n",
        "      <th>TUSTARTTIM</th>\n",
        "      <th>TUSTOPTIME</th>\n",
        "    </tr>\n",
        "    <tr>\n",
        "      <th>TUCASEID</th>\n",
        "      <th></th>\n",
        "      <th></th>\n",
        "      <th></th>\n",
        "      <th></th>\n",
        "      <th></th>\n",
        "      <th></th>\n",
        "      <th></th>\n",
        "    </tr>\n",
        "  </thead>\n",
        "  <tbody>\n",
        "    <tr>\n",
        "      <th>20140101140007</th>\n",
        "      <td>10</td>\n",
        "      <td>10</td>\n",
        "      <td>10</td>\n",
        "      <td>10</td>\n",
        "      <td>10</td>\n",
        "      <td>10</td>\n",
        "      <td>10</td>\n",
        "    </tr>\n",
        "    <tr>\n",
        "      <th>20140101140011</th>\n",
        "      <td>18</td>\n",
        "      <td>18</td>\n",
        "      <td>18</td>\n",
        "      <td>18</td>\n",
        "      <td>18</td>\n",
        "      <td>18</td>\n",
        "      <td>18</td>\n",
        "    </tr>\n",
        "    <tr>\n",
        "      <th>20140101140028</th>\n",
        "      <td>10</td>\n",
        "      <td>10</td>\n",
        "      <td>10</td>\n",
        "      <td>10</td>\n",
        "      <td>10</td>\n",
        "      <td>10</td>\n",
        "      <td>10</td>\n",
        "    </tr>\n",
        "    <tr>\n",
        "      <th>20140101140063</th>\n",
        "      <td>9</td>\n",
        "      <td>9</td>\n",
        "      <td>9</td>\n",
        "      <td>9</td>\n",
        "      <td>9</td>\n",
        "      <td>9</td>\n",
        "      <td>9</td>\n",
        "    </tr>\n",
        "    <tr>\n",
        "      <th>20140101140168</th>\n",
        "      <td>20</td>\n",
        "      <td>20</td>\n",
        "      <td>20</td>\n",
        "      <td>20</td>\n",
        "      <td>20</td>\n",
        "      <td>20</td>\n",
        "      <td>20</td>\n",
        "    </tr>\n",
        "  </tbody>\n",
        "</table>\n",
        "</div>"
       ],
       "metadata": {},
       "output_type": "pyout",
       "prompt_number": 15,
       "text": [
        "                TUTIER1CODE  TUTIER2CODE  TUTIER3CODE  TEWHERE  TUACTDUR  \\\n",
        "TUCASEID                                                                   \n",
        "20140101140007           10           10           10       10        10   \n",
        "20140101140011           18           18           18       18        18   \n",
        "20140101140028           10           10           10       10        10   \n",
        "20140101140063            9            9            9        9         9   \n",
        "20140101140168           20           20           20       20        20   \n",
        "\n",
        "                TUSTARTTIM  TUSTOPTIME  \n",
        "TUCASEID                                \n",
        "20140101140007          10          10  \n",
        "20140101140011          18          18  \n",
        "20140101140028          10          10  \n",
        "20140101140063           9           9  \n",
        "20140101140168          20          20  "
       ]
      }
     ],
     "prompt_number": 15
    },
    {
     "cell_type": "code",
     "collapsed": false,
     "input": [
      "atus_data_df.groupby(\"TUCASEID\").count().TUTIER1CODE.hist()"
     ],
     "language": "python",
     "metadata": {},
     "outputs": [
      {
       "metadata": {},
       "output_type": "pyout",
       "prompt_number": 16,
       "text": [
        "<matplotlib.axes.AxesSubplot at 0x109473d10>"
       ]
      },
      {
       "metadata": {},
       "output_type": "display_data",
       "png": "[encoded data removed]",
       "text": [
        "<matplotlib.figure.Figure at 0x109473e50>"
       ]
      }
     ],
     "prompt_number": 16
    },
    {
     "cell_type": "code",
     "collapsed": false,
     "input": [
      "atus_data_df.groupby(\"TUCASEID\").count().TUTIER1CODE.hist(bins=50)"
     ],
     "language": "python",
     "metadata": {},
     "outputs": [
      {
       "metadata": {},
       "output_type": "pyout",
       "prompt_number": 17,
       "text": [
        "<matplotlib.axes.AxesSubplot at 0x1021b9a50>"
       ]
      },
      {
       "metadata": {},
       "output_type": "display_data",
       "png": "[encoded data removed]",
       "text": [
        "<matplotlib.figure.Figure at 0x10217da50>"
       ]
      }
     ],
     "prompt_number": 17
    },
    {
     "cell_type": "heading",
     "level": 2,
     "metadata": {},
     "source": [
      "Brief exploration of the model"
     ]
    },
    {
     "cell_type": "code",
     "collapsed": false,
     "input": [
      "android_model"
     ],
     "language": "python",
     "metadata": {},
     "outputs": [
      {
       "html": [
        "<div style=\"max-width:1500px;overflow:auto;\">\n",
        "<table border=\"1\" class=\"dataframe\">\n",
        "  <thead>\n",
        "    <tr style=\"text-align: right;\">\n",
        "      <th></th>\n",
        "      <th>state</th>\n",
        "      <th>nd</th>\n",
        "      <th>nohafs</th>\n",
        "      <th>nomafs</th>\n",
        "      <th>nomass</th>\n",
        "      <th>geofenced</th>\n",
        "    </tr>\n",
        "  </thead>\n",
        "  <tbody>\n",
        "    <tr>\n",
        "      <th>0</th>\n",
        "      <td>active</td>\n",
        "      <td>-0.524340</td>\n",
        "      <td>-4.87566</td>\n",
        "      <td>-1.05426</td>\n",
        "      <td>-0.66685</td>\n",
        "      <td>-0.696290</td>\n",
        "    </tr>\n",
        "    <tr>\n",
        "      <th>1</th>\n",
        "      <td>moving</td>\n",
        "      <td>-0.498000</td>\n",
        "      <td>-5.47260</td>\n",
        "      <td>-2.41247</td>\n",
        "      <td>-1.41232</td>\n",
        "      <td>NaN</td>\n",
        "    </tr>\n",
        "    <tr>\n",
        "      <th>2</th>\n",
        "      <td>passive</td>\n",
        "      <td>-0.373357</td>\n",
        "      <td>-4.75929</td>\n",
        "      <td>-0.40174</td>\n",
        "      <td>-0.36613</td>\n",
        "      <td>-0.477687</td>\n",
        "    </tr>\n",
        "  </tbody>\n",
        "</table>\n",
        "</div>"
       ],
       "metadata": {},
       "output_type": "pyout",
       "prompt_number": 18,
       "text": [
        "     state        nd   nohafs   nomafs   nomass  geofenced\n",
        "0   active -0.524340 -4.87566 -1.05426 -0.66685  -0.696290\n",
        "1   moving -0.498000 -5.47260 -2.41247 -1.41232        NaN\n",
        "2  passive -0.373357 -4.75929 -0.40174 -0.36613  -0.477687"
       ]
      }
     ],
     "prompt_number": 18
    },
    {
     "cell_type": "code",
     "collapsed": false,
     "input": [
      "ios_model"
     ],
     "language": "python",
     "metadata": {},
     "outputs": [
      {
       "html": [
        "<div style=\"max-width:1500px;overflow:auto;\">\n",
        "<table border=\"1\" class=\"dataframe\">\n",
        "  <thead>\n",
        "    <tr style=\"text-align: right;\">\n",
        "      <th></th>\n",
        "      <th>state</th>\n",
        "      <th>nd</th>\n",
        "      <th>nohafs</th>\n",
        "      <th>nomafs</th>\n",
        "      <th>nomass</th>\n",
        "      <th>geofenced</th>\n",
        "    </tr>\n",
        "  </thead>\n",
        "  <tbody>\n",
        "    <tr>\n",
        "      <th>0</th>\n",
        "      <td>active</td>\n",
        "      <td>-0.32599</td>\n",
        "      <td>-4.25766</td>\n",
        "      <td>-2.47322</td>\n",
        "      <td>-2.378493</td>\n",
        "      <td>-0.83036</td>\n",
        "    </tr>\n",
        "    <tr>\n",
        "      <th>1</th>\n",
        "      <td>moving</td>\n",
        "      <td>-0.75556</td>\n",
        "      <td>-5.08588</td>\n",
        "      <td>-1.98132</td>\n",
        "      <td>-2.758880</td>\n",
        "      <td>NaN</td>\n",
        "    </tr>\n",
        "    <tr>\n",
        "      <th>2</th>\n",
        "      <td>passive</td>\n",
        "      <td>-0.23437</td>\n",
        "      <td>-3.35843</td>\n",
        "      <td>-1.55772</td>\n",
        "      <td>-0.917960</td>\n",
        "      <td>-0.55316</td>\n",
        "    </tr>\n",
        "  </tbody>\n",
        "</table>\n",
        "</div>"
       ],
       "metadata": {},
       "output_type": "pyout",
       "prompt_number": 19,
       "text": [
        "     state       nd   nohafs   nomafs    nomass  geofenced\n",
        "0   active -0.32599 -4.25766 -2.47322 -2.378493   -0.83036\n",
        "1   moving -0.75556 -5.08588 -1.98132 -2.758880        NaN\n",
        "2  passive -0.23437 -3.35843 -1.55772 -0.917960   -0.55316"
       ]
      }
     ],
     "prompt_number": 19
    },
    {
     "cell_type": "code",
     "collapsed": false,
     "input": [
      "fig,axes = plt.subplots(nrows=1, ncols=2, figsize=(9,3), sharey=True)\n",
      "android_model.plot(kind=\"bar\", x=\"state\", ax=axes[0], rot=0)\n",
      "ios_model.plot(kind=\"bar\", x=\"state\", ax=axes[1], rot=0, legend=False)\n",
      "axes[0].legend(loc=(0.5,0), mode='expand', bbox_to_anchor=(-0.85, 0., 0.5, 0.5))\n",
      "axes[0].set_ylabel(\"% drain/hr\")\n",
      "axes[0].set_title(\"android\")\n",
      "axes[1].set_title(\"ios\")\n",
      "fig.tight_layout()"
     ],
     "language": "python",
     "metadata": {},
     "outputs": [
      {
       "metadata": {},
       "output_type": "display_data",
       "png": "[encoded data removed]",
       "text": [
        "<matplotlib.figure.Figure at 0x109dae3d0>"
       ]
      }
     ],
     "prompt_number": 15
    },
    {
     "cell_type": "heading",
     "level": 2,
     "metadata": {},
     "source": [
      "Trip duration check"
     ]
    },
    {
     "cell_type": "code",
     "collapsed": false,
     "input": [
      "ios_exit_model = pd.read_csv(\"../../results_dec_2015/model/ios_exit_model.csv\")\n",
      "android_exit_model = pd.read_csv(\"../../results_dec_2015/model/android_exit_model.csv\")"
     ],
     "language": "python",
     "metadata": {},
     "outputs": [],
     "prompt_number": 21
    },
    {
     "cell_type": "code",
     "collapsed": false,
     "input": [
      "def get_affected_pct(mean_val_secs):\n",
      "    mean_val_mins = float(mean_val_secs) / 60\n",
      "    three_fourth_gone_mins = mean_val_mins * (100.0/75)\n",
      "    print \"mean_val_secs = %f, mean_val_mins = %f, three_fourth_gone_mins = %f\" % (mean_val_secs, mean_val_mins, three_fourth_gone_mins)\n",
      "    all_trip_count = np.count_nonzero(atus_data_df.TUTIER1CODE == 18)\n",
      "    missed_trip_count = np.count_nonzero((atus_data_df.TUTIER1CODE == 18) & (atus_data_df.TUACTDUR < mean_val_mins))\n",
      "    significantly_affected_trip_count = np.count_nonzero((atus_data_df.TUTIER1CODE == 18) & (atus_data_df.TUACTDUR < three_fourth_gone_mins))\n",
      "    missed_trip_pct = float(missed_trip_count)/all_trip_count\n",
      "    significantly_affected_trip_pct = float(significantly_affected_trip_count)/all_trip_count\n",
      "    print(\"all_trips = %d, missed = %d, affected = %d, missedpct = %f, affectedpct = %f\" % \n",
      "                  (all_trip_count, missed_trip_count, significantly_affected_trip_count, missed_trip_pct, significantly_affected_trip_pct))\n",
      "    return (missed_trip_pct, significantly_affected_trip_pct)"
     ],
     "language": "python",
     "metadata": {},
     "outputs": [],
     "prompt_number": 22
    },
    {
     "cell_type": "code",
     "collapsed": false,
     "input": [
      "get_affected_pct(ios_exit_model[ios_exit_model.regime==\"hafs\"].trip_start_to_first_point.iloc[0])"
     ],
     "language": "python",
     "metadata": {},
     "outputs": [
      {
       "output_type": "stream",
       "stream": "stdout",
       "text": [
        "mean_val_secs = 702.707984, mean_val_mins = 11.711800, three_fourth_gone_mins = 15.615733\n",
        "all_trips = 42371, missed = 20390, affected = 27948, missedpct = 0.481225, affectedpct = 0.659602\n"
       ]
      },
      {
       "metadata": {},
       "output_type": "pyout",
       "prompt_number": 23,
       "text": [
        "(0.48122536640626845, 0.6596020863326332)"
       ]
      }
     ],
     "prompt_number": 23
    },
    {
     "cell_type": "code",
     "collapsed": false,
     "input": [
      "get_affected_pct(9 * 60)"
     ],
     "language": "python",
     "metadata": {},
     "outputs": [
      {
       "output_type": "stream",
       "stream": "stdout",
       "text": [
        "mean_val_secs = 540.000000, mean_val_mins = 9.000000, three_fourth_gone_mins = 12.000000\n",
        "all_trips = 42371, missed = 11946, affected = 20390, missedpct = 0.281938, affectedpct = 0.481225\n"
       ]
      },
      {
       "metadata": {},
       "output_type": "pyout",
       "prompt_number": 24,
       "text": [
        "(0.2819381180524415, 0.48122536640626845)"
       ]
      }
     ],
     "prompt_number": 24
    },
    {
     "cell_type": "code",
     "collapsed": false,
     "input": [
      "get_affected_pct(android_exit_model[android_exit_model.regime==\"hafs\"].trip_start_to_first_point.iloc[0])"
     ],
     "language": "python",
     "metadata": {},
     "outputs": [
      {
       "output_type": "stream",
       "stream": "stdout",
       "text": [
        "mean_val_secs = 616.000000, mean_val_mins = 10.266667, three_fourth_gone_mins = 13.688889\n",
        "all_trips = 42371, missed = 20367, affected = 20679, missedpct = 0.480683, affectedpct = 0.488046\n"
       ]
      },
      {
       "metadata": {},
       "output_type": "pyout",
       "prompt_number": 25,
       "text": [
        "(0.48068254230487834, 0.4880460692454745)"
       ]
      }
     ],
     "prompt_number": 25
    },
    {
     "cell_type": "code",
     "collapsed": false,
     "input": [
      "atus_data_df[(atus_data_df.TUTIER1CODE == 18) & (atus_data_df.TUACTDUR < 100)].TUACTDUR.plot(kind='hist', bins = 100, cumulative=True, figsize=(12,3))"
     ],
     "language": "python",
     "metadata": {},
     "outputs": [
      {
       "metadata": {},
       "output_type": "pyout",
       "prompt_number": 26,
       "text": [
        "<matplotlib.axes.AxesSubplot at 0x10b2df9d0>"
       ]
      },
      {
       "metadata": {},
       "output_type": "display_data",
       "png": "[encoded data removed]",
       "text": [
        "<matplotlib.figure.Figure at 0x10a50cd90>"
       ]
      }
     ],
     "prompt_number": 26
    },
    {
     "cell_type": "heading",
     "level": 2,
     "metadata": {},
     "source": [
      "Estimate power drain under various regimes models for a random subset of users"
     ]
    },
    {
     "cell_type": "code",
     "collapsed": false,
     "input": [
      "sel_user_list = user_list"
     ],
     "language": "python",
     "metadata": {},
     "outputs": [],
     "prompt_number": 31
    },
    {
     "cell_type": "code",
     "collapsed": false,
     "input": [
      "android_power_drain_df = ap.get_predicted_power_drain_df(atus_data_df, sel_user_list, android_model)\n",
      "ios_power_drain_df = ap.get_predicted_power_drain_df(atus_data_df, sel_user_list, ios_model)"
     ],
     "language": "python",
     "metadata": {},
     "outputs": [],
     "prompt_number": 32
    },
    {
     "cell_type": "code",
     "collapsed": false,
     "input": [
      "fig, axes = plt.subplots(nrows=1, ncols=2, figsize=(15,3))\n",
      "android_power_drain_df.boxplot(ax=axes[0], return_type=\"axes\")\n",
      "android_power_drain_df.drop(\"nohafs\", axis=1).boxplot(ax=axes[1], return_type=\"axes\")"
     ],
     "language": "python",
     "metadata": {},
     "outputs": [
      {
       "metadata": {},
       "output_type": "pyout",
       "prompt_number": 33,
       "text": [
        "<matplotlib.axes.AxesSubplot at 0x10abe9750>"
       ]
      },
      {
       "metadata": {},
       "output_type": "display_data",
       "png": "[encoded data removed]",
       "text": [
        "<matplotlib.figure.Figure at 0x10b22ba50>"
       ]
      }
     ],
     "prompt_number": 33
    },
    {
     "cell_type": "code",
     "collapsed": false,
     "input": [
      "fig, axes = plt.subplots(nrows=1, ncols=2, figsize=(15,3))\n",
      "ios_power_drain_df.boxplot(ax=axes[0], return_type=\"axes\")\n",
      "ios_power_drain_df.drop(\"nohafs\", axis=1).boxplot(ax=axes[1], return_type=\"axes\")"
     ],
     "language": "python",
     "metadata": {},
     "outputs": [
      {
       "metadata": {},
       "output_type": "pyout",
       "prompt_number": 34,
       "text": [
        "<matplotlib.axes.AxesSubplot at 0x10c49e450>"
       ]
      },
      {
       "metadata": {},
       "output_type": "display_data",
       "png": "[encoded data removed]",
       "text": [
        "<matplotlib.figure.Figure at 0x10b977350>"
       ]
      }
     ],
     "prompt_number": 34
    },
    {
     "cell_type": "code",
     "collapsed": false,
     "input": [],
     "language": "python",
     "metadata": {},
     "outputs": []
    }
   ],
   "metadata": {}
  }
 ]
}