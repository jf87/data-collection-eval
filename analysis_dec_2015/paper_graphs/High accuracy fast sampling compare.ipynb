{
 "metadata": {
  "name": "",
  "signature": "sha256:98fdc8f625672d13315b4ae1145dae613b00047e604bc9c17b0de97d21da366c"
 },
 "nbformat": 3,
 "nbformat_minor": 0,
 "worksheets": [
  {
   "cells": [
    {
     "cell_type": "code",
     "collapsed": false,
     "input": [
      "import sys"
     ],
     "language": "python",
     "metadata": {},
     "outputs": [],
     "prompt_number": 1
    },
    {
     "cell_type": "code",
     "collapsed": false,
     "input": [
      "sys.path.insert(0, \"../../src/\")"
     ],
     "language": "python",
     "metadata": {},
     "outputs": [],
     "prompt_number": 2
    },
    {
     "cell_type": "code",
     "collapsed": false,
     "input": [
      "import analysis.common as ac\n",
      "import analysis.power_drain_manual as ap"
     ],
     "language": "python",
     "metadata": {},
     "outputs": [],
     "prompt_number": 4
    },
    {
     "cell_type": "code",
     "collapsed": false,
     "input": [
      "reload(ap)"
     ],
     "language": "python",
     "metadata": {},
     "outputs": [
      {
       "metadata": {},
       "output_type": "pyout",
       "prompt_number": 30,
       "text": [
        "<module 'analysis.power_drain_manual' from '../../src/analysis/power_drain_manual.py'>"
       ]
      }
     ],
     "prompt_number": 30
    },
    {
     "cell_type": "code",
     "collapsed": false,
     "input": [
      "(iphone_ids, android_ids, phone_labels) = ac.setupPaths()"
     ],
     "language": "python",
     "metadata": {},
     "outputs": [],
     "prompt_number": 6
    },
    {
     "cell_type": "code",
     "collapsed": false,
     "input": [
      "import emission.core.get_database as edb\n",
      "import pandas as pd\n",
      "import matplotlib.pyplot as plt\n",
      "%matplotlib inline\n",
      "import datetime as pydt"
     ],
     "language": "python",
     "metadata": {},
     "outputs": [],
     "prompt_number": 7
    },
    {
     "cell_type": "code",
     "collapsed": false,
     "input": [
      "display_names = [ac.get_display_name(label) for label in phone_labels]"
     ],
     "language": "python",
     "metadata": {},
     "outputs": [],
     "prompt_number": 8
    },
    {
     "cell_type": "code",
     "collapsed": false,
     "input": [
      "drain_df_map = {}"
     ],
     "language": "python",
     "metadata": {},
     "outputs": [],
     "prompt_number": 9
    },
    {
     "cell_type": "code",
     "collapsed": false,
     "input": [
      "drain_df_map[\"ios.1\"] = pd.read_csv(\"../../results_dec_2015/ucb.sdb.ios.1/power_logs/nd_manual_1449344421.log\")\n",
      "drain_df_map[\"ios.2\"] = pd.read_csv(\"../../results_dec_2015/ucb.sdb.ios.2/power_logs/noha5m_manual_1449344421.log\")\n",
      "drain_df_map[\"ios.3\"] = pd.read_csv(\"../../results_dec_2015/ucb.sdb.ios.3/power_logs/geo100m-ha5m_manual_1449344421.log\")"
     ],
     "language": "python",
     "metadata": {},
     "outputs": [],
     "prompt_number": 10
    },
    {
     "cell_type": "code",
     "collapsed": false,
     "input": [
      "drain_df_map[\"android.1\"] = pd.read_csv(\"../../results_dec_2015/ucb.sdb.android.1/power_logs/nd_manual_1449344421.log\")\n",
      "drain_df_map[\"android.2\"] = pd.read_csv(\"../../results_dec_2015/ucb.sdb.android.2/power_logs/noha2s_manual_1449344421.log\")\n",
      "drain_df_map[\"android.3\"] = pd.read_csv(\"../../results_dec_2015/ucb.sdb.android.3/power_logs/geo100m-ha2s_manual_1449344421.log\")"
     ],
     "language": "python",
     "metadata": {},
     "outputs": [],
     "prompt_number": 11
    },
    {
     "cell_type": "code",
     "collapsed": false,
     "input": [
      "regime_map = {}"
     ],
     "language": "python",
     "metadata": {},
     "outputs": [],
     "prompt_number": 12
    },
    {
     "cell_type": "code",
     "collapsed": false,
     "input": [
      "regime_map[\"ios.1\"] = \"nd\"\n",
      "regime_map[\"ios.2\"] = \"ha5m\"\n",
      "regime_map[\"ios.3\"] = \"geo100m-ha5m\""
     ],
     "language": "python",
     "metadata": {},
     "outputs": [],
     "prompt_number": 13
    },
    {
     "cell_type": "code",
     "collapsed": false,
     "input": [
      "regime_map[\"android.1\"] = \"nd\"\n",
      "regime_map[\"android.2\"] = \"ha2s\"\n",
      "regime_map[\"android.3\"] = \"geo100m-ha2s\""
     ],
     "language": "python",
     "metadata": {},
     "outputs": [],
     "prompt_number": 14
    },
    {
     "cell_type": "code",
     "collapsed": false,
     "input": [
      "for drain_df in drain_df_map.values():\n",
      "    drain_df[\"fmt_time\"] = drain_df.ts.map(lambda(t): pydt.datetime.fromtimestamp(t))"
     ],
     "language": "python",
     "metadata": {},
     "outputs": [],
     "prompt_number": 15
    },
    {
     "cell_type": "code",
     "collapsed": false,
     "input": [
      "drain_df"
     ],
     "language": "python",
     "metadata": {},
     "outputs": [
      {
       "html": [
        "<div style=\"max-width:1500px;overflow:auto;\">\n",
        "<table border=\"1\" class=\"dataframe\">\n",
        "  <thead>\n",
        "    <tr style=\"text-align: right;\">\n",
        "      <th></th>\n",
        "      <th>key</th>\n",
        "      <th>ts</th>\n",
        "      <th>value</th>\n",
        "      <th>fmt_time</th>\n",
        "    </tr>\n",
        "  </thead>\n",
        "  <tbody>\n",
        "    <tr>\n",
        "      <th>0</th>\n",
        "      <td>battery_level</td>\n",
        "      <td>1.449344e+09</td>\n",
        "      <td>100</td>\n",
        "      <td>2015-12-05 11:40:21.210</td>\n",
        "    </tr>\n",
        "    <tr>\n",
        "      <th>1</th>\n",
        "      <td>battery_level</td>\n",
        "      <td>1.449346e+09</td>\n",
        "      <td>100</td>\n",
        "      <td>2015-12-05 12:07:38.270</td>\n",
        "    </tr>\n",
        "    <tr>\n",
        "      <th>2</th>\n",
        "      <td>battery_level</td>\n",
        "      <td>1.449347e+09</td>\n",
        "      <td>100</td>\n",
        "      <td>2015-12-05 12:30:45.170</td>\n",
        "    </tr>\n",
        "    <tr>\n",
        "      <th>3</th>\n",
        "      <td>battery_level</td>\n",
        "      <td>1.449350e+09</td>\n",
        "      <td>100</td>\n",
        "      <td>2015-12-05 13:13:51.810</td>\n",
        "    </tr>\n",
        "    <tr>\n",
        "      <th>4</th>\n",
        "      <td>battery_level</td>\n",
        "      <td>1.449351e+09</td>\n",
        "      <td>100</td>\n",
        "      <td>2015-12-05 13:32:57.080</td>\n",
        "    </tr>\n",
        "    <tr>\n",
        "      <th>5</th>\n",
        "      <td>battery_level</td>\n",
        "      <td>1.449354e+09</td>\n",
        "      <td>100</td>\n",
        "      <td>2015-12-05 14:16:23.330</td>\n",
        "    </tr>\n",
        "    <tr>\n",
        "      <th>6</th>\n",
        "      <td>battery_level</td>\n",
        "      <td>1.449356e+09</td>\n",
        "      <td>100</td>\n",
        "      <td>2015-12-05 14:46:05.360</td>\n",
        "    </tr>\n",
        "    <tr>\n",
        "      <th>7</th>\n",
        "      <td>battery_level</td>\n",
        "      <td>1.449358e+09</td>\n",
        "      <td>100</td>\n",
        "      <td>2015-12-05 15:27:15.450</td>\n",
        "    </tr>\n",
        "    <tr>\n",
        "      <th>8</th>\n",
        "      <td>battery_level</td>\n",
        "      <td>1.449360e+09</td>\n",
        "      <td>99</td>\n",
        "      <td>2015-12-05 16:03:17.090</td>\n",
        "    </tr>\n",
        "    <tr>\n",
        "      <th>9</th>\n",
        "      <td>battery_level</td>\n",
        "      <td>1.449362e+09</td>\n",
        "      <td>97</td>\n",
        "      <td>2015-12-05 16:35:39.400</td>\n",
        "    </tr>\n",
        "    <tr>\n",
        "      <th>10</th>\n",
        "      <td>battery_level</td>\n",
        "      <td>1.449364e+09</td>\n",
        "      <td>96</td>\n",
        "      <td>2015-12-05 17:06:45.060</td>\n",
        "    </tr>\n",
        "    <tr>\n",
        "      <th>11</th>\n",
        "      <td>battery_level</td>\n",
        "      <td>1.449366e+09</td>\n",
        "      <td>95</td>\n",
        "      <td>2015-12-05 17:32:08.910</td>\n",
        "    </tr>\n",
        "    <tr>\n",
        "      <th>12</th>\n",
        "      <td>battery_level</td>\n",
        "      <td>1.449368e+09</td>\n",
        "      <td>95</td>\n",
        "      <td>2015-12-05 18:05:02.490</td>\n",
        "    </tr>\n",
        "    <tr>\n",
        "      <th>13</th>\n",
        "      <td>battery_level</td>\n",
        "      <td>1.449369e+09</td>\n",
        "      <td>95</td>\n",
        "      <td>2015-12-05 18:36:35.970</td>\n",
        "    </tr>\n",
        "    <tr>\n",
        "      <th>14</th>\n",
        "      <td>battery_level</td>\n",
        "      <td>1.449371e+09</td>\n",
        "      <td>93</td>\n",
        "      <td>2015-12-05 19:04:39.300</td>\n",
        "    </tr>\n",
        "    <tr>\n",
        "      <th>15</th>\n",
        "      <td>battery_level</td>\n",
        "      <td>1.449373e+09</td>\n",
        "      <td>91</td>\n",
        "      <td>2015-12-05 19:38:06.250</td>\n",
        "    </tr>\n",
        "    <tr>\n",
        "      <th>16</th>\n",
        "      <td>battery_level</td>\n",
        "      <td>1.449376e+09</td>\n",
        "      <td>89</td>\n",
        "      <td>2015-12-05 20:23:23.890</td>\n",
        "    </tr>\n",
        "    <tr>\n",
        "      <th>17</th>\n",
        "      <td>battery_level</td>\n",
        "      <td>1.449378e+09</td>\n",
        "      <td>88</td>\n",
        "      <td>2015-12-05 21:05:25.670</td>\n",
        "    </tr>\n",
        "    <tr>\n",
        "      <th>18</th>\n",
        "      <td>battery_level</td>\n",
        "      <td>1.449379e+09</td>\n",
        "      <td>87</td>\n",
        "      <td>2015-12-05 21:22:29.330</td>\n",
        "    </tr>\n",
        "    <tr>\n",
        "      <th>19</th>\n",
        "      <td>battery_level</td>\n",
        "      <td>1.449417e+09</td>\n",
        "      <td>80</td>\n",
        "      <td>2015-12-06 07:51:26.490</td>\n",
        "    </tr>\n",
        "    <tr>\n",
        "      <th>20</th>\n",
        "      <td>battery_level</td>\n",
        "      <td>1.449419e+09</td>\n",
        "      <td>80</td>\n",
        "      <td>2015-12-06 08:29:22.330</td>\n",
        "    </tr>\n",
        "    <tr>\n",
        "      <th>21</th>\n",
        "      <td>battery_level</td>\n",
        "      <td>1.449423e+09</td>\n",
        "      <td>79</td>\n",
        "      <td>2015-12-06 09:21:56.950</td>\n",
        "    </tr>\n",
        "    <tr>\n",
        "      <th>22</th>\n",
        "      <td>battery_level</td>\n",
        "      <td>1.449424e+09</td>\n",
        "      <td>79</td>\n",
        "      <td>2015-12-06 09:51:17.910</td>\n",
        "    </tr>\n",
        "    <tr>\n",
        "      <th>23</th>\n",
        "      <td>battery_level</td>\n",
        "      <td>1.449425e+09</td>\n",
        "      <td>78</td>\n",
        "      <td>2015-12-06 10:09:58.940</td>\n",
        "    </tr>\n",
        "    <tr>\n",
        "      <th>24</th>\n",
        "      <td>battery_level</td>\n",
        "      <td>1.449428e+09</td>\n",
        "      <td>75</td>\n",
        "      <td>2015-12-06 10:48:53.240</td>\n",
        "    </tr>\n",
        "    <tr>\n",
        "      <th>25</th>\n",
        "      <td>battery_level</td>\n",
        "      <td>1.449430e+09</td>\n",
        "      <td>74</td>\n",
        "      <td>2015-12-06 11:27:45.180</td>\n",
        "    </tr>\n",
        "    <tr>\n",
        "      <th>26</th>\n",
        "      <td>battery_level</td>\n",
        "      <td>1.449431e+09</td>\n",
        "      <td>73</td>\n",
        "      <td>2015-12-06 11:42:42.880</td>\n",
        "    </tr>\n",
        "    <tr>\n",
        "      <th>27</th>\n",
        "      <td>battery_level</td>\n",
        "      <td>1.449432e+09</td>\n",
        "      <td>72</td>\n",
        "      <td>2015-12-06 12:01:06.290</td>\n",
        "    </tr>\n",
        "  </tbody>\n",
        "</table>\n",
        "</div>"
       ],
       "metadata": {},
       "output_type": "pyout",
       "prompt_number": 16,
       "text": [
        "              key            ts  value                fmt_time\n",
        "0   battery_level  1.449344e+09    100 2015-12-05 11:40:21.210\n",
        "1   battery_level  1.449346e+09    100 2015-12-05 12:07:38.270\n",
        "2   battery_level  1.449347e+09    100 2015-12-05 12:30:45.170\n",
        "3   battery_level  1.449350e+09    100 2015-12-05 13:13:51.810\n",
        "4   battery_level  1.449351e+09    100 2015-12-05 13:32:57.080\n",
        "5   battery_level  1.449354e+09    100 2015-12-05 14:16:23.330\n",
        "6   battery_level  1.449356e+09    100 2015-12-05 14:46:05.360\n",
        "7   battery_level  1.449358e+09    100 2015-12-05 15:27:15.450\n",
        "8   battery_level  1.449360e+09     99 2015-12-05 16:03:17.090\n",
        "9   battery_level  1.449362e+09     97 2015-12-05 16:35:39.400\n",
        "10  battery_level  1.449364e+09     96 2015-12-05 17:06:45.060\n",
        "11  battery_level  1.449366e+09     95 2015-12-05 17:32:08.910\n",
        "12  battery_level  1.449368e+09     95 2015-12-05 18:05:02.490\n",
        "13  battery_level  1.449369e+09     95 2015-12-05 18:36:35.970\n",
        "14  battery_level  1.449371e+09     93 2015-12-05 19:04:39.300\n",
        "15  battery_level  1.449373e+09     91 2015-12-05 19:38:06.250\n",
        "16  battery_level  1.449376e+09     89 2015-12-05 20:23:23.890\n",
        "17  battery_level  1.449378e+09     88 2015-12-05 21:05:25.670\n",
        "18  battery_level  1.449379e+09     87 2015-12-05 21:22:29.330\n",
        "19  battery_level  1.449417e+09     80 2015-12-06 07:51:26.490\n",
        "20  battery_level  1.449419e+09     80 2015-12-06 08:29:22.330\n",
        "21  battery_level  1.449423e+09     79 2015-12-06 09:21:56.950\n",
        "22  battery_level  1.449424e+09     79 2015-12-06 09:51:17.910\n",
        "23  battery_level  1.449425e+09     78 2015-12-06 10:09:58.940\n",
        "24  battery_level  1.449428e+09     75 2015-12-06 10:48:53.240\n",
        "25  battery_level  1.449430e+09     74 2015-12-06 11:27:45.180\n",
        "26  battery_level  1.449431e+09     73 2015-12-06 11:42:42.880\n",
        "27  battery_level  1.449432e+09     72 2015-12-06 12:01:06.290"
       ]
      }
     ],
     "prompt_number": 16
    },
    {
     "cell_type": "code",
     "collapsed": false,
     "input": [
      "ground_truth_df = ap.get_ground_truth_df(drain_df, [[0,7,8,13,14,17,18,19,22,23,25,27], \n",
      "                                                    [\"active\", \"moving\", \"active\", \"moving\", \"active\", \"moving\",\"passive\",\"active\",\"moving\",\"active\",\"moving\"]])"
     ],
     "language": "python",
     "metadata": {},
     "outputs": [],
     "prompt_number": 17
    },
    {
     "cell_type": "code",
     "collapsed": false,
     "input": [
      "ground_truth_df"
     ],
     "language": "python",
     "metadata": {},
     "outputs": [
      {
       "html": [
        "<div style=\"max-width:1500px;overflow:auto;\">\n",
        "<table border=\"1\" class=\"dataframe\">\n",
        "  <thead>\n",
        "    <tr style=\"text-align: right;\">\n",
        "      <th></th>\n",
        "      <th>start_index</th>\n",
        "      <th>start_ts</th>\n",
        "      <th>start_fmt_time</th>\n",
        "      <th>start_value</th>\n",
        "      <th>end_index</th>\n",
        "      <th>end_ts</th>\n",
        "      <th>end_fmt_time</th>\n",
        "      <th>end_value</th>\n",
        "      <th>state</th>\n",
        "    </tr>\n",
        "  </thead>\n",
        "  <tbody>\n",
        "    <tr>\n",
        "      <th>0</th>\n",
        "      <td>0</td>\n",
        "      <td>1.449344e+09</td>\n",
        "      <td>2015-12-05 11:40:21.210</td>\n",
        "      <td>100</td>\n",
        "      <td>7</td>\n",
        "      <td>1.449358e+09</td>\n",
        "      <td>2015-12-05 15:27:15.450</td>\n",
        "      <td>100</td>\n",
        "      <td>active</td>\n",
        "    </tr>\n",
        "    <tr>\n",
        "      <th>1</th>\n",
        "      <td>7</td>\n",
        "      <td>1.449358e+09</td>\n",
        "      <td>2015-12-05 15:27:15.450</td>\n",
        "      <td>100</td>\n",
        "      <td>8</td>\n",
        "      <td>1.449360e+09</td>\n",
        "      <td>2015-12-05 16:03:17.090</td>\n",
        "      <td>99</td>\n",
        "      <td>moving</td>\n",
        "    </tr>\n",
        "    <tr>\n",
        "      <th>2</th>\n",
        "      <td>8</td>\n",
        "      <td>1.449360e+09</td>\n",
        "      <td>2015-12-05 16:03:17.090</td>\n",
        "      <td>99</td>\n",
        "      <td>13</td>\n",
        "      <td>1.449369e+09</td>\n",
        "      <td>2015-12-05 18:36:35.970</td>\n",
        "      <td>95</td>\n",
        "      <td>active</td>\n",
        "    </tr>\n",
        "    <tr>\n",
        "      <th>3</th>\n",
        "      <td>13</td>\n",
        "      <td>1.449369e+09</td>\n",
        "      <td>2015-12-05 18:36:35.970</td>\n",
        "      <td>95</td>\n",
        "      <td>14</td>\n",
        "      <td>1.449371e+09</td>\n",
        "      <td>2015-12-05 19:04:39.300</td>\n",
        "      <td>93</td>\n",
        "      <td>moving</td>\n",
        "    </tr>\n",
        "    <tr>\n",
        "      <th>4</th>\n",
        "      <td>14</td>\n",
        "      <td>1.449371e+09</td>\n",
        "      <td>2015-12-05 19:04:39.300</td>\n",
        "      <td>93</td>\n",
        "      <td>17</td>\n",
        "      <td>1.449378e+09</td>\n",
        "      <td>2015-12-05 21:05:25.670</td>\n",
        "      <td>88</td>\n",
        "      <td>active</td>\n",
        "    </tr>\n",
        "    <tr>\n",
        "      <th>5</th>\n",
        "      <td>17</td>\n",
        "      <td>1.449378e+09</td>\n",
        "      <td>2015-12-05 21:05:25.670</td>\n",
        "      <td>88</td>\n",
        "      <td>18</td>\n",
        "      <td>1.449379e+09</td>\n",
        "      <td>2015-12-05 21:22:29.330</td>\n",
        "      <td>87</td>\n",
        "      <td>moving</td>\n",
        "    </tr>\n",
        "    <tr>\n",
        "      <th>6</th>\n",
        "      <td>18</td>\n",
        "      <td>1.449379e+09</td>\n",
        "      <td>2015-12-05 21:22:29.330</td>\n",
        "      <td>87</td>\n",
        "      <td>19</td>\n",
        "      <td>1.449417e+09</td>\n",
        "      <td>2015-12-06 07:51:26.490</td>\n",
        "      <td>80</td>\n",
        "      <td>passive</td>\n",
        "    </tr>\n",
        "    <tr>\n",
        "      <th>7</th>\n",
        "      <td>19</td>\n",
        "      <td>1.449417e+09</td>\n",
        "      <td>2015-12-06 07:51:26.490</td>\n",
        "      <td>80</td>\n",
        "      <td>22</td>\n",
        "      <td>1.449424e+09</td>\n",
        "      <td>2015-12-06 09:51:17.910</td>\n",
        "      <td>79</td>\n",
        "      <td>active</td>\n",
        "    </tr>\n",
        "    <tr>\n",
        "      <th>8</th>\n",
        "      <td>22</td>\n",
        "      <td>1.449424e+09</td>\n",
        "      <td>2015-12-06 09:51:17.910</td>\n",
        "      <td>79</td>\n",
        "      <td>23</td>\n",
        "      <td>1.449425e+09</td>\n",
        "      <td>2015-12-06 10:09:58.940</td>\n",
        "      <td>78</td>\n",
        "      <td>moving</td>\n",
        "    </tr>\n",
        "    <tr>\n",
        "      <th>9</th>\n",
        "      <td>23</td>\n",
        "      <td>1.449425e+09</td>\n",
        "      <td>2015-12-06 10:09:58.940</td>\n",
        "      <td>78</td>\n",
        "      <td>25</td>\n",
        "      <td>1.449430e+09</td>\n",
        "      <td>2015-12-06 11:27:45.180</td>\n",
        "      <td>74</td>\n",
        "      <td>active</td>\n",
        "    </tr>\n",
        "    <tr>\n",
        "      <th>10</th>\n",
        "      <td>25</td>\n",
        "      <td>1.449430e+09</td>\n",
        "      <td>2015-12-06 11:27:45.180</td>\n",
        "      <td>74</td>\n",
        "      <td>27</td>\n",
        "      <td>1.449432e+09</td>\n",
        "      <td>2015-12-06 12:01:06.290</td>\n",
        "      <td>72</td>\n",
        "      <td>moving</td>\n",
        "    </tr>\n",
        "  </tbody>\n",
        "</table>\n",
        "</div>"
       ],
       "metadata": {},
       "output_type": "pyout",
       "prompt_number": 18,
       "text": [
        "    start_index      start_ts          start_fmt_time  start_value  end_index  \\\n",
        "0             0  1.449344e+09 2015-12-05 11:40:21.210          100          7   \n",
        "1             7  1.449358e+09 2015-12-05 15:27:15.450          100          8   \n",
        "2             8  1.449360e+09 2015-12-05 16:03:17.090           99         13   \n",
        "3            13  1.449369e+09 2015-12-05 18:36:35.970           95         14   \n",
        "4            14  1.449371e+09 2015-12-05 19:04:39.300           93         17   \n",
        "5            17  1.449378e+09 2015-12-05 21:05:25.670           88         18   \n",
        "6            18  1.449379e+09 2015-12-05 21:22:29.330           87         19   \n",
        "7            19  1.449417e+09 2015-12-06 07:51:26.490           80         22   \n",
        "8            22  1.449424e+09 2015-12-06 09:51:17.910           79         23   \n",
        "9            23  1.449425e+09 2015-12-06 10:09:58.940           78         25   \n",
        "10           25  1.449430e+09 2015-12-06 11:27:45.180           74         27   \n",
        "\n",
        "          end_ts            end_fmt_time  end_value    state  \n",
        "0   1.449358e+09 2015-12-05 15:27:15.450        100   active  \n",
        "1   1.449360e+09 2015-12-05 16:03:17.090         99   moving  \n",
        "2   1.449369e+09 2015-12-05 18:36:35.970         95   active  \n",
        "3   1.449371e+09 2015-12-05 19:04:39.300         93   moving  \n",
        "4   1.449378e+09 2015-12-05 21:05:25.670         88   active  \n",
        "5   1.449379e+09 2015-12-05 21:22:29.330         87   moving  \n",
        "6   1.449417e+09 2015-12-06 07:51:26.490         80  passive  \n",
        "7   1.449424e+09 2015-12-06 09:51:17.910         79   active  \n",
        "8   1.449425e+09 2015-12-06 10:09:58.940         78   moving  \n",
        "9   1.449430e+09 2015-12-06 11:27:45.180         74   active  \n",
        "10  1.449432e+09 2015-12-06 12:01:06.290         72   moving  "
       ]
      }
     ],
     "prompt_number": 18
    },
    {
     "cell_type": "code",
     "collapsed": false,
     "input": [
      "drain_df_map.keys()"
     ],
     "language": "python",
     "metadata": {},
     "outputs": [
      {
       "metadata": {},
       "output_type": "pyout",
       "prompt_number": 19,
       "text": [
        "['android.2', 'android.3', 'android.1', 'ios.1', 'ios.2', 'ios.3']"
       ]
      }
     ],
     "prompt_number": 19
    },
    {
     "cell_type": "code",
     "collapsed": false,
     "input": [
      "(fig, axes) = ap.display_drain_over_day(drain_df_map, ground_truth_df, regime_map)"
     ],
     "language": "python",
     "metadata": {},
     "outputs": [
      {
       "output_type": "stream",
       "stream": "stdout",
       "text": [
        "adding annotations for 0, 2015-12-05 11:40:21.210000, 2015-12-05 15:27:15.450000\n",
        "adding annotations for 1, 2015-12-05 15:27:15.450000, 2015-12-05 16:03:17.090000\n",
        "adding annotations for 2, 2015-12-05 16:03:17.090000, 2015-12-05 18:36:35.970000\n",
        "adding annotations for 3, 2015-12-05 18:36:35.970000, 2015-12-05 19:04:39.300000\n",
        "adding annotations for 4, 2015-12-05 19:04:39.300000, 2015-12-05 21:05:25.670000\n",
        "adding annotations for 5, 2015-12-05 21:05:25.670000, 2015-12-05 21:22:29.330000\n",
        "adding annotations for 6, 2015-12-05 21:22:29.330000, 2015-12-06 07:51:26.490000\n",
        "adding annotations for 7, 2015-12-06 07:51:26.490000, 2015-12-06 09:51:17.910000\n",
        "adding annotations for 8, 2015-12-06 09:51:17.910000, 2015-12-06 10:09:58.940000\n",
        "adding annotations for 9, 2015-12-06 10:09:58.940000, 2015-12-06 11:27:45.180000\n",
        "adding annotations for 10, 2015-12-06 11:27:45.180000, 2015-12-06 12:01:06.290000\n",
        "adding annotations for 0, 2015-12-05 11:40:21.210000, 2015-12-05 15:27:15.450000\n",
        "adding annotations for 1, 2015-12-05 15:27:15.450000, 2015-12-05 16:03:17.090000\n",
        "adding annotations for 2, 2015-12-05 16:03:17.090000, 2015-12-05 18:36:35.970000\n",
        "adding annotations for 3, 2015-12-05 18:36:35.970000, 2015-12-05 19:04:39.300000\n",
        "adding annotations for 4, 2015-12-05 19:04:39.300000, 2015-12-05 21:05:25.670000\n",
        "adding annotations for 5, 2015-12-05 21:05:25.670000, 2015-12-05 21:22:29.330000\n",
        "adding annotations for 6, 2015-12-05 21:22:29.330000, 2015-12-06 07:51:26.490000\n",
        "adding annotations for 7, 2015-12-06 07:51:26.490000, 2015-12-06 09:51:17.910000\n",
        "adding annotations for 8, 2015-12-06 09:51:17.910000, 2015-12-06 10:09:58.940000\n",
        "adding annotations for 9, 2015-12-06 10:09:58.940000, 2015-12-06 11:27:45.180000\n",
        "adding annotations for 10, 2015-12-06 11:27:45.180000, 2015-12-06 12:01:06.290000\n"
       ]
      },
      {
       "metadata": {},
       "output_type": "display_data",
       "png": "[encoded data removed]",
       "text": [
        "<matplotlib.figure.Figure at 0x10948d150>"
       ]
      }
     ],
     "prompt_number": 20
    },
    {
     "cell_type": "code",
     "collapsed": false,
     "input": [
      "ap.display_per_state_drain(drain_df_map, ground_truth_df, regime_map)"
     ],
     "language": "python",
     "metadata": {},
     "outputs": [
      {
       "output_type": "stream",
       "stream": "stdout",
       "text": [
        "displaying 0\n",
        "displaying 1"
       ]
      },
      {
       "output_type": "stream",
       "stream": "stdout",
       "text": [
        "\n",
        "displaying 2"
       ]
      },
      {
       "output_type": "stream",
       "stream": "stdout",
       "text": [
        "\n",
        "displaying 3"
       ]
      },
      {
       "output_type": "stream",
       "stream": "stdout",
       "text": [
        "\n",
        "displaying 4"
       ]
      },
      {
       "output_type": "stream",
       "stream": "stdout",
       "text": [
        "\n",
        "displaying 5"
       ]
      },
      {
       "output_type": "stream",
       "stream": "stdout",
       "text": [
        "\n"
       ]
      },
      {
       "metadata": {},
       "output_type": "pyout",
       "prompt_number": 31,
       "text": [
        "(<matplotlib.figure.Figure at 0x10ba4ce10>,\n",
        " array([<matplotlib.axes.AxesSubplot object at 0x10b777e50>,\n",
        "        <matplotlib.axes.AxesSubplot object at 0x10a229b90>,\n",
        "        <matplotlib.axes.AxesSubplot object at 0x10be7fb10>,\n",
        "        <matplotlib.axes.AxesSubplot object at 0x10be99b10>,\n",
        "        <matplotlib.axes.AxesSubplot object at 0x10c0537d0>,\n",
        "        <matplotlib.axes.AxesSubplot object at 0x10c0bb3d0>], dtype=object))"
       ]
      },
      {
       "metadata": {},
       "output_type": "display_data",
       "png": "[encoded data removed]",
       "text": [
        "<matplotlib.figure.Figure at 0x10ba4ce10>"
       ]
      }
     ],
     "prompt_number": 31
    },
    {
     "cell_type": "code",
     "collapsed": false,
     "input": [],
     "language": "python",
     "metadata": {},
     "outputs": []
    }
   ],
   "metadata": {}
  }
 ]
}