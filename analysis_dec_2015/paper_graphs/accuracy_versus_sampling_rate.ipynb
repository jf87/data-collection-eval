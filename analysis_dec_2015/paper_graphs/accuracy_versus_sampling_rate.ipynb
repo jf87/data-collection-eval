{
 "metadata": {
  "name": "",
  "signature": "sha256:6c8f863c6fd36be0b19b66df64c890695597f914e619d2f5c9f249a3445d77c7"
 },
 "nbformat": 3,
 "nbformat_minor": 0,
 "worksheets": [
  {
   "cells": [
    {
     "cell_type": "code",
     "collapsed": false,
     "input": [
      "import sys"
     ],
     "language": "python",
     "metadata": {},
     "outputs": [],
     "prompt_number": 1
    },
    {
     "cell_type": "code",
     "collapsed": false,
     "input": [
      "sys.path.insert(0, \"../../src/\")"
     ],
     "language": "python",
     "metadata": {},
     "outputs": [],
     "prompt_number": 2
    },
    {
     "cell_type": "code",
     "collapsed": false,
     "input": [
      "import analysis.common as ac\n",
      "import analysis.power_drain_manual as ap"
     ],
     "language": "python",
     "metadata": {},
     "outputs": [],
     "prompt_number": 3
    },
    {
     "cell_type": "code",
     "collapsed": false,
     "input": [
      "reload(ap)"
     ],
     "language": "python",
     "metadata": {},
     "outputs": [
      {
       "metadata": {},
       "output_type": "pyout",
       "prompt_number": 4,
       "text": [
        "<module 'analysis.power_drain_manual' from '../../src/analysis/power_drain_manual.pyc'>"
       ]
      }
     ],
     "prompt_number": 4
    },
    {
     "cell_type": "code",
     "collapsed": false,
     "input": [
      "(iphone_ids, android_ids, phone_labels) = ac.setupPaths()"
     ],
     "language": "python",
     "metadata": {},
     "outputs": [],
     "prompt_number": 5
    },
    {
     "cell_type": "code",
     "collapsed": false,
     "input": [
      "import emission.core.get_database as edb\n",
      "import pandas as pd\n",
      "import matplotlib.pyplot as plt\n",
      "%matplotlib inline\n",
      "import datetime as pydt"
     ],
     "language": "python",
     "metadata": {},
     "outputs": [],
     "prompt_number": 6
    },
    {
     "cell_type": "code",
     "collapsed": false,
     "input": [
      "display_names = [ac.get_display_name(label) for label in phone_labels]"
     ],
     "language": "python",
     "metadata": {},
     "outputs": [],
     "prompt_number": 7
    },
    {
     "cell_type": "code",
     "collapsed": false,
     "input": [
      "drain_df_map = {}"
     ],
     "language": "python",
     "metadata": {},
     "outputs": [],
     "prompt_number": 8
    },
    {
     "cell_type": "code",
     "collapsed": false,
     "input": [
      "drain_df_map[\"ios.1\"] = pd.read_csv(\"../../results_dec_2015/ucb.sdb.ios.1/power_logs/noha5m_1449240600.log\")\n",
      "drain_df_map[\"ios.2\"] = pd.read_csv(\"../../results_dec_2015/ucb.sdb.ios.2/power_logs/noma5m_1449240600.log\")\n",
      "drain_df_map[\"ios.3\"] = pd.read_csv(\"../../results_dec_2015/ucb.sdb.ios.3/power_logs/noma50m_1449240600.log\")"
     ],
     "language": "python",
     "metadata": {},
     "outputs": [],
     "prompt_number": 9
    },
    {
     "cell_type": "code",
     "collapsed": false,
     "input": [
      "drain_df_map[\"android.1\"] = pd.read_csv(\"../../results_dec_2015/ucb.sdb.android.1/power_logs/noha2s_1449240600.log\")\n",
      "drain_df_map[\"android.2\"] = pd.read_csv(\"../../results_dec_2015/ucb.sdb.android.2/power_logs/noma2s_1449240600.log\")\n",
      "drain_df_map[\"android.3\"] = pd.read_csv(\"../../results_dec_2015/ucb.sdb.android.3/power_logs/noma30s_1449240600.log\")"
     ],
     "language": "python",
     "metadata": {},
     "outputs": [],
     "prompt_number": 10
    },
    {
     "cell_type": "code",
     "collapsed": false,
     "input": [
      "regime_map = {}"
     ],
     "language": "python",
     "metadata": {},
     "outputs": [],
     "prompt_number": 11
    },
    {
     "cell_type": "code",
     "collapsed": false,
     "input": [
      "regime_map[\"ios.1\"] = \"ha5m\"\n",
      "regime_map[\"ios.2\"] = \"ma5m\"\n",
      "regime_map[\"ios.3\"] = \"ma50m\""
     ],
     "language": "python",
     "metadata": {},
     "outputs": [],
     "prompt_number": 12
    },
    {
     "cell_type": "code",
     "collapsed": false,
     "input": [
      "regime_map[\"android.1\"] = \"ha2s\"\n",
      "regime_map[\"android.2\"] = \"ma2s\"\n",
      "regime_map[\"android.3\"] = \"ma30s\""
     ],
     "language": "python",
     "metadata": {},
     "outputs": [],
     "prompt_number": 13
    },
    {
     "cell_type": "code",
     "collapsed": false,
     "input": [
      "for drain_df in drain_df_map.values():\n",
      "    drain_df[\"fmt_time\"] = drain_df.ts.map(lambda(t): pydt.datetime.fromtimestamp(t))"
     ],
     "language": "python",
     "metadata": {},
     "outputs": [],
     "prompt_number": 14
    },
    {
     "cell_type": "code",
     "collapsed": false,
     "input": [
      "drain_df.head()"
     ],
     "language": "python",
     "metadata": {},
     "outputs": [
      {
       "html": [
        "<div style=\"max-width:1500px;overflow:auto;\">\n",
        "<table border=\"1\" class=\"dataframe\">\n",
        "  <thead>\n",
        "    <tr style=\"text-align: right;\">\n",
        "      <th></th>\n",
        "      <th>key</th>\n",
        "      <th>ts</th>\n",
        "      <th>value</th>\n",
        "      <th>fmt_time</th>\n",
        "    </tr>\n",
        "  </thead>\n",
        "  <tbody>\n",
        "    <tr>\n",
        "      <th>0</th>\n",
        "      <td>battery_level</td>\n",
        "      <td>1.449241e+09</td>\n",
        "      <td>100</td>\n",
        "      <td>2015-12-04 06:50:00.000</td>\n",
        "    </tr>\n",
        "    <tr>\n",
        "      <th>1</th>\n",
        "      <td>battery_level</td>\n",
        "      <td>1.449242e+09</td>\n",
        "      <td>100</td>\n",
        "      <td>2015-12-04 07:18:33.010</td>\n",
        "    </tr>\n",
        "    <tr>\n",
        "      <th>2</th>\n",
        "      <td>battery_level</td>\n",
        "      <td>1.449244e+09</td>\n",
        "      <td>100</td>\n",
        "      <td>2015-12-04 07:49:38.490</td>\n",
        "    </tr>\n",
        "    <tr>\n",
        "      <th>3</th>\n",
        "      <td>battery_level</td>\n",
        "      <td>1.449248e+09</td>\n",
        "      <td>98</td>\n",
        "      <td>2015-12-04 08:48:16.890</td>\n",
        "    </tr>\n",
        "    <tr>\n",
        "      <th>4</th>\n",
        "      <td>battery_level</td>\n",
        "      <td>1.449249e+09</td>\n",
        "      <td>97</td>\n",
        "      <td>2015-12-04 09:14:10.980</td>\n",
        "    </tr>\n",
        "  </tbody>\n",
        "</table>\n",
        "</div>"
       ],
       "metadata": {},
       "output_type": "pyout",
       "prompt_number": 15,
       "text": [
        "             key            ts  value                fmt_time\n",
        "0  battery_level  1.449241e+09    100 2015-12-04 06:50:00.000\n",
        "1  battery_level  1.449242e+09    100 2015-12-04 07:18:33.010\n",
        "2  battery_level  1.449244e+09    100 2015-12-04 07:49:38.490\n",
        "3  battery_level  1.449248e+09     98 2015-12-04 08:48:16.890\n",
        "4  battery_level  1.449249e+09     97 2015-12-04 09:14:10.980"
       ]
      }
     ],
     "prompt_number": 15
    },
    {
     "cell_type": "code",
     "collapsed": false,
     "input": [
      "ground_truth_df = ap.get_ground_truth_df(drain_df, [[0,4,17,22,23], [\"moving\", \"active\", \"moving\", \"passive\"]])\n",
      "ground_truth_df.to_csv(\"../../ground_truth/trip_to_berkeley.friday.2015-12-04/states.summary\")"
     ],
     "language": "python",
     "metadata": {},
     "outputs": [],
     "prompt_number": 16
    },
    {
     "cell_type": "code",
     "collapsed": false,
     "input": [
      "ground_truth_df"
     ],
     "language": "python",
     "metadata": {},
     "outputs": [
      {
       "html": [
        "<div style=\"max-width:1500px;overflow:auto;\">\n",
        "<table border=\"1\" class=\"dataframe\">\n",
        "  <thead>\n",
        "    <tr style=\"text-align: right;\">\n",
        "      <th></th>\n",
        "      <th>start_index</th>\n",
        "      <th>start_ts</th>\n",
        "      <th>start_fmt_time</th>\n",
        "      <th>start_value</th>\n",
        "      <th>end_index</th>\n",
        "      <th>end_ts</th>\n",
        "      <th>end_fmt_time</th>\n",
        "      <th>end_value</th>\n",
        "      <th>state</th>\n",
        "    </tr>\n",
        "  </thead>\n",
        "  <tbody>\n",
        "    <tr>\n",
        "      <th>0</th>\n",
        "      <td>0</td>\n",
        "      <td>1.449241e+09</td>\n",
        "      <td>2015-12-04 06:50:00.000</td>\n",
        "      <td>100</td>\n",
        "      <td>4</td>\n",
        "      <td>1.449249e+09</td>\n",
        "      <td>2015-12-04 09:14:10.980</td>\n",
        "      <td>97</td>\n",
        "      <td>moving</td>\n",
        "    </tr>\n",
        "    <tr>\n",
        "      <th>1</th>\n",
        "      <td>4</td>\n",
        "      <td>1.449249e+09</td>\n",
        "      <td>2015-12-04 09:14:10.980</td>\n",
        "      <td>97</td>\n",
        "      <td>17</td>\n",
        "      <td>1.449277e+09</td>\n",
        "      <td>2015-12-04 16:48:34.190</td>\n",
        "      <td>72</td>\n",
        "      <td>active</td>\n",
        "    </tr>\n",
        "    <tr>\n",
        "      <th>2</th>\n",
        "      <td>17</td>\n",
        "      <td>1.449277e+09</td>\n",
        "      <td>2015-12-04 16:48:34.190</td>\n",
        "      <td>72</td>\n",
        "      <td>22</td>\n",
        "      <td>1.449287e+09</td>\n",
        "      <td>2015-12-04 19:39:01.290</td>\n",
        "      <td>63</td>\n",
        "      <td>moving</td>\n",
        "    </tr>\n",
        "    <tr>\n",
        "      <th>3</th>\n",
        "      <td>22</td>\n",
        "      <td>1.449287e+09</td>\n",
        "      <td>2015-12-04 19:39:01.290</td>\n",
        "      <td>63</td>\n",
        "      <td>23</td>\n",
        "      <td>1.449328e+09</td>\n",
        "      <td>2015-12-05 07:03:22.210</td>\n",
        "      <td>41</td>\n",
        "      <td>passive</td>\n",
        "    </tr>\n",
        "  </tbody>\n",
        "</table>\n",
        "</div>"
       ],
       "metadata": {},
       "output_type": "pyout",
       "prompt_number": 17,
       "text": [
        "   start_index      start_ts          start_fmt_time  start_value  end_index  \\\n",
        "0            0  1.449241e+09 2015-12-04 06:50:00.000          100          4   \n",
        "1            4  1.449249e+09 2015-12-04 09:14:10.980           97         17   \n",
        "2           17  1.449277e+09 2015-12-04 16:48:34.190           72         22   \n",
        "3           22  1.449287e+09 2015-12-04 19:39:01.290           63         23   \n",
        "\n",
        "         end_ts            end_fmt_time  end_value    state  \n",
        "0  1.449249e+09 2015-12-04 09:14:10.980         97   moving  \n",
        "1  1.449277e+09 2015-12-04 16:48:34.190         72   active  \n",
        "2  1.449287e+09 2015-12-04 19:39:01.290         63   moving  \n",
        "3  1.449328e+09 2015-12-05 07:03:22.210         41  passive  "
       ]
      }
     ],
     "prompt_number": 17
    },
    {
     "cell_type": "code",
     "collapsed": false,
     "input": [
      "drain_df_map.keys()"
     ],
     "language": "python",
     "metadata": {},
     "outputs": [
      {
       "metadata": {},
       "output_type": "pyout",
       "prompt_number": 18,
       "text": [
        "['android.2', 'android.3', 'android.1', 'ios.1', 'ios.2', 'ios.3']"
       ]
      }
     ],
     "prompt_number": 18
    },
    {
     "cell_type": "code",
     "collapsed": false,
     "input": [
      "(fig, axes) = ap.display_drain_over_day(drain_df_map, ground_truth_df, regime_map)"
     ],
     "language": "python",
     "metadata": {},
     "outputs": [
      {
       "output_type": "stream",
       "stream": "stdout",
       "text": [
        "adding annotations for 0, 2015-12-04 06:50:00, 2015-12-04 09:14:10.980000\n",
        "adding annotations for 1, 2015-12-04 09:14:10.980000, 2015-12-04 16:48:34.190000\n",
        "adding annotations for 2, 2015-12-04 16:48:34.190000, 2015-12-04 19:39:01.290000\n",
        "adding annotations for 3, 2015-12-04 19:39:01.290000, 2015-12-05 07:03:22.210000\n",
        "adding annotations for 0, 2015-12-04 06:50:00, 2015-12-04 09:14:10.980000\n",
        "adding annotations for 1, 2015-12-04 09:14:10.980000, 2015-12-04 16:48:34.190000\n",
        "adding annotations for 2, 2015-12-04 16:48:34.190000, 2015-12-04 19:39:01.290000\n",
        "adding annotations for 3, 2015-12-04 19:39:01.290000, 2015-12-05 07:03:22.210000\n"
       ]
      },
      {
       "metadata": {},
       "output_type": "display_data",
       "png": "[encoded data removed]",
       "text": [
        "<matplotlib.figure.Figure at 0x109d6bf10>"
       ]
      }
     ],
     "prompt_number": 19
    },
    {
     "cell_type": "code",
     "collapsed": false,
     "input": [
      "ap.display_per_state_drain(drain_df_map, ground_truth_df, regime_map)"
     ],
     "language": "python",
     "metadata": {},
     "outputs": [
      {
       "output_type": "stream",
       "stream": "stdout",
       "text": [
        "displaying 0, android.1 (ha2s)\n",
        "displaying 1, android.2 (ma2s)"
       ]
      },
      {
       "output_type": "stream",
       "stream": "stdout",
       "text": [
        "\n",
        "displaying 2, android.3 (ma30s)\n",
        "displaying 3, ios.1 (ha5m)"
       ]
      },
      {
       "output_type": "stream",
       "stream": "stdout",
       "text": [
        "\n",
        "displaying 4, ios.2 (ma5m)"
       ]
      },
      {
       "output_type": "stream",
       "stream": "stdout",
       "text": [
        "\n",
        "displaying 5, ios.3 (ma50m)"
       ]
      },
      {
       "output_type": "stream",
       "stream": "stdout",
       "text": [
        "\n"
       ]
      },
      {
       "metadata": {},
       "output_type": "pyout",
       "prompt_number": 20,
       "text": [
        "(<matplotlib.figure.Figure at 0x109e88e50>,\n",
        " array([<matplotlib.axes.AxesSubplot object at 0x109ecfdd0>,\n",
        "        <matplotlib.axes.AxesSubplot object at 0x10a198690>,\n",
        "        <matplotlib.axes.AxesSubplot object at 0x10a21c890>,\n",
        "        <matplotlib.axes.AxesSubplot object at 0x10a282850>,\n",
        "        <matplotlib.axes.AxesSubplot object at 0x10a542510>,\n",
        "        <matplotlib.axes.AxesSubplot object at 0x10a5ab110>], dtype=object))"
       ]
      },
      {
       "metadata": {},
       "output_type": "display_data",
       "png": "[encoded data removed]",
       "text": [
        "<matplotlib.figure.Figure at 0x109e88e50>"
       ]
      }
     ],
     "prompt_number": 20
    },
    {
     "cell_type": "code",
     "collapsed": false,
     "input": [
      "state_diff_df_map = {}\n",
      "for i, key in enumerate(sorted(drain_df_map.keys())):\n",
      "    print \"displaying %d, %s (%s)\" % (i, key, regime_map[key])\n",
      "    state_diff_df_map[key] = ap.get_state_diff_df(drain_df_map[key], ground_truth_df)\n",
      "    print state_diff_df_map[key].groupby('state').rate.describe()"
     ],
     "language": "python",
     "metadata": {},
     "outputs": [
      {
       "output_type": "stream",
       "stream": "stdout",
       "text": [
        "displaying 0, android.1 (ha2s)\n",
        "state         \n",
        "active   count    13.000000\n",
        "         mean     -7.132685\n",
        "         std       1.867182\n",
        "         min     -10.853617\n",
        "         25%      -7.999467\n",
        "         50%      -6.719803\n",
        "         75%      -5.738744\n",
        "         max      -4.925165\n",
        "moving   count     8.000000\n",
        "         mean     -8.822846\n",
        "         std       2.086489\n",
        "         min     -11.408109\n",
        "         25%      -9.794724\n",
        "         50%      -9.499399\n",
        "         75%      -8.118630\n",
        "         max      -4.632936\n",
        "passive  count     1.000000\n",
        "         mean     -5.511918\n",
        "         std            NaN\n",
        "         min      -5.511918\n",
        "         25%      -5.511918\n",
        "         50%      -5.511918\n",
        "         75%      -5.511918\n",
        "         max      -5.511918\n",
        "dtype: float64\n",
        "displaying 1, android.2 (ma2s)\n",
        "state         \n",
        "active   count    12.000000\n",
        "         mean     -0.926580\n",
        "         std       1.030067\n",
        "         min      -2.869372\n",
        "         25%      -1.717881\n",
        "         50%      -0.671527\n",
        "         75%       0.000000\n",
        "         max       0.000000\n",
        "moving   count     9.000000\n",
        "         mean     -3.076365\n",
        "         std       0.943928\n",
        "         min      -4.802529\n",
        "         25%      -3.802703\n",
        "         50%      -2.953798\n",
        "         75%      -2.316468\n",
        "         max      -1.878748\n",
        "passive  count     1.000000\n",
        "         mean     -0.438373\n",
        "         std            NaN\n",
        "         min      -0.438373\n",
        "         25%      -0.438373\n",
        "         50%      -0.438373\n",
        "         75%      -0.438373\n",
        "         max      -0.438373\n",
        "dtype: float64"
       ]
      },
      {
       "output_type": "stream",
       "stream": "stdout",
       "text": [
        "\n",
        "displaying 2, android.3 (ma30s)\n",
        "state         \n",
        "active   count    12.000000\n",
        "         mean     -0.795273\n",
        "         std       1.035623\n",
        "         min      -2.869372\n",
        "         25%      -1.643872\n",
        "         50%       0.000000\n",
        "         75%       0.000000\n",
        "         max       0.000000\n",
        "moving   count     9.000000\n",
        "         mean     -1.616738\n",
        "         std       0.750244\n",
        "         min      -2.401265\n",
        "         25%      -2.101564\n",
        "         50%      -1.878748\n",
        "         75%      -1.451151\n",
        "         max       0.000000\n",
        "passive  count     1.000000\n",
        "         mean     -0.438373\n",
        "         std            NaN\n",
        "         min      -0.438373\n",
        "         25%      -0.438373\n",
        "         50%      -0.438373\n",
        "         75%      -0.438373\n",
        "         max      -0.438373\n",
        "dtype: float64\n",
        "displaying 3, ios.1 (ha5m)\n",
        "state         \n",
        "active   count    13.000000\n",
        "         mean     -5.079283\n",
        "         std       1.267599\n",
        "         min      -7.235745\n",
        "         25%      -5.260287\n",
        "         50%      -4.950972\n",
        "         75%      -4.479869\n",
        "         max      -2.869372\n",
        "moving   count     9.000000\n",
        "         mean     -5.717334\n",
        "         std       2.972454\n",
        "         min      -9.605059\n",
        "         25%      -7.514991\n",
        "         50%      -6.139154\n",
        "         75%      -5.804603\n",
        "         max       0.000000\n",
        "passive  count     1.000000\n",
        "         mean     -2.805587\n",
        "         std            NaN\n",
        "         min      -2.805587\n",
        "         25%      -2.805587\n",
        "         50%      -2.805587\n",
        "         75%      -2.805587\n",
        "         max      -2.805587\n",
        "dtype: float64"
       ]
      },
      {
       "output_type": "stream",
       "stream": "stdout",
       "text": [
        "\n",
        "displaying 4, ios.2 (ma5m)\n",
        "state         \n",
        "active   count    13.000000\n",
        "         mean     -3.348691\n",
        "         std       1.215112\n",
        "         min      -5.738744\n",
        "         25%      -3.617872\n",
        "         50%      -3.412064\n",
        "         75%      -2.686106\n",
        "         max      -1.617345\n",
        "moving   count     9.000000\n",
        "         mean     -2.766461\n",
        "         std       1.787593\n",
        "         min      -4.802529\n",
        "         25%      -3.802703\n",
        "         50%      -2.953798\n",
        "         75%      -2.046385\n",
        "         max       0.000000\n",
        "passive  count     1.000000\n",
        "         mean     -1.928841\n",
        "         std            NaN\n",
        "         min      -1.928841\n",
        "         25%      -1.928841\n",
        "         50%      -1.928841\n",
        "         75%      -1.928841\n",
        "         max      -1.928841\n",
        "dtype: float64\n",
        "displaying 5, ios.3 (ma50m)\n",
        "state         \n",
        "active   count    13.000000\n",
        "         mean     -3.299283\n",
        "         std       0.666501\n",
        "         min      -4.799680\n",
        "         25%      -3.506858\n",
        "         50%      -3.359901\n",
        "         75%      -3.234690\n",
        "         max      -1.796748\n",
        "moving   count     9.000000\n",
        "         mean     -2.344976\n",
        "         std       1.670019\n",
        "         min      -4.802529\n",
        "         25%      -3.757495\n",
        "         50%      -2.316468\n",
        "         75%      -1.476899\n",
        "         max       0.000000\n",
        "passive  count     1.000000\n",
        "         mean     -1.928841\n",
        "         std            NaN\n",
        "         min      -1.928841\n",
        "         25%      -1.928841\n",
        "         50%      -1.928841\n",
        "         75%      -1.928841\n",
        "         max      -1.928841\n",
        "dtype: float64"
       ]
      },
      {
       "output_type": "stream",
       "stream": "stdout",
       "text": [
        "\n"
       ]
      }
     ],
     "prompt_number": 21
    },
    {
     "cell_type": "code",
     "collapsed": false,
     "input": [],
     "language": "python",
     "metadata": {},
     "outputs": []
    }
   ],
   "metadata": {}
  }
 ]
}