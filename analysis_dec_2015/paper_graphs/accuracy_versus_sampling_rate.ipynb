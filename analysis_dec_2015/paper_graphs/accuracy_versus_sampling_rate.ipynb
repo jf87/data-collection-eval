{
 "metadata": {
  "name": "",
  "signature": "sha256:ce14403232efce2de829e1e93edd92bf05148591875a2805a758d7e4a4e2e686"
 },
 "nbformat": 3,
 "nbformat_minor": 0,
 "worksheets": [
  {
   "cells": [
    {
     "cell_type": "code",
     "collapsed": false,
     "input": [
      "import sys"
     ],
     "language": "python",
     "metadata": {},
     "outputs": [],
     "prompt_number": 1
    },
    {
     "cell_type": "code",
     "collapsed": false,
     "input": [
      "sys.path.insert(0, \"../../src/\")"
     ],
     "language": "python",
     "metadata": {},
     "outputs": [],
     "prompt_number": 2
    },
    {
     "cell_type": "code",
     "collapsed": false,
     "input": [
      "import analysis.common as ac\n",
      "import analysis.power_drain_manual as ap"
     ],
     "language": "python",
     "metadata": {},
     "outputs": [],
     "prompt_number": 3
    },
    {
     "cell_type": "code",
     "collapsed": false,
     "input": [
      "reload(ap)"
     ],
     "language": "python",
     "metadata": {},
     "outputs": [
      {
       "metadata": {},
       "output_type": "pyout",
       "prompt_number": 4,
       "text": [
        "<module 'analysis.power_drain_manual' from '../../src/analysis/power_drain_manual.pyc'>"
       ]
      }
     ],
     "prompt_number": 4
    },
    {
     "cell_type": "code",
     "collapsed": false,
     "input": [
      "(iphone_ids, android_ids, phone_labels) = ac.setupPaths()"
     ],
     "language": "python",
     "metadata": {},
     "outputs": [],
     "prompt_number": 5
    },
    {
     "cell_type": "code",
     "collapsed": false,
     "input": [
      "import emission.core.get_database as edb\n",
      "import pandas as pd\n",
      "import matplotlib.pyplot as plt\n",
      "%matplotlib inline\n",
      "import datetime as pydt"
     ],
     "language": "python",
     "metadata": {},
     "outputs": [],
     "prompt_number": 6
    },
    {
     "cell_type": "code",
     "collapsed": false,
     "input": [
      "display_names = [ac.get_display_name(label) for label in phone_labels]"
     ],
     "language": "python",
     "metadata": {},
     "outputs": [],
     "prompt_number": 7
    },
    {
     "cell_type": "code",
     "collapsed": false,
     "input": [
      "drain_df_map = {}"
     ],
     "language": "python",
     "metadata": {},
     "outputs": [],
     "prompt_number": 8
    },
    {
     "cell_type": "code",
     "collapsed": false,
     "input": [
      "drain_df_map[\"ios.1\"] = pd.read_csv(\"../../results_dec_2015/ucb.sdb.ios.1/power_logs/noha5m_1449240600.log\")\n",
      "drain_df_map[\"ios.2\"] = pd.read_csv(\"../../results_dec_2015/ucb.sdb.ios.2/power_logs/noma5m_1449240600.log\")\n",
      "drain_df_map[\"ios.3\"] = pd.read_csv(\"../../results_dec_2015/ucb.sdb.ios.3/power_logs/noma50m_1449240600.log\")"
     ],
     "language": "python",
     "metadata": {},
     "outputs": [],
     "prompt_number": 9
    },
    {
     "cell_type": "code",
     "collapsed": false,
     "input": [
      "drain_df_map[\"android.1\"] = pd.read_csv(\"../../results_dec_2015/ucb.sdb.android.1/power_logs/noha2s_1449240600.log\")\n",
      "drain_df_map[\"android.2\"] = pd.read_csv(\"../../results_dec_2015/ucb.sdb.android.2/power_logs/noma2s_1449240600.log\")\n",
      "drain_df_map[\"android.3\"] = pd.read_csv(\"../../results_dec_2015/ucb.sdb.android.3/power_logs/noma30s_1449240600.log\")"
     ],
     "language": "python",
     "metadata": {},
     "outputs": [],
     "prompt_number": 10
    },
    {
     "cell_type": "code",
     "collapsed": false,
     "input": [
      "regime_map = {}"
     ],
     "language": "python",
     "metadata": {},
     "outputs": [],
     "prompt_number": 11
    },
    {
     "cell_type": "code",
     "collapsed": false,
     "input": [
      "regime_map[\"ios.1\"] = \"ha5m\"\n",
      "regime_map[\"ios.2\"] = \"ma5m\"\n",
      "regime_map[\"ios.3\"] = \"ma50m\""
     ],
     "language": "python",
     "metadata": {},
     "outputs": [],
     "prompt_number": 12
    },
    {
     "cell_type": "code",
     "collapsed": false,
     "input": [
      "regime_map[\"android.1\"] = \"ha2s\"\n",
      "regime_map[\"android.2\"] = \"ma2s\"\n",
      "regime_map[\"android.3\"] = \"ma30s\""
     ],
     "language": "python",
     "metadata": {},
     "outputs": [],
     "prompt_number": 13
    },
    {
     "cell_type": "code",
     "collapsed": false,
     "input": [
      "for drain_df in drain_df_map.values():\n",
      "    drain_df[\"fmt_time\"] = drain_df.ts.map(lambda(t): pydt.datetime.fromtimestamp(t))"
     ],
     "language": "python",
     "metadata": {},
     "outputs": [],
     "prompt_number": 14
    },
    {
     "cell_type": "code",
     "collapsed": false,
     "input": [
      "drain_df.head()"
     ],
     "language": "python",
     "metadata": {},
     "outputs": [
      {
       "html": [
        "<div style=\"max-width:1500px;overflow:auto;\">\n",
        "<table border=\"1\" class=\"dataframe\">\n",
        "  <thead>\n",
        "    <tr style=\"text-align: right;\">\n",
        "      <th></th>\n",
        "      <th>key</th>\n",
        "      <th>ts</th>\n",
        "      <th>value</th>\n",
        "      <th>fmt_time</th>\n",
        "    </tr>\n",
        "  </thead>\n",
        "  <tbody>\n",
        "    <tr>\n",
        "      <th>0</th>\n",
        "      <td>battery_level</td>\n",
        "      <td>1.449241e+09</td>\n",
        "      <td>100</td>\n",
        "      <td>2015-12-04 06:50:00.000</td>\n",
        "    </tr>\n",
        "    <tr>\n",
        "      <th>1</th>\n",
        "      <td>battery_level</td>\n",
        "      <td>1.449242e+09</td>\n",
        "      <td>100</td>\n",
        "      <td>2015-12-04 07:18:33.010</td>\n",
        "    </tr>\n",
        "    <tr>\n",
        "      <th>2</th>\n",
        "      <td>battery_level</td>\n",
        "      <td>1.449244e+09</td>\n",
        "      <td>100</td>\n",
        "      <td>2015-12-04 07:49:38.490</td>\n",
        "    </tr>\n",
        "    <tr>\n",
        "      <th>3</th>\n",
        "      <td>battery_level</td>\n",
        "      <td>1.449248e+09</td>\n",
        "      <td>98</td>\n",
        "      <td>2015-12-04 08:48:16.890</td>\n",
        "    </tr>\n",
        "    <tr>\n",
        "      <th>4</th>\n",
        "      <td>battery_level</td>\n",
        "      <td>1.449249e+09</td>\n",
        "      <td>97</td>\n",
        "      <td>2015-12-04 09:14:10.980</td>\n",
        "    </tr>\n",
        "  </tbody>\n",
        "</table>\n",
        "</div>"
       ],
       "metadata": {},
       "output_type": "pyout",
       "prompt_number": 15,
       "text": [
        "             key            ts  value                fmt_time\n",
        "0  battery_level  1.449241e+09    100 2015-12-04 06:50:00.000\n",
        "1  battery_level  1.449242e+09    100 2015-12-04 07:18:33.010\n",
        "2  battery_level  1.449244e+09    100 2015-12-04 07:49:38.490\n",
        "3  battery_level  1.449248e+09     98 2015-12-04 08:48:16.890\n",
        "4  battery_level  1.449249e+09     97 2015-12-04 09:14:10.980"
       ]
      }
     ],
     "prompt_number": 15
    },
    {
     "cell_type": "code",
     "collapsed": false,
     "input": [
      "ground_truth_df = ap.get_ground_truth_df(drain_df, [[0,4,17,22,23], [\"moving\", \"active\", \"moving\", \"passive\"]])"
     ],
     "language": "python",
     "metadata": {},
     "outputs": [],
     "prompt_number": 16
    },
    {
     "cell_type": "code",
     "collapsed": false,
     "input": [
      "ground_truth_df"
     ],
     "language": "python",
     "metadata": {},
     "outputs": [
      {
       "html": [
        "<div style=\"max-width:1500px;overflow:auto;\">\n",
        "<table border=\"1\" class=\"dataframe\">\n",
        "  <thead>\n",
        "    <tr style=\"text-align: right;\">\n",
        "      <th></th>\n",
        "      <th>start_index</th>\n",
        "      <th>start_ts</th>\n",
        "      <th>start_fmt_time</th>\n",
        "      <th>start_value</th>\n",
        "      <th>end_index</th>\n",
        "      <th>end_ts</th>\n",
        "      <th>end_fmt_time</th>\n",
        "      <th>end_value</th>\n",
        "      <th>state</th>\n",
        "    </tr>\n",
        "  </thead>\n",
        "  <tbody>\n",
        "    <tr>\n",
        "      <th>0</th>\n",
        "      <td>0</td>\n",
        "      <td>1.449241e+09</td>\n",
        "      <td>2015-12-04 06:50:00.000</td>\n",
        "      <td>100</td>\n",
        "      <td>4</td>\n",
        "      <td>1.449249e+09</td>\n",
        "      <td>2015-12-04 09:14:10.980</td>\n",
        "      <td>97</td>\n",
        "      <td>moving</td>\n",
        "    </tr>\n",
        "    <tr>\n",
        "      <th>1</th>\n",
        "      <td>4</td>\n",
        "      <td>1.449249e+09</td>\n",
        "      <td>2015-12-04 09:14:10.980</td>\n",
        "      <td>97</td>\n",
        "      <td>17</td>\n",
        "      <td>1.449277e+09</td>\n",
        "      <td>2015-12-04 16:48:34.190</td>\n",
        "      <td>72</td>\n",
        "      <td>active</td>\n",
        "    </tr>\n",
        "    <tr>\n",
        "      <th>2</th>\n",
        "      <td>17</td>\n",
        "      <td>1.449277e+09</td>\n",
        "      <td>2015-12-04 16:48:34.190</td>\n",
        "      <td>72</td>\n",
        "      <td>22</td>\n",
        "      <td>1.449287e+09</td>\n",
        "      <td>2015-12-04 19:39:01.290</td>\n",
        "      <td>63</td>\n",
        "      <td>moving</td>\n",
        "    </tr>\n",
        "    <tr>\n",
        "      <th>3</th>\n",
        "      <td>22</td>\n",
        "      <td>1.449287e+09</td>\n",
        "      <td>2015-12-04 19:39:01.290</td>\n",
        "      <td>63</td>\n",
        "      <td>23</td>\n",
        "      <td>1.449328e+09</td>\n",
        "      <td>2015-12-05 07:03:22.210</td>\n",
        "      <td>41</td>\n",
        "      <td>passive</td>\n",
        "    </tr>\n",
        "  </tbody>\n",
        "</table>\n",
        "</div>"
       ],
       "metadata": {},
       "output_type": "pyout",
       "prompt_number": 17,
       "text": [
        "   start_index      start_ts          start_fmt_time  start_value  end_index  \\\n",
        "0            0  1.449241e+09 2015-12-04 06:50:00.000          100          4   \n",
        "1            4  1.449249e+09 2015-12-04 09:14:10.980           97         17   \n",
        "2           17  1.449277e+09 2015-12-04 16:48:34.190           72         22   \n",
        "3           22  1.449287e+09 2015-12-04 19:39:01.290           63         23   \n",
        "\n",
        "         end_ts            end_fmt_time  end_value    state  \n",
        "0  1.449249e+09 2015-12-04 09:14:10.980         97   moving  \n",
        "1  1.449277e+09 2015-12-04 16:48:34.190         72   active  \n",
        "2  1.449287e+09 2015-12-04 19:39:01.290         63   moving  \n",
        "3  1.449328e+09 2015-12-05 07:03:22.210         41  passive  "
       ]
      }
     ],
     "prompt_number": 17
    },
    {
     "cell_type": "code",
     "collapsed": false,
     "input": [
      "drain_df_map.keys()"
     ],
     "language": "python",
     "metadata": {},
     "outputs": [
      {
       "metadata": {},
       "output_type": "pyout",
       "prompt_number": 18,
       "text": [
        "['android.2', 'android.3', 'android.1', 'ios.1', 'ios.2', 'ios.3']"
       ]
      }
     ],
     "prompt_number": 18
    },
    {
     "cell_type": "code",
     "collapsed": false,
     "input": [
      "(fig, axes) = ap.display_drain_over_day(drain_df_map, ground_truth_df, regime_map)"
     ],
     "language": "python",
     "metadata": {},
     "outputs": [
      {
       "output_type": "stream",
       "stream": "stdout",
       "text": [
        "adding annotations for 0, 2015-12-04 06:50:00, 2015-12-04 09:14:10.980000\n",
        "adding annotations for 1, 2015-12-04 09:14:10.980000, 2015-12-04 16:48:34.190000\n",
        "adding annotations for 2, 2015-12-04 16:48:34.190000, 2015-12-04 19:39:01.290000\n",
        "adding annotations for 3, 2015-12-04 19:39:01.290000, 2015-12-05 07:03:22.210000\n",
        "adding annotations for 0, 2015-12-04 06:50:00, 2015-12-04 09:14:10.980000\n",
        "adding annotations for 1, 2015-12-04 09:14:10.980000, 2015-12-04 16:48:34.190000\n",
        "adding annotations for 2, 2015-12-04 16:48:34.190000, 2015-12-04 19:39:01.290000\n",
        "adding annotations for 3, 2015-12-04 19:39:01.290000, 2015-12-05 07:03:22.210000\n"
       ]
      },
      {
       "metadata": {},
       "output_type": "display_data",
       "png": "[encoded data removed]",
       "text": [
        "<matplotlib.figure.Figure at 0x109d67b50>"
       ]
      }
     ],
     "prompt_number": 19
    },
    {
     "cell_type": "code",
     "collapsed": false,
     "input": [
      "ap.display_per_state_drain(drain_df_map, ground_truth_df, regime_map)"
     ],
     "language": "python",
     "metadata": {},
     "outputs": [
      {
       "output_type": "stream",
       "stream": "stdout",
       "text": [
        "displaying 0\n",
        "displaying 1"
       ]
      },
      {
       "output_type": "stream",
       "stream": "stdout",
       "text": [
        "\n",
        "displaying 2"
       ]
      },
      {
       "output_type": "stream",
       "stream": "stdout",
       "text": [
        "\n",
        "displaying 3"
       ]
      },
      {
       "output_type": "stream",
       "stream": "stdout",
       "text": [
        "\n",
        "displaying 4"
       ]
      },
      {
       "output_type": "stream",
       "stream": "stdout",
       "text": [
        "\n",
        "displaying 5"
       ]
      },
      {
       "output_type": "stream",
       "stream": "stdout",
       "text": [
        "\n"
       ]
      },
      {
       "metadata": {},
       "output_type": "pyout",
       "prompt_number": 20,
       "text": [
        "(<matplotlib.figure.Figure at 0x106968e90>,\n",
        " array([<matplotlib.axes.AxesSubplot object at 0x109e67b90>,\n",
        "        <matplotlib.axes.AxesSubplot object at 0x10a260690>,\n",
        "        <matplotlib.axes.AxesSubplot object at 0x10a2e5910>,\n",
        "        <matplotlib.axes.AxesSubplot object at 0x10a34ca10>,\n",
        "        <matplotlib.axes.AxesSubplot object at 0x10a3d46d0>,\n",
        "        <matplotlib.axes.AxesSubplot object at 0x10a43d2d0>], dtype=object))"
       ]
      },
      {
       "metadata": {},
       "output_type": "display_data",
       "png": "[encoded data removed]",
       "text": [
        "<matplotlib.figure.Figure at 0x106968e90>"
       ]
      }
     ],
     "prompt_number": 20
    },
    {
     "cell_type": "code",
     "collapsed": false,
     "input": [],
     "language": "python",
     "metadata": {},
     "outputs": [],
     "prompt_number": 20
    }
   ],
   "metadata": {}
  }
 ]
}