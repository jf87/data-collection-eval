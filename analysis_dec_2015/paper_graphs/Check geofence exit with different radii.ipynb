{
 "metadata": {
  "name": "",
  "signature": "sha256:f22cd860112021d055451baef8bcb557ed3230c9ab32446280966e50fb0d7bad"
 },
 "nbformat": 3,
 "nbformat_minor": 0,
 "worksheets": [
  {
   "cells": [
    {
     "cell_type": "code",
     "collapsed": false,
     "input": [
      "import sys"
     ],
     "language": "python",
     "metadata": {},
     "outputs": [],
     "prompt_number": 1
    },
    {
     "cell_type": "code",
     "collapsed": false,
     "input": [
      "sys.path.insert(0, \"../../src/\")"
     ],
     "language": "python",
     "metadata": {},
     "outputs": [],
     "prompt_number": 2
    },
    {
     "cell_type": "code",
     "collapsed": false,
     "input": [
      "import analysis.common as ac\n",
      "import analysis.accuracy_eval as aa"
     ],
     "language": "python",
     "metadata": {},
     "outputs": [],
     "prompt_number": 3
    },
    {
     "cell_type": "code",
     "collapsed": false,
     "input": [
      "reload(aa)"
     ],
     "language": "python",
     "metadata": {},
     "outputs": [
      {
       "metadata": {},
       "output_type": "pyout",
       "prompt_number": 4,
       "text": [
        "<module 'analysis.accuracy_eval' from '../../src/analysis/accuracy_eval.pyc'>"
       ]
      }
     ],
     "prompt_number": 4
    },
    {
     "cell_type": "code",
     "collapsed": false,
     "input": [
      "(iphone_ids, android_ids, phone_labels) = ac.setupPaths()"
     ],
     "language": "python",
     "metadata": {},
     "outputs": [],
     "prompt_number": 5
    },
    {
     "cell_type": "code",
     "collapsed": false,
     "input": [
      "import emission.core.get_database as edb\n",
      "import pandas as pd\n",
      "import matplotlib.pyplot as plt\n",
      "%matplotlib inline\n",
      "import datetime as pydt\n",
      "import emission.storage.timeseries.abstract_timeseries as esta"
     ],
     "language": "python",
     "metadata": {},
     "outputs": [],
     "prompt_number": 6
    },
    {
     "cell_type": "code",
     "collapsed": false,
     "input": [
      "display_names = [ac.get_display_name(label) for label in phone_labels]"
     ],
     "language": "python",
     "metadata": {},
     "outputs": [],
     "prompt_number": 7
    },
    {
     "cell_type": "code",
     "collapsed": false,
     "input": [
      "iphone_ts_list = [esta.TimeSeries.get_time_series(id) for id in iphone_ids]\n",
      "android_ts_list = [esta.TimeSeries.get_time_series(id) for id in android_ids]"
     ],
     "language": "python",
     "metadata": {},
     "outputs": [],
     "prompt_number": 8
    },
    {
     "cell_type": "heading",
     "level": 1,
     "metadata": {},
     "source": [
      "Determine transitions"
     ]
    },
    {
     "cell_type": "markdown",
     "metadata": {},
     "source": [
      "So trips are:\n",
      "- School to train stn:\n",
      " - 2015-12-01T08:18:30.533000-08:00, 1448986710 (no ground truth)\n",
      " - 2015-12-01T08:49:35.140000-08:00, 1448988575\n",
      "- Train station to home to train station:\n",
      " - 2015-12-01T09:04:27-08:00, 1448989467\n",
      " - 2015-12-01T09:40:21-08:00, 1448991621\n",
      "- Train station to Soda:\n",
      " - 2015-12-01T10:11:18-08:00, 1448993478\n",
      " - 2015-12-01T12:20:57.788000-08:00 1449001257.79 (no ground truth)\n",
      "- Soda to home: \n",
      " - 2015-12-01T17:57:53-08:00, 1449021473\n",
      " - 2015-12-01T20:56:47.250000-08:00, 1449032207.25 (no ground truth)"
     ]
    },
    {
     "cell_type": "code",
     "collapsed": false,
     "input": [
      "# And in code:\n",
      "trips_list = [[\"school_to_train\", 1448986710, 1448988575],\n",
      "              [\"train_home_train\", 1448989467, 1448991621],\n",
      "              [\"train_to_soda\", 1448993478, 1449001257.79],\n",
      "              [\"soda_to_home\", 1449021473, 1449032207.25]\n",
      "]"
     ],
     "language": "python",
     "metadata": {},
     "outputs": [],
     "prompt_number": 9
    },
    {
     "cell_type": "code",
     "collapsed": false,
     "input": [
      "ground_truth_df = pd.read_csv(\"../../ground_truth/geofence_exit_triggers.thu.2015-12-03/states.summary\")\n",
      "moving_df = ground_truth_df[ground_truth_df.state == \"moving\"]\n",
      "moving_df"
     ],
     "language": "python",
     "metadata": {},
     "outputs": [
      {
       "html": [
        "<div style=\"max-width:1500px;overflow:auto;\">\n",
        "<table border=\"1\" class=\"dataframe\">\n",
        "  <thead>\n",
        "    <tr style=\"text-align: right;\">\n",
        "      <th></th>\n",
        "      <th>start_ts</th>\n",
        "      <th>start_fmt_time</th>\n",
        "      <th>end_ts</th>\n",
        "      <th>end_fmt_time</th>\n",
        "      <th>state</th>\n",
        "    </tr>\n",
        "  </thead>\n",
        "  <tbody>\n",
        "    <tr>\n",
        "      <th>0</th>\n",
        "      <td>1449174317</td>\n",
        "      <td>2015-12-03T12:25:17-08:00</td>\n",
        "      <td>1449176691</td>\n",
        "      <td>2015-12-03T13:04:51-08:00</td>\n",
        "      <td>moving</td>\n",
        "    </tr>\n",
        "    <tr>\n",
        "      <th>2</th>\n",
        "      <td>1449186063</td>\n",
        "      <td>2015-12-03T15:41:03-08:00</td>\n",
        "      <td>1449186355</td>\n",
        "      <td>2015-12-03T15:45:55-08:00</td>\n",
        "      <td>moving</td>\n",
        "    </tr>\n",
        "    <tr>\n",
        "      <th>4</th>\n",
        "      <td>1449189353</td>\n",
        "      <td>2015-12-03T16:35:53-08:00</td>\n",
        "      <td>1449189707</td>\n",
        "      <td>2015-12-03T16:41:47-08:00</td>\n",
        "      <td>moving</td>\n",
        "    </tr>\n",
        "    <tr>\n",
        "      <th>6</th>\n",
        "      <td>1449193436</td>\n",
        "      <td>2015-12-03T17:43:56-08:00</td>\n",
        "      <td>1449194102</td>\n",
        "      <td>2015-12-03T17:55:02-08:00</td>\n",
        "      <td>moving</td>\n",
        "    </tr>\n",
        "    <tr>\n",
        "      <th>8</th>\n",
        "      <td>1449202323</td>\n",
        "      <td>2015-12-03T20:12:03-08:00</td>\n",
        "      <td>1449203103</td>\n",
        "      <td>2015-12-03T20:25:03-08:00</td>\n",
        "      <td>moving</td>\n",
        "    </tr>\n",
        "  </tbody>\n",
        "</table>\n",
        "</div>"
       ],
       "metadata": {},
       "output_type": "pyout",
       "prompt_number": 10,
       "text": [
        "     start_ts             start_fmt_time      end_ts  \\\n",
        "0  1449174317  2015-12-03T12:25:17-08:00  1449176691   \n",
        "2  1449186063  2015-12-03T15:41:03-08:00  1449186355   \n",
        "4  1449189353  2015-12-03T16:35:53-08:00  1449189707   \n",
        "6  1449193436  2015-12-03T17:43:56-08:00  1449194102   \n",
        "8  1449202323  2015-12-03T20:12:03-08:00  1449203103   \n",
        "\n",
        "                end_fmt_time   state  \n",
        "0  2015-12-03T13:04:51-08:00  moving  \n",
        "2  2015-12-03T15:45:55-08:00  moving  \n",
        "4  2015-12-03T16:41:47-08:00  moving  \n",
        "6  2015-12-03T17:55:02-08:00  moving  \n",
        "8  2015-12-03T20:25:03-08:00  moving  "
       ]
      }
     ],
     "prompt_number": 10
    },
    {
     "cell_type": "code",
     "collapsed": false,
     "input": [
      "for idx, row in moving_df.iterrows():\n",
      "    if \"label\" not in row:\n",
      "        row.label = \"\"\n",
      "    aa.evaluate_trip_accuracy(iphone_ts_list, android_ts_list, row.label, row.start_ts, row.end_ts)"
     ],
     "language": "python",
     "metadata": {},
     "outputs": [
      {
       "output_type": "stream",
       "stream": "stderr",
       "text": [
        "DEBUG:root:curr_query = {'$or': [{'metadata.key': 'background/location'}], 'metadata.write_ts': {'$gte': 1449174317, '$lt': 1449176691}, 'user_id': UUID('079e0f1a-c440-3d7c-b0e7-de160f748e35')}, sort_key = metadata.write_ts\n"
       ]
      },
      {
       "output_type": "stream",
       "stream": "stderr",
       "text": [
        "DEBUG:root:Found 577 results\n"
       ]
      },
      {
       "output_type": "stream",
       "stream": "stderr",
       "text": [
        "DEBUG:root:curr_query = {'$or': [{'metadata.key': 'background/location'}], 'metadata.write_ts': {'$gte': 1449174317, '$lt': 1449176691}, 'user_id': UUID('c76a0487-7e5a-3b17-a449-47be666b36f6')}, sort_key = metadata.write_ts\n"
       ]
      },
      {
       "output_type": "stream",
       "stream": "stderr",
       "text": [
        "DEBUG:root:Found 463 results\n"
       ]
      },
      {
       "output_type": "stream",
       "stream": "stderr",
       "text": [
        "DEBUG:root:curr_query = {'$or': [{'metadata.key': 'background/location'}], 'metadata.write_ts': {'$gte': 1449174317, '$lt': 1449176691}, 'user_id': UUID('c528bcd2-a88b-3e82-be62-ef4f2396967a')}, sort_key = metadata.write_ts\n"
       ]
      },
      {
       "output_type": "stream",
       "stream": "stderr",
       "text": [
        "DEBUG:root:Found 285 results\n"
       ]
      },
      {
       "output_type": "stream",
       "stream": "stderr",
       "text": [
        "DEBUG:root:curr_query = {'$or': [{'metadata.key': 'background/location'}], 'metadata.write_ts': {'$gte': 1449174317, '$lt': 1449176691}, 'user_id': UUID('e471711e-bd14-3dbe-80b6-9c7d92ecc296')}, sort_key = metadata.write_ts\n"
       ]
      },
      {
       "output_type": "stream",
       "stream": "stderr",
       "text": [
        "DEBUG:root:Found 2448 results\n"
       ]
      },
      {
       "output_type": "stream",
       "stream": "stderr",
       "text": [
        "DEBUG:root:curr_query = {'$or': [{'metadata.key': 'background/location'}], 'metadata.write_ts': {'$gte': 1449174317, '$lt': 1449176691}, 'user_id': UUID('fd7b4c2e-2c8b-3bfa-94f0-d1e3ecbd5fb7')}, sort_key = metadata.write_ts\n"
       ]
      },
      {
       "output_type": "stream",
       "stream": "stderr",
       "text": [
        "DEBUG:root:Found 0 results\n"
       ]
      },
      {
       "output_type": "stream",
       "stream": "stderr",
       "text": [
        "DEBUG:root:curr_query = {'$or': [{'metadata.key': 'background/location'}], 'metadata.write_ts': {'$gte': 1449174317, '$lt': 1449176691}, 'user_id': UUID('86842c35-da28-32ed-a90e-2da6663c5c73')}, sort_key = metadata.write_ts\n"
       ]
      },
      {
       "output_type": "stream",
       "stream": "stderr",
       "text": [
        "DEBUG:root:Found 268 results\n"
       ]
      },
      {
       "output_type": "stream",
       "stream": "stderr",
       "text": [
        "DEBUG:root:curr_query = {'$or': [{'metadata.key': 'statemachine/transition'}], 'metadata.write_ts': {'$gte': 1449174317, '$lt': 1449176691}, 'user_id': UUID('079e0f1a-c440-3d7c-b0e7-de160f748e35')}, sort_key = metadata.write_ts\n"
       ]
      },
      {
       "output_type": "stream",
       "stream": "stderr",
       "text": [
        "DEBUG:root:Found 0 results\n"
       ]
      },
      {
       "output_type": "stream",
       "stream": "stderr",
       "text": [
        "DEBUG:root:curr_query = {'$or': [{'metadata.key': 'statemachine/transition'}], 'metadata.write_ts': {'$gte': 1449174317, '$lt': 1449176691}, 'user_id': UUID('c76a0487-7e5a-3b17-a449-47be666b36f6')}, sort_key = metadata.write_ts\n"
       ]
      },
      {
       "output_type": "stream",
       "stream": "stderr",
       "text": [
        "DEBUG:root:Found 6 results\n"
       ]
      },
      {
       "output_type": "stream",
       "stream": "stderr",
       "text": [
        "DEBUG:root:curr_query = {'$or': [{'metadata.key': 'statemachine/transition'}], 'metadata.write_ts': {'$gte': 1449174317, '$lt': 1449176691}, 'user_id': UUID('c528bcd2-a88b-3e82-be62-ef4f2396967a')}, sort_key = metadata.write_ts\n"
       ]
      },
      {
       "output_type": "stream",
       "stream": "stderr",
       "text": [
        "DEBUG:root:Found 6 results\n"
       ]
      },
      {
       "output_type": "stream",
       "stream": "stderr",
       "text": [
        "DEBUG:root:curr_query = {'$or': [{'metadata.key': 'statemachine/transition'}], 'metadata.write_ts': {'$gte': 1449174317, '$lt': 1449176691}, 'user_id': UUID('e471711e-bd14-3dbe-80b6-9c7d92ecc296')}, sort_key = metadata.write_ts\n"
       ]
      },
      {
       "output_type": "stream",
       "stream": "stderr",
       "text": [
        "DEBUG:root:Found 0 results\n"
       ]
      },
      {
       "output_type": "stream",
       "stream": "stderr",
       "text": [
        "DEBUG:root:curr_query = {'$or': [{'metadata.key': 'statemachine/transition'}], 'metadata.write_ts': {'$gte': 1449174317, '$lt': 1449176691}, 'user_id': UUID('fd7b4c2e-2c8b-3bfa-94f0-d1e3ecbd5fb7')}, sort_key = metadata.write_ts\n"
       ]
      },
      {
       "output_type": "stream",
       "stream": "stderr",
       "text": [
        "DEBUG:root:Found 0 results\n"
       ]
      },
      {
       "output_type": "stream",
       "stream": "stderr",
       "text": [
        "DEBUG:root:curr_query = {'$or': [{'metadata.key': 'statemachine/transition'}], 'metadata.write_ts': {'$gte': 1449174317, '$lt': 1449176691}, 'user_id': UUID('86842c35-da28-32ed-a90e-2da6663c5c73')}, sort_key = metadata.write_ts\n"
       ]
      },
      {
       "output_type": "stream",
       "stream": "stderr",
       "text": [
        "DEBUG:root:Found 16 results\n"
       ]
      },
      {
       "output_type": "stream",
       "stream": "stdout",
       "text": [
        "Generating trip for \n",
        "length of lat_means = 3"
       ]
      },
      {
       "output_type": "stream",
       "stream": "stderr",
       "text": [
        "DEBUG:root:Caluldated fill_val = 37.3993608942\n"
       ]
      },
      {
       "output_type": "stream",
       "stream": "stdout",
       "text": [
        "\n",
        "Considering phone  android0\n",
        "len(transition_df) = 0, ground_truth_start_ts = 1449174317, geofence was not exited!!"
       ]
      },
      {
       "output_type": "stream",
       "stream": "stderr",
       "text": [
        "DEBUG:root:Caluldated fill_val = 37.3974708663\n"
       ]
      },
      {
       "output_type": "stream",
       "stream": "stdout",
       "text": [
        "\n",
        "Considering phone  android1\n",
        "No data to plot for dataframe  android1\n",
        "Fake data length = 80, fill_val = 37.3993608942\n",
        "Considering phone  android2\n",
        "ground truth exit = 2015-12-03 12:25:17, geofence_exit_ts = +78.183000, first location point = +79.000000\n",
        "length of lat_means = 3\n",
        "Considering phone  iphone0\n",
        "len(transition_df) = 0, ground_truth_start_ts = 1449174317, geofence was not exited!!"
       ]
      },
      {
       "output_type": "stream",
       "stream": "stdout",
       "text": [
        "\n",
        "Considering phone  iphone1\n",
        "ground truth exit = 2015-12-03 12:25:17, geofence_exit_ts = +292.682628, first location point = +292.736145\n",
        "Considering phone  iphone2\n",
        "ground truth exit = 2015-12-03 12:25:17, geofence_exit_ts = +176.203431, first location point = +998.232714"
       ]
      },
      {
       "output_type": "stream",
       "stream": "stderr",
       "text": [
        "DEBUG:root:curr_query = {'$or': [{'metadata.key': 'background/location'}], 'metadata.write_ts': {'$gte': 1449186063, '$lt': 1449186355}, 'user_id': UUID('079e0f1a-c440-3d7c-b0e7-de160f748e35')}, sort_key = metadata.write_ts\n"
       ]
      },
      {
       "output_type": "stream",
       "stream": "stderr",
       "text": [
        "DEBUG:root:Found 150 results\n"
       ]
      },
      {
       "output_type": "stream",
       "stream": "stderr",
       "text": [
        "DEBUG:root:curr_query = {'$or': [{'metadata.key': 'background/location'}], 'metadata.write_ts': {'$gte': 1449186063, '$lt': 1449186355}, 'user_id': UUID('c76a0487-7e5a-3b17-a449-47be666b36f6')}, sort_key = metadata.write_ts\n"
       ]
      },
      {
       "output_type": "stream",
       "stream": "stderr",
       "text": [
        "DEBUG:root:Found 0 results\n"
       ]
      },
      {
       "output_type": "stream",
       "stream": "stderr",
       "text": [
        "DEBUG:root:curr_query = {'$or': [{'metadata.key': 'background/location'}], 'metadata.write_ts': {'$gte': 1449186063, '$lt': 1449186355}, 'user_id': UUID('c528bcd2-a88b-3e82-be62-ef4f2396967a')}, sort_key = metadata.write_ts\n"
       ]
      },
      {
       "output_type": "stream",
       "stream": "stderr",
       "text": [
        "DEBUG:root:Found 50 results\n"
       ]
      },
      {
       "output_type": "stream",
       "stream": "stderr",
       "text": [
        "DEBUG:root:curr_query = {'$or': [{'metadata.key': 'background/location'}], 'metadata.write_ts': {'$gte': 1449186063, '$lt': 1449186355}, 'user_id': UUID('e471711e-bd14-3dbe-80b6-9c7d92ecc296')}, sort_key = metadata.write_ts\n"
       ]
      },
      {
       "output_type": "stream",
       "stream": "stderr",
       "text": [
        "DEBUG:root:Found 0 results\n"
       ]
      },
      {
       "output_type": "stream",
       "stream": "stderr",
       "text": [
        "DEBUG:root:curr_query = {'$or': [{'metadata.key': 'background/location'}], 'metadata.write_ts': {'$gte': 1449186063, '$lt': 1449186355}, 'user_id': UUID('fd7b4c2e-2c8b-3bfa-94f0-d1e3ecbd5fb7')}, sort_key = metadata.write_ts\n"
       ]
      },
      {
       "output_type": "stream",
       "stream": "stderr",
       "text": [
        "DEBUG:root:Found 0 results\n"
       ]
      },
      {
       "output_type": "stream",
       "stream": "stderr",
       "text": [
        "DEBUG:root:curr_query = {'$or': [{'metadata.key': 'background/location'}], 'metadata.write_ts': {'$gte': 1449186063, '$lt': 1449186355}, 'user_id': UUID('86842c35-da28-32ed-a90e-2da6663c5c73')}, sort_key = metadata.write_ts\n"
       ]
      },
      {
       "output_type": "stream",
       "stream": "stderr",
       "text": [
        "DEBUG:root:Found 0 results\n"
       ]
      },
      {
       "output_type": "stream",
       "stream": "stderr",
       "text": [
        "DEBUG:root:curr_query = {'$or': [{'metadata.key': 'statemachine/transition'}], 'metadata.write_ts': {'$gte': 1449186063, '$lt': 1449186355}, 'user_id': UUID('079e0f1a-c440-3d7c-b0e7-de160f748e35')}, sort_key = metadata.write_ts\n"
       ]
      },
      {
       "output_type": "stream",
       "stream": "stderr",
       "text": [
        "DEBUG:root:Found 0 results\n"
       ]
      },
      {
       "output_type": "stream",
       "stream": "stderr",
       "text": [
        "DEBUG:root:curr_query = {'$or': [{'metadata.key': 'statemachine/transition'}], 'metadata.write_ts': {'$gte': 1449186063, '$lt': 1449186355}, 'user_id': UUID('c76a0487-7e5a-3b17-a449-47be666b36f6')}, sort_key = metadata.write_ts\n"
       ]
      },
      {
       "output_type": "stream",
       "stream": "stderr",
       "text": [
        "DEBUG:root:Found 0 results\n"
       ]
      },
      {
       "output_type": "stream",
       "stream": "stderr",
       "text": [
        "DEBUG:root:curr_query = {'$or': [{'metadata.key': 'statemachine/transition'}], 'metadata.write_ts': {'$gte': 1449186063, '$lt': 1449186355}, 'user_id': UUID('c528bcd2-a88b-3e82-be62-ef4f2396967a')}, sort_key = metadata.write_ts\n"
       ]
      },
      {
       "output_type": "stream",
       "stream": "stderr",
       "text": [
        "DEBUG:root:Found 4 results\n"
       ]
      },
      {
       "output_type": "stream",
       "stream": "stderr",
       "text": [
        "DEBUG:root:curr_query = {'$or': [{'metadata.key': 'statemachine/transition'}], 'metadata.write_ts': {'$gte': 1449186063, '$lt': 1449186355}, 'user_id': UUID('e471711e-bd14-3dbe-80b6-9c7d92ecc296')}, sort_key = metadata.write_ts\n"
       ]
      },
      {
       "output_type": "stream",
       "stream": "stderr",
       "text": [
        "DEBUG:root:Found 0 results\n"
       ]
      },
      {
       "output_type": "stream",
       "stream": "stderr",
       "text": [
        "DEBUG:root:curr_query = {'$or': [{'metadata.key': 'statemachine/transition'}], 'metadata.write_ts': {'$gte': 1449186063, '$lt': 1449186355}, 'user_id': UUID('fd7b4c2e-2c8b-3bfa-94f0-d1e3ecbd5fb7')}, sort_key = metadata.write_ts\n"
       ]
      },
      {
       "output_type": "stream",
       "stream": "stderr",
       "text": [
        "DEBUG:root:Found 0 results\n"
       ]
      },
      {
       "output_type": "stream",
       "stream": "stderr",
       "text": [
        "DEBUG:root:curr_query = {'$or': [{'metadata.key': 'statemachine/transition'}], 'metadata.write_ts': {'$gte': 1449186063, '$lt': 1449186355}, 'user_id': UUID('86842c35-da28-32ed-a90e-2da6663c5c73')}, sort_key = metadata.write_ts\n"
       ]
      },
      {
       "output_type": "stream",
       "stream": "stderr",
       "text": [
        "DEBUG:root:Found 0 results\n"
       ]
      },
      {
       "output_type": "stream",
       "stream": "stdout",
       "text": [
        "\n",
        "Generating trip for \n",
        "length of lat_means = 3"
       ]
      },
      {
       "output_type": "stream",
       "stream": "stderr",
       "text": [
        "DEBUG:root:Caluldated fill_val = nan\n"
       ]
      },
      {
       "output_type": "stream",
       "stream": "stdout",
       "text": [
        "\n",
        "Considering phone  android0\n",
        "No data to plot for dataframe  android0\n",
        "Fake data length = 10, fill_val = nan\n",
        "Considering phone  android1"
       ]
      },
      {
       "output_type": "stream",
       "stream": "stderr",
       "text": [
        "DEBUG:root:Caluldated fill_val = 37.3921918054\n"
       ]
      },
      {
       "output_type": "stream",
       "stream": "stdout",
       "text": [
        "\n",
        "No data to plot for dataframe  android1\n",
        "Fake data length = 10, fill_val = nan\n",
        "Considering phone  android2\n",
        "No data to plot for dataframe  android2\n",
        "Fake data length = 10, fill_val = nan\n",
        "length of lat_means = 3\n",
        "Considering phone  iphone0\n",
        "len(transition_df) = 0, ground_truth_start_ts = 1449186063, geofence was not exited!!"
       ]
      },
      {
       "output_type": "stream",
       "stream": "stdout",
       "text": [
        "\n",
        "Considering phone  iphone1\n",
        "No data to plot for dataframe  iphone1\n",
        "Fake data length = 10, fill_val = 37.3921918054\n",
        "Considering phone  iphone2\n",
        "ground truth exit = 2015-12-03 15:41:03, geofence_exit_ts = +200.179519, first location point = +200.232513"
       ]
      },
      {
       "output_type": "stream",
       "stream": "stderr",
       "text": [
        "DEBUG:root:curr_query = {'$or': [{'metadata.key': 'background/location'}], 'metadata.write_ts': {'$gte': 1449189353, '$lt': 1449189707}, 'user_id': UUID('079e0f1a-c440-3d7c-b0e7-de160f748e35')}, sort_key = metadata.write_ts\n"
       ]
      },
      {
       "output_type": "stream",
       "stream": "stderr",
       "text": [
        "DEBUG:root:Found 0 results\n"
       ]
      },
      {
       "output_type": "stream",
       "stream": "stderr",
       "text": [
        "DEBUG:root:curr_query = {'$or': [{'metadata.key': 'background/location'}], 'metadata.write_ts': {'$gte': 1449189353, '$lt': 1449189707}, 'user_id': UUID('c76a0487-7e5a-3b17-a449-47be666b36f6')}, sort_key = metadata.write_ts\n"
       ]
      },
      {
       "output_type": "stream",
       "stream": "stderr",
       "text": [
        "DEBUG:root:Found 0 results\n"
       ]
      },
      {
       "output_type": "stream",
       "stream": "stderr",
       "text": [
        "DEBUG:root:curr_query = {'$or': [{'metadata.key': 'background/location'}], 'metadata.write_ts': {'$gte': 1449189353, '$lt': 1449189707}, 'user_id': UUID('c528bcd2-a88b-3e82-be62-ef4f2396967a')}, sort_key = metadata.write_ts\n"
       ]
      },
      {
       "output_type": "stream",
       "stream": "stderr",
       "text": [
        "DEBUG:root:Found 0 results\n"
       ]
      },
      {
       "output_type": "stream",
       "stream": "stderr",
       "text": [
        "DEBUG:root:curr_query = {'$or': [{'metadata.key': 'background/location'}], 'metadata.write_ts': {'$gte': 1449189353, '$lt': 1449189707}, 'user_id': UUID('e471711e-bd14-3dbe-80b6-9c7d92ecc296')}, sort_key = metadata.write_ts\n"
       ]
      },
      {
       "output_type": "stream",
       "stream": "stderr",
       "text": [
        "DEBUG:root:Found 0 results\n"
       ]
      },
      {
       "output_type": "stream",
       "stream": "stderr",
       "text": [
        "DEBUG:root:curr_query = {'$or': [{'metadata.key': 'background/location'}], 'metadata.write_ts': {'$gte': 1449189353, '$lt': 1449189707}, 'user_id': UUID('fd7b4c2e-2c8b-3bfa-94f0-d1e3ecbd5fb7')}, sort_key = metadata.write_ts\n"
       ]
      },
      {
       "output_type": "stream",
       "stream": "stderr",
       "text": [
        "DEBUG:root:Found 161 results\n"
       ]
      },
      {
       "output_type": "stream",
       "stream": "stderr",
       "text": [
        "DEBUG:root:curr_query = {'$or': [{'metadata.key': 'background/location'}], 'metadata.write_ts': {'$gte': 1449189353, '$lt': 1449189707}, 'user_id': UUID('86842c35-da28-32ed-a90e-2da6663c5c73')}, sort_key = metadata.write_ts\n"
       ]
      },
      {
       "output_type": "stream",
       "stream": "stderr",
       "text": [
        "DEBUG:root:Found 0 results\n"
       ]
      },
      {
       "output_type": "stream",
       "stream": "stderr",
       "text": [
        "DEBUG:root:curr_query = {'$or': [{'metadata.key': 'statemachine/transition'}], 'metadata.write_ts': {'$gte': 1449189353, '$lt': 1449189707}, 'user_id': UUID('079e0f1a-c440-3d7c-b0e7-de160f748e35')}, sort_key = metadata.write_ts\n"
       ]
      },
      {
       "output_type": "stream",
       "stream": "stderr",
       "text": [
        "DEBUG:root:Found 0 results\n"
       ]
      },
      {
       "output_type": "stream",
       "stream": "stderr",
       "text": [
        "DEBUG:root:curr_query = {'$or': [{'metadata.key': 'statemachine/transition'}], 'metadata.write_ts': {'$gte': 1449189353, '$lt': 1449189707}, 'user_id': UUID('c76a0487-7e5a-3b17-a449-47be666b36f6')}, sort_key = metadata.write_ts\n"
       ]
      },
      {
       "output_type": "stream",
       "stream": "stderr",
       "text": [
        "DEBUG:root:Found 0 results\n"
       ]
      },
      {
       "output_type": "stream",
       "stream": "stderr",
       "text": [
        "DEBUG:root:curr_query = {'$or': [{'metadata.key': 'statemachine/transition'}], 'metadata.write_ts': {'$gte': 1449189353, '$lt': 1449189707}, 'user_id': UUID('c528bcd2-a88b-3e82-be62-ef4f2396967a')}, sort_key = metadata.write_ts\n"
       ]
      },
      {
       "output_type": "stream",
       "stream": "stderr",
       "text": [
        "DEBUG:root:Found 0 results\n"
       ]
      },
      {
       "output_type": "stream",
       "stream": "stderr",
       "text": [
        "DEBUG:root:curr_query = {'$or': [{'metadata.key': 'statemachine/transition'}], 'metadata.write_ts': {'$gte': 1449189353, '$lt': 1449189707}, 'user_id': UUID('e471711e-bd14-3dbe-80b6-9c7d92ecc296')}, sort_key = metadata.write_ts\n"
       ]
      },
      {
       "output_type": "stream",
       "stream": "stderr",
       "text": [
        "DEBUG:root:Found 0 results\n"
       ]
      },
      {
       "output_type": "stream",
       "stream": "stderr",
       "text": [
        "DEBUG:root:curr_query = {'$or': [{'metadata.key': 'statemachine/transition'}], 'metadata.write_ts': {'$gte': 1449189353, '$lt': 1449189707}, 'user_id': UUID('fd7b4c2e-2c8b-3bfa-94f0-d1e3ecbd5fb7')}, sort_key = metadata.write_ts\n"
       ]
      },
      {
       "output_type": "stream",
       "stream": "stderr",
       "text": [
        "DEBUG:root:Found 1 results\n"
       ]
      },
      {
       "output_type": "stream",
       "stream": "stderr",
       "text": [
        "DEBUG:root:curr_query = {'$or': [{'metadata.key': 'statemachine/transition'}], 'metadata.write_ts': {'$gte': 1449189353, '$lt': 1449189707}, 'user_id': UUID('86842c35-da28-32ed-a90e-2da6663c5c73')}, sort_key = metadata.write_ts\n"
       ]
      },
      {
       "output_type": "stream",
       "stream": "stderr",
       "text": [
        "DEBUG:root:Found 0 results\n"
       ]
      },
      {
       "output_type": "stream",
       "stream": "stdout",
       "text": [
        "\n",
        "Generating trip for \n",
        "length of lat_means = 3"
       ]
      },
      {
       "output_type": "stream",
       "stream": "stderr",
       "text": [
        "DEBUG:root:Caluldated fill_val = 37.3920201782\n"
       ]
      },
      {
       "output_type": "stream",
       "stream": "stdout",
       "text": [
        "\n",
        "Considering phone  android0\n",
        "No data to plot for dataframe  android0\n",
        "Fake data length = 12, fill_val = 37.3920201782\n",
        "Considering phone  android1"
       ]
      },
      {
       "output_type": "stream",
       "stream": "stderr",
       "text": [
        "DEBUG:root:Caluldated fill_val = nan\n"
       ]
      },
      {
       "output_type": "stream",
       "stream": "stdout",
       "text": [
        "\n",
        "ground truth exit = 2015-12-03 16:35:53, geofence_exit_ts = +39.950000, first location point = +41.000000\n",
        "Considering phone  android2\n",
        "No data to plot for dataframe  android2\n",
        "Fake data length = 12, fill_val = 37.3920201782\n",
        "length of lat_means = 3\n",
        "Considering phone  iphone0\n",
        "No data to plot for dataframe  iphone0\n",
        "Fake data length = 12, fill_val = nan\n",
        "Considering phone  iphone1"
       ]
      },
      {
       "output_type": "stream",
       "stream": "stdout",
       "text": [
        "\n",
        "No data to plot for dataframe  iphone1\n",
        "Fake data length = 12, fill_val = nan\n",
        "Considering phone  iphone2\n",
        "No data to plot for dataframe  iphone2\n",
        "Fake data length = 12, fill_val = nan\n",
        "Generating trip for "
       ]
      },
      {
       "output_type": "stream",
       "stream": "stderr",
       "text": [
        "DEBUG:root:curr_query = {'$or': [{'metadata.key': 'background/location'}], 'metadata.write_ts': {'$gte': 1449193436, '$lt': 1449194102}, 'user_id': UUID('079e0f1a-c440-3d7c-b0e7-de160f748e35')}, sort_key = metadata.write_ts\n"
       ]
      },
      {
       "output_type": "stream",
       "stream": "stderr",
       "text": [
        "DEBUG:root:Found 179 results\n"
       ]
      },
      {
       "output_type": "stream",
       "stream": "stderr",
       "text": [
        "DEBUG:root:curr_query = {'$or': [{'metadata.key': 'background/location'}], 'metadata.write_ts': {'$gte': 1449193436, '$lt': 1449194102}, 'user_id': UUID('c76a0487-7e5a-3b17-a449-47be666b36f6')}, sort_key = metadata.write_ts\n"
       ]
      },
      {
       "output_type": "stream",
       "stream": "stderr",
       "text": [
        "DEBUG:root:Found 0 results\n"
       ]
      },
      {
       "output_type": "stream",
       "stream": "stderr",
       "text": [
        "DEBUG:root:curr_query = {'$or': [{'metadata.key': 'background/location'}], 'metadata.write_ts': {'$gte': 1449193436, '$lt': 1449194102}, 'user_id': UUID('c528bcd2-a88b-3e82-be62-ef4f2396967a')}, sort_key = metadata.write_ts\n"
       ]
      },
      {
       "output_type": "stream",
       "stream": "stderr",
       "text": [
        "DEBUG:root:Found 0 results\n"
       ]
      },
      {
       "output_type": "stream",
       "stream": "stderr",
       "text": [
        "DEBUG:root:curr_query = {'$or': [{'metadata.key': 'background/location'}], 'metadata.write_ts': {'$gte': 1449193436, '$lt': 1449194102}, 'user_id': UUID('e471711e-bd14-3dbe-80b6-9c7d92ecc296')}, sort_key = metadata.write_ts\n"
       ]
      },
      {
       "output_type": "stream",
       "stream": "stderr",
       "text": [
        "DEBUG:root:Found 0 results\n"
       ]
      },
      {
       "output_type": "stream",
       "stream": "stderr",
       "text": [
        "DEBUG:root:curr_query = {'$or': [{'metadata.key': 'background/location'}], 'metadata.write_ts': {'$gte': 1449193436, '$lt': 1449194102}, 'user_id': UUID('fd7b4c2e-2c8b-3bfa-94f0-d1e3ecbd5fb7')}, sort_key = metadata.write_ts\n"
       ]
      },
      {
       "output_type": "stream",
       "stream": "stderr",
       "text": [
        "DEBUG:root:Found 75 results\n"
       ]
      },
      {
       "output_type": "stream",
       "stream": "stderr",
       "text": [
        "DEBUG:root:curr_query = {'$or': [{'metadata.key': 'background/location'}], 'metadata.write_ts': {'$gte': 1449193436, '$lt': 1449194102}, 'user_id': UUID('86842c35-da28-32ed-a90e-2da6663c5c73')}, sort_key = metadata.write_ts\n"
       ]
      },
      {
       "output_type": "stream",
       "stream": "stderr",
       "text": [
        "DEBUG:root:Found 0 results\n"
       ]
      },
      {
       "output_type": "stream",
       "stream": "stderr",
       "text": [
        "DEBUG:root:curr_query = {'$or': [{'metadata.key': 'statemachine/transition'}], 'metadata.write_ts': {'$gte': 1449193436, '$lt': 1449194102}, 'user_id': UUID('079e0f1a-c440-3d7c-b0e7-de160f748e35')}, sort_key = metadata.write_ts\n"
       ]
      },
      {
       "output_type": "stream",
       "stream": "stderr",
       "text": [
        "DEBUG:root:Found 0 results\n"
       ]
      },
      {
       "output_type": "stream",
       "stream": "stderr",
       "text": [
        "DEBUG:root:curr_query = {'$or': [{'metadata.key': 'statemachine/transition'}], 'metadata.write_ts': {'$gte': 1449193436, '$lt': 1449194102}, 'user_id': UUID('c76a0487-7e5a-3b17-a449-47be666b36f6')}, sort_key = metadata.write_ts\n"
       ]
      },
      {
       "output_type": "stream",
       "stream": "stderr",
       "text": [
        "DEBUG:root:Found 0 results\n"
       ]
      },
      {
       "output_type": "stream",
       "stream": "stderr",
       "text": [
        "DEBUG:root:curr_query = {'$or': [{'metadata.key': 'statemachine/transition'}], 'metadata.write_ts': {'$gte': 1449193436, '$lt': 1449194102}, 'user_id': UUID('c528bcd2-a88b-3e82-be62-ef4f2396967a')}, sort_key = metadata.write_ts\n"
       ]
      },
      {
       "output_type": "stream",
       "stream": "stderr",
       "text": [
        "DEBUG:root:Found 4 results\n"
       ]
      },
      {
       "output_type": "stream",
       "stream": "stderr",
       "text": [
        "DEBUG:root:curr_query = {'$or': [{'metadata.key': 'statemachine/transition'}], 'metadata.write_ts': {'$gte': 1449193436, '$lt': 1449194102}, 'user_id': UUID('e471711e-bd14-3dbe-80b6-9c7d92ecc296')}, sort_key = metadata.write_ts\n"
       ]
      },
      {
       "output_type": "stream",
       "stream": "stderr",
       "text": [
        "DEBUG:root:Found 0 results\n"
       ]
      },
      {
       "output_type": "stream",
       "stream": "stderr",
       "text": [
        "DEBUG:root:curr_query = {'$or': [{'metadata.key': 'statemachine/transition'}], 'metadata.write_ts': {'$gte': 1449193436, '$lt': 1449194102}, 'user_id': UUID('fd7b4c2e-2c8b-3bfa-94f0-d1e3ecbd5fb7')}, sort_key = metadata.write_ts\n"
       ]
      },
      {
       "output_type": "stream",
       "stream": "stderr",
       "text": [
        "DEBUG:root:Found 12 results\n"
       ]
      },
      {
       "output_type": "stream",
       "stream": "stderr",
       "text": [
        "DEBUG:root:curr_query = {'$or': [{'metadata.key': 'statemachine/transition'}], 'metadata.write_ts': {'$gte': 1449193436, '$lt': 1449194102}, 'user_id': UUID('86842c35-da28-32ed-a90e-2da6663c5c73')}, sort_key = metadata.write_ts\n"
       ]
      },
      {
       "output_type": "stream",
       "stream": "stderr",
       "text": [
        "DEBUG:root:Found 0 results\n"
       ]
      },
      {
       "output_type": "stream",
       "stream": "stdout",
       "text": [
        "\n",
        "length of lat_means = 3"
       ]
      },
      {
       "output_type": "stream",
       "stream": "stderr",
       "text": [
        "DEBUG:root:Caluldated fill_val = 37.3913996837\n"
       ]
      },
      {
       "output_type": "stream",
       "stream": "stdout",
       "text": [
        "\n",
        "Considering phone  android0\n",
        "No data to plot for dataframe  android0\n",
        "Fake data length = 23, fill_val = 37.3913996837\n",
        "Considering phone  android1"
       ]
      },
      {
       "output_type": "stream",
       "stream": "stderr",
       "text": [
        "DEBUG:root:Caluldated fill_val = 37.3916361971\n"
       ]
      },
      {
       "output_type": "stream",
       "stream": "stdout",
       "text": [
        "\n",
        "ground truth exit = 2015-12-03 17:43:56, geofence_exit_ts = +50.512000, first location point = +57.000000\n",
        "Considering phone  android2\n",
        "No data to plot for dataframe  android2\n",
        "Fake data length = 23, fill_val = 37.3913996837\n",
        "length of lat_means = 3\n",
        "Considering phone  iphone0\n",
        "len(transition_df) = 0, ground_truth_start_ts = 1449193436, geofence was not exited!!"
       ]
      },
      {
       "output_type": "stream",
       "stream": "stdout",
       "text": [
        "\n",
        "Considering phone  iphone1\n",
        "No data to plot for dataframe  iphone1\n",
        "Fake data length = 23, fill_val = 37.3916361971\n",
        "Considering phone  iphone2\n",
        "No data to plot for dataframe  iphone2\n",
        "Fake data length = 23, fill_val = 37.3916361971\n",
        "Generating trip for "
       ]
      },
      {
       "output_type": "stream",
       "stream": "stderr",
       "text": [
        "DEBUG:root:curr_query = {'$or': [{'metadata.key': 'background/location'}], 'metadata.write_ts': {'$gte': 1449202323, '$lt': 1449203103}, 'user_id': UUID('079e0f1a-c440-3d7c-b0e7-de160f748e35')}, sort_key = metadata.write_ts\n"
       ]
      },
      {
       "output_type": "stream",
       "stream": "stderr",
       "text": [
        "DEBUG:root:Found 307 results\n"
       ]
      },
      {
       "output_type": "stream",
       "stream": "stderr",
       "text": [
        "DEBUG:root:curr_query = {'$or': [{'metadata.key': 'background/location'}], 'metadata.write_ts': {'$gte': 1449202323, '$lt': 1449203103}, 'user_id': UUID('c76a0487-7e5a-3b17-a449-47be666b36f6')}, sort_key = metadata.write_ts\n"
       ]
      },
      {
       "output_type": "stream",
       "stream": "stderr",
       "text": [
        "DEBUG:root:Found 286 results\n"
       ]
      },
      {
       "output_type": "stream",
       "stream": "stderr",
       "text": [
        "DEBUG:root:curr_query = {'$or': [{'metadata.key': 'background/location'}], 'metadata.write_ts': {'$gte': 1449202323, '$lt': 1449203103}, 'user_id': UUID('c528bcd2-a88b-3e82-be62-ef4f2396967a')}, sort_key = metadata.write_ts\n"
       ]
      },
      {
       "output_type": "stream",
       "stream": "stderr",
       "text": [
        "DEBUG:root:Found 202 results\n"
       ]
      },
      {
       "output_type": "stream",
       "stream": "stderr",
       "text": [
        "DEBUG:root:curr_query = {'$or': [{'metadata.key': 'background/location'}], 'metadata.write_ts': {'$gte': 1449202323, '$lt': 1449203103}, 'user_id': UUID('e471711e-bd14-3dbe-80b6-9c7d92ecc296')}, sort_key = metadata.write_ts\n"
       ]
      },
      {
       "output_type": "stream",
       "stream": "stderr",
       "text": [
        "DEBUG:root:Found 0 results\n"
       ]
      },
      {
       "output_type": "stream",
       "stream": "stderr",
       "text": [
        "DEBUG:root:curr_query = {'$or': [{'metadata.key': 'background/location'}], 'metadata.write_ts': {'$gte': 1449202323, '$lt': 1449203103}, 'user_id': UUID('fd7b4c2e-2c8b-3bfa-94f0-d1e3ecbd5fb7')}, sort_key = metadata.write_ts\n"
       ]
      },
      {
       "output_type": "stream",
       "stream": "stderr",
       "text": [
        "DEBUG:root:Found 0 results\n"
       ]
      },
      {
       "output_type": "stream",
       "stream": "stderr",
       "text": [
        "DEBUG:root:curr_query = {'$or': [{'metadata.key': 'background/location'}], 'metadata.write_ts': {'$gte': 1449202323, '$lt': 1449203103}, 'user_id': UUID('86842c35-da28-32ed-a90e-2da6663c5c73')}, sort_key = metadata.write_ts\n"
       ]
      },
      {
       "output_type": "stream",
       "stream": "stderr",
       "text": [
        "DEBUG:root:Found 0 results\n"
       ]
      },
      {
       "output_type": "stream",
       "stream": "stderr",
       "text": [
        "DEBUG:root:curr_query = {'$or': [{'metadata.key': 'statemachine/transition'}], 'metadata.write_ts': {'$gte': 1449202323, '$lt': 1449203103}, 'user_id': UUID('079e0f1a-c440-3d7c-b0e7-de160f748e35')}, sort_key = metadata.write_ts\n"
       ]
      },
      {
       "output_type": "stream",
       "stream": "stderr",
       "text": [
        "DEBUG:root:Found 0 results\n"
       ]
      },
      {
       "output_type": "stream",
       "stream": "stderr",
       "text": [
        "DEBUG:root:curr_query = {'$or': [{'metadata.key': 'statemachine/transition'}], 'metadata.write_ts': {'$gte': 1449202323, '$lt': 1449203103}, 'user_id': UUID('c76a0487-7e5a-3b17-a449-47be666b36f6')}, sort_key = metadata.write_ts\n"
       ]
      },
      {
       "output_type": "stream",
       "stream": "stderr",
       "text": [
        "DEBUG:root:Found 8 results\n"
       ]
      },
      {
       "output_type": "stream",
       "stream": "stderr",
       "text": [
        "DEBUG:root:curr_query = {'$or': [{'metadata.key': 'statemachine/transition'}], 'metadata.write_ts': {'$gte': 1449202323, '$lt': 1449203103}, 'user_id': UUID('c528bcd2-a88b-3e82-be62-ef4f2396967a')}, sort_key = metadata.write_ts\n"
       ]
      },
      {
       "output_type": "stream",
       "stream": "stderr",
       "text": [
        "DEBUG:root:Found 4 results\n"
       ]
      },
      {
       "output_type": "stream",
       "stream": "stderr",
       "text": [
        "DEBUG:root:curr_query = {'$or': [{'metadata.key': 'statemachine/transition'}], 'metadata.write_ts': {'$gte': 1449202323, '$lt': 1449203103}, 'user_id': UUID('e471711e-bd14-3dbe-80b6-9c7d92ecc296')}, sort_key = metadata.write_ts\n"
       ]
      },
      {
       "output_type": "stream",
       "stream": "stderr",
       "text": [
        "DEBUG:root:Found 0 results\n"
       ]
      },
      {
       "output_type": "stream",
       "stream": "stderr",
       "text": [
        "DEBUG:root:curr_query = {'$or': [{'metadata.key': 'statemachine/transition'}], 'metadata.write_ts': {'$gte': 1449202323, '$lt': 1449203103}, 'user_id': UUID('fd7b4c2e-2c8b-3bfa-94f0-d1e3ecbd5fb7')}, sort_key = metadata.write_ts\n"
       ]
      },
      {
       "output_type": "stream",
       "stream": "stderr",
       "text": [
        "DEBUG:root:Found 0 results\n"
       ]
      },
      {
       "output_type": "stream",
       "stream": "stderr",
       "text": [
        "DEBUG:root:curr_query = {'$or': [{'metadata.key': 'statemachine/transition'}], 'metadata.write_ts': {'$gte': 1449202323, '$lt': 1449203103}, 'user_id': UUID('86842c35-da28-32ed-a90e-2da6663c5c73')}, sort_key = metadata.write_ts\n"
       ]
      },
      {
       "output_type": "stream",
       "stream": "stderr",
       "text": [
        "DEBUG:root:Found 0 results\n"
       ]
      },
      {
       "output_type": "stream",
       "stream": "stdout",
       "text": [
        "\n",
        "length of lat_means = 3"
       ]
      },
      {
       "output_type": "stream",
       "stream": "stderr",
       "text": [
        "DEBUG:root:Caluldated fill_val = nan\n"
       ]
      },
      {
       "output_type": "stream",
       "stream": "stdout",
       "text": [
        "\n",
        "Considering phone  android0\n",
        "No data to plot for dataframe  android0\n",
        "Fake data length = 26, fill_val = nan\n",
        "Considering phone  android1"
       ]
      },
      {
       "output_type": "stream",
       "stream": "stderr",
       "text": [
        "DEBUG:root:Caluldated fill_val = 37.3915707213\n"
       ]
      },
      {
       "output_type": "stream",
       "stream": "stdout",
       "text": [
        "\n",
        "No data to plot for dataframe  android1\n",
        "Fake data length = 26, fill_val = nan\n",
        "Considering phone  android2\n",
        "No data to plot for dataframe  android2\n",
        "Fake data length = 26, fill_val = nan\n",
        "length of lat_means = 3\n",
        "Considering phone  iphone0\n",
        "len(transition_df) = 0, ground_truth_start_ts = 1449202323, geofence was not exited!!"
       ]
      },
      {
       "output_type": "stream",
       "stream": "stdout",
       "text": [
        "\n",
        "Considering phone  iphone1\n",
        "ground truth exit = 2015-12-03 20:12:03, geofence_exit_ts = +102.576358, first location point = +102.632736\n",
        "Considering phone  iphone2\n",
        "ground truth exit = 2015-12-03 20:12:03, geofence_exit_ts = +187.432404, first location point = +187.491016"
       ]
      },
      {
       "output_type": "stream",
       "stream": "stdout",
       "text": [
        "\n"
       ]
      },
      {
       "output_type": "stream",
       "stream": "stderr",
       "text": [
        "/Users/shankari/OSS/anaconda/lib/python2.7/site-packages/matplotlib/collections.py:548: FutureWarning: elementwise comparison failed; returning scalar instead, but in the future will perform elementwise comparison\n",
        "  if self._edgecolors == 'face':\n"
       ]
      },
      {
       "metadata": {},
       "output_type": "display_data",
       "png": "[encoded data removed]",
       "text": [
        "<matplotlib.figure.Figure at 0x10a50b290>"
       ]
      },
      {
       "metadata": {},
       "output_type": "display_data",
       "png": "[encoded data removed]",
       "text": [
        "<matplotlib.figure.Figure at 0x10ab6da10>"
       ]
      },
      {
       "metadata": {},
       "output_type": "display_data",
       "png": "[encoded data removed]",
       "text": [
        "<matplotlib.figure.Figure at 0x10aa76910>"
       ]
      },
      {
       "metadata": {},
       "output_type": "display_data",
       "png": "[encoded data removed]",
       "text": [
        "<matplotlib.figure.Figure at 0x10abb16d0>"
       ]
      },
      {
       "metadata": {},
       "output_type": "display_data",
       "png": "[encoded data removed]",
       "text": [
        "<matplotlib.figure.Figure at 0x10a82a2d0>"
       ]
      }
     ],
     "prompt_number": 11
    },
    {
     "cell_type": "code",
     "collapsed": false,
     "input": [
      "def evaluate_ios_only(iphone_ts_list, android_ts_list, label):\n",
      "    import emission.net.usercache.abstract_usercache as enua\n",
      "    print \"Generating trip for %s\" % label\n",
      "    start_0 = moving_df.iloc[0].start_ts\n",
      "    end_0 = moving_df.iloc[0].end_ts\n",
      "    start_1 = moving_df.iloc[1].start_ts\n",
      "    end_1 = moving_df.iloc[1].end_ts\n",
      "\n",
      "    iphone_0_df_list = [ts.get_data_df(\"background/location\", enua.UserCache.TimeQuery(\"write_ts\", start_0, end_0)) for ts in iphone_ts_list]\n",
      "    iphone_1_df_list = [ts.get_data_df(\"background/location\", enua.UserCache.TimeQuery(\"write_ts\", start_1, end_1)) for ts in iphone_ts_list]\n",
      "    iphone_0_transition_df_list = [ts.get_data_df(\"statemachine/transition\", enua.UserCache.TimeQuery(\"write_ts\", start_0, end_0)) for ts in iphone_ts_list]\n",
      "    iphone_1_transition_df_list = [ts.get_data_df(\"statemachine/transition\", enua.UserCache.TimeQuery(\"write_ts\", start_1, end_1)) for ts in iphone_ts_list]\n",
      "    aa.insert_transition_strings(iphone_0_transition_df_list)\n",
      "    aa.insert_transition_strings(iphone_1_transition_df_list)\n",
      "    fig, axes = plt.subplots(nrows=1, ncols=3, figsize=(15,2), sharex=True, sharey=True)\n",
      "    fig.suptitle(\"%s -> %s\" % (pydt.datetime.fromtimestamp(start_0),\n",
      "                               pydt.datetime.fromtimestamp(end_0)), y=1.1)\n",
      "    aa.plot_for_transitions(label + \" to school \", iphone_0_df_list, iphone_0_transition_df_list, axes, start_0, end_0)\n",
      "    fig, axes = plt.subplots(nrows=1, ncols=3, figsize=(15,2), sharex=True, sharey=True)\n",
      "    fig.suptitle(\"%s -> %s\" % (pydt.datetime.fromtimestamp(start_1),\n",
      "                               pydt.datetime.fromtimestamp(end_1)), y=1.1)\n",
      "    aa.plot_for_transitions(label + \" round the block \", iphone_1_df_list, iphone_1_transition_df_list, axes, start_1, end_1)      \n",
      "    # return fig"
     ],
     "language": "python",
     "metadata": {},
     "outputs": [],
     "prompt_number": 16
    },
    {
     "cell_type": "code",
     "collapsed": false,
     "input": [
      "evaluate_ios_only(iphone_ts_list, android_ts_list, \"iphone\")"
     ],
     "language": "python",
     "metadata": {},
     "outputs": [
      {
       "output_type": "stream",
       "stream": "stderr",
       "text": [
        "DEBUG:root:curr_query = {'$or': [{'metadata.key': 'background/location'}], 'metadata.write_ts': {'$gte': 1449174317, '$lt': 1449176691}, 'user_id': UUID('079e0f1a-c440-3d7c-b0e7-de160f748e35')}, sort_key = metadata.write_ts\n"
       ]
      },
      {
       "output_type": "stream",
       "stream": "stderr",
       "text": [
        "DEBUG:root:Found 577 results\n"
       ]
      },
      {
       "output_type": "stream",
       "stream": "stderr",
       "text": [
        "DEBUG:root:curr_query = {'$or': [{'metadata.key': 'background/location'}], 'metadata.write_ts': {'$gte': 1449174317, '$lt': 1449176691}, 'user_id': UUID('c76a0487-7e5a-3b17-a449-47be666b36f6')}, sort_key = metadata.write_ts\n"
       ]
      },
      {
       "output_type": "stream",
       "stream": "stderr",
       "text": [
        "DEBUG:root:Found 463 results\n"
       ]
      },
      {
       "output_type": "stream",
       "stream": "stderr",
       "text": [
        "DEBUG:root:curr_query = {'$or': [{'metadata.key': 'background/location'}], 'metadata.write_ts': {'$gte': 1449174317, '$lt': 1449176691}, 'user_id': UUID('c528bcd2-a88b-3e82-be62-ef4f2396967a')}, sort_key = metadata.write_ts\n"
       ]
      },
      {
       "output_type": "stream",
       "stream": "stderr",
       "text": [
        "DEBUG:root:Found 285 results\n"
       ]
      },
      {
       "output_type": "stream",
       "stream": "stderr",
       "text": [
        "DEBUG:root:curr_query = {'$or': [{'metadata.key': 'background/location'}], 'metadata.write_ts': {'$gte': 1449186063, '$lt': 1449186355}, 'user_id': UUID('079e0f1a-c440-3d7c-b0e7-de160f748e35')}, sort_key = metadata.write_ts\n"
       ]
      },
      {
       "output_type": "stream",
       "stream": "stderr",
       "text": [
        "DEBUG:root:Found 150 results\n"
       ]
      },
      {
       "output_type": "stream",
       "stream": "stderr",
       "text": [
        "DEBUG:root:curr_query = {'$or': [{'metadata.key': 'background/location'}], 'metadata.write_ts': {'$gte': 1449186063, '$lt': 1449186355}, 'user_id': UUID('c76a0487-7e5a-3b17-a449-47be666b36f6')}, sort_key = metadata.write_ts\n"
       ]
      },
      {
       "output_type": "stream",
       "stream": "stderr",
       "text": [
        "DEBUG:root:Found 0 results\n"
       ]
      },
      {
       "output_type": "stream",
       "stream": "stderr",
       "text": [
        "DEBUG:root:curr_query = {'$or': [{'metadata.key': 'background/location'}], 'metadata.write_ts': {'$gte': 1449186063, '$lt': 1449186355}, 'user_id': UUID('c528bcd2-a88b-3e82-be62-ef4f2396967a')}, sort_key = metadata.write_ts\n"
       ]
      },
      {
       "output_type": "stream",
       "stream": "stderr",
       "text": [
        "DEBUG:root:Found 50 results\n"
       ]
      },
      {
       "output_type": "stream",
       "stream": "stderr",
       "text": [
        "DEBUG:root:curr_query = {'$or': [{'metadata.key': 'statemachine/transition'}], 'metadata.write_ts': {'$gte': 1449174317, '$lt': 1449176691}, 'user_id': UUID('079e0f1a-c440-3d7c-b0e7-de160f748e35')}, sort_key = metadata.write_ts\n"
       ]
      },
      {
       "output_type": "stream",
       "stream": "stderr",
       "text": [
        "DEBUG:root:Found 0 results\n"
       ]
      },
      {
       "output_type": "stream",
       "stream": "stderr",
       "text": [
        "DEBUG:root:curr_query = {'$or': [{'metadata.key': 'statemachine/transition'}], 'metadata.write_ts': {'$gte': 1449174317, '$lt': 1449176691}, 'user_id': UUID('c76a0487-7e5a-3b17-a449-47be666b36f6')}, sort_key = metadata.write_ts\n"
       ]
      },
      {
       "output_type": "stream",
       "stream": "stderr",
       "text": [
        "DEBUG:root:Found 6 results\n"
       ]
      },
      {
       "output_type": "stream",
       "stream": "stderr",
       "text": [
        "DEBUG:root:curr_query = {'$or': [{'metadata.key': 'statemachine/transition'}], 'metadata.write_ts': {'$gte': 1449174317, '$lt': 1449176691}, 'user_id': UUID('c528bcd2-a88b-3e82-be62-ef4f2396967a')}, sort_key = metadata.write_ts\n"
       ]
      },
      {
       "output_type": "stream",
       "stream": "stderr",
       "text": [
        "DEBUG:root:Found 6 results\n"
       ]
      },
      {
       "output_type": "stream",
       "stream": "stderr",
       "text": [
        "DEBUG:root:curr_query = {'$or': [{'metadata.key': 'statemachine/transition'}], 'metadata.write_ts': {'$gte': 1449186063, '$lt': 1449186355}, 'user_id': UUID('079e0f1a-c440-3d7c-b0e7-de160f748e35')}, sort_key = metadata.write_ts\n"
       ]
      },
      {
       "output_type": "stream",
       "stream": "stderr",
       "text": [
        "DEBUG:root:Found 0 results\n"
       ]
      },
      {
       "output_type": "stream",
       "stream": "stderr",
       "text": [
        "DEBUG:root:curr_query = {'$or': [{'metadata.key': 'statemachine/transition'}], 'metadata.write_ts': {'$gte': 1449186063, '$lt': 1449186355}, 'user_id': UUID('c76a0487-7e5a-3b17-a449-47be666b36f6')}, sort_key = metadata.write_ts\n"
       ]
      },
      {
       "output_type": "stream",
       "stream": "stderr",
       "text": [
        "DEBUG:root:Found 0 results\n"
       ]
      },
      {
       "output_type": "stream",
       "stream": "stderr",
       "text": [
        "DEBUG:root:curr_query = {'$or': [{'metadata.key': 'statemachine/transition'}], 'metadata.write_ts': {'$gte': 1449186063, '$lt': 1449186355}, 'user_id': UUID('c528bcd2-a88b-3e82-be62-ef4f2396967a')}, sort_key = metadata.write_ts\n"
       ]
      },
      {
       "output_type": "stream",
       "stream": "stderr",
       "text": [
        "DEBUG:root:Found 4 results\n"
       ]
      },
      {
       "output_type": "stream",
       "stream": "stdout",
       "text": [
        "Generating trip for iphone\n",
        "length of lat_means = 3"
       ]
      },
      {
       "output_type": "stream",
       "stream": "stderr",
       "text": [
        "DEBUG:root:Caluldated fill_val = 37.3974708663\n"
       ]
      },
      {
       "output_type": "stream",
       "stream": "stdout",
       "text": [
        "\n",
        "Considering phone iphone to school 0\n",
        "len(transition_df) = 0, ground_truth_start_ts = 1449174317, geofence was not exited!!"
       ]
      },
      {
       "output_type": "stream",
       "stream": "stdout",
       "text": [
        "\n",
        "Considering phone iphone to school 1\n",
        "ground truth exit = 2015-12-03 12:25:17, geofence_exit_ts = +292.682628, first location point = +292.736145\n",
        "Considering phone iphone to school 2\n",
        "ground truth exit = 2015-12-03 12:25:17, geofence_exit_ts = +176.203431, first location point = +998.232714"
       ]
      },
      {
       "output_type": "stream",
       "stream": "stdout",
       "text": [
        "\n",
        "length of lat_means = 3"
       ]
      },
      {
       "output_type": "stream",
       "stream": "stderr",
       "text": [
        "DEBUG:root:Caluldated fill_val = 37.3921918054\n"
       ]
      },
      {
       "output_type": "stream",
       "stream": "stdout",
       "text": [
        "\n",
        "Considering phone iphone round the block 0\n",
        "len(transition_df) = 0, ground_truth_start_ts = 1449186063, geofence was not exited!!\n",
        "Considering phone iphone round the block 1\n",
        "No data to plot for dataframe iphone round the block 1\n",
        "Fake data length = 10, fill_val = 37.3921918054\n",
        "Considering phone iphone round the block 2"
       ]
      },
      {
       "output_type": "stream",
       "stream": "stdout",
       "text": [
        "\n",
        "ground truth exit = 2015-12-03 15:41:03, geofence_exit_ts = +200.179519, first location point = +200.232513\n"
       ]
      },
      {
       "metadata": {},
       "output_type": "display_data",
       "png": "[encoded data removed]",
       "text": [
        "<matplotlib.figure.Figure at 0x107118850>"
       ]
      },
      {
       "metadata": {},
       "output_type": "display_data",
       "png": "[encoded data removed]",
       "text": [
        "<matplotlib.figure.Figure at 0x10d8cd710>"
       ]
      }
     ],
     "prompt_number": 17
    },
    {
     "cell_type": "code",
     "collapsed": false,
     "input": [],
     "language": "python",
     "metadata": {},
     "outputs": [],
     "prompt_number": 13
    }
   ],
   "metadata": {}
  }
 ]
}