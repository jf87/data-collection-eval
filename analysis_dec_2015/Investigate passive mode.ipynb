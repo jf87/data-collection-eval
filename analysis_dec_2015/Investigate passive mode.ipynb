{
 "metadata": {
  "name": "",
  "signature": "sha256:db491380f73ad5fec30cc1bf5265bfb72f0a6a9530f9e71a9f3184a2873bb632"
 },
 "nbformat": 3,
 "nbformat_minor": 0,
 "worksheets": [
  {
   "cells": [
    {
     "cell_type": "code",
     "collapsed": false,
     "input": [
      "import sys"
     ],
     "language": "python",
     "metadata": {},
     "outputs": [],
     "prompt_number": 1
    },
    {
     "cell_type": "code",
     "collapsed": false,
     "input": [
      "sys.path.insert(0, \"/Users/shankari/e-mission/e-mission-server/\")"
     ],
     "language": "python",
     "metadata": {},
     "outputs": [],
     "prompt_number": 2
    },
    {
     "cell_type": "code",
     "collapsed": false,
     "input": [
      "sys.path"
     ],
     "language": "python",
     "metadata": {},
     "outputs": [
      {
       "metadata": {},
       "output_type": "pyout",
       "prompt_number": 3,
       "text": [
        "['/Users/shankari/e-mission/e-mission-server/',\n",
        " '',\n",
        " '/Users/shankari/OSS/anaconda/lib/python2.7/site-packages/pygmaps-0.1.1-py2.7.egg',\n",
        " '/Users/shankari/bin/python',\n",
        " '/Users/shankari/e-mission/data-collection-eval/analysis_dec_2015',\n",
        " '/Users/shankari/OSS/anaconda/python.app/Contents/lib/python27.zip',\n",
        " '/Users/shankari/OSS/anaconda/python.app/Contents/lib/python2.7',\n",
        " '/Users/shankari/OSS/anaconda/python.app/Contents/lib/python2.7/plat-darwin',\n",
        " '/Users/shankari/OSS/anaconda/python.app/Contents/lib/python2.7/plat-mac',\n",
        " '/Users/shankari/OSS/anaconda/python.app/Contents/lib/python2.7/plat-mac/lib-scriptpackages',\n",
        " '/Users/shankari/OSS/anaconda/python.app/Contents/lib/python2.7/lib-tk',\n",
        " '/Users/shankari/OSS/anaconda/python.app/Contents/lib/python2.7/lib-old',\n",
        " '/Users/shankari/OSS/anaconda/python.app/Contents/lib/python2.7/lib-dynload',\n",
        " '/Users/shankari/OSS/anaconda/lib/python2.7/site-packages',\n",
        " '/Users/shankari/OSS/anaconda/lib/python2.7/site-packages/PIL',\n",
        " '/Users/shankari/OSS/anaconda/lib/python2.7/site-packages/runipy-0.1.0-py2.7.egg',\n",
        " '/Users/shankari/OSS/anaconda/lib/python2.7/site-packages/setuptools-18.4-py2.7.egg',\n",
        " '/Users/shankari/OSS/anaconda/lib/python2.7/site-packages/IPython/extensions']"
       ]
      }
     ],
     "prompt_number": 3
    },
    {
     "cell_type": "code",
     "collapsed": false,
     "input": [
      "import logging\n",
      "logging.getLogger().setLevel(logging.DEBUG)"
     ],
     "language": "python",
     "metadata": {},
     "outputs": [],
     "prompt_number": 4
    },
    {
     "cell_type": "code",
     "collapsed": false,
     "input": [
      "from uuid import UUID"
     ],
     "language": "python",
     "metadata": {},
     "outputs": [],
     "prompt_number": 5
    },
    {
     "cell_type": "code",
     "collapsed": false,
     "input": [
      "iphone_ids = [UUID(\"079e0f1a-c440-3d7c-b0e7-de160f748e35\"), UUID(\"c76a0487-7e5a-3b17-a449-47be666b36f6\"), UUID(\"c528bcd2-a88b-3e82-be62-ef4f2396967a\")]\n",
      "android_ids = [UUID(\"e471711e-bd14-3dbe-80b6-9c7d92ecc296\"), UUID(\"fd7b4c2e-2c8b-3bfa-94f0-d1e3ecbd5fb7\"), UUID(\"86842c35-da28-32ed-a90e-2da6663c5c73\")]"
     ],
     "language": "python",
     "metadata": {},
     "outputs": [],
     "prompt_number": 6
    },
    {
     "cell_type": "code",
     "collapsed": false,
     "input": [
      "import emission.core.get_database as edb"
     ],
     "language": "python",
     "metadata": {},
     "outputs": [],
     "prompt_number": 7
    },
    {
     "cell_type": "code",
     "collapsed": false,
     "input": [
      "edb.get_timeseries_db().find({'user_id': iphone_ids[0]}).count()"
     ],
     "language": "python",
     "metadata": {},
     "outputs": [
      {
       "metadata": {},
       "output_type": "pyout",
       "prompt_number": 8,
       "text": [
        "10052"
       ]
      }
     ],
     "prompt_number": 8
    },
    {
     "cell_type": "code",
     "collapsed": false,
     "input": [
      "edb.get_timeseries_db().find({'user_id': iphone_ids[0], 'metadata.key': 'background/location'}).count()"
     ],
     "language": "python",
     "metadata": {},
     "outputs": [
      {
       "metadata": {},
       "output_type": "pyout",
       "prompt_number": 9,
       "text": [
        "853"
       ]
      }
     ],
     "prompt_number": 9
    },
    {
     "cell_type": "code",
     "collapsed": false,
     "input": [
      "import pandas as pd\n",
      "import emission.storage.timeseries.abstract_timeseries as esta\n",
      "import emission.net.usercache.abstract_usercache as enua"
     ],
     "language": "python",
     "metadata": {},
     "outputs": [],
     "prompt_number": 10
    },
    {
     "cell_type": "code",
     "collapsed": false,
     "input": [
      "iphone_ts_list = [esta.TimeSeries.get_time_series(id) for id in iphone_ids]"
     ],
     "language": "python",
     "metadata": {},
     "outputs": [],
     "prompt_number": 11
    },
    {
     "cell_type": "code",
     "collapsed": false,
     "input": [
      "android_ts_list = [esta.TimeSeries.get_time_series(id) for id in android_ids]"
     ],
     "language": "python",
     "metadata": {},
     "outputs": [],
     "prompt_number": 12
    },
    {
     "cell_type": "code",
     "collapsed": false,
     "input": [
      "%matplotlib inline"
     ],
     "language": "python",
     "metadata": {},
     "outputs": [],
     "prompt_number": 13
    },
    {
     "cell_type": "code",
     "collapsed": false,
     "input": [
      "import datetime as pydt"
     ],
     "language": "python",
     "metadata": {},
     "outputs": [],
     "prompt_number": 14
    },
    {
     "cell_type": "heading",
     "level": 1,
     "metadata": {},
     "source": [
      "Common functions"
     ]
    },
    {
     "cell_type": "code",
     "collapsed": false,
     "input": [
      "import matplotlib.pyplot as plt\n",
      "import numpy as np"
     ],
     "language": "python",
     "metadata": {},
     "outputs": [],
     "prompt_number": 15
    },
    {
     "cell_type": "code",
     "collapsed": false,
     "input": [
      "def generate_fake_dataframe(start, end, fill_val):\n",
      "    x_axis = np.arange(start,end,30)\n",
      "    y_axis = np.array(len(x_axis))\n",
      "    y_axis.fill(fill_val)\n",
      "    print \"Fake data length = %d, fill_val = %d\" % (len(x_axis), fill_val)\n",
      "    # axes_array[i].set_xlim(start,end)\n",
      "    return pd.DataFrame({\"ts\": x_axis, \"latitude\": y_axis})"
     ],
     "language": "python",
     "metadata": {},
     "outputs": [],
     "prompt_number": 16
    },
    {
     "cell_type": "code",
     "collapsed": false,
     "input": [
      "def plot_for_transition(label, location_dfs, transition_dfs, axes_array, diff_axes_array, ground_truth_exit_ts, ground_truth_end_ts):\n",
      "    # Find the mean latitudes so that we can create a dummy dataframe when there is no data\n",
      "    lat_means = pd.Series(np.empty(len(location_dfs)))\n",
      "    print \"length of lat_means = %d\" % len(lat_means)\n",
      "    for i, df in enumerate(location_dfs):\n",
      "        if len(df) > 0:\n",
      "            lat_means[i] = df.latitude.mean()\n",
      "        \n",
      "    for i, df in enumerate(location_dfs):\n",
      "        print \"Considering phone %d\" % i\n",
      "        axes_array[i].axvline(x=ground_truth_exit_ts, linewidth=1, color=\"purple\")\n",
      "        axes_array[i].axvline(x=ground_truth_end_ts, linewidth=1, color=\"purple\")\n",
      "        axes_array[i].set_title(label + str(i))\n",
      "\n",
      "        transition_df = transition_dfs[i]\n",
      "        if len(df) == 0:\n",
      "            print \"No data to plot for dataframe %d\" % i\n",
      "            generate_fake_dataframe(ground_truth_exit_ts, ground_truth_end_ts, lat_means.mean()).plot(x=\"ts\", y=\"latitude\", kind=\"scatter\", ax=axes_array[i])\n",
      "            axes_array[i].annotate(\"No data for dataframe\", xy=(0.3, 0.5), xycoords='axes fraction', fontsize=12, color=\"red\")\n",
      "        else:\n",
      "            df[(df.ts > ground_truth_exit_ts) & (df.ts < ground_truth_end_ts)].plot(x=\"ts\", y=\"latitude\", kind=\"scatter\", ax=axes_array[i])\n",
      "            axes_array[i].axvline(x=ground_truth_exit_ts, linewidth=1, color=\"purple\")\n",
      "            diff_df = df[(df.ts > ground_truth_exit_ts) & (df.ts < ground_truth_end_ts)].ts.diff()\n",
      "            print diff_df[diff_df > 30].head()\n",
      "            diff_df.plot(ax=diff_axes_array[i])\n",
      "\n",
      "        if len(transition_df) == 0 or np.count_nonzero(transition_df.transition == 1) == 0:\n",
      "            print(\"len(transition_df) = %d, ground_truth_exit_ts = %d, geofence was not exited!!\" % \n",
      "                  (len(transition_df), ground_truth_exit_ts))\n",
      "            axes_array[i].annotate(\"Geofence was not exited!\", xy=(0.3, 0.2), xycoords='axes fraction', fontsize=12, color=\"blue\")            \n",
      "        else:\n",
      "            trip_geofence_exit_entry = transition_df[transition_df.transition == 1].iloc[0]\n",
      "            trip_geofence_exit_ts = trip_geofence_exit_entry[\"ts\"]\n",
      "            axes_array[i].axvline(x=trip_geofence_exit_ts, linewidth=1, color=\"green\")\n",
      "            if len(df) > 0:\n",
      "                after_geofence_exit_points = df[(df.ts >= trip_geofence_exit_ts) & (df.ts <= ground_truth_end_ts)]\n",
      "                if len(after_geofence_exit_points) > 0:\n",
      "                    first_location_entry = after_geofence_exit_points.iloc[0]\n",
      "                    print(\"ground truth exit = %s, geofence_exit_ts = +%5f, first location point = +%5f\" %\n",
      "                          (pydt.datetime.fromtimestamp(ground_truth_exit_ts),\n",
      "                         (trip_geofence_exit_ts - ground_truth_exit_ts),\n",
      "                         (first_location_entry.ts - ground_truth_exit_ts)))"
     ],
     "language": "python",
     "metadata": {},
     "outputs": [],
     "prompt_number": 17
    },
    {
     "cell_type": "code",
     "collapsed": false,
     "input": [
      "def evaluate_trip_accuracy(label, start, end):\n",
      "    print \"Generating trip for %s\" % label\n",
      "    iphone_df_list = [ts.get_data_df(\"background/location\", enua.UserCache.TimeQuery(\"write_ts\", start, end)) for ts in iphone_ts_list]\n",
      "    android_df_list = [ts.get_data_df(\"background/location\", enua.UserCache.TimeQuery(\"write_ts\", start, end)) for ts in android_ts_list]\n",
      "    iphone_transition_df_list = [ts.get_data_df(\"statemachine/transition\", enua.UserCache.TimeQuery(\"write_ts\", start, end)) for ts in iphone_ts_list]\n",
      "    android_transition_df_list = [ts.get_data_df(\"statemachine/transition\", enua.UserCache.TimeQuery(\"write_ts\", start, end)) for ts in android_ts_list]\n",
      "    insert_transition_strings(iphone_transition_df_list)\n",
      "    insert_transition_strings(android_transition_df_list)\n",
      "    fig, axes = plt.subplots(nrows=2, ncols=3, figsize=(15,5), sharex=True, sharey=True)\n",
      "    diff_fig, diff_axes = plt.subplots(nrows=2, ncols=3, figsize=(15,5))\n",
      "    plot_for_transition(label + \" iphone\", iphone_df_list, iphone_transition_df_list, axes[0], diff_axes[0], start, end)\n",
      "    plot_for_transition(label + \" android\", android_df_list, android_transition_df_list, axes[1], diff_axes[1], start, end)\n",
      "    return fig, diff_fig"
     ],
     "language": "python",
     "metadata": {},
     "outputs": [],
     "prompt_number": 18
    },
    {
     "cell_type": "code",
     "collapsed": false,
     "input": [
      "import emission.core.wrapper.transition as ecwt"
     ],
     "language": "python",
     "metadata": {},
     "outputs": [],
     "prompt_number": 19
    },
    {
     "cell_type": "code",
     "collapsed": false,
     "input": [
      "def insert_transition_strings(df_list):\n",
      "    for df in df_list:\n",
      "        if len(df) > 0:\n",
      "            df[\"transition_str\"] = df.transition.map(lambda(tval): ecwt.TransitionType(tval))"
     ],
     "language": "python",
     "metadata": {},
     "outputs": [],
     "prompt_number": 20
    },
    {
     "cell_type": "heading",
     "level": 1,
     "metadata": {},
     "source": [
      "Determine transitions"
     ]
    },
    {
     "cell_type": "code",
     "collapsed": false,
     "input": [
      "thirtieth_8pm = 1448944410.145\n",
      "thirtieth_midnight = 1448956799.145"
     ],
     "language": "python",
     "metadata": {},
     "outputs": [],
     "prompt_number": 21
    },
    {
     "cell_type": "code",
     "collapsed": false,
     "input": [
      "all_iphone_transition_df = [ts.get_data_df(\"statemachine/transition\", enua.UserCache.TimeQuery(\"write_ts\", 1448944410.145, 1448956799.145)) for ts in iphone_ts_list]"
     ],
     "language": "python",
     "metadata": {},
     "outputs": [
      {
       "output_type": "stream",
       "stream": "stderr",
       "text": [
        "DEBUG:root:curr_query = {'$or': [{'metadata.key': 'statemachine/transition'}], 'metadata.write_ts': {'$gte': 1448944410.145, '$lt': 1448956799.145}, 'user_id': UUID('079e0f1a-c440-3d7c-b0e7-de160f748e35')}, sort_key = metadata.write_ts\n"
       ]
      },
      {
       "output_type": "stream",
       "stream": "stderr",
       "text": [
        "DEBUG:root:Found 0 results\n"
       ]
      },
      {
       "output_type": "stream",
       "stream": "stderr",
       "text": [
        "DEBUG:root:curr_query = {'$or': [{'metadata.key': 'statemachine/transition'}], 'metadata.write_ts': {'$gte': 1448944410.145, '$lt': 1448956799.145}, 'user_id': UUID('c76a0487-7e5a-3b17-a449-47be666b36f6')}, sort_key = metadata.write_ts\n"
       ]
      },
      {
       "output_type": "stream",
       "stream": "stderr",
       "text": [
        "DEBUG:root:Found 38 results\n"
       ]
      },
      {
       "output_type": "stream",
       "stream": "stderr",
       "text": [
        "DEBUG:root:curr_query = {'$or': [{'metadata.key': 'statemachine/transition'}], 'metadata.write_ts': {'$gte': 1448944410.145, '$lt': 1448956799.145}, 'user_id': UUID('c528bcd2-a88b-3e82-be62-ef4f2396967a')}, sort_key = metadata.write_ts\n"
       ]
      },
      {
       "output_type": "stream",
       "stream": "stderr",
       "text": [
        "DEBUG:root:Found 37 results\n"
       ]
      }
     ],
     "prompt_number": 22
    },
    {
     "cell_type": "code",
     "collapsed": false,
     "input": [
      "all_android_transition_df = [ts.get_data_df(\"statemachine/transition\", enua.UserCache.TimeQuery(\"write_ts\", 1448944410.145, 1448956799.145)) for ts in android_ts_list]"
     ],
     "language": "python",
     "metadata": {},
     "outputs": [
      {
       "output_type": "stream",
       "stream": "stderr",
       "text": [
        "DEBUG:root:curr_query = {'$or': [{'metadata.key': 'statemachine/transition'}], 'metadata.write_ts': {'$gte': 1448944410.145, '$lt': 1448956799.145}, 'user_id': UUID('e471711e-bd14-3dbe-80b6-9c7d92ecc296')}, sort_key = metadata.write_ts\n"
       ]
      },
      {
       "output_type": "stream",
       "stream": "stderr",
       "text": [
        "DEBUG:root:Found 1 results\n"
       ]
      },
      {
       "output_type": "stream",
       "stream": "stderr",
       "text": [
        "DEBUG:root:curr_query = {'$or': [{'metadata.key': 'statemachine/transition'}], 'metadata.write_ts': {'$gte': 1448944410.145, '$lt': 1448956799.145}, 'user_id': UUID('fd7b4c2e-2c8b-3bfa-94f0-d1e3ecbd5fb7')}, sort_key = metadata.write_ts\n"
       ]
      },
      {
       "output_type": "stream",
       "stream": "stderr",
       "text": [
        "DEBUG:root:Found 1 results\n"
       ]
      },
      {
       "output_type": "stream",
       "stream": "stderr",
       "text": [
        "DEBUG:root:curr_query = {'$or': [{'metadata.key': 'statemachine/transition'}], 'metadata.write_ts': {'$gte': 1448944410.145, '$lt': 1448956799.145}, 'user_id': UUID('86842c35-da28-32ed-a90e-2da6663c5c73')}, sort_key = metadata.write_ts\n"
       ]
      },
      {
       "output_type": "stream",
       "stream": "stderr",
       "text": [
        "DEBUG:root:Found 0 results\n"
       ]
      }
     ],
     "prompt_number": 23
    },
    {
     "cell_type": "code",
     "collapsed": false,
     "input": [
      "insert_transition_strings(all_iphone_transition_df + all_android_transition_df)"
     ],
     "language": "python",
     "metadata": {},
     "outputs": [],
     "prompt_number": 24
    },
    {
     "cell_type": "code",
     "collapsed": false,
     "input": [
      "for df in all_android_transition_df:\n",
      "    if len(df) > 0:\n",
      "        print df[[\"fmt_time\", \"transition_str\"]]"
     ],
     "language": "python",
     "metadata": {},
     "outputs": [
      {
       "output_type": "stream",
       "stream": "stdout",
       "text": [
        "                           fmt_time                 transition_str\n",
        "0  2015-11-30T20:38:17.810000-08:00  TransitionType.STOPPED_MOVING\n",
        "                           fmt_time                 transition_str\n",
        "0  2015-11-30T20:38:07.243000-08:00  TransitionType.STOPPED_MOVING\n"
       ]
      }
     ],
     "prompt_number": 26
    },
    {
     "cell_type": "code",
     "collapsed": false,
     "input": [
      "for df in all_iphone_transition_df:\n",
      "    if len(df) > 0:\n",
      "        print df[[\"fmt_time\", \"transition_str\"]]"
     ],
     "language": "python",
     "metadata": {},
     "outputs": [
      {
       "output_type": "stream",
       "stream": "stdout",
       "text": [
        "                            fmt_time                       transition_str\n",
        "0   2015-11-30T21:00:04.689574-08:00  TransitionType.RECEIVED_SILENT_PUSH\n",
        "1   2015-11-30T21:00:04.689574-08:00  TransitionType.RECEIVED_SILENT_PUSH\n",
        "2   2015-11-30T21:00:04.689574-08:00  TransitionType.RECEIVED_SILENT_PUSH\n",
        "3   2015-11-30T21:00:04.689574-08:00  TransitionType.RECEIVED_SILENT_PUSH\n",
        "4   2015-11-30T21:00:04.689574-08:00  TransitionType.RECEIVED_SILENT_PUSH\n",
        "5   2015-11-30T21:00:04.689574-08:00  TransitionType.RECEIVED_SILENT_PUSH\n",
        "6   2015-11-30T21:00:04.815300-08:00     TransitionType.TRIP_END_DETECTED\n",
        "7   2015-11-30T21:00:04.815300-08:00     TransitionType.TRIP_END_DETECTED\n",
        "8   2015-11-30T21:00:04.815300-08:00     TransitionType.TRIP_END_DETECTED\n",
        "9   2015-11-30T21:00:04.815300-08:00     TransitionType.TRIP_END_DETECTED\n",
        "10  2015-11-30T21:00:04.815300-08:00     TransitionType.TRIP_END_DETECTED\n",
        "11  2015-11-30T21:00:04.815300-08:00     TransitionType.TRIP_END_DETECTED\n",
        "12  2015-11-30T21:00:06.188534-08:00     TransitionType.END_TRIP_TRACKING\n",
        "13  2015-11-30T21:00:06.188534-08:00     TransitionType.END_TRIP_TRACKING\n",
        "14  2015-11-30T21:00:06.188534-08:00     TransitionType.END_TRIP_TRACKING\n",
        "15  2015-11-30T21:00:06.188534-08:00     TransitionType.END_TRIP_TRACKING\n",
        "16  2015-11-30T21:00:06.188534-08:00     TransitionType.END_TRIP_TRACKING\n",
        "17  2015-11-30T21:00:06.188534-08:00     TransitionType.END_TRIP_TRACKING\n",
        "18  2015-11-30T21:00:06.408822-08:00        TransitionType.STOPPED_MOVING\n",
        "19  2015-11-30T21:00:06.408822-08:00        TransitionType.STOPPED_MOVING\n",
        "20  2015-11-30T21:00:06.408822-08:00        TransitionType.STOPPED_MOVING\n",
        "21  2015-11-30T21:00:06.408822-08:00        TransitionType.STOPPED_MOVING\n",
        "22  2015-11-30T21:00:06.408822-08:00        TransitionType.STOPPED_MOVING\n",
        "23  2015-11-30T21:00:06.408822-08:00        TransitionType.STOPPED_MOVING\n",
        "24  2015-11-30T21:00:06.644411-08:00        TransitionType.STOPPED_MOVING\n",
        "25  2015-11-30T21:00:06.644411-08:00        TransitionType.STOPPED_MOVING\n",
        "26  2015-11-30T21:00:06.644411-08:00        TransitionType.STOPPED_MOVING\n",
        "27  2015-11-30T21:00:06.644411-08:00        TransitionType.STOPPED_MOVING\n",
        "28  2015-11-30T21:00:06.644411-08:00        TransitionType.STOPPED_MOVING\n",
        "29  2015-11-30T21:00:06.644411-08:00        TransitionType.STOPPED_MOVING\n",
        "30  2015-11-30T22:00:05.313328-08:00  TransitionType.RECEIVED_SILENT_PUSH\n",
        "31  2015-11-30T22:00:05.313328-08:00  TransitionType.RECEIVED_SILENT_PUSH\n",
        "32  2015-11-30T22:00:05.313328-08:00  TransitionType.RECEIVED_SILENT_PUSH\n",
        "33  2015-11-30T22:00:05.313328-08:00  TransitionType.RECEIVED_SILENT_PUSH\n",
        "34  2015-11-30T23:00:04.196659-08:00  TransitionType.RECEIVED_SILENT_PUSH\n",
        "35  2015-11-30T23:00:04.196659-08:00  TransitionType.RECEIVED_SILENT_PUSH\n",
        "36  2015-11-30T23:00:04.196659-08:00  TransitionType.RECEIVED_SILENT_PUSH\n",
        "37  2015-11-30T23:00:04.196659-08:00  TransitionType.RECEIVED_SILENT_PUSH\n",
        "                            fmt_time                       transition_str\n",
        "0   2015-11-30T21:00:04.585357-08:00  TransitionType.RECEIVED_SILENT_PUSH\n",
        "1   2015-11-30T21:00:04.585357-08:00  TransitionType.RECEIVED_SILENT_PUSH\n",
        "2   2015-11-30T21:00:04.585357-08:00  TransitionType.RECEIVED_SILENT_PUSH\n",
        "3   2015-11-30T21:00:04.585357-08:00  TransitionType.RECEIVED_SILENT_PUSH\n",
        "4   2015-11-30T21:00:04.585357-08:00  TransitionType.RECEIVED_SILENT_PUSH\n",
        "5   2015-11-30T21:00:04.585357-08:00  TransitionType.RECEIVED_SILENT_PUSH\n",
        "6   2015-11-30T21:00:04.618327-08:00     TransitionType.TRIP_END_DETECTED\n",
        "7   2015-11-30T21:00:04.618327-08:00     TransitionType.TRIP_END_DETECTED\n",
        "8   2015-11-30T21:00:04.618327-08:00     TransitionType.TRIP_END_DETECTED\n",
        "9   2015-11-30T21:00:04.618327-08:00     TransitionType.TRIP_END_DETECTED\n",
        "10  2015-11-30T21:00:04.618327-08:00     TransitionType.TRIP_END_DETECTED\n",
        "11  2015-11-30T21:00:04.618327-08:00     TransitionType.TRIP_END_DETECTED\n",
        "12  2015-11-30T21:00:05.667192-08:00     TransitionType.END_TRIP_TRACKING\n",
        "13  2015-11-30T21:00:05.667192-08:00     TransitionType.END_TRIP_TRACKING\n",
        "14  2015-11-30T21:00:05.667192-08:00     TransitionType.END_TRIP_TRACKING\n",
        "15  2015-11-30T21:00:05.667192-08:00     TransitionType.END_TRIP_TRACKING\n",
        "16  2015-11-30T21:00:05.667192-08:00     TransitionType.END_TRIP_TRACKING\n",
        "17  2015-11-30T21:00:06.188066-08:00        TransitionType.STOPPED_MOVING\n",
        "18  2015-11-30T21:00:06.188066-08:00        TransitionType.STOPPED_MOVING\n",
        "19  2015-11-30T21:00:06.188066-08:00        TransitionType.STOPPED_MOVING\n",
        "20  2015-11-30T21:00:06.188066-08:00        TransitionType.STOPPED_MOVING\n",
        "21  2015-11-30T21:00:06.188066-08:00        TransitionType.STOPPED_MOVING\n",
        "22  2015-11-30T21:00:06.188066-08:00        TransitionType.STOPPED_MOVING\n",
        "23  2015-11-30T21:00:06.499485-08:00        TransitionType.STOPPED_MOVING\n",
        "24  2015-11-30T21:00:06.499485-08:00        TransitionType.STOPPED_MOVING\n",
        "25  2015-11-30T21:00:06.499485-08:00        TransitionType.STOPPED_MOVING\n",
        "26  2015-11-30T21:00:06.499485-08:00        TransitionType.STOPPED_MOVING\n",
        "27  2015-11-30T21:00:06.499485-08:00        TransitionType.STOPPED_MOVING\n",
        "28  2015-11-30T21:00:06.499485-08:00        TransitionType.STOPPED_MOVING\n",
        "29  2015-11-30T22:00:05.265153-08:00  TransitionType.RECEIVED_SILENT_PUSH\n",
        "30  2015-11-30T22:00:05.265153-08:00  TransitionType.RECEIVED_SILENT_PUSH\n",
        "31  2015-11-30T22:00:05.265153-08:00  TransitionType.RECEIVED_SILENT_PUSH\n",
        "32  2015-11-30T22:00:05.265153-08:00  TransitionType.RECEIVED_SILENT_PUSH\n",
        "33  2015-11-30T23:00:04.171858-08:00  TransitionType.RECEIVED_SILENT_PUSH\n",
        "34  2015-11-30T23:00:04.171858-08:00  TransitionType.RECEIVED_SILENT_PUSH\n",
        "35  2015-11-30T23:00:04.171858-08:00  TransitionType.RECEIVED_SILENT_PUSH\n",
        "36  2015-11-30T23:00:04.171858-08:00  TransitionType.RECEIVED_SILENT_PUSH\n"
       ]
      }
     ],
     "prompt_number": 27
    },
    {
     "cell_type": "code",
     "collapsed": false,
     "input": [
      "twenty_ninth_start = 1448784000\n",
      "twenty_ninth_end = 1448870399"
     ],
     "language": "python",
     "metadata": {},
     "outputs": [],
     "prompt_number": 36
    },
    {
     "cell_type": "code",
     "collapsed": false,
     "input": [
      "all_iphone_transition_df = [ts.get_data_df(\"statemachine/transition\", enua.UserCache.TimeQuery(\"write_ts\", twenty_ninth_start, twenty_ninth_end)) for ts in iphone_ts_list]"
     ],
     "language": "python",
     "metadata": {},
     "outputs": [
      {
       "output_type": "stream",
       "stream": "stderr",
       "text": [
        "DEBUG:root:curr_query = {'$or': [{'metadata.key': 'statemachine/transition'}], 'metadata.write_ts': {'$gte': 1448784000, '$lt': 1448870399}, 'user_id': UUID('079e0f1a-c440-3d7c-b0e7-de160f748e35')}, sort_key = metadata.write_ts\n"
       ]
      },
      {
       "output_type": "stream",
       "stream": "stderr",
       "text": [
        "DEBUG:root:Found 0 results\n"
       ]
      },
      {
       "output_type": "stream",
       "stream": "stderr",
       "text": [
        "DEBUG:root:curr_query = {'$or': [{'metadata.key': 'statemachine/transition'}], 'metadata.write_ts': {'$gte': 1448784000, '$lt': 1448870399}, 'user_id': UUID('c76a0487-7e5a-3b17-a449-47be666b36f6')}, sort_key = metadata.write_ts\n"
       ]
      },
      {
       "output_type": "stream",
       "stream": "stderr",
       "text": [
        "DEBUG:root:Found 0 results\n"
       ]
      },
      {
       "output_type": "stream",
       "stream": "stderr",
       "text": [
        "DEBUG:root:curr_query = {'$or': [{'metadata.key': 'statemachine/transition'}], 'metadata.write_ts': {'$gte': 1448784000, '$lt': 1448870399}, 'user_id': UUID('c528bcd2-a88b-3e82-be62-ef4f2396967a')}, sort_key = metadata.write_ts\n"
       ]
      },
      {
       "output_type": "stream",
       "stream": "stderr",
       "text": [
        "DEBUG:root:Found 0 results\n"
       ]
      }
     ],
     "prompt_number": 37
    },
    {
     "cell_type": "code",
     "collapsed": false,
     "input": [
      "all_android_transition_df = [ts.get_data_df(\"statemachine/transition\", enua.UserCache.TimeQuery(\"write_ts\", twenty_ninth_start, twenty_ninth_end)) for ts in android_ts_list]"
     ],
     "language": "python",
     "metadata": {},
     "outputs": [
      {
       "output_type": "stream",
       "stream": "stderr",
       "text": [
        "DEBUG:root:curr_query = {'$or': [{'metadata.key': 'statemachine/transition'}], 'metadata.write_ts': {'$gte': 1448784000, '$lt': 1448870399}, 'user_id': UUID('e471711e-bd14-3dbe-80b6-9c7d92ecc296')}, sort_key = metadata.write_ts\n"
       ]
      },
      {
       "output_type": "stream",
       "stream": "stderr",
       "text": [
        "DEBUG:root:Found 0 results\n"
       ]
      },
      {
       "output_type": "stream",
       "stream": "stderr",
       "text": [
        "DEBUG:root:curr_query = {'$or': [{'metadata.key': 'statemachine/transition'}], 'metadata.write_ts': {'$gte': 1448784000, '$lt': 1448870399}, 'user_id': UUID('fd7b4c2e-2c8b-3bfa-94f0-d1e3ecbd5fb7')}, sort_key = metadata.write_ts\n"
       ]
      },
      {
       "output_type": "stream",
       "stream": "stderr",
       "text": [
        "DEBUG:root:Found 0 results\n"
       ]
      },
      {
       "output_type": "stream",
       "stream": "stderr",
       "text": [
        "DEBUG:root:curr_query = {'$or': [{'metadata.key': 'statemachine/transition'}], 'metadata.write_ts': {'$gte': 1448784000, '$lt': 1448870399}, 'user_id': UUID('86842c35-da28-32ed-a90e-2da6663c5c73')}, sort_key = metadata.write_ts\n"
       ]
      },
      {
       "output_type": "stream",
       "stream": "stderr",
       "text": [
        "DEBUG:root:Found 0 results\n"
       ]
      }
     ],
     "prompt_number": 38
    },
    {
     "cell_type": "code",
     "collapsed": false,
     "input": [
      "twenty_seventh_start = 1448611200\n",
      "twenty_seventh_end = 1448697599"
     ],
     "language": "python",
     "metadata": {},
     "outputs": [],
     "prompt_number": 39
    },
    {
     "cell_type": "code",
     "collapsed": false,
     "input": [
      "all_android_transition_df = [ts.get_data_df(\"statemachine/transition\", enua.UserCache.TimeQuery(\"write_ts\", twenty_seventh_start, twenty_seventh_end)) for ts in android_ts_list]"
     ],
     "language": "python",
     "metadata": {},
     "outputs": [
      {
       "output_type": "stream",
       "stream": "stderr",
       "text": [
        "DEBUG:root:curr_query = {'$or': [{'metadata.key': 'statemachine/transition'}], 'metadata.write_ts': {'$gte': 1448611200, '$lt': 1448697599}, 'user_id': UUID('e471711e-bd14-3dbe-80b6-9c7d92ecc296')}, sort_key = metadata.write_ts\n"
       ]
      },
      {
       "output_type": "stream",
       "stream": "stderr",
       "text": [
        "DEBUG:root:Found 2 results\n"
       ]
      },
      {
       "output_type": "stream",
       "stream": "stderr",
       "text": [
        "DEBUG:root:curr_query = {'$or': [{'metadata.key': 'statemachine/transition'}], 'metadata.write_ts': {'$gte': 1448611200, '$lt': 1448697599}, 'user_id': UUID('fd7b4c2e-2c8b-3bfa-94f0-d1e3ecbd5fb7')}, sort_key = metadata.write_ts\n"
       ]
      },
      {
       "output_type": "stream",
       "stream": "stderr",
       "text": [
        "DEBUG:root:Found 24 results\n"
       ]
      },
      {
       "output_type": "stream",
       "stream": "stderr",
       "text": [
        "DEBUG:root:curr_query = {'$or': [{'metadata.key': 'statemachine/transition'}], 'metadata.write_ts': {'$gte': 1448611200, '$lt': 1448697599}, 'user_id': UUID('86842c35-da28-32ed-a90e-2da6663c5c73')}, sort_key = metadata.write_ts\n"
       ]
      },
      {
       "output_type": "stream",
       "stream": "stderr",
       "text": [
        "DEBUG:root:Found 0 results\n"
       ]
      }
     ],
     "prompt_number": 41
    },
    {
     "cell_type": "code",
     "collapsed": false,
     "input": [
      "insert_transition_strings(all_iphone_transition_df + all_android_transition_df)"
     ],
     "language": "python",
     "metadata": {},
     "outputs": [],
     "prompt_number": 43
    },
    {
     "cell_type": "code",
     "collapsed": false,
     "input": [
      "for df in all_android_transition_df:\n",
      "    if len(df) > 0:\n",
      "        print df[[\"fmt_time\", \"transition_str\"]]"
     ],
     "language": "python",
     "metadata": {},
     "outputs": [
      {
       "output_type": "stream",
       "stream": "stdout",
       "text": [
        "                           fmt_time             transition_str\n",
        "0  2015-11-27T08:02:43.716000-08:00  TransitionType.INITIALIZE\n",
        "1  2015-11-27T08:08:31.835000-08:00  TransitionType.INITIALIZE\n",
        "                            fmt_time                  transition_str\n",
        "0   2015-11-27T08:22:17.614000-08:00  TransitionType.EXITED_GEOFENCE\n",
        "1   2015-11-27T08:29:12.209000-08:00   TransitionType.STOPPED_MOVING\n",
        "2   2015-11-27T09:07:14.700000-08:00  TransitionType.EXITED_GEOFENCE\n",
        "3   2015-11-27T09:14:14.855000-08:00   TransitionType.STOPPED_MOVING\n",
        "4   2015-11-27T09:44:07.710000-08:00  TransitionType.EXITED_GEOFENCE\n",
        "5   2015-11-27T09:49:31.563000-08:00   TransitionType.STOPPED_MOVING\n",
        "6   2015-11-27T10:21:45.291000-08:00  TransitionType.EXITED_GEOFENCE\n",
        "7   2015-11-27T10:41:27.930000-08:00   TransitionType.STOPPED_MOVING\n",
        "8   2015-11-27T12:56:35.446000-08:00  TransitionType.EXITED_GEOFENCE\n",
        "9   2015-11-27T13:05:24.492000-08:00   TransitionType.STOPPED_MOVING\n",
        "10  2015-11-27T14:17:46.924000-08:00  TransitionType.EXITED_GEOFENCE\n",
        "11  2015-11-27T14:34:13.376000-08:00   TransitionType.STOPPED_MOVING\n",
        "12  2015-11-27T15:28:26.634000-08:00  TransitionType.EXITED_GEOFENCE\n",
        "13  2015-11-27T16:00:43.884000-08:00   TransitionType.STOPPED_MOVING\n",
        "14  2015-11-27T16:15:26.523000-08:00  TransitionType.EXITED_GEOFENCE\n",
        "15  2015-11-27T16:27:42.647000-08:00   TransitionType.STOPPED_MOVING\n",
        "16  2015-11-27T16:32:48.766000-08:00  TransitionType.EXITED_GEOFENCE\n",
        "17  2015-11-27T17:21:30.703000-08:00   TransitionType.STOPPED_MOVING\n",
        "18  2015-11-27T17:28:37.427000-08:00  TransitionType.EXITED_GEOFENCE\n",
        "19  2015-11-27T17:49:41.537000-08:00   TransitionType.STOPPED_MOVING\n",
        "20  2015-11-27T18:42:57.196000-08:00  TransitionType.EXITED_GEOFENCE\n",
        "21  2015-11-27T19:00:43.665000-08:00   TransitionType.STOPPED_MOVING\n",
        "22  2015-11-27T19:06:51.064000-08:00  TransitionType.EXITED_GEOFENCE\n",
        "23  2015-11-27T19:22:23.859000-08:00   TransitionType.STOPPED_MOVING\n"
       ]
      }
     ],
     "prompt_number": 44
    },
    {
     "cell_type": "code",
     "collapsed": false,
     "input": [
      "all_android_location_df = [ts.get_data_df(\"background/location\", enua.UserCache.TimeQuery(\"write_ts\", twenty_seventh_start, twenty_seventh_end)) for ts in android_ts_list]"
     ],
     "language": "python",
     "metadata": {},
     "outputs": [
      {
       "output_type": "stream",
       "stream": "stderr",
       "text": [
        "DEBUG:root:curr_query = {'$or': [{'metadata.key': 'background/location'}], 'metadata.write_ts': {'$gte': 1448611200, '$lt': 1448697599}, 'user_id': UUID('e471711e-bd14-3dbe-80b6-9c7d92ecc296')}, sort_key = metadata.write_ts\n"
       ]
      },
      {
       "output_type": "stream",
       "stream": "stderr",
       "text": [
        "DEBUG:root:Found 1015 results\n"
       ]
      },
      {
       "output_type": "stream",
       "stream": "stderr",
       "text": [
        "DEBUG:root:curr_query = {'$or': [{'metadata.key': 'background/location'}], 'metadata.write_ts': {'$gte': 1448611200, '$lt': 1448697599}, 'user_id': UUID('fd7b4c2e-2c8b-3bfa-94f0-d1e3ecbd5fb7')}, sort_key = metadata.write_ts\n"
       ]
      },
      {
       "output_type": "stream",
       "stream": "stderr",
       "text": [
        "DEBUG:root:Found 265 results\n"
       ]
      },
      {
       "output_type": "stream",
       "stream": "stderr",
       "text": [
        "DEBUG:root:curr_query = {'$or': [{'metadata.key': 'background/location'}], 'metadata.write_ts': {'$gte': 1448611200, '$lt': 1448697599}, 'user_id': UUID('86842c35-da28-32ed-a90e-2da6663c5c73')}, sort_key = metadata.write_ts\n"
       ]
      },
      {
       "output_type": "stream",
       "stream": "stderr",
       "text": [
        "DEBUG:root:Found 0 results\n"
       ]
      }
     ],
     "prompt_number": 45
    },
    {
     "cell_type": "code",
     "collapsed": false,
     "input": [
      "import emission."
     ],
     "language": "python",
     "metadata": {},
     "outputs": []
    },
    {
     "cell_type": "code",
     "collapsed": false,
     "input": [
      "curr_trans_df = all_android_transition_df[1]\n",
      "curr_loc_df = all_android_location_df[1]\n",
      "for idx, row in curr_trans_df.iterrows():\n",
      "    if row[\"transition\"] == 2:\n",
      "        if idx > 2:\n",
      "            points = curr_loc_df[(curr_loc_df.ts > (curr_trans_df.iloc[idx-2].ts)) & (curr_loc_df.ts <= row[\"ts\"])]\n",
      "        else:\n",
      "            points = curr_loc_df[(curr_loc_df.ts <= row[\"ts\"])]\n",
      "        print points[[\"latitude\", \"longitude\", \"accuracy\", \"fmt_time\"]]"
     ],
     "language": "python",
     "metadata": {},
     "outputs": [
      {
       "output_type": "stream",
       "stream": "stdout",
       "text": [
        "     latitude   longitude  accuracy                   fmt_time\n",
        "0   37.395526 -122.098359  1319.000  2015-11-27T08:22:04-08:00\n",
        "1   37.390982 -122.086231    37.500  2015-11-27T08:22:18-08:00\n",
        "2   37.390982 -122.086231    37.500  2015-11-27T08:22:50-08:00\n",
        "3   37.390982 -122.086231    37.500  2015-11-27T08:23:21-08:00\n",
        "4   37.390980 -122.086244    39.000  2015-11-27T08:23:52-08:00\n",
        "5   37.390980 -122.086244    39.000  2015-11-27T08:24:23-08:00\n",
        "6   37.390980 -122.086244    39.000  2015-11-27T08:24:54-08:00\n",
        "7   37.390980 -122.086244    39.000  2015-11-27T08:25:25-08:00\n",
        "8   37.390987 -122.086227    40.500  2015-11-27T08:26:26-08:00\n",
        "9   37.391042 -122.086158    30.000  2015-11-27T08:26:59-08:00\n",
        "10  37.390881 -122.086244    42.000  2015-11-27T08:27:31-08:00\n",
        "11  37.391043 -122.086212    37.500  2015-11-27T08:28:04-08:00\n",
        "12  37.391053 -122.086211    36.000  2015-11-27T08:28:37-08:00\n",
        "13  37.391015 -122.086202    31.500  2015-11-27T08:29:08-08:00\n",
        "26  37.391029 -122.086188  1086.116  1969-12-31T16:00:00-08:00\n",
        "     latitude   longitude  accuracy                   fmt_time\n",
        "14  37.391046 -122.086175   633.762  2015-11-27T09:07:14-08:00\n",
        "15  37.391024 -122.086168    37.500  2015-11-27T09:07:41-08:00\n",
        "16  37.391041 -122.086174    34.500  2015-11-27T09:08:13-08:00\n",
        "17  37.391041 -122.086174    34.500  2015-11-27T09:08:44-08:00\n",
        "18  37.391041 -122.086174    34.500  2015-11-27T09:09:15-08:00\n",
        "19  37.391041 -122.086174    34.500  2015-11-27T09:09:46-08:00\n",
        "20  37.391041 -122.086174    34.500  2015-11-27T09:10:17-08:00\n",
        "21  37.391041 -122.086174    34.500  2015-11-27T09:10:49-08:00\n",
        "22  37.391041 -122.086174    34.500  2015-11-27T09:11:20-08:00\n",
        "23  37.391041 -122.086174    34.500  2015-11-27T09:11:51-08:00\n",
        "24  37.391041 -122.086174    34.500  2015-11-27T09:12:22-08:00\n",
        "25  37.391041 -122.086174    34.500  2015-11-27T09:12:53-08:00\n",
        "     latitude   longitude  accuracy                   fmt_time\n",
        "27  37.391032 -122.086186      30.0  2015-11-27T09:44:06-08:00\n",
        "28  37.391252 -122.086579      50.0  2015-11-27T09:44:40-08:00\n",
        "29  37.391255 -122.086579      52.0  2015-11-27T09:45:20-08:00\n",
        "30  37.391255 -122.086579      52.0  2015-11-27T09:45:51-08:00\n",
        "31  37.391028 -122.086405      26.0  2015-11-27T09:46:04-08:00\n",
        "32  37.390856 -122.086533     143.0  2015-11-27T09:46:34-08:00\n",
        "33  37.390979 -122.086417      36.0  2015-11-27T09:46:55-08:00\n",
        "34  37.391131 -122.086525      41.0  2015-11-27T09:47:25-08:00\n",
        "35  37.391057 -122.086209      34.5  2015-11-27T09:48:28-08:00\n",
        "36  37.391057 -122.086209      34.5  2015-11-27T09:49:00-08:00\n",
        "37  37.391057 -122.086209      34.5  2015-11-27T09:49:31-08:00\n",
        "     latitude   longitude  accuracy                   fmt_time\n",
        "38  37.389878 -122.085143    39.000  2015-11-27T10:22:17-08:00\n",
        "39  37.389279 -122.084614    59.267  2015-11-27T10:22:50-08:00\n",
        "40  37.389203 -122.084086    40.500  2015-11-27T10:23:22-08:00\n",
        "41  37.389108 -122.084033    37.500  2015-11-27T10:23:54-08:00\n",
        "42  37.388690 -122.083084    85.500  2015-11-27T10:24:27-08:00\n",
        "43  37.388432 -122.082610    72.000  2015-11-27T10:24:59-08:00\n",
        "44  37.388339 -122.082510    71.430  2015-11-27T10:25:31-08:00\n",
        "45  37.388325 -122.082457    34.500  2015-11-27T10:26:02-08:00\n",
        "46  37.388872 -122.082123    60.755  2015-11-27T10:26:35-08:00\n",
        "47  37.389122 -122.081808    36.000  2015-11-27T10:27:08-08:00\n",
        "48  37.389176 -122.081774    37.500  2015-11-27T10:27:40-08:00\n",
        "49  37.389829 -122.081491    56.372  2015-11-27T10:28:12-08:00\n",
        "50  37.389890 -122.081459    30.000  2015-11-27T10:28:45-08:00\n",
        "51  37.390015 -122.081576    30.000  2015-11-27T10:29:17-08:00\n",
        "52  37.390237 -122.081703    52.500  2015-11-27T10:29:50-08:00\n",
        "53  37.391438 -122.082809    56.810  2015-11-27T10:30:23-08:00\n",
        "54  37.391503 -122.082881    61.720  2015-11-27T10:30:55-08:00\n",
        "55  37.390971 -122.083089    69.000  2015-11-27T10:31:28-08:00\n",
        "56  37.391100 -122.083082    52.500  2015-11-27T10:32:01-08:00\n",
        "57  37.391172 -122.084227    30.000  2015-11-27T10:32:32-08:00\n",
        "58  37.391267 -122.084368    40.500  2015-11-27T10:33:05-08:00\n",
        "59  37.391834 -122.085207    45.000  2015-11-27T10:33:36-08:00\n",
        "60  37.391924 -122.085525    40.500  2015-11-27T10:34:09-08:00\n",
        "61  37.392073 -122.085485    37.500  2015-11-27T10:34:41-08:00\n",
        "62  37.391696 -122.085697    43.500  2015-11-27T10:35:13-08:00\n",
        "63  37.391028 -122.086166    39.000  2015-11-27T10:35:45-08:00\n",
        "64  37.391017 -122.086200    36.000  2015-11-27T10:36:16-08:00\n",
        "65  37.391043 -122.086161    30.000  2015-11-27T10:36:49-08:00\n",
        "66  37.391043 -122.086161    30.000  2015-11-27T10:37:20-08:00\n",
        "67  37.391037 -122.086216    31.500  2015-11-27T10:37:51-08:00\n",
        "68  37.391037 -122.086216    31.500  2015-11-27T10:38:22-08:00\n",
        "69  37.391037 -122.086216    31.500  2015-11-27T10:38:53-08:00\n",
        "70  37.391037 -122.086216    31.500  2015-11-27T10:39:24-08:00\n",
        "71  37.391037 -122.086216    31.500  2015-11-27T10:39:55-08:00\n",
        "72  37.391037 -122.086216    31.500  2015-11-27T10:40:26-08:00\n",
        "      latitude   longitude  accuracy                   fmt_time\n",
        "73   37.391132 -122.086395     301.0  2015-11-27T12:56:34-08:00\n",
        "74   37.391132 -122.086395     235.0  2015-11-27T12:56:37-08:00\n",
        "75   37.391132 -122.086395     235.0  2015-11-27T12:57:30-08:00\n",
        "76   37.391132 -122.086395     235.0  2015-11-27T12:58:02-08:00\n",
        "77   37.391132 -122.086395     235.0  2015-11-27T12:58:33-08:00\n",
        "78   37.391132 -122.086395     235.0  2015-11-27T12:59:04-08:00\n",
        "79   37.391132 -122.086395     235.0  2015-11-27T12:59:35-08:00\n",
        "80   37.391132 -122.086395     235.0  2015-11-27T13:00:06-08:00\n",
        "81   37.391132 -122.086395     235.0  2015-11-27T13:00:37-08:00\n",
        "82   37.391132 -122.086395     235.0  2015-11-27T13:01:09-08:00\n",
        "83   37.391002 -122.086524     175.0  2015-11-27T13:01:37-08:00\n",
        "84   37.391002 -122.086524     175.0  2015-11-27T13:02:11-08:00\n",
        "85   37.391274 -122.086517     163.0  2015-11-27T13:02:18-08:00\n",
        "86   37.391069 -122.086482      85.0  2015-11-27T13:02:45-08:00\n",
        "87   37.391211 -122.086240      39.0  2015-11-27T13:02:54-08:00\n",
        "88   37.391050 -122.086176      40.5  2015-11-27T13:03:48-08:00\n",
        "89   37.391053 -122.086173      39.0  2015-11-27T13:04:20-08:00\n",
        "90   37.391042 -122.086176      37.5  2015-11-27T13:04:52-08:00\n",
        "91   37.391052 -122.086176      39.0  2015-11-27T13:05:24-08:00\n",
        "232  37.391132 -122.086395     235.0  2015-11-27T12:56:36-08:00\n",
        "      latitude   longitude  accuracy                   fmt_time\n",
        "92   37.391052 -122.086176    39.000  2015-11-27T13:05:55-08:00\n",
        "93   37.390852 -122.087574    77.428  2015-11-27T14:17:46-08:00\n",
        "94   37.390874 -122.087733    49.500  2015-11-27T14:18:30-08:00\n",
        "95   37.391366 -122.088459    52.094  2015-11-27T14:19:03-08:00\n",
        "96   37.391566 -122.089064    37.500  2015-11-27T14:19:35-08:00\n",
        "97   37.391572 -122.089092    32.497  2015-11-27T14:20:07-08:00\n",
        "98   37.391901 -122.089522    61.050  2015-11-27T14:20:40-08:00\n",
        "99   37.391986 -122.089525    37.500  2015-11-27T14:21:12-08:00\n",
        "100  37.392428 -122.089387    47.480  2015-11-27T14:21:44-08:00\n",
        "101  37.392698 -122.089269    45.635  2015-11-27T14:22:17-08:00\n",
        "102  37.393348 -122.089455    42.545  2015-11-27T14:22:49-08:00\n",
        "103  37.392949 -122.088182    79.523  2015-11-27T14:23:22-08:00\n",
        "104  37.392829 -122.087943    30.000  2015-11-27T14:23:55-08:00\n",
        "105  37.392516 -122.087827    42.000  2015-11-27T14:24:27-08:00\n",
        "106  37.392477 -122.087561    37.500  2015-11-27T14:25:00-08:00\n",
        "107  37.392232 -122.086907    53.101  2015-11-27T14:25:32-08:00\n",
        "108  37.392180 -122.086708    45.000  2015-11-27T14:26:05-08:00\n",
        "109  37.391893 -122.086136    40.500  2015-11-27T14:26:37-08:00\n",
        "110  37.391942 -122.085725    43.062  2015-11-27T14:27:10-08:00\n",
        "111  37.391910 -122.085592    39.000  2015-11-27T14:27:42-08:00\n",
        "112  37.391090 -122.086062    40.500  2015-11-27T14:28:14-08:00\n",
        "113  37.391021 -122.086153    37.500  2015-11-27T14:28:46-08:00\n",
        "114  37.391061 -122.086169    30.000  2015-11-27T14:29:18-08:00\n",
        "115  37.391027 -122.086199    30.000  2015-11-27T14:29:50-08:00\n",
        "116  37.390997 -122.086221    30.000  2015-11-27T14:30:25-08:00\n",
        "117  37.391017 -122.086226    40.500  2015-11-27T14:30:57-08:00\n",
        "118  37.390987 -122.086213    30.000  2015-11-27T14:31:28-08:00\n",
        "119  37.390987 -122.086213    30.000  2015-11-27T14:32:00-08:00\n",
        "120  37.391025 -122.086210    30.000  2015-11-27T14:32:31-08:00\n",
        "121  37.391025 -122.086210    30.000  2015-11-27T14:33:02-08:00\n",
        "122  37.391025 -122.086210    30.000  2015-11-27T14:33:33-08:00\n",
        "123  37.391025 -122.086210    30.000  2015-11-27T14:34:04-08:00"
       ]
      },
      {
       "output_type": "stream",
       "stream": "stdout",
       "text": [
        "\n",
        "      latitude   longitude  accuracy                   fmt_time\n",
        "124  37.395526 -122.098359    1319.0  2015-11-27T15:28:26-08:00\n",
        "125  37.395526 -122.098359    1319.0  2015-11-27T15:28:26-08:00\n",
        "126  37.391030 -122.086195      37.5  2015-11-27T15:28:59-08:00\n",
        "127  37.391030 -122.086195      37.5  2015-11-27T15:29:32-08:00\n",
        "128  37.391030 -122.086195      37.5  2015-11-27T15:30:03-08:00\n",
        "129  37.391030 -122.086195      37.5  2015-11-27T15:30:34-08:00\n",
        "130  37.391030 -122.086195      37.5  2015-11-27T15:31:05-08:00\n",
        "131  37.391030 -122.086195      37.5  2015-11-27T15:31:36-08:00\n",
        "132  37.391030 -122.086195      37.5  2015-11-27T15:33:08-08:00\n",
        "133  37.391030 -122.086195      37.5  2015-11-27T15:34:27-08:00\n",
        "134  37.390986 -122.086220      37.5  2015-11-27T15:35:28-08:00\n",
        "135  37.390986 -122.086220      37.5  2015-11-27T15:39:28-08:00\n",
        "136  37.391011 -122.086185      36.0  2015-11-27T15:40:29-08:00\n",
        "137  37.391011 -122.086185      36.0  2015-11-27T15:44:29-08:00\n",
        "138  37.391011 -122.086185      37.5  2015-11-27T15:49:40-08:00\n",
        "139  37.391048 -122.086211      36.0  2015-11-27T15:54:41-08:00\n",
        "140  37.390987 -122.086221      36.0  2015-11-27T15:55:43-08:00\n",
        "141  37.390987 -122.086221      36.0  2015-11-27T15:59:42-08:00\n",
        "142  37.390987 -122.086221      37.5  2015-11-27T16:00:43-08:00\n",
        "      latitude   longitude  accuracy                   fmt_time\n",
        "143  37.388927 -122.087838    39.000  2015-11-27T16:15:26-08:00\n",
        "144  37.388927 -122.087838    39.000  2015-11-27T16:15:26-08:00\n",
        "145  37.388836 -122.087738    45.000  2015-11-27T16:16:00-08:00\n",
        "146  37.388725 -122.087713    45.000  2015-11-27T16:16:32-08:00\n",
        "147  37.388735 -122.087372   139.288  2015-11-27T16:17:05-08:00\n",
        "148  37.388626 -122.086958   105.947  2015-11-27T16:17:37-08:00\n",
        "149  37.388756 -122.085564    63.000  2015-11-27T16:18:09-08:00\n",
        "150  37.389197 -122.085147    55.500  2015-11-27T16:18:41-08:00\n",
        "151  37.388869 -122.084609    34.500  2015-11-27T16:19:14-08:00\n",
        "152  37.389689 -122.084472    39.000  2015-11-27T16:19:47-08:00\n",
        "153  37.389840 -122.084942    39.000  2015-11-27T16:20:19-08:00\n",
        "154  37.389957 -122.085565    40.500  2015-11-27T16:20:51-08:00\n",
        "155  37.390031 -122.086292    61.500  2015-11-27T16:21:23-08:00\n",
        "156  37.388872 -122.087839    40.500  2015-11-27T16:21:55-08:00\n",
        "157  37.390526 -122.086595    39.000  2015-11-27T16:22:28-08:00\n",
        "158  37.390546 -122.086558    45.000  2015-11-27T16:23:00-08:00\n",
        "159  37.390767 -122.086371    42.000  2015-11-27T16:23:32-08:00\n",
        "160  37.390853 -122.086314    33.000  2015-11-27T16:24:04-08:00\n",
        "161  37.391054 -122.086143    33.000  2015-11-27T16:24:36-08:00\n",
        "162  37.391028 -122.086205    37.500  2015-11-27T16:25:08-08:00\n",
        "163  37.391028 -122.086205    37.500  2015-11-27T16:25:39-08:00\n",
        "164  37.391022 -122.086224    36.000  2015-11-27T16:26:10-08:00\n",
        "165  37.391022 -122.086224    36.000  2015-11-27T16:26:41-08:00\n",
        "166  37.391022 -122.086224    36.000  2015-11-27T16:27:12-08:00\n",
        "167  37.391022 -122.086224    36.000  2015-11-27T16:27:42-08:00\n",
        "      latitude   longitude  accuracy                   fmt_time\n",
        "168  37.391011 -122.086184      37.5  2015-11-27T16:33:20-08:00\n",
        "169  37.391011 -122.086184      37.5  2015-11-27T16:33:51-08:00\n",
        "170  37.391011 -122.086184      37.5  2015-11-27T16:34:23-08:00\n",
        "171  37.391011 -122.086184      37.5  2015-11-27T16:34:54-08:00\n",
        "172  37.391011 -122.086184      37.5  2015-11-27T16:35:26-08:00\n",
        "173  37.391011 -122.086184      37.5  2015-11-27T16:35:57-08:00\n",
        "174  37.391011 -122.086184      37.5  2015-11-27T16:36:29-08:00\n",
        "175  37.391011 -122.086184      37.5  2015-11-27T16:37:00-08:00\n",
        "176  37.391011 -122.086184      37.5  2015-11-27T16:38:21-08:00\n",
        "177  37.390987 -122.086220      37.5  2015-11-27T16:43:22-08:00\n",
        "178  37.391026 -122.086209      36.0  2015-11-27T16:44:23-08:00\n",
        "179  37.391026 -122.086209      36.0  2015-11-27T16:48:23-08:00\n",
        "180  37.391022 -122.086192      34.5  2015-11-27T16:49:46-08:00\n",
        "181  37.391022 -122.086192      34.5  2015-11-27T16:52:21-08:00\n",
        "182  37.391022 -122.086192      34.5  2015-11-27T16:53:24-08:00\n",
        "183  37.391034 -122.086219      30.0  2015-11-27T16:57:27-08:00\n",
        "184  37.391034 -122.086219      30.0  2015-11-27T16:58:29-08:00\n",
        "185  37.391021 -122.086221      36.0  2015-11-27T17:03:08-08:00\n",
        "186  37.391036 -122.086206      37.5  2015-11-27T17:03:31-08:00\n",
        "187  37.391036 -122.086206      37.5  2015-11-27T17:04:30-08:00\n",
        "188  37.391036 -122.086206      37.5  2015-11-27T17:08:31-08:00\n",
        "189  37.391014 -122.086196      31.5  2015-11-27T17:13:32-08:00\n",
        "190  37.391022 -122.086176      30.0  2015-11-27T17:18:33-08:00\n",
        "191  37.390976 -122.086215      30.0  2015-11-27T17:20:00-08:00\n",
        "192  37.390976 -122.086215      30.0  2015-11-27T17:21:30-08:00\n",
        "      latitude   longitude  accuracy                   fmt_time\n",
        "193  37.391035 -122.086206      37.5  2015-11-27T17:29:38-08:00\n",
        "194  37.391026 -122.086223      37.5  2015-11-27T17:33:08-08:00\n",
        "195  37.391026 -122.086223      37.5  2015-11-27T17:34:39-08:00\n",
        "196  37.391010 -122.086187      30.0  2015-11-27T17:35:40-08:00\n",
        "197  37.391010 -122.086187      30.0  2015-11-27T17:39:13-08:00\n",
        "198  37.391005 -122.086204      30.0  2015-11-27T17:44:13-08:00\n",
        "199  37.390998 -122.086216      30.0  2015-11-27T17:45:19-08:00\n",
        "200  37.390989 -122.086220      33.0  2015-11-27T17:48:28-08:00\n",
        "201  37.390988 -122.086235      37.5  2015-11-27T17:49:00-08:00\n",
        "202  37.390988 -122.086235      37.5  2015-11-27T17:49:31-08:00\n",
        "203  37.390987 -122.086222      40.5  2015-11-27T17:49:41-08:00\n",
        "      latitude   longitude    accuracy                   fmt_time\n",
        "204  37.389548 -122.085185   25.298222  2015-11-27T18:42:56-08:00\n",
        "205  37.389732 -122.085222   45.000000  2015-11-27T18:42:58-08:00\n",
        "206  37.389480 -122.084671   77.919000  2015-11-27T18:43:30-08:00\n",
        "207  37.389575 -122.084112   50.883000  2015-11-27T18:44:02-08:00\n",
        "208  37.389835 -122.084121   90.964000  2015-11-27T18:44:34-08:00\n",
        "209  37.389094 -122.083942   37.500000  2015-11-27T18:45:06-08:00\n",
        "210  37.388423 -122.082574   95.152000  2015-11-27T18:45:38-08:00\n",
        "211  37.388413 -122.082513   30.000000  2015-11-27T18:46:10-08:00\n",
        "212  37.388353 -122.082513   30.000000  2015-11-27T18:46:42-08:00\n",
        "213  37.388329 -122.082450   30.000000  2015-11-27T18:47:14-08:00\n",
        "214  37.388329 -122.082450   30.000000  2015-11-27T18:47:45-08:00\n",
        "215  37.388989 -122.081920   40.500000  2015-11-27T18:48:18-08:00\n",
        "216  37.389222 -122.081785   30.000000  2015-11-27T18:48:50-08:00\n",
        "217  37.389765 -122.081597   37.500000  2015-11-27T18:49:23-08:00\n",
        "218  37.389907 -122.081495   30.000000  2015-11-27T18:49:55-08:00\n",
        "219  37.389953 -122.081460   45.057000  2015-11-27T18:50:27-08:00\n",
        "220  37.390098 -122.081323   28.490000  2015-11-27T18:50:59-08:00\n",
        "221  37.391124 -122.080743   75.605000  2015-11-27T18:51:32-08:00\n",
        "222  37.391361 -122.080565   36.000000  2015-11-27T18:52:04-08:00\n",
        "223  37.391326 -122.080588   30.000000  2015-11-27T18:52:36-08:00\n",
        "224  37.391333 -122.080639   42.000000  2015-11-27T18:53:08-08:00\n",
        "225  37.391766 -122.080264   27.501000  2015-11-27T18:53:40-08:00\n",
        "226  37.392169 -122.079903   37.889000  2015-11-27T18:54:12-08:00\n",
        "227  37.392166 -122.079834   30.000000  2015-11-27T18:54:45-08:00\n",
        "228  37.392160 -122.079794   30.000000  2015-11-27T18:55:17-08:00\n",
        "229  37.392166 -122.079813   30.000000  2015-11-27T18:55:50-08:00\n",
        "230  37.392143 -122.079843   35.279000  2015-11-27T18:56:23-08:00\n",
        "231  37.392143 -122.079843  443.063000  2015-11-27T18:56:54-08:00\n",
        "233  37.392197 -122.079834   38.322000  2015-11-27T18:58:02-08:00\n",
        "234  37.392167 -122.079818   30.000000  2015-11-27T18:58:35-08:00\n",
        "235  37.392149 -122.079662   30.000000  2015-11-27T18:59:08-08:00\n",
        "236  37.392137 -122.079679   30.000000  2015-11-27T18:59:40-08:00\n",
        "237  37.392137 -122.079679   30.000000  2015-11-27T19:00:11-08:00\n",
        "      latitude   longitude  accuracy                   fmt_time\n",
        "238  37.393001 -122.080987    32.745  2015-11-27T19:06:50-08:00\n",
        "239  37.393001 -122.080987    32.745  2015-11-27T19:06:50-08:00\n",
        "240  37.393510 -122.081723    45.059  2015-11-27T19:07:24-08:00\n",
        "241  37.393612 -122.082160    60.466  2015-11-27T19:07:56-08:00\n",
        "242  37.393806 -122.082494    39.000  2015-11-27T19:08:29-08:00\n",
        "243  37.394028 -122.082927    55.500  2015-11-27T19:09:01-08:00\n",
        "244  37.394481 -122.083496    45.000  2015-11-27T19:09:34-08:00\n",
        "245  37.394638 -122.083669    36.000  2015-11-27T19:10:07-08:00\n",
        "246  37.394537 -122.083954    43.500  2015-11-27T19:10:40-08:00\n",
        "247  37.393787 -122.084546    30.000  2015-11-27T19:11:12-08:00\n",
        "248  37.393019 -122.084959    45.000  2015-11-27T19:11:44-08:00\n",
        "249  37.393258 -122.084959    39.000  2015-11-27T19:12:17-08:00\n",
        "250  37.392958 -122.084950    40.500  2015-11-27T19:12:50-08:00\n",
        "251  37.392615 -122.085142    41.019  2015-11-27T19:13:23-08:00\n",
        "252  37.392092 -122.085461    42.000  2015-11-27T19:13:56-08:00\n",
        "253  37.391881 -122.085599    42.000  2015-11-27T19:14:27-08:00\n",
        "254  37.391062 -122.086125    37.500  2015-11-27T19:14:59-08:00\n",
        "255  37.390998 -122.086175    30.000  2015-11-27T19:15:32-08:00\n",
        "256  37.391030 -122.086204    40.500  2015-11-27T19:16:04-08:00\n",
        "257  37.391011 -122.086193    31.500  2015-11-27T19:16:37-08:00\n",
        "258  37.391011 -122.086193    31.500  2015-11-27T19:17:08-08:00\n",
        "259  37.391011 -122.086214    30.000  2015-11-27T19:17:39-08:00\n",
        "260  37.391011 -122.086214    30.000  2015-11-27T19:18:10-08:00\n",
        "261  37.391011 -122.086214    30.000  2015-11-27T19:18:41-08:00\n",
        "262  37.391011 -122.086214    30.000  2015-11-27T19:19:12-08:00\n",
        "263  37.391011 -122.086214    30.000  2015-11-27T19:19:43-08:00\n",
        "264  37.391011 -122.086214    30.000  2015-11-27T19:20:14-08:00"
       ]
      },
      {
       "output_type": "stream",
       "stream": "stdout",
       "text": [
        "\n"
       ]
      }
     ],
     "prompt_number": 53
    },
    {
     "cell_type": "code",
     "collapsed": false,
     "input": [],
     "language": "python",
     "metadata": {},
     "outputs": []
    }
   ],
   "metadata": {}
  }
 ]
}