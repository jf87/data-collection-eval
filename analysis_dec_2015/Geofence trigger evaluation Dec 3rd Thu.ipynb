{
 "metadata": {
  "name": "",
  "signature": "sha256:dab8adde3ab3efafae7c94bf870b0043000c65890aef5e5551f42f69a0c0097b"
 },
 "nbformat": 3,
 "nbformat_minor": 0,
 "worksheets": [
  {
   "cells": [
    {
     "cell_type": "code",
     "collapsed": false,
     "input": [
      "import sys"
     ],
     "language": "python",
     "metadata": {},
     "outputs": [],
     "prompt_number": 1
    },
    {
     "cell_type": "code",
     "collapsed": false,
     "input": [
      "sys.path.insert(0, \"/Users/shankari/e-mission/e-mission-server/\")"
     ],
     "language": "python",
     "metadata": {},
     "outputs": [],
     "prompt_number": 2
    },
    {
     "cell_type": "code",
     "collapsed": false,
     "input": [
      "sys.path"
     ],
     "language": "python",
     "metadata": {},
     "outputs": [
      {
       "metadata": {},
       "output_type": "pyout",
       "prompt_number": 3,
       "text": [
        "['/Users/shankari/e-mission/e-mission-server/',\n",
        " '',\n",
        " '/Users/shankari/OSS/anaconda/lib/python2.7/site-packages/pygmaps-0.1.1-py2.7.egg',\n",
        " '/Users/shankari/bin/python',\n",
        " '/Users/shankari/e-mission/data-collection-eval/analysis_dec_2015',\n",
        " '/Users/shankari/OSS/anaconda/python.app/Contents/lib/python27.zip',\n",
        " '/Users/shankari/OSS/anaconda/python.app/Contents/lib/python2.7',\n",
        " '/Users/shankari/OSS/anaconda/python.app/Contents/lib/python2.7/plat-darwin',\n",
        " '/Users/shankari/OSS/anaconda/python.app/Contents/lib/python2.7/plat-mac',\n",
        " '/Users/shankari/OSS/anaconda/python.app/Contents/lib/python2.7/plat-mac/lib-scriptpackages',\n",
        " '/Users/shankari/OSS/anaconda/python.app/Contents/lib/python2.7/lib-tk',\n",
        " '/Users/shankari/OSS/anaconda/python.app/Contents/lib/python2.7/lib-old',\n",
        " '/Users/shankari/OSS/anaconda/python.app/Contents/lib/python2.7/lib-dynload',\n",
        " '/Users/shankari/OSS/anaconda/lib/python2.7/site-packages',\n",
        " '/Users/shankari/OSS/anaconda/lib/python2.7/site-packages/PIL',\n",
        " '/Users/shankari/OSS/anaconda/lib/python2.7/site-packages/runipy-0.1.0-py2.7.egg',\n",
        " '/Users/shankari/OSS/anaconda/lib/python2.7/site-packages/setuptools-18.4-py2.7.egg',\n",
        " '/Users/shankari/OSS/anaconda/lib/python2.7/site-packages/IPython/extensions']"
       ]
      }
     ],
     "prompt_number": 3
    },
    {
     "cell_type": "code",
     "collapsed": false,
     "input": [
      "import logging\n",
      "logging.getLogger().setLevel(logging.DEBUG)"
     ],
     "language": "python",
     "metadata": {},
     "outputs": [],
     "prompt_number": 4
    },
    {
     "cell_type": "code",
     "collapsed": false,
     "input": [
      "from uuid import UUID"
     ],
     "language": "python",
     "metadata": {},
     "outputs": [],
     "prompt_number": 5
    },
    {
     "cell_type": "code",
     "collapsed": false,
     "input": [
      "iphone_ids = [UUID(\"079e0f1a-c440-3d7c-b0e7-de160f748e35\"), UUID(\"c76a0487-7e5a-3b17-a449-47be666b36f6\"), UUID(\"c528bcd2-a88b-3e82-be62-ef4f2396967a\")]\n",
      "android_ids = [UUID(\"e471711e-bd14-3dbe-80b6-9c7d92ecc296\"), UUID(\"fd7b4c2e-2c8b-3bfa-94f0-d1e3ecbd5fb7\"), UUID(\"86842c35-da28-32ed-a90e-2da6663c5c73\")]"
     ],
     "language": "python",
     "metadata": {},
     "outputs": [],
     "prompt_number": 6
    },
    {
     "cell_type": "code",
     "collapsed": false,
     "input": [
      "import emission.core.get_database as edb"
     ],
     "language": "python",
     "metadata": {},
     "outputs": [],
     "prompt_number": 7
    },
    {
     "cell_type": "code",
     "collapsed": false,
     "input": [
      "edb.get_timeseries_db().find({'user_id': iphone_ids[0]}).count()"
     ],
     "language": "python",
     "metadata": {},
     "outputs": [
      {
       "metadata": {},
       "output_type": "pyout",
       "prompt_number": 8,
       "text": [
        "32266"
       ]
      }
     ],
     "prompt_number": 8
    },
    {
     "cell_type": "code",
     "collapsed": false,
     "input": [
      "edb.get_timeseries_db().find({'user_id': iphone_ids[0], 'metadata.key': 'background/location'}).count()"
     ],
     "language": "python",
     "metadata": {},
     "outputs": [
      {
       "metadata": {},
       "output_type": "pyout",
       "prompt_number": 9,
       "text": [
        "10762"
       ]
      }
     ],
     "prompt_number": 9
    },
    {
     "cell_type": "code",
     "collapsed": false,
     "input": [
      "import pandas as pd\n",
      "import emission.storage.timeseries.abstract_timeseries as esta\n",
      "import emission.net.usercache.abstract_usercache as enua\n",
      "import emission.analysis.intake.cleaning.location_smoothing as eaicl"
     ],
     "language": "python",
     "metadata": {},
     "outputs": [],
     "prompt_number": 10
    },
    {
     "cell_type": "code",
     "collapsed": false,
     "input": [
      "iphone_ts_list = [esta.TimeSeries.get_time_series(id) for id in iphone_ids]"
     ],
     "language": "python",
     "metadata": {},
     "outputs": [],
     "prompt_number": 11
    },
    {
     "cell_type": "code",
     "collapsed": false,
     "input": [
      "android_ts_list = [esta.TimeSeries.get_time_series(id) for id in android_ids]"
     ],
     "language": "python",
     "metadata": {},
     "outputs": [],
     "prompt_number": 12
    },
    {
     "cell_type": "code",
     "collapsed": false,
     "input": [
      "%matplotlib inline"
     ],
     "language": "python",
     "metadata": {},
     "outputs": [],
     "prompt_number": 13
    },
    {
     "cell_type": "code",
     "collapsed": false,
     "input": [
      "import datetime as pydt"
     ],
     "language": "python",
     "metadata": {},
     "outputs": [],
     "prompt_number": 14
    },
    {
     "cell_type": "heading",
     "level": 1,
     "metadata": {},
     "source": [
      "Common functions"
     ]
    },
    {
     "cell_type": "code",
     "collapsed": false,
     "input": [
      "import matplotlib.pyplot as plt\n",
      "import numpy as np"
     ],
     "language": "python",
     "metadata": {},
     "outputs": [],
     "prompt_number": 15
    },
    {
     "cell_type": "code",
     "collapsed": false,
     "input": [
      "def generate_fake_dataframe(start, end, fill_val):\n",
      "    x_axis = np.arange(start,end,30)\n",
      "    y_axis = np.array(len(x_axis))\n",
      "    y_axis.fill(fill_val)\n",
      "    print \"Fake data length = %d, fill_val = %d\" % (len(x_axis), fill_val)\n",
      "    # axes_array[i].set_xlim(start,end)\n",
      "    return pd.DataFrame({\"ts\": x_axis, \"latitude\": y_axis})"
     ],
     "language": "python",
     "metadata": {},
     "outputs": [],
     "prompt_number": 16
    },
    {
     "cell_type": "code",
     "collapsed": false,
     "input": [
      "def plot_for_transition(label, location_dfs, transition_dfs, axes_array, diff_axes_array, ground_truth_exit_ts, ground_truth_end_ts):\n",
      "    # Find the mean latitudes so that we can create a dummy dataframe when there is no data\n",
      "    lat_means = pd.Series(np.empty(len(location_dfs)))\n",
      "    print \"length of lat_means = %d\" % len(lat_means)\n",
      "    for i, df in enumerate(location_dfs):\n",
      "        if len(df) > 0:\n",
      "            lat_means[i] = df.latitude.mean()\n",
      "        \n",
      "    for i, df in enumerate(location_dfs):\n",
      "        print \"Considering phone %d, from %s -> %s\" % (i, pydt.datetime.fromtimestamp(ground_truth_exit_ts), pydt.datetime.fromtimestamp(ground_truth_end_ts))\n",
      "        axes_array[i].axvline(x=ground_truth_exit_ts, linewidth=1, color=\"purple\")\n",
      "        axes_array[i].axvline(x=ground_truth_end_ts, linewidth=1, color=\"purple\")\n",
      "        axes_array[i].set_title(label + str(i))\n",
      "\n",
      "        transition_df = transition_dfs[i]\n",
      "        if len(df) == 0:\n",
      "            print \"No data to plot for dataframe %d\" % i\n",
      "            generate_fake_dataframe(ground_truth_exit_ts, ground_truth_end_ts, lat_means.mean()).plot(x=\"ts\", y=\"latitude\", kind=\"scatter\", ax=axes_array[i])\n",
      "            axes_array[i].annotate(\"No data for dataframe\", xy=(0.3, 0.5), xycoords='axes fraction', fontsize=12, color=\"red\")\n",
      "        else:\n",
      "            df[(df.ts > ground_truth_exit_ts) & (df.ts < ground_truth_end_ts)].plot(x=\"ts\", y=\"latitude\", kind=\"scatter\", ax=axes_array[i])\n",
      "            axes_array[i].axvline(x=ground_truth_exit_ts, linewidth=1, color=\"purple\")\n",
      "            if label.endswith(\"android\"):\n",
      "                diff_df = df[(df.ts > ground_truth_exit_ts) & (df.ts < ground_truth_end_ts)].ts.diff()\n",
      "                print diff_df[diff_df > 30].head()\n",
      "                diff_df.hist(ax=diff_axes_array[i])\n",
      "                diff_axes_array[i].set_title(\"histogram of time diffs\")\n",
      "            else:\n",
      "                assert(label.endswith(\"iphone\"))\n",
      "                with_distances = eaicl.add_dist_heading_speed(df)\n",
      "                with_distances.distance.diff().abs().hist(ax=diff_axes_array[i])\n",
      "                diff_axes_array[i].set_title(\"histogram of distance diffs\")\n",
      "\n",
      "\n",
      "        if len(transition_df) == 0 or np.count_nonzero(transition_df.transition == 1) == 0:\n",
      "            print(\"len(transition_df) = %d, ground_truth_exit_ts = %d, geofence was not exited!!\" % \n",
      "                  (len(transition_df), ground_truth_exit_ts))\n",
      "            axes_array[i].annotate(\"Geofence was not exited!\", xy=(0.3, 0.2), xycoords='axes fraction', fontsize=12, color=\"blue\")            \n",
      "        else:\n",
      "            trip_geofence_exit_entry = transition_df[transition_df.transition == 1].iloc[0]\n",
      "            trip_geofence_exit_ts = trip_geofence_exit_entry[\"ts\"]\n",
      "            axes_array[i].axvline(x=trip_geofence_exit_ts, linewidth=1, color=\"green\")\n",
      "            if len(df) > 0:\n",
      "                after_geofence_exit_points = df[(df.ts >= trip_geofence_exit_ts) & (df.ts <= ground_truth_end_ts)]\n",
      "                if len(after_geofence_exit_points) > 0:\n",
      "                    first_location_entry = after_geofence_exit_points.iloc[0]\n",
      "                    print(\"ground truth exit = %s, geofence_exit_ts = +%5f, first location point = +%5f\" %\n",
      "                          (pydt.datetime.fromtimestamp(ground_truth_exit_ts),\n",
      "                         (trip_geofence_exit_ts - ground_truth_exit_ts),\n",
      "                         (first_location_entry.ts - ground_truth_exit_ts)))"
     ],
     "language": "python",
     "metadata": {},
     "outputs": [],
     "prompt_number": 45
    },
    {
     "cell_type": "code",
     "collapsed": false,
     "input": [
      "def evaluate_trip_accuracy(label, start, end):\n",
      "    print \"Generating trip for %s\" % label\n",
      "    iphone_df_list = [ts.get_data_df(\"background/location\", enua.UserCache.TimeQuery(\"write_ts\", start, end)) for ts in iphone_ts_list]\n",
      "    android_df_list = [ts.get_data_df(\"background/location\", enua.UserCache.TimeQuery(\"write_ts\", start, end)) for ts in android_ts_list]\n",
      "    iphone_transition_df_list = [ts.get_data_df(\"statemachine/transition\", enua.UserCache.TimeQuery(\"write_ts\", start, end)) for ts in iphone_ts_list]\n",
      "    android_transition_df_list = [ts.get_data_df(\"statemachine/transition\", enua.UserCache.TimeQuery(\"write_ts\", start, end)) for ts in android_ts_list]\n",
      "    insert_transition_strings(iphone_transition_df_list)\n",
      "    insert_transition_strings(android_transition_df_list)\n",
      "    fig, axes = plt.subplots(nrows=2, ncols=3, figsize=(15,5), sharex=True, sharey=True)\n",
      "    diff_fig, diff_axes = plt.subplots(nrows=2, ncols=3, figsize=(15,5))\n",
      "    plot_for_transition(label + \" iphone\", iphone_df_list, iphone_transition_df_list, axes[0], diff_axes[0], start, end)\n",
      "    plot_for_transition(label + \" android\", android_df_list, android_transition_df_list, axes[1], diff_axes[1], start, end)\n",
      "    return fig, diff_fig"
     ],
     "language": "python",
     "metadata": {},
     "outputs": [],
     "prompt_number": 18
    },
    {
     "cell_type": "code",
     "collapsed": false,
     "input": [
      "import emission.core.wrapper.transition as ecwt"
     ],
     "language": "python",
     "metadata": {},
     "outputs": [],
     "prompt_number": 19
    },
    {
     "cell_type": "code",
     "collapsed": false,
     "input": [
      "def insert_transition_strings(df_list):\n",
      "    for df in df_list:\n",
      "        if len(df) > 0:\n",
      "            df[\"transition_str\"] = df.transition.map(lambda(tval): ecwt.TransitionType(tval))"
     ],
     "language": "python",
     "metadata": {},
     "outputs": [],
     "prompt_number": 20
    },
    {
     "cell_type": "heading",
     "level": 1,
     "metadata": {},
     "source": [
      "Determine transitions"
     ]
    },
    {
     "cell_type": "code",
     "collapsed": false,
     "input": [
      "all_iphone_transition_df = [ts.get_data_df(\"statemachine/transition\", enua.UserCache.TimeQuery(\"write_ts\", 1449174000, 1449212743)) for ts in iphone_ts_list]"
     ],
     "language": "python",
     "metadata": {},
     "outputs": [
      {
       "output_type": "stream",
       "stream": "stderr",
       "text": [
        "DEBUG:root:curr_query = {'$or': [{'metadata.key': 'statemachine/transition'}], 'metadata.write_ts': {'$gte': 1449174000, '$lt': 1449212743}, 'user_id': UUID('079e0f1a-c440-3d7c-b0e7-de160f748e35')}, sort_key = metadata.write_ts\n"
       ]
      },
      {
       "output_type": "stream",
       "stream": "stderr",
       "text": [
        "DEBUG:root:Found 0 results\n"
       ]
      },
      {
       "output_type": "stream",
       "stream": "stderr",
       "text": [
        "DEBUG:root:curr_query = {'$or': [{'metadata.key': 'statemachine/transition'}], 'metadata.write_ts': {'$gte': 1449174000, '$lt': 1449212743}, 'user_id': UUID('c76a0487-7e5a-3b17-a449-47be666b36f6')}, sort_key = metadata.write_ts\n"
       ]
      },
      {
       "output_type": "stream",
       "stream": "stderr",
       "text": [
        "DEBUG:root:Found 59 results\n"
       ]
      },
      {
       "output_type": "stream",
       "stream": "stderr",
       "text": [
        "DEBUG:root:curr_query = {'$or': [{'metadata.key': 'statemachine/transition'}], 'metadata.write_ts': {'$gte': 1449174000, '$lt': 1449212743}, 'user_id': UUID('c528bcd2-a88b-3e82-be62-ef4f2396967a')}, sort_key = metadata.write_ts\n"
       ]
      },
      {
       "output_type": "stream",
       "stream": "stderr",
       "text": [
        "DEBUG:root:Found 45 results\n"
       ]
      }
     ],
     "prompt_number": 21
    },
    {
     "cell_type": "code",
     "collapsed": false,
     "input": [
      "all_android_transition_df = [ts.get_data_df(\"statemachine/transition\", enua.UserCache.TimeQuery(\"write_ts\", 1449174000, 1449212743)) for ts in android_ts_list]"
     ],
     "language": "python",
     "metadata": {},
     "outputs": [
      {
       "output_type": "stream",
       "stream": "stderr",
       "text": [
        "DEBUG:root:curr_query = {'$or': [{'metadata.key': 'statemachine/transition'}], 'metadata.write_ts': {'$gte': 1449174000, '$lt': 1449212743}, 'user_id': UUID('e471711e-bd14-3dbe-80b6-9c7d92ecc296')}, sort_key = metadata.write_ts\n"
       ]
      },
      {
       "output_type": "stream",
       "stream": "stderr",
       "text": [
        "DEBUG:root:Found 0 results\n"
       ]
      },
      {
       "output_type": "stream",
       "stream": "stderr",
       "text": [
        "DEBUG:root:curr_query = {'$or': [{'metadata.key': 'statemachine/transition'}], 'metadata.write_ts': {'$gte': 1449174000, '$lt': 1449212743}, 'user_id': UUID('fd7b4c2e-2c8b-3bfa-94f0-d1e3ecbd5fb7')}, sort_key = metadata.write_ts\n"
       ]
      },
      {
       "output_type": "stream",
       "stream": "stderr",
       "text": [
        "DEBUG:root:Found 222 results\n"
       ]
      },
      {
       "output_type": "stream",
       "stream": "stderr",
       "text": [
        "DEBUG:root:curr_query = {'$or': [{'metadata.key': 'statemachine/transition'}], 'metadata.write_ts': {'$gte': 1449174000, '$lt': 1449212743}, 'user_id': UUID('86842c35-da28-32ed-a90e-2da6663c5c73')}, sort_key = metadata.write_ts\n"
       ]
      },
      {
       "output_type": "stream",
       "stream": "stderr",
       "text": [
        "DEBUG:root:Found 16 results\n"
       ]
      }
     ],
     "prompt_number": 22
    },
    {
     "cell_type": "code",
     "collapsed": false,
     "input": [
      "insert_transition_strings(all_iphone_transition_df + all_android_transition_df)"
     ],
     "language": "python",
     "metadata": {},
     "outputs": [],
     "prompt_number": 23
    },
    {
     "cell_type": "code",
     "collapsed": false,
     "input": [
      "for df in all_android_transition_df:\n",
      "    if len(df) > 0:\n",
      "        print df[(df.transition == 1) | (df.transition == 2)][[\"fmt_time\", \"transition_str\"]]"
     ],
     "language": "python",
     "metadata": {},
     "outputs": [
      {
       "output_type": "stream",
       "stream": "stdout",
       "text": [
        "                             fmt_time                  transition_str\n",
        "0    2015-12-03T15:47:54.873000-08:00  TransitionType.EXITED_GEOFENCE\n",
        "1    2015-12-03T15:48:20.046000-08:00   TransitionType.STOPPED_MOVING\n",
        "2    2015-12-03T15:48:20.490000-08:00  TransitionType.EXITED_GEOFENCE\n",
        "3    2015-12-03T15:48:39.468000-08:00   TransitionType.STOPPED_MOVING\n",
        "4    2015-12-03T15:48:39.857000-08:00  TransitionType.EXITED_GEOFENCE\n",
        "5    2015-12-03T15:49:02.037000-08:00   TransitionType.STOPPED_MOVING\n",
        "6    2015-12-03T15:49:02.448000-08:00  TransitionType.EXITED_GEOFENCE\n",
        "7    2015-12-03T15:49:21.572000-08:00   TransitionType.STOPPED_MOVING\n",
        "8    2015-12-03T15:49:22.016000-08:00  TransitionType.EXITED_GEOFENCE\n",
        "9    2015-12-03T15:49:43.561000-08:00   TransitionType.STOPPED_MOVING\n",
        "10   2015-12-03T15:49:43.940000-08:00  TransitionType.EXITED_GEOFENCE\n",
        "11   2015-12-03T15:50:05.808000-08:00   TransitionType.STOPPED_MOVING\n",
        "12   2015-12-03T15:50:06.169000-08:00  TransitionType.EXITED_GEOFENCE\n",
        "13   2015-12-03T15:50:27.579000-08:00   TransitionType.STOPPED_MOVING\n",
        "14   2015-12-03T15:50:28.155000-08:00  TransitionType.EXITED_GEOFENCE\n",
        "15   2015-12-03T15:50:47.649000-08:00   TransitionType.STOPPED_MOVING\n",
        "16   2015-12-03T15:50:48.131000-08:00  TransitionType.EXITED_GEOFENCE\n",
        "17   2015-12-03T15:51:07.630000-08:00   TransitionType.STOPPED_MOVING\n",
        "18   2015-12-03T15:51:08.036000-08:00  TransitionType.EXITED_GEOFENCE\n",
        "19   2015-12-03T15:51:30.080000-08:00   TransitionType.STOPPED_MOVING\n",
        "20   2015-12-03T15:51:30.500000-08:00  TransitionType.EXITED_GEOFENCE\n",
        "21   2015-12-03T15:51:49.667000-08:00   TransitionType.STOPPED_MOVING\n",
        "22   2015-12-03T15:51:51.111000-08:00  TransitionType.EXITED_GEOFENCE\n",
        "23   2015-12-03T15:52:10.795000-08:00   TransitionType.STOPPED_MOVING\n",
        "24   2015-12-03T15:52:11.208000-08:00  TransitionType.EXITED_GEOFENCE\n",
        "25   2015-12-03T15:52:32.173000-08:00   TransitionType.STOPPED_MOVING\n",
        "26   2015-12-03T15:52:32.499000-08:00  TransitionType.EXITED_GEOFENCE\n",
        "27   2015-12-03T15:52:49.333000-08:00   TransitionType.STOPPED_MOVING\n",
        "28   2015-12-03T15:52:49.697000-08:00  TransitionType.EXITED_GEOFENCE\n",
        "29   2015-12-03T15:53:12.543000-08:00   TransitionType.STOPPED_MOVING\n",
        "..                                ...                             ...\n",
        "192  2015-12-03T17:18:16.860000-08:00  TransitionType.EXITED_GEOFENCE\n",
        "193  2015-12-03T17:21:58.277000-08:00   TransitionType.STOPPED_MOVING\n",
        "194  2015-12-03T17:23:00.898000-08:00  TransitionType.EXITED_GEOFENCE\n",
        "195  2015-12-03T17:25:42.374000-08:00   TransitionType.STOPPED_MOVING\n",
        "196  2015-12-03T17:26:44.797000-08:00  TransitionType.EXITED_GEOFENCE\n",
        "197  2015-12-03T17:30:30.380000-08:00   TransitionType.STOPPED_MOVING\n",
        "198  2015-12-03T17:30:30.799000-08:00  TransitionType.EXITED_GEOFENCE\n",
        "199  2015-12-03T17:33:20.378000-08:00   TransitionType.STOPPED_MOVING\n",
        "200  2015-12-03T17:33:20.733000-08:00  TransitionType.EXITED_GEOFENCE\n",
        "201  2015-12-03T17:36:52.652000-08:00   TransitionType.STOPPED_MOVING\n",
        "202  2015-12-03T17:37:26.845000-08:00  TransitionType.EXITED_GEOFENCE\n",
        "203  2015-12-03T17:38:47.378000-08:00   TransitionType.STOPPED_MOVING\n",
        "204  2015-12-03T17:38:47.675000-08:00  TransitionType.EXITED_GEOFENCE\n",
        "205  2015-12-03T17:39:30.768000-08:00   TransitionType.STOPPED_MOVING\n",
        "206  2015-12-03T17:39:31.071000-08:00  TransitionType.EXITED_GEOFENCE\n",
        "207  2015-12-03T17:39:48.703000-08:00   TransitionType.STOPPED_MOVING\n",
        "208  2015-12-03T17:40:50.931000-08:00  TransitionType.EXITED_GEOFENCE\n",
        "209  2015-12-03T17:41:15.099000-08:00   TransitionType.STOPPED_MOVING\n",
        "210  2015-12-03T17:44:46.512000-08:00  TransitionType.EXITED_GEOFENCE\n",
        "211  2015-12-03T17:45:11.707000-08:00   TransitionType.STOPPED_MOVING\n",
        "212  2015-12-03T17:46:14.502000-08:00  TransitionType.EXITED_GEOFENCE\n",
        "213  2015-12-03T17:46:59.669000-08:00   TransitionType.STOPPED_MOVING\n",
        "214  2015-12-03T17:47:02.128000-08:00  TransitionType.EXITED_GEOFENCE\n",
        "215  2015-12-03T17:47:21.566000-08:00   TransitionType.STOPPED_MOVING\n",
        "216  2015-12-03T17:47:38.500000-08:00  TransitionType.EXITED_GEOFENCE\n",
        "217  2015-12-03T17:48:25.539000-08:00   TransitionType.STOPPED_MOVING\n",
        "218  2015-12-03T17:52:51.480000-08:00  TransitionType.EXITED_GEOFENCE\n",
        "219  2015-12-03T17:53:06.685000-08:00   TransitionType.STOPPED_MOVING\n",
        "220  2015-12-03T17:54:08.901000-08:00  TransitionType.EXITED_GEOFENCE\n",
        "221  2015-12-03T17:54:30.439000-08:00   TransitionType.STOPPED_MOVING\n",
        "\n",
        "[222 rows x 2 columns]\n",
        "                            fmt_time                  transition_str\n",
        "0   2015-12-03T12:26:35.183000-08:00  TransitionType.EXITED_GEOFENCE\n",
        "1   2015-12-03T12:26:55.583000-08:00   TransitionType.STOPPED_MOVING\n",
        "2   2015-12-03T12:28:00.332000-08:00  TransitionType.EXITED_GEOFENCE\n",
        "3   2015-12-03T12:28:19.978000-08:00   TransitionType.STOPPED_MOVING\n",
        "4   2015-12-03T12:29:25.592000-08:00  TransitionType.EXITED_GEOFENCE\n",
        "5   2015-12-03T12:29:48.765000-08:00   TransitionType.STOPPED_MOVING\n",
        "6          2015-12-03T12:30:54-08:00  TransitionType.EXITED_GEOFENCE\n",
        "7   2015-12-03T12:36:59.621000-08:00   TransitionType.STOPPED_MOVING\n",
        "8   2015-12-03T12:40:50.238000-08:00  TransitionType.EXITED_GEOFENCE\n",
        "9   2015-12-03T12:41:10.016000-08:00   TransitionType.STOPPED_MOVING\n",
        "10  2015-12-03T12:42:14.141000-08:00  TransitionType.EXITED_GEOFENCE\n",
        "11  2015-12-03T12:42:34.317000-08:00   TransitionType.STOPPED_MOVING\n",
        "12  2015-12-03T12:43:39.624000-08:00  TransitionType.EXITED_GEOFENCE\n",
        "13  2015-12-03T12:44:19.944000-08:00   TransitionType.STOPPED_MOVING\n",
        "14  2015-12-03T12:46:29.865000-08:00  TransitionType.EXITED_GEOFENCE\n",
        "15  2015-12-03T12:46:51.003000-08:00   TransitionType.STOPPED_MOVING\n"
       ]
      }
     ],
     "prompt_number": 25
    },
    {
     "cell_type": "code",
     "collapsed": false,
     "input": [
      "for df in all_iphone_transition_df:\n",
      "    if len(df) > 0:\n",
      "        print df[(df.transition == 1) | (df.transition == 2)][[\"fmt_time\", \"transition_str\"]]"
     ],
     "language": "python",
     "metadata": {},
     "outputs": [
      {
       "output_type": "stream",
       "stream": "stdout",
       "text": [
        "                            fmt_time                  transition_str\n",
        "0   2015-12-03T12:30:09.682628-08:00  TransitionType.EXITED_GEOFENCE\n",
        "14  2015-12-03T15:00:05.789580-08:00   TransitionType.STOPPED_MOVING\n",
        "15  2015-12-03T15:00:05.789580-08:00   TransitionType.STOPPED_MOVING\n",
        "16  2015-12-03T15:00:06.131735-08:00   TransitionType.STOPPED_MOVING\n",
        "17  2015-12-03T15:00:06.131735-08:00   TransitionType.STOPPED_MOVING\n",
        "41  2015-12-03T20:13:45.576358-08:00  TransitionType.EXITED_GEOFENCE\n",
        "42  2015-12-03T20:13:45.576358-08:00  TransitionType.EXITED_GEOFENCE\n",
        "52  2015-12-03T21:00:06.082938-08:00   TransitionType.STOPPED_MOVING\n",
        "53  2015-12-03T21:00:06.531404-08:00   TransitionType.STOPPED_MOVING\n",
        "                            fmt_time                  transition_str\n",
        "0   2015-12-03T12:28:13.203431-08:00  TransitionType.EXITED_GEOFENCE\n",
        "11  2015-12-03T15:00:05.578918-08:00   TransitionType.STOPPED_MOVING\n",
        "12  2015-12-03T15:00:05.917665-08:00   TransitionType.STOPPED_MOVING\n",
        "13  2015-12-03T15:44:23.179519-08:00  TransitionType.EXITED_GEOFENCE\n",
        "20  2015-12-03T16:00:05.477690-08:00   TransitionType.STOPPED_MOVING\n",
        "21  2015-12-03T16:00:05.719526-08:00   TransitionType.STOPPED_MOVING\n",
        "29  2015-12-03T17:47:24.996959-08:00  TransitionType.EXITED_GEOFENCE\n",
        "36  2015-12-03T19:00:05.332875-08:00   TransitionType.STOPPED_MOVING\n",
        "37  2015-12-03T19:00:05.561473-08:00   TransitionType.STOPPED_MOVING\n",
        "39  2015-12-03T20:15:10.432404-08:00  TransitionType.EXITED_GEOFENCE\n"
       ]
      }
     ],
     "prompt_number": 28
    },
    {
     "cell_type": "code",
     "collapsed": false,
     "input": [
      "ground_truth_df = pd.read_csv(\"../ground_truth/geofence_exit_triggers.thu.2015-12-03/states.summary\")"
     ],
     "language": "python",
     "metadata": {},
     "outputs": [],
     "prompt_number": 36
    },
    {
     "cell_type": "code",
     "collapsed": false,
     "input": [
      "ground_truth_df"
     ],
     "language": "python",
     "metadata": {},
     "outputs": [
      {
       "html": [
        "<div style=\"max-width:1500px;overflow:auto;\">\n",
        "<table border=\"1\" class=\"dataframe\">\n",
        "  <thead>\n",
        "    <tr style=\"text-align: right;\">\n",
        "      <th></th>\n",
        "      <th>start_ts</th>\n",
        "      <th>start_fmt_time</th>\n",
        "      <th>end_ts</th>\n",
        "      <th>end_fmt_time</th>\n",
        "      <th>state</th>\n",
        "    </tr>\n",
        "  </thead>\n",
        "  <tbody>\n",
        "    <tr>\n",
        "      <th>0</th>\n",
        "      <td>1449174317</td>\n",
        "      <td>2015-12-03T12:25:17-08:00</td>\n",
        "      <td>1449176691</td>\n",
        "      <td>2015-12-03T13:04:51-08:00</td>\n",
        "      <td>moving</td>\n",
        "    </tr>\n",
        "    <tr>\n",
        "      <th>1</th>\n",
        "      <td>1449176691</td>\n",
        "      <td>2015-12-03T13:04:51-08:00</td>\n",
        "      <td>1449186063</td>\n",
        "      <td>2015-12-03T15:41:03-08:00</td>\n",
        "      <td>active</td>\n",
        "    </tr>\n",
        "    <tr>\n",
        "      <th>2</th>\n",
        "      <td>1449186063</td>\n",
        "      <td>2015-12-03T15:41:03-08:00</td>\n",
        "      <td>1449186355</td>\n",
        "      <td>2015-12-03T15:45:55-08:00</td>\n",
        "      <td>moving</td>\n",
        "    </tr>\n",
        "    <tr>\n",
        "      <th>3</th>\n",
        "      <td>1449186355</td>\n",
        "      <td>2015-12-03T15:45:55-08:00</td>\n",
        "      <td>1449189353</td>\n",
        "      <td>2015-12-03T16:35:53-08:00</td>\n",
        "      <td>active</td>\n",
        "    </tr>\n",
        "    <tr>\n",
        "      <th>4</th>\n",
        "      <td>1449189353</td>\n",
        "      <td>2015-12-03T16:35:53-08:00</td>\n",
        "      <td>1449189707</td>\n",
        "      <td>2015-12-03T16:41:47-08:00</td>\n",
        "      <td>moving</td>\n",
        "    </tr>\n",
        "    <tr>\n",
        "      <th>5</th>\n",
        "      <td>1449189707</td>\n",
        "      <td>2015-12-03T16:41:47-08:00</td>\n",
        "      <td>1449193436</td>\n",
        "      <td>2015-12-03T17:43:56-08:00</td>\n",
        "      <td>active</td>\n",
        "    </tr>\n",
        "    <tr>\n",
        "      <th>6</th>\n",
        "      <td>1449193436</td>\n",
        "      <td>2015-12-03T17:43:56-08:00</td>\n",
        "      <td>1449194102</td>\n",
        "      <td>2015-12-03T17:55:02-08:00</td>\n",
        "      <td>moving</td>\n",
        "    </tr>\n",
        "    <tr>\n",
        "      <th>7</th>\n",
        "      <td>1449194102</td>\n",
        "      <td>2015-12-03T17:55:02-08:00</td>\n",
        "      <td>1449202323</td>\n",
        "      <td>2015-12-03T20:12:03-08:00</td>\n",
        "      <td>active</td>\n",
        "    </tr>\n",
        "    <tr>\n",
        "      <th>8</th>\n",
        "      <td>1449202323</td>\n",
        "      <td>2015-12-03T20:12:03-08:00</td>\n",
        "      <td>1449203103</td>\n",
        "      <td>2015-12-03T20:25:03-08:00</td>\n",
        "      <td>moving</td>\n",
        "    </tr>\n",
        "    <tr>\n",
        "      <th>9</th>\n",
        "      <td>1449203103</td>\n",
        "      <td>2015-12-03T20:25:03-08:00</td>\n",
        "      <td>1449212742</td>\n",
        "      <td>2015-12-03T23:05:42-08:00</td>\n",
        "      <td>active</td>\n",
        "    </tr>\n",
        "  </tbody>\n",
        "</table>\n",
        "</div>"
       ],
       "metadata": {},
       "output_type": "pyout",
       "prompt_number": 37,
       "text": [
        "     start_ts             start_fmt_time      end_ts  \\\n",
        "0  1449174317  2015-12-03T12:25:17-08:00  1449176691   \n",
        "1  1449176691  2015-12-03T13:04:51-08:00  1449186063   \n",
        "2  1449186063  2015-12-03T15:41:03-08:00  1449186355   \n",
        "3  1449186355  2015-12-03T15:45:55-08:00  1449189353   \n",
        "4  1449189353  2015-12-03T16:35:53-08:00  1449189707   \n",
        "5  1449189707  2015-12-03T16:41:47-08:00  1449193436   \n",
        "6  1449193436  2015-12-03T17:43:56-08:00  1449194102   \n",
        "7  1449194102  2015-12-03T17:55:02-08:00  1449202323   \n",
        "8  1449202323  2015-12-03T20:12:03-08:00  1449203103   \n",
        "9  1449203103  2015-12-03T20:25:03-08:00  1449212742   \n",
        "\n",
        "                end_fmt_time   state  \n",
        "0  2015-12-03T13:04:51-08:00  moving  \n",
        "1  2015-12-03T15:41:03-08:00  active  \n",
        "2  2015-12-03T15:45:55-08:00  moving  \n",
        "3  2015-12-03T16:35:53-08:00  active  \n",
        "4  2015-12-03T16:41:47-08:00  moving  \n",
        "5  2015-12-03T17:43:56-08:00  active  \n",
        "6  2015-12-03T17:55:02-08:00  moving  \n",
        "7  2015-12-03T20:12:03-08:00  active  \n",
        "8  2015-12-03T20:25:03-08:00  moving  \n",
        "9  2015-12-03T23:05:42-08:00  active  "
       ]
      }
     ],
     "prompt_number": 37
    },
    {
     "cell_type": "code",
     "collapsed": false,
     "input": [
      "moving_df = ground_truth_df[ground_truth_df.state == \"moving\"]\n",
      "moving_df"
     ],
     "language": "python",
     "metadata": {},
     "outputs": [
      {
       "html": [
        "<div style=\"max-width:1500px;overflow:auto;\">\n",
        "<table border=\"1\" class=\"dataframe\">\n",
        "  <thead>\n",
        "    <tr style=\"text-align: right;\">\n",
        "      <th></th>\n",
        "      <th>start_ts</th>\n",
        "      <th>start_fmt_time</th>\n",
        "      <th>end_ts</th>\n",
        "      <th>end_fmt_time</th>\n",
        "      <th>state</th>\n",
        "    </tr>\n",
        "  </thead>\n",
        "  <tbody>\n",
        "    <tr>\n",
        "      <th>0</th>\n",
        "      <td>1449174317</td>\n",
        "      <td>2015-12-03T12:25:17-08:00</td>\n",
        "      <td>1449176691</td>\n",
        "      <td>2015-12-03T13:04:51-08:00</td>\n",
        "      <td>moving</td>\n",
        "    </tr>\n",
        "    <tr>\n",
        "      <th>2</th>\n",
        "      <td>1449186063</td>\n",
        "      <td>2015-12-03T15:41:03-08:00</td>\n",
        "      <td>1449186355</td>\n",
        "      <td>2015-12-03T15:45:55-08:00</td>\n",
        "      <td>moving</td>\n",
        "    </tr>\n",
        "    <tr>\n",
        "      <th>4</th>\n",
        "      <td>1449189353</td>\n",
        "      <td>2015-12-03T16:35:53-08:00</td>\n",
        "      <td>1449189707</td>\n",
        "      <td>2015-12-03T16:41:47-08:00</td>\n",
        "      <td>moving</td>\n",
        "    </tr>\n",
        "    <tr>\n",
        "      <th>6</th>\n",
        "      <td>1449193436</td>\n",
        "      <td>2015-12-03T17:43:56-08:00</td>\n",
        "      <td>1449194102</td>\n",
        "      <td>2015-12-03T17:55:02-08:00</td>\n",
        "      <td>moving</td>\n",
        "    </tr>\n",
        "    <tr>\n",
        "      <th>8</th>\n",
        "      <td>1449202323</td>\n",
        "      <td>2015-12-03T20:12:03-08:00</td>\n",
        "      <td>1449203103</td>\n",
        "      <td>2015-12-03T20:25:03-08:00</td>\n",
        "      <td>moving</td>\n",
        "    </tr>\n",
        "  </tbody>\n",
        "</table>\n",
        "</div>"
       ],
       "metadata": {},
       "output_type": "pyout",
       "prompt_number": 47,
       "text": [
        "     start_ts             start_fmt_time      end_ts  \\\n",
        "0  1449174317  2015-12-03T12:25:17-08:00  1449176691   \n",
        "2  1449186063  2015-12-03T15:41:03-08:00  1449186355   \n",
        "4  1449189353  2015-12-03T16:35:53-08:00  1449189707   \n",
        "6  1449193436  2015-12-03T17:43:56-08:00  1449194102   \n",
        "8  1449202323  2015-12-03T20:12:03-08:00  1449203103   \n",
        "\n",
        "                end_fmt_time   state  \n",
        "0  2015-12-03T13:04:51-08:00  moving  \n",
        "2  2015-12-03T15:45:55-08:00  moving  \n",
        "4  2015-12-03T16:41:47-08:00  moving  \n",
        "6  2015-12-03T17:55:02-08:00  moving  \n",
        "8  2015-12-03T20:25:03-08:00  moving  "
       ]
      }
     ],
     "prompt_number": 47
    },
    {
     "cell_type": "code",
     "collapsed": false,
     "input": [
      "evaluate_trip_accuracy(\"to_school_and_back\", moving_df.iloc[0].start_ts, moving_df.iloc[0].end_ts)"
     ],
     "language": "python",
     "metadata": {},
     "outputs": [
      {
       "output_type": "stream",
       "stream": "stderr",
       "text": [
        "DEBUG:root:curr_query = {'$or': [{'metadata.key': 'background/location'}], 'metadata.write_ts': {'$gte': 1449174317, '$lt': 1449176691}, 'user_id': UUID('079e0f1a-c440-3d7c-b0e7-de160f748e35')}, sort_key = metadata.write_ts\n"
       ]
      },
      {
       "output_type": "stream",
       "stream": "stderr",
       "text": [
        "DEBUG:root:Found 577 results\n"
       ]
      },
      {
       "output_type": "stream",
       "stream": "stderr",
       "text": [
        "DEBUG:root:curr_query = {'$or': [{'metadata.key': 'background/location'}], 'metadata.write_ts': {'$gte': 1449174317, '$lt': 1449176691}, 'user_id': UUID('c76a0487-7e5a-3b17-a449-47be666b36f6')}, sort_key = metadata.write_ts\n"
       ]
      },
      {
       "output_type": "stream",
       "stream": "stderr",
       "text": [
        "DEBUG:root:Found 463 results\n"
       ]
      },
      {
       "output_type": "stream",
       "stream": "stderr",
       "text": [
        "DEBUG:root:curr_query = {'$or': [{'metadata.key': 'background/location'}], 'metadata.write_ts': {'$gte': 1449174317, '$lt': 1449176691}, 'user_id': UUID('c528bcd2-a88b-3e82-be62-ef4f2396967a')}, sort_key = metadata.write_ts\n"
       ]
      },
      {
       "output_type": "stream",
       "stream": "stderr",
       "text": [
        "DEBUG:root:Found 285 results\n"
       ]
      },
      {
       "output_type": "stream",
       "stream": "stderr",
       "text": [
        "DEBUG:root:curr_query = {'$or': [{'metadata.key': 'background/location'}], 'metadata.write_ts': {'$gte': 1449174317, '$lt': 1449176691}, 'user_id': UUID('e471711e-bd14-3dbe-80b6-9c7d92ecc296')}, sort_key = metadata.write_ts\n"
       ]
      },
      {
       "output_type": "stream",
       "stream": "stderr",
       "text": [
        "DEBUG:root:Found 2448 results\n"
       ]
      },
      {
       "output_type": "stream",
       "stream": "stderr",
       "text": [
        "DEBUG:root:curr_query = {'$or': [{'metadata.key': 'background/location'}], 'metadata.write_ts': {'$gte': 1449174317, '$lt': 1449176691}, 'user_id': UUID('fd7b4c2e-2c8b-3bfa-94f0-d1e3ecbd5fb7')}, sort_key = metadata.write_ts\n"
       ]
      },
      {
       "output_type": "stream",
       "stream": "stderr",
       "text": [
        "DEBUG:root:Found 0 results\n"
       ]
      },
      {
       "output_type": "stream",
       "stream": "stderr",
       "text": [
        "DEBUG:root:curr_query = {'$or': [{'metadata.key': 'background/location'}], 'metadata.write_ts': {'$gte': 1449174317, '$lt': 1449176691}, 'user_id': UUID('86842c35-da28-32ed-a90e-2da6663c5c73')}, sort_key = metadata.write_ts\n"
       ]
      },
      {
       "output_type": "stream",
       "stream": "stderr",
       "text": [
        "DEBUG:root:Found 268 results\n"
       ]
      },
      {
       "output_type": "stream",
       "stream": "stderr",
       "text": [
        "DEBUG:root:curr_query = {'$or': [{'metadata.key': 'statemachine/transition'}], 'metadata.write_ts': {'$gte': 1449174317, '$lt': 1449176691}, 'user_id': UUID('079e0f1a-c440-3d7c-b0e7-de160f748e35')}, sort_key = metadata.write_ts\n"
       ]
      },
      {
       "output_type": "stream",
       "stream": "stderr",
       "text": [
        "DEBUG:root:Found 0 results\n"
       ]
      },
      {
       "output_type": "stream",
       "stream": "stderr",
       "text": [
        "DEBUG:root:curr_query = {'$or': [{'metadata.key': 'statemachine/transition'}], 'metadata.write_ts': {'$gte': 1449174317, '$lt': 1449176691}, 'user_id': UUID('c76a0487-7e5a-3b17-a449-47be666b36f6')}, sort_key = metadata.write_ts\n"
       ]
      },
      {
       "output_type": "stream",
       "stream": "stderr",
       "text": [
        "DEBUG:root:Found 6 results\n"
       ]
      },
      {
       "output_type": "stream",
       "stream": "stderr",
       "text": [
        "DEBUG:root:curr_query = {'$or': [{'metadata.key': 'statemachine/transition'}], 'metadata.write_ts': {'$gte': 1449174317, '$lt': 1449176691}, 'user_id': UUID('c528bcd2-a88b-3e82-be62-ef4f2396967a')}, sort_key = metadata.write_ts\n"
       ]
      },
      {
       "output_type": "stream",
       "stream": "stderr",
       "text": [
        "DEBUG:root:Found 6 results\n"
       ]
      },
      {
       "output_type": "stream",
       "stream": "stderr",
       "text": [
        "DEBUG:root:curr_query = {'$or': [{'metadata.key': 'statemachine/transition'}], 'metadata.write_ts': {'$gte': 1449174317, '$lt': 1449176691}, 'user_id': UUID('e471711e-bd14-3dbe-80b6-9c7d92ecc296')}, sort_key = metadata.write_ts\n"
       ]
      },
      {
       "output_type": "stream",
       "stream": "stderr",
       "text": [
        "DEBUG:root:Found 0 results\n"
       ]
      },
      {
       "output_type": "stream",
       "stream": "stderr",
       "text": [
        "DEBUG:root:curr_query = {'$or': [{'metadata.key': 'statemachine/transition'}], 'metadata.write_ts': {'$gte': 1449174317, '$lt': 1449176691}, 'user_id': UUID('fd7b4c2e-2c8b-3bfa-94f0-d1e3ecbd5fb7')}, sort_key = metadata.write_ts\n"
       ]
      },
      {
       "output_type": "stream",
       "stream": "stderr",
       "text": [
        "DEBUG:root:Found 0 results\n"
       ]
      },
      {
       "output_type": "stream",
       "stream": "stderr",
       "text": [
        "DEBUG:root:curr_query = {'$or': [{'metadata.key': 'statemachine/transition'}], 'metadata.write_ts': {'$gte': 1449174317, '$lt': 1449176691}, 'user_id': UUID('86842c35-da28-32ed-a90e-2da6663c5c73')}, sort_key = metadata.write_ts\n"
       ]
      },
      {
       "output_type": "stream",
       "stream": "stderr",
       "text": [
        "DEBUG:root:Found 16 results\n"
       ]
      },
      {
       "output_type": "stream",
       "stream": "stdout",
       "text": [
        "Generating trip for to_school_and_back\n",
        "length of lat_means = 3"
       ]
      },
      {
       "output_type": "stream",
       "stream": "stdout",
       "text": [
        "\n",
        "Considering phone 0, from 2015-12-03 12:25:17 -> 2015-12-03 13:04:51\n",
        "len(transition_df) = 0, ground_truth_exit_ts = 1449174317, geofence was not exited!!"
       ]
      },
      {
       "output_type": "stream",
       "stream": "stdout",
       "text": [
        "\n",
        "Considering phone 1, from 2015-12-03 12:25:17 -> 2015-12-03 13:04:51\n",
        "ground truth exit = 2015-12-03 12:25:17, geofence_exit_ts = +292.682628, first location point = +292.736145"
       ]
      },
      {
       "output_type": "stream",
       "stream": "stdout",
       "text": [
        "\n",
        "Considering phone 2, from 2015-12-03 12:25:17 -> 2015-12-03 13:04:51\n",
        "ground truth exit = 2015-12-03 12:25:17, geofence_exit_ts = +176.203431, first location point = +998.232714"
       ]
      },
      {
       "output_type": "stream",
       "stream": "stdout",
       "text": [
        "\n",
        "length of lat_means = 3\n",
        "Considering phone 0, from 2015-12-03 12:25:17 -> 2015-12-03 13:04:51\n",
        "Series([], Name: ts, dtype: float64)"
       ]
      },
      {
       "output_type": "stream",
       "stream": "stdout",
       "text": [
        "\n",
        "len(transition_df) = 0, ground_truth_exit_ts = 1449174317, geofence was not exited!!\n",
        "Considering phone 1, from 2015-12-03 12:25:17 -> 2015-12-03 13:04:51\n",
        "No data to plot for dataframe 1\n",
        "Fake data length = 80, fill_val = 37\n",
        "len(transition_df) = 0, ground_truth_exit_ts = 1449174317, geofence was not exited!!\n",
        "Considering phone 2, from 2015-12-03 12:25:17 -> 2015-12-03 13:04:51\n",
        "12      66\n",
        "24      65\n",
        "36      73\n",
        "217    231\n",
        "229     64\n",
        "Name: ts, dtype: float64"
       ]
      },
      {
       "output_type": "stream",
       "stream": "stdout",
       "text": [
        "\n",
        "ground truth exit = 2015-12-03 12:25:17, geofence_exit_ts = +78.183000, first location point = +79.000000\n"
       ]
      },
      {
       "metadata": {},
       "output_type": "pyout",
       "prompt_number": 48,
       "text": [
        "(<matplotlib.figure.Figure at 0x11435dd50>,\n",
        " <matplotlib.figure.Figure at 0x116849510>)"
       ]
      },
      {
       "metadata": {},
       "output_type": "display_data",
       "png": "[encoded data removed]",
       "text": [
        "<matplotlib.figure.Figure at 0x11435dd50>"
       ]
      },
      {
       "metadata": {},
       "output_type": "display_data",
       "png": "[encoded data removed]",
       "text": [
        "<matplotlib.figure.Figure at 0x116849510>"
       ]
      }
     ],
     "prompt_number": 48
    },
    {
     "cell_type": "code",
     "collapsed": false,
     "input": [
      "for idx, row in moving_df.iterrows():\n",
      "    evaluate_trip_accuracy(\"%s -> %s\" % (row.start_ts, row.end_ts), row.start_ts, row.end_ts)"
     ],
     "language": "python",
     "metadata": {},
     "outputs": [
      {
       "output_type": "stream",
       "stream": "stderr",
       "text": [
        "DEBUG:root:curr_query = {'$or': [{'metadata.key': 'background/location'}], 'metadata.write_ts': {'$gte': 1449174317, '$lt': 1449176691}, 'user_id': UUID('079e0f1a-c440-3d7c-b0e7-de160f748e35')}, sort_key = metadata.write_ts\n"
       ]
      },
      {
       "output_type": "stream",
       "stream": "stderr",
       "text": [
        "DEBUG:root:Found 577 results\n"
       ]
      },
      {
       "output_type": "stream",
       "stream": "stderr",
       "text": [
        "DEBUG:root:curr_query = {'$or': [{'metadata.key': 'background/location'}], 'metadata.write_ts': {'$gte': 1449174317, '$lt': 1449176691}, 'user_id': UUID('c76a0487-7e5a-3b17-a449-47be666b36f6')}, sort_key = metadata.write_ts\n"
       ]
      },
      {
       "output_type": "stream",
       "stream": "stderr",
       "text": [
        "DEBUG:root:Found 463 results\n"
       ]
      },
      {
       "output_type": "stream",
       "stream": "stderr",
       "text": [
        "DEBUG:root:curr_query = {'$or': [{'metadata.key': 'background/location'}], 'metadata.write_ts': {'$gte': 1449174317, '$lt': 1449176691}, 'user_id': UUID('c528bcd2-a88b-3e82-be62-ef4f2396967a')}, sort_key = metadata.write_ts\n"
       ]
      },
      {
       "output_type": "stream",
       "stream": "stderr",
       "text": [
        "DEBUG:root:Found 285 results\n"
       ]
      },
      {
       "output_type": "stream",
       "stream": "stderr",
       "text": [
        "DEBUG:root:curr_query = {'$or': [{'metadata.key': 'background/location'}], 'metadata.write_ts': {'$gte': 1449174317, '$lt': 1449176691}, 'user_id': UUID('e471711e-bd14-3dbe-80b6-9c7d92ecc296')}, sort_key = metadata.write_ts\n"
       ]
      },
      {
       "output_type": "stream",
       "stream": "stderr",
       "text": [
        "DEBUG:root:Found 2448 results\n"
       ]
      },
      {
       "output_type": "stream",
       "stream": "stderr",
       "text": [
        "DEBUG:root:curr_query = {'$or': [{'metadata.key': 'background/location'}], 'metadata.write_ts': {'$gte': 1449174317, '$lt': 1449176691}, 'user_id': UUID('fd7b4c2e-2c8b-3bfa-94f0-d1e3ecbd5fb7')}, sort_key = metadata.write_ts\n"
       ]
      },
      {
       "output_type": "stream",
       "stream": "stderr",
       "text": [
        "DEBUG:root:Found 0 results\n"
       ]
      },
      {
       "output_type": "stream",
       "stream": "stderr",
       "text": [
        "DEBUG:root:curr_query = {'$or': [{'metadata.key': 'background/location'}], 'metadata.write_ts': {'$gte': 1449174317, '$lt': 1449176691}, 'user_id': UUID('86842c35-da28-32ed-a90e-2da6663c5c73')}, sort_key = metadata.write_ts\n"
       ]
      },
      {
       "output_type": "stream",
       "stream": "stderr",
       "text": [
        "DEBUG:root:Found 268 results\n"
       ]
      },
      {
       "output_type": "stream",
       "stream": "stderr",
       "text": [
        "DEBUG:root:curr_query = {'$or': [{'metadata.key': 'statemachine/transition'}], 'metadata.write_ts': {'$gte': 1449174317, '$lt': 1449176691}, 'user_id': UUID('079e0f1a-c440-3d7c-b0e7-de160f748e35')}, sort_key = metadata.write_ts\n"
       ]
      },
      {
       "output_type": "stream",
       "stream": "stderr",
       "text": [
        "DEBUG:root:Found 0 results\n"
       ]
      },
      {
       "output_type": "stream",
       "stream": "stderr",
       "text": [
        "DEBUG:root:curr_query = {'$or': [{'metadata.key': 'statemachine/transition'}], 'metadata.write_ts': {'$gte': 1449174317, '$lt': 1449176691}, 'user_id': UUID('c76a0487-7e5a-3b17-a449-47be666b36f6')}, sort_key = metadata.write_ts\n"
       ]
      },
      {
       "output_type": "stream",
       "stream": "stderr",
       "text": [
        "DEBUG:root:Found 6 results\n"
       ]
      },
      {
       "output_type": "stream",
       "stream": "stderr",
       "text": [
        "DEBUG:root:curr_query = {'$or': [{'metadata.key': 'statemachine/transition'}], 'metadata.write_ts': {'$gte': 1449174317, '$lt': 1449176691}, 'user_id': UUID('c528bcd2-a88b-3e82-be62-ef4f2396967a')}, sort_key = metadata.write_ts\n"
       ]
      },
      {
       "output_type": "stream",
       "stream": "stderr",
       "text": [
        "DEBUG:root:Found 6 results\n"
       ]
      },
      {
       "output_type": "stream",
       "stream": "stderr",
       "text": [
        "DEBUG:root:curr_query = {'$or': [{'metadata.key': 'statemachine/transition'}], 'metadata.write_ts': {'$gte': 1449174317, '$lt': 1449176691}, 'user_id': UUID('e471711e-bd14-3dbe-80b6-9c7d92ecc296')}, sort_key = metadata.write_ts\n"
       ]
      },
      {
       "output_type": "stream",
       "stream": "stderr",
       "text": [
        "DEBUG:root:Found 0 results\n"
       ]
      },
      {
       "output_type": "stream",
       "stream": "stderr",
       "text": [
        "DEBUG:root:curr_query = {'$or': [{'metadata.key': 'statemachine/transition'}], 'metadata.write_ts': {'$gte': 1449174317, '$lt': 1449176691}, 'user_id': UUID('fd7b4c2e-2c8b-3bfa-94f0-d1e3ecbd5fb7')}, sort_key = metadata.write_ts\n"
       ]
      },
      {
       "output_type": "stream",
       "stream": "stderr",
       "text": [
        "DEBUG:root:Found 0 results\n"
       ]
      },
      {
       "output_type": "stream",
       "stream": "stderr",
       "text": [
        "DEBUG:root:curr_query = {'$or': [{'metadata.key': 'statemachine/transition'}], 'metadata.write_ts': {'$gte': 1449174317, '$lt': 1449176691}, 'user_id': UUID('86842c35-da28-32ed-a90e-2da6663c5c73')}, sort_key = metadata.write_ts\n"
       ]
      },
      {
       "output_type": "stream",
       "stream": "stderr",
       "text": [
        "DEBUG:root:Found 16 results\n"
       ]
      },
      {
       "output_type": "stream",
       "stream": "stdout",
       "text": [
        "Generating trip for 1449174317 -> 1449176691\n",
        "length of lat_means = 3"
       ]
      },
      {
       "output_type": "stream",
       "stream": "stdout",
       "text": [
        "\n",
        "Considering phone 0, from 2015-12-03 12:25:17 -> 2015-12-03 13:04:51\n",
        "len(transition_df) = 0, ground_truth_exit_ts = 1449174317, geofence was not exited!!"
       ]
      },
      {
       "output_type": "stream",
       "stream": "stdout",
       "text": [
        "\n",
        "Considering phone 1, from 2015-12-03 12:25:17 -> 2015-12-03 13:04:51\n",
        "ground truth exit = 2015-12-03 12:25:17, geofence_exit_ts = +292.682628, first location point = +292.736145"
       ]
      },
      {
       "output_type": "stream",
       "stream": "stdout",
       "text": [
        "\n",
        "Considering phone 2, from 2015-12-03 12:25:17 -> 2015-12-03 13:04:51\n",
        "ground truth exit = 2015-12-03 12:25:17, geofence_exit_ts = +176.203431, first location point = +998.232714"
       ]
      },
      {
       "output_type": "stream",
       "stream": "stdout",
       "text": [
        "\n",
        "length of lat_means = 3\n",
        "Considering phone 0, from 2015-12-03 12:25:17 -> 2015-12-03 13:04:51\n",
        "Series([], Name: ts, dtype: float64)"
       ]
      },
      {
       "output_type": "stream",
       "stream": "stdout",
       "text": [
        "\n",
        "len(transition_df) = 0, ground_truth_exit_ts = 1449174317, geofence was not exited!!\n",
        "Considering phone 1, from 2015-12-03 12:25:17 -> 2015-12-03 13:04:51\n",
        "No data to plot for dataframe 1\n",
        "Fake data length = 80, fill_val = 37\n",
        "len(transition_df) = 0, ground_truth_exit_ts = 1449174317, geofence was not exited!!\n",
        "Considering phone 2, from 2015-12-03 12:25:17 -> 2015-12-03 13:04:51\n",
        "12      66\n",
        "24      65\n",
        "36      73\n",
        "217    231\n",
        "229     64\n",
        "Name: ts, dtype: float64"
       ]
      },
      {
       "output_type": "stream",
       "stream": "stderr",
       "text": [
        "DEBUG:root:curr_query = {'$or': [{'metadata.key': 'background/location'}], 'metadata.write_ts': {'$gte': 1449186063, '$lt': 1449186355}, 'user_id': UUID('079e0f1a-c440-3d7c-b0e7-de160f748e35')}, sort_key = metadata.write_ts\n"
       ]
      },
      {
       "output_type": "stream",
       "stream": "stderr",
       "text": [
        "DEBUG:root:Found 150 results\n"
       ]
      },
      {
       "output_type": "stream",
       "stream": "stderr",
       "text": [
        "DEBUG:root:curr_query = {'$or': [{'metadata.key': 'background/location'}], 'metadata.write_ts': {'$gte': 1449186063, '$lt': 1449186355}, 'user_id': UUID('c76a0487-7e5a-3b17-a449-47be666b36f6')}, sort_key = metadata.write_ts\n"
       ]
      },
      {
       "output_type": "stream",
       "stream": "stderr",
       "text": [
        "DEBUG:root:Found 0 results\n"
       ]
      },
      {
       "output_type": "stream",
       "stream": "stderr",
       "text": [
        "DEBUG:root:curr_query = {'$or': [{'metadata.key': 'background/location'}], 'metadata.write_ts': {'$gte': 1449186063, '$lt': 1449186355}, 'user_id': UUID('c528bcd2-a88b-3e82-be62-ef4f2396967a')}, sort_key = metadata.write_ts\n"
       ]
      },
      {
       "output_type": "stream",
       "stream": "stderr",
       "text": [
        "DEBUG:root:Found 50 results\n"
       ]
      },
      {
       "output_type": "stream",
       "stream": "stderr",
       "text": [
        "DEBUG:root:curr_query = {'$or': [{'metadata.key': 'background/location'}], 'metadata.write_ts': {'$gte': 1449186063, '$lt': 1449186355}, 'user_id': UUID('e471711e-bd14-3dbe-80b6-9c7d92ecc296')}, sort_key = metadata.write_ts\n"
       ]
      },
      {
       "output_type": "stream",
       "stream": "stderr",
       "text": [
        "DEBUG:root:Found 0 results\n"
       ]
      },
      {
       "output_type": "stream",
       "stream": "stderr",
       "text": [
        "DEBUG:root:curr_query = {'$or': [{'metadata.key': 'background/location'}], 'metadata.write_ts': {'$gte': 1449186063, '$lt': 1449186355}, 'user_id': UUID('fd7b4c2e-2c8b-3bfa-94f0-d1e3ecbd5fb7')}, sort_key = metadata.write_ts\n"
       ]
      },
      {
       "output_type": "stream",
       "stream": "stderr",
       "text": [
        "DEBUG:root:Found 0 results\n"
       ]
      },
      {
       "output_type": "stream",
       "stream": "stderr",
       "text": [
        "DEBUG:root:curr_query = {'$or': [{'metadata.key': 'background/location'}], 'metadata.write_ts': {'$gte': 1449186063, '$lt': 1449186355}, 'user_id': UUID('86842c35-da28-32ed-a90e-2da6663c5c73')}, sort_key = metadata.write_ts\n"
       ]
      },
      {
       "output_type": "stream",
       "stream": "stderr",
       "text": [
        "DEBUG:root:Found 0 results\n"
       ]
      },
      {
       "output_type": "stream",
       "stream": "stderr",
       "text": [
        "DEBUG:root:curr_query = {'$or': [{'metadata.key': 'statemachine/transition'}], 'metadata.write_ts': {'$gte': 1449186063, '$lt': 1449186355}, 'user_id': UUID('079e0f1a-c440-3d7c-b0e7-de160f748e35')}, sort_key = metadata.write_ts\n"
       ]
      },
      {
       "output_type": "stream",
       "stream": "stderr",
       "text": [
        "DEBUG:root:Found 0 results\n"
       ]
      },
      {
       "output_type": "stream",
       "stream": "stderr",
       "text": [
        "DEBUG:root:curr_query = {'$or': [{'metadata.key': 'statemachine/transition'}], 'metadata.write_ts': {'$gte': 1449186063, '$lt': 1449186355}, 'user_id': UUID('c76a0487-7e5a-3b17-a449-47be666b36f6')}, sort_key = metadata.write_ts\n"
       ]
      },
      {
       "output_type": "stream",
       "stream": "stderr",
       "text": [
        "DEBUG:root:Found 0 results\n"
       ]
      },
      {
       "output_type": "stream",
       "stream": "stderr",
       "text": [
        "DEBUG:root:curr_query = {'$or': [{'metadata.key': 'statemachine/transition'}], 'metadata.write_ts': {'$gte': 1449186063, '$lt': 1449186355}, 'user_id': UUID('c528bcd2-a88b-3e82-be62-ef4f2396967a')}, sort_key = metadata.write_ts\n"
       ]
      },
      {
       "output_type": "stream",
       "stream": "stderr",
       "text": [
        "DEBUG:root:Found 4 results\n"
       ]
      },
      {
       "output_type": "stream",
       "stream": "stderr",
       "text": [
        "DEBUG:root:curr_query = {'$or': [{'metadata.key': 'statemachine/transition'}], 'metadata.write_ts': {'$gte': 1449186063, '$lt': 1449186355}, 'user_id': UUID('e471711e-bd14-3dbe-80b6-9c7d92ecc296')}, sort_key = metadata.write_ts\n"
       ]
      },
      {
       "output_type": "stream",
       "stream": "stderr",
       "text": [
        "DEBUG:root:Found 0 results\n"
       ]
      },
      {
       "output_type": "stream",
       "stream": "stderr",
       "text": [
        "DEBUG:root:curr_query = {'$or': [{'metadata.key': 'statemachine/transition'}], 'metadata.write_ts': {'$gte': 1449186063, '$lt': 1449186355}, 'user_id': UUID('fd7b4c2e-2c8b-3bfa-94f0-d1e3ecbd5fb7')}, sort_key = metadata.write_ts\n"
       ]
      },
      {
       "output_type": "stream",
       "stream": "stderr",
       "text": [
        "DEBUG:root:Found 0 results\n"
       ]
      },
      {
       "output_type": "stream",
       "stream": "stderr",
       "text": [
        "DEBUG:root:curr_query = {'$or': [{'metadata.key': 'statemachine/transition'}], 'metadata.write_ts': {'$gte': 1449186063, '$lt': 1449186355}, 'user_id': UUID('86842c35-da28-32ed-a90e-2da6663c5c73')}, sort_key = metadata.write_ts\n"
       ]
      },
      {
       "output_type": "stream",
       "stream": "stderr",
       "text": [
        "DEBUG:root:Found 0 results\n"
       ]
      },
      {
       "output_type": "stream",
       "stream": "stdout",
       "text": [
        "\n",
        "ground truth exit = 2015-12-03 12:25:17, geofence_exit_ts = +78.183000, first location point = +79.000000\n",
        "Generating trip for 1449186063 -> 1449186355\n",
        "length of lat_means = 3"
       ]
      },
      {
       "output_type": "stream",
       "stream": "stdout",
       "text": [
        "\n",
        "Considering phone 0, from 2015-12-03 15:41:03 -> 2015-12-03 15:45:55\n",
        "len(transition_df) = 0, ground_truth_exit_ts = 1449186063, geofence was not exited!!"
       ]
      },
      {
       "output_type": "stream",
       "stream": "stdout",
       "text": [
        "\n",
        "Considering phone 1, from 2015-12-03 15:41:03 -> 2015-12-03 15:45:55\n",
        "No data to plot for dataframe 1\n",
        "Fake data length = 10, fill_val = 24\n",
        "len(transition_df) = 0, ground_truth_exit_ts = 1449186063, geofence was not exited!!\n",
        "Considering phone 2, from 2015-12-03 15:41:03 -> 2015-12-03 15:45:55\n",
        "ground truth exit = 2015-12-03 15:41:03, geofence_exit_ts = +200.179519, first location point = +200.232513"
       ]
      },
      {
       "output_type": "stream",
       "stream": "stdout",
       "text": [
        "\n",
        "length of lat_means = 3\n",
        "Considering phone 0, from 2015-12-03 15:41:03 -> 2015-12-03 15:45:55\n",
        "No data to plot for dataframe 0\n",
        "Fake data length = 10, fill_val = 24\n",
        "len(transition_df) = 0, ground_truth_exit_ts = 1449186063, geofence was not exited!!\n",
        "Considering phone 1, from 2015-12-03 15:41:03 -> 2015-12-03 15:45:55\n",
        "No data to plot for dataframe 1\n",
        "Fake data length = 10, fill_val = 24\n",
        "len(transition_df) = 0, ground_truth_exit_ts = 1449186063, geofence was not exited!!"
       ]
      },
      {
       "output_type": "stream",
       "stream": "stdout",
       "text": [
        "\n",
        "Considering phone 2, from 2015-12-03 15:41:03 -> 2015-12-03 15:45:55\n",
        "No data to plot for dataframe 2\n",
        "Fake data length = 10, fill_val = 24\n",
        "len(transition_df) = 0, ground_truth_exit_ts = 1449186063, geofence was not exited!!"
       ]
      },
      {
       "output_type": "stream",
       "stream": "stderr",
       "text": [
        "DEBUG:root:curr_query = {'$or': [{'metadata.key': 'background/location'}], 'metadata.write_ts': {'$gte': 1449189353, '$lt': 1449189707}, 'user_id': UUID('079e0f1a-c440-3d7c-b0e7-de160f748e35')}, sort_key = metadata.write_ts\n"
       ]
      },
      {
       "output_type": "stream",
       "stream": "stderr",
       "text": [
        "DEBUG:root:Found 0 results\n"
       ]
      },
      {
       "output_type": "stream",
       "stream": "stderr",
       "text": [
        "DEBUG:root:curr_query = {'$or': [{'metadata.key': 'background/location'}], 'metadata.write_ts': {'$gte': 1449189353, '$lt': 1449189707}, 'user_id': UUID('c76a0487-7e5a-3b17-a449-47be666b36f6')}, sort_key = metadata.write_ts\n"
       ]
      },
      {
       "output_type": "stream",
       "stream": "stderr",
       "text": [
        "DEBUG:root:Found 0 results\n"
       ]
      },
      {
       "output_type": "stream",
       "stream": "stderr",
       "text": [
        "DEBUG:root:curr_query = {'$or': [{'metadata.key': 'background/location'}], 'metadata.write_ts': {'$gte': 1449189353, '$lt': 1449189707}, 'user_id': UUID('c528bcd2-a88b-3e82-be62-ef4f2396967a')}, sort_key = metadata.write_ts\n"
       ]
      },
      {
       "output_type": "stream",
       "stream": "stderr",
       "text": [
        "DEBUG:root:Found 0 results\n"
       ]
      },
      {
       "output_type": "stream",
       "stream": "stderr",
       "text": [
        "DEBUG:root:curr_query = {'$or': [{'metadata.key': 'background/location'}], 'metadata.write_ts': {'$gte': 1449189353, '$lt': 1449189707}, 'user_id': UUID('e471711e-bd14-3dbe-80b6-9c7d92ecc296')}, sort_key = metadata.write_ts\n"
       ]
      },
      {
       "output_type": "stream",
       "stream": "stderr",
       "text": [
        "DEBUG:root:Found 0 results\n"
       ]
      },
      {
       "output_type": "stream",
       "stream": "stderr",
       "text": [
        "DEBUG:root:curr_query = {'$or': [{'metadata.key': 'background/location'}], 'metadata.write_ts': {'$gte': 1449189353, '$lt': 1449189707}, 'user_id': UUID('fd7b4c2e-2c8b-3bfa-94f0-d1e3ecbd5fb7')}, sort_key = metadata.write_ts\n"
       ]
      },
      {
       "output_type": "stream",
       "stream": "stderr",
       "text": [
        "DEBUG:root:Found 161 results\n"
       ]
      },
      {
       "output_type": "stream",
       "stream": "stderr",
       "text": [
        "DEBUG:root:curr_query = {'$or': [{'metadata.key': 'background/location'}], 'metadata.write_ts': {'$gte': 1449189353, '$lt': 1449189707}, 'user_id': UUID('86842c35-da28-32ed-a90e-2da6663c5c73')}, sort_key = metadata.write_ts\n"
       ]
      },
      {
       "output_type": "stream",
       "stream": "stderr",
       "text": [
        "DEBUG:root:Found 0 results\n"
       ]
      },
      {
       "output_type": "stream",
       "stream": "stderr",
       "text": [
        "DEBUG:root:curr_query = {'$or': [{'metadata.key': 'statemachine/transition'}], 'metadata.write_ts': {'$gte': 1449189353, '$lt': 1449189707}, 'user_id': UUID('079e0f1a-c440-3d7c-b0e7-de160f748e35')}, sort_key = metadata.write_ts\n"
       ]
      },
      {
       "output_type": "stream",
       "stream": "stderr",
       "text": [
        "DEBUG:root:Found 0 results\n"
       ]
      },
      {
       "output_type": "stream",
       "stream": "stderr",
       "text": [
        "DEBUG:root:curr_query = {'$or': [{'metadata.key': 'statemachine/transition'}], 'metadata.write_ts': {'$gte': 1449189353, '$lt': 1449189707}, 'user_id': UUID('c76a0487-7e5a-3b17-a449-47be666b36f6')}, sort_key = metadata.write_ts\n"
       ]
      },
      {
       "output_type": "stream",
       "stream": "stderr",
       "text": [
        "DEBUG:root:Found 0 results\n"
       ]
      },
      {
       "output_type": "stream",
       "stream": "stderr",
       "text": [
        "DEBUG:root:curr_query = {'$or': [{'metadata.key': 'statemachine/transition'}], 'metadata.write_ts': {'$gte': 1449189353, '$lt': 1449189707}, 'user_id': UUID('c528bcd2-a88b-3e82-be62-ef4f2396967a')}, sort_key = metadata.write_ts\n"
       ]
      },
      {
       "output_type": "stream",
       "stream": "stderr",
       "text": [
        "DEBUG:root:Found 0 results\n"
       ]
      },
      {
       "output_type": "stream",
       "stream": "stderr",
       "text": [
        "DEBUG:root:curr_query = {'$or': [{'metadata.key': 'statemachine/transition'}], 'metadata.write_ts': {'$gte': 1449189353, '$lt': 1449189707}, 'user_id': UUID('e471711e-bd14-3dbe-80b6-9c7d92ecc296')}, sort_key = metadata.write_ts\n"
       ]
      },
      {
       "output_type": "stream",
       "stream": "stderr",
       "text": [
        "DEBUG:root:Found 0 results\n"
       ]
      },
      {
       "output_type": "stream",
       "stream": "stderr",
       "text": [
        "DEBUG:root:curr_query = {'$or': [{'metadata.key': 'statemachine/transition'}], 'metadata.write_ts': {'$gte': 1449189353, '$lt': 1449189707}, 'user_id': UUID('fd7b4c2e-2c8b-3bfa-94f0-d1e3ecbd5fb7')}, sort_key = metadata.write_ts\n"
       ]
      },
      {
       "output_type": "stream",
       "stream": "stderr",
       "text": [
        "DEBUG:root:Found 1 results\n"
       ]
      },
      {
       "output_type": "stream",
       "stream": "stderr",
       "text": [
        "DEBUG:root:curr_query = {'$or': [{'metadata.key': 'statemachine/transition'}], 'metadata.write_ts': {'$gte': 1449189353, '$lt': 1449189707}, 'user_id': UUID('86842c35-da28-32ed-a90e-2da6663c5c73')}, sort_key = metadata.write_ts\n"
       ]
      },
      {
       "output_type": "stream",
       "stream": "stderr",
       "text": [
        "DEBUG:root:Found 0 results\n"
       ]
      },
      {
       "output_type": "stream",
       "stream": "stdout",
       "text": [
        "\n",
        "Generating trip for 1449189353 -> 1449189707\n",
        "length of lat_means = 3"
       ]
      },
      {
       "output_type": "stream",
       "stream": "stdout",
       "text": [
        "\n",
        "Considering phone 0, from 2015-12-03 16:35:53 -> 2015-12-03 16:41:47\n",
        "No data to plot for dataframe 0\n",
        "Fake data length = 12, fill_val = 0\n",
        "len(transition_df) = 0, ground_truth_exit_ts = 1449189353, geofence was not exited!!"
       ]
      },
      {
       "output_type": "stream",
       "stream": "stdout",
       "text": [
        "\n",
        "Considering phone 1, from 2015-12-03 16:35:53 -> 2015-12-03 16:41:47\n",
        "No data to plot for dataframe 1\n",
        "Fake data length = 12, fill_val = 0\n",
        "len(transition_df) = 0, ground_truth_exit_ts = 1449189353, geofence was not exited!!\n",
        "Considering phone 2, from 2015-12-03 16:35:53 -> 2015-12-03 16:41:47\n",
        "No data to plot for dataframe 2\n",
        "Fake data length = 12, fill_val = 0\n",
        "len(transition_df) = 0, ground_truth_exit_ts = 1449189353, geofence was not exited!!\n",
        "length of lat_means = 3\n",
        "Considering phone 0, from 2015-12-03 16:35:53 -> 2015-12-03 16:41:47\n",
        "No data to plot for dataframe 0\n",
        "Fake data length = 12, fill_val = 12\n",
        "len(transition_df) = 0, ground_truth_exit_ts = 1449189353, geofence was not exited!!"
       ]
      },
      {
       "output_type": "stream",
       "stream": "stdout",
       "text": [
        "\n",
        "Considering phone 1, from 2015-12-03 16:35:53 -> 2015-12-03 16:41:47\n",
        "Series([], Name: ts, dtype: float64)\n",
        "ground truth exit = 2015-12-03 16:35:53, geofence_exit_ts = +39.950000, first location point = +41.000000\n",
        "Considering phone 2, from 2015-12-03 16:35:53 -> 2015-12-03 16:41:47\n",
        "No data to plot for dataframe 2"
       ]
      },
      {
       "output_type": "stream",
       "stream": "stdout",
       "text": [
        "\n",
        "Fake data length = 12, fill_val = 12\n",
        "len(transition_df) = 0, ground_truth_exit_ts = 1449189353, geofence was not exited!!"
       ]
      },
      {
       "output_type": "stream",
       "stream": "stderr",
       "text": [
        "DEBUG:root:curr_query = {'$or': [{'metadata.key': 'background/location'}], 'metadata.write_ts': {'$gte': 1449193436, '$lt': 1449194102}, 'user_id': UUID('079e0f1a-c440-3d7c-b0e7-de160f748e35')}, sort_key = metadata.write_ts\n"
       ]
      },
      {
       "output_type": "stream",
       "stream": "stderr",
       "text": [
        "DEBUG:root:Found 179 results\n"
       ]
      },
      {
       "output_type": "stream",
       "stream": "stderr",
       "text": [
        "DEBUG:root:curr_query = {'$or': [{'metadata.key': 'background/location'}], 'metadata.write_ts': {'$gte': 1449193436, '$lt': 1449194102}, 'user_id': UUID('c76a0487-7e5a-3b17-a449-47be666b36f6')}, sort_key = metadata.write_ts\n"
       ]
      },
      {
       "output_type": "stream",
       "stream": "stderr",
       "text": [
        "DEBUG:root:Found 0 results\n"
       ]
      },
      {
       "output_type": "stream",
       "stream": "stderr",
       "text": [
        "DEBUG:root:curr_query = {'$or': [{'metadata.key': 'background/location'}], 'metadata.write_ts': {'$gte': 1449193436, '$lt': 1449194102}, 'user_id': UUID('c528bcd2-a88b-3e82-be62-ef4f2396967a')}, sort_key = metadata.write_ts\n"
       ]
      },
      {
       "output_type": "stream",
       "stream": "stderr",
       "text": [
        "DEBUG:root:Found 0 results\n"
       ]
      },
      {
       "output_type": "stream",
       "stream": "stderr",
       "text": [
        "DEBUG:root:curr_query = {'$or': [{'metadata.key': 'background/location'}], 'metadata.write_ts': {'$gte': 1449193436, '$lt': 1449194102}, 'user_id': UUID('e471711e-bd14-3dbe-80b6-9c7d92ecc296')}, sort_key = metadata.write_ts\n"
       ]
      },
      {
       "output_type": "stream",
       "stream": "stderr",
       "text": [
        "DEBUG:root:Found 0 results\n"
       ]
      },
      {
       "output_type": "stream",
       "stream": "stderr",
       "text": [
        "DEBUG:root:curr_query = {'$or': [{'metadata.key': 'background/location'}], 'metadata.write_ts': {'$gte': 1449193436, '$lt': 1449194102}, 'user_id': UUID('fd7b4c2e-2c8b-3bfa-94f0-d1e3ecbd5fb7')}, sort_key = metadata.write_ts\n"
       ]
      },
      {
       "output_type": "stream",
       "stream": "stderr",
       "text": [
        "DEBUG:root:Found 75 results\n"
       ]
      },
      {
       "output_type": "stream",
       "stream": "stderr",
       "text": [
        "DEBUG:root:curr_query = {'$or': [{'metadata.key': 'background/location'}], 'metadata.write_ts': {'$gte': 1449193436, '$lt': 1449194102}, 'user_id': UUID('86842c35-da28-32ed-a90e-2da6663c5c73')}, sort_key = metadata.write_ts\n"
       ]
      },
      {
       "output_type": "stream",
       "stream": "stderr",
       "text": [
        "DEBUG:root:Found 0 results\n"
       ]
      },
      {
       "output_type": "stream",
       "stream": "stderr",
       "text": [
        "DEBUG:root:curr_query = {'$or': [{'metadata.key': 'statemachine/transition'}], 'metadata.write_ts': {'$gte': 1449193436, '$lt': 1449194102}, 'user_id': UUID('079e0f1a-c440-3d7c-b0e7-de160f748e35')}, sort_key = metadata.write_ts\n"
       ]
      },
      {
       "output_type": "stream",
       "stream": "stderr",
       "text": [
        "DEBUG:root:Found 0 results\n"
       ]
      },
      {
       "output_type": "stream",
       "stream": "stderr",
       "text": [
        "DEBUG:root:curr_query = {'$or': [{'metadata.key': 'statemachine/transition'}], 'metadata.write_ts': {'$gte': 1449193436, '$lt': 1449194102}, 'user_id': UUID('c76a0487-7e5a-3b17-a449-47be666b36f6')}, sort_key = metadata.write_ts\n"
       ]
      },
      {
       "output_type": "stream",
       "stream": "stderr",
       "text": [
        "DEBUG:root:Found 0 results\n"
       ]
      },
      {
       "output_type": "stream",
       "stream": "stderr",
       "text": [
        "DEBUG:root:curr_query = {'$or': [{'metadata.key': 'statemachine/transition'}], 'metadata.write_ts': {'$gte': 1449193436, '$lt': 1449194102}, 'user_id': UUID('c528bcd2-a88b-3e82-be62-ef4f2396967a')}, sort_key = metadata.write_ts\n"
       ]
      },
      {
       "output_type": "stream",
       "stream": "stderr",
       "text": [
        "DEBUG:root:Found 4 results\n"
       ]
      },
      {
       "output_type": "stream",
       "stream": "stderr",
       "text": [
        "DEBUG:root:curr_query = {'$or': [{'metadata.key': 'statemachine/transition'}], 'metadata.write_ts': {'$gte': 1449193436, '$lt': 1449194102}, 'user_id': UUID('e471711e-bd14-3dbe-80b6-9c7d92ecc296')}, sort_key = metadata.write_ts\n"
       ]
      },
      {
       "output_type": "stream",
       "stream": "stderr",
       "text": [
        "DEBUG:root:Found 0 results\n"
       ]
      },
      {
       "output_type": "stream",
       "stream": "stderr",
       "text": [
        "DEBUG:root:curr_query = {'$or': [{'metadata.key': 'statemachine/transition'}], 'metadata.write_ts': {'$gte': 1449193436, '$lt': 1449194102}, 'user_id': UUID('fd7b4c2e-2c8b-3bfa-94f0-d1e3ecbd5fb7')}, sort_key = metadata.write_ts\n"
       ]
      },
      {
       "output_type": "stream",
       "stream": "stderr",
       "text": [
        "DEBUG:root:Found 12 results\n"
       ]
      },
      {
       "output_type": "stream",
       "stream": "stderr",
       "text": [
        "DEBUG:root:curr_query = {'$or': [{'metadata.key': 'statemachine/transition'}], 'metadata.write_ts': {'$gte': 1449193436, '$lt': 1449194102}, 'user_id': UUID('86842c35-da28-32ed-a90e-2da6663c5c73')}, sort_key = metadata.write_ts\n"
       ]
      },
      {
       "output_type": "stream",
       "stream": "stderr",
       "text": [
        "DEBUG:root:Found 0 results\n"
       ]
      },
      {
       "output_type": "stream",
       "stream": "stdout",
       "text": [
        "\n",
        "Generating trip for 1449193436 -> 1449194102\n",
        "length of lat_means = 3"
       ]
      },
      {
       "output_type": "stream",
       "stream": "stdout",
       "text": [
        "\n",
        "Considering phone 0, from 2015-12-03 17:43:56 -> 2015-12-03 17:55:02\n",
        "len(transition_df) = 0, ground_truth_exit_ts = 1449193436, geofence was not exited!!"
       ]
      },
      {
       "output_type": "stream",
       "stream": "stdout",
       "text": [
        "\n",
        "Considering phone 1, from 2015-12-03 17:43:56 -> 2015-12-03 17:55:02\n",
        "No data to plot for dataframe 1\n",
        "Fake data length = 23, fill_val = 12\n",
        "len(transition_df) = 0, ground_truth_exit_ts = 1449193436, geofence was not exited!!\n",
        "Considering phone 2, from 2015-12-03 17:43:56 -> 2015-12-03 17:55:02\n",
        "No data to plot for dataframe 2\n",
        "Fake data length = 23, fill_val = 12\n",
        "length of lat_means = 3\n",
        "Considering phone 0, from 2015-12-03 17:43:56 -> 2015-12-03 17:55:02\n",
        "No data to plot for dataframe 0\n",
        "Fake data length = 23, fill_val = 24\n",
        "len(transition_df) = 0, ground_truth_exit_ts = 1449193436, geofence was not exited!!"
       ]
      },
      {
       "output_type": "stream",
       "stream": "stdout",
       "text": [
        "\n",
        "Considering phone 1, from 2015-12-03 17:43:56 -> 2015-12-03 17:55:02\n",
        "12     63\n",
        "38     44\n",
        "49    267\n",
        "61     43\n",
        "63     63\n",
        "Name: ts, dtype: float64\n",
        "ground truth exit = 2015-12-03 17:43:56, geofence_exit_ts = +50.512000, first location point = +57.000000\n",
        "Considering phone 2, from 2015-12-03 17:43:56 -> 2015-12-03 17:55:02\n",
        "No data to plot for dataframe 2"
       ]
      },
      {
       "output_type": "stream",
       "stream": "stderr",
       "text": [
        "DEBUG:root:curr_query = {'$or': [{'metadata.key': 'background/location'}], 'metadata.write_ts': {'$gte': 1449202323, '$lt': 1449203103}, 'user_id': UUID('079e0f1a-c440-3d7c-b0e7-de160f748e35')}, sort_key = metadata.write_ts\n"
       ]
      },
      {
       "output_type": "stream",
       "stream": "stderr",
       "text": [
        "DEBUG:root:Found 307 results\n"
       ]
      },
      {
       "output_type": "stream",
       "stream": "stderr",
       "text": [
        "DEBUG:root:curr_query = {'$or': [{'metadata.key': 'background/location'}], 'metadata.write_ts': {'$gte': 1449202323, '$lt': 1449203103}, 'user_id': UUID('c76a0487-7e5a-3b17-a449-47be666b36f6')}, sort_key = metadata.write_ts\n"
       ]
      },
      {
       "output_type": "stream",
       "stream": "stderr",
       "text": [
        "DEBUG:root:Found 286 results\n"
       ]
      },
      {
       "output_type": "stream",
       "stream": "stderr",
       "text": [
        "DEBUG:root:curr_query = {'$or': [{'metadata.key': 'background/location'}], 'metadata.write_ts': {'$gte': 1449202323, '$lt': 1449203103}, 'user_id': UUID('c528bcd2-a88b-3e82-be62-ef4f2396967a')}, sort_key = metadata.write_ts\n"
       ]
      },
      {
       "output_type": "stream",
       "stream": "stderr",
       "text": [
        "DEBUG:root:Found 202 results\n"
       ]
      },
      {
       "output_type": "stream",
       "stream": "stderr",
       "text": [
        "DEBUG:root:curr_query = {'$or': [{'metadata.key': 'background/location'}], 'metadata.write_ts': {'$gte': 1449202323, '$lt': 1449203103}, 'user_id': UUID('e471711e-bd14-3dbe-80b6-9c7d92ecc296')}, sort_key = metadata.write_ts\n"
       ]
      },
      {
       "output_type": "stream",
       "stream": "stderr",
       "text": [
        "DEBUG:root:Found 0 results\n"
       ]
      },
      {
       "output_type": "stream",
       "stream": "stderr",
       "text": [
        "DEBUG:root:curr_query = {'$or': [{'metadata.key': 'background/location'}], 'metadata.write_ts': {'$gte': 1449202323, '$lt': 1449203103}, 'user_id': UUID('fd7b4c2e-2c8b-3bfa-94f0-d1e3ecbd5fb7')}, sort_key = metadata.write_ts\n"
       ]
      },
      {
       "output_type": "stream",
       "stream": "stderr",
       "text": [
        "DEBUG:root:Found 0 results\n"
       ]
      },
      {
       "output_type": "stream",
       "stream": "stderr",
       "text": [
        "DEBUG:root:curr_query = {'$or': [{'metadata.key': 'background/location'}], 'metadata.write_ts': {'$gte': 1449202323, '$lt': 1449203103}, 'user_id': UUID('86842c35-da28-32ed-a90e-2da6663c5c73')}, sort_key = metadata.write_ts\n"
       ]
      },
      {
       "output_type": "stream",
       "stream": "stderr",
       "text": [
        "DEBUG:root:Found 0 results\n"
       ]
      },
      {
       "output_type": "stream",
       "stream": "stderr",
       "text": [
        "DEBUG:root:curr_query = {'$or': [{'metadata.key': 'statemachine/transition'}], 'metadata.write_ts': {'$gte': 1449202323, '$lt': 1449203103}, 'user_id': UUID('079e0f1a-c440-3d7c-b0e7-de160f748e35')}, sort_key = metadata.write_ts\n"
       ]
      },
      {
       "output_type": "stream",
       "stream": "stderr",
       "text": [
        "DEBUG:root:Found 0 results\n"
       ]
      },
      {
       "output_type": "stream",
       "stream": "stderr",
       "text": [
        "DEBUG:root:curr_query = {'$or': [{'metadata.key': 'statemachine/transition'}], 'metadata.write_ts': {'$gte': 1449202323, '$lt': 1449203103}, 'user_id': UUID('c76a0487-7e5a-3b17-a449-47be666b36f6')}, sort_key = metadata.write_ts\n"
       ]
      },
      {
       "output_type": "stream",
       "stream": "stderr",
       "text": [
        "DEBUG:root:Found 8 results\n"
       ]
      },
      {
       "output_type": "stream",
       "stream": "stderr",
       "text": [
        "DEBUG:root:curr_query = {'$or': [{'metadata.key': 'statemachine/transition'}], 'metadata.write_ts': {'$gte': 1449202323, '$lt': 1449203103}, 'user_id': UUID('c528bcd2-a88b-3e82-be62-ef4f2396967a')}, sort_key = metadata.write_ts\n"
       ]
      },
      {
       "output_type": "stream",
       "stream": "stderr",
       "text": [
        "DEBUG:root:Found 4 results\n"
       ]
      },
      {
       "output_type": "stream",
       "stream": "stderr",
       "text": [
        "DEBUG:root:curr_query = {'$or': [{'metadata.key': 'statemachine/transition'}], 'metadata.write_ts': {'$gte': 1449202323, '$lt': 1449203103}, 'user_id': UUID('e471711e-bd14-3dbe-80b6-9c7d92ecc296')}, sort_key = metadata.write_ts\n"
       ]
      },
      {
       "output_type": "stream",
       "stream": "stderr",
       "text": [
        "DEBUG:root:Found 0 results\n"
       ]
      },
      {
       "output_type": "stream",
       "stream": "stderr",
       "text": [
        "DEBUG:root:curr_query = {'$or': [{'metadata.key': 'statemachine/transition'}], 'metadata.write_ts': {'$gte': 1449202323, '$lt': 1449203103}, 'user_id': UUID('fd7b4c2e-2c8b-3bfa-94f0-d1e3ecbd5fb7')}, sort_key = metadata.write_ts\n"
       ]
      },
      {
       "output_type": "stream",
       "stream": "stderr",
       "text": [
        "DEBUG:root:Found 0 results\n"
       ]
      },
      {
       "output_type": "stream",
       "stream": "stderr",
       "text": [
        "DEBUG:root:curr_query = {'$or': [{'metadata.key': 'statemachine/transition'}], 'metadata.write_ts': {'$gte': 1449202323, '$lt': 1449203103}, 'user_id': UUID('86842c35-da28-32ed-a90e-2da6663c5c73')}, sort_key = metadata.write_ts\n"
       ]
      },
      {
       "output_type": "stream",
       "stream": "stderr",
       "text": [
        "DEBUG:root:Found 0 results\n"
       ]
      },
      {
       "output_type": "stream",
       "stream": "stdout",
       "text": [
        "\n",
        "Fake data length = 23, fill_val = 24\n",
        "len(transition_df) = 0, ground_truth_exit_ts = 1449193436, geofence was not exited!!\n",
        "Generating trip for 1449202323 -> 1449203103\n",
        "length of lat_means = 3"
       ]
      },
      {
       "output_type": "stream",
       "stream": "stdout",
       "text": [
        "\n",
        "Considering phone 0, from 2015-12-03 20:12:03 -> 2015-12-03 20:25:03\n",
        "len(transition_df) = 0, ground_truth_exit_ts = 1449202323, geofence was not exited!!"
       ]
      },
      {
       "output_type": "stream",
       "stream": "stderr",
       "text": [
        "DEBUG:root:timeDelta = 0, distanceDelta = %s, returning speed = 0\n"
       ]
      },
      {
       "output_type": "stream",
       "stream": "stderr",
       "text": [
        "DEBUG:root:timeDelta = 0, distanceDelta = %s, returning speed = 0\n"
       ]
      },
      {
       "output_type": "stream",
       "stream": "stderr",
       "text": [
        "DEBUG:root:timeDelta = 0, distanceDelta = %s, returning speed = 0\n"
       ]
      },
      {
       "output_type": "stream",
       "stream": "stderr",
       "text": [
        "DEBUG:root:timeDelta = 0, distanceDelta = %s, returning speed = 0\n"
       ]
      },
      {
       "output_type": "stream",
       "stream": "stderr",
       "text": [
        "DEBUG:root:timeDelta = 0, distanceDelta = %s, returning speed = 0\n"
       ]
      },
      {
       "output_type": "stream",
       "stream": "stderr",
       "text": [
        "DEBUG:root:timeDelta = 0, distanceDelta = %s, returning speed = 0\n"
       ]
      },
      {
       "output_type": "stream",
       "stream": "stderr",
       "text": [
        "DEBUG:root:timeDelta = 0, distanceDelta = %s, returning speed = 0\n"
       ]
      },
      {
       "output_type": "stream",
       "stream": "stderr",
       "text": [
        "DEBUG:root:timeDelta = 0, distanceDelta = %s, returning speed = 0\n"
       ]
      },
      {
       "output_type": "stream",
       "stream": "stderr",
       "text": [
        "DEBUG:root:timeDelta = 0, distanceDelta = %s, returning speed = 0\n"
       ]
      },
      {
       "output_type": "stream",
       "stream": "stderr",
       "text": [
        "DEBUG:root:timeDelta = 0, distanceDelta = %s, returning speed = 0\n"
       ]
      },
      {
       "output_type": "stream",
       "stream": "stderr",
       "text": [
        "DEBUG:root:timeDelta = 0, distanceDelta = %s, returning speed = 0\n"
       ]
      },
      {
       "output_type": "stream",
       "stream": "stderr",
       "text": [
        "DEBUG:root:timeDelta = 0, distanceDelta = %s, returning speed = 0\n"
       ]
      },
      {
       "output_type": "stream",
       "stream": "stderr",
       "text": [
        "DEBUG:root:timeDelta = 0, distanceDelta = %s, returning speed = 0\n"
       ]
      },
      {
       "output_type": "stream",
       "stream": "stderr",
       "text": [
        "DEBUG:root:timeDelta = 0, distanceDelta = %s, returning speed = 0\n"
       ]
      },
      {
       "output_type": "stream",
       "stream": "stderr",
       "text": [
        "DEBUG:root:timeDelta = 0, distanceDelta = %s, returning speed = 0\n"
       ]
      },
      {
       "output_type": "stream",
       "stream": "stderr",
       "text": [
        "DEBUG:root:timeDelta = 0, distanceDelta = %s, returning speed = 0\n"
       ]
      },
      {
       "output_type": "stream",
       "stream": "stdout",
       "text": [
        "\n",
        "Considering phone 1, from 2015-12-03 20:12:03 -> 2015-12-03 20:25:03\n",
        "ground truth exit = 2015-12-03 20:12:03, geofence_exit_ts = +102.576358, first location point = +102.632736"
       ]
      },
      {
       "output_type": "stream",
       "stream": "stdout",
       "text": [
        "\n",
        "Considering phone 2, from 2015-12-03 20:12:03 -> 2015-12-03 20:25:03\n",
        "ground truth exit = 2015-12-03 20:12:03, geofence_exit_ts = +187.432404, first location point = +187.491016"
       ]
      },
      {
       "output_type": "stream",
       "stream": "stdout",
       "text": [
        "\n",
        "length of lat_means = 3\n",
        "Considering phone 0, from 2015-12-03 20:12:03 -> 2015-12-03 20:25:03\n",
        "No data to plot for dataframe 0\n",
        "Fake data length = 26, fill_val = 37\n",
        "len(transition_df) = 0, ground_truth_exit_ts = 1449202323, geofence was not exited!!\n",
        "Considering phone 1, from 2015-12-03 20:12:03 -> 2015-12-03 20:25:03\n",
        "No data to plot for dataframe 1\n",
        "Fake data length = 26, fill_val = 37\n",
        "len(transition_df) = 0, ground_truth_exit_ts = 1449202323, geofence was not exited!!"
       ]
      },
      {
       "output_type": "stream",
       "stream": "stdout",
       "text": [
        "\n",
        "Considering phone 2, from 2015-12-03 20:12:03 -> 2015-12-03 20:25:03\n",
        "No data to plot for dataframe 2\n",
        "Fake data length = 26, fill_val = 37\n",
        "len(transition_df) = 0, ground_truth_exit_ts = 1449202323, geofence was not exited!!\n"
       ]
      },
      {
       "metadata": {},
       "output_type": "display_data",
       "png": "[encoded data removed]",
       "text": [
        "<matplotlib.figure.Figure at 0x1144910d0>"
       ]
      },
      {
       "metadata": {},
       "output_type": "display_data",
       "png": "[encoded data removed]",
       "text": [
        "<matplotlib.figure.Figure at 0x118793790>"
       ]
      },
      {
       "metadata": {},
       "output_type": "display_data",
       "png": "[encoded data removed]",
       "text": [
        "<matplotlib.figure.Figure at 0x118932310>"
       ]
      },
      {
       "metadata": {},
       "output_type": "display_data",
       "png": "[encoded data removed]",
       "text": [
        "<matplotlib.figure.Figure at 0x119800050>"
       ]
      },
      {
       "metadata": {},
       "output_type": "display_data",
       "png": "[encoded data removed]",
       "text": [
        "<matplotlib.figure.Figure at 0x117aa1c10>"
       ]
      },
      {
       "metadata": {},
       "output_type": "display_data",
       "png": "[encoded data removed]",
       "text": [
        "<matplotlib.figure.Figure at 0x11a9a9290>"
       ]
      },
      {
       "metadata": {},
       "output_type": "display_data",
       "png": "[encoded data removed]",
       "text": [
        "<matplotlib.figure.Figure at 0x11ae530d0>"
       ]
      },
      {
       "metadata": {},
       "output_type": "display_data",
       "png": "[encoded data removed]",
       "text": [
        "<matplotlib.figure.Figure at 0x11bd02b90>"
       ]
      },
      {
       "metadata": {},
       "output_type": "display_data",
       "png": "[encoded data removed]",
       "text": [
        "<matplotlib.figure.Figure at 0x11c1f1050>"
       ]
      },
      {
       "metadata": {},
       "output_type": "display_data",
       "png": "[encoded data removed]",
       "text": [
        "<matplotlib.figure.Figure at 0x11c7eba10>"
       ]
      }
     ],
     "prompt_number": 49
    },
    {
     "cell_type": "code",
     "collapsed": false,
     "input": [],
     "language": "python",
     "metadata": {},
     "outputs": []
    }
   ],
   "metadata": {}
  }
 ]
}