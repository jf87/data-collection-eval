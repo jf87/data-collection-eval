{
 "cells": [
  {
   "cell_type": "markdown",
   "metadata": {},
   "source": [
    "This notebook visualizes the correspondence between multiple high accuracy fast sampling streams, on two different platforms, while the phones were stationary.\n",
    "\n",
    "The data is not filtered or interpolated in any way.\n",
    "\n",
    "Remember to load the `moving`, `high+1sec` data from `Pull_entries_from_server` if you have not already done so.\n",
    "\n",
    "Note that this loads a LOT of points, so it takes up a lot of memory.\n",
    "You might want to close other notebooks before loading this."
   ]
  },
  {
   "cell_type": "code",
   "execution_count": null,
   "metadata": {
    "collapsed": false
   },
   "outputs": [],
   "source": [
    "import sys\n",
    "import logging\n",
    "from uuid import UUID\n",
    "\n",
    "import emission.core.get_database as edb\n",
    "import pandas as pd\n",
    "import matplotlib.pyplot as plt\n",
    "%matplotlib inline\n",
    "import datetime as pydt\n",
    "import emission.storage.timeseries.abstract_timeseries as esta\n",
    "import emission.storage.timeseries.timequery as estt\n",
    "import numpy as np\n",
    "\n",
    "logging.getLogger().setLevel(logging.DEBUG)\n",
    "logging.debug(sys.path)\n",
    "\n",
    "iphone_ids = [UUID(\"079e0f1a-c440-3d7c-b0e7-de160f748e35\"), UUID(\"c76a0487-7e5a-3b17-a449-47be666b36f6\"), \n",
    "              UUID(\"c528bcd2-a88b-3e82-be62-ef4f2396967a\"), UUID(\"95e70727-a04e-3e33-b7fe-34ab19194f8b\")]\n",
    "android_ids = [UUID(\"e471711e-bd14-3dbe-80b6-9c7d92ecc296\"), UUID(\"fd7b4c2e-2c8b-3bfa-94f0-d1e3ecbd5fb7\"),\n",
    "               UUID(\"86842c35-da28-32ed-a90e-2da6663c5c73\"), UUID(\"3bc0f91f-7660-34a2-b005-5c399598a369\")]"
   ]
  },
  {
   "cell_type": "code",
   "execution_count": null,
   "metadata": {
    "collapsed": false
   },
   "outputs": [],
   "source": [
    "list(edb.get_timeseries_db().find({\"metadata.key\": \"config/sensor_config\", \"data.battery_status\": {\"$exists\": True}}).sort(\"metadata.write_ts\").limit(5))"
   ]
  },
  {
   "cell_type": "code",
   "execution_count": null,
   "metadata": {
    "collapsed": false
   },
   "outputs": [],
   "source": [
    "iphone_ts = map(lambda u: esta.TimeSeries.get_time_series(u), iphone_ids)\n",
    "android_ts = map(lambda u: esta.TimeSeries.get_time_series(u), android_ids)"
   ]
  },
  {
   "cell_type": "code",
   "execution_count": null,
   "metadata": {
    "collapsed": false
   },
   "outputs": [],
   "source": [
    "ranges_df = pd.read_csv(\"../results_spring_2016/ranges.csv\", error_bad_lines=False)"
   ]
  },
  {
   "cell_type": "code",
   "execution_count": null,
   "metadata": {
    "collapsed": false
   },
   "outputs": [],
   "source": [
    "ranges_df.head()"
   ]
  },
  {
   "cell_type": "code",
   "execution_count": null,
   "metadata": {
    "collapsed": false
   },
   "outputs": [],
   "source": [
    "regime_grouped_ranges_df = ranges_df.groupby(['state', 'android_regime', 'ios_regime'])"
   ]
  },
  {
   "cell_type": "code",
   "execution_count": null,
   "metadata": {
    "collapsed": false
   },
   "outputs": [],
   "source": [
    "invalid_df = pd.read_csv(\"../results_spring_2016/invalid.csv\")"
   ]
  },
  {
   "cell_type": "code",
   "execution_count": null,
   "metadata": {
    "collapsed": false
   },
   "outputs": [],
   "source": [
    "invalid_df"
   ]
  },
  {
   "cell_type": "code",
   "execution_count": null,
   "metadata": {
    "collapsed": false
   },
   "outputs": [],
   "source": [
    "def get_points_from_ts_for_range(ts, start_ts, end_ts):\n",
    "    return ts.get_data_df(\"background/location\", estt.TimeQuery('metadata.write_ts', start_ts, end_ts))"
   ]
  },
  {
   "cell_type": "code",
   "execution_count": null,
   "metadata": {
    "collapsed": false
   },
   "outputs": [],
   "source": [
    "def get_points_for_range(ts, range_df):\n",
    "    points_range_df = map(lambda row: get_points_from_ts_for_range(ts, row['start_ts'], row['end_ts']), range_df.to_dict('records'))\n",
    "    return points_range_df"
   ]
  },
  {
   "cell_type": "code",
   "execution_count": null,
   "metadata": {
    "collapsed": false
   },
   "outputs": [],
   "source": [
    "def get_points_for_group(ts_list, range_df):\n",
    "    return map(lambda ts: get_points_for_range(ts, range_df), ts_list)"
   ]
  },
  {
   "cell_type": "code",
   "execution_count": null,
   "metadata": {
    "collapsed": false
   },
   "outputs": [],
   "source": [
    "iphone_high_fast_stationary_df = pd.DataFrame()\n",
    "for key, df in regime_grouped_ranges_df:\n",
    "    if key[0] == 'stationary' and key[1] == 'high+1sec':\n",
    "        # one row for each phone\n",
    "        # each row contains len(stationary ranges) dataframes\n",
    "        phone_range_location_df_list = get_points_for_group(iphone_ts, df)\n",
    "        # one row for each phone\n",
    "        # each row contains one dataframe\n",
    "        concat_phone_location_df_list = map(lambda pl: pd.concat(pl), phone_range_location_df_list)\n",
    "        iphone_high_fast_stationary_df = iphone_high_fast_stationary_df.append(concat_phone_location_df_list)"
   ]
  },
  {
   "cell_type": "code",
   "execution_count": null,
   "metadata": {
    "collapsed": false
   },
   "outputs": [],
   "source": []
  },
  {
   "cell_type": "code",
   "execution_count": null,
   "metadata": {
    "collapsed": false
   },
   "outputs": [],
   "source": [
    "android_high_fast_stationary_df = pd.DataFrame()\n",
    "for key, df in regime_grouped_ranges_df:\n",
    "    if key[0] == 'stationary' and key[1] == 'high+1sec':\n",
    "        # one row for each phone\n",
    "        # each row contains len(stationary ranges) dataframes\n",
    "        phone_range_location_df_list = get_points_for_group(android_ts, df)\n",
    "        # one row for each phone\n",
    "        # each row contains one dataframe\n",
    "        concat_phone_location_df_list = map(lambda pl: pd.concat(pl), phone_range_location_df_list)\n",
    "        android_high_fast_stationary_df = android_high_fast_stationary_df.append(concat_phone_location_df_list)\n",
    "        android_high_fast_stationary_df = android_high_fast_stationary_df.sample(frac=0.001)"
   ]
  },
  {
   "cell_type": "code",
   "execution_count": null,
   "metadata": {
    "collapsed": false
   },
   "outputs": [],
   "source": [
    "import emission.analysis.plotting.leaflet_osm.our_plotter as lo\n",
    "import emission.analysis.plotting.geojson.geojson_feature_converter as gfc\n",
    "import emission.analysis.plotting.leaflet_osm.ipython_helper as ipy"
   ]
  },
  {
   "cell_type": "code",
   "execution_count": null,
   "metadata": {
    "collapsed": false
   },
   "outputs": [],
   "source": [
    "ipy.inline_maps([lo.get_maps_for_geojson_unsectioned([gfc.get_feature_list_from_df(iphone_high_fast_stationary_df)]) + \n",
    "                 lo.get_maps_for_geojson_unsectioned([gfc.get_feature_list_from_df(android_high_fast_stationary_df)])])"
   ]
  },
  {
   "cell_type": "code",
   "execution_count": null,
   "metadata": {
    "collapsed": false
   },
   "outputs": [],
   "source": [
    "iphone_high_fast_loitering_df = pd.DataFrame()\n",
    "for key, df in regime_grouped_ranges_df:\n",
    "    if key[0] == 'loitering' and key[1] == 'high+1sec':\n",
    "        # one row for each phone\n",
    "        # each row contains len(stationary ranges) dataframes\n",
    "        phone_range_location_df_list = get_points_for_group(iphone_ts, df)\n",
    "        # one row for each phone\n",
    "        # each row contains one dataframe\n",
    "        concat_phone_location_df_list = map(lambda pl: pd.concat(pl), phone_range_location_df_list)\n",
    "        iphone_high_fast_loitering_df = iphone_high_fast_loitering_df.append(concat_phone_location_df_list)"
   ]
  },
  {
   "cell_type": "code",
   "execution_count": null,
   "metadata": {
    "collapsed": false
   },
   "outputs": [],
   "source": [
    "android_high_fast_loitering_df = pd.DataFrame()\n",
    "for key, df in regime_grouped_ranges_df:\n",
    "    if key[0] == 'loitering' and key[1] == 'high+1sec':\n",
    "        # one row for each phone\n",
    "        # each row contains len(stationary ranges) dataframes\n",
    "        phone_range_location_df_list = get_points_for_group(android_ts, df)\n",
    "        # one row for each phone\n",
    "        # each row contains one dataframe\n",
    "        concat_phone_location_df_list = map(lambda pl: pd.concat(pl), phone_range_location_df_list)\n",
    "        android_high_fast_loitering_df = android_high_fast_loitering_df.append(concat_phone_location_df_list)\n",
    "        android_high_fast_loitering_df = android_high_fast_loitering_df.sample(frac=0.01)"
   ]
  },
  {
   "cell_type": "code",
   "execution_count": null,
   "metadata": {
    "collapsed": false
   },
   "outputs": [],
   "source": [
    "ipy.inline_maps([lo.get_maps_for_geojson_unsectioned([gfc.get_feature_list_from_df(iphone_high_fast_loitering_df)]) + \n",
    "                 lo.get_maps_for_geojson_unsectioned([gfc.get_feature_list_from_df(android_high_fast_loitering_df)])])"
   ]
  },
  {
   "cell_type": "code",
   "execution_count": null,
   "metadata": {
    "collapsed": false
   },
   "outputs": [],
   "source": []
  }
 ],
 "metadata": {
  "kernelspec": {
   "display_name": "Python 2",
   "language": "python",
   "name": "python2"
  },
  "language_info": {
   "codemirror_mode": {
    "name": "ipython",
    "version": 2
   },
   "file_extension": ".py",
   "mimetype": "text/x-python",
   "name": "python",
   "nbconvert_exporter": "python",
   "pygments_lexer": "ipython2",
   "version": "2.7.11"
  }
 },
 "nbformat": 4,
 "nbformat_minor": 0
}
