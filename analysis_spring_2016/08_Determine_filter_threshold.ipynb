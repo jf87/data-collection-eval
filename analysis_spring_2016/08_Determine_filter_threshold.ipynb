{
 "cells": [
  {
   "cell_type": "markdown",
   "metadata": {},
   "source": [
    "This notebook attempts to experimentally determine the filter threshold for determining the baseline.\n",
    "In other words, at what distance should we say that the points are \"close enough\" and at what distance should we discard them?\n",
    "\n",
    "Remember to load the `moving`, `high+1sec` data from `Pull_entries_from_server` if you have not already done so."
   ]
  },
  {
   "cell_type": "code",
   "execution_count": null,
   "metadata": {
    "collapsed": false
   },
   "outputs": [],
   "source": [
    "import sys\n",
    "import logging\n",
    "from uuid import UUID\n",
    "\n",
    "import emission.core.get_database as edb\n",
    "import pandas as pd\n",
    "import matplotlib.pyplot as plt\n",
    "%matplotlib inline\n",
    "import datetime as pydt\n",
    "import emission.storage.timeseries.abstract_timeseries as esta\n",
    "import emission.storage.timeseries.timequery as estt\n",
    "import numpy as np\n",
    "import scipy.interpolate as spi\n",
    "\n",
    "logging.getLogger().setLevel(logging.DEBUG)\n",
    "logging.debug(sys.path)\n",
    "\n",
    "iphone_ids = [UUID(\"079e0f1a-c440-3d7c-b0e7-de160f748e35\"), UUID(\"c76a0487-7e5a-3b17-a449-47be666b36f6\"), \n",
    "              UUID(\"c528bcd2-a88b-3e82-be62-ef4f2396967a\"), UUID(\"95e70727-a04e-3e33-b7fe-34ab19194f8b\")]\n",
    "android_ids = [UUID(\"e471711e-bd14-3dbe-80b6-9c7d92ecc296\"), UUID(\"fd7b4c2e-2c8b-3bfa-94f0-d1e3ecbd5fb7\"),\n",
    "               UUID(\"86842c35-da28-32ed-a90e-2da6663c5c73\"), UUID(\"3bc0f91f-7660-34a2-b005-5c399598a369\")]"
   ]
  },
  {
   "cell_type": "code",
   "execution_count": null,
   "metadata": {
    "collapsed": false
   },
   "outputs": [],
   "source": [
    "list(edb.get_timeseries_db().find({\"metadata.key\": \"config/sensor_config\", \"data.battery_status\": {\"$exists\": True}}).sort(\"metadata.write_ts\").limit(5))"
   ]
  },
  {
   "cell_type": "code",
   "execution_count": null,
   "metadata": {
    "collapsed": false
   },
   "outputs": [],
   "source": [
    "iphone_ts = map(lambda u: esta.TimeSeries.get_time_series(u), iphone_ids)\n",
    "android_ts = map(lambda u: esta.TimeSeries.get_time_series(u), android_ids)"
   ]
  },
  {
   "cell_type": "code",
   "execution_count": null,
   "metadata": {
    "collapsed": false
   },
   "outputs": [],
   "source": [
    "ranges_df = pd.read_csv(\"../results_spring_2016/ranges.csv\", error_bad_lines=False)"
   ]
  },
  {
   "cell_type": "code",
   "execution_count": null,
   "metadata": {
    "collapsed": false
   },
   "outputs": [],
   "source": [
    "ranges_df.head()"
   ]
  },
  {
   "cell_type": "code",
   "execution_count": null,
   "metadata": {
    "collapsed": false
   },
   "outputs": [],
   "source": [
    "regime_grouped_ranges_df = ranges_df.groupby(['state', 'android_regime', 'ios_regime'])"
   ]
  },
  {
   "cell_type": "code",
   "execution_count": null,
   "metadata": {
    "collapsed": false
   },
   "outputs": [],
   "source": [
    "invalid_df = pd.read_csv(\"../results_spring_2016/invalid.csv\")"
   ]
  },
  {
   "cell_type": "code",
   "execution_count": null,
   "metadata": {
    "collapsed": false
   },
   "outputs": [],
   "source": [
    "invalid_df"
   ]
  },
  {
   "cell_type": "code",
   "execution_count": null,
   "metadata": {
    "collapsed": false
   },
   "outputs": [],
   "source": [
    "def get_points_from_ts_for_range(ts, start_ts, end_ts):\n",
    "    return ts.get_data_df(\"background/location\", esta.TimeQuery('metadata.write_ts', start_ts, end_ts))"
   ]
  },
  {
   "cell_type": "code",
   "execution_count": null,
   "metadata": {
    "collapsed": false
   },
   "outputs": [],
   "source": [
    "def get_points_for_range(ts, range_df):\n",
    "    points_range_df = map(lambda row: get_points_from_ts_for_range(ts, row['start_ts'], row['end_ts']), range_df.to_dict('records'))\n",
    "    return points_range_df"
   ]
  },
  {
   "cell_type": "code",
   "execution_count": null,
   "metadata": {
    "collapsed": false
   },
   "outputs": [],
   "source": [
    "def get_points_for_group(ts_list, range_df):\n",
    "    return map(lambda ts: get_points_for_range(ts, range_df), ts_list)"
   ]
  },
  {
   "cell_type": "code",
   "execution_count": null,
   "metadata": {
    "collapsed": false
   },
   "outputs": [],
   "source": [
    "import emission.analysis.point_features as pf\n",
    "import attrdict as ad"
   ]
  },
  {
   "cell_type": "code",
   "execution_count": null,
   "metadata": {
    "collapsed": false
   },
   "outputs": [],
   "source": [
    "def calDistance(row):\n",
    "    return pf.calDistance(ad.AttrDict({\"latitude\": row[0], \"longitude\": row[1]}),\n",
    "                          ad.AttrDict({\"latitude\": row[3], \"longitude\": row[4]}))"
   ]
  },
  {
   "cell_type": "code",
   "execution_count": null,
   "metadata": {
    "collapsed": false
   },
   "outputs": [],
   "source": [
    "def get_interp_distance_df(android_ts, ios_ts, start_ts, end_ts):\n",
    "    android_df = android_ts.get_data_df(\"background/location\", estt.TimeQuery('metadata.write_ts', start_ts, end_ts))\n",
    "    ios_df = ios_ts.get_data_df(\"background/location\", estt.TimeQuery('metadata.write_ts', start_ts, end_ts))\n",
    "    if len(android_df) == 0 or len(ios_df) == 0:\n",
    "        print \"No data found for either android or iOS, exiting\"\n",
    "        return\n",
    "    android_latf = spi.interp1d(x=android_df.ts, y=android_df.latitude, kind='linear', bounds_error=False)\n",
    "    android_lngf = spi.interp1d(x=android_df.ts, y=android_df.longitude, kind='linear', bounds_error=False)\n",
    "    ios_latf = spi.interp1d(x=ios_df.ts, y=ios_df.latitude, bounds_error=False)\n",
    "    ios_lngf = spi.interp1d(x=ios_df.ts, y=ios_df.longitude, bounds_error=False)\n",
    "    ts_new = np.arange(int(start_ts), int(end_ts), 1)\n",
    "    fmt_time_new = map(lambda ts: pydt.datetime.fromtimestamp(ts).isoformat(), ts_new)\n",
    "    interp_df = pd.DataFrame({\"ts\": ts_new, \"fmt_time\": fmt_time_new,\n",
    "                            \"android_lat\": android_latf(ts_new), \"android_lng\": android_lngf(ts_new),\n",
    "                            \"ios_lat\": ios_latf(ts_new), \"ios_lng\": ios_lngf(ts_new)}, index=ts_new)\n",
    "    interp_df = interp_df.dropna()\n",
    "    same_point_distances = np.abs(interp_df.apply(calDistance, axis=1))\n",
    "    interp_df[\"same_point_distances\"] = same_point_distances\n",
    "    return interp_df"
   ]
  },
  {
   "cell_type": "code",
   "execution_count": null,
   "metadata": {
    "collapsed": false
   },
   "outputs": [],
   "source": [
    "quantiles_list = []\n",
    "filtered_quantiles_list = []\n",
    "for row in ranges_df.to_dict('records'):\n",
    "    key = (row['state'], row['android_regime'], row['ios_regime'])\n",
    "    if key[0] != 'invalid' and key[0] != 'charging' and key[0] != 'charging-or-full':\n",
    "        interp_distance_df_ha = get_interp_distance_df(android_ts[0], iphone_ts[0], row['start_ts'], row['end_ts'])\n",
    "        if interp_distance_df_ha is not None and len(interp_distance_df_ha.dropna()) > 0:\n",
    "            curr_quantiles = interp_distance_df_ha.same_point_distances.quantile([0.8,0.9,0.95,0.99])\n",
    "            filtered_distances = interp_distance_df_ha[interp_distance_df_ha.same_point_distances < 100].same_point_distances\n",
    "            curr_filtered_quantiles = filtered_distances.quantile([0.8,0.9,0.95,0.99])\n",
    "            curr_filtered_quantiles.name = row['state']\n",
    "            print (\"for key %s, %s (%s) -> %s (%s), quantiles are %s, filtered quantiles are %s\" % \n",
    "                    (key, row['start_fmt_time'], row['start_ts'], row['end_fmt_time'], row['end_ts'],\n",
    "                     curr_quantiles, curr_filtered_quantiles))\n",
    "            quantiles_list.append(curr_quantiles)\n",
    "            filtered_quantiles_list.append(curr_filtered_quantiles)\n",
    "            plt.figure()\n",
    "            ax = interp_distance_df_ha.same_point_distances.plot(kind='hist', bins = 100, figsize=(12,4), cumulative=True, normed=True)\n",
    "            ax.set_title(\"unfiltered: %s %s -> %s\" % (key, row['start_fmt_time'], row['end_fmt_time']))\n",
    "            tick_list = ax.set_xticks(np.arange(0,min(interp_distance_df_ha.same_point_distances.max(),100),2))\n",
    "            \n",
    "            plt.figure()\n",
    "            ax = filtered_distances.plot(kind='hist', bins = 100, figsize=(12,4), cumulative=True, normed=True)\n",
    "            ax.set_title(\"filtered < 100, %s %s -> %s\" % (key, row['start_fmt_time'], row['end_fmt_time']))\n",
    "            tick_list = ax.set_xticks(np.arange(0,min(filtered_distances.max(),100),2))"
   ]
  },
  {
   "cell_type": "code",
   "execution_count": null,
   "metadata": {
    "collapsed": false
   },
   "outputs": [],
   "source": [
    "import emission.analysis.plotting.leaflet_osm.our_plotter as lo\n",
    "import emission.analysis.plotting.geojson.geojson_feature_converter as gfc\n",
    "import emission.analysis.plotting.leaflet_osm.ipython_helper as ipy"
   ]
  },
  {
   "cell_type": "code",
   "execution_count": null,
   "metadata": {
    "collapsed": false
   },
   "outputs": [],
   "source": [
    "interp_df = get_interp_distance_df(android_ts[0], iphone_ts[0], 1459448055.12, 1459456368.01)"
   ]
  },
  {
   "cell_type": "code",
   "execution_count": null,
   "metadata": {
    "collapsed": false
   },
   "outputs": [],
   "source": [
    "interp_df.same_point_distances.plot(kind='hist', bins=100)"
   ]
  },
  {
   "cell_type": "code",
   "execution_count": null,
   "metadata": {
    "collapsed": false
   },
   "outputs": [],
   "source": [
    "interp_df.same_point_distances.plot()\n",
    "# interp_df = interp_df[interp_df.same_point_distances <= 20]"
   ]
  },
  {
   "cell_type": "code",
   "execution_count": null,
   "metadata": {
    "collapsed": false
   },
   "outputs": [],
   "source": [
    "interp_df[interp_df.same_point_distances > 1000].head(n=20)"
   ]
  },
  {
   "cell_type": "code",
   "execution_count": null,
   "metadata": {
    "collapsed": false
   },
   "outputs": [],
   "source": [
    "interp_df[interp_df.android_lat == 37.394861].tail(n=20)"
   ]
  },
  {
   "cell_type": "code",
   "execution_count": null,
   "metadata": {
    "collapsed": false
   },
   "outputs": [],
   "source": [
    "ipy.inline_maps([lo.get_maps_for_geojson_unsectioned([gfc.get_feature_list_from_df(\n",
    "                    iphone_ts[0].get_data_df(\"background/location\", estt.TimeQuery('metadata.write_ts', 1459449109, 1459449156)))]) + \n",
    "                 lo.get_maps_for_geojson_unsectioned([gfc.get_feature_list_from_df(\n",
    "                    android_ts[0].get_data_df(\"background/location\", estt.TimeQuery('metadata.write_ts', 1459449109, 1459449156)))])])"
   ]
  },
  {
   "cell_type": "code",
   "execution_count": null,
   "metadata": {
    "collapsed": false
   },
   "outputs": [],
   "source": [
    "android_ts[0].get_data_df(\"background/location\", estt.TimeQuery('metadata.write_ts', 1459449109, 1459449156))"
   ]
  },
  {
   "cell_type": "code",
   "execution_count": null,
   "metadata": {
    "collapsed": false
   },
   "outputs": [],
   "source": [
    "android_ts[0].get_data_df(\"background/location\", estt.TimeQuery('metadata.write_ts', 1459440025.84, 1459448055.125)).head(n=20)"
   ]
  },
  {
   "cell_type": "code",
   "execution_count": null,
   "metadata": {
    "collapsed": false
   },
   "outputs": [],
   "source": [
    "ipy.inline_maps([lo.get_maps_for_geojson_unsectioned([gfc.get_feature_list_from_df(\n",
    "                    interp_df, ts=\"ts\", latitude=\"ios_lat\", longitude=\"ios_lng\")]) + \n",
    "                 lo.get_maps_for_geojson_unsectioned([gfc.get_feature_list_from_df(\n",
    "                    interp_df, ts=\"ts\", latitude=\"android_lat\", longitude=\"android_lng\")])])"
   ]
  },
  {
   "cell_type": "code",
   "execution_count": null,
   "metadata": {
    "collapsed": false
   },
   "outputs": [],
   "source": [
    "# No medium accuracy stuff yet\n",
    "# ipy.inline_maps([lo.get_maps_for_geojson_unsectioned([gfc.get_feature_list_from_df(\n",
    "#                     iphone_ts[0].get_data_df(\"background/location\", estt.TimeQuery('metadata.write_ts', 1459387420.68, 1459403297.862)))]) + \n",
    "#                  lo.get_maps_for_geojson_unsectioned([gfc.get_feature_list_from_df(\n",
    "#                     android_ts[0].get_data_df(\"background/location\", estt.TimeQuery('metadata.write_ts', 1459387420.68, 1459403297.862)))])])"
   ]
  },
  {
   "cell_type": "code",
   "execution_count": null,
   "metadata": {
    "collapsed": false
   },
   "outputs": [],
   "source": [
    "# No medium accuracy stuff yet\n",
    "# interp_df = get_interp_distance_df(android_ts[0], iphone_ts[0], 1459387420.68, 1459403297.862)\n",
    "# interp_df = interp_df[interp_df.same_point_distances <= 40]"
   ]
  },
  {
   "cell_type": "code",
   "execution_count": null,
   "metadata": {
    "collapsed": false
   },
   "outputs": [],
   "source": [
    "# No medium accuracy stuff yet\n",
    "# ipy.inline_maps([lo.get_maps_for_geojson_unsectioned([gfc.get_feature_list_from_df(\n",
    "#                     interp_df, ts=\"ts\", latitude=\"ios_lat\", longitude=\"ios_lng\")]) + \n",
    "#                  lo.get_maps_for_geojson_unsectioned([gfc.get_feature_list_from_df(\n",
    "#                     interp_df, ts=\"ts\", latitude=\"android_lat\", longitude=\"android_lng\")])])"
   ]
  },
  {
   "cell_type": "code",
   "execution_count": null,
   "metadata": {
    "collapsed": false
   },
   "outputs": [],
   "source": [
    "interp_df = get_interp_distance_df(android_ts[0], iphone_ts[0], 1459387420.68, 1459403297.862)"
   ]
  },
  {
   "cell_type": "code",
   "execution_count": null,
   "metadata": {
    "collapsed": false
   },
   "outputs": [],
   "source": [
    "# interp_df.same_point_distances.plot(kind='hist', cumulative=True, normed=True, bins=100, figsize=(10,5))"
   ]
  },
  {
   "cell_type": "code",
   "execution_count": null,
   "metadata": {
    "collapsed": false
   },
   "outputs": [],
   "source": [
    "# import statsmodels.api as sm"
   ]
  },
  {
   "cell_type": "code",
   "execution_count": null,
   "metadata": {
    "collapsed": false
   },
   "outputs": [],
   "source": [
    "# ecdf_fn = sm.distributions.ECDF(interp_df.same_point_distances)\n",
    "# x = np.linspace(0, max(interp_df.same_point_distances))\n",
    "# plt.plot(x, ecdf_fn(x))"
   ]
  },
  {
   "cell_type": "code",
   "execution_count": null,
   "metadata": {
    "collapsed": false
   },
   "outputs": [],
   "source": [
    "# quantiles_list"
   ]
  },
  {
   "cell_type": "code",
   "execution_count": null,
   "metadata": {
    "collapsed": false
   },
   "outputs": [],
   "source": [
    "# filtered_quantiles_list"
   ]
  },
  {
   "cell_type": "code",
   "execution_count": null,
   "metadata": {
    "collapsed": false
   },
   "outputs": [],
   "source": [
    "def to_state_int(state):\n",
    "    if state == 'stationary': return 1\n",
    "    if state == 'loitering': return 2\n",
    "    if state == 'moving': return 3"
   ]
  },
  {
   "cell_type": "code",
   "execution_count": null,
   "metadata": {
    "collapsed": false
   },
   "outputs": [],
   "source": [
    "dict_list = map(lambda s: {'state': s.name, '0.8': s[0.8], '0.9': s[0.9], '0.95': s[0.95], '0.99': s[0.99]}, filtered_quantiles_list)"
   ]
  },
  {
   "cell_type": "code",
   "execution_count": null,
   "metadata": {
    "collapsed": false
   },
   "outputs": [],
   "source": [
    "filtered_quantiles_df = pd.DataFrame(dict_list)"
   ]
  },
  {
   "cell_type": "code",
   "execution_count": null,
   "metadata": {
    "collapsed": false
   },
   "outputs": [],
   "source": [
    "filtered_quantiles_df.head()"
   ]
  },
  {
   "cell_type": "code",
   "execution_count": null,
   "metadata": {
    "collapsed": false
   },
   "outputs": [],
   "source": [
    "filtered_quantiles_df['0.8']"
   ]
  },
  {
   "cell_type": "code",
   "execution_count": null,
   "metadata": {
    "collapsed": false
   },
   "outputs": [],
   "source": [
    "(fig, axes) = plt.subplots(nrows=1, ncols=3, figsize=(12,3))\n",
    "filtered_quantiles_df[filtered_quantiles_df.state=='moving']['0.8'].plot(kind='hist', color='blue', title='moving', ax=axes[0])\n",
    "filtered_quantiles_df[filtered_quantiles_df.state=='loitering']['0.8'].plot(kind='hist', color='red', title='loitering', ax=axes[1])\n",
    "filtered_quantiles_df[filtered_quantiles_df.state=='stationary']['0.8'].plot(kind='hist', color='purple', title='loitering', ax=axes[2])"
   ]
  },
  {
   "cell_type": "code",
   "execution_count": null,
   "metadata": {
    "collapsed": false
   },
   "outputs": [],
   "source": [
    "quantiles_df = pd.DataFrame(map(lambda s: {'state': s.name, '0.8': s[0.8], '0.9': s[0.9], '0.95': s[0.95], '0.99': s[0.99]}, quantiles_list))"
   ]
  },
  {
   "cell_type": "code",
   "execution_count": null,
   "metadata": {
    "collapsed": false
   },
   "outputs": [],
   "source": [
    "(fig, axes) = plt.subplots(nrows=1, ncols=3, figsize=(12,3))\n",
    "quantiles_df[filtered_quantiles_df.state=='moving']['0.8'].plot(kind='hist', color='blue', title='moving', ax=axes[0])\n",
    "quantiles_df[filtered_quantiles_df.state=='loitering']['0.8'].plot(kind='hist', color='red', title='loitering', ax=axes[1])\n",
    "quantiles_df[filtered_quantiles_df.state=='stationary']['0.8'].plot(kind='hist', color='purple', title='stationary', ax=axes[2])"
   ]
  },
  {
   "cell_type": "code",
   "execution_count": null,
   "metadata": {
    "collapsed": false
   },
   "outputs": [],
   "source": []
  }
 ],
 "metadata": {
  "kernelspec": {
   "display_name": "Python 2",
   "language": "python",
   "name": "python2"
  },
  "language_info": {
   "codemirror_mode": {
    "name": "ipython",
    "version": 2
   },
   "file_extension": ".py",
   "mimetype": "text/x-python",
   "name": "python",
   "nbconvert_exporter": "python",
   "pygments_lexer": "ipython2",
   "version": "2.7.11"
  }
 },
 "nbformat": 4,
 "nbformat_minor": 0
}
