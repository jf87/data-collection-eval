{
 "cells": [
  {
   "cell_type": "markdown",
   "metadata": {},
   "source": [
    "This notebook visualizes the correspondence between multiple high accuracy fast sampling streams, on two different platforms, while on Caltrain.\n",
    "\n",
    "Remember to load the Caltrain data from `Pull_entries_from_server` if you have not already done so"
   ]
  },
  {
   "cell_type": "code",
   "execution_count": null,
   "metadata": {
    "collapsed": false
   },
   "outputs": [],
   "source": [
    "import sys\n",
    "import logging\n",
    "from uuid import UUID\n",
    "\n",
    "import emission.core.get_database as edb\n",
    "import pandas as pd\n",
    "import matplotlib.pyplot as plt\n",
    "%matplotlib inline\n",
    "import datetime as pydt\n",
    "import emission.storage.timeseries.abstract_timeseries as esta\n",
    "import emission.storage.timeseries.timequery as estt\n",
    "import numpy as np\n",
    "\n",
    "logging.getLogger().setLevel(logging.DEBUG)\n",
    "logging.debug(sys.path)\n",
    "\n",
    "iphone_ids = [UUID(\"079e0f1a-c440-3d7c-b0e7-de160f748e35\"), UUID(\"c76a0487-7e5a-3b17-a449-47be666b36f6\"), \n",
    "              UUID(\"c528bcd2-a88b-3e82-be62-ef4f2396967a\"), UUID(\"95e70727-a04e-3e33-b7fe-34ab19194f8b\")]\n",
    "android_ids = [UUID(\"e471711e-bd14-3dbe-80b6-9c7d92ecc296\"), UUID(\"fd7b4c2e-2c8b-3bfa-94f0-d1e3ecbd5fb7\"),\n",
    "               UUID(\"86842c35-da28-32ed-a90e-2da6663c5c73\"), UUID(\"3bc0f91f-7660-34a2-b005-5c399598a369\")]"
   ]
  },
  {
   "cell_type": "code",
   "execution_count": null,
   "metadata": {
    "collapsed": false
   },
   "outputs": [],
   "source": [
    "list(edb.get_timeseries_db().find({\"metadata.key\": \"config/sensor_config\", \"data.battery_status\": {\"$exists\": True}}).sort(\"metadata.write_ts\").limit(5))"
   ]
  },
  {
   "cell_type": "code",
   "execution_count": null,
   "metadata": {
    "collapsed": false
   },
   "outputs": [],
   "source": [
    "iphone_ts = map(lambda u: esta.TimeSeries.get_time_series(u), iphone_ids)\n",
    "android_ts = map(lambda u: esta.TimeSeries.get_time_series(u), android_ids)"
   ]
  },
  {
   "cell_type": "code",
   "execution_count": null,
   "metadata": {
    "collapsed": false
   },
   "outputs": [],
   "source": [
    "ranges_df = pd.read_csv(\"../results_spring_2016/ranges.csv\", error_bad_lines=False)"
   ]
  },
  {
   "cell_type": "code",
   "execution_count": null,
   "metadata": {
    "collapsed": false
   },
   "outputs": [],
   "source": [
    "ranges_df.head()"
   ]
  },
  {
   "cell_type": "code",
   "execution_count": null,
   "metadata": {
    "collapsed": false
   },
   "outputs": [],
   "source": [
    "regime_grouped_ranges_df = ranges_df.groupby(['state', 'android_regime', 'ios_regime'])"
   ]
  },
  {
   "cell_type": "code",
   "execution_count": null,
   "metadata": {
    "collapsed": false
   },
   "outputs": [],
   "source": [
    "invalid_df = pd.read_csv(\"../results_spring_2016/invalid.csv\")"
   ]
  },
  {
   "cell_type": "code",
   "execution_count": null,
   "metadata": {
    "collapsed": false
   },
   "outputs": [],
   "source": [
    "invalid_df"
   ]
  },
  {
   "cell_type": "code",
   "execution_count": null,
   "metadata": {
    "collapsed": false
   },
   "outputs": [],
   "source": [
    "caltrain_df = pd.read_csv(\"../results_spring_2016/caltrain_trips.csv\")"
   ]
  },
  {
   "cell_type": "code",
   "execution_count": null,
   "metadata": {
    "collapsed": false
   },
   "outputs": [],
   "source": [
    "caltrain_df"
   ]
  },
  {
   "cell_type": "code",
   "execution_count": null,
   "metadata": {
    "collapsed": false
   },
   "outputs": [],
   "source": [
    "def get_points_from_ts_for_range(ts, start_ts, end_ts):\n",
    "    return ts.get_data_df(\"background/location\", estt.TimeQuery('metadata.write_ts', start_ts, end_ts))"
   ]
  },
  {
   "cell_type": "code",
   "execution_count": null,
   "metadata": {
    "collapsed": false
   },
   "outputs": [],
   "source": [
    "def get_points_for_range(ts, range_df):\n",
    "    points_range_df = map(lambda row: get_points_from_ts_for_range(ts, row['start_ts'], row['end_ts']), range_df.to_dict('records'))\n",
    "    return points_range_df"
   ]
  },
  {
   "cell_type": "code",
   "execution_count": null,
   "metadata": {
    "collapsed": false
   },
   "outputs": [],
   "source": [
    "def get_points_for_group(ts_list, range_df):\n",
    "    return map(lambda ts: get_points_for_range(ts, range_df), ts_list)"
   ]
  },
  {
   "cell_type": "code",
   "execution_count": null,
   "metadata": {
    "collapsed": false
   },
   "outputs": [],
   "source": [
    "import emission.analysis.plotting.geojson.geojson_feature_converter as gfc\n",
    "import emission.analysis.plotting.leaflet_osm.our_plotter as lo\n",
    "import emission.analysis.plotting.leaflet_osm.ipython_helper as ipy"
   ]
  },
  {
   "cell_type": "code",
   "execution_count": null,
   "metadata": {
    "collapsed": false
   },
   "outputs": [],
   "source": [
    "import scipy.interpolate as spi\n",
    "import numpy as np"
   ]
  },
  {
   "cell_type": "code",
   "execution_count": null,
   "metadata": {
    "collapsed": false
   },
   "outputs": [],
   "source": [
    "pd.options.display.float_format = '{:.3f}'.format"
   ]
  },
  {
   "cell_type": "code",
   "execution_count": null,
   "metadata": {
    "collapsed": false
   },
   "outputs": [],
   "source": [
    "def get_interp_df(raw_df):\n",
    "    start_ts = raw_df.ts.iloc[0]\n",
    "    end_ts = raw_df.ts.iloc[-1]\n",
    "    latf = spi.interp1d(x=raw_df.ts, y=raw_df.latitude, bounds_error=False)\n",
    "    lngf = spi.interp1d(x=raw_df.ts, y=raw_df.longitude, bounds_error=False)\n",
    "    ts_new = np.arange(int(start_ts), int(end_ts), 1)\n",
    "    fmt_time_new = map(lambda ts: pydt.datetime.fromtimestamp(ts).isoformat(), ts_new)\n",
    "    interp_df = pd.DataFrame({\"ts\": ts_new, \"fmt_time\": fmt_time_new,\n",
    "                            \"latitude\": latf(ts_new), \"longitude\": lngf(ts_new)}, index=ts_new)\n",
    "    interp_df = interp_df.dropna()\n",
    "    return interp_df"
   ]
  },
  {
   "cell_type": "code",
   "execution_count": null,
   "metadata": {
    "collapsed": false
   },
   "outputs": [],
   "source": [
    "import emission.analysis.point_features as pf\n",
    "import attrdict as ad"
   ]
  },
  {
   "cell_type": "code",
   "execution_count": null,
   "metadata": {
    "collapsed": false
   },
   "outputs": [],
   "source": [
    "def calDistance(row):\n",
    "    return pf.calDistance(ad.AttrDict({\"latitude\": row['latitude_android'], \"longitude\": row['longitude_android']}),\n",
    "                          ad.AttrDict({\"latitude\": row['latitude_ios'], \"longitude\": row['longitude_ios']}))"
   ]
  },
  {
   "cell_type": "code",
   "execution_count": null,
   "metadata": {
    "collapsed": false
   },
   "outputs": [],
   "source": [
    "def get_ground_truth(android_ts, ios_ts, start_ts, end_ts):\n",
    "    android_df = get_interp_df(android_ts.get_data_df(\"background/location\", estt.TimeQuery(\"metadata.write_ts\", start_ts, end_ts)))\n",
    "    ios_df = get_interp_df(ios_ts.get_data_df(\"background/location\", estt.TimeQuery(\"metadata.write_ts\", start_ts, end_ts)))\n",
    "    joined_df = android_df.join(ios_df, how='inner', lsuffix=\"_android\", rsuffix=\"_ios\")\n",
    "    # joined_df.drop(['fmt_time_ios', 'ts_ios'], axis=1, inplace=True)\n",
    "    # joined_df.rename(columns={\"fmt_time_android\": \"fmt_time\", \"ts_android\": \"ts\"}, inplace=True)\n",
    "    joined_df['same_point_distances'] = joined_df.apply(calDistance, axis=1)\n",
    "    filtered_df = joined_df[joined_df.same_point_distances < 40]\n",
    "    combined_df = pd.DataFrame({\"ts\": filtered_df.ts_android, \"fmt_time\": filtered_df.fmt_time_android,\n",
    "                            \"latitude\": (filtered_df.latitude_android + filtered_df.latitude_ios)/2,\n",
    "                            \"longitude\": (filtered_df.longitude_android + filtered_df.longitude_ios)/2,\n",
    "                            \"same_point_distances\": filtered_df.same_point_distances}, index=np.array(filtered_df.ts_android))\n",
    "    pct_retained = float(len(combined_df) * 100) / (int(end_ts) - int(start_ts))\n",
    "    return pct_retained, combined_df"
   ]
  },
  {
   "cell_type": "code",
   "execution_count": null,
   "metadata": {
    "collapsed": false
   },
   "outputs": [],
   "source": [
    "caltrain_df.iloc[0]"
   ]
  },
  {
   "cell_type": "code",
   "execution_count": null,
   "metadata": {
    "collapsed": false
   },
   "outputs": [],
   "source": [
    "(pct_retained_30_in, ground_truth_30_in) = get_ground_truth(android_ts[0], iphone_ts[0], caltrain_df.iloc[0].start_ts, caltrain_df.iloc[0].end_ts)"
   ]
  },
  {
   "cell_type": "code",
   "execution_count": null,
   "metadata": {
    "collapsed": false
   },
   "outputs": [],
   "source": [
    "(pct_retained_compare_30_in_1, compare_truth_30_in_1) = get_ground_truth(android_ts[1], iphone_ts[1], caltrain_df.iloc[0].start_ts, caltrain_df.iloc[0].end_ts)"
   ]
  },
  {
   "cell_type": "code",
   "execution_count": null,
   "metadata": {
    "collapsed": false
   },
   "outputs": [],
   "source": [
    "(pct_retained_compare_30_in_2, compare_truth_30_in_2) = get_ground_truth(android_ts[2], iphone_ts[2], caltrain_df.iloc[0].start_ts, caltrain_df.iloc[0].end_ts)"
   ]
  },
  {
   "cell_type": "code",
   "execution_count": null,
   "metadata": {
    "collapsed": false
   },
   "outputs": [],
   "source": [
    "(pct_retained_compare_30_in_3, compare_truth_30_in_3) = get_ground_truth(android_ts[3], iphone_ts[3], caltrain_df.iloc[0].start_ts, caltrain_df.iloc[0].end_ts)"
   ]
  },
  {
   "cell_type": "code",
   "execution_count": null,
   "metadata": {
    "collapsed": false
   },
   "outputs": [],
   "source": [
    "print pct_retained_30_in, pct_retained_compare_30_in_1, pct_retained_compare_30_in_2, pct_retained_compare_30_in_3"
   ]
  },
  {
   "cell_type": "code",
   "execution_count": null,
   "metadata": {
    "collapsed": false
   },
   "outputs": [],
   "source": [
    "def calDistanceGround(row):\n",
    "    return pf.calDistance(ad.AttrDict({\"latitude\": row['latitude_ground'], \"longitude\": row['longitude_ground']}),\n",
    "                          ad.AttrDict({\"latitude\": row['latitude_compare'], \"longitude\": row['longitude_compare']}))"
   ]
  },
  {
   "cell_type": "code",
   "execution_count": null,
   "metadata": {
    "collapsed": false
   },
   "outputs": [],
   "source": [
    "def compare_trajectories(ground_truth_df, compare_df):\n",
    "    joined_df = ground_truth_df.join(compare_df, how='inner', lsuffix=\"_ground\", rsuffix=\"_compare\")\n",
    "    joined_df['compare_distance'] = joined_df.apply(calDistanceGround, axis=1)\n",
    "    return joined_df"
   ]
  },
  {
   "cell_type": "code",
   "execution_count": null,
   "metadata": {
    "collapsed": false
   },
   "outputs": [],
   "source": [
    "compare_ground_truth_30_in_1 = compare_trajectories(ground_truth_30_in, compare_truth_30_in_1)\n",
    "compare_ground_truth_30_in_1.head()"
   ]
  },
  {
   "cell_type": "code",
   "execution_count": null,
   "metadata": {
    "collapsed": false
   },
   "outputs": [],
   "source": [
    "ax = compare_ground_truth_30_in_1.compare_distance.plot(kind='hist', bins=50, figsize=(16,4))\n",
    "ticks_list = ax.set_xticks(np.arange(0,50,2))"
   ]
  },
  {
   "cell_type": "code",
   "execution_count": null,
   "metadata": {
    "collapsed": false
   },
   "outputs": [],
   "source": [
    "import emission.analysis.plotting.leaflet_osm.our_plotter as lo\n",
    "import emission.analysis.plotting.geojson.geojson_feature_converter as gfc\n",
    "import emission.analysis.plotting.leaflet_osm.ipython_helper as ipy"
   ]
  },
  {
   "cell_type": "code",
   "execution_count": null,
   "metadata": {
    "collapsed": false
   },
   "outputs": [],
   "source": [
    "ipy.inline_maps([lo.get_maps_for_geojson_unsectioned([gfc.get_feature_list_from_df(compare_ground_truth_30_in_1.head(n=100), \n",
    "                    ts=\"ts_ground\", latitude=\"latitude_ground\", longitude=\"longitude_ground\", fmt_time=\"fmt_time_ground\")]) +\n",
    "lo.get_maps_for_geojson_unsectioned([gfc.get_feature_list_from_df(compare_ground_truth_30_in_1.head(n=100),\n",
    "                    ts=\"ts_compare\", latitude=\"latitude_compare\", longitude=\"longitude_compare\", fmt_time=\"fmt_time_compare\")])])"
   ]
  },
  {
   "cell_type": "code",
   "execution_count": null,
   "metadata": {
    "collapsed": false
   },
   "outputs": [],
   "source": [
    "compare_ground_truth_30_in_2 = compare_trajectories(ground_truth_30_in, compare_truth_30_in_2)\n",
    "compare_ground_truth_30_in_3 = compare_trajectories(ground_truth_30_in, compare_truth_30_in_3)"
   ]
  },
  {
   "cell_type": "code",
   "execution_count": null,
   "metadata": {
    "collapsed": false
   },
   "outputs": [],
   "source": [
    "pct_retained_1 = float(len(compare_ground_truth_30_in_1) * 100) / (int(caltrain_df.iloc[0].end_ts) - int(caltrain_df.iloc[0].start_ts))\n",
    "pct_retained_2 = float(len(compare_ground_truth_30_in_2) * 100) / (int(caltrain_df.iloc[0].end_ts) - int(caltrain_df.iloc[0].start_ts))\n",
    "pct_retained_3 = float(len(compare_ground_truth_30_in_3) * 100) / (int(caltrain_df.iloc[0].end_ts) - int(caltrain_df.iloc[0].start_ts))\n",
    "\n",
    "print pct_retained_1, pct_retained_2, pct_retained_3"
   ]
  },
  {
   "cell_type": "code",
   "execution_count": null,
   "metadata": {
    "collapsed": false
   },
   "outputs": [],
   "source": [
    "compare_ground_truth_30_in_1.compare_distance.describe()"
   ]
  },
  {
   "cell_type": "code",
   "execution_count": null,
   "metadata": {
    "collapsed": false
   },
   "outputs": [],
   "source": [
    "compare_ground_truth_30_in_2.compare_distance.describe()"
   ]
  },
  {
   "cell_type": "code",
   "execution_count": null,
   "metadata": {
    "collapsed": false
   },
   "outputs": [],
   "source": [
    "compare_ground_truth_30_in_3.compare_distance.describe()"
   ]
  },
  {
   "cell_type": "code",
   "execution_count": null,
   "metadata": {
    "collapsed": false
   },
   "outputs": [],
   "source": [
    "compare_raw_trajectory_ios_1 = compare_trajectories(ground_truth_30_in,\n",
    "                                    get_interp_df(iphone_ts[1].get_data_df(\"background/location\", \n",
    "                                            estt.TimeQuery(\"metadata.write_ts\", caltrain_df.iloc[0].start_ts, caltrain_df.iloc[0].end_ts))))"
   ]
  },
  {
   "cell_type": "code",
   "execution_count": null,
   "metadata": {
    "collapsed": false
   },
   "outputs": [],
   "source": [
    "compare_raw_trajectory_ios_1.compare_distance.describe()"
   ]
  },
  {
   "cell_type": "code",
   "execution_count": null,
   "metadata": {
    "collapsed": false
   },
   "outputs": [],
   "source": [
    "compare_raw_trajectory_android_1 = compare_trajectories(ground_truth_30_in,\n",
    "                                    get_interp_df(android_ts[1].get_data_df(\"background/location\", \n",
    "                                            estt.TimeQuery(\"metadata.write_ts\", caltrain_df.iloc[0].start_ts, caltrain_df.iloc[0].end_ts))))"
   ]
  },
  {
   "cell_type": "code",
   "execution_count": null,
   "metadata": {
    "collapsed": false
   },
   "outputs": [],
   "source": [
    "compare_raw_trajectory_android_1.compare_distance.describe()"
   ]
  },
  {
   "cell_type": "code",
   "execution_count": null,
   "metadata": {
    "collapsed": false
   },
   "outputs": [],
   "source": [
    "compare_trajectories(ground_truth_30_in,\n",
    "    get_interp_df(iphone_ts[3].get_data_df(\"background/location\", \n",
    "        estt.TimeQuery(\"metadata.write_ts\", caltrain_df.iloc[0].start_ts, caltrain_df.iloc[0].end_ts)))).compare_distance.describe()"
   ]
  },
  {
   "cell_type": "code",
   "execution_count": null,
   "metadata": {
    "collapsed": false
   },
   "outputs": [],
   "source": [
    "compare_trajectories(ground_truth_30_in,\n",
    "    get_interp_df(android_ts[3].get_data_df(\"background/location\", \n",
    "        estt.TimeQuery(\"metadata.write_ts\", caltrain_df.iloc[0].start_ts, caltrain_df.iloc[0].end_ts)))).compare_distance.describe()"
   ]
  },
  {
   "cell_type": "code",
   "execution_count": null,
   "metadata": {
    "collapsed": false
   },
   "outputs": [],
   "source": [
    "ipy.inline_maps([lo.get_maps_for_geojson_unsectioned([gfc.get_feature_list_from_df(compare_raw_trajectory_android_1, \n",
    "                    ts=\"ts_ground\", latitude=\"latitude_ground\", longitude=\"longitude_ground\", fmt_time=\"fmt_time_ground\")]) +\n",
    "lo.get_maps_for_geojson_unsectioned([gfc.get_feature_list_from_df(compare_raw_trajectory_android_1,\n",
    "                    ts=\"ts_compare\", latitude=\"latitude_compare\", longitude=\"longitude_compare\", fmt_time=\"fmt_time_compare\")])])"
   ]
  },
  {
   "cell_type": "code",
   "execution_count": null,
   "metadata": {
    "collapsed": false
   },
   "outputs": [],
   "source": [
    "def compare_accuracy(ios_regime, android_regime, start_ts, end_ts):\n",
    "    # First, get ground truth from hafs phones\n",
    "    (pct_retained, ground_truth_df) = get_ground_truth(android_ts[0], iphone_ts[0], start_ts, end_ts)\n",
    "    print \"Retained %s percent\" % pct_retained\n",
    "    result_list = []\n",
    "    for i in range(1,4):\n",
    "        print \"Checking ios phone-%s\" % i\n",
    "        ios_raw_df = iphone_ts[i].get_data_df(\"background/location\", \n",
    "                                            estt.TimeQuery(\"metadata.write_ts\", start_ts, end_ts))\n",
    "        # print ios_raw_df.head()\n",
    "        compare_raw_trajectory_ios = compare_trajectories(ground_truth_df,\n",
    "                                    get_interp_df(ios_raw_df))\n",
    "        ios_result = compare_raw_trajectory_ios.compare_distance.describe()\n",
    "        ios_result['platform'] = 'ios'\n",
    "        ios_result['label'] = ios_regime\n",
    "        ios_result['phone'] = i\n",
    "        print \"Result for ios phone-%s = %s\" % (i, ios_result)\n",
    "        result_list.append(ios_result)\n",
    "        \n",
    "        print \"Checking android phone-%s\" % i\n",
    "        android_raw_df = android_ts[i].get_data_df(\"background/location\", \n",
    "                                            estt.TimeQuery(\"metadata.write_ts\", start_ts, end_ts))\n",
    "        # print android_raw_df.head()\n",
    "        compare_raw_trajectory_android = compare_trajectories(ground_truth_df,\n",
    "                                    get_interp_df(android_raw_df))\n",
    "        android_result = compare_raw_trajectory_android.compare_distance.describe()\n",
    "        android_result['platform'] = 'android'\n",
    "        android_result['label'] = android_regime\n",
    "        android_result['phone'] = i\n",
    "        result_list.append(android_result)\n",
    "        print \"Result for android phone-%s is %s\" % (i, android_result)\n",
    "\n",
    "    return ([\"%s:%s\" % (ios_regime, android_regime), pct_retained], result_list)"
   ]
  },
  {
   "cell_type": "code",
   "execution_count": null,
   "metadata": {
    "collapsed": false
   },
   "outputs": [],
   "source": [
    "retained_list = []\n",
    "result_list = []"
   ]
  },
  {
   "cell_type": "code",
   "execution_count": null,
   "metadata": {
    "collapsed": false
   },
   "outputs": [],
   "source": [
    "(ret, res) = compare_accuracy(\"best+1m\", \"high+1sec\", caltrain_df.iloc[0].start_ts, caltrain_df.iloc[0].end_ts)\n",
    "retained_list.append(ret)\n",
    "result_list.extend(res)"
   ]
  },
  {
   "cell_type": "code",
   "execution_count": null,
   "metadata": {
    "collapsed": false
   },
   "outputs": [],
   "source": [
    "(ret, res) = compare_accuracy(\"best-v-10m+1m-v-30m\", \"high-v-balanced+1sec-v-30sec\", caltrain_df.iloc[1].start_ts, caltrain_df.iloc[1].end_ts)\n",
    "retained_list.append(ret)\n",
    "result_list.extend(res)"
   ]
  },
  {
   "cell_type": "code",
   "execution_count": null,
   "metadata": {
    "collapsed": false
   },
   "outputs": [],
   "source": [
    "(ret, res) = compare_accuracy(\"best-v-10m+1m-v-30m\", \"high-v-balanced+1sec-v-30sec\", caltrain_df.iloc[2].start_ts, caltrain_df.iloc[2].end_ts)\n",
    "retained_list.append(ret)\n",
    "result_list.extend(res)"
   ]
  },
  {
   "cell_type": "code",
   "execution_count": null,
   "metadata": {
    "collapsed": false
   },
   "outputs": [],
   "source": [
    "retained_list"
   ]
  },
  {
   "cell_type": "code",
   "execution_count": null,
   "metadata": {
    "collapsed": false
   },
   "outputs": [],
   "source": [
    "pd.DataFrame(retained_list, columns=[\"regime\", \"retained\"]).plot(kind='bar', x=\"regime\", rot=45)"
   ]
  },
  {
   "cell_type": "code",
   "execution_count": null,
   "metadata": {
    "collapsed": false
   },
   "outputs": [],
   "source": [
    "for key, df in pd.DataFrame(result_list).reset_index(drop=True).groupby('label'):\n",
    "    df.drop([\"count\", \"std\"], axis=1, inplace=True)\n",
    "    df.plot(subplots=True, x='phone', kind='bar', title=key, figsize=(10,5), layout = (2,3))"
   ]
  },
  {
   "cell_type": "code",
   "execution_count": null,
   "metadata": {
    "collapsed": true
   },
   "outputs": [],
   "source": []
  }
 ],
 "metadata": {
  "kernelspec": {
   "display_name": "Python 2",
   "language": "python",
   "name": "python2"
  },
  "language_info": {
   "codemirror_mode": {
    "name": "ipython",
    "version": 2
   },
   "file_extension": ".py",
   "mimetype": "text/x-python",
   "name": "python",
   "nbconvert_exporter": "python",
   "pygments_lexer": "ipython2",
   "version": "2.7.11"
  }
 },
 "nbformat": 4,
 "nbformat_minor": 0
}
