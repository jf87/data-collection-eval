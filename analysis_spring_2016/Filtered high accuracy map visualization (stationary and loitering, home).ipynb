{
 "cells": [
  {
   "cell_type": "markdown",
   "metadata": {},
   "source": [
    "This notebook visualizes the correspondence between multiple high accuracy fast sampling streams, on two different platforms, while the phones were moving.\n",
    "\n",
    "Remember to load the `stationary`, `high+1sec` and `loitering`, `high+1sec` data from `Pull_entries_from_server` if you have not already done so."
   ]
  },
  {
   "cell_type": "code",
   "execution_count": null,
   "metadata": {
    "collapsed": false
   },
   "outputs": [],
   "source": [
    "import sys\n",
    "import logging\n",
    "from uuid import UUID\n",
    "\n",
    "import emission.core.get_database as edb\n",
    "import pandas as pd\n",
    "import matplotlib.pyplot as plt\n",
    "%matplotlib inline\n",
    "import datetime as pydt\n",
    "import emission.storage.timeseries.abstract_timeseries as esta\n",
    "import emission.storage.timeseries.timequery as estt\n",
    "import numpy as np\n",
    "\n",
    "logging.getLogger().setLevel(logging.DEBUG)\n",
    "logging.debug(sys.path)\n",
    "\n",
    "iphone_ids = [UUID(\"079e0f1a-c440-3d7c-b0e7-de160f748e35\"), UUID(\"c76a0487-7e5a-3b17-a449-47be666b36f6\"), \n",
    "              UUID(\"c528bcd2-a88b-3e82-be62-ef4f2396967a\"), UUID(\"95e70727-a04e-3e33-b7fe-34ab19194f8b\")]\n",
    "android_ids = [UUID(\"e471711e-bd14-3dbe-80b6-9c7d92ecc296\"), UUID(\"fd7b4c2e-2c8b-3bfa-94f0-d1e3ecbd5fb7\"),\n",
    "               UUID(\"86842c35-da28-32ed-a90e-2da6663c5c73\"), UUID(\"3bc0f91f-7660-34a2-b005-5c399598a369\")]"
   ]
  },
  {
   "cell_type": "code",
   "execution_count": null,
   "metadata": {
    "collapsed": false
   },
   "outputs": [],
   "source": [
    "iphone_ts = map(lambda u: esta.TimeSeries.get_time_series(u), iphone_ids)\n",
    "android_ts = map(lambda u: esta.TimeSeries.get_time_series(u), android_ids)"
   ]
  },
  {
   "cell_type": "code",
   "execution_count": null,
   "metadata": {
    "collapsed": false
   },
   "outputs": [],
   "source": [
    "ranges_df = pd.read_csv(\"../results_spring_2016/ranges.csv\", error_bad_lines=False)"
   ]
  },
  {
   "cell_type": "code",
   "execution_count": null,
   "metadata": {
    "collapsed": false
   },
   "outputs": [],
   "source": [
    "ranges_df.head()"
   ]
  },
  {
   "cell_type": "code",
   "execution_count": null,
   "metadata": {
    "collapsed": false
   },
   "outputs": [],
   "source": [
    "regime_grouped_ranges_df = ranges_df.groupby(['state', 'android_regime', 'ios_regime'])"
   ]
  },
  {
   "cell_type": "code",
   "execution_count": null,
   "metadata": {
    "collapsed": false
   },
   "outputs": [],
   "source": [
    "invalid_df = pd.read_csv(\"../results_spring_2016/invalid.csv\")"
   ]
  },
  {
   "cell_type": "code",
   "execution_count": null,
   "metadata": {
    "collapsed": false
   },
   "outputs": [],
   "source": [
    "invalid_df"
   ]
  },
  {
   "cell_type": "code",
   "execution_count": null,
   "metadata": {
    "collapsed": false
   },
   "outputs": [],
   "source": [
    "import emission.analysis.point_features as pf\n",
    "import attrdict as ad"
   ]
  },
  {
   "cell_type": "code",
   "execution_count": null,
   "metadata": {
    "collapsed": false
   },
   "outputs": [],
   "source": [
    "def calDistance(row):\n",
    "    return pf.calDistance(ad.AttrDict({\"latitude\": row[0], \"longitude\": row[1]}),\n",
    "                          ad.AttrDict({\"latitude\": row[3], \"longitude\": row[4]}))"
   ]
  },
  {
   "cell_type": "code",
   "execution_count": null,
   "metadata": {
    "collapsed": false
   },
   "outputs": [],
   "source": [
    "import scipy.interpolate as spi\n",
    "import numpy as np"
   ]
  },
  {
   "cell_type": "code",
   "execution_count": null,
   "metadata": {
    "collapsed": false
   },
   "outputs": [],
   "source": [
    "np.array([[1]]).shape"
   ]
  },
  {
   "cell_type": "code",
   "execution_count": null,
   "metadata": {
    "collapsed": false
   },
   "outputs": [],
   "source": [
    "def get_interp_distance_df(android_ts, ios_ts, start_ts, end_ts):\n",
    "    android_df = android_ts.get_data_df(\"background/location\", estt.TimeQuery('metadata.write_ts', start_ts, end_ts))\n",
    "    ios_df = ios_ts.get_data_df(\"background/location\", estt.TimeQuery('metadata.write_ts', start_ts, end_ts))\n",
    "    android_latf = spi.interp1d(x=android_df.ts, y=android_df.latitude, bounds_error=False,\n",
    "                                fill_value=\"extrapolate\")\n",
    "    android_lngf = spi.interp1d(x=android_df.ts, y=android_df.longitude, bounds_error=False, \n",
    "                                fill_value=\"extrapolate\")\n",
    "    ios_latf = spi.interp1d(x=ios_df.ts, y=ios_df.latitude, bounds_error=False, fill_value=(ios_df.latitude.iloc[0], ios_df.latitude.iloc[-1]))\n",
    "    ios_lngf = spi.interp1d(x=ios_df.ts, y=ios_df.longitude, bounds_error=False, fill_value=(ios_df.longitude.iloc[0], ios_df.longitude.iloc[-1]))\n",
    "    ts_new = np.arange(int(start_ts), int(end_ts), 1)\n",
    "    fmt_time_new = map(lambda ts: pydt.datetime.fromtimestamp(ts).isoformat(), ts_new)\n",
    "    interp_df = pd.DataFrame({\"ts\": ts_new, \"fmt_time\": fmt_time_new,\n",
    "                            \"android_lat\": android_latf(ts_new), \"android_lng\": android_lngf(ts_new),\n",
    "                            \"ios_lat\": ios_latf(ts_new), \"ios_lng\": ios_lngf(ts_new)}, index=ts_new)\n",
    "    same_point_distances = np.abs(interp_df.apply(calDistance, axis=1))\n",
    "    interp_df[\"same_point_distances\"] = same_point_distances\n",
    "    return interp_df"
   ]
  },
  {
   "cell_type": "code",
   "execution_count": null,
   "metadata": {
    "collapsed": false
   },
   "outputs": [],
   "source": [
    "def get_points_from_ts_for_range(ts, start_ts, end_ts):\n",
    "    return ts.get_data_df(\"background/location\", estt.TimeQuery('metadata.write_ts', start_ts, end_ts))"
   ]
  },
  {
   "cell_type": "code",
   "execution_count": null,
   "metadata": {
    "collapsed": false
   },
   "outputs": [],
   "source": [
    "def get_points_for_range(ts, range_df):\n",
    "    points_range_df = map(lambda row: get_points_from_ts_for_range(ts, row['start_ts'], row['end_ts']), range_df.to_dict('records'))\n",
    "    return points_range_df"
   ]
  },
  {
   "cell_type": "code",
   "execution_count": null,
   "metadata": {
    "collapsed": false
   },
   "outputs": [],
   "source": [
    "def get_points_for_group(ts_list, range_df):\n",
    "    return map(lambda ts: get_points_for_range(ts, range_df), ts_list)"
   ]
  },
  {
   "cell_type": "code",
   "execution_count": null,
   "metadata": {
    "collapsed": false
   },
   "outputs": [],
   "source": []
  },
  {
   "cell_type": "code",
   "execution_count": null,
   "metadata": {
    "collapsed": false
   },
   "outputs": [],
   "source": [
    "import emission.analysis.plotting.leaflet_osm.our_plotter as lo\n",
    "import emission.analysis.plotting.geojson.geojson_feature_converter as gfc\n",
    "import emission.analysis.plotting.leaflet_osm.ipython_helper as ipy"
   ]
  },
  {
   "cell_type": "code",
   "execution_count": null,
   "metadata": {
    "collapsed": false
   },
   "outputs": [],
   "source": [
    "iphone_high_fast_loitering_df = pd.DataFrame()\n",
    "for key, df in regime_grouped_ranges_df:\n",
    "    if key[0] == 'loitering' and key[1] == 'high+1sec':\n",
    "        # one row for each phone\n",
    "        # each row contains len(stationary ranges) dataframes\n",
    "        iphone_range_location_df_list = get_points_for_group(iphone_ts, df)"
   ]
  },
  {
   "cell_type": "code",
   "execution_count": null,
   "metadata": {
    "collapsed": false
   },
   "outputs": [],
   "source": [
    "android_high_fast_loitering_df = pd.DataFrame()\n",
    "for key, df in regime_grouped_ranges_df:\n",
    "    if key[0] == 'loitering' and key[1] == 'high+1sec':\n",
    "        # one row for each phone\n",
    "        # each row contains len(stationary ranges) dataframes\n",
    "        android_phone_range_location_df_list = get_points_for_group(android_ts, df)"
   ]
  },
  {
   "cell_type": "code",
   "execution_count": null,
   "metadata": {
    "collapsed": false
   },
   "outputs": [],
   "source": [
    "ipy.inline_maps([lo.get_maps_for_geojson_unsectioned([gfc.get_feature_list_from_df(iphone_range_location_df_list[0][1])]) + \n",
    "                 lo.get_maps_for_geojson_unsectioned([gfc.get_feature_list_from_df(android_phone_range_location_df_list[0][1].sample(frac=0.1))])])"
   ]
  },
  {
   "cell_type": "code",
   "execution_count": null,
   "metadata": {
    "collapsed": false
   },
   "outputs": [],
   "source": [
    "time_df = android_phone_range_location_df_list[0][1]\n",
    "interp_df = get_interp_distance_df(android_ts[0], iphone_ts[0], time_df.iloc[0].ts, time_df.iloc[-1].ts)"
   ]
  },
  {
   "cell_type": "code",
   "execution_count": null,
   "metadata": {
    "collapsed": false
   },
   "outputs": [],
   "source": [
    "interp_df.same_point_distances.plot(kind='hist', bins = 100)"
   ]
  },
  {
   "cell_type": "code",
   "execution_count": null,
   "metadata": {
    "collapsed": false
   },
   "outputs": [],
   "source": [
    "ax = interp_df[interp_df.same_point_distances < 100].same_point_distances.plot(kind='hist', bins = 100, figsize=(12,4))\n",
    "tick_list = ax.set_xticks(np.arange(0,100,2))"
   ]
  },
  {
   "cell_type": "code",
   "execution_count": null,
   "metadata": {
    "collapsed": false
   },
   "outputs": [],
   "source": [
    "ax = interp_df[interp_df.same_point_distances < 100].same_point_distances.hist(bins=100, figsize=(15,3), cumulative=True)\n",
    "tick_list = ax.set_xticks(np.arange(0,100,2))"
   ]
  },
  {
   "cell_type": "code",
   "execution_count": null,
   "metadata": {
    "collapsed": false
   },
   "outputs": [],
   "source": [
    "ipy.inline_maps([lo.get_maps_for_geojson_unsectioned([gfc.get_feature_list_from_df(interp_df.sample(frac=0.01), ts=\"ts\", latitude=\"ios_lat\", longitude=\"ios_lng\")]) +\n",
    "lo.get_maps_for_geojson_unsectioned([gfc.get_feature_list_from_df(interp_df.sample(frac=0.01), ts=\"ts\", latitude=\"android_lat\", longitude=\"android_lng\")])])"
   ]
  },
  {
   "cell_type": "code",
   "execution_count": null,
   "metadata": {
    "collapsed": false
   },
   "outputs": [],
   "source": [
    "cleaned_stationary_df_18 = interp_df[interp_df.same_point_distances <= 18]"
   ]
  },
  {
   "cell_type": "code",
   "execution_count": null,
   "metadata": {
    "collapsed": false
   },
   "outputs": [],
   "source": [
    "ipy.inline_maps([lo.get_maps_for_geojson_unsectioned([gfc.get_feature_list_from_df(cleaned_stationary_df_18.sample(frac=0.01), ts=\"ts\", latitude=\"ios_lat\", longitude=\"ios_lng\")]) +\n",
    "lo.get_maps_for_geojson_unsectioned([gfc.get_feature_list_from_df(cleaned_stationary_df_18.sample(frac=0.01), ts=\"ts\", latitude=\"android_lat\", longitude=\"android_lng\")])])"
   ]
  },
  {
   "cell_type": "code",
   "execution_count": null,
   "metadata": {
    "collapsed": false
   },
   "outputs": [],
   "source": [
    "ipy.inline_maps([lo.get_maps_for_geojson_unsectioned([gfc.get_feature_list_from_df(cleaned_stationary_df_18.sample(frac=0.01), ts=\"ts\", latitude=\"ios_lat\", longitude=\"ios_lng\")]) +\n",
    "lo.get_maps_for_geojson_unsectioned([gfc.get_feature_list_from_df(cleaned_stationary_df_18.sample(frac=0.01), ts=\"ts\", latitude=\"android_lat\", longitude=\"android_lng\")])])"
   ]
  },
  {
   "cell_type": "code",
   "execution_count": null,
   "metadata": {
    "collapsed": false
   },
   "outputs": [],
   "source": [
    "ipy.inline_maps([lo.get_maps_for_geojson_unsectioned([gfc.get_feature_list_from_df(cleaned_stationary_df_18.sample(frac=0.01), ts=\"ts\", latitude=\"ios_lat\", longitude=\"ios_lng\")]) +\n",
    "lo.get_maps_for_geojson_unsectioned([gfc.get_feature_list_from_df(cleaned_stationary_df_18.sample(frac=0.01), ts=\"ts\", latitude=\"android_lat\", longitude=\"android_lng\")])])"
   ]
  },
  {
   "cell_type": "code",
   "execution_count": null,
   "metadata": {
    "collapsed": false
   },
   "outputs": [],
   "source": []
  },
  {
   "cell_type": "code",
   "execution_count": null,
   "metadata": {
    "collapsed": true
   },
   "outputs": [],
   "source": []
  }
 ],
 "metadata": {
  "kernelspec": {
   "display_name": "Python 2",
   "language": "python",
   "name": "python2"
  },
  "language_info": {
   "codemirror_mode": {
    "name": "ipython",
    "version": 2
   },
   "file_extension": ".py",
   "mimetype": "text/x-python",
   "name": "python",
   "nbconvert_exporter": "python",
   "pygments_lexer": "ipython2",
   "version": "2.7.11"
  }
 },
 "nbformat": 4,
 "nbformat_minor": 0
}
