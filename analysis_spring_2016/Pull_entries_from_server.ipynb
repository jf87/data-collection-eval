{
 "cells": [
  {
   "cell_type": "markdown",
   "metadata": {},
   "source": [
    "NOTE: The *first* time that you start investigating a state, you need to load the data for it by using this notebook.\n",
    "Once the data has been pulled to your local server, it can be re-used until the local database is purged."
   ]
  },
  {
   "cell_type": "code",
   "execution_count": null,
   "metadata": {
    "collapsed": true
   },
   "outputs": [],
   "source": [
    "import emission.public.pull_and_load_public_data as plpd\n",
    "import pandas as pd"
   ]
  },
  {
   "cell_type": "code",
   "execution_count": null,
   "metadata": {
    "collapsed": true
   },
   "outputs": [],
   "source": [
    "import emission.storage.timeseries.aggregate_timeseries as estag"
   ]
  },
  {
   "cell_type": "code",
   "execution_count": null,
   "metadata": {
    "collapsed": true
   },
   "outputs": [],
   "source": [
    "public_ids = estag.TEST_PHONE_IDS"
   ]
  },
  {
   "cell_type": "markdown",
   "metadata": {},
   "source": [
    "### Pull based on state and regime"
   ]
  },
  {
   "cell_type": "code",
   "execution_count": null,
   "metadata": {
    "collapsed": false
   },
   "outputs": [],
   "source": [
    "ranges_df = pd.read_csv(\"../results_spring_2016/ranges.csv\", error_bad_lines=False)"
   ]
  },
  {
   "cell_type": "code",
   "execution_count": null,
   "metadata": {
    "collapsed": false
   },
   "outputs": [],
   "source": [
    "ranges_df.head()"
   ]
  },
  {
   "cell_type": "code",
   "execution_count": null,
   "metadata": {
    "collapsed": true
   },
   "outputs": [],
   "source": [
    "regime_grouped_ranges_df = ranges_df.groupby(['state', 'android_regime', 'ios_regime'])"
   ]
  },
  {
   "cell_type": "code",
   "execution_count": null,
   "metadata": {
    "collapsed": true
   },
   "outputs": [],
   "source": [
    "def pull_data_from_server(state, android_regime):\n",
    "    for key, df in regime_grouped_ranges_df:\n",
    "        if key[0] == state and key[1] == android_regime:\n",
    "            # one row for each phone\n",
    "            # each row contains len(moving ranges) dataframes\n",
    "            for row in df.to_records():\n",
    "                print \"Pulling data for range %s -> %s\" % (row.start_ts, row.end_ts)\n",
    "                plpd.request_batched_data(\"https://e-mission.eecs.berkeley.edu\", row.start_ts, row.end_ts, \n",
    "                                          map(str, public_ids))"
   ]
  },
  {
   "cell_type": "code",
   "execution_count": null,
   "metadata": {
    "collapsed": false
   },
   "outputs": [],
   "source": [
    "pull_data_from_server(\"moving\", \"high+1sec\")"
   ]
  },
  {
   "cell_type": "code",
   "execution_count": null,
   "metadata": {
    "collapsed": false
   },
   "outputs": [],
   "source": [
    "pull_data_from_server(\"stationary\", \"high+1sec\")"
   ]
  },
  {
   "cell_type": "code",
   "execution_count": null,
   "metadata": {
    "collapsed": false
   },
   "outputs": [],
   "source": [
    "pull_data_from_server(\"loitering\", \"high+1sec\")"
   ]
  },
  {
   "cell_type": "markdown",
   "metadata": {},
   "source": [
    "### Pull for comparing with specified ground truth"
   ]
  },
  {
   "cell_type": "code",
   "execution_count": null,
   "metadata": {
    "collapsed": false
   },
   "outputs": [],
   "source": [
    "caltrain_df = pd.read_csv(\"../results_spring_2016/caltrain_trips.csv\")"
   ]
  },
  {
   "cell_type": "code",
   "execution_count": null,
   "metadata": {
    "collapsed": false
   },
   "outputs": [],
   "source": [
    "caltrain_df"
   ]
  },
  {
   "cell_type": "code",
   "execution_count": null,
   "metadata": {
    "collapsed": false
   },
   "outputs": [],
   "source": [
    "# Pulling data for the caltrain ground truth comparison\n",
    "for row in caltrain_df.to_records():\n",
    "    print \"Pulling data for range %s -> %s\" % (row.start_ts, row.end_ts)\n",
    "    plpd.request_batched_data(\"https://e-mission.eecs.berkeley.edu\", row.start_ts, row.end_ts, map(str, public_ids))"
   ]
  },
  {
   "cell_type": "code",
   "execution_count": null,
   "metadata": {
    "collapsed": true
   },
   "outputs": [],
   "source": []
  }
 ],
 "metadata": {
  "kernelspec": {
   "display_name": "Python 2",
   "language": "python",
   "name": "python2"
  },
  "language_info": {
   "codemirror_mode": {
    "name": "ipython",
    "version": 2
   },
   "file_extension": ".py",
   "mimetype": "text/x-python",
   "name": "python",
   "nbconvert_exporter": "python",
   "pygments_lexer": "ipython2",
   "version": "2.7.11"
  }
 },
 "nbformat": 4,
 "nbformat_minor": 0
}
