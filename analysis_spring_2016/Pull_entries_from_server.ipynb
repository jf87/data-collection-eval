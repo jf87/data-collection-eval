{
 "cells": [
  {
   "cell_type": "markdown",
   "metadata": {},
   "source": [
    "NOTE: The *first* time that you start investigating a state, you need to load the data for it by using this notebook.\n",
    "Once the data has been pulled to your local server, it can be re-used until the local database is purged."
   ]
  },
  {
   "cell_type": "code",
   "execution_count": 1,
   "metadata": {
    "collapsed": true
   },
   "outputs": [],
   "source": [
    "import emission.public.pull_and_load_public_data as plpd\n",
    "import pandas as pd"
   ]
  },
  {
   "cell_type": "code",
   "execution_count": 2,
   "metadata": {
    "collapsed": false
   },
   "outputs": [
    {
     "name": "stderr",
     "output_type": "stream",
     "text": [
      "Skipping line 53: expected 7 fields, saw 8\n",
      "\n"
     ]
    }
   ],
   "source": [
    "ranges_df = pd.read_csv(\"../results_spring_2016/ranges.csv\", error_bad_lines=False)"
   ]
  },
  {
   "cell_type": "code",
   "execution_count": 3,
   "metadata": {
    "collapsed": false
   },
   "outputs": [
    {
     "data": {
      "text/html": [
       "<div>\n",
       "<table border=\"1\" class=\"dataframe\">\n",
       "  <thead>\n",
       "    <tr style=\"text-align: right;\">\n",
       "      <th></th>\n",
       "      <th>start_ts</th>\n",
       "      <th>start_fmt_time</th>\n",
       "      <th>end_ts</th>\n",
       "      <th>end_fmt_time</th>\n",
       "      <th>state</th>\n",
       "      <th>android_regime</th>\n",
       "      <th>ios_regime</th>\n",
       "    </tr>\n",
       "  </thead>\n",
       "  <tbody>\n",
       "    <tr>\n",
       "      <th>0</th>\n",
       "      <td>1.459279e+09</td>\n",
       "      <td>2016-03-29T12:17:14.700000-07:00</td>\n",
       "      <td>1.459288e+09</td>\n",
       "      <td>2016-03-29T14:46:54.916000-07:00</td>\n",
       "      <td>moving</td>\n",
       "      <td>high+1sec</td>\n",
       "      <td>best+1m</td>\n",
       "    </tr>\n",
       "    <tr>\n",
       "      <th>1</th>\n",
       "      <td>1.459288e+09</td>\n",
       "      <td>2016-03-29T14:46:54.916000-07:00</td>\n",
       "      <td>1.459301e+09</td>\n",
       "      <td>2016-03-29T18:30:30.685000-07:00</td>\n",
       "      <td>loitering</td>\n",
       "      <td>high+1sec</td>\n",
       "      <td>best+1m</td>\n",
       "    </tr>\n",
       "    <tr>\n",
       "      <th>2</th>\n",
       "      <td>1.459301e+09</td>\n",
       "      <td>2016-03-29T18:30:54.916000-07:00</td>\n",
       "      <td>1.459302e+09</td>\n",
       "      <td>2016-03-29T18:42:30.685000-07:00</td>\n",
       "      <td>moving</td>\n",
       "      <td>high+1sec</td>\n",
       "      <td>best+1m</td>\n",
       "    </tr>\n",
       "    <tr>\n",
       "      <th>3</th>\n",
       "      <td>1.459302e+09</td>\n",
       "      <td>2016-03-29T18:42:30.685000-07:00</td>\n",
       "      <td>1.459311e+09</td>\n",
       "      <td>2016-03-29T21:06:30.275000-07:00</td>\n",
       "      <td>moving</td>\n",
       "      <td>high+1sec</td>\n",
       "      <td>best+1m</td>\n",
       "    </tr>\n",
       "    <tr>\n",
       "      <th>4</th>\n",
       "      <td>1.459311e+09</td>\n",
       "      <td>2016-03-29T21:06:30.275000-07:00</td>\n",
       "      <td>1.459343e+09</td>\n",
       "      <td>2016-03-30T06:00:09.654643-07:00</td>\n",
       "      <td>stationary</td>\n",
       "      <td>high+1sec</td>\n",
       "      <td>best+1m</td>\n",
       "    </tr>\n",
       "  </tbody>\n",
       "</table>\n",
       "</div>"
      ],
      "text/plain": [
       "       start_ts                    start_fmt_time        end_ts  \\\n",
       "0  1.459279e+09  2016-03-29T12:17:14.700000-07:00  1.459288e+09   \n",
       "1  1.459288e+09  2016-03-29T14:46:54.916000-07:00  1.459301e+09   \n",
       "2  1.459301e+09  2016-03-29T18:30:54.916000-07:00  1.459302e+09   \n",
       "3  1.459302e+09  2016-03-29T18:42:30.685000-07:00  1.459311e+09   \n",
       "4  1.459311e+09  2016-03-29T21:06:30.275000-07:00  1.459343e+09   \n",
       "\n",
       "                       end_fmt_time       state android_regime ios_regime  \n",
       "0  2016-03-29T14:46:54.916000-07:00      moving      high+1sec    best+1m  \n",
       "1  2016-03-29T18:30:30.685000-07:00   loitering      high+1sec    best+1m  \n",
       "2  2016-03-29T18:42:30.685000-07:00      moving      high+1sec    best+1m  \n",
       "3  2016-03-29T21:06:30.275000-07:00      moving      high+1sec    best+1m  \n",
       "4  2016-03-30T06:00:09.654643-07:00  stationary      high+1sec    best+1m  "
      ]
     },
     "execution_count": 3,
     "metadata": {},
     "output_type": "execute_result"
    }
   ],
   "source": [
    "ranges_df.head()"
   ]
  },
  {
   "cell_type": "code",
   "execution_count": 4,
   "metadata": {
    "collapsed": true
   },
   "outputs": [],
   "source": [
    "import emission.storage.timeseries.aggregate_timeseries as estag"
   ]
  },
  {
   "cell_type": "code",
   "execution_count": 5,
   "metadata": {
    "collapsed": true
   },
   "outputs": [],
   "source": [
    "public_ids = estag.TEST_PHONE_IDS"
   ]
  },
  {
   "cell_type": "code",
   "execution_count": 6,
   "metadata": {
    "collapsed": true
   },
   "outputs": [],
   "source": [
    "regime_grouped_ranges_df = ranges_df.groupby(['state', 'android_regime', 'ios_regime'])"
   ]
  },
  {
   "cell_type": "code",
   "execution_count": 7,
   "metadata": {
    "collapsed": true
   },
   "outputs": [],
   "source": [
    "def pull_data_from_server(state, android_regime):\n",
    "    for key, df in regime_grouped_ranges_df:\n",
    "        if key[0] == state and key[1] == android_regime:\n",
    "            # one row for each phone\n",
    "            # each row contains len(moving ranges) dataframes\n",
    "            for row in df.to_records():\n",
    "                print \"Pulling data for range %s -> %s\" % (row.start_ts, row.end_ts)\n",
    "                plpd.request_batched_data(\"https://e-mission.eecs.berkeley.edu\", row.start_ts, row.end_ts, \n",
    "                                          map(str, public_ids))"
   ]
  },
  {
   "cell_type": "code",
   "execution_count": 8,
   "metadata": {
    "collapsed": false
   },
   "outputs": [
    {
     "name": "stdout",
     "output_type": "stream",
     "text": [
      "Pulling data for range 1459279034.7 -> 1459288014.92\n",
      "Data loaded to local server!\n",
      "Pulling data for range 1459301430.68 -> 1459302150.68\n",
      "Data loaded to local server!\n",
      "Pulling data for range 1459302150.68 -> 1459310790.28\n",
      "Data loaded to local server!\n"
     ]
    }
   ],
   "source": [
    "pull_data_from_server(\"moving\", \"high+1sec\")"
   ]
  },
  {
   "cell_type": "code",
   "execution_count": null,
   "metadata": {
    "collapsed": false
   },
   "outputs": [
    {
     "name": "stdout",
     "output_type": "stream",
     "text": [
      "Pulling data for range 1459310790.28 -> 1459342809.65\n",
      "Data loaded to local server!\n"
     ]
    }
   ],
   "source": [
    "pull_data_from_server(\"stationary\", \"high+1sec\")"
   ]
  },
  {
   "cell_type": "code",
   "execution_count": null,
   "metadata": {
    "collapsed": false
   },
   "outputs": [
    {
     "name": "stdout",
     "output_type": "stream",
     "text": [
      "Pulling data for range 1459288014.92 -> 1459301430.68\n"
     ]
    }
   ],
   "source": [
    "pull_data_from_server(\"loitering\", \"high+1sec\")"
   ]
  }
 ],
 "metadata": {
  "kernelspec": {
   "display_name": "Python 2",
   "language": "python",
   "name": "python2"
  },
  "language_info": {
   "codemirror_mode": {
    "name": "ipython",
    "version": 2
   },
   "file_extension": ".py",
   "mimetype": "text/x-python",
   "name": "python",
   "nbconvert_exporter": "python",
   "pygments_lexer": "ipython2",
   "version": "2.7.11"
  }
 },
 "nbformat": 4,
 "nbformat_minor": 0
}
