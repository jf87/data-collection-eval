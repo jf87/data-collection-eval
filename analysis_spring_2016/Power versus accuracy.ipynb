{
 "metadata": {
  "name": "",
  "signature": "sha256:377e8f5a4a9bf8db384ac317cff0c8935fd3241e6069c3e176e2496811886f3c"
 },
 "nbformat": 3,
 "nbformat_minor": 0,
 "worksheets": [
  {
   "cells": [
    {
     "cell_type": "code",
     "collapsed": false,
     "input": [
      "import sys\n",
      "import logging\n",
      "from uuid import UUID\n",
      "\n",
      "import emission.core.get_database as edb\n",
      "import pandas as pd\n",
      "import matplotlib.pyplot as plt\n",
      "%matplotlib inline\n",
      "import datetime as pydt\n",
      "import emission.storage.timeseries.abstract_timeseries as esta\n",
      "import arrow\n",
      "import numpy as np\n",
      "\n",
      "logging.getLogger().setLevel(logging.DEBUG)\n",
      "logging.debug(sys.path)\n",
      "\n",
      "iphone_ids = [UUID(\"079e0f1a-c440-3d7c-b0e7-de160f748e35\"), UUID(\"c76a0487-7e5a-3b17-a449-47be666b36f6\"), \n",
      "              UUID(\"c528bcd2-a88b-3e82-be62-ef4f2396967a\"), UUID(\"95e70727-a04e-3e33-b7fe-34ab19194f8b\")]\n",
      "android_ids = [UUID(\"e471711e-bd14-3dbe-80b6-9c7d92ecc296\"), UUID(\"fd7b4c2e-2c8b-3bfa-94f0-d1e3ecbd5fb7\"),\n",
      "               UUID(\"86842c35-da28-32ed-a90e-2da6663c5c73\"), UUID(\"3bc0f91f-7660-34a2-b005-5c399598a369\")]"
     ],
     "language": "python",
     "metadata": {},
     "outputs": [
      {
       "output_type": "stream",
       "stream": "stderr",
       "text": [
        "DEBUG:root:['', '/Users/shankari/OSS/anaconda/lib/python2.7/site-packages/pygmaps-0.1.1-py2.7.egg', '/Users/shankari/e-mission/e-mission-server', '/Users/shankari/e-mission/data-collection-eval/analysis_spring_2016', '/Users/shankari/OSS/anaconda/python.app/Contents/lib/python27.zip', '/Users/shankari/OSS/anaconda/python.app/Contents/lib/python2.7', '/Users/shankari/OSS/anaconda/python.app/Contents/lib/python2.7/plat-darwin', '/Users/shankari/OSS/anaconda/python.app/Contents/lib/python2.7/plat-mac', '/Users/shankari/OSS/anaconda/python.app/Contents/lib/python2.7/plat-mac/lib-scriptpackages', '/Users/shankari/OSS/anaconda/python.app/Contents/lib/python2.7/lib-tk', '/Users/shankari/OSS/anaconda/python.app/Contents/lib/python2.7/lib-old', '/Users/shankari/OSS/anaconda/python.app/Contents/lib/python2.7/lib-dynload', '/Users/shankari/OSS/anaconda/lib/python2.7/site-packages/runipy-0.1.0-py2.7.egg', '/Users/shankari/OSS/anaconda/lib/python2.7/site-packages', '/Users/shankari/OSS/anaconda/lib/python2.7/site-packages/PIL', '/Users/shankari/OSS/anaconda/lib/python2.7/site-packages/setuptools-20.6.7-py2.7.egg', '/Users/shankari/OSS/anaconda/lib/python2.7/site-packages/IPython/extensions']\n"
       ]
      }
     ],
     "prompt_number": 1
    },
    {
     "cell_type": "code",
     "collapsed": false,
     "input": [
      "all_power_results = pd.DataFrame.from_csv(open(\"/tmp/power_results.csv\"))"
     ],
     "language": "python",
     "metadata": {},
     "outputs": [],
     "prompt_number": 4
    },
    {
     "cell_type": "code",
     "collapsed": false,
     "input": [
      "all_accuracy_results = pd.DataFrame.from_csv(open(\"/tmp/accuracy_results.csv\"))"
     ],
     "language": "python",
     "metadata": {},
     "outputs": [],
     "prompt_number": 5
    },
    {
     "cell_type": "code",
     "collapsed": false,
     "input": [
      "all_power_results"
     ],
     "language": "python",
     "metadata": {},
     "outputs": [
      {
       "html": [
        "<div style=\"max-width:1500px;overflow:auto;\">\n",
        "<table border=\"1\" class=\"dataframe\">\n",
        "  <thead>\n",
        "    <tr style=\"text-align: right;\">\n",
        "      <th></th>\n",
        "      <th>power_drain_median</th>\n",
        "    </tr>\n",
        "  </thead>\n",
        "  <tbody>\n",
        "    <tr>\n",
        "      <th>100m</th>\n",
        "      <td>-0.505541</td>\n",
        "    </tr>\n",
        "    <tr>\n",
        "      <th>10m</th>\n",
        "      <td>-1.474259</td>\n",
        "    </tr>\n",
        "    <tr>\n",
        "      <th>balanced-1</th>\n",
        "      <td>-0.275815</td>\n",
        "    </tr>\n",
        "    <tr>\n",
        "      <th>balanced-15</th>\n",
        "      <td>-0.179558</td>\n",
        "    </tr>\n",
        "    <tr>\n",
        "      <th>balanced-30</th>\n",
        "      <td>-0.351745</td>\n",
        "    </tr>\n",
        "    <tr>\n",
        "      <th>best</th>\n",
        "      <td>-1.179192</td>\n",
        "    </tr>\n",
        "    <tr>\n",
        "      <th>high-1</th>\n",
        "      <td>-1.078690</td>\n",
        "    </tr>\n",
        "    <tr>\n",
        "      <th>high-15</th>\n",
        "      <td>-0.247349</td>\n",
        "    </tr>\n",
        "    <tr>\n",
        "      <th>high-30</th>\n",
        "      <td>-0.499910</td>\n",
        "    </tr>\n",
        "  </tbody>\n",
        "</table>\n",
        "</div>"
       ],
       "metadata": {},
       "output_type": "pyout",
       "prompt_number": 6,
       "text": [
        "             power_drain_median\n",
        "100m                  -0.505541\n",
        "10m                   -1.474259\n",
        "balanced-1            -0.275815\n",
        "balanced-15           -0.179558\n",
        "balanced-30           -0.351745\n",
        "best                  -1.179192\n",
        "high-1                -1.078690\n",
        "high-15               -0.247349\n",
        "high-30               -0.499910"
       ]
      }
     ],
     "prompt_number": 6
    },
    {
     "cell_type": "code",
     "collapsed": false,
     "input": [
      "all_accuracy_results"
     ],
     "language": "python",
     "metadata": {},
     "outputs": [
      {
       "html": [
        "<div style=\"max-width:1500px;overflow:auto;\">\n",
        "<table border=\"1\" class=\"dataframe\">\n",
        "  <thead>\n",
        "    <tr style=\"text-align: right;\">\n",
        "      <th></th>\n",
        "      <th>nonOutlierMean</th>\n",
        "      <th>nonOutlierMedian</th>\n",
        "      <th>outlierPct</th>\n",
        "    </tr>\n",
        "  </thead>\n",
        "  <tbody>\n",
        "    <tr>\n",
        "      <th>100m</th>\n",
        "      <td>30.708584</td>\n",
        "      <td>21.225642</td>\n",
        "      <td>52.925867</td>\n",
        "    </tr>\n",
        "    <tr>\n",
        "      <th>10m</th>\n",
        "      <td>11.759562</td>\n",
        "      <td>8.918878</td>\n",
        "      <td>0.869379</td>\n",
        "    </tr>\n",
        "    <tr>\n",
        "      <th>balanced-1</th>\n",
        "      <td>16.176432</td>\n",
        "      <td>10.101273</td>\n",
        "      <td>29.227899</td>\n",
        "    </tr>\n",
        "    <tr>\n",
        "      <th>balanced-15</th>\n",
        "      <td>18.275695</td>\n",
        "      <td>8.167161</td>\n",
        "      <td>37.160372</td>\n",
        "    </tr>\n",
        "    <tr>\n",
        "      <th>balanced-30</th>\n",
        "      <td>18.171866</td>\n",
        "      <td>13.024919</td>\n",
        "      <td>13.033877</td>\n",
        "    </tr>\n",
        "    <tr>\n",
        "      <th>best</th>\n",
        "      <td>11.052557</td>\n",
        "      <td>7.194101</td>\n",
        "      <td>0.312474</td>\n",
        "    </tr>\n",
        "    <tr>\n",
        "      <th>high-1</th>\n",
        "      <td>8.767398</td>\n",
        "      <td>5.352023</td>\n",
        "      <td>0.532546</td>\n",
        "    </tr>\n",
        "    <tr>\n",
        "      <th>high-15</th>\n",
        "      <td>9.925042</td>\n",
        "      <td>6.519211</td>\n",
        "      <td>1.323697</td>\n",
        "    </tr>\n",
        "    <tr>\n",
        "      <th>high-30</th>\n",
        "      <td>16.868843</td>\n",
        "      <td>12.067187</td>\n",
        "      <td>4.740616</td>\n",
        "    </tr>\n",
        "  </tbody>\n",
        "</table>\n",
        "</div>"
       ],
       "metadata": {},
       "output_type": "pyout",
       "prompt_number": 7,
       "text": [
        "             nonOutlierMean  nonOutlierMedian  outlierPct\n",
        "100m              30.708584         21.225642   52.925867\n",
        "10m               11.759562          8.918878    0.869379\n",
        "balanced-1        16.176432         10.101273   29.227899\n",
        "balanced-15       18.275695          8.167161   37.160372\n",
        "balanced-30       18.171866         13.024919   13.033877\n",
        "best              11.052557          7.194101    0.312474\n",
        "high-1             8.767398          5.352023    0.532546\n",
        "high-15            9.925042          6.519211    1.323697\n",
        "high-30           16.868843         12.067187    4.740616"
       ]
      }
     ],
     "prompt_number": 7
    },
    {
     "cell_type": "code",
     "collapsed": false,
     "input": [
      "power_v_accuracy = all_power_results.join(all_accuracy_results)"
     ],
     "language": "python",
     "metadata": {},
     "outputs": [],
     "prompt_number": 8
    },
    {
     "cell_type": "markdown",
     "metadata": {},
     "source": [
      "```\n",
      "15 min : r\n",
      "1 day (24 * 4 15-min intervals): r * 24 * 4\n",
      "\n",
      "If 100% battery is drained in 24 hours, the rate at which this happens is:\n",
      "r * 24 * 4 = 100\n",
      "r = 100 / (24 * 4)\n",
      "  \\approx 100/(25 * 4)\n",
      "  \\approx 1\n",
      "  \n",
      "Exact calculation using a calculator shows 1.041\n",
      "\n",
      "Similarly, for 16 hours,\n",
      "r = 100 / (16 *4)\n",
      "  = 1.562\n",
      "```"
     ]
    },
    {
     "cell_type": "code",
     "collapsed": false,
     "input": [
      "ax = power_v_accuracy.plot.scatter(x=\"power_drain_median\", y=\"nonOutlierMedian\")\n",
      "for idx in power_v_accuracy.to_dict('index'):\n",
      "    row = power_v_accuracy.loc[idx]\n",
      "    (curr_x, curr_y) = (row['power_drain_median'], row['nonOutlierMedian'])\n",
      "    print idx, curr_x, curr_y\n",
      "    ax.annotate(idx, xy=(curr_x, curr_y))\n",
      "plt.axvline(x=-1.041, color='orange', label=\"24 hours\")\n",
      "plt.axvline(x=-1.562, color='red', label=\"16 hours\")"
     ],
     "language": "python",
     "metadata": {},
     "outputs": [
      {
       "output_type": "stream",
       "stream": "stdout",
       "text": [
        "100m -0.505541469252 21.2256422674\n",
        "high-1 -1.07869003881 5.35202304096\n",
        "10m -1.47425883483 8.91887807059\n",
        "balanced-1 -0.275815343541 10.1012732957\n",
        "high-30 -0.499909877368 12.0671872548\n",
        "balanced-15 -0.179557677616 8.16716145168\n",
        "high-15 -0.247348849757 6.51921134559\n",
        "balanced-30 -0.351744764105 13.0249187652\n",
        "best -1.17919184308 7.19410111554\n"
       ]
      },
      {
       "metadata": {},
       "output_type": "pyout",
       "prompt_number": 24,
       "text": [
        "<matplotlib.lines.Line2D at 0x1102d9f90>"
       ]
      },
      {
       "metadata": {},
       "output_type": "display_data",
       "png": "[encoded data removed]",
       "text": [
        "<matplotlib.figure.Figure at 0x11027a9d0>"
       ]
      }
     ],
     "prompt_number": 24
    },
    {
     "cell_type": "code",
     "collapsed": false,
     "input": [
      "ax=power_v_accuracy.plot.scatter(x=\"power_drain_median\", y=\"outlierPct\")\n",
      "for idx in power_v_accuracy.to_dict('index'):\n",
      "    row = power_v_accuracy.loc[idx]\n",
      "    (curr_x, curr_y) = (row['power_drain_median'], row['outlierPct'])\n",
      "    print idx, curr_x, curr_y\n",
      "    ax.annotate(idx, xy=(curr_x, curr_y))\n",
      "plt.axvline(x=-1.041, color='orange', label=\"24 hours\")\n",
      "plt.axvline(x=-1.562, color='red', label=\"16 hours\")"
     ],
     "language": "python",
     "metadata": {},
     "outputs": [
      {
       "output_type": "stream",
       "stream": "stdout",
       "text": [
        "100m -0.505541469252 52.9258674383\n",
        "high-1 -1.07869003881 0.532546465561\n",
        "10m -1.47425883483 0.869378855364\n",
        "balanced-1 -0.275815343541 29.2278986823\n",
        "high-30 -0.499909877368 4.74061577394\n",
        "balanced-15 -0.179557677616 37.1603719674\n",
        "high-15 -0.247348849757 1.32369736571\n",
        "balanced-30 -0.351744764105 13.0338765956\n",
        "best -1.17919184308 0.312473925741\n"
       ]
      },
      {
       "metadata": {},
       "output_type": "pyout",
       "prompt_number": 25,
       "text": [
        "<matplotlib.lines.Line2D at 0x11085a650>"
       ]
      },
      {
       "metadata": {},
       "output_type": "display_data",
       "png": "[encoded data removed]",
       "text": [
        "<matplotlib.figure.Figure at 0x1102befd0>"
       ]
      }
     ],
     "prompt_number": 25
    },
    {
     "cell_type": "code",
     "collapsed": false,
     "input": [],
     "language": "python",
     "metadata": {},
     "outputs": []
    }
   ],
   "metadata": {}
  }
 ]
}