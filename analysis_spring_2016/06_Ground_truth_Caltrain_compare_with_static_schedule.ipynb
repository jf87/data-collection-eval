{
 "cells": [
  {
   "cell_type": "markdown",
   "metadata": {},
   "source": [
    "This notebook visualizes the correspondence between multiple high accuracy fast sampling streams, on two different platforms, while on Caltrain.\n",
    "\n",
    "Remember to load the Caltrain data from `Pull_entries_from_server` if you have not already done so"
   ]
  },
  {
   "cell_type": "code",
   "execution_count": null,
   "metadata": {
    "collapsed": false
   },
   "outputs": [],
   "source": [
    "import sys\n",
    "import logging\n",
    "from uuid import UUID\n",
    "\n",
    "import emission.core.get_database as edb\n",
    "import pandas as pd\n",
    "import matplotlib.pyplot as plt\n",
    "%matplotlib inline\n",
    "import datetime as pydt\n",
    "import emission.storage.timeseries.abstract_timeseries as esta\n",
    "import emission.storage.timeseries.timequery as estt\n",
    "import numpy as np\n",
    "\n",
    "logging.getLogger().setLevel(logging.DEBUG)\n",
    "logging.debug(sys.path)\n",
    "\n",
    "iphone_ids = [UUID(\"079e0f1a-c440-3d7c-b0e7-de160f748e35\"), UUID(\"c76a0487-7e5a-3b17-a449-47be666b36f6\"), \n",
    "              UUID(\"c528bcd2-a88b-3e82-be62-ef4f2396967a\"), UUID(\"95e70727-a04e-3e33-b7fe-34ab19194f8b\")]\n",
    "android_ids = [UUID(\"e471711e-bd14-3dbe-80b6-9c7d92ecc296\"), UUID(\"fd7b4c2e-2c8b-3bfa-94f0-d1e3ecbd5fb7\"),\n",
    "               UUID(\"86842c35-da28-32ed-a90e-2da6663c5c73\"), UUID(\"3bc0f91f-7660-34a2-b005-5c399598a369\")]"
   ]
  },
  {
   "cell_type": "code",
   "execution_count": null,
   "metadata": {
    "collapsed": false
   },
   "outputs": [],
   "source": [
    "list(edb.get_timeseries_db().find({\"metadata.key\": \"config/sensor_config\", \"data.battery_status\": {\"$exists\": True}}).sort(\"metadata.write_ts\").limit(5))"
   ]
  },
  {
   "cell_type": "code",
   "execution_count": null,
   "metadata": {
    "collapsed": false
   },
   "outputs": [],
   "source": [
    "iphone_ts = map(lambda u: esta.TimeSeries.get_time_series(u), iphone_ids)\n",
    "android_ts = map(lambda u: esta.TimeSeries.get_time_series(u), android_ids)"
   ]
  },
  {
   "cell_type": "code",
   "execution_count": null,
   "metadata": {
    "collapsed": false
   },
   "outputs": [],
   "source": [
    "ranges_df = pd.read_csv(\"../results_spring_2016/ranges.csv\", error_bad_lines=False)"
   ]
  },
  {
   "cell_type": "code",
   "execution_count": null,
   "metadata": {
    "collapsed": false
   },
   "outputs": [],
   "source": [
    "ranges_df.head()"
   ]
  },
  {
   "cell_type": "code",
   "execution_count": null,
   "metadata": {
    "collapsed": false
   },
   "outputs": [],
   "source": [
    "regime_grouped_ranges_df = ranges_df.groupby(['state', 'android_regime', 'ios_regime'])"
   ]
  },
  {
   "cell_type": "code",
   "execution_count": null,
   "metadata": {
    "collapsed": false
   },
   "outputs": [],
   "source": [
    "invalid_df = pd.read_csv(\"../results_spring_2016/invalid.csv\")"
   ]
  },
  {
   "cell_type": "code",
   "execution_count": null,
   "metadata": {
    "collapsed": false
   },
   "outputs": [],
   "source": [
    "invalid_df"
   ]
  },
  {
   "cell_type": "code",
   "execution_count": null,
   "metadata": {
    "collapsed": false
   },
   "outputs": [],
   "source": [
    "caltrain_df = pd.read_csv(\"../results_spring_2016/caltrain_trips.csv\")"
   ]
  },
  {
   "cell_type": "code",
   "execution_count": null,
   "metadata": {
    "collapsed": false
   },
   "outputs": [],
   "source": [
    "caltrain_df"
   ]
  },
  {
   "cell_type": "code",
   "execution_count": null,
   "metadata": {
    "collapsed": false
   },
   "outputs": [],
   "source": [
    "import geojson as gj"
   ]
  },
  {
   "cell_type": "code",
   "execution_count": null,
   "metadata": {
    "collapsed": false
   },
   "outputs": [],
   "source": [
    "caltrain_routes = gj.load(open(\"../caltrain_routes.geojson\"))"
   ]
  },
  {
   "cell_type": "code",
   "execution_count": null,
   "metadata": {
    "collapsed": false
   },
   "outputs": [],
   "source": [
    "len(caltrain_routes)"
   ]
  },
  {
   "cell_type": "code",
   "execution_count": null,
   "metadata": {
    "collapsed": false
   },
   "outputs": [],
   "source": [
    "caltrain_routes[\"features\"][0]"
   ]
  },
  {
   "cell_type": "code",
   "execution_count": null,
   "metadata": {
    "collapsed": false
   },
   "outputs": [],
   "source": [
    "local_route = caltrain_routes[\"features\"][3]"
   ]
  },
  {
   "cell_type": "code",
   "execution_count": null,
   "metadata": {
    "collapsed": false
   },
   "outputs": [],
   "source": [
    "local_route"
   ]
  },
  {
   "cell_type": "code",
   "execution_count": null,
   "metadata": {
    "collapsed": false
   },
   "outputs": [],
   "source": [
    "baby_bullet_stops_sj_2_sf = [[-121.903447, 37.328642], [-122.075954, 37.394458], [-122.164182, 37.44334], [-122.297001, 37.537416], [-122.386097, 37.599223], [-122.395406, 37.776541]]"
   ]
  },
  {
   "cell_type": "code",
   "execution_count": null,
   "metadata": {
    "collapsed": false
   },
   "outputs": [],
   "source": [
    "def get_points_from_ts_for_range(ts, start_ts, end_ts):\n",
    "    return ts.get_data_df(\"background/location\", estt.TimeQuery('metadata.write_ts', start_ts, end_ts))"
   ]
  },
  {
   "cell_type": "code",
   "execution_count": null,
   "metadata": {
    "collapsed": false
   },
   "outputs": [],
   "source": [
    "def get_points_for_range(ts, range_df):\n",
    "    points_range_df = map(lambda row: get_points_from_ts_for_range(ts, row['start_ts'], row['end_ts']), range_df.to_dict('records'))\n",
    "    return points_range_df"
   ]
  },
  {
   "cell_type": "code",
   "execution_count": null,
   "metadata": {
    "collapsed": false
   },
   "outputs": [],
   "source": [
    "def get_points_for_group(ts_list, range_df):\n",
    "    return map(lambda ts: get_points_for_range(ts, range_df), ts_list)"
   ]
  },
  {
   "cell_type": "code",
   "execution_count": null,
   "metadata": {
    "collapsed": false
   },
   "outputs": [],
   "source": [
    "schedule_csv = pd.read_csv('../mtv_millbrae_local_times.csv')"
   ]
  },
  {
   "cell_type": "code",
   "execution_count": null,
   "metadata": {
    "collapsed": false
   },
   "outputs": [],
   "source": [
    "import emission.analysis.plotting.geojson.geojson_feature_converter as gfc\n",
    "import emission.analysis.plotting.leaflet_osm.our_plotter as lo\n",
    "import emission.analysis.plotting.leaflet_osm.ipython_helper as ipy"
   ]
  },
  {
   "cell_type": "code",
   "execution_count": null,
   "metadata": {
    "collapsed": false
   },
   "outputs": [],
   "source": [
    "coordinate_array = local_route[\"geometry\"][\"coordinates\"][0][4:17]"
   ]
  },
  {
   "cell_type": "code",
   "execution_count": null,
   "metadata": {
    "collapsed": false
   },
   "outputs": [],
   "source": [
    "print len(coordinate_array)\n",
    "coordinate_array"
   ]
  },
  {
   "cell_type": "code",
   "execution_count": null,
   "metadata": {
    "collapsed": false
   },
   "outputs": [],
   "source": [
    "coordinate_dict = map(lambda c: {'longitude': c[0], 'latitude': c[1]}, coordinate_array)"
   ]
  },
  {
   "cell_type": "code",
   "execution_count": null,
   "metadata": {
    "collapsed": false
   },
   "outputs": [],
   "source": [
    "ground_truth = pd.DataFrame(coordinate_dict)"
   ]
  },
  {
   "cell_type": "code",
   "execution_count": null,
   "metadata": {
    "collapsed": false
   },
   "outputs": [],
   "source": [
    "import arrow\n",
    "\n",
    "arrow.get('2016-04-01T'+schedule_csv.arrival_time.iloc[0]).timestamp"
   ]
  },
  {
   "cell_type": "code",
   "execution_count": null,
   "metadata": {
    "collapsed": false
   },
   "outputs": [],
   "source": [
    "ground_truth['ts'] = schedule_csv.arrival_time.apply(lambda tstr: arrow.get('2016-04-01T'+tstr).timestamp)"
   ]
  },
  {
   "cell_type": "code",
   "execution_count": null,
   "metadata": {
    "collapsed": false
   },
   "outputs": [],
   "source": [
    "ground_truth['ts_delta'] = ground_truth.ts - ground_truth.ts.iloc[0]"
   ]
  },
  {
   "cell_type": "code",
   "execution_count": null,
   "metadata": {
    "collapsed": false
   },
   "outputs": [],
   "source": [
    "ground_truth"
   ]
  },
  {
   "cell_type": "code",
   "execution_count": null,
   "metadata": {
    "collapsed": false
   },
   "outputs": [],
   "source": [
    "import scipy.interpolate as spi\n",
    "import numpy as np"
   ]
  },
  {
   "cell_type": "code",
   "execution_count": null,
   "metadata": {
    "collapsed": false
   },
   "outputs": [],
   "source": [
    "def move_ground_truth(gt_df, start_ts):\n",
    "    gt_df.ts = gt_df.ts_delta + start_ts\n",
    "    return gt_df"
   ]
  },
  {
   "cell_type": "code",
   "execution_count": null,
   "metadata": {
    "collapsed": false
   },
   "outputs": [],
   "source": [
    "pd.options.display.float_format = '{:.3f}'.format"
   ]
  },
  {
   "cell_type": "code",
   "execution_count": null,
   "metadata": {
    "collapsed": false
   },
   "outputs": [],
   "source": [
    "move_ground_truth(ground_truth, 1459449090.275)"
   ]
  },
  {
   "cell_type": "code",
   "execution_count": null,
   "metadata": {
    "collapsed": false
   },
   "outputs": [],
   "source": [
    "def get_interp_df(raw_df):\n",
    "    start_ts = raw_df.ts.iloc[0]\n",
    "    end_ts = raw_df.ts.iloc[-1]\n",
    "    latf = spi.interp1d(x=raw_df.ts, y=raw_df.latitude, bounds_error=False)\n",
    "    lngf = spi.interp1d(x=raw_df.ts, y=raw_df.longitude, bounds_error=False)\n",
    "    ts_new = np.arange(int(start_ts), int(end_ts), 1)\n",
    "    fmt_time_new = map(lambda ts: pydt.datetime.fromtimestamp(ts).isoformat(), ts_new)\n",
    "    interp_df = pd.DataFrame({\"ts\": ts_new, \"fmt_time\": fmt_time_new,\n",
    "                            \"latitude\": latf(ts_new), \"longitude\": lngf(ts_new)}, index=ts_new)\n",
    "    interp_df = interp_df.dropna()\n",
    "    return interp_df"
   ]
  },
  {
   "cell_type": "code",
   "execution_count": null,
   "metadata": {
    "collapsed": false
   },
   "outputs": [],
   "source": [
    "ground_truth_df = get_interp_df(ground_truth)"
   ]
  },
  {
   "cell_type": "code",
   "execution_count": null,
   "metadata": {
    "collapsed": false
   },
   "outputs": [],
   "source": [
    "len(ground_truth_df)"
   ]
  },
  {
   "cell_type": "code",
   "execution_count": null,
   "metadata": {
    "collapsed": false
   },
   "outputs": [],
   "source": [
    "import emission.analysis.point_features as pf\n",
    "import attrdict as ad"
   ]
  },
  {
   "cell_type": "code",
   "execution_count": null,
   "metadata": {
    "collapsed": false
   },
   "outputs": [],
   "source": [
    "def calDistance(row):\n",
    "    return pf.calDistance(ad.AttrDict({\"latitude\": row['latitude_android'], \"longitude\": row['longitude_android']}),\n",
    "                          ad.AttrDict({\"latitude\": row['latitude_ios'], \"longitude\": row['longitude_ios']}))"
   ]
  },
  {
   "cell_type": "code",
   "execution_count": null,
   "metadata": {
    "collapsed": false
   },
   "outputs": [],
   "source": [
    "def get_ground_truth(android_ts, ios_ts, start_ts, end_ts):\n",
    "    android_df = get_interp_df(android_ts.get_data_df(\"background/location\", estt.TimeQuery(\"metadata.write_ts\", start_ts, end_ts)))\n",
    "    ios_df = get_interp_df(ios_ts.get_data_df(\"background/location\", estt.TimeQuery(\"metadata.write_ts\", start_ts, end_ts)))\n",
    "    joined_df = android_df.join(ios_df, how='inner', lsuffix=\"_android\", rsuffix=\"_ios\")\n",
    "    # joined_df.drop(['fmt_time_ios', 'ts_ios'], axis=1, inplace=True)\n",
    "    # joined_df.rename(columns={\"fmt_time_android\": \"fmt_time\", \"ts_android\": \"ts\"}, inplace=True)\n",
    "    joined_df['same_point_distances'] = joined_df.apply(calDistance, axis=1)\n",
    "    filtered_df = joined_df[joined_df.same_point_distances < 40]\n",
    "    combined_df = pd.DataFrame({\"ts\": filtered_df.ts_android, \"fmt_time\": filtered_df.fmt_time_android,\n",
    "                            \"latitude\": (filtered_df.latitude_android + filtered_df.latitude_ios)/2,\n",
    "                            \"longitude\": (filtered_df.longitude_android + filtered_df.longitude_ios)/2,\n",
    "                            \"same_point_distances\": filtered_df.same_point_distances}, index=np.array(filtered_df.ts_android))\n",
    "    return combined_df"
   ]
  },
  {
   "cell_type": "code",
   "execution_count": null,
   "metadata": {
    "collapsed": false
   },
   "outputs": [],
   "source": [
    "ranges_df.iloc[20]"
   ]
  },
  {
   "cell_type": "code",
   "execution_count": null,
   "metadata": {
    "collapsed": false
   },
   "outputs": [],
   "source": [
    "potential_ground_truth_31_out = get_ground_truth(android_ts[0], iphone_ts[0], caltrain_df.iloc[1].start_ts, caltrain_df.iloc[1].end_ts)"
   ]
  },
  {
   "cell_type": "code",
   "execution_count": null,
   "metadata": {
    "collapsed": false
   },
   "outputs": [],
   "source": [
    "def calDistanceGround(row):\n",
    "    return pf.calDistance(ad.AttrDict({\"latitude\": row['latitude_ground'], \"longitude\": row['longitude_ground']}),\n",
    "                          ad.AttrDict({\"latitude\": row['latitude_compare'], \"longitude\": row['longitude_compare']}))"
   ]
  },
  {
   "cell_type": "code",
   "execution_count": null,
   "metadata": {
    "collapsed": false
   },
   "outputs": [],
   "source": [
    "def compare_trajectories(ground_truth_df, compare_df):\n",
    "    joined_df = ground_truth_df.join(compare_df, how='inner', lsuffix=\"_ground\", rsuffix=\"_compare\")\n",
    "    joined_df['compare_distance'] = joined_df.apply(calDistanceGround, axis=1)\n",
    "    return joined_df"
   ]
  },
  {
   "cell_type": "code",
   "execution_count": null,
   "metadata": {
    "collapsed": false
   },
   "outputs": [],
   "source": [
    "compare_ground_truth_31_out = compare_trajectories(ground_truth_df, potential_ground_truth_31_out)\n",
    "compare_ground_truth_31_out.head()"
   ]
  },
  {
   "cell_type": "code",
   "execution_count": null,
   "metadata": {
    "collapsed": false
   },
   "outputs": [],
   "source": [
    "ax = compare_ground_truth_31_out.compare_distance.plot(kind='hist', bins=100, figsize=(16,4))\n",
    "ticks_list = ax.set_xticks(np.arange(0,1800,50))"
   ]
  },
  {
   "cell_type": "code",
   "execution_count": null,
   "metadata": {
    "collapsed": false
   },
   "outputs": [],
   "source": [
    "import emission.analysis.plotting.leaflet_osm.our_plotter as lo\n",
    "import emission.analysis.plotting.geojson.geojson_feature_converter as gfc\n",
    "import emission.analysis.plotting.leaflet_osm.ipython_helper as ipy"
   ]
  },
  {
   "cell_type": "code",
   "execution_count": null,
   "metadata": {
    "collapsed": false
   },
   "outputs": [],
   "source": [
    "ipy.inline_maps([lo.get_maps_for_geojson_unsectioned([gfc.get_feature_list_from_df(compare_ground_truth_31_out.head(n=100), \n",
    "                    ts=\"ts_ground\", latitude=\"latitude_ground\", longitude=\"longitude_ground\", fmt_time=\"fmt_time_ground\")]) +\n",
    "lo.get_maps_for_geojson_unsectioned([gfc.get_feature_list_from_df(compare_ground_truth_31_out.head(n=100),\n",
    "                    ts=\"ts_compare\", latitude=\"latitude_compare\", longitude=\"longitude_compare\", fmt_time=\"fmt_time_compare\")])])"
   ]
  },
  {
   "cell_type": "code",
   "execution_count": null,
   "metadata": {
    "collapsed": false
   },
   "outputs": [],
   "source": []
  }
 ],
 "metadata": {
  "kernelspec": {
   "display_name": "Python 2",
   "language": "python",
   "name": "python2"
  },
  "language_info": {
   "codemirror_mode": {
    "name": "ipython",
    "version": 2
   },
   "file_extension": ".py",
   "mimetype": "text/x-python",
   "name": "python",
   "nbconvert_exporter": "python",
   "pygments_lexer": "ipython2",
   "version": "2.7.11"
  }
 },
 "nbformat": 4,
 "nbformat_minor": 0
}
