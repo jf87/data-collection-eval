{
 "cells": [
  {
   "cell_type": "code",
   "execution_count": 1,
   "metadata": {
    "collapsed": false
   },
   "outputs": [],
   "source": [
    "import time\n",
    "import re\n",
    "import datetime as pydt\n",
    "import pandas as pd\n",
    "%matplotlib inline"
   ]
  },
  {
   "cell_type": "code",
   "execution_count": 2,
   "metadata": {
    "collapsed": true
   },
   "outputs": [],
   "source": [
    "def parse_reset_time(line):\n",
    "    line = line.strip()\n",
    "    line = line.split(\"RESET:TIME: \", 1)[1]\n",
    "    #The method split() returns a list of all the words in the string\"line\" \n",
    "    # -using 1st arg as the separator, and 2nd arg to limit the number of splits\n",
    "    \n",
    "    st = time.strptime(line, \"%Y-%m-%d-%H-%M-%S\") #returns <type 'time.struct_time'>\n",
    "    #The method strptime() parses a string representing a time according to a format.\n",
    "    \n",
    "    return time.mktime(st) #returns <type 'float'> (unix time)\n",
    "    #The method mktime() is the inverse function of localtime(). \n",
    "    # -Its argument is the struct_time or full 9-tuple and it returns a floating point number, for compatibility with time()."
   ]
  },
  {
   "cell_type": "code",
   "execution_count": 15,
   "metadata": {
    "collapsed": false
   },
   "outputs": [],
   "source": [
    "def parse_time(s, fmt):\n",
    "    \"\"\"Parses a human readable duration string into milliseconds.\n",
    "    Takes a human readable duration string like '1d2h3m4s5ms' and returns\n",
    "    the equivalent in milliseconds.\n",
    "    Args:\n",
    "    -s: Duration string\n",
    "    -fmt: A re object to parse the string\n",
    "    Returns:\n",
    "    -A number indicating the duration in milliseconds.\n",
    "    \"\"\"\n",
    "    if s == \"0\": return 0.0\n",
    "\n",
    "    p = re.compile(fmt)\n",
    "    match = p.search(s)\n",
    "    try:\n",
    "        d = match.groupdict()\n",
    "    except IndexError:\n",
    "        return -1.0\n",
    "\n",
    "    ret = 0.0\n",
    "    if d[\"day\"]: ret += float(d[\"day\"])*60*60*24\n",
    "    if d[\"hrs\"]: ret += float(d[\"hrs\"])*60*60\n",
    "    if d[\"min\"]: ret += float(d[\"min\"])*60\n",
    "    if d[\"sec\"]: ret += float(d[\"sec\"])\n",
    "    if d[\"ms\"]: ret += float(d[\"ms\"])/1000\n",
    "    return ret"
   ]
  },
  {
   "cell_type": "code",
   "execution_count": 37,
   "metadata": {
    "collapsed": false
   },
   "outputs": [
    {
     "name": "stdout",
     "output_type": "stream",
     "text": [
      "-11m50s325ms\n",
      "2016-08-01 19:18:07.203000 99 <type 'int'>\n",
      "2016-08-01 19:19:00.490000 97 <type 'int'>\n",
      "2016-08-01 19:20:07.170000 95 <type 'int'>\n",
      "2016-08-01 19:21:07.261000 93 <type 'int'>\n",
      "2016-08-01 19:22:10.897000 91 <type 'int'>\n",
      "2016-08-01 19:23:00.927000 90 <type 'int'>\n",
      "2016-08-01 19:23:50.966000 89 <type 'int'>\n",
      "2016-08-01 19:24:40.986000 87 <type 'int'>\n",
      "2016-08-01 19:25:31.009000 86 <type 'int'>\n",
      "2016-08-01 19:26:21.034000 85 <type 'int'>\n",
      "2016-08-01 19:27:11.058000 83 <type 'int'>\n",
      "2016-08-01 19:28:01.749000 82 <type 'int'>\n",
      "2016-08-01 19:28:51.779000 81 <type 'int'>\n",
      "2016-08-01 19:29:41.811000 80 <type 'int'>\n",
      "2016-08-01 19:30:35.207000 78 <type 'int'>\n",
      "2016-08-01 19:31:25.231000 77 <type 'int'>\n",
      "2016-08-01 19:32:15.253000 76 <type 'int'>\n",
      "2016-08-01 19:33:05.275000 75 <type 'int'>\n",
      "2016-08-01 19:33:55.300000 74 <type 'int'>\n",
      "2016-08-01 19:34:45.323000 72 <type 'int'>\n",
      "2016-08-01 19:35:35.356000 71 <type 'int'>\n",
      "2016-08-01 19:36:29.288000 70 <type 'int'>\n",
      "2016-08-01 19:37:19.310000 69 <type 'int'>\n",
      "2016-08-01 19:38:09.349000 68 <type 'int'>\n",
      "2016-08-01 19:38:59.387000 67 <type 'int'>\n",
      "2016-08-01 19:39:49.413000 66 <type 'int'>\n",
      "2016-08-01 19:40:39.437000 65 <type 'int'>\n",
      "2016-08-01 19:41:47.875000 63 <type 'int'>\n",
      "2016-08-01 19:42:37.900000 62 <type 'int'>\n",
      "2016-08-01 19:43:38.924000 61 <type 'int'>\n",
      "2016-08-01 19:44:28.946000 60 <type 'int'>\n",
      "2016-08-01 19:45:18.968000 59 <type 'int'>\n",
      "2016-08-01 19:46:08.994000 58 <type 'int'>\n",
      "2016-08-01 19:47:03.308000 57 <type 'int'>\n",
      "2016-08-01 19:47:54.172000 56 <type 'int'>\n",
      "2016-08-01 19:48:44.199000 55 <type 'int'>\n",
      "2016-08-01 19:50:24.301000 54 <type 'int'>\n",
      "2016-08-01 19:51:14.323000 53 <type 'int'>\n",
      "2016-08-01 19:52:13.198000 52 <type 'int'>\n",
      "2016-08-01 19:53:03.218000 51 <type 'int'>\n",
      "2016-08-01 19:53:54.172000 50 <type 'int'>\n",
      "2016-08-01 19:54:44.197000 49 <type 'int'>\n",
      "2016-08-01 19:55:34.228000 48 <type 'int'>\n",
      "2016-08-01 19:56:24.255000 47 <type 'int'>\n",
      "2016-08-01 19:58:04.303000 46 <type 'int'>\n",
      "2016-08-01 19:58:54.332000 45 <type 'int'>\n",
      "2016-08-01 19:59:44.358000 44 <type 'int'>\n",
      "2016-08-01 20:00:34.411000 43 <type 'int'>\n",
      "2016-08-01 20:01:24.431000 42 <type 'int'>\n",
      "2016-08-01 20:02:14.464000 41 <type 'int'>\n",
      "2016-08-01 20:03:04.487000 40 <type 'int'>\n",
      "2016-08-01 20:03:54.509000 39 <type 'int'>\n",
      "2016-08-01 20:04:44.546000 38 <type 'int'>\n",
      "2016-08-01 20:05:34.575000 37 <type 'int'>\n",
      "2016-08-01 20:06:38.539000 36 <type 'int'>\n",
      "2016-08-01 20:07:28.569000 35 <type 'int'>\n",
      "2016-08-01 20:09:18.025000 33 <type 'int'>\n",
      "2016-08-01 20:10:18.034000 32 <type 'int'>\n",
      "2016-08-01 20:11:08.053000 31 <type 'int'>\n",
      "2016-08-01 20:11:58.077000 30 <type 'int'>\n",
      "2016-08-01 20:12:48.098000 29 <type 'int'>\n",
      "2016-08-01 20:13:51.219000 27 <type 'int'>\n",
      "2016-08-01 20:14:41.237000 26 <type 'int'>\n",
      "2016-08-01 20:15:31.261000 25 <type 'int'>\n",
      "2016-08-01 20:16:21.283000 24 <type 'int'>\n",
      "2016-08-01 20:17:11.307000 23 <type 'int'>\n",
      "2016-08-01 20:18:01.333000 22 <type 'int'>\n",
      "2016-08-01 20:19:02.004000 21 <type 'int'>\n",
      "2016-08-01 20:19:52.028000 19 <type 'int'>\n",
      "2016-08-01 20:20:42.044000 18 <type 'int'>\n",
      "2016-08-01 20:21:32.069000 17 <type 'int'>\n",
      "2016-08-01 20:22:22.095000 16 <type 'int'>\n",
      "2016-08-01 20:23:12.114000 15 <type 'int'>\n",
      "2016-08-01 20:24:02.141000 14 <type 'int'>\n",
      "2016-08-01 20:24:52.169000 13 <type 'int'>\n",
      "2016-08-01 20:25:42.191000 12 <type 'int'>\n",
      "2016-08-01 20:26:32.211000 11 <type 'int'>\n",
      "2016-08-01 20:27:38.166000 9 <type 'int'>\n",
      "2016-08-01 20:29:18.207000 8 <type 'int'>\n",
      "2016-08-01 20:30:10.859000 7 <type 'int'>\n",
      "2016-08-01 20:31:00.878000 6 <type 'int'>\n",
      "2016-08-01 20:31:50.906000 5 <type 'int'>\n",
      "2016-08-01 20:33:30.945000 4 <type 'int'>\n",
      "2016-08-01 20:34:32.622000 3 <type 'int'>\n",
      "2016-08-01 20:35:28.978000 2 <type 'int'>\n",
      "2016-08-01 20:36:18.998000 1 <type 'int'>\n",
      "2016-08-01 20:37:59.644000 0 <type 'int'>\n"
     ]
    }
   ],
   "source": [
    "filename = 'batterystats.txt'\n",
    "\n",
    "with open(filename) as file_object: \n",
    "    lines = file_object.readlines() #returns list of strings \n",
    "    \n",
    "battery_list = [] \n",
    "ts_list = []\n",
    "dt_list = []\n",
    "prev_battery_level = -1\n",
    "\n",
    "last_line = lines[-1]\n",
    "last_time = last_line.split()[0]\n",
    "print last_time\n",
    "fmt = (r\"\\-((?P<day>\\d+)d)?((?P<hrs>\\d+)h)?((?P<min>\\d+)m)?\"\n",
    "           r\"((?P<sec>\\d+)s)?((?P<ms>\\d+)ms)?$\")\n",
    "last_ts = parse_time(last_time, fmt)\n",
    "st = time.strptime('2016-08-01-20-38-00', \"%Y-%m-%d-%H-%M-%S\")\n",
    "data_start_time = time.mktime(st) + last_ts \n",
    "\n",
    "for i, line in enumerate(lines): \n",
    "    line.rstrip()\n",
    "    if len(line.strip()) == 0: #empty line b/t battery data and \"Per-PID Stats:\"\n",
    "        break\n",
    "    \n",
    "    if i!=0: \n",
    "        data = line.split()\n",
    "        line_time = data[0] #duration like '1d2h3m4s5ms' (string)\n",
    "        line_battery_level = int(data[1]) #battery percentage (int)\n",
    "\n",
    "        fmt = (r\"\\-((?P<day>\\d+)d)?((?P<hrs>\\d+)h)?((?P<min>\\d+)m)?\"\n",
    "           r\"((?P<sec>\\d+)s)?((?P<ms>\\d+)ms)?$\")\n",
    "        time_delta_s = parse_time(line_time, fmt) #duration in seconds (float)\n",
    "        ts = data_start_time - time_delta_s #unix time (float)       \n",
    "        local_time = pydt.datetime.fromtimestamp(ts) #local time (datetime)\n",
    "\n",
    "        battery_list.append(line_battery_level)\n",
    "        ts_list.append(ts)\n",
    "        dt_list.append(local_time)\n",
    "\n",
    "        if line_battery_level != prev_battery_level:\n",
    "            print str(local_time) + \" \" + str(line_battery_level) + \" \"+ str(type(line_battery_level))\n",
    "\n",
    "        prev_battery_level = line_battery_level\n",
    "    \n",
    "    #if line_battery_level == 0: #battery drained completely\n",
    "     #   break"
   ]
  },
  {
   "cell_type": "code",
   "execution_count": 38,
   "metadata": {
    "collapsed": false
   },
   "outputs": [
    {
     "data": {
      "text/html": [
       "<div>\n",
       "<table border=\"1\" class=\"dataframe\">\n",
       "  <thead>\n",
       "    <tr style=\"text-align: right;\">\n",
       "      <th></th>\n",
       "      <th>battery_level_pct</th>\n",
       "      <th>local_dt</th>\n",
       "      <th>metadata_write_ts</th>\n",
       "      <th>ts</th>\n",
       "    </tr>\n",
       "  </thead>\n",
       "  <tbody>\n",
       "    <tr>\n",
       "      <th>0</th>\n",
       "      <td>99</td>\n",
       "      <td>2016-08-01 19:18:07.203</td>\n",
       "      <td>1.470104e+09</td>\n",
       "      <td>1.470104e+09</td>\n",
       "    </tr>\n",
       "    <tr>\n",
       "      <th>1</th>\n",
       "      <td>99</td>\n",
       "      <td>2016-08-01 19:18:08.728</td>\n",
       "      <td>1.470104e+09</td>\n",
       "      <td>1.470104e+09</td>\n",
       "    </tr>\n",
       "    <tr>\n",
       "      <th>2</th>\n",
       "      <td>99</td>\n",
       "      <td>2016-08-01 19:18:09.656</td>\n",
       "      <td>1.470104e+09</td>\n",
       "      <td>1.470104e+09</td>\n",
       "    </tr>\n",
       "  </tbody>\n",
       "</table>\n",
       "</div>"
      ],
      "text/plain": [
       "   battery_level_pct                local_dt  metadata_write_ts            ts\n",
       "0                 99 2016-08-01 19:18:07.203       1.470104e+09  1.470104e+09\n",
       "1                 99 2016-08-01 19:18:08.728       1.470104e+09  1.470104e+09\n",
       "2                 99 2016-08-01 19:18:09.656       1.470104e+09  1.470104e+09"
      ]
     },
     "execution_count": 38,
     "metadata": {},
     "output_type": "execute_result"
    }
   ],
   "source": [
    "df = pd.DataFrame(data={'metadata_write_ts': ts_list, 'ts': ts_list, 'local_dt': dt_list, 'battery_level_pct': battery_list})\n",
    "df.to_csv('batterystats.csv')\n",
    "df[:3]"
   ]
  },
  {
   "cell_type": "code",
   "execution_count": 39,
   "metadata": {
    "collapsed": false
   },
   "outputs": [
    {
     "name": "stdout",
     "output_type": "stream",
     "text": [
      "<class 'pandas.core.frame.DataFrame'>\n",
      "RangeIndex: 110 entries, 0 to 109\n",
      "Data columns (total 4 columns):\n",
      "battery_level_pct    110 non-null int64\n",
      "local_dt             110 non-null datetime64[ns]\n",
      "metadata_write_ts    110 non-null float64\n",
      "ts                   110 non-null float64\n",
      "dtypes: datetime64[ns](1), float64(2), int64(1)\n",
      "memory usage: 3.5 KB\n"
     ]
    }
   ],
   "source": [
    "df.info() "
   ]
  },
  {
   "cell_type": "code",
   "execution_count": 47,
   "metadata": {
    "collapsed": false
   },
   "outputs": [
    {
     "data": {
      "text/plain": [
       "<matplotlib.axes._subplots.AxesSubplot at 0x1164cd2d0>"
      ]
     },
     "execution_count": 47,
     "metadata": {},
     "output_type": "execute_result"
    },
    {
     "data": {
      "image/png": "[encoded data removed]",
      "text/plain": [
       "<matplotlib.figure.Figure at 0x115deaa90>"
      ]
     },
     "metadata": {},
     "output_type": "display_data"
    }
   ],
   "source": [
    "df.plot(x='local_dt', y='battery_level_pct')"
   ]
  },
  {
   "cell_type": "code",
   "execution_count": 48,
   "metadata": {
    "collapsed": false
   },
   "outputs": [],
   "source": [
    "df1 = pd.read_csv('batterystats.csv')\n",
    "df2 = pd.read_csv('batterystats1.5.csv')"
   ]
  },
  {
   "cell_type": "code",
   "execution_count": 49,
   "metadata": {
    "collapsed": false
   },
   "outputs": [
    {
     "data": {
      "text/plain": [
       "<matplotlib.axes._subplots.AxesSubplot at 0x116c1f050>"
      ]
     },
     "execution_count": 49,
     "metadata": {},
     "output_type": "execute_result"
    },
    {
     "data": {
      "image/png": "[encoded data removed]",
      "text/plain": [
       "<matplotlib.figure.Figure at 0x115e07ed0>"
      ]
     },
     "metadata": {},
     "output_type": "display_data"
    },
    {
     "data": {
      "image/png": "[encoded data removed]",
      "text/plain": [
       "<matplotlib.figure.Figure at 0x116be0c50>"
      ]
     },
     "metadata": {},
     "output_type": "display_data"
    }
   ],
   "source": [
    "df1.plot(x='ts', y='battery_level_pct', label='1')\n",
    "df2.plot(x='ts', y='battery_level_pct', label='2')"
   ]
  },
  {
   "cell_type": "code",
   "execution_count": null,
   "metadata": {
    "collapsed": true
   },
   "outputs": [],
   "source": []
  }
 ],
 "metadata": {
  "kernelspec": {
   "display_name": "Python 2",
   "language": "python",
   "name": "python2"
  },
  "language_info": {
   "codemirror_mode": {
    "name": "ipython",
    "version": 2
   },
   "file_extension": ".py",
   "mimetype": "text/x-python",
   "name": "python",
   "nbconvert_exporter": "python",
   "pygments_lexer": "ipython2",
   "version": "2.7.11"
  }
 },
 "nbformat": 4,
 "nbformat_minor": 0
}
