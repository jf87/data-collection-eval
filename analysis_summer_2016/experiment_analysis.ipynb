{
 "cells": [
  {
   "cell_type": "code",
   "execution_count": 1,
   "metadata": {
    "collapsed": false,
    "scrolled": false
   },
   "outputs": [],
   "source": [
    "from uuid import UUID\n",
    "import sys\n",
    "import logging \n",
    "import arrow\n",
    "import pandas as pd\n",
    "import public_data\n",
    "\n",
    "import matplotlib.pyplot as plt\n",
    "%matplotlib inline\n",
    "import datetime as pydt\n",
    "import emission.core.get_database as edb\n",
    "import emission.storage.timeseries.abstract_timeseries as esta\n",
    "import emission.storage.timeseries.timequery as estt\n",
    "\n",
    "logging.getLogger().setLevel(logging.DEBUG)\n",
    "logger = logging.getLogger()\n",
    "logger.handlers[0].stream = sys.stdout"
   ]
  },
  {
   "cell_type": "code",
   "execution_count": 2,
   "metadata": {
    "collapsed": false,
    "scrolled": false
   },
   "outputs": [],
   "source": [
    "iphone_ids_all = [\"079e0f1a-c440-3d7c-b0e7-de160f748e35\", \"c76a0487-7e5a-3b17-a449-47be666b36f6\", \n",
    "              \"c528bcd2-a88b-3e82-be62-ef4f2396967a\", \"95e70727-a04e-3e33-b7fe-34ab19194f8b\"]\n",
    "android_ids_all = [\"e471711e-bd14-3dbe-80b6-9c7d92ecc296\", \"fd7b4c2e-2c8b-3bfa-94f0-d1e3ecbd5fb7\",\n",
    "             \"86842c35-da28-32ed-a90e-2da6663c5c73\", \"3bc0f91f-7660-34a2-b005-5c399598a369\"]"
   ]
  },
  {
   "cell_type": "code",
   "execution_count": 3,
   "metadata": {
    "collapsed": false,
    "scrolled": true
   },
   "outputs": [
    {
     "data": {
      "text/html": [
       "<div>\n",
       "<table border=\"1\" class=\"dataframe\">\n",
       "  <thead>\n",
       "    <tr style=\"text-align: right;\">\n",
       "      <th></th>\n",
       "      <th>experiment</th>\n",
       "      <th>start_time</th>\n",
       "      <th>end_time</th>\n",
       "      <th>start_ts</th>\n",
       "      <th>end_ts</th>\n",
       "      <th>label</th>\n",
       "      <th>notes</th>\n",
       "      <th>description</th>\n",
       "    </tr>\n",
       "  </thead>\n",
       "  <tbody>\n",
       "    <tr>\n",
       "      <th>0</th>\n",
       "      <td>standby</td>\n",
       "      <td>2016-07-02T16:00:00-07:00</td>\n",
       "      <td>2016-07-08T00:00:00-07:00</td>\n",
       "      <td>1467500400</td>\n",
       "      <td>1467961200</td>\n",
       "      <td>1hr,1hr,1hr,1hr</td>\n",
       "      <td>iphone4 reported no data, android3 drained faster</td>\n",
       "      <td>phone sitting stationary</td>\n",
       "    </tr>\n",
       "    <tr>\n",
       "      <th>1</th>\n",
       "      <td>HAFS *iphone* + HAMS 30s *android*</td>\n",
       "      <td>2016-07-11T18:00:34.967853-07:00</td>\n",
       "      <td>2016-07-14T15:40:19.652000-07:00</td>\n",
       "      <td>1468285235</td>\n",
       "      <td>1468536020</td>\n",
       "      <td>1hr,1hr,1hr,1hr</td>\n",
       "      <td>iphone 4 drained faster</td>\n",
       "      <td>high accuracy, fast sampling location tracking</td>\n",
       "    </tr>\n",
       "    <tr>\n",
       "      <th>2</th>\n",
       "      <td>HAFS location (stationary)</td>\n",
       "      <td>2016-07-17T11:12:33.859000-07:00</td>\n",
       "      <td>2016-07-18T11:00:27.966900-07:00</td>\n",
       "      <td>1468782026</td>\n",
       "      <td>1468864828</td>\n",
       "      <td>1hr,1hr,1hr,1hr</td>\n",
       "      <td>consistent ios &amp; android</td>\n",
       "      <td>NaN</td>\n",
       "    </tr>\n",
       "    <tr>\n",
       "      <th>3</th>\n",
       "      <td>HAFS location (stationary)</td>\n",
       "      <td>2016-07-20T08:00:07.669725-07:00</td>\n",
       "      <td>2016-07-21T07:00:34.099522-07:00</td>\n",
       "      <td>1469026808</td>\n",
       "      <td>1469109634</td>\n",
       "      <td>1hr,1hr,1hr,1hr</td>\n",
       "      <td>consistent ios &amp; android</td>\n",
       "      <td>NaN</td>\n",
       "    </tr>\n",
       "    <tr>\n",
       "      <th>4</th>\n",
       "      <td>HAFS location (stationary) *android only*</td>\n",
       "      <td>2016-07-21T11:11:55.444000-07:00</td>\n",
       "      <td>2016-07-22T07:18:25.989000-07:00</td>\n",
       "      <td>1469124715</td>\n",
       "      <td>1469197106</td>\n",
       "      <td>1hr,1hr,1hr,1hr</td>\n",
       "      <td>android2 drained faster, android 3 start at 95%</td>\n",
       "      <td>NaN</td>\n",
       "    </tr>\n",
       "    <tr>\n",
       "      <th>5</th>\n",
       "      <td>HAFS location (stationary)</td>\n",
       "      <td>2016-07-27T17:46:23.459000-07:00</td>\n",
       "      <td>2016-07-28T17:00:23.909602-07:00</td>\n",
       "      <td>1469666783</td>\n",
       "      <td>1469750424</td>\n",
       "      <td>1hr,1hr,1hr,1hr</td>\n",
       "      <td>consistent ios, android bimodal</td>\n",
       "      <td>NaN</td>\n",
       "    </tr>\n",
       "    <tr>\n",
       "      <th>6</th>\n",
       "      <td>MAFS lacation (moving)</td>\n",
       "      <td>2016-07-29T11:00:04.500982-07:00</td>\n",
       "      <td>2016-07-29T21:00:23.752410-07:00</td>\n",
       "      <td>1469815205</td>\n",
       "      <td>1469851224</td>\n",
       "      <td>1hr,1hr,1hr,1hr</td>\n",
       "      <td>iphone4 reported no data, android bimodal</td>\n",
       "      <td>travelled from berkeley to mountain view</td>\n",
       "    </tr>\n",
       "    <tr>\n",
       "      <th>7</th>\n",
       "      <td>video playback</td>\n",
       "      <td>2016-07-29T22:39:43.046000-07:00</td>\n",
       "      <td>2016-07-30T05:00:19.731261-07:00</td>\n",
       "      <td>1469857183</td>\n",
       "      <td>1469880020</td>\n",
       "      <td>1hr,1hr,1hr,1hr</td>\n",
       "      <td>iphone4 reported no data</td>\n",
       "      <td>same freq, max brightness, airplane mode, loca...</td>\n",
       "    </tr>\n",
       "    <tr>\n",
       "      <th>8</th>\n",
       "      <td>video playback (diff freq)</td>\n",
       "      <td>2016-07-30T13:03:01.030000-07:00</td>\n",
       "      <td>2016-07-30T18:40:30.291000-07:00</td>\n",
       "      <td>1469908981</td>\n",
       "      <td>1469932204</td>\n",
       "      <td>1min,10min,30min,1hr</td>\n",
       "      <td>iphone4 reported no data</td>\n",
       "      <td>diff freq (1min, 10min, 30min), max brightness...</td>\n",
       "    </tr>\n",
       "    <tr>\n",
       "      <th>9</th>\n",
       "      <td>MAFS lacation (moving) *iphone only*</td>\n",
       "      <td>2016-08-01T08:00:14.770948-07:00</td>\n",
       "      <td>2016-08-01T09:45:01.017547-07:00</td>\n",
       "      <td>1470063615</td>\n",
       "      <td>1470069901</td>\n",
       "      <td>1hr,1hr,1hr,1hr</td>\n",
       "      <td>no meaningful andorid data (too few data points)</td>\n",
       "      <td>travelled from mountain view to berkeley</td>\n",
       "    </tr>\n",
       "    <tr>\n",
       "      <th>10</th>\n",
       "      <td>video playback (diff freq) *iphone only*</td>\n",
       "      <td>2016-08-04T22:00:19.038382-07:00</td>\n",
       "      <td>2016-08-05T03:20:03.251420-07:00</td>\n",
       "      <td>1470373219</td>\n",
       "      <td>1470392403</td>\n",
       "      <td>1min,1hr,10min,30min</td>\n",
       "      <td>diff freq has negligible effect</td>\n",
       "      <td>diff freq (1min, 1hr, 10min, 30min), max brigh...</td>\n",
       "    </tr>\n",
       "    <tr>\n",
       "      <th>11</th>\n",
       "      <td>HAFS location (stationary) *android only*</td>\n",
       "      <td>2016-08-04T23:12:09.561000-07:00</td>\n",
       "      <td>2016-08-05T16:04:44.289000-07:00</td>\n",
       "      <td>1470377530</td>\n",
       "      <td>1470438284</td>\n",
       "      <td>1hr,1hr,1hr,1hr</td>\n",
       "      <td>android3 drained slower</td>\n",
       "      <td>same freq</td>\n",
       "    </tr>\n",
       "  </tbody>\n",
       "</table>\n",
       "</div>"
      ],
      "text/plain": [
       "                                   experiment  \\\n",
       "0                                    standby    \n",
       "1          HAFS *iphone* + HAMS 30s *android*   \n",
       "2                  HAFS location (stationary)   \n",
       "3                  HAFS location (stationary)   \n",
       "4   HAFS location (stationary) *android only*   \n",
       "5                  HAFS location (stationary)   \n",
       "6                     MAFS lacation (moving)    \n",
       "7                             video playback    \n",
       "8                  video playback (diff freq)   \n",
       "9        MAFS lacation (moving) *iphone only*   \n",
       "10  video playback (diff freq) *iphone only*    \n",
       "11  HAFS location (stationary) *android only*   \n",
       "\n",
       "                          start_time                          end_time  \\\n",
       "0          2016-07-02T16:00:00-07:00         2016-07-08T00:00:00-07:00   \n",
       "1   2016-07-11T18:00:34.967853-07:00  2016-07-14T15:40:19.652000-07:00   \n",
       "2   2016-07-17T11:12:33.859000-07:00  2016-07-18T11:00:27.966900-07:00   \n",
       "3   2016-07-20T08:00:07.669725-07:00  2016-07-21T07:00:34.099522-07:00   \n",
       "4   2016-07-21T11:11:55.444000-07:00  2016-07-22T07:18:25.989000-07:00   \n",
       "5   2016-07-27T17:46:23.459000-07:00  2016-07-28T17:00:23.909602-07:00   \n",
       "6   2016-07-29T11:00:04.500982-07:00  2016-07-29T21:00:23.752410-07:00   \n",
       "7   2016-07-29T22:39:43.046000-07:00  2016-07-30T05:00:19.731261-07:00   \n",
       "8   2016-07-30T13:03:01.030000-07:00  2016-07-30T18:40:30.291000-07:00   \n",
       "9   2016-08-01T08:00:14.770948-07:00  2016-08-01T09:45:01.017547-07:00   \n",
       "10  2016-08-04T22:00:19.038382-07:00  2016-08-05T03:20:03.251420-07:00   \n",
       "11  2016-08-04T23:12:09.561000-07:00  2016-08-05T16:04:44.289000-07:00   \n",
       "\n",
       "      start_ts      end_ts                 label  \\\n",
       "0   1467500400  1467961200       1hr,1hr,1hr,1hr   \n",
       "1   1468285235  1468536020       1hr,1hr,1hr,1hr   \n",
       "2   1468782026  1468864828       1hr,1hr,1hr,1hr   \n",
       "3   1469026808  1469109634       1hr,1hr,1hr,1hr   \n",
       "4   1469124715  1469197106       1hr,1hr,1hr,1hr   \n",
       "5   1469666783  1469750424       1hr,1hr,1hr,1hr   \n",
       "6   1469815205  1469851224       1hr,1hr,1hr,1hr   \n",
       "7   1469857183  1469880020       1hr,1hr,1hr,1hr   \n",
       "8   1469908981  1469932204  1min,10min,30min,1hr   \n",
       "9   1470063615  1470069901       1hr,1hr,1hr,1hr   \n",
       "10  1470373219  1470392403  1min,1hr,10min,30min   \n",
       "11  1470377530  1470438284       1hr,1hr,1hr,1hr   \n",
       "\n",
       "                                                notes  \\\n",
       "0   iphone4 reported no data, android3 drained faster   \n",
       "1                            iphone 4 drained faster    \n",
       "2                            consistent ios & android   \n",
       "3                            consistent ios & android   \n",
       "4     android2 drained faster, android 3 start at 95%   \n",
       "5                    consistent ios, android bimodal    \n",
       "6           iphone4 reported no data, android bimodal   \n",
       "7                            iphone4 reported no data   \n",
       "8                            iphone4 reported no data   \n",
       "9    no meaningful andorid data (too few data points)   \n",
       "10                   diff freq has negligible effect    \n",
       "11                           android3 drained slower    \n",
       "\n",
       "                                          description  \n",
       "0                            phone sitting stationary  \n",
       "1      high accuracy, fast sampling location tracking  \n",
       "2                                                 NaN  \n",
       "3                                                 NaN  \n",
       "4                                                 NaN  \n",
       "5                                                 NaN  \n",
       "6           travelled from berkeley to mountain view   \n",
       "7   same freq, max brightness, airplane mode, loca...  \n",
       "8   diff freq (1min, 10min, 30min), max brightness...  \n",
       "9            travelled from mountain view to berkeley  \n",
       "10  diff freq (1min, 1hr, 10min, 30min), max brigh...  \n",
       "11                                          same freq  "
      ]
     },
     "execution_count": 3,
     "metadata": {},
     "output_type": "execute_result"
    }
   ],
   "source": [
    "exp_df = pd.read_csv(\"experiments.csv\")\n",
    "exp_df"
   ]
  },
  {
   "cell_type": "code",
   "execution_count": 4,
   "metadata": {
    "collapsed": false,
    "scrolled": false
   },
   "outputs": [
    {
     "name": "stdout",
     "output_type": "stream",
     "text": [
      "not data for iphone4\n",
      "Pulling data for experiment: MAFS lacation (moving) \n",
      "from 2016-07-29T11:00:04.500982-07:00 to 2016-07-29T21:00:23.752410-07:00\n"
     ]
    }
   ],
   "source": [
    "# Select the index for the experiment you want to analyze\n",
    "exp_index = 6\n",
    "\n",
    "android_ids = android_ids_all\n",
    "if  'iphone4 reported no data' in exp_df.notes.iloc[exp_index]:\n",
    "    iphone_ids = iphone_ids_all[0:3]\n",
    "    print 'not data for iphone4'\n",
    "else:\n",
    "    iphone_ids = iphone_ids_all\n",
    "\n",
    "plot_iphone = True\n",
    "plot_android = True\n",
    "if 'android only' in exp_df.experiment.iloc[exp_index]:\n",
    "    plot_iphone = False\n",
    "if 'iphone only' in exp_df.experiment.iloc[exp_index]:\n",
    "    plot_android = False\n",
    "    \n",
    "print 'Pulling data for experiment: ' + exp_df.experiment.iloc[exp_index] \n",
    "print 'from ' + exp_df.start_time.iloc[exp_index] + ' to ' + exp_df.end_time.iloc[exp_index]"
   ]
  },
  {
   "cell_type": "code",
   "execution_count": 5,
   "metadata": {
    "collapsed": false,
    "scrolled": true
   },
   "outputs": [],
   "source": [
    "#server_url = 'http://e-mission.eecs.berkeley.edu'\n",
    "server_url = 'http://localhost:8080'\n",
    "\n",
    "start_ts = exp_df.start_ts.iloc[exp_index]\n",
    "end_ts = exp_df.end_ts.iloc[exp_index]\n",
    "\n",
    "phone_ids = iphone_ids + android_ids"
   ]
  },
  {
   "cell_type": "code",
   "execution_count": 6,
   "metadata": {
    "collapsed": false,
    "scrolled": false
   },
   "outputs": [],
   "source": [
    "#public_data.request_batched_data(server_url, start_ts, end_ts, phone_ids)"
   ]
  },
  {
   "cell_type": "code",
   "execution_count": 7,
   "metadata": {
    "collapsed": false,
    "scrolled": false
   },
   "outputs": [],
   "source": [
    "logger.setLevel(logging.CRITICAL)\n",
    "\n",
    "iphone_ts = map(lambda u: esta.TimeSeries.get_time_series(UUID(u)), iphone_ids)\n",
    "android_ts = map(lambda u: esta.TimeSeries.get_time_series(UUID(u)), android_ids)\n",
    "\n",
    "#time query specification\n",
    "time_range = estt.TimeQuery(\"metadata.write_ts\", start_ts, end_ts)\n",
    "\n",
    "iphone_state_df_list = map(lambda t:t.get_data_df(\"statemachine/transition\", time_range), iphone_ts)\n",
    "android_state_df_list = map(lambda t:t.get_data_df(\"statemachine/transition\", time_range), android_ts)\n",
    "\n",
    "iphone_battery_df_list = map(lambda t:t.get_data_df(\"background/battery\", time_range), iphone_ts)\n",
    "android_battery_df_list = map(lambda t:t.get_data_df(\"background/battery\", time_range), android_ts)\n",
    "iphone_battery_df_list = map(lambda d:d[d.battery_status!=2], iphone_battery_df_list)\n",
    "android_battery_df_list = map(lambda d:d[d.battery_status!=2], android_battery_df_list)"
   ]
  },
  {
   "cell_type": "code",
   "execution_count": 25,
   "metadata": {
    "collapsed": false
   },
   "outputs": [
    {
     "data": {
      "text/html": [
       "<div>\n",
       "<table border=\"1\" class=\"dataframe\">\n",
       "  <thead>\n",
       "    <tr style=\"text-align: right;\">\n",
       "      <th></th>\n",
       "      <th>_id</th>\n",
       "      <th>android_health</th>\n",
       "      <th>android_plugged</th>\n",
       "      <th>android_technology</th>\n",
       "      <th>android_temperature</th>\n",
       "      <th>android_voltage</th>\n",
       "      <th>battery_level_pct</th>\n",
       "      <th>battery_status</th>\n",
       "      <th>fmt_time</th>\n",
       "      <th>local_dt</th>\n",
       "      <th>metadata_write_ts</th>\n",
       "      <th>ts</th>\n",
       "      <th>hr</th>\n",
       "      <th>h</th>\n",
       "    </tr>\n",
       "  </thead>\n",
       "  <tbody>\n",
       "    <tr>\n",
       "      <th>0</th>\n",
       "      <td>579bc7d2f311e474bfcd092f</td>\n",
       "      <td>GOOD</td>\n",
       "      <td>UNKNOWN</td>\n",
       "      <td>Li-ion</td>\n",
       "      <td>328</td>\n",
       "      <td>328</td>\n",
       "      <td>98</td>\n",
       "      <td>1</td>\n",
       "      <td>2016-07-29T12:47:37.405000-07:00</td>\n",
       "      <td>2016-07-29 15:47:37.405</td>\n",
       "      <td>1.469822e+09</td>\n",
       "      <td>1.469822e+09</td>\n",
       "      <td>1.792335</td>\n",
       "      <td>15.793611</td>\n",
       "    </tr>\n",
       "  </tbody>\n",
       "</table>\n",
       "</div>"
      ],
      "text/plain": [
       "                        _id android_health android_plugged android_technology  \\\n",
       "0  579bc7d2f311e474bfcd092f           GOOD         UNKNOWN             Li-ion   \n",
       "\n",
       "   android_temperature  android_voltage  battery_level_pct  battery_status  \\\n",
       "0                  328              328                 98               1   \n",
       "\n",
       "                           fmt_time                local_dt  \\\n",
       "0  2016-07-29T12:47:37.405000-07:00 2016-07-29 15:47:37.405   \n",
       "\n",
       "   metadata_write_ts            ts        hr          h  \n",
       "0       1.469822e+09  1.469822e+09  1.792335  15.793611  "
      ]
     },
     "execution_count": 25,
     "metadata": {},
     "output_type": "execute_result"
    }
   ],
   "source": [
    "android_test = android_battery_df_list[0]\n",
    "android_test[['fmt_time', 'battery_level_pct', 'battery_status']][0:2]\n",
    "android_test[0:1]"
   ]
  },
  {
   "cell_type": "code",
   "execution_count": 9,
   "metadata": {
    "collapsed": false,
    "scrolled": false
   },
   "outputs": [
    {
     "data": {
      "text/html": [
       "<div>\n",
       "<table border=\"1\" class=\"dataframe\">\n",
       "  <thead>\n",
       "    <tr style=\"text-align: right;\">\n",
       "      <th></th>\n",
       "      <th>fmt_time</th>\n",
       "      <th>battery_level_pct</th>\n",
       "      <th>battery_status</th>\n",
       "    </tr>\n",
       "  </thead>\n",
       "  <tbody>\n",
       "    <tr>\n",
       "      <th>0</th>\n",
       "      <td>2016-07-29T11:00:13.917096-07:00</td>\n",
       "      <td>100.0</td>\n",
       "      <td>1</td>\n",
       "    </tr>\n",
       "    <tr>\n",
       "      <th>1</th>\n",
       "      <td>2016-07-29T12:00:13.165131-07:00</td>\n",
       "      <td>100.0</td>\n",
       "      <td>1</td>\n",
       "    </tr>\n",
       "  </tbody>\n",
       "</table>\n",
       "</div>"
      ],
      "text/plain": [
       "                           fmt_time  battery_level_pct  battery_status\n",
       "0  2016-07-29T11:00:13.917096-07:00              100.0               1\n",
       "1  2016-07-29T12:00:13.165131-07:00              100.0               1"
      ]
     },
     "execution_count": 9,
     "metadata": {},
     "output_type": "execute_result"
    }
   ],
   "source": [
    "iphone_test = iphone_battery_df_list[0]\n",
    "iphone_test[['fmt_time', 'battery_level_pct', 'battery_status']][0:2]"
   ]
  },
  {
   "cell_type": "code",
   "execution_count": 10,
   "metadata": {
    "collapsed": false,
    "scrolled": false
   },
   "outputs": [],
   "source": [
    "import numpy as np\n",
    "\n",
    "iphone_xnew = np.arange(start_ts, end_ts, 15 * 60) # 15 minutes\n",
    "android_xnew = np.arange(start_ts, end_ts, 15 * 60) # 15 minutes"
   ]
  },
  {
   "cell_type": "code",
   "execution_count": 11,
   "metadata": {
    "collapsed": true,
    "scrolled": false
   },
   "outputs": [],
   "source": [
    "import scipy.interpolate as spi\n",
    "import numpy as np\n",
    "\n",
    "def get_interpolated(x, y, xnew):\n",
    "    # fn = spi.interp1d(x=x, y=y, bounds_error=False, fill_value=y.iloc[-1])\n",
    "    fn = spi.interp1d(x=x, y=y, bounds_error=False)\n",
    "    return fn(xnew)"
   ]
  },
  {
   "cell_type": "code",
   "execution_count": 12,
   "metadata": {
    "collapsed": true,
    "scrolled": false
   },
   "outputs": [],
   "source": [
    "def get_interpolated_df(sensor_df, xnew):\n",
    "    local_dt_new = map(pydt.datetime.fromtimestamp, xnew)\n",
    "    fmt_time_new = map(lambda dt: dt.isoformat(), local_dt_new)\n",
    "    interpolated_series = get_interpolated(sensor_df.ts, sensor_df.battery_level_pct, xnew)\n",
    "    interpolated_df = pd.DataFrame(data={'ts': xnew, 'metadata_write_ts': xnew, 'local_dt': local_dt_new, 'fmt_time': fmt_time_new, 'battery_level_pct': interpolated_series})\n",
    "    return interpolated_df"
   ]
  },
  {
   "cell_type": "code",
   "execution_count": 13,
   "metadata": {
    "collapsed": false,
    "scrolled": false
   },
   "outputs": [],
   "source": [
    "if plot_iphone:\n",
    "    iphone_battery_interp_df_list = map(lambda df: get_interpolated_df(df, iphone_xnew), iphone_battery_df_list)"
   ]
  },
  {
   "cell_type": "code",
   "execution_count": 14,
   "metadata": {
    "collapsed": false
   },
   "outputs": [],
   "source": [
    "if plot_android:\n",
    "    android_battery_interp_df_list = map(lambda df: get_interpolated_df(df, android_xnew), android_battery_df_list)"
   ]
  },
  {
   "cell_type": "code",
   "execution_count": 15,
   "metadata": {
    "collapsed": false,
    "scrolled": false
   },
   "outputs": [],
   "source": [
    "title = exp_df.experiment.iloc[exp_index] \n",
    "text = exp_df.label.iloc[exp_index] \n",
    "label = text.split(\",\") \n",
    "style = ['ob', 'og', 'or', 'oc']\n",
    "\n",
    "ts_to_dt = lambda t: pydt.datetime.fromtimestamp(t)"
   ]
  },
  {
   "cell_type": "code",
   "execution_count": 16,
   "metadata": {
    "collapsed": false
   },
   "outputs": [
    {
     "name": "stdout",
     "output_type": "stream",
     "text": [
      "About to plot 0\n",
      "About to plot 1\n",
      "About to plot 2\n",
      "About to plot 0\n",
      "About to plot 1\n",
      "About to plot 2\n"
     ]
    },
    {
     "data": {
      "image/png": "[encoded data removed]",
      "text/plain": [
       "<matplotlib.figure.Figure at 0x11670b350>"
      ]
     },
     "metadata": {},
     "output_type": "display_data"
    }
   ],
   "source": [
    "#iPhone: With interplation on battery data \n",
    "if plot_iphone:\n",
    "    (ifig, iaxes2d) = plt.subplots(ncols=1, nrows=1, figsize=(16,6))\n",
    "    iaxes = iaxes2d\n",
    "\n",
    "    ifig.suptitle(title + ' (iPhone_overlaid)', fontsize=14, fontweight='bold')\n",
    "\n",
    "    for i, df in enumerate(iphone_battery_interp_df_list):\n",
    "        print \"About to plot %d\" % i\n",
    "        df['hr'] = (df.ts-start_ts)/3600.0\n",
    "        df.plot(x='hr', y='battery_level_pct', ax=iaxes, label=(\"iphone-%s \" % (i+1))+'('+label[i]+')', xlim=(min(df.hr), max(df.hr)), legend=True)\n",
    "\n",
    "\n",
    "    for i, df in enumerate(iphone_battery_df_list):\n",
    "        print \"About to plot %d\" % i\n",
    "        df['hr'] = (df.ts-start_ts)/3600.0\n",
    "        df.plot(x='hr', y='battery_level_pct', style=style[i], ax=iaxes,  xlim=(min(df.hr), max(df.hr)), legend=False)\n",
    "        iaxes.set_xlabel('Hours')\n",
    "        iaxes.set_ylabel('Batery Level')\n",
    "        #plt.xticks(np.arange(min(df.dt), max(df.dt), 1))"
   ]
  },
  {
   "cell_type": "code",
   "execution_count": 17,
   "metadata": {
    "collapsed": false,
    "scrolled": true
   },
   "outputs": [
    {
     "name": "stdout",
     "output_type": "stream",
     "text": [
      "From linear model fitting ...\n",
      "ios 1: slope=-2.58385507373 %/hr  std_err=0.10186626465\n",
      "ios 2: slope=-3.15141545913 %/hr  std_err=0.110817317085\n",
      "ios 3: slope=-2.49433707 %/hr  std_err=0.0996448082672\n",
      "average slope=-2.05740190072 %/hr  std dev=0.29095442055\n"
     ]
    }
   ],
   "source": [
    "from scipy import stats\n",
    "\n",
    "if plot_iphone:\n",
    "    total=[]\n",
    "    print \"From linear model fitting ...\" \n",
    "    for i, df in enumerate(iphone_battery_interp_df_list):\n",
    "        notnull = df.battery_level_pct.notnull()\n",
    "        slope, intercept, r_value, p_value, std_err = stats.linregress(df.hr[notnull], df.battery_level_pct[notnull])\n",
    "        print \"ios %d: \" % (i+1)  + \"slope=\"+str(slope) + \" %/hr  std_err=\"+str(std_err)\n",
    "        total.append(slope)\n",
    "\n",
    "    print \"average slope=\" + str(sum(total)/4) + \" %/hr  std dev=\" + str(np.std(total))"
   ]
  },
  {
   "cell_type": "code",
   "execution_count": 18,
   "metadata": {
    "collapsed": false,
    "scrolled": true
   },
   "outputs": [
    {
     "name": "stdout",
     "output_type": "stream",
     "text": [
      "ios 1\n",
      "linear_fit: RMSE = 1.79051851267\n",
      "quadratic_fit: RMSE = 0.921255683953\n",
      "\n",
      "ios 2\n",
      "linear_fit: RMSE = 1.80417062508\n",
      "quadratic_fit: RMSE = 1.35367466181\n",
      "\n",
      "ios 3\n",
      "linear_fit: RMSE = 1.85367261277\n",
      "quadratic_fit: RMSE = 1.14206481829\n",
      "\n"
     ]
    }
   ],
   "source": [
    "#iphone data\n",
    "if plot_iphone:\n",
    "    for i, phone in enumerate(iphone_battery_df_list):\n",
    "        batt = phone\n",
    "        x = batt.metadata_write_ts\n",
    "        y = batt.battery_level_pct\n",
    "\n",
    "        p1 = np.polyfit(x,y,1)\n",
    "        p2 = np.polyfit(x,y,2) \n",
    "\n",
    "        yfit1 = np.polyval(p1,x)\n",
    "        yfit2 = np.polyval(p2,x)\n",
    "\n",
    "        print 'ios ' + str(i+1)\n",
    "        print 'linear_fit: RMSE = ' + str(np.mean((y - yfit1) ** 2)**0.5)\n",
    "        print 'quadratic_fit: RMSE = ' + str(np.mean((y - yfit2) ** 2)**0.5)\n",
    "        print "
   ]
  },
  {
   "cell_type": "code",
   "execution_count": 19,
   "metadata": {
    "collapsed": false,
    "scrolled": false
   },
   "outputs": [
    {
     "name": "stdout",
     "output_type": "stream",
     "text": [
      "About to plot 0\n",
      "About to plot 1\n",
      "About to plot 2\n",
      "About to plot 3\n",
      "About to plot 0\n",
      "About to plot 1\n",
      "About to plot 2\n",
      "About to plot 3\n"
     ]
    },
    {
     "data": {
      "image/png": "[encoded data removed]",
      "text/plain": [
       "<matplotlib.figure.Figure at 0x119dc2090>"
      ]
     },
     "metadata": {},
     "output_type": "display_data"
    }
   ],
   "source": [
    "#Android: With interplation on battery data \n",
    "if plot_android:\n",
    "    (ifig, iaxes2d) = plt.subplots(ncols=1, nrows=1, figsize=(16,6))\n",
    "    iaxes = iaxes2d\n",
    "\n",
    "    ifig.suptitle(title + ' (Android_overlaid)', fontsize=14, fontweight='bold')\n",
    "\n",
    "    for i, df in enumerate(android_battery_interp_df_list):\n",
    "        print \"About to plot %d\" % i\n",
    "        df['hr'] = (df.ts-start_ts)/3600.0\n",
    "        df.plot(x='hr', y='battery_level_pct', ax=iaxes, label=(\"android-%s \" % (i+1))+'('+label[i]+')', xlim=(min(df.hr), max(df.hr)), legend=True)\n",
    "        \n",
    "        \n",
    "    for i, df in enumerate(android_battery_df_list):\n",
    "        print \"About to plot %d\" % i\n",
    "        df['hr'] = (df.ts-start_ts)/3600.0\n",
    "        df.plot(x='hr', y='battery_level_pct', style=style[i], ax=iaxes,  xlim=(min(df.hr), max(df.hr)), legend=False)\n",
    "        iaxes.set_xlabel('Hours')\n",
    "        iaxes.set_ylabel('Batery Level')\n",
    "        #plt.xticks(np.arange(min(df.dt), max(df.dt), 1))"
   ]
  },
  {
   "cell_type": "code",
   "execution_count": 20,
   "metadata": {
    "collapsed": false,
    "scrolled": false
   },
   "outputs": [
    {
     "name": "stdout",
     "output_type": "stream",
     "text": [
      "From linear model fitting ...\n",
      "android 1: slope=-2.4891873639 %/hr  std_err=0.135886913243\n",
      "android 2: slope=-2.65331815949 %/hr  std_err=0.0576013890697\n",
      "android 3: slope=-2.58943106254 %/hr  std_err=0.0601022981972\n",
      "android 4: slope=-2.51666370104 %/hr  std_err=0.122197934557\n",
      "average slope=-2.56215007174 %/hr  std dev=0.0641257345719\n"
     ]
    }
   ],
   "source": [
    "from scipy import stats\n",
    "\n",
    "if plot_android:\n",
    "    total=[]\n",
    "    print \"From linear model fitting ...\" \n",
    "    for i, df in enumerate(android_battery_interp_df_list):\n",
    "        notnull = df.battery_level_pct.notnull()\n",
    "        slope, intercept, r_value, p_value, std_err = stats.linregress(df.hr[notnull], df.battery_level_pct[notnull])\n",
    "        print \"android %d: \" % (i+1)  + \"slope=\"+str(slope) + \" %/hr  std_err=\"+str(std_err)\n",
    "        total.append(slope)\n",
    "\n",
    "    print \"average slope=\" + str(sum(total)/4) + \" %/hr  std dev=\" + str(np.std(total))"
   ]
  },
  {
   "cell_type": "code",
   "execution_count": 21,
   "metadata": {
    "collapsed": false,
    "scrolled": true
   },
   "outputs": [
    {
     "name": "stdout",
     "output_type": "stream",
     "text": [
      "android 1\n",
      "linear_fit: RMSE = 1.86324005164\n",
      "quadratic_fit: RMSE = 0.741752512387\n",
      "\n",
      "android 2\n",
      "linear_fit: RMSE = 1.05991348262\n",
      "quadratic_fit: RMSE = 0.674277156387\n",
      "\n",
      "android 3\n",
      "linear_fit: RMSE = 1.02241690416\n",
      "quadratic_fit: RMSE = 0.500079141288\n",
      "\n",
      "android 4\n",
      "linear_fit: RMSE = 1.68175015705\n",
      "quadratic_fit: RMSE = 0.737056735193\n",
      "\n"
     ]
    }
   ],
   "source": [
    "#android data\n",
    "if plot_android:\n",
    "    for i, phone in enumerate(android_battery_df_list):\n",
    "        batt = phone\n",
    "        x = batt.metadata_write_ts\n",
    "        y = batt.battery_level_pct\n",
    "\n",
    "        p1 = np.polyfit(x,y,1)\n",
    "        p2 = np.polyfit(x,y,2) \n",
    "\n",
    "        yfit1 = np.polyval(p1,x)\n",
    "        yfit2 = np.polyval(p2,x)\n",
    "\n",
    "        print 'android ' + str(i+1)\n",
    "        print 'linear_fit: RMSE = ' + str(np.mean((y - yfit1) ** 2)**0.5)\n",
    "        print 'quadratic_fit: RMSE = ' + str(np.mean((y - yfit2) ** 2)**0.5)\n",
    "        print "
   ]
  },
  {
   "cell_type": "code",
   "execution_count": null,
   "metadata": {
    "collapsed": true
   },
   "outputs": [],
   "source": []
  }
 ],
 "metadata": {
  "kernelspec": {
   "display_name": "Python 2",
   "language": "python",
   "name": "python2"
  },
  "language_info": {
   "codemirror_mode": {
    "name": "ipython",
    "version": 2
   },
   "file_extension": ".py",
   "mimetype": "text/x-python",
   "name": "python",
   "nbconvert_exporter": "python",
   "pygments_lexer": "ipython2",
   "version": "2.7.11"
  }
 },
 "nbformat": 4,
 "nbformat_minor": 0
}
