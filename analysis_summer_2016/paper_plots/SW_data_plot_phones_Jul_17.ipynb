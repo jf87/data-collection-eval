{
 "cells": [
  {
   "cell_type": "code",
   "execution_count": 5,
   "metadata": {
    "collapsed": false
   },
   "outputs": [],
   "source": [
    "import sys\n",
    "import logging\n",
    "from uuid import UUID\n",
    "\n",
    "import emission.core.get_database as edb\n",
    "import pandas as pd\n",
    "import matplotlib.pyplot as plt\n",
    "%matplotlib inline\n",
    "import datetime as pydt\n",
    "import emission.storage.timeseries.abstract_timeseries as esta\n",
    "import emission.storage.timeseries.timequery as estt\n",
    "import public_data\n",
    "\n",
    "logging.getLogger().setLevel(logging.DEBUG)\n",
    "logging.debug(sys.path)\n",
    "\n",
    "iphone_ids = [\"079e0f1a-c440-3d7c-b0e7-de160f748e35\", \"c76a0487-7e5a-3b17-a449-47be666b36f6\", \n",
    "              \"c528bcd2-a88b-3e82-be62-ef4f2396967a\", \"95e70727-a04e-3e33-b7fe-34ab19194f8b\"]\n",
    "android_ids = [\"e471711e-bd14-3dbe-80b6-9c7d92ecc296\", \"fd7b4c2e-2c8b-3bfa-94f0-d1e3ecbd5fb7\",\n",
    "             \"86842c35-da28-32ed-a90e-2da6663c5c73\", \"3bc0f91f-7660-34a2-b005-5c399598a369\"]"
   ]
  },
  {
   "cell_type": "code",
   "execution_count": 4,
   "metadata": {
    "collapsed": false
   },
   "outputs": [
    {
     "ename": "KeyboardInterrupt",
     "evalue": "",
     "output_type": "error",
     "traceback": [
      "\u001b[0;31m---------------------------------------------------------------------------\u001b[0m",
      "\u001b[0;31mKeyboardInterrupt\u001b[0m                         Traceback (most recent call last)",
      "\u001b[0;32m<ipython-input-4-3ac2a9f5cece>\u001b[0m in \u001b[0;36m<module>\u001b[0;34m()\u001b[0m\n\u001b[1;32m      7\u001b[0m \u001b[0mphone_ids\u001b[0m \u001b[0;34m=\u001b[0m \u001b[0miphone_ids\u001b[0m \u001b[0;34m+\u001b[0m \u001b[0mandroid_ids\u001b[0m\u001b[0;34m\u001b[0m\u001b[0m\n\u001b[1;32m      8\u001b[0m \u001b[0;34m\u001b[0m\u001b[0m\n\u001b[0;32m----> 9\u001b[0;31m \u001b[0mpublic_data\u001b[0m\u001b[0;34m.\u001b[0m\u001b[0mrequest_batched_data\u001b[0m\u001b[0;34m(\u001b[0m\u001b[0mserver_url\u001b[0m\u001b[0;34m,\u001b[0m \u001b[0mstart_ts\u001b[0m\u001b[0;34m,\u001b[0m \u001b[0mend_ts\u001b[0m\u001b[0;34m,\u001b[0m \u001b[0mphone_ids\u001b[0m\u001b[0;34m)\u001b[0m\u001b[0;34m\u001b[0m\u001b[0m\n\u001b[0m",
      "\u001b[0;32m/Users/yawen/Desktop/E-mission/summer16_plots/data-collection-eval/analysis_summer_2016/paper_plots/public_data.py\u001b[0m in \u001b[0;36mrequest_batched_data\u001b[0;34m(server_url, from_ts, to_ts, phone_ids)\u001b[0m\n\u001b[1;32m     41\u001b[0m         \u001b[0;32mwhile\u001b[0m \u001b[0mt1\u001b[0m \u001b[0;34m<\u001b[0m \u001b[0mto_ts\u001b[0m\u001b[0;34m:\u001b[0m\u001b[0;34m\u001b[0m\u001b[0m\n\u001b[1;32m     42\u001b[0m                 \u001b[0mt2\u001b[0m \u001b[0;34m=\u001b[0m \u001b[0mmin\u001b[0m\u001b[0;34m(\u001b[0m\u001b[0mt1\u001b[0m \u001b[0;34m+\u001b[0m \u001b[0;36m5\u001b[0m\u001b[0;34m*\u001b[0m\u001b[0;36m60\u001b[0m\u001b[0;34m*\u001b[0m\u001b[0;36m60\u001b[0m\u001b[0;34m,\u001b[0m \u001b[0mto_ts\u001b[0m\u001b[0;34m)\u001b[0m\u001b[0;34m\u001b[0m\u001b[0m\n\u001b[0;32m---> 43\u001b[0;31m                 \u001b[0mrequest_data\u001b[0m\u001b[0;34m(\u001b[0m\u001b[0mserver_url\u001b[0m\u001b[0;34m,\u001b[0m \u001b[0mt1\u001b[0m\u001b[0;34m,\u001b[0m \u001b[0mt2\u001b[0m\u001b[0;34m,\u001b[0m \u001b[0mphone_ids\u001b[0m\u001b[0;34m,\u001b[0m \u001b[0mdebug\u001b[0m\u001b[0;34m)\u001b[0m\u001b[0;34m\u001b[0m\u001b[0m\n\u001b[0m\u001b[1;32m     44\u001b[0m                 \u001b[0mt1\u001b[0m \u001b[0;34m=\u001b[0m \u001b[0mt2\u001b[0m\u001b[0;34m\u001b[0m\u001b[0m\n\u001b[1;32m     45\u001b[0m                 \u001b[0mdebug\u001b[0m \u001b[0;34m=\u001b[0m \u001b[0mTrue\u001b[0m\u001b[0;34m\u001b[0m\u001b[0m\n",
      "\u001b[0;32m/Users/yawen/Desktop/E-mission/summer16_plots/data-collection-eval/analysis_summer_2016/paper_plots/public_data.py\u001b[0m in \u001b[0;36mrequest_data\u001b[0;34m(server_url, from_ts, to_ts, phone_ids, debug)\u001b[0m\n\u001b[1;32m     11\u001b[0m         \u001b[0mheaders\u001b[0m \u001b[0;34m=\u001b[0m \u001b[0;34m{\u001b[0m\u001b[0;34m'Content-Type'\u001b[0m\u001b[0;34m:\u001b[0m \u001b[0;34m'application/json'\u001b[0m\u001b[0;34m}\u001b[0m\u001b[0;34m\u001b[0m\u001b[0m\n\u001b[1;32m     12\u001b[0m \u001b[0;34m\u001b[0m\u001b[0m\n\u001b[0;32m---> 13\u001b[0;31m         \u001b[0mr\u001b[0m \u001b[0;34m=\u001b[0m \u001b[0mrequests\u001b[0m\u001b[0;34m.\u001b[0m\u001b[0mget\u001b[0m\u001b[0;34m(\u001b[0m\u001b[0murl\u001b[0m\u001b[0;34m,\u001b[0m \u001b[0mdata\u001b[0m\u001b[0;34m=\u001b[0m\u001b[0mjson\u001b[0m\u001b[0;34m.\u001b[0m\u001b[0mdumps\u001b[0m\u001b[0;34m(\u001b[0m\u001b[0mids\u001b[0m\u001b[0;34m)\u001b[0m\u001b[0;34m,\u001b[0m \u001b[0mheaders\u001b[0m \u001b[0;34m=\u001b[0m \u001b[0mheaders\u001b[0m\u001b[0;34m)\u001b[0m\u001b[0;34m\u001b[0m\u001b[0m\n\u001b[0m\u001b[1;32m     14\u001b[0m \u001b[0;34m\u001b[0m\u001b[0m\n\u001b[1;32m     15\u001b[0m         \u001b[0mdic\u001b[0m \u001b[0;34m=\u001b[0m \u001b[0mjson\u001b[0m\u001b[0;34m.\u001b[0m\u001b[0mloads\u001b[0m\u001b[0;34m(\u001b[0m\u001b[0mr\u001b[0m\u001b[0;34m.\u001b[0m\u001b[0mtext\u001b[0m\u001b[0;34m,\u001b[0m \u001b[0mobject_hook\u001b[0m \u001b[0;34m=\u001b[0m \u001b[0mbju\u001b[0m\u001b[0;34m.\u001b[0m\u001b[0mobject_hook\u001b[0m\u001b[0;34m)\u001b[0m\u001b[0;34m\u001b[0m\u001b[0m\n",
      "\u001b[0;32m/Users/yawen/anaconda2/lib/python2.7/site-packages/requests/api.pyc\u001b[0m in \u001b[0;36mget\u001b[0;34m(url, **kwargs)\u001b[0m\n\u001b[1;32m     63\u001b[0m \u001b[0;34m\u001b[0m\u001b[0m\n\u001b[1;32m     64\u001b[0m     \u001b[0mkwargs\u001b[0m\u001b[0;34m.\u001b[0m\u001b[0msetdefault\u001b[0m\u001b[0;34m(\u001b[0m\u001b[0;34m'allow_redirects'\u001b[0m\u001b[0;34m,\u001b[0m \u001b[0mTrue\u001b[0m\u001b[0;34m)\u001b[0m\u001b[0;34m\u001b[0m\u001b[0m\n\u001b[0;32m---> 65\u001b[0;31m     \u001b[0;32mreturn\u001b[0m \u001b[0mrequest\u001b[0m\u001b[0;34m(\u001b[0m\u001b[0;34m'get'\u001b[0m\u001b[0;34m,\u001b[0m \u001b[0murl\u001b[0m\u001b[0;34m,\u001b[0m \u001b[0;34m**\u001b[0m\u001b[0mkwargs\u001b[0m\u001b[0;34m)\u001b[0m\u001b[0;34m\u001b[0m\u001b[0m\n\u001b[0m\u001b[1;32m     66\u001b[0m \u001b[0;34m\u001b[0m\u001b[0m\n\u001b[1;32m     67\u001b[0m \u001b[0;34m\u001b[0m\u001b[0m\n",
      "\u001b[0;32m/Users/yawen/anaconda2/lib/python2.7/site-packages/requests/api.pyc\u001b[0m in \u001b[0;36mrequest\u001b[0;34m(method, url, **kwargs)\u001b[0m\n\u001b[1;32m     47\u001b[0m \u001b[0;34m\u001b[0m\u001b[0m\n\u001b[1;32m     48\u001b[0m     \u001b[0msession\u001b[0m \u001b[0;34m=\u001b[0m \u001b[0msessions\u001b[0m\u001b[0;34m.\u001b[0m\u001b[0mSession\u001b[0m\u001b[0;34m(\u001b[0m\u001b[0;34m)\u001b[0m\u001b[0;34m\u001b[0m\u001b[0m\n\u001b[0;32m---> 49\u001b[0;31m     \u001b[0mresponse\u001b[0m \u001b[0;34m=\u001b[0m \u001b[0msession\u001b[0m\u001b[0;34m.\u001b[0m\u001b[0mrequest\u001b[0m\u001b[0;34m(\u001b[0m\u001b[0mmethod\u001b[0m\u001b[0;34m=\u001b[0m\u001b[0mmethod\u001b[0m\u001b[0;34m,\u001b[0m \u001b[0murl\u001b[0m\u001b[0;34m=\u001b[0m\u001b[0murl\u001b[0m\u001b[0;34m,\u001b[0m \u001b[0;34m**\u001b[0m\u001b[0mkwargs\u001b[0m\u001b[0;34m)\u001b[0m\u001b[0;34m\u001b[0m\u001b[0m\n\u001b[0m\u001b[1;32m     50\u001b[0m     \u001b[0;31m# By explicitly closing the session, we avoid leaving sockets open which\u001b[0m\u001b[0;34m\u001b[0m\u001b[0;34m\u001b[0m\u001b[0m\n\u001b[1;32m     51\u001b[0m     \u001b[0;31m# can trigger a ResourceWarning in some cases, and look like a memory leak\u001b[0m\u001b[0;34m\u001b[0m\u001b[0;34m\u001b[0m\u001b[0m\n",
      "\u001b[0;32m/Users/yawen/anaconda2/lib/python2.7/site-packages/requests/sessions.pyc\u001b[0m in \u001b[0;36mrequest\u001b[0;34m(self, method, url, params, data, headers, cookies, files, auth, timeout, allow_redirects, proxies, hooks, stream, verify, cert, json)\u001b[0m\n\u001b[1;32m    459\u001b[0m         }\n\u001b[1;32m    460\u001b[0m         \u001b[0msend_kwargs\u001b[0m\u001b[0;34m.\u001b[0m\u001b[0mupdate\u001b[0m\u001b[0;34m(\u001b[0m\u001b[0msettings\u001b[0m\u001b[0;34m)\u001b[0m\u001b[0;34m\u001b[0m\u001b[0m\n\u001b[0;32m--> 461\u001b[0;31m         \u001b[0mresp\u001b[0m \u001b[0;34m=\u001b[0m \u001b[0mself\u001b[0m\u001b[0;34m.\u001b[0m\u001b[0msend\u001b[0m\u001b[0;34m(\u001b[0m\u001b[0mprep\u001b[0m\u001b[0;34m,\u001b[0m \u001b[0;34m**\u001b[0m\u001b[0msend_kwargs\u001b[0m\u001b[0;34m)\u001b[0m\u001b[0;34m\u001b[0m\u001b[0m\n\u001b[0m\u001b[1;32m    462\u001b[0m \u001b[0;34m\u001b[0m\u001b[0m\n\u001b[1;32m    463\u001b[0m         \u001b[0;32mreturn\u001b[0m \u001b[0mresp\u001b[0m\u001b[0;34m\u001b[0m\u001b[0m\n",
      "\u001b[0;32m/Users/yawen/anaconda2/lib/python2.7/site-packages/requests/sessions.pyc\u001b[0m in \u001b[0;36msend\u001b[0;34m(self, request, **kwargs)\u001b[0m\n\u001b[1;32m    571\u001b[0m \u001b[0;34m\u001b[0m\u001b[0m\n\u001b[1;32m    572\u001b[0m         \u001b[0;31m# Send the request\u001b[0m\u001b[0;34m\u001b[0m\u001b[0;34m\u001b[0m\u001b[0m\n\u001b[0;32m--> 573\u001b[0;31m         \u001b[0mr\u001b[0m \u001b[0;34m=\u001b[0m \u001b[0madapter\u001b[0m\u001b[0;34m.\u001b[0m\u001b[0msend\u001b[0m\u001b[0;34m(\u001b[0m\u001b[0mrequest\u001b[0m\u001b[0;34m,\u001b[0m \u001b[0;34m**\u001b[0m\u001b[0mkwargs\u001b[0m\u001b[0;34m)\u001b[0m\u001b[0;34m\u001b[0m\u001b[0m\n\u001b[0m\u001b[1;32m    574\u001b[0m \u001b[0;34m\u001b[0m\u001b[0m\n\u001b[1;32m    575\u001b[0m         \u001b[0;31m# Total elapsed time of the request (approximately)\u001b[0m\u001b[0;34m\u001b[0m\u001b[0;34m\u001b[0m\u001b[0m\n",
      "\u001b[0;32m/Users/yawen/anaconda2/lib/python2.7/site-packages/requests/adapters.pyc\u001b[0m in \u001b[0;36msend\u001b[0;34m(self, request, stream, timeout, verify, cert, proxies)\u001b[0m\n\u001b[1;32m    368\u001b[0m                     \u001b[0mdecode_content\u001b[0m\u001b[0;34m=\u001b[0m\u001b[0mFalse\u001b[0m\u001b[0;34m,\u001b[0m\u001b[0;34m\u001b[0m\u001b[0m\n\u001b[1;32m    369\u001b[0m                     \u001b[0mretries\u001b[0m\u001b[0;34m=\u001b[0m\u001b[0mself\u001b[0m\u001b[0;34m.\u001b[0m\u001b[0mmax_retries\u001b[0m\u001b[0;34m,\u001b[0m\u001b[0;34m\u001b[0m\u001b[0m\n\u001b[0;32m--> 370\u001b[0;31m                     \u001b[0mtimeout\u001b[0m\u001b[0;34m=\u001b[0m\u001b[0mtimeout\u001b[0m\u001b[0;34m\u001b[0m\u001b[0m\n\u001b[0m\u001b[1;32m    371\u001b[0m                 )\n\u001b[1;32m    372\u001b[0m \u001b[0;34m\u001b[0m\u001b[0m\n",
      "\u001b[0;32m/Users/yawen/anaconda2/lib/python2.7/site-packages/requests/packages/urllib3/connectionpool.pyc\u001b[0m in \u001b[0;36murlopen\u001b[0;34m(self, method, url, body, headers, retries, redirect, assert_same_host, timeout, pool_timeout, release_conn, **response_kw)\u001b[0m\n\u001b[1;32m    516\u001b[0m             httplib_response = self._make_request(conn, method, url,\n\u001b[1;32m    517\u001b[0m                                                   \u001b[0mtimeout\u001b[0m\u001b[0;34m=\u001b[0m\u001b[0mtimeout\u001b[0m\u001b[0;34m,\u001b[0m\u001b[0;34m\u001b[0m\u001b[0m\n\u001b[0;32m--> 518\u001b[0;31m                                                   body=body, headers=headers)\n\u001b[0m\u001b[1;32m    519\u001b[0m \u001b[0;34m\u001b[0m\u001b[0m\n\u001b[1;32m    520\u001b[0m             \u001b[0;31m# If we're going to release the connection in ``finally:``, then\u001b[0m\u001b[0;34m\u001b[0m\u001b[0;34m\u001b[0m\u001b[0m\n",
      "\u001b[0;32m/Users/yawen/anaconda2/lib/python2.7/site-packages/requests/packages/urllib3/connectionpool.pyc\u001b[0m in \u001b[0;36m_make_request\u001b[0;34m(self, conn, method, url, timeout, **httplib_request_kw)\u001b[0m\n\u001b[1;32m    351\u001b[0m         \u001b[0;32mtry\u001b[0m\u001b[0;34m:\u001b[0m\u001b[0;34m\u001b[0m\u001b[0m\n\u001b[1;32m    352\u001b[0m             \u001b[0;32mtry\u001b[0m\u001b[0;34m:\u001b[0m  \u001b[0;31m# Python 2.7+, use buffering of HTTP responses\u001b[0m\u001b[0;34m\u001b[0m\u001b[0m\n\u001b[0;32m--> 353\u001b[0;31m                 \u001b[0mhttplib_response\u001b[0m \u001b[0;34m=\u001b[0m \u001b[0mconn\u001b[0m\u001b[0;34m.\u001b[0m\u001b[0mgetresponse\u001b[0m\u001b[0;34m(\u001b[0m\u001b[0mbuffering\u001b[0m\u001b[0;34m=\u001b[0m\u001b[0mTrue\u001b[0m\u001b[0;34m)\u001b[0m\u001b[0;34m\u001b[0m\u001b[0m\n\u001b[0m\u001b[1;32m    354\u001b[0m             \u001b[0;32mexcept\u001b[0m \u001b[0mTypeError\u001b[0m\u001b[0;34m:\u001b[0m  \u001b[0;31m# Python 2.6 and older\u001b[0m\u001b[0;34m\u001b[0m\u001b[0m\n\u001b[1;32m    355\u001b[0m                 \u001b[0mhttplib_response\u001b[0m \u001b[0;34m=\u001b[0m \u001b[0mconn\u001b[0m\u001b[0;34m.\u001b[0m\u001b[0mgetresponse\u001b[0m\u001b[0;34m(\u001b[0m\u001b[0;34m)\u001b[0m\u001b[0;34m\u001b[0m\u001b[0m\n",
      "\u001b[0;32m/Users/yawen/anaconda2/lib/python2.7/httplib.pyc\u001b[0m in \u001b[0;36mgetresponse\u001b[0;34m(self, buffering)\u001b[0m\n\u001b[1;32m   1134\u001b[0m \u001b[0;34m\u001b[0m\u001b[0m\n\u001b[1;32m   1135\u001b[0m         \u001b[0;32mtry\u001b[0m\u001b[0;34m:\u001b[0m\u001b[0;34m\u001b[0m\u001b[0m\n\u001b[0;32m-> 1136\u001b[0;31m             \u001b[0mresponse\u001b[0m\u001b[0;34m.\u001b[0m\u001b[0mbegin\u001b[0m\u001b[0;34m(\u001b[0m\u001b[0;34m)\u001b[0m\u001b[0;34m\u001b[0m\u001b[0m\n\u001b[0m\u001b[1;32m   1137\u001b[0m             \u001b[0;32massert\u001b[0m \u001b[0mresponse\u001b[0m\u001b[0;34m.\u001b[0m\u001b[0mwill_close\u001b[0m \u001b[0;34m!=\u001b[0m \u001b[0m_UNKNOWN\u001b[0m\u001b[0;34m\u001b[0m\u001b[0m\n\u001b[1;32m   1138\u001b[0m             \u001b[0mself\u001b[0m\u001b[0;34m.\u001b[0m\u001b[0m__state\u001b[0m \u001b[0;34m=\u001b[0m \u001b[0m_CS_IDLE\u001b[0m\u001b[0;34m\u001b[0m\u001b[0m\n",
      "\u001b[0;32m/Users/yawen/anaconda2/lib/python2.7/httplib.pyc\u001b[0m in \u001b[0;36mbegin\u001b[0;34m(self)\u001b[0m\n\u001b[1;32m    451\u001b[0m         \u001b[0;31m# read until we get a non-100 response\u001b[0m\u001b[0;34m\u001b[0m\u001b[0;34m\u001b[0m\u001b[0m\n\u001b[1;32m    452\u001b[0m         \u001b[0;32mwhile\u001b[0m \u001b[0mTrue\u001b[0m\u001b[0;34m:\u001b[0m\u001b[0;34m\u001b[0m\u001b[0m\n\u001b[0;32m--> 453\u001b[0;31m             \u001b[0mversion\u001b[0m\u001b[0;34m,\u001b[0m \u001b[0mstatus\u001b[0m\u001b[0;34m,\u001b[0m \u001b[0mreason\u001b[0m \u001b[0;34m=\u001b[0m \u001b[0mself\u001b[0m\u001b[0;34m.\u001b[0m\u001b[0m_read_status\u001b[0m\u001b[0;34m(\u001b[0m\u001b[0;34m)\u001b[0m\u001b[0;34m\u001b[0m\u001b[0m\n\u001b[0m\u001b[1;32m    454\u001b[0m             \u001b[0;32mif\u001b[0m \u001b[0mstatus\u001b[0m \u001b[0;34m!=\u001b[0m \u001b[0mCONTINUE\u001b[0m\u001b[0;34m:\u001b[0m\u001b[0;34m\u001b[0m\u001b[0m\n\u001b[1;32m    455\u001b[0m                 \u001b[0;32mbreak\u001b[0m\u001b[0;34m\u001b[0m\u001b[0m\n",
      "\u001b[0;32m/Users/yawen/anaconda2/lib/python2.7/httplib.pyc\u001b[0m in \u001b[0;36m_read_status\u001b[0;34m(self)\u001b[0m\n\u001b[1;32m    407\u001b[0m     \u001b[0;32mdef\u001b[0m \u001b[0m_read_status\u001b[0m\u001b[0;34m(\u001b[0m\u001b[0mself\u001b[0m\u001b[0;34m)\u001b[0m\u001b[0;34m:\u001b[0m\u001b[0;34m\u001b[0m\u001b[0m\n\u001b[1;32m    408\u001b[0m         \u001b[0;31m# Initialize with Simple-Response defaults\u001b[0m\u001b[0;34m\u001b[0m\u001b[0;34m\u001b[0m\u001b[0m\n\u001b[0;32m--> 409\u001b[0;31m         \u001b[0mline\u001b[0m \u001b[0;34m=\u001b[0m \u001b[0mself\u001b[0m\u001b[0;34m.\u001b[0m\u001b[0mfp\u001b[0m\u001b[0;34m.\u001b[0m\u001b[0mreadline\u001b[0m\u001b[0;34m(\u001b[0m\u001b[0m_MAXLINE\u001b[0m \u001b[0;34m+\u001b[0m \u001b[0;36m1\u001b[0m\u001b[0;34m)\u001b[0m\u001b[0;34m\u001b[0m\u001b[0m\n\u001b[0m\u001b[1;32m    410\u001b[0m         \u001b[0;32mif\u001b[0m \u001b[0mlen\u001b[0m\u001b[0;34m(\u001b[0m\u001b[0mline\u001b[0m\u001b[0;34m)\u001b[0m \u001b[0;34m>\u001b[0m \u001b[0m_MAXLINE\u001b[0m\u001b[0;34m:\u001b[0m\u001b[0;34m\u001b[0m\u001b[0m\n\u001b[1;32m    411\u001b[0m             \u001b[0;32mraise\u001b[0m \u001b[0mLineTooLong\u001b[0m\u001b[0;34m(\u001b[0m\u001b[0;34m\"header line\"\u001b[0m\u001b[0;34m)\u001b[0m\u001b[0;34m\u001b[0m\u001b[0m\n",
      "\u001b[0;32m/Users/yawen/anaconda2/lib/python2.7/socket.pyc\u001b[0m in \u001b[0;36mreadline\u001b[0;34m(self, size)\u001b[0m\n\u001b[1;32m    478\u001b[0m             \u001b[0;32mwhile\u001b[0m \u001b[0mTrue\u001b[0m\u001b[0;34m:\u001b[0m\u001b[0;34m\u001b[0m\u001b[0m\n\u001b[1;32m    479\u001b[0m                 \u001b[0;32mtry\u001b[0m\u001b[0;34m:\u001b[0m\u001b[0;34m\u001b[0m\u001b[0m\n\u001b[0;32m--> 480\u001b[0;31m                     \u001b[0mdata\u001b[0m \u001b[0;34m=\u001b[0m \u001b[0mself\u001b[0m\u001b[0;34m.\u001b[0m\u001b[0m_sock\u001b[0m\u001b[0;34m.\u001b[0m\u001b[0mrecv\u001b[0m\u001b[0;34m(\u001b[0m\u001b[0mself\u001b[0m\u001b[0;34m.\u001b[0m\u001b[0m_rbufsize\u001b[0m\u001b[0;34m)\u001b[0m\u001b[0;34m\u001b[0m\u001b[0m\n\u001b[0m\u001b[1;32m    481\u001b[0m                 \u001b[0;32mexcept\u001b[0m \u001b[0merror\u001b[0m\u001b[0;34m,\u001b[0m \u001b[0me\u001b[0m\u001b[0;34m:\u001b[0m\u001b[0;34m\u001b[0m\u001b[0m\n\u001b[1;32m    482\u001b[0m                     \u001b[0;32mif\u001b[0m \u001b[0me\u001b[0m\u001b[0;34m.\u001b[0m\u001b[0margs\u001b[0m\u001b[0;34m[\u001b[0m\u001b[0;36m0\u001b[0m\u001b[0;34m]\u001b[0m \u001b[0;34m==\u001b[0m \u001b[0mEINTR\u001b[0m\u001b[0;34m:\u001b[0m\u001b[0;34m\u001b[0m\u001b[0m\n",
      "\u001b[0;32m/Users/yawen/anaconda2/lib/python2.7/ssl.pyc\u001b[0m in \u001b[0;36mrecv\u001b[0;34m(self, buflen, flags)\u001b[0m\n\u001b[1;32m    732\u001b[0m                     \u001b[0;34m\"non-zero flags not allowed in calls to recv() on %s\"\u001b[0m \u001b[0;34m%\u001b[0m\u001b[0;34m\u001b[0m\u001b[0m\n\u001b[1;32m    733\u001b[0m                     self.__class__)\n\u001b[0;32m--> 734\u001b[0;31m             \u001b[0;32mreturn\u001b[0m \u001b[0mself\u001b[0m\u001b[0;34m.\u001b[0m\u001b[0mread\u001b[0m\u001b[0;34m(\u001b[0m\u001b[0mbuflen\u001b[0m\u001b[0;34m)\u001b[0m\u001b[0;34m\u001b[0m\u001b[0m\n\u001b[0m\u001b[1;32m    735\u001b[0m         \u001b[0;32melse\u001b[0m\u001b[0;34m:\u001b[0m\u001b[0;34m\u001b[0m\u001b[0m\n\u001b[1;32m    736\u001b[0m             \u001b[0;32mreturn\u001b[0m \u001b[0mself\u001b[0m\u001b[0;34m.\u001b[0m\u001b[0m_sock\u001b[0m\u001b[0;34m.\u001b[0m\u001b[0mrecv\u001b[0m\u001b[0;34m(\u001b[0m\u001b[0mbuflen\u001b[0m\u001b[0;34m,\u001b[0m \u001b[0mflags\u001b[0m\u001b[0;34m)\u001b[0m\u001b[0;34m\u001b[0m\u001b[0m\n",
      "\u001b[0;32m/Users/yawen/anaconda2/lib/python2.7/ssl.pyc\u001b[0m in \u001b[0;36mread\u001b[0;34m(self, len, buffer)\u001b[0m\n\u001b[1;32m    619\u001b[0m                 \u001b[0mv\u001b[0m \u001b[0;34m=\u001b[0m \u001b[0mself\u001b[0m\u001b[0;34m.\u001b[0m\u001b[0m_sslobj\u001b[0m\u001b[0;34m.\u001b[0m\u001b[0mread\u001b[0m\u001b[0;34m(\u001b[0m\u001b[0mlen\u001b[0m\u001b[0;34m,\u001b[0m \u001b[0mbuffer\u001b[0m\u001b[0;34m)\u001b[0m\u001b[0;34m\u001b[0m\u001b[0m\n\u001b[1;32m    620\u001b[0m             \u001b[0;32melse\u001b[0m\u001b[0;34m:\u001b[0m\u001b[0;34m\u001b[0m\u001b[0m\n\u001b[0;32m--> 621\u001b[0;31m                 \u001b[0mv\u001b[0m \u001b[0;34m=\u001b[0m \u001b[0mself\u001b[0m\u001b[0;34m.\u001b[0m\u001b[0m_sslobj\u001b[0m\u001b[0;34m.\u001b[0m\u001b[0mread\u001b[0m\u001b[0;34m(\u001b[0m\u001b[0mlen\u001b[0m \u001b[0;32mor\u001b[0m \u001b[0;36m1024\u001b[0m\u001b[0;34m)\u001b[0m\u001b[0;34m\u001b[0m\u001b[0m\n\u001b[0m\u001b[1;32m    622\u001b[0m             \u001b[0;32mreturn\u001b[0m \u001b[0mv\u001b[0m\u001b[0;34m\u001b[0m\u001b[0m\n\u001b[1;32m    623\u001b[0m         \u001b[0;32mexcept\u001b[0m \u001b[0mSSLError\u001b[0m \u001b[0;32mas\u001b[0m \u001b[0mx\u001b[0m\u001b[0;34m:\u001b[0m\u001b[0;34m\u001b[0m\u001b[0m\n",
      "\u001b[0;31mKeyboardInterrupt\u001b[0m: "
     ]
    }
   ],
   "source": [
    "# pull data from the server (going to take a few minutes)\n",
    "# for the HAFS location tracking experiment done on 7/17/16\n",
    "server_url = 'https://e-mission.eecs.berkeley.edu'\n",
    "\n",
    "start_ts = 1468767600\n",
    "end_ts = 1468897200\n",
    "\n",
    "phone_ids = iphone_ids + android_ids\n",
    "\n",
    "public_data.request_batched_data(server_url, start_ts, end_ts, phone_ids)"
   ]
  },
  {
   "cell_type": "code",
   "execution_count": null,
   "metadata": {
    "collapsed": false
   },
   "outputs": [],
   "source": [
    "#list(edb.get_timeseries_db().find({\"metadata.key\": \"config/sensor_config\", \"data.battery_status\": {\"$exists\": True}}).sort(\"metadata.write_ts\").limit(10))"
   ]
  },
  {
   "cell_type": "code",
   "execution_count": 6,
   "metadata": {
    "collapsed": false
   },
   "outputs": [],
   "source": [
    "#type: list of emission.storage.timeseries.builtin_timeseries.BuiltinTimeSeries\n",
    "iphone_ts = map(lambda u: esta.TimeSeries.get_time_series(UUID(u)), iphone_ids)\n",
    "android_ts = map(lambda u: esta.TimeSeries.get_time_series(UUID(u)), android_ids)\n",
    "\n",
    "#time query specification\n",
    "iphone_start_ts=1468782025\n",
    "iphone_end_ts=1468861217\n",
    "        \n",
    "android_start_ts=1468779153\n",
    "android_end_ts=1468863681\n",
    "\n",
    "iphone_time_range = estt.TimeQuery(\"metadata.write_ts\", iphone_start_ts, iphone_end_ts)\n",
    "android_time_range = estt.TimeQuery(\"metadata.write_ts\", android_start_ts, android_end_ts)\n",
    "\n",
    "iphone_state_df_list = map(lambda t:t.get_data_df(\"statemachine/transition\", iphone_time_range), iphone_ts)\n",
    "android_state_df_list = map(lambda t:t.get_data_df(\"statemachine/transition\", android_time_range), android_ts)\n",
    "\n",
    "iphone_battery_df_list = map(lambda t:t.get_data_df(\"background/battery\", iphone_time_range), iphone_ts)\n",
    "android_battery_df_list = map(lambda t:t.get_data_df(\"background/battery\", android_time_range), android_ts)"
   ]
  },
  {
   "cell_type": "code",
   "execution_count": 7,
   "metadata": {
    "collapsed": false
   },
   "outputs": [
    {
     "data": {
      "text/html": [
       "<div>\n",
       "<table border=\"1\" class=\"dataframe\">\n",
       "  <thead>\n",
       "    <tr style=\"text-align: right;\">\n",
       "      <th></th>\n",
       "      <th>fmt_time</th>\n",
       "      <th>battery_level_pct</th>\n",
       "      <th>battery_status</th>\n",
       "    </tr>\n",
       "  </thead>\n",
       "  <tbody>\n",
       "    <tr>\n",
       "      <th>0</th>\n",
       "      <td>2016-07-17T11:14:04.873000-07:00</td>\n",
       "      <td>100</td>\n",
       "      <td>3</td>\n",
       "    </tr>\n",
       "    <tr>\n",
       "      <th>1</th>\n",
       "      <td>2016-07-17T13:18:50.024000-07:00</td>\n",
       "      <td>93</td>\n",
       "      <td>1</td>\n",
       "    </tr>\n",
       "  </tbody>\n",
       "</table>\n",
       "</div>"
      ],
      "text/plain": [
       "                           fmt_time  battery_level_pct  battery_status\n",
       "0  2016-07-17T11:14:04.873000-07:00                100               3\n",
       "1  2016-07-17T13:18:50.024000-07:00                 93               1"
      ]
     },
     "execution_count": 7,
     "metadata": {},
     "output_type": "execute_result"
    }
   ],
   "source": [
    "android_test = android_battery_df_list[0]\n",
    "android_test[['fmt_time', 'battery_level_pct', 'battery_status']][:2]\n",
    "#android_test"
   ]
  },
  {
   "cell_type": "code",
   "execution_count": 8,
   "metadata": {
    "collapsed": false
   },
   "outputs": [
    {
     "data": {
      "text/html": [
       "<div>\n",
       "<table border=\"1\" class=\"dataframe\">\n",
       "  <thead>\n",
       "    <tr style=\"text-align: right;\">\n",
       "      <th></th>\n",
       "      <th>fmt_time</th>\n",
       "      <th>battery_level_pct</th>\n",
       "      <th>battery_status</th>\n",
       "    </tr>\n",
       "  </thead>\n",
       "  <tbody>\n",
       "    <tr>\n",
       "      <th>0</th>\n",
       "      <td>2016-07-17T12:00:25.712336-07:00</td>\n",
       "      <td>100.0</td>\n",
       "      <td>1</td>\n",
       "    </tr>\n",
       "    <tr>\n",
       "      <th>1</th>\n",
       "      <td>2016-07-17T13:00:03.664424-07:00</td>\n",
       "      <td>96.0</td>\n",
       "      <td>1</td>\n",
       "    </tr>\n",
       "  </tbody>\n",
       "</table>\n",
       "</div>"
      ],
      "text/plain": [
       "                           fmt_time  battery_level_pct  battery_status\n",
       "0  2016-07-17T12:00:25.712336-07:00              100.0               1\n",
       "1  2016-07-17T13:00:03.664424-07:00               96.0               1"
      ]
     },
     "execution_count": 8,
     "metadata": {},
     "output_type": "execute_result"
    }
   ],
   "source": [
    "android_test = iphone_battery_df_list[1]\n",
    "android_test[['fmt_time', 'battery_level_pct', 'battery_status']][:2]"
   ]
  },
  {
   "cell_type": "code",
   "execution_count": 9,
   "metadata": {
    "collapsed": false
   },
   "outputs": [],
   "source": [
    "import numpy as np\n",
    "\n",
    "iphone_xnew = np.arange(iphone_start_ts, iphone_end_ts, 15 * 60) # 15 minutes\n",
    "android_xnew = np.arange(android_start_ts, android_end_ts, 15 * 60) # 15 minutes"
   ]
  },
  {
   "cell_type": "code",
   "execution_count": 10,
   "metadata": {
    "collapsed": true
   },
   "outputs": [],
   "source": [
    "import scipy.interpolate as spi\n",
    "import numpy as np\n",
    "\n",
    "def get_interpolated(x, y, xnew):\n",
    "    # fn = spi.interp1d(x=x, y=y, bounds_error=False, fill_value=y.iloc[-1])\n",
    "    fn = spi.interp1d(x=x, y=y, bounds_error=False)\n",
    "    #This class returns a function whose call method uses interpolation to find the value of new points.\n",
    "    return fn(xnew)"
   ]
  },
  {
   "cell_type": "code",
   "execution_count": 11,
   "metadata": {
    "collapsed": true
   },
   "outputs": [],
   "source": [
    "def get_interpolated_df(sensor_df, xnew):\n",
    "    local_dt_new = map(pydt.datetime.fromtimestamp, xnew)\n",
    "    fmt_time_new = map(lambda dt: dt.isoformat(), local_dt_new)\n",
    "    #date.isoformat() Return a string representing the date in ISO 8601 format, ‘YYYY-MM-DD’. \n",
    "    # -For example, date(2002, 12, 4).isoformat() == '2002-12-04'.\n",
    "    interpolated_series = get_interpolated(sensor_df.ts, sensor_df.battery_level_pct, xnew)\n",
    "    # print \"interpolated_series = %s\" % interpolated_series\n",
    "    interpolated_df = pd.DataFrame(data={'ts': xnew, 'metadata_write_ts': xnew, 'local_dt': local_dt_new, 'fmt_time': fmt_time_new, 'battery_level_pct': interpolated_series})\n",
    "    return interpolated_df"
   ]
  },
  {
   "cell_type": "code",
   "execution_count": 12,
   "metadata": {
    "collapsed": true
   },
   "outputs": [],
   "source": [
    "iphone_battery_interp_df_list = map(lambda df: get_interpolated_df(df, iphone_xnew), iphone_battery_df_list)\n",
    "android_battery_interp_df_list = map(lambda df: get_interpolated_df(df, android_xnew), android_battery_df_list)"
   ]
  },
  {
   "cell_type": "code",
   "execution_count": 13,
   "metadata": {
    "collapsed": true
   },
   "outputs": [],
   "source": [
    "style = ['ob', 'og', 'or', 'oc']\n",
    "\n",
    "ts_to_dt = lambda t: pydt.datetime.fromtimestamp(t)"
   ]
  },
  {
   "cell_type": "code",
   "execution_count": 17,
   "metadata": {
    "collapsed": false
   },
   "outputs": [
    {
     "data": {
      "image/png": "[encoded data removed]",
      "text/plain": [
       "<matplotlib.figure.Figure at 0x1192f6b50>"
      ]
     },
     "metadata": {},
     "output_type": "display_data"
    }
   ],
   "source": [
    "#Android + iOS combined \n",
    "(fig, axes2d) = plt.subplots(ncols=1, nrows=2, sharex=True, sharey=True, figsize=(16,6))\n",
    "axes = axes2d.flatten()\n",
    "\n",
    "\n",
    "#iOS: With interplation on battery data \n",
    "for i, df in enumerate(iphone_battery_interp_df_list):\n",
    "    #print \"About to plot %d\" % i\n",
    "    df['hr'] = (df.ts-iphone_start_ts)/3600.0\n",
    "    df.plot(x='hr', y='battery_level_pct', ax=axes[0], xlim=(0, 22), label=\"\\\"iPhone 6\\\"-%s\" % (i+1), legend=True)\n",
    "\n",
    "for i, df in enumerate(iphone_battery_df_list):\n",
    "    #print \"About to plot %d\" % i\n",
    "    df['hr'] = (df.ts-iphone_start_ts)/3600.0\n",
    "    df.plot(x='hr', y='battery_level_pct', style=style[i], ax=axes[0], xlim=(0, 22), legend=False)\n",
    "    axes[0].set_xlabel('Hours')\n",
    "    axes[0].set_ylabel('Batery Percentage Level')\n",
    "    plt.xticks(np.arange(0, 22, 2.0))\n",
    "    \n",
    "    \n",
    "#Android: With interplation on battery data \n",
    "for i, df in enumerate(android_battery_interp_df_list):\n",
    "    #print \"About to plot %d\" % i\n",
    "    df['hr'] = (df.ts-android_start_ts)/3600.0\n",
    "    df.plot(x='hr', y='battery_level_pct', ax=axes[1], xlim=(0, max(df.hr)), label=\"\\\"Nexus 6\\\"-%s\" % (i+1), legend=True)\n",
    "\n",
    "\n",
    "for i, df in enumerate(android_battery_df_list):\n",
    "    #print \"About to plot %d\" % i\n",
    "    df['hr'] = (df.ts-android_start_ts)/3600.0\n",
    "    df.plot(x='hr', y='battery_level_pct', style=style[i], ax=axes[1], xlim=(0, max(df.hr)), legend=False)\n",
    "    axes[1].set_xlabel('Hours')\n",
    "    axes[1].set_ylabel('Batery Percentage Level')\n",
    "    plt.xticks(np.arange(0, max(df['hr'])+1, 2))\n",
    "\n",
    "fig.savefig('plots/sw_battery_drain.pdf')"
   ]
  },
  {
   "cell_type": "code",
   "execution_count": 15,
   "metadata": {
    "collapsed": false
   },
   "outputs": [
    {
     "name": "stdout",
     "output_type": "stream",
     "text": [
      "phone 0\n",
      "degree1: sum = 25.8908444059 avg = 0.327732207669\n",
      "degree2: sum = 19.0799300671 avg = 0.241518102115\n",
      "degree1: RMSE = 0.392722774163\n",
      "degree2: RMSE = 0.277507932936\n",
      "\n",
      "phone 1\n",
      "degree1: sum = 21.9586078646 avg = 0.285176725514\n",
      "degree2: sum = 20.7842102051 avg = 0.269924807858\n",
      "degree1: RMSE = 0.337272628766\n",
      "degree2: RMSE = 0.318780709926\n",
      "\n",
      "phone 2\n",
      "degree1: sum = 34.1974998217 avg = 0.474965275301\n",
      "degree2: sum = 22.8286838531 avg = 0.317065053516\n",
      "degree1: RMSE = 0.569664338702\n",
      "degree2: RMSE = 0.41075722165\n",
      "\n",
      "phone 3\n",
      "degree1: sum = 25.6632705778 avg = 0.346800953754\n",
      "degree2: sum = 22.8537716866 avg = 0.308834752521\n",
      "degree1: RMSE = 0.429902546252\n",
      "degree2: RMSE = 0.36666102153\n",
      "\n"
     ]
    }
   ],
   "source": [
    "#iphone data\n",
    "for i, phone in enumerate(iphone_battery_df_list):\n",
    "    batt = phone\n",
    "    x = batt.metadata_write_ts\n",
    "    y = batt.battery_level_pct\n",
    "\n",
    "    p1 = np.polyfit(x,y,1)\n",
    "    p2 = np.polyfit(x,y,2) # insufficient degree to include sqrt\n",
    "\n",
    "    yfit1 = np.polyval(p1,x)\n",
    "    yfit2 = np.polyval(p2,x)\n",
    "\n",
    "    #plt.plot(x,y, label='data')\n",
    "    #plt.plot(x,yfit1, label='fit')\n",
    "    #plt.plot(x,yfit1-y, label='var')\n",
    "    #plt.plot(x,yfit2, label='fit')\n",
    "    #plt.plot(x,yfit2-y, label='var')\n",
    "\n",
    "    \n",
    "    print 'phone ' + str(i)\n",
    "    print 'degree1: sum = ' + str(sum(abs(yfit1-y))) + ' avg = ' + str(sum(abs(yfit1-y))/len(y))\n",
    "    print 'degree2: sum = ' + str(sum(abs(yfit2-y))) + ' avg = ' + str(sum(abs(yfit2-y))/len(y))\n",
    "\n",
    "    print 'degree1: RMSE = ' + str(np.mean((y - yfit1) ** 2)**0.5)\n",
    "    print 'degree2: RMSE = ' + str(np.mean((y - yfit2) ** 2)**0.5)\n",
    "    print "
   ]
  },
  {
   "cell_type": "code",
   "execution_count": 16,
   "metadata": {
    "collapsed": false
   },
   "outputs": [
    {
     "name": "stdout",
     "output_type": "stream",
     "text": [
      "phone 0\n",
      "degree1: sum = 6.96140524955 avg = 1.16023420826\n",
      "degree2: sum = 1.74069499969 avg = 0.290115833282\n",
      "degree1: RMSE = 1.29929537095\n",
      "degree2: RMSE = 0.392820044804\n",
      "\n",
      "phone 1\n",
      "degree1: sum = 8.02791803051 avg = 1.14684543293\n",
      "degree2: sum = 1.07771587372 avg = 0.153959410531\n",
      "degree1: RMSE = 1.2639092635\n",
      "degree2: RMSE = 0.196099075514\n",
      "\n",
      "phone 2\n",
      "degree1: sum = 9.70882073999 avg = 0.882620067272\n",
      "degree2: sum = 3.9533996582 avg = 0.359399968928\n",
      "degree1: RMSE = 0.986047380195\n",
      "degree2: RMSE = 0.431303867713\n",
      "\n",
      "phone 3\n",
      "degree1: sum = 9.32438862254 avg = 1.03604318028\n",
      "degree2: sum = 3.6945772171 avg = 0.410508579678\n",
      "degree1: RMSE = 1.12272760593\n",
      "degree2: RMSE = 0.464603111453\n",
      "\n"
     ]
    }
   ],
   "source": [
    "#android data\n",
    "for i, phone in enumerate(android_battery_df_list):\n",
    "    batt = phone\n",
    "    x = batt.metadata_write_ts\n",
    "    y = batt.battery_level_pct\n",
    "\n",
    "    p1 = np.polyfit(x,y,1)\n",
    "    p2 = np.polyfit(x,y,2) # insufficient degree to include sqrt\n",
    "\n",
    "    yfit1 = np.polyval(p1,x)\n",
    "    yfit2 = np.polyval(p2,x)\n",
    "\n",
    "    #plt.plot(x,y, label='data')\n",
    "    #plt.plot(x,yfit1, label='fit')\n",
    "    #plt.plot(x,yfit1-y, label='var')\n",
    "    #plt.plot(x,yfit2, label='fit')\n",
    "    #plt.plot(x,yfit2-y, label='var')\n",
    "\n",
    "    \n",
    "    print 'phone ' + str(i)\n",
    "    print 'degree1: sum = ' + str(sum(abs(yfit1-y))) + ' avg = ' + str(sum(abs(yfit1-y))/len(y))\n",
    "    print 'degree2: sum = ' + str(sum(abs(yfit2-y))) + ' avg = ' + str(sum(abs(yfit2-y))/len(y))\n",
    "\n",
    "    print 'degree1: RMSE = ' + str(np.mean((y - yfit1) ** 2)**0.5)\n",
    "    print 'degree2: RMSE = ' + str(np.mean((y - yfit2) ** 2)**0.5)\n",
    "    print "
   ]
  },
  {
   "cell_type": "code",
   "execution_count": null,
   "metadata": {
    "collapsed": true
   },
   "outputs": [],
   "source": []
  },
  {
   "cell_type": "code",
   "execution_count": null,
   "metadata": {
    "collapsed": true
   },
   "outputs": [],
   "source": []
  },
  {
   "cell_type": "code",
   "execution_count": null,
   "metadata": {
    "collapsed": true
   },
   "outputs": [],
   "source": []
  },
  {
   "cell_type": "code",
   "execution_count": null,
   "metadata": {
    "collapsed": true
   },
   "outputs": [],
   "source": []
  }
 ],
 "metadata": {
  "kernelspec": {
   "display_name": "Python 2",
   "language": "python",
   "name": "python2"
  },
  "language_info": {
   "codemirror_mode": {
    "name": "ipython",
    "version": 2
   },
   "file_extension": ".py",
   "mimetype": "text/x-python",
   "name": "python",
   "nbconvert_exporter": "python",
   "pygments_lexer": "ipython2",
   "version": "2.7.11"
  }
 },
 "nbformat": 4,
 "nbformat_minor": 0
}
