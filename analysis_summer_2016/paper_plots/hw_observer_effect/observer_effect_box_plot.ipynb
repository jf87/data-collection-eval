{
 "cells": [
  {
   "cell_type": "code",
   "execution_count": 1,
   "metadata": {
    "collapsed": false
   },
   "outputs": [
    {
     "data": {
      "text/plain": [
       "'\\nstandby: 0.1067W (dlog_standby *90min*), 0.1057W (dlog_standby1), 0.1048W (dlog_standby2),  \\n1min sync: 0.1424W (dlog_1min_sync), 0.1525W (dlog_1min_sync1), 0.1507W (dlog_1min_sync2)\\n10min sync: 0.1118W (dlog_10min_sync), 0.1124W (dlog_10min_sync1), 0.1122W (dlog_10min_sync2)\\n30min sync: 0.1065W (dlog_30min_sync), 0.1069W (dlog_30min_sync1)\\n'"
      ]
     },
     "execution_count": 1,
     "metadata": {},
     "output_type": "execute_result"
    }
   ],
   "source": [
    "'''\n",
    "standby: 0.1067W (dlog_standby *90min*), 0.1057W (dlog_standby1), 0.1048W (dlog_standby2),  \n",
    "1min sync: 0.1424W (dlog_1min_sync), 0.1525W (dlog_1min_sync1), 0.1507W (dlog_1min_sync2)\n",
    "10min sync: 0.1118W (dlog_10min_sync), 0.1124W (dlog_10min_sync1), 0.1122W (dlog_10min_sync2)\n",
    "30min sync: 0.1065W (dlog_30min_sync), 0.1069W (dlog_30min_sync1)\n",
    "'''"
   ]
  },
  {
   "cell_type": "code",
   "execution_count": 2,
   "metadata": {
    "collapsed": true
   },
   "outputs": [],
   "source": [
    "import time\n",
    "import datetime as pydt\n",
    "import pandas as pd\n",
    "import numpy as np\n",
    "import matplotlib.pyplot as plt\n",
    "from matplotlib.patches import Rectangle\n",
    "import pylab as P\n",
    "\n",
    "%matplotlib inline"
   ]
  },
  {
   "cell_type": "code",
   "execution_count": 3,
   "metadata": {
    "collapsed": true
   },
   "outputs": [],
   "source": [
    "no_sync_series = pd.Series([0.1067, 0.1057, 0.1048])\n",
    "one_min_sync_series = pd.Series([0.1424, 0.1525, 0.1507])\n",
    "ten_min_sync_series = pd.Series([0.1118, 0.1124, 0.1122])\n",
    "thirty_min_sync_series = pd.Series([0.1065, 0.1069])"
   ]
  },
  {
   "cell_type": "code",
   "execution_count": 4,
   "metadata": {
    "collapsed": false
   },
   "outputs": [],
   "source": [
    "sync_overhead_df = pd.DataFrame()\n",
    "sync_overhead_df['1 min'] = [one_min_sync_series.mean(), one_min_sync_series.std()]\n",
    "sync_overhead_df['10 min'] = [ten_min_sync_series.mean(), ten_min_sync_series.std()]\n",
    "sync_overhead_df['30 min'] = [thirty_min_sync_series.mean(), thirty_min_sync_series.std()]\n",
    "sync_overhead_df['no sync'] = [no_sync_series.mean(), no_sync_series.std()]"
   ]
  },
  {
   "cell_type": "code",
   "execution_count": 5,
   "metadata": {
    "collapsed": false
   },
   "outputs": [
    {
     "data": {
      "text/html": [
       "<div>\n",
       "<table border=\"1\" class=\"dataframe\">\n",
       "  <thead>\n",
       "    <tr style=\"text-align: right;\">\n",
       "      <th></th>\n",
       "      <th>0</th>\n",
       "      <th>1</th>\n",
       "    </tr>\n",
       "  </thead>\n",
       "  <tbody>\n",
       "    <tr>\n",
       "      <th>1 min</th>\n",
       "      <td>0.148533</td>\n",
       "      <td>0.005387</td>\n",
       "    </tr>\n",
       "    <tr>\n",
       "      <th>10 min</th>\n",
       "      <td>0.112133</td>\n",
       "      <td>0.000306</td>\n",
       "    </tr>\n",
       "    <tr>\n",
       "      <th>30 min</th>\n",
       "      <td>0.106700</td>\n",
       "      <td>0.000283</td>\n",
       "    </tr>\n",
       "    <tr>\n",
       "      <th>no sync</th>\n",
       "      <td>0.105733</td>\n",
       "      <td>0.000950</td>\n",
       "    </tr>\n",
       "  </tbody>\n",
       "</table>\n",
       "</div>"
      ],
      "text/plain": [
       "                0         1\n",
       "1 min    0.148533  0.005387\n",
       "10 min   0.112133  0.000306\n",
       "30 min   0.106700  0.000283\n",
       "no sync  0.105733  0.000950"
      ]
     },
     "execution_count": 5,
     "metadata": {},
     "output_type": "execute_result"
    }
   ],
   "source": [
    "sync_overhead_df = sync_overhead_df.transpose()\n",
    "sync_overhead_df"
   ]
  },
  {
   "cell_type": "code",
   "execution_count": 6,
   "metadata": {
    "collapsed": false
   },
   "outputs": [
    {
     "data": {
      "text/html": [
       "<div>\n",
       "<table border=\"1\" class=\"dataframe\">\n",
       "  <thead>\n",
       "    <tr style=\"text-align: right;\">\n",
       "      <th></th>\n",
       "      <th>means</th>\n",
       "      <th>stds</th>\n",
       "    </tr>\n",
       "  </thead>\n",
       "  <tbody>\n",
       "    <tr>\n",
       "      <th>1 min</th>\n",
       "      <td>0.148533</td>\n",
       "      <td>0.005387</td>\n",
       "    </tr>\n",
       "    <tr>\n",
       "      <th>10 min</th>\n",
       "      <td>0.112133</td>\n",
       "      <td>0.000306</td>\n",
       "    </tr>\n",
       "    <tr>\n",
       "      <th>30 min</th>\n",
       "      <td>0.106700</td>\n",
       "      <td>0.000283</td>\n",
       "    </tr>\n",
       "    <tr>\n",
       "      <th>no sync</th>\n",
       "      <td>0.105733</td>\n",
       "      <td>0.000950</td>\n",
       "    </tr>\n",
       "  </tbody>\n",
       "</table>\n",
       "</div>"
      ],
      "text/plain": [
       "            means      stds\n",
       "1 min    0.148533  0.005387\n",
       "10 min   0.112133  0.000306\n",
       "30 min   0.106700  0.000283\n",
       "no sync  0.105733  0.000950"
      ]
     },
     "execution_count": 6,
     "metadata": {},
     "output_type": "execute_result"
    }
   ],
   "source": [
    "sync_overhead_df.columns = [\"means\", \"stds\"]\n",
    "sync_overhead_df"
   ]
  },
  {
   "cell_type": "code",
   "execution_count": 12,
   "metadata": {
    "collapsed": false
   },
   "outputs": [
    {
     "data": {
      "text/plain": [
       "u'\\\\begin{tabular}{lrrl}\\n\\\\toprule\\n{} &     means &      stds &    label \\\\\\\\\\n\\\\midrule\\n1 min   &  0.148533 &  0.005387 &    1 min \\\\\\\\\\n10 min  &  0.112133 &  0.000306 &   10 min \\\\\\\\\\n30 min  &  0.106700 &  0.000283 &   30 min \\\\\\\\\\nno sync &  0.105733 &  0.000950 &  no sync \\\\\\\\\\n\\\\bottomrule\\n\\\\end{tabular}\\n'"
      ]
     },
     "execution_count": 12,
     "metadata": {},
     "output_type": "execute_result"
    }
   ],
   "source": [
    "sync_overhead_df.to_latex()"
   ]
  },
  {
   "cell_type": "code",
   "execution_count": 7,
   "metadata": {
    "collapsed": true
   },
   "outputs": [],
   "source": [
    "sync_overhead_df['label'] = sync_overhead_df.index"
   ]
  },
  {
   "cell_type": "code",
   "execution_count": 10,
   "metadata": {
    "collapsed": true
   },
   "outputs": [],
   "source": [
    "import matplotlib\n",
    "matplotlib.rcParams.update({'font.size': 18})"
   ]
  },
  {
   "cell_type": "code",
   "execution_count": 13,
   "metadata": {
    "collapsed": false
   },
   "outputs": [
    {
     "data": {
      "text/plain": [
       "<matplotlib.axes.AxesSubplot at 0x10fb79890>"
      ]
     },
     "execution_count": 13,
     "metadata": {},
     "output_type": "execute_result"
    },
    {
     "data": {
      "image/png": "[encoded data removed]",
      "text/plain": [
       "<matplotlib.figure.Figure at 0x10fc55e50>"
      ]
     },
     "metadata": {},
     "output_type": "display_data"
    }
   ],
   "source": [
    "sync_overhead_df.plot(y='means', yerr='stds', figsize=(8,4), label=\"avg power consumption (W)\")"
   ]
  },
  {
   "cell_type": "code",
   "execution_count": null,
   "metadata": {
    "collapsed": false
   },
   "outputs": [],
   "source": [
    "import numpy as np\n",
    "import matplotlib.pyplot as plt\n",
    "%matplotlib inline\n",
    "\n",
    "# example data\n",
    "x = np.arange(0.1, 4, 0.5)\n",
    "y = np.exp(-x)\n",
    "\n",
    "# example variable error bar values\n",
    "yerr = 0.1 + 0.2*np.sqrt(x)\n",
    "xerr = 0.1 + yerr\n",
    "\n",
    "# First illustrate basic pyplot interface, using defaults where possible.\n",
    "plt.figure()\n",
    "plt.errorbar(x, y, xerr=0.2, yerr=0.4)\n",
    "plt.title(\"Simplest errorbars, 0.2 in x, 0.4 in y\")\n",
    "plt.plot(x,y)"
   ]
  },
  {
   "cell_type": "code",
   "execution_count": null,
   "metadata": {
    "collapsed": false
   },
   "outputs": [],
   "source": [
    "# reading hw data for 1min sync\n",
    "hw_df = pd.read_csv(\"dlog/dlog_1min_sync.csv\", error_bad_lines=False) \n",
    "\n",
    "# voltage is measured in volts\n",
    "# current is measured in amperes\n",
    "hw_df['seconds'] = hw_df.time\n",
    "hw_df['power'] = hw_df.voltage * hw_df.current\n",
    "hw_df['hr'] = hw_df.seconds/3600.0\n",
    "hw_df['m'] = hw_df.seconds/60.0\n",
    "\n",
    "\n",
    "#===============================\n",
    "hw_df1 = hw_df \n",
    "\n",
    "power_mean = np.mean(hw_df1.power)\n",
    "#ax = hw_df.plot(x='m', y='power', label='baseline (avg power=%s)'% round(power_mean,4))\n",
    "#ax.set_ylabel(\"power (W)\")\n",
    "\n",
    "ax = hw_df1.boxplot(column='power')\n",
    "hw_df1.power.describe()"
   ]
  },
  {
   "cell_type": "code",
   "execution_count": null,
   "metadata": {
    "collapsed": false
   },
   "outputs": [],
   "source": [
    "# example data\n",
    "x = hw_df1.seconds\n",
    "y = hw_df1.power\n",
    "\n",
    "# example variable error bar values\n",
    "yerr = 0.1 + 0.2*np.sqrt(x)\n",
    "xerr = 0.1 + yerr\n",
    "\n",
    "# First illustrate basic pyplot interface, using defaults where possible.\n",
    "plt.figure()\n",
    "plt.errorbar(x, y, xerr=0.2, yerr=0.4)\n",
    "plt.title(\"Simplest errorbars, 0.2 in x, 0.4 in y\")\n",
    "plt.plot(x,y)"
   ]
  },
  {
   "cell_type": "code",
   "execution_count": null,
   "metadata": {
    "collapsed": true
   },
   "outputs": [],
   "source": []
  }
 ],
 "metadata": {
  "kernelspec": {
   "display_name": "Python 2",
   "language": "python",
   "name": "python2"
  },
  "language_info": {
   "codemirror_mode": {
    "name": "ipython",
    "version": 2
   },
   "file_extension": ".py",
   "mimetype": "text/x-python",
   "name": "python",
   "nbconvert_exporter": "python",
   "pygments_lexer": "ipython2",
   "version": "2.7.11"
  }
 },
 "nbformat": 4,
 "nbformat_minor": 0
}
