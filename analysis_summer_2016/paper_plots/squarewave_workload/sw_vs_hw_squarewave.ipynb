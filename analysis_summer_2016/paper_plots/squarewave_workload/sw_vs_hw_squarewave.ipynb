{
 "cells": [
  {
   "cell_type": "code",
   "execution_count": 1,
   "metadata": {
    "collapsed": true
   },
   "outputs": [],
   "source": [
    "#20 min of video playback (max brightness) then standby mode, then video, standby "
   ]
  },
  {
   "cell_type": "code",
   "execution_count": 11,
   "metadata": {
    "collapsed": true
   },
   "outputs": [],
   "source": [
    "import time\n",
    "import re\n",
    "import datetime as pydt\n",
    "import pandas as pd\n",
    "import numpy as np\n",
    "%matplotlib inline"
   ]
  },
  {
   "cell_type": "code",
   "execution_count": 12,
   "metadata": {
    "collapsed": false
   },
   "outputs": [
    {
     "name": "stdout",
     "output_type": "stream",
     "text": [
      "percent different between sw & hw ratios = 13.845000 %\n"
     ]
    }
   ],
   "source": [
    "#sw ratio of max_brightness_video/standby=13.2249919596\n",
    "sw_ratio = 13.2249919596\n",
    "#hw ratio between max_brightness_video/standby = 11.6166563824\n",
    "hw_ratio = 11.6166563824\n",
    "\n",
    "perc_diff = (sw_ratio-hw_ratio)/hw_ratio*100\n",
    "print \"percent different between sw & hw ratios = %f %%\" % round(perc_diff,3)"
   ]
  }
 ],
 "metadata": {
  "kernelspec": {
   "display_name": "Python 2",
   "language": "python",
   "name": "python2"
  },
  "language_info": {
   "codemirror_mode": {
    "name": "ipython",
    "version": 2
   },
   "file_extension": ".py",
   "mimetype": "text/x-python",
   "name": "python",
   "nbconvert_exporter": "python",
   "pygments_lexer": "ipython2",
   "version": "2.7.11"
  }
 },
 "nbformat": 4,
 "nbformat_minor": 0
}
