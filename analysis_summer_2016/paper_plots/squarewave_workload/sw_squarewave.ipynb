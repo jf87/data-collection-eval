{
 "cells": [
  {
   "cell_type": "code",
   "execution_count": 2,
   "metadata": {
    "collapsed": true
   },
   "outputs": [],
   "source": [
    "#20 min of video playback (max brightness) then standby mode, then video, standby "
   ]
  },
  {
   "cell_type": "code",
   "execution_count": 3,
   "metadata": {
    "collapsed": false
   },
   "outputs": [],
   "source": [
    "import sys\n",
    "import logging\n",
    "from uuid import UUID\n",
    "\n",
    "import arrow\n",
    "import emission.core.get_database as edb\n",
    "import pandas as pd\n",
    "import matplotlib.pyplot as plt\n",
    "%matplotlib inline\n",
    "import datetime as pydt\n",
    "import emission.storage.timeseries.abstract_timeseries as esta\n",
    "import emission.storage.timeseries.timequery as estt\n",
    "import public_data\n",
    "\n",
    "logging.getLogger().setLevel(logging.DEBUG)\n",
    "logging.debug(sys.path)\n",
    "\n",
    "android_id = \"248d8da2-9288-41b2-a0fe-29c1f2f01932\""
   ]
  },
  {
   "cell_type": "code",
   "execution_count": 4,
   "metadata": {
    "collapsed": false
   },
   "outputs": [
    {
     "name": "stdout",
     "output_type": "stream",
     "text": [
      "Data loaded to local server!\n"
     ]
    }
   ],
   "source": [
    "# pull data from the server (going to take a few minutes)\n",
    "server_url = 'https://e-mission.eecs.berkeley.edu'\n",
    "\n",
    "start_ts = arrow.get('2016-10-10 23:35:00', 'YYYY-MM-DD HH:mm:ss').timestamp\n",
    "end_ts = arrow.get('2016-10-11 00:57:00', 'YYYY-MM-DD HH:mm:ss').timestamp\n",
    "\n",
    "phone_ids = [android_id]\n",
    "\n",
    "public_data.request_batched_data(server_url, start_ts, end_ts, phone_ids)"
   ]
  },
  {
   "cell_type": "code",
   "execution_count": 5,
   "metadata": {
    "collapsed": false
   },
   "outputs": [],
   "source": [
    "#type: list of emission.storage.timeseries.builtin_timeseries.BuiltinTimeSeries\n",
    "android_ts = esta.TimeSeries.get_time_series(UUID(android_id))\n",
    "\n",
    "#time query specification\n",
    "#overall \n",
    "start_ts = arrow.get('2016-10-10 23:35:00', 'YYYY-MM-DD HH:mm:ss').timestamp\n",
    "end_ts = arrow.get('2016-10-11 00:57:00', 'YYYY-MM-DD HH:mm:ss').timestamp\n",
    "\n",
    "time_range = estt.TimeQuery(\"metadata.write_ts\", start_ts, end_ts)\n",
    "android_battery_df = android_ts.get_data_df(\"background/battery\", time_range)\n",
    "\n",
    "\n",
    "# 20min video \n",
    "start_ts0 = arrow.get('2016-10-10 23:35:00', 'YYYY-MM-DD HH:mm:ss').timestamp\n",
    "end_ts0 = arrow.get('2016-10-10 23:55:00', 'YYYY-MM-DD HH:mm:ss').timestamp\n",
    "\n",
    "# 20min standby\n",
    "start_ts1 = arrow.get('2016-10-10 23:55:00', 'YYYY-MM-DD HH:mm:ss').timestamp\n",
    "end_ts1 = arrow.get('2016-10-11 00:15:00', 'YYYY-MM-DD HH:mm:ss').timestamp\n",
    "\n",
    "# 20min video \n",
    "start_ts2 = arrow.get('2016-10-11 00:15:00', 'YYYY-MM-DD HH:mm:ss').timestamp\n",
    "end_ts2 = arrow.get('2016-10-11 00:35:00', 'YYYY-MM-DD HH:mm:ss').timestamp\n",
    "\n",
    "# 30min standby\n",
    "start_ts3 = arrow.get('2016-10-11 00:35:00', 'YYYY-MM-DD HH:mm:ss').timestamp\n",
    "end_ts3 = arrow.get('2016-10-11 00:57:00', 'YYYY-MM-DD HH:mm:ss').timestamp\n",
    "\n",
    "time_list = [(start_ts0, end_ts0), (start_ts1, end_ts1), (start_ts2, end_ts2), (start_ts3, end_ts3)]\n",
    "time_range_list = map(lambda t: estt.TimeQuery(\"metadata.write_ts\", t[0], t[1]), time_list)\n",
    "android_battery_df_list = map(lambda t: android_ts.get_data_df(\"background/battery\", t), time_range_list)"
   ]
  },
  {
   "cell_type": "code",
   "execution_count": 6,
   "metadata": {
    "collapsed": false
   },
   "outputs": [],
   "source": [
    "android_test = android_battery_df_list[0]\n",
    "#android_test[['fmt_time', 'battery_level_pct', 'battery_status']]"
   ]
  },
  {
   "cell_type": "code",
   "execution_count": 7,
   "metadata": {
    "collapsed": false
   },
   "outputs": [],
   "source": [
    "import numpy as np\n",
    "\n",
    "android_xnew = np.arange(start_ts, end_ts, 30) # 30 seconds\n",
    "\n",
    "android_xnew_list = map(lambda t: np.arange(t[0], t[1], 30), time_list)"
   ]
  },
  {
   "cell_type": "code",
   "execution_count": 8,
   "metadata": {
    "collapsed": true
   },
   "outputs": [],
   "source": [
    "import scipy.interpolate as spi\n",
    "import numpy as np\n",
    "\n",
    "def get_interpolated(x, y, xnew):\n",
    "    # fn = spi.interp1d(x=x, y=y, bounds_error=False, fill_value=y.iloc[-1])\n",
    "    fn = spi.interp1d(x=x, y=y, bounds_error=False)\n",
    "    #This class returns a function whose call method uses interpolation to find the value of new points.\n",
    "    return fn(xnew)"
   ]
  },
  {
   "cell_type": "code",
   "execution_count": 9,
   "metadata": {
    "collapsed": true
   },
   "outputs": [],
   "source": [
    "def get_interpolated_df(sensor_df, xnew):\n",
    "    local_dt_new = map(pydt.datetime.fromtimestamp, xnew)\n",
    "    fmt_time_new = map(lambda dt: dt.isoformat(), local_dt_new)\n",
    "    #date.isoformat() Return a string representing the date in ISO 8601 format, ‘YYYY-MM-DD’. \n",
    "    # -For example, date(2002, 12, 4).isoformat() == '2002-12-04'.\n",
    "    interpolated_series = get_interpolated(sensor_df.ts, sensor_df.battery_level_pct, xnew)\n",
    "    # print \"interpolated_series = %s\" % interpolated_series\n",
    "    interpolated_df = pd.DataFrame(data={'ts': xnew, 'metadata_write_ts': xnew, 'local_dt': local_dt_new, 'fmt_time': fmt_time_new, 'battery_level_pct': interpolated_series})\n",
    "    return interpolated_df"
   ]
  },
  {
   "cell_type": "code",
   "execution_count": 21,
   "metadata": {
    "collapsed": false
   },
   "outputs": [],
   "source": [
    "android_battery_interp_df = get_interpolated_df(android_battery_df, android_xnew)\n",
    "\n",
    "android_battery_interp_df_list = map(lambda i: get_interpolated_df(android_battery_df_list[i], android_xnew_list[i]), range(len(android_xnew_list)))"
   ]
  },
  {
   "cell_type": "code",
   "execution_count": 22,
   "metadata": {
    "collapsed": false
   },
   "outputs": [
    {
     "data": {
      "text/html": [
       "<div>\n",
       "<table border=\"1\" class=\"dataframe\">\n",
       "  <thead>\n",
       "    <tr style=\"text-align: right;\">\n",
       "      <th></th>\n",
       "      <th>battery_level_pct</th>\n",
       "      <th>fmt_time</th>\n",
       "    </tr>\n",
       "  </thead>\n",
       "  <tbody>\n",
       "    <tr>\n",
       "      <th>0</th>\n",
       "      <td>67.0</td>\n",
       "      <td>2016-10-10T23:36:17.723000+00:00</td>\n",
       "    </tr>\n",
       "  </tbody>\n",
       "</table>\n",
       "</div>"
      ],
      "text/plain": [
       "   battery_level_pct                          fmt_time\n",
       "0               67.0  2016-10-10T23:36:17.723000+00:00"
      ]
     },
     "execution_count": 22,
     "metadata": {},
     "output_type": "execute_result"
    }
   ],
   "source": [
    "android_battery_df_list[0][['battery_level_pct', 'fmt_time']][:1]"
   ]
  },
  {
   "cell_type": "code",
   "execution_count": 23,
   "metadata": {
    "collapsed": false
   },
   "outputs": [
    {
     "data": {
      "text/html": [
       "<div>\n",
       "<table border=\"1\" class=\"dataframe\">\n",
       "  <thead>\n",
       "    <tr style=\"text-align: right;\">\n",
       "      <th></th>\n",
       "      <th>battery_level_pct</th>\n",
       "      <th>fmt_time</th>\n",
       "      <th>local_dt</th>\n",
       "      <th>metadata_write_ts</th>\n",
       "      <th>ts</th>\n",
       "    </tr>\n",
       "  </thead>\n",
       "  <tbody>\n",
       "    <tr>\n",
       "      <th>0</th>\n",
       "      <td>NaN</td>\n",
       "      <td>2016-10-10T19:35:00</td>\n",
       "      <td>2016-10-10 19:35:00</td>\n",
       "      <td>1476142500</td>\n",
       "      <td>1476142500</td>\n",
       "    </tr>\n",
       "  </tbody>\n",
       "</table>\n",
       "</div>"
      ],
      "text/plain": [
       "   battery_level_pct             fmt_time            local_dt  \\\n",
       "0                NaN  2016-10-10T19:35:00 2016-10-10 19:35:00   \n",
       "\n",
       "   metadata_write_ts          ts  \n",
       "0         1476142500  1476142500  "
      ]
     },
     "execution_count": 23,
     "metadata": {},
     "output_type": "execute_result"
    }
   ],
   "source": [
    "android_battery_interp_df_list[0][:1]"
   ]
  },
  {
   "cell_type": "code",
   "execution_count": 24,
   "metadata": {
    "collapsed": true
   },
   "outputs": [],
   "source": [
    "label = ['1hr', '1hr', '1hr', '1hr']\n",
    "style = ['ob', 'og', 'or', 'oc']\n",
    "style_interp = ['b', 'g', 'r', 'c']\n",
    "\n",
    "title = \"TrackingOn_Stationary_HAFS \"\n",
    "\n",
    "ts_to_dt = lambda t: pydt.datetime.fromtimestamp(t)"
   ]
  },
  {
   "cell_type": "code",
   "execution_count": 17,
   "metadata": {
    "collapsed": false
   },
   "outputs": [
    {
     "data": {
      "image/png": "[encoded data removed]",
      "text/plain": [
       "<matplotlib.figure.Figure at 0x116351bd0>"
      ]
     },
     "metadata": {},
     "output_type": "display_data"
    }
   ],
   "source": [
    "#Android: With interplation on battery data \n",
    "\n",
    "(ifig, iaxes2d) = plt.subplots(ncols=1, nrows=1, figsize=(16,6))\n",
    "iaxes = iaxes2d\n",
    "\n",
    "#ifig.suptitle(title + ' (Android_overlaid)', fontsize=14, fontweight='bold')\n",
    "\n",
    "for i, df in enumerate(android_battery_interp_df_list):\n",
    "    df['hr'] = (df.ts-start_ts0)/3600.0\n",
    "    df['m'] = df.hr*60.0\n",
    "    df.plot(x='m', y='battery_level_pct', style=style_interp[i], ax=iaxes, label=(\"android-%s \" % (i+1))+'('+label[i]+')', legend=True)\n",
    "\n",
    "    \n",
    "for i, df in enumerate(android_battery_df_list):\n",
    "    df['hr'] = (df.ts-start_ts0)/3600.0\n",
    "    df['m'] = df.hr*60.0\n",
    "    df.plot(x='m', y='battery_level_pct', style=style[i], ax=iaxes, legend=False)\n",
    "    iaxes.set_xlabel('Minutes')\n",
    "    iaxes.set_ylabel('Batery Level')\n",
    "    #plt.xticks(np.arange(min(df.dt), max(df.dt), 1))\n"
   ]
  },
  {
   "cell_type": "code",
   "execution_count": 18,
   "metadata": {
    "collapsed": false
   },
   "outputs": [
    {
     "name": "stdout",
     "output_type": "stream",
     "text": [
      "From linear model fitting ...\n",
      "video1: slope=-0.91721828951 %/hr  std_err=0.0100110054058\n",
      "standby1: slope=-0.070930621362 %/hr  std_err=0.00762407794291\n",
      "video2: slope=-0.867265647271 %/hr  std_err=0.00937740127723\n",
      "standby2: slope=-0.0640020834921 %/hr  std_err=0.0104684226504\n",
      "\n",
      "sw ratio of video/standby=13.2249919596\n"
     ]
    }
   ],
   "source": [
    "from scipy import stats\n",
    "\n",
    "label=['video1', 'standby1', 'video2', 'standby2']\n",
    "slope_list=[]\n",
    "print \"From linear model fitting ...\" \n",
    "for i, df in enumerate(android_battery_interp_df_list):\n",
    "    notnull = df.battery_level_pct.notnull()\n",
    "    slope, intercept, r_value, p_value, std_err = stats.linregress(df.m[notnull], df.battery_level_pct[notnull])\n",
    "    print label[i]  + \": slope=\"+str(slope) + \" %/hr  std_err=\"+str(std_err)\n",
    "    slope_list.append(slope)\n",
    "\n",
    "ratio = (slope_list[0]+slope_list[2])/(slope_list[1]+slope_list[3])\n",
    "print \"\\nsw ratio of video/standby=\" + str(ratio)"
   ]
  },
  {
   "cell_type": "code",
   "execution_count": null,
   "metadata": {
    "collapsed": true
   },
   "outputs": [],
   "source": []
  },
  {
   "cell_type": "code",
   "execution_count": null,
   "metadata": {
    "collapsed": true
   },
   "outputs": [],
   "source": []
  },
  {
   "cell_type": "code",
   "execution_count": null,
   "metadata": {
    "collapsed": true
   },
   "outputs": [],
   "source": []
  },
  {
   "cell_type": "code",
   "execution_count": null,
   "metadata": {
    "collapsed": true
   },
   "outputs": [],
   "source": []
  },
  {
   "cell_type": "code",
   "execution_count": 19,
   "metadata": {
    "collapsed": false
   },
   "outputs": [
    {
     "data": {
      "text/plain": [
       "<matplotlib.text.Text at 0x119938750>"
      ]
     },
     "execution_count": 19,
     "metadata": {},
     "output_type": "execute_result"
    },
    {
     "data": {
      "image/png": "[encoded data removed]",
      "text/plain": [
       "<matplotlib.figure.Figure at 0x11992a9d0>"
      ]
     },
     "metadata": {},
     "output_type": "display_data"
    }
   ],
   "source": [
    "#Android: With interplation on battery data \n",
    "\n",
    "(ifig, iaxes2d) = plt.subplots(ncols=1, nrows=1, figsize=(16,6))\n",
    "iaxes = iaxes2d\n",
    "\n",
    "#ifig.suptitle(title + ' (Android_overlaid)', fontsize=14, fontweight='bold')\n",
    "\n",
    "#'''\n",
    "#for i, df in enumerate(android_battery_interp_df_list):\n",
    "df = android_battery_interp_df\n",
    "df['hr'] = (df.ts-start_ts)/3600.0\n",
    "df['m'] = df.hr*60.0\n",
    "df.plot(x='m', y='battery_level_pct', ax=iaxes, legend=True)\n",
    "#'''\n",
    "\n",
    "#'''\n",
    "#for i, df in enumerate(android_battery_df_list):\n",
    "df = android_battery_df\n",
    "df['hr'] = (df.ts-start_ts)/3600.0\n",
    "df['m'] = df.hr*60.0\n",
    "df.plot(x='m', y='battery_level_pct', style='o', ax=iaxes, legend=False)\n",
    "iaxes.set_xlabel('Minutes')\n",
    "iaxes.set_ylabel('Batery Level')\n",
    "#plt.xticks(np.arange(min(df.dt), max(df.dt), 1))\n",
    "#'''\n"
   ]
  },
  {
   "cell_type": "code",
   "execution_count": null,
   "metadata": {
    "collapsed": true
   },
   "outputs": [],
   "source": []
  },
  {
   "cell_type": "code",
   "execution_count": null,
   "metadata": {
    "collapsed": false
   },
   "outputs": [],
   "source": []
  },
  {
   "cell_type": "code",
   "execution_count": null,
   "metadata": {
    "collapsed": true
   },
   "outputs": [],
   "source": []
  }
 ],
 "metadata": {
  "kernelspec": {
   "display_name": "Python 2",
   "language": "python",
   "name": "python2"
  },
  "language_info": {
   "codemirror_mode": {
    "name": "ipython",
    "version": 2
   },
   "file_extension": ".py",
   "mimetype": "text/x-python",
   "name": "python",
   "nbconvert_exporter": "python",
   "pygments_lexer": "ipython2",
   "version": "2.7.11"
  }
 },
 "nbformat": 4,
 "nbformat_minor": 0
}
