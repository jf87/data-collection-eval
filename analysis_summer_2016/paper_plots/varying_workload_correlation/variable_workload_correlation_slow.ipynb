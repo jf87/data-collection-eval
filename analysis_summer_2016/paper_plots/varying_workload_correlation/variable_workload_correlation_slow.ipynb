{
 "cells": [
  {
   "cell_type": "code",
   "execution_count": null,
   "metadata": {
    "collapsed": false
   },
   "outputs": [],
   "source": [
    "from uuid import UUID\n",
    "import sys\n",
    "import logging \n",
    "import arrow\n",
    "import pandas as pd\n",
    "import public_data\n",
    "\n",
    "import matplotlib.pyplot as plt\n",
    "%matplotlib inline\n",
    "import datetime as pydt\n",
    "import emission.core.get_database as edb\n",
    "import emission.storage.timeseries.abstract_timeseries as esta\n",
    "import emission.storage.timeseries.timequery as estt\n",
    "\n",
    "logging.getLogger().setLevel(logging.DEBUG)\n",
    "logger = logging.getLogger()\n",
    "#logger.handlers[0].stream = sys.stdout"
   ]
  },
  {
   "cell_type": "code",
   "execution_count": null,
   "metadata": {
    "collapsed": true
   },
   "outputs": [],
   "source": [
    "#android_ids = [\"70968068-dba5-406c-8e26-09b548da0e4b\", \"6561431f-d4c1-4e0f-9489-ab1190341fb7\",\n",
    "#             \"92cf5840-af59-400c-ab72-bab3dcdf7818\", \"93e8a1cc-321f-4fa9-8c3c-46928668e45d\"]\n",
    "# nexus\n",
    "iphone_ids = [\"079e0f1a-c440-3d7c-b0e7-de160f748e35\", \"95e70727-a04e-3e33-b7fe-34ab19194f8b\"]\n",
    "# Moto\n",
    "android_ids = [ \"fd7b4c2e-2c8b-3bfa-94f0-d1e3ecbd5fb7\", \"3bc0f91f-7660-34a2-b005-5c399598a369\"]"
   ]
  },
  {
   "cell_type": "code",
   "execution_count": null,
   "metadata": {
    "collapsed": false
   },
   "outputs": [],
   "source": [
    "# pull data from the server \n",
    "server_url = 'https://e-mission.eecs.berkeley.edu'\n",
    "\n",
    "#overall\n",
    "start_ts = arrow.get('2016-10-18T20:00:00-07:00').timestamp #time in UTC\n",
    "end_ts = arrow.get('2016-10-19T03:00:00-07:00').timestamp#time in UTC\n",
    "print start_ts, end_ts\n",
    "phone_ids = iphone_ids+android_ids\n",
    "\n",
    "public_data.request_batched_data(server_url, start_ts, end_ts, phone_ids)"
   ]
  },
  {
   "cell_type": "code",
   "execution_count": null,
   "metadata": {
    "collapsed": false
   },
   "outputs": [],
   "source": [
    "logger.setLevel(logging.CRITICAL)\n",
    "\n",
    "android_ts = map(lambda u: esta.TimeSeries.get_time_series(UUID(u)), android_ids)\n",
    "#time query specification\n",
    "time_range = estt.TimeQuery(\"metadata.write_ts\", start_ts, end_ts)\n",
    "android_state_df_list = map(lambda t:t.get_data_df(\"statemachine/transition\", time_range), android_ts)\n",
    "android_battery_df_list = map(lambda t:t.get_data_df(\"background/battery\", time_range), android_ts)\n",
    "\n",
    "\n",
    "iphone_ts = map(lambda u: esta.TimeSeries.get_time_series(UUID(u)), iphone_ids)\n",
    "#time query specification\n",
    "ios_state_df_list = map(lambda t:t.get_data_df(\"statemachine/transition\", time_range), iphone_ts)\n",
    "iphone_battery_df_list = map(lambda t:t.get_data_df(\"background/battery\", time_range), iphone_ts)\n"
   ]
  },
  {
   "cell_type": "code",
   "execution_count": null,
   "metadata": {
    "collapsed": false
   },
   "outputs": [],
   "source": [
    "# iphone_test = iphone_battery_df_list[0]\n",
    "# iphone_test[['fmt_time', 'battery_level_pct', 'battery_status']]"
   ]
  },
  {
   "cell_type": "code",
   "execution_count": null,
   "metadata": {
    "collapsed": true
   },
   "outputs": [],
   "source": [
    "import numpy as np\n",
    "\n",
    "android_xnew = np.arange(start_ts, end_ts, 15 * 60) # 15 minutes\n",
    "# android_xnew2 = np.arange(start_ts2, end_ts2, 15 * 60) # 15 minutes"
   ]
  },
  {
   "cell_type": "code",
   "execution_count": null,
   "metadata": {
    "collapsed": true
   },
   "outputs": [],
   "source": [
    "import scipy.interpolate as spi\n",
    "import numpy as np\n",
    "\n",
    "def get_interpolated(x, y, xnew):\n",
    "    # fn = spi.interp1d(x=x, y=y, bounds_error=False, fill_value=y.iloc[-1])\n",
    "    fn = spi.interp1d(x=x, y=y, bounds_error=False)\n",
    "    return fn(xnew)\n",
    "def get_interpolated_df(sensor_df, xnew):\n",
    "    local_dt_new = map(pydt.datetime.fromtimestamp, xnew)\n",
    "    fmt_time_new = map(lambda dt: dt.isoformat(), local_dt_new)\n",
    "    interpolated_series = get_interpolated(sensor_df.ts, sensor_df.battery_level_pct, xnew)\n",
    "    interpolated_df = pd.DataFrame(data={'ts': xnew, 'metadata_write_ts': xnew, 'local_dt': local_dt_new, 'fmt_time': fmt_time_new, 'battery_level_pct': interpolated_series})\n",
    "    return interpolated_df"
   ]
  },
  {
   "cell_type": "code",
   "execution_count": null,
   "metadata": {
    "collapsed": false
   },
   "outputs": [],
   "source": [
    "android_battery_interp_df_list = map(lambda df: get_interpolated_df(df, android_xnew), android_battery_df_list)\n",
    "iphone_battery_interp_df_list = map(lambda df: get_interpolated_df(df, android_xnew), iphone_battery_df_list)"
   ]
  },
  {
   "cell_type": "code",
   "execution_count": null,
   "metadata": {
    "collapsed": true
   },
   "outputs": [],
   "source": [
    "ig_start_ts = arrow.get('2016-10-17T18:00:00-07:00').timestamp #time in UTC\n",
    "ig_end_ts = arrow.get('2016-10-17T20:30:00-07:00').timestamp#time in UTC"
   ]
  },
  {
   "cell_type": "code",
   "execution_count": null,
   "metadata": {
    "collapsed": false
   },
   "outputs": [],
   "source": [
    "sel_android_battery_df_list = map(lambda df: df[np.logical_not(np.logical_and(df.ts > ig_start_ts, df.ts < ig_end_ts))], android_battery_interp_df_list)\n",
    "sel_iphone_battery_df_list = map(lambda df: df[np.logical_not(np.logical_and(df.ts > ig_start_ts, df.ts < ig_end_ts))], iphone_battery_interp_df_list)"
   ]
  },
  {
   "cell_type": "code",
   "execution_count": null,
   "metadata": {
    "collapsed": false
   },
   "outputs": [],
   "source": [
    "title = \"variable workload (ios and android)\"\n",
    "text = \"1hr,1hr,1hr,1hr\"\n",
    "label = ['\"Nexus6\"-1', '\"Nexus6\"-2']\n",
    "label2 = ['\"iPhone6\"-1', '\"iPhone6\"-2']\n",
    "#style = ['ob', 'og', 'or', 'oc']\n",
    "\n",
    "style_interp = ['b', 'g']\n",
    "style = ['ob', 'og']\n",
    "\n",
    "style_interp2 = ['r', 'c']\n",
    "style2 = ['or', 'oc']\n",
    "\n",
    "ts_to_dt = lambda t: pydt.datetime.fromtimestamp(t)"
   ]
  },
  {
   "cell_type": "code",
   "execution_count": null,
   "metadata": {
    "collapsed": true
   },
   "outputs": [],
   "source": [
    "import matplotlib\n",
    "matplotlib.rcParams.update({'font.size': 18})"
   ]
  },
  {
   "cell_type": "code",
   "execution_count": null,
   "metadata": {
    "collapsed": false
   },
   "outputs": [],
   "source": [
    "#Android: With interplation on battery data \n",
    "\n",
    "(ifig, iaxes2d) = plt.subplots(ncols=1, nrows=1, figsize=(8,4))\n",
    "iaxes = iaxes2d\n",
    "\n",
    "#ifig.suptitle(title + ' (Android_overlaid)', fontsize=14, fontweight='bold')\n",
    "\n",
    "for i, df in enumerate(android_battery_interp_df_list):\n",
    "    print \"About to plot %d\" % i\n",
    "    df['hr'] = (df.ts-start_ts)/3600.0\n",
    "    df['min'] = (df.ts-start_ts)/60.0\n",
    "    df.plot(x='min', y='battery_level_pct', style=style_interp[i], ax=iaxes, label= label[i], legend=True)\n",
    "\n",
    "\n",
    "for i, df in enumerate(android_battery_df_list):\n",
    "    print \"About to plot %d\" % i\n",
    "    df['hr'] = (df.ts-start_ts)/3600.0\n",
    "    df['min'] = (df.ts-start_ts)/60.0\n",
    "    df.plot(x='min', y='battery_level_pct', style=style[i], ax=iaxes,  xlim=(min(df.hr), max(df.hr)), legend=False)\n",
    "    iaxes.set_xlabel('Minutes')\n",
    "    iaxes.set_ylabel('Battery Level')\n",
    "    #plt.xticks(np.arange(min(df.dt), max(df.dt), 1))\n",
    "    \n",
    "\n",
    "for i, df in enumerate(iphone_battery_interp_df_list):\n",
    "    print \"About to plot %d\" % i\n",
    "    df['hr'] = (df.ts-start_ts)/3600.0\n",
    "    df['min'] = (df.ts-start_ts)/60.0\n",
    "    df.plot(x='min', y='battery_level_pct', style=style_interp2[i], ax=iaxes, label=label2[i], legend=True)\n",
    "\n",
    "\n",
    "for i, df in enumerate(iphone_battery_df_list):\n",
    "    print \"About to plot %d\" % i\n",
    "    df['hr'] = (df.ts-start_ts)/3600.0\n",
    "    df['min'] = (df.ts-start_ts)/60.0\n",
    "    df.plot(x='min', y='battery_level_pct', style=style2[i], ax=iaxes,  xlim=(min(df.hr), max(df.hr)), legend=False)\n",
    "    \n",
    "iaxes.set_xlabel('Minutes')\n",
    "iaxes.set_ylabel('Battery % Level')\n",
    "iaxes.vlines([120,240], 0, 100)\n",
    "plt.xticks(np.arange(min(df['min']), max(df['min']), 30))\n",
    "\n",
    "ifig.savefig('../graphs/parallel_validity_variable_workload_slow.pdf')"
   ]
  },
  {
   "cell_type": "code",
   "execution_count": null,
   "metadata": {
    "collapsed": true
   },
   "outputs": [],
   "source": []
  },
  {
   "cell_type": "code",
   "execution_count": null,
   "metadata": {
    "collapsed": true
   },
   "outputs": [],
   "source": []
  }
 ],
 "metadata": {
  "kernelspec": {
   "display_name": "Python 2",
   "language": "python",
   "name": "python2"
  },
  "language_info": {
   "codemirror_mode": {
    "name": "ipython",
    "version": 2
   },
   "file_extension": ".py",
   "mimetype": "text/x-python",
   "name": "python",
   "nbconvert_exporter": "python",
   "pygments_lexer": "ipython2",
   "version": "2.7.11"
  }
 },
 "nbformat": 4,
 "nbformat_minor": 0
}
