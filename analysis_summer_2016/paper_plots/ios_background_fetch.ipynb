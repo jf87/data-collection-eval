{
 "cells": [
  {
   "cell_type": "code",
   "execution_count": 1,
   "metadata": {
    "collapsed": false
   },
   "outputs": [],
   "source": [
    "# TrackingOff_Stationary_3_ios_background_fetch"
   ]
  },
  {
   "cell_type": "code",
   "execution_count": 37,
   "metadata": {
    "collapsed": true
   },
   "outputs": [],
   "source": [
    "import sys\n",
    "import logging\n",
    "from uuid import UUID\n",
    "\n",
    "import emission.core.get_database as edb\n",
    "import pandas as pd\n",
    "import matplotlib.pyplot as plt\n",
    "%matplotlib inline\n",
    "import datetime as pydt\n",
    "import emission.storage.timeseries.abstract_timeseries as esta\n",
    "import emission.storage.timeseries.timequery as estt\n",
    "import public_data\n",
    "\n",
    "\n",
    "logging.getLogger().setLevel(logging.DEBUG)\n",
    "logging.debug(sys.path)\n",
    "\n",
    "iphone_ids = [\"079e0f1a-c440-3d7c-b0e7-de160f748e35\", \"c76a0487-7e5a-3b17-a449-47be666b36f6\", \n",
    "              \"c528bcd2-a88b-3e82-be62-ef4f2396967a\"]"
   ]
  },
  {
   "cell_type": "code",
   "execution_count": 38,
   "metadata": {
    "collapsed": false
   },
   "outputs": [
    {
     "name": "stdout",
     "output_type": "stream",
     "text": [
      "Data loaded to local server!\n"
     ]
    }
   ],
   "source": [
    "# pull data from the server (going to take a few minutes)\n",
    "server_url = 'https://e-mission.eecs.berkeley.edu'\n",
    "\n",
    "dt1 = pydt.datetime(2016, 6, 30, 0, 30) #datetime.datetime(2016, 6, 24, 22, 0)\n",
    "dt2 = pydt.datetime(2016, 7, 1, 9, 0)\n",
    "\n",
    "start_ts = int(dt1.strftime(\"%s\"))\n",
    "end_ts = int(dt2.strftime(\"%s\"))\n",
    "\n",
    "phone_ids = iphone_ids \n",
    "\n",
    "public_data.request_batched_data(server_url, start_ts, end_ts, phone_ids)"
   ]
  },
  {
   "cell_type": "code",
   "execution_count": 39,
   "metadata": {
    "collapsed": true
   },
   "outputs": [],
   "source": [
    "#type: list of emission.storage.timeseries.builtin_timeseries.BuiltinTimeSeries\n",
    "iphone_ts = map(lambda u: esta.TimeSeries.get_time_series(UUID(u)), iphone_ids)\n",
    "\n",
    "#time query specification\n",
    "dt1 = pydt.datetime(2016, 6, 30, 0, 30) #datetime.datetime(2016, 6, 24, 22, 0)\n",
    "dt2 = pydt.datetime(2016, 7, 1, 9, 0)\n",
    "\n",
    "ts1 = int(dt1.strftime(\"%s\"))\n",
    "ts2 = int(dt2.strftime(\"%s\"))\n",
    "\n",
    "time_range = estt.TimeQuery(\"metadata.write_ts\", ts1, ts2)\n",
    "\n",
    "\n",
    "iphone_state_df_list = map(lambda t:t.get_data_df(\"statemachine/transition\", time_range), iphone_ts)\n",
    "iphone_battery_df_list = map(lambda t:t.get_data_df(\"background/battery\", time_range), iphone_ts)"
   ]
  },
  {
   "cell_type": "code",
   "execution_count": 40,
   "metadata": {
    "collapsed": true
   },
   "outputs": [],
   "source": [
    "def get_ranges_df(battery_df, state_df):\n",
    "    #find start_state_ts & end_state_ts for the period when state=3=tracking_stopped\n",
    "    tracking_stopped_df = state_df[state_df.curr_state == 3]\n",
    "    tracking_stopped_df.reset_index(inplace=True)\n",
    "    start_state_ts = tracking_stopped_df.iloc[0].ts\n",
    "    #if len(tracking_stopped_df)==1:\n",
    "    #    end_state_ts = battery_df.iloc[-1].ts\n",
    "    #else:\n",
    "    #    end_state_ts = tracking_stopped_df.iloc[-1].ts\n",
    "    end_state_ts = battery_df.iloc[-1].ts\n",
    "    \n",
    "    discharging_df = battery_df[(battery_df.ts >= start_state_ts) & (battery_df.ts <= end_state_ts) \n",
    "                                  & ((battery_df.battery_status == 1) )]\n",
    "    discharging_df.reset_index(inplace=True)\n",
    "    start_ts = discharging_df.iloc[0].ts\n",
    "    end_ts = discharging_df.iloc[-1].ts\n",
    "    \n",
    "    ranges_df = pd.DataFrame({'start_ts': [start_ts], 'end_ts': [end_ts]})\n",
    "    return ranges_df"
   ]
  },
  {
   "cell_type": "code",
   "execution_count": 41,
   "metadata": {
    "collapsed": true
   },
   "outputs": [],
   "source": [
    "def get_ranges_df_list(battery_df_list, state_df_list):\n",
    "    ranges_df_list = []\n",
    "    length = len(battery_df_list)\n",
    "    for i in range(0, length):\n",
    "        ranges_df_list.append(get_ranges_df(battery_df_list[i], state_df_list[i]))\n",
    "    return ranges_df_list"
   ]
  },
  {
   "cell_type": "code",
   "execution_count": 42,
   "metadata": {
    "collapsed": false
   },
   "outputs": [
    {
     "data": {
      "text/html": [
       "<div>\n",
       "<table border=\"1\" class=\"dataframe\">\n",
       "  <thead>\n",
       "    <tr style=\"text-align: right;\">\n",
       "      <th></th>\n",
       "      <th>end_ts</th>\n",
       "      <th>start_ts</th>\n",
       "    </tr>\n",
       "  </thead>\n",
       "  <tbody>\n",
       "    <tr>\n",
       "      <th>0</th>\n",
       "      <td>1.467365e+09</td>\n",
       "      <td>1.467262e+09</td>\n",
       "    </tr>\n",
       "    <tr>\n",
       "      <th>0</th>\n",
       "      <td>1.467366e+09</td>\n",
       "      <td>1.467261e+09</td>\n",
       "    </tr>\n",
       "    <tr>\n",
       "      <th>0</th>\n",
       "      <td>1.467347e+09</td>\n",
       "      <td>1.467347e+09</td>\n",
       "    </tr>\n",
       "  </tbody>\n",
       "</table>\n",
       "</div>"
      ],
      "text/plain": [
       "         end_ts      start_ts\n",
       "0  1.467365e+09  1.467262e+09\n",
       "0  1.467366e+09  1.467261e+09\n",
       "0  1.467347e+09  1.467347e+09"
      ]
     },
     "execution_count": 42,
     "metadata": {},
     "output_type": "execute_result"
    }
   ],
   "source": [
    "iphone_ranges_df_list = get_ranges_df_list(iphone_battery_df_list, iphone_state_df_list)\n",
    "\n",
    "iphone_concat_ranges_df = pd.concat([iphone_ranges_df_list[0], iphone_ranges_df_list[1], iphone_ranges_df_list[2]])\n",
    "#concat_ranges_df = pd.concat([ranges_df_list[0], ranges_df_list[1], ranges_df_list[2], ranges_df_list[3]])\n",
    "iphone_concat_ranges_df"
   ]
  },
  {
   "cell_type": "code",
   "execution_count": 43,
   "metadata": {
    "collapsed": false
   },
   "outputs": [
    {
     "name": "stdout",
     "output_type": "stream",
     "text": [
      "iphone_start_ts=1467347372.69\n",
      "iphone_end_ts=1467347376.86\n"
     ]
    }
   ],
   "source": [
    "iphone_start_ts = iphone_concat_ranges_df.start_ts.max() \n",
    "iphone_end_ts = iphone_concat_ranges_df.end_ts.min() \n",
    "print 'iphone_start_ts=' + str(iphone_start_ts) + '\\n' + 'iphone_end_ts=' + str(iphone_end_ts)"
   ]
  },
  {
   "cell_type": "code",
   "execution_count": 44,
   "metadata": {
    "collapsed": false
   },
   "outputs": [],
   "source": [
    "import numpy as np\n",
    "\n",
    "iphone_xnew = np.arange(iphone_start_ts, iphone_end_ts, 15 * 60) # 15 minutes"
   ]
  },
  {
   "cell_type": "code",
   "execution_count": 45,
   "metadata": {
    "collapsed": true
   },
   "outputs": [],
   "source": [
    "import scipy.interpolate as spi\n",
    "import numpy as np\n",
    "\n",
    "def get_interpolated(x, y, xnew):\n",
    "    # fn = spi.interp1d(x=x, y=y, bounds_error=False, fill_value=y.iloc[-1])\n",
    "    fn = spi.interp1d(x=x, y=y, bounds_error=False)\n",
    "    #This class returns a function whose call method uses interpolation to find the value of new points.\n",
    "    return fn(xnew)"
   ]
  },
  {
   "cell_type": "code",
   "execution_count": 46,
   "metadata": {
    "collapsed": true
   },
   "outputs": [],
   "source": [
    "def get_interpolated_df(sensor_df, xnew):\n",
    "    local_dt_new = map(pydt.datetime.fromtimestamp, xnew)\n",
    "    fmt_time_new = map(lambda dt: dt.isoformat(), local_dt_new)\n",
    "    #date.isoformat() Return a string representing the date in ISO 8601 format, ‘YYYY-MM-DD’. \n",
    "    # -For example, date(2002, 12, 4).isoformat() == '2002-12-04'.\n",
    "    interpolated_series = get_interpolated(sensor_df.ts, sensor_df.battery_level_pct, xnew)\n",
    "    # print \"interpolated_series = %s\" % interpolated_series\n",
    "    interpolated_df = pd.DataFrame(data={'ts': xnew, 'metadata_write_ts': xnew, 'local_dt': local_dt_new, 'fmt_time': fmt_time_new, 'battery_level_pct': interpolated_series})\n",
    "    return interpolated_df"
   ]
  },
  {
   "cell_type": "code",
   "execution_count": 47,
   "metadata": {
    "collapsed": false
   },
   "outputs": [],
   "source": [
    "iphone_battery_interp_df_list = map(lambda df: get_interpolated_df(df, iphone_xnew), iphone_battery_df_list)"
   ]
  },
  {
   "cell_type": "code",
   "execution_count": 48,
   "metadata": {
    "collapsed": true
   },
   "outputs": [],
   "source": [
    "label = ['10m', '30m', '1h', 'None']"
   ]
  },
  {
   "cell_type": "code",
   "execution_count": 49,
   "metadata": {
    "collapsed": false
   },
   "outputs": [
    {
     "name": "stdout",
     "output_type": "stream",
     "text": [
      "About to plot 0\n",
      "About to plot 1\n",
      "About to plot 2\n"
     ]
    },
    {
     "data": {
      "image/png": "[encoded data removed]",
      "text/plain": [
       "<matplotlib.figure.Figure at 0x11b4cbbd0>"
      ]
     },
     "metadata": {},
     "output_type": "display_data"
    }
   ],
   "source": [
    "ts_to_dt = lambda t: pydt.datetime.fromtimestamp(t)\n",
    "\n",
    "#iOS: No interplation on battery data\n",
    "(afig, aaxes2d) = plt.subplots(ncols=1, nrows=3, sharex=True, sharey=True, figsize=(16,6))\n",
    "aaxes = aaxes2d.flatten()\n",
    "\n",
    "#afig.suptitle('iOS background Fetch', fontsize=14, fontweight='bold')\n",
    "color = ['ob', 'og', 'or', 'oc']\n",
    "c = ['b', 'g', 'r', 'c']\n",
    "\n",
    "dt1 = pydt.datetime(2016, 6, 30, 0, 30) #datetime.datetime(2016, 6, 24, 22, 0)\n",
    "dt2 = pydt.datetime(2016, 7, 1, 9, 0)\n",
    "\n",
    "for i, df in enumerate(iphone_battery_df_list):\n",
    "    print \"About to plot %d\" % i\n",
    "    df['dt'] = df.ts.apply(ts_to_dt)\n",
    "    df['hr'] = (df.ts-iphone_start_ts)/3600.0\n",
    "    df.plot(x='dt', y='battery_level_pct', ylim=(92, 102), xlim=(dt1, dt2), style=color[i], ax=aaxes[i], label=\"iPhone%s \" % (i+1) + '('+label[i]+')')\n",
    "    #df.plot(x='ts', y='battery_level_pct', kind='scatter', ax=aaxes[i], title=\"iphone.%s\" % (i+1), label=label[i], color=c[i])\n",
    "    aaxes[i].set_xlabel('time')\n",
    "    aaxes[i].set_ylabel('battery_level')\n",
    "\n",
    "afig.savefig('graphs/ios_background_fetch.pdf')"
   ]
  },
  {
   "cell_type": "code",
   "execution_count": null,
   "metadata": {
    "collapsed": false
   },
   "outputs": [],
   "source": [
    "#iOS: With interplation on battery data \n",
    "'''\n",
    "(ifig, iaxes2d) = plt.subplots(ncols=1, nrows=1, figsize=(16,6))\n",
    "iaxes = iaxes2d\n",
    "ifig.suptitle('No Tracking + Stationary_Jun_30-1 (iOS_interpolated_background_fetch)', fontsize=14, fontweight='bold')\n",
    "\n",
    "for i, df in enumerate(iphone_battery_interp_df_list):\n",
    "    print \"About to plot %d\" % i\n",
    "    df.plot(x='local_dt', y='battery_level_pct', ax=iaxes, label=(\"iphone-%s \" % (i+1))+'('+label[i]+')')\n",
    "    #df.plot(x='ts', y='battery_level_pct', kind='scatter', ax=iaxes, label=\"iOS-%s\" % i, color=color[i])\n",
    "    #iaxes.set_xlabel('time')\n",
    "    iaxes.set_ylabel('batery_level')\n",
    "'''\n",
    "#ifig.savefig('interp_Jun_30-1_iOS.png')    "
   ]
  },
  {
   "cell_type": "code",
   "execution_count": null,
   "metadata": {
    "collapsed": false
   },
   "outputs": [],
   "source": [
    "'''\n",
    "(ifig, iaxes2d) = plt.subplots(ncols=1, nrows=1, figsize=(16,6))\n",
    "iaxes = iaxes2d\n",
    "color = ['ob', 'og', 'or', 'oc']\n",
    "ifig.suptitle('No Tracking + Stationary_Jun_30-1 (iOS_overlaid)', fontsize=14, fontweight='bold')\n",
    "\n",
    "for i, df in enumerate(iphone_battery_interp_df_list):\n",
    "    print \"About to plot %d\" % i\n",
    "    df.plot(x='local_dt', y='battery_level_pct', ax=iaxes, label=(\"iphone-%s \" % (i+1))+'('+label[i]+')', legend=True)\n",
    "    #df.plot(x='ts', y='battery_level_pct', kind='scatter', ax=iaxes, label=\"iOS-%s\" % i, color=color[i])\n",
    "    #iaxes.set_xlabel('time')\n",
    "    iaxes.set_ylabel('batery_level')\n",
    "\n",
    "for i, df in enumerate(iphone_battery_df_list):\n",
    "    print \"About to plot %d\" % i\n",
    "    df['dt'] = df.ts.apply(ts_to_dt)\n",
    "    df.plot(x='dt', y='battery_level_pct', style=color[i], ax=iaxes, legend=False)\n",
    "    #df.plot(x='ts', y='battery_level_pct', kind='scatter', ax=aaxes[i], title=\"iphone.%s\" % (i+1), label=\"iphone-%s\" % (i+1), color=color[i])\n",
    "    \n",
    "#ifig.savefig('overlaid_Jun_30-1_iOS.png')  \n",
    "'''"
   ]
  },
  {
   "cell_type": "code",
   "execution_count": null,
   "metadata": {
    "collapsed": false
   },
   "outputs": [],
   "source": [
    "#iOS\n",
    "#correlation analysis (tracking_off+stationary)\n",
    "#generate list of iphone battery series \n",
    "iphone_battery_series_list = map(lambda b: b.battery_level_pct, iphone_battery_interp_df_list)\n",
    "print np.corrcoef(iphone_battery_series_list)\n",
    "plt.matshow(np.corrcoef(iphone_battery_series_list), cmap=plt.cm.gray)\n",
    "plt.colorbar()"
   ]
  },
  {
   "cell_type": "code",
   "execution_count": null,
   "metadata": {
    "collapsed": true
   },
   "outputs": [],
   "source": []
  },
  {
   "cell_type": "code",
   "execution_count": null,
   "metadata": {
    "collapsed": true
   },
   "outputs": [],
   "source": []
  }
 ],
 "metadata": {
  "kernelspec": {
   "display_name": "Python 2",
   "language": "python",
   "name": "python2"
  },
  "language_info": {
   "codemirror_mode": {
    "name": "ipython",
    "version": 2
   },
   "file_extension": ".py",
   "mimetype": "text/x-python",
   "name": "python",
   "nbconvert_exporter": "python",
   "pygments_lexer": "ipython2",
   "version": "2.7.11"
  }
 },
 "nbformat": 4,
 "nbformat_minor": 0
}
