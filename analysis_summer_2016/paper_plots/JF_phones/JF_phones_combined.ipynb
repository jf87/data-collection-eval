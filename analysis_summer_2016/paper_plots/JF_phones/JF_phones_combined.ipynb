{
 "cells": [
  {
   "cell_type": "code",
   "execution_count": 1,
   "metadata": {
    "collapsed": false
   },
   "outputs": [],
   "source": [
    "from uuid import UUID\n",
    "import sys\n",
    "import logging \n",
    "import arrow\n",
    "import pandas as pd\n",
    "import public_data\n",
    "\n",
    "import matplotlib.pyplot as plt\n",
    "%matplotlib inline\n",
    "import datetime as pydt\n",
    "import emission.core.get_database as edb\n",
    "import emission.storage.timeseries.abstract_timeseries as esta\n",
    "import emission.storage.timeseries.timequery as estt\n",
    "\n",
    "logging.getLogger().setLevel(logging.DEBUG)\n",
    "logger = logging.getLogger()\n",
    "#logger.handlers[0].stream = sys.stdout"
   ]
  },
  {
   "cell_type": "code",
   "execution_count": 2,
   "metadata": {
    "collapsed": true
   },
   "outputs": [],
   "source": [
    "#android_ids = [\"70968068-dba5-406c-8e26-09b548da0e4b\", \"6561431f-d4c1-4e0f-9489-ab1190341fb7\",\n",
    "#             \"92cf5840-af59-400c-ab72-bab3dcdf7818\", \"93e8a1cc-321f-4fa9-8c3c-46928668e45d\"]\n",
    "# nexus\n",
    "android_ids = [\"70968068-dba5-406c-8e26-09b548da0e4b\", \"6561431f-d4c1-4e0f-9489-ab1190341fb7\"]\n",
    "# Moto\n",
    "android_ids2 = [ \"92cf5840-af59-400c-ab72-bab3dcdf7818\", \"93e8a1cc-321f-4fa9-8c3c-46928668e45d\"]"
   ]
  },
  {
   "cell_type": "code",
   "execution_count": null,
   "metadata": {
    "collapsed": true
   },
   "outputs": [],
   "source": [
    "# pull data from the server \n",
    "server_url = 'https://e-mission.eecs.berkeley.edu'\n",
    "\n",
    "#overall\n",
    "start_ts = arrow.get('2016-09-20T14:14:28.795000+00:00').timestamp #time in UTC\n",
    "end_ts = arrow.get('2016-09-24T04:32:21.525000+00:00').timestamp#time in UTC\n",
    "\n",
    "phone_ids = android_ids+android_ids2\n",
    "\n",
    "public_data.request_batched_data(server_url, start_ts, end_ts, phone_ids)"
   ]
  },
  {
   "cell_type": "code",
   "execution_count": 55,
   "metadata": {
    "collapsed": false
   },
   "outputs": [],
   "source": [
    "logger.setLevel(logging.CRITICAL)\n",
    "\n",
    "#phone 1&2 -> nexus7\n",
    "start_ts = arrow.get('2016-09-23T08:04:48.331000+00:00').timestamp #time in UTC\n",
    "end_ts = arrow.get('2016-09-24T04:32:21.525000+00:00').timestamp #time in UTC\n",
    "\n",
    "#phone 3&4 -> motoE\n",
    "start_ts2 = arrow.get('2016-09-20T14:14:28.795000+00:00').timestamp #time in UTC\n",
    "end_ts2 = arrow.get('2016-09-22T15:45:32.878000+00:00').timestamp #time in UTC\n",
    "\n",
    "\n",
    "android_ts = map(lambda u: esta.TimeSeries.get_time_series(UUID(u)), android_ids)\n",
    "#time query specification\n",
    "time_range = estt.TimeQuery(\"metadata.write_ts\", start_ts, end_ts)\n",
    "android_state_df_list = map(lambda t:t.get_data_df(\"statemachine/transition\", time_range), android_ts)\n",
    "android_battery_df_list = map(lambda t:t.get_data_df(\"background/battery\", time_range), android_ts)\n",
    "\n",
    "\n",
    "android_ts2 = map(lambda u: esta.TimeSeries.get_time_series(UUID(u)), android_ids2)\n",
    "#time query specification\n",
    "time_range2 = estt.TimeQuery(\"metadata.write_ts\", start_ts2, end_ts2)\n",
    "android_state_df_list2 = map(lambda t:t.get_data_df(\"statemachine/transition\", time_range2), android_ts2)\n",
    "android_battery_df_list2 = map(lambda t:t.get_data_df(\"background/battery\", time_range2), android_ts2)\n"
   ]
  },
  {
   "cell_type": "code",
   "execution_count": 56,
   "metadata": {
    "collapsed": false
   },
   "outputs": [],
   "source": [
    "android_test = android_battery_df_list[1]\n",
    "#android_test[['fmt_time', 'battery_level_pct', 'battery_status']][(android_test['battery_level_pct'] == 2.0) | (android_test['battery_level_pct'] == 100.0)]"
   ]
  },
  {
   "cell_type": "code",
   "execution_count": 57,
   "metadata": {
    "collapsed": true
   },
   "outputs": [],
   "source": [
    "import numpy as np\n",
    "\n",
    "android_xnew = np.arange(start_ts, end_ts, 15 * 60) # 15 minutes\n",
    "android_xnew2 = np.arange(start_ts2, end_ts2, 15 * 60) # 15 minutes"
   ]
  },
  {
   "cell_type": "code",
   "execution_count": 58,
   "metadata": {
    "collapsed": true
   },
   "outputs": [],
   "source": [
    "import scipy.interpolate as spi\n",
    "import numpy as np\n",
    "\n",
    "def get_interpolated(x, y, xnew):\n",
    "    # fn = spi.interp1d(x=x, y=y, bounds_error=False, fill_value=y.iloc[-1])\n",
    "    fn = spi.interp1d(x=x, y=y, bounds_error=False)\n",
    "    return fn(xnew)\n",
    "def get_interpolated_df(sensor_df, xnew):\n",
    "    local_dt_new = map(pydt.datetime.fromtimestamp, xnew)\n",
    "    fmt_time_new = map(lambda dt: dt.isoformat(), local_dt_new)\n",
    "    interpolated_series = get_interpolated(sensor_df.ts, sensor_df.battery_level_pct, xnew)\n",
    "    interpolated_df = pd.DataFrame(data={'ts': xnew, 'metadata_write_ts': xnew, 'local_dt': local_dt_new, 'fmt_time': fmt_time_new, 'battery_level_pct': interpolated_series})\n",
    "    return interpolated_df"
   ]
  },
  {
   "cell_type": "code",
   "execution_count": 59,
   "metadata": {
    "collapsed": false
   },
   "outputs": [],
   "source": [
    "android_battery_interp_df_list = map(lambda df: get_interpolated_df(df, android_xnew), android_battery_df_list)\n",
    "android_battery_interp_df_list2 = map(lambda df: get_interpolated_df(df, android_xnew2), android_battery_df_list2)"
   ]
  },
  {
   "cell_type": "code",
   "execution_count": 60,
   "metadata": {
    "collapsed": false
   },
   "outputs": [],
   "source": [
    "title = \"android_jonathan (video playback)\"\n",
    "text = \"1hr,1hr,1hr,1hr\"\n",
    "label = ['\"Nexus7\"-1', '\"Nexus7\"-2']\n",
    "label2 = ['\"Moto E\"-1', '\"Moto E\"-2']\n",
    "#style = ['ob', 'og', 'or', 'oc']\n",
    "\n",
    "style_interp = ['b', 'g']\n",
    "style = ['ob', 'og']\n",
    "\n",
    "style_interp2 = ['r', 'c']\n",
    "style2 = ['or', 'oc']\n",
    "\n",
    "ts_to_dt = lambda t: pydt.datetime.fromtimestamp(t)"
   ]
  },
  {
   "cell_type": "code",
   "execution_count": 61,
   "metadata": {
    "collapsed": false
   },
   "outputs": [
    {
     "name": "stdout",
     "output_type": "stream",
     "text": [
      "About to plot 0\n",
      "About to plot 1\n",
      "About to plot 0\n",
      "About to plot 1\n",
      "About to plot 0\n",
      "About to plot 1\n",
      "About to plot 0\n",
      "About to plot 1\n"
     ]
    },
    {
     "data": {
      "image/png": "[encoded data removed]",
      "text/plain": [
       "<matplotlib.figure.Figure at 0x11a0bea10>"
      ]
     },
     "metadata": {},
     "output_type": "display_data"
    }
   ],
   "source": [
    "#Android: With interplation on battery data \n",
    "\n",
    "(ifig, iaxes2d) = plt.subplots(ncols=1, nrows=1, figsize=(16,6))\n",
    "iaxes = iaxes2d\n",
    "\n",
    "#ifig.suptitle(title + ' (Android_overlaid)', fontsize=14, fontweight='bold')\n",
    "\n",
    "for i, df in enumerate(android_battery_interp_df_list):\n",
    "    print \"About to plot %d\" % i\n",
    "    df['hr'] = (df.ts-start_ts)/3600.0\n",
    "    df.plot(x='hr', y='battery_level_pct', style=style_interp[i], ax=iaxes, label= label[i], legend=True)\n",
    "\n",
    "\n",
    "for i, df in enumerate(android_battery_df_list):\n",
    "    print \"About to plot %d\" % i\n",
    "    df['hr'] = (df.ts-start_ts)/3600.0\n",
    "    df.plot(x='hr', y='battery_level_pct', style=style[i], ax=iaxes,  xlim=(min(df.hr), max(df.hr)), legend=False)\n",
    "    iaxes.set_xlabel('Hours')\n",
    "    iaxes.set_ylabel('Batery Level')\n",
    "    #plt.xticks(np.arange(min(df.dt), max(df.dt), 1))\n",
    "    \n",
    "\n",
    "for i, df in enumerate(android_battery_interp_df_list2):\n",
    "    print \"About to plot %d\" % i\n",
    "    df['hr'] = (df.ts-start_ts2)/3600.0\n",
    "    df.plot(x='hr', y='battery_level_pct', style=style_interp2[i], ax=iaxes, label=label2[i], legend=True)\n",
    "\n",
    "\n",
    "for i, df in enumerate(android_battery_df_list2):\n",
    "    print \"About to plot %d\" % i\n",
    "    df['hr'] = (df.ts-start_ts2)/3600.0\n",
    "    df.plot(x='hr', y='battery_level_pct', style=style2[i], ax=iaxes,  xlim=(min(df.hr), max(df.hr)), legend=False)\n",
    "    iaxes.set_xlabel('Hours')\n",
    "    iaxes.set_ylabel('Batery Percentage Level')\n",
    "    plt.xticks(np.arange(min(df.hr), max(df.hr), 4))\n",
    "\n",
    "\n",
    "ifig.savefig('battery_drain_c_more.pdf')"
   ]
  },
  {
   "cell_type": "code",
   "execution_count": 40,
   "metadata": {
    "collapsed": false
   },
   "outputs": [
    {
     "name": "stdout",
     "output_type": "stream",
     "text": [
      "From linear model fitting ...\n",
      "Nexus 7 1: slope=-0.156200621626 %/hr  std_err=0.0121006687753\n",
      "Nexus 7 2: slope=-0.194758443845 %/hr  std_err=0.021227593698\n",
      "average slope=-0.175479532736 %/hr  std dev=0.0192789111095\n"
     ]
    }
   ],
   "source": [
    "from scipy import stats\n",
    "\n",
    "\n",
    "total=[]\n",
    "print \"From linear model fitting ...\" \n",
    "for i, df in enumerate(android_battery_interp_df_list):\n",
    "    notnull = df.battery_level_pct.notnull()\n",
    "    slope, intercept, r_value, p_value, std_err = stats.linregress(df.hr[notnull], df.battery_level_pct[notnull])\n",
    "    print \"Nexus 7 %d: \" % (i+1)  + \"slope=\"+str(slope) + \" %/hr  std_err=\"+str(std_err)\n",
    "    total.append(slope)\n",
    "\n",
    "print \"average slope=\" + str(sum(total)/len(total)) + \" %/hr  std dev=\" + str(np.std(total))\n",
    "\n"
   ]
  },
  {
   "cell_type": "code",
   "execution_count": 155,
   "metadata": {
    "collapsed": false
   },
   "outputs": [
    {
     "name": "stdout",
     "output_type": "stream",
     "text": [
      "From linear model fitting2 ...\n",
      "Moto E 1: slope=-2.23665426066 %/hr  std_err=0.00828505075308\n",
      "Moto E 2: slope=-2.12472468227 %/hr  std_err=0.00813068218237\n",
      "average slope=-2.18068947147 %/hr  std dev=0.0559647891969\n"
     ]
    }
   ],
   "source": [
    "from scipy import stats\n",
    "\n",
    "\n",
    "total=[]\n",
    "print \"From linear model fitting2 ...\" \n",
    "for i, df in enumerate(android_battery_interp_df_list2):\n",
    "    notnull = df.battery_level_pct.notnull()\n",
    "    slope, intercept, r_value, p_value, std_err = stats.linregress(df.hr[notnull], df.battery_level_pct[notnull])\n",
    "    print \"Moto E %d: \" % (i+1)  + \"slope=\"+str(slope) + \" %/hr  std_err=\"+str(std_err)\n",
    "    total.append(slope)\n",
    "\n",
    "print \"average slope=\" + str(sum(total)/len(total)) + \" %/hr  std dev=\" + str(np.std(total))"
   ]
  },
  {
   "cell_type": "code",
   "execution_count": 136,
   "metadata": {
    "collapsed": true
   },
   "outputs": [],
   "source": [
    "android_ts = map(lambda u: esta.TimeSeries.get_time_series(u), android_ids)\n",
    "android_ts2 = map(lambda u: esta.TimeSeries.get_time_series(u), android_ids2)\n",
    "\n",
    "android_time_range = estt.TimeQuery(\"metadata.write_ts\", start_ts, end_ts)\n",
    "android_time_range2 = estt.TimeQuery(\"metadata.write_ts\", start_ts2, end_ts2)\n",
    "\n",
    "android_battery_df_discharge_list = map(lambda t:t.get_data_df(\"background/battery\", android_time_range), android_ts)\n",
    "android_battery_df_discharge_list2 = map(lambda t:t.get_data_df(\"background/battery\", android_time_range2), android_ts2)"
   ]
  },
  {
   "cell_type": "code",
   "execution_count": 138,
   "metadata": {
    "collapsed": false
   },
   "outputs": [
    {
     "data": {
      "text/html": [
       "<div>\n",
       "<table border=\"1\" class=\"dataframe\">\n",
       "  <thead>\n",
       "    <tr style=\"text-align: right;\">\n",
       "      <th></th>\n",
       "    </tr>\n",
       "  </thead>\n",
       "  <tbody>\n",
       "  </tbody>\n",
       "</table>\n",
       "</div>"
      ],
      "text/plain": [
       "Empty DataFrame\n",
       "Columns: []\n",
       "Index: []"
      ]
     },
     "execution_count": 138,
     "metadata": {},
     "output_type": "execute_result"
    }
   ],
   "source": [
    "android_battery_df_discharge_list[0]"
   ]
  },
  {
   "cell_type": "code",
   "execution_count": 158,
   "metadata": {
    "collapsed": false
   },
   "outputs": [
    {
     "name": "stdout",
     "output_type": "stream",
     "text": [
      "nexus7 0\n",
      "degree1: sum = 4.79751885915 avg = 0.95950377183\n",
      "degree2: sum = 2.2798910141 avg = 0.45597820282\n",
      "degree1: RMSE = 1.0992608228\n",
      "degree2: RMSE = 0.52120661439\n",
      "\n",
      "nexus7 1\n",
      "degree1: sum = 11.1873067317 avg = 1.2430340813\n",
      "degree2: sum = 8.62894248962 avg = 0.958771387736\n",
      "degree1: RMSE = 1.37885062594\n",
      "degree2: RMSE = 1.00863952631\n",
      "\n",
      "1.239\n",
      "0.765\n"
     ]
    }
   ],
   "source": [
    "#android data -> Nexu 7\n",
    "for i, phone in enumerate(android_battery_df_list):\n",
    "    batt = phone\n",
    "    x = batt.metadata_write_ts\n",
    "    y = batt.battery_level_pct\n",
    "\n",
    "    p1 = np.polyfit(x,y,1)\n",
    "    p2 = np.polyfit(x,y,2) # insufficient degree to include sqrt\n",
    "\n",
    "    yfit1 = np.polyval(p1,x)\n",
    "    yfit2 = np.polyval(p2,x)\n",
    "\n",
    "    #plt.plot(x,y, label='data')\n",
    "    #plt.plot(x,yfit1, label='fit')\n",
    "    #plt.plot(x,yfit1-y, label='var')\n",
    "    #plt.plot(x,yfit2, label='fit')\n",
    "    #plt.plot(x,yfit2-y, label='var')\n",
    "\n",
    "    \n",
    "    print 'nexus7 ' + str(i)\n",
    "    print 'degree1: sum = ' + str(sum(abs(yfit1-y))) + ' avg = ' + str(sum(abs(yfit1-y))/len(y))\n",
    "    print 'degree2: sum = ' + str(sum(abs(yfit2-y))) + ' avg = ' + str(sum(abs(yfit2-y))/len(y))\n",
    "\n",
    "    print 'degree1: RMSE = ' + str(np.mean((y - yfit1) ** 2)**0.5)\n",
    "    print 'degree2: RMSE = ' + str(np.mean((y - yfit2) ** 2)**0.5)\n",
    "    \n",
    "    print \n",
    "\n",
    "print str((1.099+1.379)/2)\n",
    "print str((0.521+1.009)/2)"
   ]
  },
  {
   "cell_type": "code",
   "execution_count": 159,
   "metadata": {
    "collapsed": false
   },
   "outputs": [
    {
     "name": "stdout",
     "output_type": "stream",
     "text": [
      "Moto E 0\n",
      "degree1: sum = 39.6785162095 avg = 1.27995213579\n",
      "degree2: sum = 31.0239516163 avg = 1.00077263278\n",
      "degree1: RMSE = 1.66410153957\n",
      "degree2: RMSE = 1.25915978125\n",
      "\n",
      "Moto E 1\n",
      "degree1: sum = 51.4402543232 avg = 1.51294865656\n",
      "degree2: sum = 50.991863817 avg = 1.4997607005\n",
      "degree1: RMSE = 1.72007095211\n",
      "degree2: RMSE = 1.70960028502\n",
      "\n",
      "1.692\n",
      "1.4845\n"
     ]
    }
   ],
   "source": [
    "#android data2 -> Moto E\n",
    "for i, phone in enumerate(android_battery_df_list2):\n",
    "    batt = phone\n",
    "    x = batt.metadata_write_ts\n",
    "    y = batt.battery_level_pct\n",
    "\n",
    "    p1 = np.polyfit(x,y,1)\n",
    "    p2 = np.polyfit(x,y,2) # insufficient degree to include sqrt\n",
    "\n",
    "    yfit1 = np.polyval(p1,x)\n",
    "    yfit2 = np.polyval(p2,x)\n",
    "\n",
    "    #plt.plot(x,y, label='data')\n",
    "    #plt.plot(x,yfit1, label='fit')\n",
    "    #plt.plot(x,yfit1-y, label='var')\n",
    "    #plt.plot(x,yfit2, label='fit')\n",
    "    #plt.plot(x,yfit2-y, label='var')\n",
    "\n",
    "    \n",
    "    print 'Moto E ' + str(i)\n",
    "    print 'degree1: sum = ' + str(sum(abs(yfit1-y))) + ' avg = ' + str(sum(abs(yfit1-y))/len(y))\n",
    "    print 'degree2: sum = ' + str(sum(abs(yfit2-y))) + ' avg = ' + str(sum(abs(yfit2-y))/len(y))\n",
    "\n",
    "    print 'degree1: RMSE = ' + str(np.mean((y - yfit1) ** 2)**0.5)\n",
    "    print 'degree2: RMSE = ' + str(np.mean((y - yfit2) ** 2)**0.5)\n",
    "    print \n",
    "    \n",
    "print str((1.664+1.720)/2)\n",
    "print str((1.259+1.710)/2)"
   ]
  },
  {
   "cell_type": "code",
   "execution_count": null,
   "metadata": {
    "collapsed": true
   },
   "outputs": [],
   "source": []
  },
  {
   "cell_type": "code",
   "execution_count": null,
   "metadata": {
    "collapsed": true
   },
   "outputs": [],
   "source": []
  }
 ],
 "metadata": {
  "kernelspec": {
   "display_name": "Python 2",
   "language": "python",
   "name": "python2"
  },
  "language_info": {
   "codemirror_mode": {
    "name": "ipython",
    "version": 2
   },
   "file_extension": ".py",
   "mimetype": "text/x-python",
   "name": "python",
   "nbconvert_exporter": "python",
   "pygments_lexer": "ipython2",
   "version": "2.7.11"
  }
 },
 "nbformat": 4,
 "nbformat_minor": 0
}
