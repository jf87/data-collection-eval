{
 "cells": [
  {
   "cell_type": "code",
   "execution_count": 55,
   "metadata": {
    "collapsed": false
   },
   "outputs": [
    {
     "data": {
      "text/plain": [
       "\"\\n{ u'uuid': UUID('70968068-dba5-406c-8e26-09b548da0e4b'), u'user_email': u'nexus7itu01@gmail.com'}\\n{ u'uuid': UUID('6561431f-d4c1-4e0f-9489-ab1190341fb7'), u'user_email': u'nexus7itu02@gmail.com'}\\n{ u'uuid': UUID('92cf5840-af59-400c-ab72-bab3dcdf7818'), u'user_email': u'motoeitu01@gmail.com'}\\n{ u'uuid': UUID('93e8a1cc-321f-4fa9-8c3c-46928668e45d'), u'user_email': u'motoeitu02@gmail.com'}\\n\""
      ]
     },
     "execution_count": 55,
     "metadata": {},
     "output_type": "execute_result"
    }
   ],
   "source": [
    "#python request_public_data.py 2016-09-23-00 2016-09-25-00 https://e-mission.eecs.berkeley.edu -v\n",
    "#data of moto E only \n",
    "'''\n",
    "{ u'uuid': UUID('70968068-dba5-406c-8e26-09b548da0e4b'), u'user_email': u'nexus7itu01@gmail.com'}\n",
    "{ u'uuid': UUID('6561431f-d4c1-4e0f-9489-ab1190341fb7'), u'user_email': u'nexus7itu02@gmail.com'}\n",
    "{ u'uuid': UUID('92cf5840-af59-400c-ab72-bab3dcdf7818'), u'user_email': u'motoeitu01@gmail.com'}\n",
    "{ u'uuid': UUID('93e8a1cc-321f-4fa9-8c3c-46928668e45d'), u'user_email': u'motoeitu02@gmail.com'}\n",
    "'''"
   ]
  },
  {
   "cell_type": "code",
   "execution_count": 56,
   "metadata": {
    "collapsed": false
   },
   "outputs": [],
   "source": [
    "from uuid import UUID\n",
    "import sys\n",
    "import logging \n",
    "import arrow\n",
    "import pandas as pd\n",
    "#import public_data\n",
    "\n",
    "import matplotlib.pyplot as plt\n",
    "%matplotlib inline\n",
    "import datetime as pydt\n",
    "import emission.core.get_database as edb\n",
    "import emission.storage.timeseries.abstract_timeseries as esta\n",
    "import emission.storage.timeseries.timequery as estt\n",
    "\n",
    "logging.getLogger().setLevel(logging.DEBUG)\n",
    "logger = logging.getLogger()\n",
    "#logger.handlers[0].stream = sys.stdout"
   ]
  },
  {
   "cell_type": "code",
   "execution_count": 57,
   "metadata": {
    "collapsed": true
   },
   "outputs": [],
   "source": [
    "#\"70968068-dba5-406c-8e26-09b548da0e4b\", \"6561431f-d4c1-4e0f-9489-ab1190341fb7\",\n",
    "android_ids = [\n",
    "             \"92cf5840-af59-400c-ab72-bab3dcdf7818\", \"93e8a1cc-321f-4fa9-8c3c-46928668e45d\"]"
   ]
  },
  {
   "cell_type": "code",
   "execution_count": 58,
   "metadata": {
    "collapsed": false
   },
   "outputs": [],
   "source": [
    "logger.setLevel(logging.CRITICAL)\n",
    "\n",
    "# oct: video playback\n",
    "#start_ts = 1475504400 #2016-10-02-02\n",
    "#end_ts = 1475580800 #2016-10-05-02\n",
    "# sept: location tracking\n",
    "#start_ts = 1474009200 #2016-09-16-03\n",
    "#end_ts = 1474873200 #2016-09-26-03\n",
    "\n",
    "#phone 1&2\n",
    "start_ts = arrow.get('2016-10-14T09:52:01.293000+02:00').timestamp\n",
    "end_ts = arrow.get('2016-10-16T06:32:21.525000+02:00').timestamp\n",
    "\n",
    "#phone 3&4\n",
    "#start_ts = arrow.get('2016-09-20T16:14:28.795000+02:00').timestamp\n",
    "#end_ts = arrow.get('2016-09-22T17:45:32.878000+02:00').timestamp\n",
    "\n",
    "\n",
    "android_ts = map(lambda u: esta.TimeSeries.get_time_series(UUID(u)), android_ids)\n",
    "\n",
    "#time query specification\n",
    "time_range = estt.TimeQuery(\"metadata.write_ts\", start_ts, end_ts)\n",
    "\n",
    "android_state_df_list = map(lambda t:t.get_data_df(\"statemachine/transition\", time_range), android_ts)\n",
    "\n",
    "android_battery_df_list = map(lambda t:t.get_data_df(\"background/battery\", time_range), android_ts)\n",
    "\n",
    "#android_battery_df_list = map(lambda d:d[d.battery_status!=2], android_battery_df_list)"
   ]
  },
  {
   "cell_type": "code",
   "execution_count": 59,
   "metadata": {
    "collapsed": true
   },
   "outputs": [],
   "source": [
    "android_test = android_state_df_list[0]"
   ]
  },
  {
   "cell_type": "code",
   "execution_count": 60,
   "metadata": {
    "collapsed": false
   },
   "outputs": [
    {
     "data": {
      "text/html": [
       "<div>\n",
       "<table border=\"1\" class=\"dataframe\">\n",
       "  <thead>\n",
       "    <tr style=\"text-align: right;\">\n",
       "      <th></th>\n",
       "      <th>fmt_time</th>\n",
       "      <th>battery_level_pct</th>\n",
       "      <th>battery_status</th>\n",
       "    </tr>\n",
       "  </thead>\n",
       "  <tbody>\n",
       "    <tr>\n",
       "      <th>0</th>\n",
       "      <td>2016-10-14T10:42:36.055000+02:00</td>\n",
       "      <td>100.0</td>\n",
       "      <td>1</td>\n",
       "    </tr>\n",
       "  </tbody>\n",
       "</table>\n",
       "</div>"
      ],
      "text/plain": [
       "                           fmt_time  battery_level_pct  battery_status\n",
       "0  2016-10-14T10:42:36.055000+02:00              100.0               1"
      ]
     },
     "execution_count": 60,
     "metadata": {},
     "output_type": "execute_result"
    }
   ],
   "source": [
    "android_test = android_battery_df_list[1]\n",
    "android_test[['fmt_time', 'battery_level_pct', 'battery_status']][(android_test['battery_level_pct'] == 100.0)]"
   ]
  },
  {
   "cell_type": "code",
   "execution_count": 61,
   "metadata": {
    "collapsed": true
   },
   "outputs": [],
   "source": [
    "import numpy as np\n",
    "\n",
    "android_xnew = np.arange(start_ts, end_ts, 15 * 60) # 15 minutes"
   ]
  },
  {
   "cell_type": "code",
   "execution_count": 62,
   "metadata": {
    "collapsed": true
   },
   "outputs": [],
   "source": [
    "import scipy.interpolate as spi\n",
    "import numpy as np\n",
    "\n",
    "def get_interpolated(x, y, xnew):\n",
    "    # fn = spi.interp1d(x=x, y=y, bounds_error=False, fill_value=y.iloc[-1])\n",
    "    fn = spi.interp1d(x=x, y=y, bounds_error=False)\n",
    "    return fn(xnew)\n",
    "def get_interpolated_df(sensor_df, xnew):\n",
    "    local_dt_new = map(pydt.datetime.fromtimestamp, xnew)\n",
    "    fmt_time_new = map(lambda dt: dt.isoformat(), local_dt_new)\n",
    "    interpolated_series = get_interpolated(sensor_df.ts, sensor_df.battery_level_pct, xnew)\n",
    "    interpolated_df = pd.DataFrame(data={'ts': xnew, 'metadata_write_ts': xnew, 'local_dt': local_dt_new, 'fmt_time': fmt_time_new, 'battery_level_pct': interpolated_series})\n",
    "    return interpolated_df"
   ]
  },
  {
   "cell_type": "code",
   "execution_count": 63,
   "metadata": {
    "collapsed": false
   },
   "outputs": [],
   "source": [
    "android_battery_interp_df_list = map(lambda df: get_interpolated_df(df, android_xnew), android_battery_df_list)"
   ]
  },
  {
   "cell_type": "code",
   "execution_count": 67,
   "metadata": {
    "collapsed": false
   },
   "outputs": [],
   "source": [
    "title = \"android_jonathan (video playback)\"\n",
    "#label = ['\"Nexus7\"-1', '\"Nexus7\"-2','\"Moto E\"-1', '\"Moto E\"-2']\n",
    "label = ['\"Moto E\"-1', '\"Moto E\"-2']\n",
    "\n",
    "style = ['ob', 'og', 'or', 'oc']\n",
    "style_interp = ['b', 'g', 'r', 'c']\n",
    "#style_interp = ['b', 'g']\n",
    "#style = ['ob', 'og']\n",
    "\n",
    "ts_to_dt = lambda t: pydt.datetime.fromtimestamp(t)"
   ]
  },
  {
   "cell_type": "code",
   "execution_count": 68,
   "metadata": {
    "collapsed": false
   },
   "outputs": [
    {
     "name": "stdout",
     "output_type": "stream",
     "text": [
      "About to plot 0\n",
      "About to plot 1\n",
      "About to plot 0\n",
      "About to plot 1\n"
     ]
    },
    {
     "data": {
      "image/png": "[encoded data removed]",
      "text/plain": [
       "<matplotlib.figure.Figure at 0x11ae36bd0>"
      ]
     },
     "metadata": {},
     "output_type": "display_data"
    }
   ],
   "source": [
    "#Android: With interplation on battery data \n",
    "\n",
    "(ifig, iaxes2d) = plt.subplots(ncols=1, nrows=1, figsize=(16,6))\n",
    "iaxes = iaxes2d\n",
    "\n",
    "ifig.suptitle(title + ' (Android_overlaid) - 2nd run', fontsize=14, fontweight='bold')\n",
    "#'''\n",
    "for i, df in enumerate(android_battery_interp_df_list):\n",
    "    print \"About to plot %d\" % i\n",
    "    df['hr'] = (df.ts-start_ts)/3600.0\n",
    "    df.plot(x='hr', y='battery_level_pct', style=style_interp[i], ax=iaxes, label=label[i], legend=True)\n",
    "#'''\n",
    "\n",
    "#'''\n",
    "for i, df in enumerate(android_battery_df_list):\n",
    "    print \"About to plot %d\" % i\n",
    "    df['hr'] = (df.ts-start_ts)/3600.0\n",
    "    df.plot(x='hr', y='battery_level_pct', style=style[i], ax=iaxes, legend=False)\n",
    "    iaxes.set_xlabel('Hours')\n",
    "    iaxes.set_ylabel('Batery Level')\n",
    "    #plt.xticks(np.arange(min(df.dt), max(df.dt), 1))\n",
    "#'''\n"
   ]
  },
  {
   "cell_type": "code",
   "execution_count": 69,
   "metadata": {
    "collapsed": false
   },
   "outputs": [
    {
     "name": "stdout",
     "output_type": "stream",
     "text": [
      "From linear model fitting ...\n",
      "android 1: slope=-2.01337950719 %/hr  std_err=0.0036355128218\n",
      "android 2: slope=-1.68226619565 %/hr  std_err=0.00519319531879\n",
      "average slope=-0.923911425708 %/hr  std dev=0.16555665577\n"
     ]
    }
   ],
   "source": [
    "from scipy import stats\n",
    "\n",
    "\n",
    "total=[]\n",
    "print \"From linear model fitting ...\" \n",
    "for i, df in enumerate(android_battery_interp_df_list):\n",
    "    notnull = df.battery_level_pct.notnull()\n",
    "    slope, intercept, r_value, p_value, std_err = stats.linregress(df.hr[notnull], df.battery_level_pct[notnull])\n",
    "    print \"android %d: \" % (i+1)  + \"slope=\"+str(slope) + \" %/hr  std_err=\"+str(std_err)\n",
    "    total.append(slope)\n",
    "\n",
    "print \"average slope=\" + str(sum(total)/4) + \" %/hr  std dev=\" + str(np.std(total))"
   ]
  },
  {
   "cell_type": "code",
   "execution_count": null,
   "metadata": {
    "collapsed": true
   },
   "outputs": [],
   "source": []
  },
  {
   "cell_type": "code",
   "execution_count": null,
   "metadata": {
    "collapsed": true
   },
   "outputs": [],
   "source": []
  }
 ],
 "metadata": {
  "kernelspec": {
   "display_name": "Python 2",
   "language": "python",
   "name": "python2"
  },
  "language_info": {
   "codemirror_mode": {
    "name": "ipython",
    "version": 2
   },
   "file_extension": ".py",
   "mimetype": "text/x-python",
   "name": "python",
   "nbconvert_exporter": "python",
   "pygments_lexer": "ipython2",
   "version": "2.7.11"
  }
 },
 "nbformat": 4,
 "nbformat_minor": 0
}
