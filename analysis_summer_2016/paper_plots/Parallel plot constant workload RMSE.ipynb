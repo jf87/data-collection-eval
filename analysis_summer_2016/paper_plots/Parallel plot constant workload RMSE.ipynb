{
 "cells": [
  {
   "cell_type": "code",
   "execution_count": 1,
   "metadata": {
    "collapsed": true
   },
   "outputs": [],
   "source": [
    "import pandas as pd\n",
    "# pd.options.display.float_format = '${:,.3f}'.format"
   ]
  },
  {
   "cell_type": "code",
   "execution_count": 2,
   "metadata": {
    "collapsed": false
   },
   "outputs": [],
   "source": [
    "parallel_drain_df = pd.DataFrame()\n",
    "parallel_drain_df['iphone-6-linear'] = [0.377,0.377,0.570,0.430]\n",
    "parallel_drain_df['iphone-6-quad'] = [0.275,0.319,0.411,0.367]\n",
    "parallel_drain_df['nexus-6-linear'] = [1.299, 1.264, 0.986, 1.223]\n",
    "parallel_drain_df['nexus-6-quad'] = [0.393, 0.197, 0.431, 0.465]"
   ]
  },
  {
   "cell_type": "code",
   "execution_count": 3,
   "metadata": {
    "collapsed": true
   },
   "outputs": [],
   "source": [
    "parallel_drain_df2 = pd.DataFrame()\n",
    "parallel_drain_df2['nexus-7-linear'] = [1.099, 1.379 ]\n",
    "parallel_drain_df2['nexus-7-quad'] = [0.521, 1.009 ]\n",
    "parallel_drain_df2['moto-e-linear'] = [1.664, 1.720  ]\n",
    "parallel_drain_df2['moto-e-quad'] = [1.259, 1.710 ]"
   ]
  },
  {
   "cell_type": "code",
   "execution_count": 7,
   "metadata": {
    "collapsed": false
   },
   "outputs": [
    {
     "name": "stdout",
     "output_type": "stream",
     "text": [
      "iphone-6-linear\n",
      "0.438 $\\pm$ 0.091\n",
      "iphone-6-quad\n",
      "0.343 $\\pm$ 0.059\n",
      "nexus-6-linear\n",
      "1.193 $\\pm$ 0.141\n",
      "nexus-6-quad\n",
      "0.372 $\\pm$ 0.120\n"
     ]
    }
   ],
   "source": [
    "for col in parallel_drain_df.columns:\n",
    "    print col\n",
    "    print \"%.3f $\\pm$ %.3f\" % (parallel_drain_df[col].mean(), parallel_drain_df[col].std())"
   ]
  },
  {
   "cell_type": "code",
   "execution_count": 8,
   "metadata": {
    "collapsed": false
   },
   "outputs": [
    {
     "name": "stdout",
     "output_type": "stream",
     "text": [
      "nexus-7-linear\n",
      "1.239 $\\pm$ 0.198\n",
      "nexus-7-quad\n",
      "0.765 $\\pm$ 0.345\n",
      "moto-e-linear\n",
      "1.692 $\\pm$ 0.040\n",
      "moto-e-quad\n",
      "1.484 $\\pm$ 0.319\n"
     ]
    }
   ],
   "source": [
    "for col in parallel_drain_df2.columns:\n",
    "    print col\n",
    "    print \"%.3f $\\pm$ %.3f\" % (parallel_drain_df2[col].mean(), parallel_drain_df2[col].std())"
   ]
  },
  {
   "cell_type": "code",
   "execution_count": null,
   "metadata": {
    "collapsed": true
   },
   "outputs": [],
   "source": []
  }
 ],
 "metadata": {
  "kernelspec": {
   "display_name": "Python 2",
   "language": "python",
   "name": "python2"
  },
  "language_info": {
   "codemirror_mode": {
    "name": "ipython",
    "version": 2
   },
   "file_extension": ".py",
   "mimetype": "text/x-python",
   "name": "python",
   "nbconvert_exporter": "python",
   "pygments_lexer": "ipython2",
   "version": "2.7.11"
  }
 },
 "nbformat": 4,
 "nbformat_minor": 0
}
